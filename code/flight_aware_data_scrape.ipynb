{
 "nbformat": 4,
 "nbformat_minor": 2,
 "metadata": {
  "language_info": {
   "name": "python",
   "codemirror_mode": {
    "name": "ipython",
    "version": 3
   },
   "version": "3.7.6-final"
  },
  "orig_nbformat": 2,
  "file_extension": ".py",
  "mimetype": "text/x-python",
  "name": "python",
  "npconvert_exporter": "python",
  "pygments_lexer": "ipython3",
  "version": 3,
  "kernelspec": {
   "name": "python37664bitdsitestconda48790fb83d3f473c989768c98a666b4b",
   "display_name": "Python 3.7.6 64-bit ('DSI_test': conda)"
  }
 },
 "cells": [
  {
   "cell_type": "markdown",
   "metadata": {},
   "source": [
    "# Notes\n",
    "\n",
    "## Flight paths:\n",
    "- **Houston, TX** to **Los Angeles, CA** (IAH - LAX)\n",
    "- **New York City, NY** to **Miami, FL** (JFK - MIA)\n",
    "- **Portland, WA** to **Chicago, IL** (PDX - ORD)\n",
    "\n",
    "## Number of Total Routes\n",
    "- at least 1,000 per route for now (All times in GMC)\n",
    "\n",
    "    -__Times:__\n",
    "\n",
    "        - 0000 hours to 0600 hours\n",
    "\n",
    "        - 0601 hours to 1200 hours\n",
    "\n",
    "        - 1201 hours to 1800 hours\n",
    "\n",
    "        - 1801 hours to 2399 hours\n",
    "\n",
    "    - __Times of the Year:__\n",
    "    \n",
    "        - Try to get every month\n",
    "\n",
    "    - __Times of the Week:__\n",
    "        - Try to get every day. \n",
    "    \n",
    "\n",
    "\n",
    "## Features to Scrape\n",
    "- want aircraft type\n",
    "- want airline flight info\n",
    "- want airline flight \n",
    "- want aircraft type struct\n",
    "-  "
   ]
  },
  {
   "cell_type": "code",
   "execution_count": 1,
   "metadata": {},
   "outputs": [],
   "source": [
    "import sys\n",
    "from suds import null, WebFault\n",
    "from suds.client import Client\n",
    "import logging\n",
    "import json"
   ]
  },
  {
   "cell_type": "code",
   "execution_count": 2,
   "metadata": {},
   "outputs": [],
   "source": [
    "with open('/Users/ChristopherKuzemka/Documents/GA/dsi_11/projects/capstone/env.json') as f:\n",
    "    information = json.load(f)"
   ]
  },
  {
   "cell_type": "code",
   "execution_count": 3,
   "metadata": {},
   "outputs": [
    {
     "data": {
      "text/plain": "dict_keys(['FA_API_KEY', 'FA_USERNAME', 'x-rapidapi-host', 'x-rapidapi-key'])"
     },
     "execution_count": 3,
     "metadata": {},
     "output_type": "execute_result"
    }
   ],
   "source": [
    "information.keys()"
   ]
  },
  {
   "cell_type": "code",
   "execution_count": 4,
   "metadata": {},
   "outputs": [],
   "source": [
    "username = information.get('FA_USERNAME')\n",
    "apiKey = information.get('FA_API_KEY')"
   ]
  },
  {
   "cell_type": "code",
   "execution_count": null,
   "metadata": {},
   "outputs": [],
   "source": []
  }
 ]
}