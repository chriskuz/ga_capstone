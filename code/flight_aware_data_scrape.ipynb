{
 "nbformat": 4,
 "nbformat_minor": 2,
 "metadata": {
  "language_info": {
   "name": "python",
   "codemirror_mode": {
    "name": "ipython",
    "version": 3
   },
   "version": "3.7.6-final"
  },
  "orig_nbformat": 2,
  "file_extension": ".py",
  "mimetype": "text/x-python",
  "name": "python",
  "npconvert_exporter": "python",
  "pygments_lexer": "ipython3",
  "version": 3,
  "kernelspec": {
   "name": "python37664bitdsitestconda48790fb83d3f473c989768c98a666b4b",
   "display_name": "Python 3.7.6 64-bit ('DSI_test': conda)"
  }
 },
 "cells": [
  {
   "cell_type": "markdown",
   "metadata": {},
   "source": [
    "# Notes\n",
    "\n",
    "## Flight paths:\n",
    "- **Houston, TX** to **Los Angeles, CA** (IAH - LAX)\n",
    "- **New York City, NY** to **Miami, FL** (JFK - MIA)\n",
    "- **Portland, WA** to **Chicago, IL** (PDX - ORD)\n",
    "\n",
    "## Number of Total Routes\n",
    "- at least 1,000 per route for now (All times in GMC)\n",
    "\n",
    "    -__Times:__\n",
    "\n",
    "        - 0000 hours to 0600 hours\n",
    "\n",
    "        - 0601 hours to 1200 hours\n",
    "\n",
    "        - 1201 hours to 1800 hours\n",
    "\n",
    "        - 1801 hours to 2399 hours\n",
    "\n",
    "    - __Times of the Year:__\n",
    "    \n",
    "        - Try to get every month\n",
    "\n",
    "    - __Times of the Week:__\n",
    "        - Try to get every day. \n",
    "    \n",
    "## Notes about Data considerations\n",
    "\n",
    "- see what are typical flight times for your paths. you may be limited here. \n",
    "\n",
    "- consistently work with other api to see what you can grab\n",
    "\n",
    "- grab future flights too!\n",
    "\n",
    "- do some division on how many flights you can grab from how many time zonestuff\n",
    "\n",
    "\n",
    "## Features to Scrape\n",
    "- want aircraft type\n",
    "- want airline flight info\n",
    "- want airline flight \n",
    "- want aircraft type struct\n",
    "- want flight struct\n",
    "\n",
    "1 query will generate 15 results. Ex; If you request to see all flight from airport Alpha to Airport Bravo and the search results come back with 5000 flights. To find the pricing estimate you would do the following math. 5000/15 = 333 * $0.0079 = $2.63 (Class 2)"
   ]
  },
  {
   "cell_type": "code",
   "execution_count": 1,
   "metadata": {},
   "outputs": [],
   "source": [
    "import sys\n",
    "from suds import null, WebFault\n",
    "from suds.client import Client\n",
    "import logging\n",
    "import json\n",
    "import pandas as pd\n",
    "import datetime"
   ]
  },
  {
   "cell_type": "code",
   "execution_count": 2,
   "metadata": {},
   "outputs": [],
   "source": [
    "with open('/Users/ChristopherKuzemka/Documents/GA/dsi_11/projects/capstone/env.json') as f:\n",
    "    information = json.load(f)"
   ]
  },
  {
   "cell_type": "code",
   "execution_count": 3,
   "metadata": {},
   "outputs": [
    {
     "data": {
      "text/plain": "dict_keys(['FA_API_KEY', 'FA_USERNAME', 'x-rapidapi-host', 'x-rapidapi-key'])"
     },
     "execution_count": 3,
     "metadata": {},
     "output_type": "execute_result"
    }
   ],
   "source": [
    "information.keys()"
   ]
  },
  {
   "cell_type": "code",
   "execution_count": 4,
   "metadata": {},
   "outputs": [],
   "source": [
    "username = information.get('FA_USERNAME')\n",
    "apiKey = information.get('FA_API_KEY')\n",
    "url = 'http://flightxml.flightaware.com/soap/FlightXML2/wsdl'"
   ]
  },
  {
   "cell_type": "code",
   "execution_count": 5,
   "metadata": {},
   "outputs": [],
   "source": [
    "logging.basicConfig(level=logging.INFO)\n",
    "api = Client(url, username=username, password=apiKey)"
   ]
  },
  {
   "cell_type": "markdown",
   "metadata": {},
   "source": [
    "## Testing playground determining usefulness of API"
   ]
  },
  {
   "cell_type": "code",
   "execution_count": 83,
   "metadata": {},
   "outputs": [
    {
     "data": {
      "text/plain": "(AircraftTypeStruct){\n   manufacturer = \"Boeing\"\n   type = \"747-400\"\n   description = \"quad-jet\"\n }"
     },
     "execution_count": 83,
     "metadata": {},
     "output_type": "execute_result"
    }
   ],
   "source": [
    "#Get Aircraft type  - semi-useful\n",
    "aircraft_type = api.service.AircraftType('B744')\n",
    "aircraft_type"
   ]
  },
  {
   "cell_type": "markdown",
   "metadata": {},
   "source": [
    "# JFK - MIA\n",
    "\n",
    "From [here](https://www.flights.com/flights/new-york-jfk-to-miami-mia/): \"with 3 differnt airlines operating flights between New York and Miami, there are, on average, 2,197 flights per month.. This equates to about 523 flights per week, and 75 flights per day from JFK to MIA. The three airlines are:\n",
    "- American Airlines (Flight AA 2572)\n",
    "\n",
    "- British Airways (Flight BA 1687) \n",
    "\n",
    "- Malaysia Airlines (Flight MH 9446)."
   ]
  },
  {
   "cell_type": "code",
   "execution_count": 7,
   "metadata": {},
   "outputs": [],
   "source": [
    "def make_unix_lists(start_date, end_date, frequency):\n",
    "    created_range = pd.date_range(start = start_date, end = end_date, freq = frequency) #creates a daterange series\n",
    "    list_created_range = list(created_range) #converts such range into a list\n",
    "    unix_floats = [date.to_pydatetime().timestamp() for date in list_created_range] #transforms the daterange list into unix epoch tiimestamps represented as floats\n",
    "    unix_ints = [int(i) for i in unix_floats] #makes the above list as a list of integers\n",
    "    #return unix_ints\n",
    "\n",
    "    #We are doing the below to accomodate a for loop format into another function\n",
    "    start_ints = unix_ints[:-1] #creates a list of all the start dates without last element\n",
    "    end_ints = unix_ints[1:] #creates a list of all the end dates without first element \n",
    "\n",
    "    return start_ints, end_ints"
   ]
  },
  {
   "cell_type": "code",
   "execution_count": 8,
   "metadata": {},
   "outputs": [],
   "source": [
    "start, end = make_unix_lists('5/11/2020', '5/24/2020', '8H')"
   ]
  },
  {
   "cell_type": "code",
   "execution_count": 9,
   "metadata": {},
   "outputs": [
    {
     "data": {
      "text/plain": "[1589169600,\n 1589198400,\n 1589227200,\n 1589256000,\n 1589284800,\n 1589313600,\n 1589342400,\n 1589371200,\n 1589400000,\n 1589428800,\n 1589457600,\n 1589486400,\n 1589515200,\n 1589544000,\n 1589572800,\n 1589601600,\n 1589630400,\n 1589659200,\n 1589688000,\n 1589716800,\n 1589745600,\n 1589774400,\n 1589803200,\n 1589832000,\n 1589860800,\n 1589889600,\n 1589918400,\n 1589947200,\n 1589976000,\n 1590004800,\n 1590033600,\n 1590062400,\n 1590091200,\n 1590120000,\n 1590148800,\n 1590177600,\n 1590206400,\n 1590235200,\n 1590264000]"
     },
     "execution_count": 9,
     "metadata": {},
     "output_type": "execute_result"
    }
   ],
   "source": [
    "start"
   ]
  },
  {
   "cell_type": "code",
   "execution_count": 10,
   "metadata": {},
   "outputs": [],
   "source": [
    "jfk_mia_info = {'AA':'2572',\n",
    "                'BA':'1687',\n",
    "                'MA':'9446'}"
   ]
  },
  {
   "cell_type": "code",
   "execution_count": 18,
   "metadata": {},
   "outputs": [],
   "source": [
    "def make_schedule_dicts(start_input, end_input, frequency_input, origin_input, destination_input, flight_info_input, howMany_input):\n",
    "    start_list, end_list = make_unix_lists(start_input, end_input, frequency_input) #utilizes the unix epoch creation list function\n",
    "    output = [] #instantiates the output column\n",
    "    modified_output = [] #instantiates the modified output lesson\n",
    "    for k in flight_info_input:\n",
    "        for n in range(len(start_list)):\n",
    "            airline_flight_schedules = api.service.AirlineFlightSchedules(startDate = start_list[n], endDate = end_list[n], origin = origin_input, destination = destination_input, airline = k, flightno = flight_info_input.get(k), howMany = howMany_input) #gets the flight schedules information\n",
    "\n",
    "            #Credit for the dict below\n",
    "            #https://stackoverflow.com/questions/17581731/parsing-suds-soap-complex-data-type-into-python-dict\n",
    "            airline_flight_dict = Client.dict(airline_flight_schedules) #converts the above variable to a dictionary\n",
    "            output.append(airline_flight_dict) #appends results to the instantiated output list\n",
    "    \n",
    "    for i in range(len(output)):\n",
    "        try:\n",
    "            modified_output.append(output[i]['data']) #filters the output list to only show meaningful information where actual flights were flows in a timeframes studied\n",
    "        except:\n",
    "            continue #moves on if an error occurs to help ignore any issues with with non existent flight data\n",
    "\n",
    "    return modified_output"
   ]
  },
  {
   "cell_type": "code",
   "execution_count": 65,
   "metadata": {},
   "outputs": [
    {
     "data": {
      "text/plain": "(ArrayOfAirlineFlightScheduleStruct){\n   next_offset = -1\n   data[] = \n      (AirlineFlightScheduleStruct){\n         ident = \"MAS9446\"\n         actual_ident = \"AAL2572\"\n         departuretime = 1589308200\n         arrivaltime = 1589320080\n         origin = \"KJFK\"\n         destination = \"KMIA\"\n         aircrafttype = \"B738\"\n         meal_service = \"Business: Meal / Economy: Meal\"\n         seats_cabin_first = 0\n         seats_cabin_business = 16\n         seats_cabin_coach = 144\n      },\n      (AirlineFlightScheduleStruct){\n         ident = \"AAL2572\"\n         actual_ident = None\n         departuretime = 1589310000\n         arrivaltime = 1589322000\n         origin = \"KJFK\"\n         destination = \"KMIA\"\n         aircrafttype = \"B738\"\n         meal_service = \"Business: No meal / Economy: No meal\"\n         seats_cabin_first = 0\n         seats_cabin_business = 16\n         seats_cabin_coach = 144\n      },\n }"
     },
     "execution_count": 65,
     "metadata": {},
     "output_type": "execute_result"
    }
   ],
   "source": [
    "airline_flight_schedules = api.service.AirlineFlightSchedules(startDate = start[4], endDate = end[4], origin = 'JFK', destination = 'MIA', airline = 'AA', flightno = '2572', howMany = 15)\n",
    "airline_flight_schedules"
   ]
  },
  {
   "cell_type": "code",
   "execution_count": 16,
   "metadata": {},
   "outputs": [],
   "source": [
    "jfk_mia_flight_scheds = make_schedule_dicts('5/11/2020', '5/24/2020', '8H', 'JFK', 'MIA', jfk_mia_info, 15)"
   ]
  },
  {
   "cell_type": "code",
   "execution_count": 66,
   "metadata": {},
   "outputs": [
    {
     "data": {
      "text/plain": "(AirlineFlightScheduleStruct){\n   ident = \"GLO6391\"\n   actual_ident = \"AAL2572\"\n   departuretime = 1590260400\n   arrivaltime = 1590272400\n   origin = \"KJFK\"\n   destination = \"KMIA\"\n   aircrafttype = \"B738\"\n   meal_service = \"Business: No meal / Economy: No meal\"\n   seats_cabin_first = 0\n   seats_cabin_business = 16\n   seats_cabin_coach = 144\n }"
     },
     "execution_count": 66,
     "metadata": {},
     "output_type": "execute_result"
    }
   ],
   "source": [
    "jfk_mia_flight_scheds[-1][1]#['ident]"
   ]
  },
  {
   "cell_type": "code",
   "execution_count": 67,
   "metadata": {},
   "outputs": [
    {
     "data": {
      "text/plain": "(FlightInfoExStruct){\n   next_offset = -1\n   flights[] = \n      (FlightExStruct){\n         faFlightID = \"AAL2572-1590295537-airline-0339\"\n         ident = \"AAL2572\"\n         aircrafttype = \"B738\"\n         filed_ete = \"02:58:00\"\n         filed_time = 1590295537\n         filed_departuretime = 1590518400\n         filed_airspeed_kts = 321\n         filed_airspeed_mach = None\n         filed_altitude = 0\n         route = None\n         actualdeparturetime = 0\n         estimatedarrivaltime = 1590529080\n         actualarrivaltime = 0\n         diverted = None\n         origin = \"KJFK\"\n         destination = \"KMIA\"\n         originName = \"John F Kennedy Intl\"\n         originCity = \"New York, NY\"\n         destinationName = \"Miami Intl\"\n         destinationCity = \"Miami, FL\"\n      },\n      (FlightExStruct){\n         faFlightID = \"AAL2572-1590209159-airline-0537\"\n         ident = \"AAL2572\"\n         aircrafttype = \"B738\"\n         filed_ete = \"02:33:00\"\n         filed_time = 1590209159\n         filed_departuretime = 1590432000\n         filed_airspeed_kts = 373\n         filed_airspeed_mach = None\n         filed_altitude = 400\n         route = None\n         actualdeparturetime = 0\n         estimatedarrivaltime = 1590442440\n         actualarrivaltime = 0\n         diverted = None\n         origin = \"KJFK\"\n         destination = \"KMIA\"\n         originName = \"John F Kennedy Intl\"\n         originCity = \"New York, NY\"\n         destinationName = \"Miami Intl\"\n         destinationCity = \"Miami, FL\"\n      },\n      (FlightExStruct){\n         faFlightID = \"AAL2572-1590122721-airline-0420\"\n         ident = \"AAL2572\"\n         aircrafttype = \"B738\"\n         filed_ete = \"02:40:00\"\n         filed_time = 1590345342\n         filed_departuretime = 1590345600\n         filed_airspeed_kts = 447\n         filed_airspeed_mach = None\n         filed_altitude = 380\n         route = \"WAVEY EMJAY J174 SWL CEBEE WETRO DIW AR22 JORAY HILEY7\"\n         actualdeparturetime = 1590345390\n         estimatedarrivaltime = 1590354360\n         actualarrivaltime = 1590354360\n         diverted = None\n         origin = \"KJFK\"\n         destination = \"KMIA\"\n         originName = \"John F Kennedy Intl\"\n         originCity = \"New York, NY\"\n         destinationName = \"Miami Intl\"\n         destinationCity = \"Miami, FL\"\n      },\n      (FlightExStruct){\n         faFlightID = \"AAL2572-1590036344-airline-0175\"\n         ident = \"AAL2572\"\n         aircrafttype = \"B738\"\n         filed_ete = \"02:55:00\"\n         filed_time = 1590259235\n         filed_departuretime = 1590259200\n         filed_airspeed_kts = 326\n         filed_airspeed_mach = None\n         filed_altitude = 380\n         route = \"WAVEY EMJAY J174 SWL CEBEE WETRO DIW AR22 JORAY HILEY7\"\n         actualdeparturetime = 1590259283\n         estimatedarrivaltime = 1590267480\n         actualarrivaltime = 1590267480\n         diverted = None\n         origin = \"KJFK\"\n         destination = \"KMIA\"\n         originName = \"John F Kennedy Intl\"\n         originCity = \"New York, NY\"\n         destinationName = \"Miami Intl\"\n         destinationCity = \"Miami, FL\"\n      },\n      (FlightExStruct){\n         faFlightID = \"AAL2572-1589949964-airline-0120\"\n         ident = \"AAL2572\"\n         aircrafttype = \"B738\"\n         filed_ete = \"02:40:00\"\n         filed_time = 1590172660\n         filed_departuretime = 1590172800\n         filed_airspeed_kts = 315\n         filed_airspeed_mach = None\n         filed_altitude = 380\n         route = \"WAVEY EMJAY J174 SWL CEBEE WETRO DIW AR22 JORAY HILEY7\"\n         actualdeparturetime = 1590172708\n         estimatedarrivaltime = 1590181620\n         actualarrivaltime = 1590181620\n         diverted = None\n         origin = \"KJFK\"\n         destination = \"KMIA\"\n         originName = \"John F Kennedy Intl\"\n         originCity = \"New York, NY\"\n         destinationName = \"Miami Intl\"\n         destinationCity = \"Miami, FL\"\n      },\n      (FlightExStruct){\n         faFlightID = \"AAL2572-1589863519-airline-0459\"\n         ident = \"AAL2572\"\n         aircrafttype = \"B738\"\n         filed_ete = \"02:40:00\"\n         filed_time = 1590086190\n         filed_departuretime = 1590086400\n         filed_airspeed_kts = 445\n         filed_airspeed_mach = None\n         filed_altitude = 380\n         route = \"WAVEY EMJAY J174 DIW J174 CHS CAKET Q97 KENLL OMN HILEY7\"\n         actualdeparturetime = 1590086238\n         estimatedarrivaltime = 1590095340\n         actualarrivaltime = 1590095340\n         diverted = None\n         origin = \"KJFK\"\n         destination = \"KMIA\"\n         originName = \"John F Kennedy Intl\"\n         originCity = \"New York, NY\"\n         destinationName = \"Miami Intl\"\n         destinationCity = \"Miami, FL\"\n      },\n      (FlightExStruct){\n         faFlightID = \"AAL2572-1589777123-airline-0485\"\n         ident = \"AAL2572\"\n         aircrafttype = \"B738\"\n         filed_ete = \"02:38:00\"\n         filed_time = 1590000375\n         filed_departuretime = 1590000000\n         filed_airspeed_kts = 446\n         filed_airspeed_mach = None\n         filed_altitude = 380\n         route = \"WAVEY EMJAY J174 SWL CEBEE WETRO DIW AR22 JORAY HILEY7\"\n         actualdeparturetime = 1590000407\n         estimatedarrivaltime = 1590009900\n         actualarrivaltime = 1590009900\n         diverted = None\n         origin = \"KJFK\"\n         destination = \"KMIA\"\n         originName = \"John F Kennedy Intl\"\n         originCity = \"New York, NY\"\n         destinationName = \"Miami Intl\"\n         destinationCity = \"Miami, FL\"\n      },\n      (FlightExStruct){\n         faFlightID = \"AAL2572-1589690730-airline-0195\"\n         ident = \"AAL2572\"\n         aircrafttype = \"B738\"\n         filed_ete = \"02:46:00\"\n         filed_time = 1589914315\n         filed_departuretime = 1589913600\n         filed_airspeed_kts = 446\n         filed_airspeed_mach = None\n         filed_altitude = 380\n         route = \"WAVEY EMJAY J174 CHS CAKET Q97 KENLL OMN HILEY7\"\n         actualdeparturetime = 1589914363\n         estimatedarrivaltime = 1589924160\n         actualarrivaltime = 1589924160\n         diverted = None\n         origin = \"KJFK\"\n         destination = \"KMIA\"\n         originName = \"John F Kennedy Intl\"\n         originCity = \"New York, NY\"\n         destinationName = \"Miami Intl\"\n         destinationCity = \"Miami, FL\"\n      },\n      (FlightExStruct){\n         faFlightID = \"AAL2572-1589604351-airline-0000\"\n         ident = \"AAL2572\"\n         aircrafttype = \"B738\"\n         filed_ete = \"02:41:00\"\n         filed_time = 1589827142\n         filed_departuretime = 1589827200\n         filed_airspeed_kts = 459\n         filed_airspeed_mach = None\n         filed_altitude = 320\n         route = \"WAVEY EMJAY J174 SWL CEBEE WETRO DIW AR22 JORAY HILEY7\"\n         actualdeparturetime = 1589827191\n         estimatedarrivaltime = 1589837040\n         actualarrivaltime = 1589837040\n         diverted = None\n         origin = \"KJFK\"\n         destination = \"KMIA\"\n         originName = \"John F Kennedy Intl\"\n         originCity = \"New York, NY\"\n         destinationName = \"Miami Intl\"\n         destinationCity = \"Miami, FL\"\n      },\n      (FlightExStruct){\n         faFlightID = \"AAL2572-1589517913-airline-0098\"\n         ident = \"AAL2572\"\n         aircrafttype = \"B738\"\n         filed_ete = \"02:40:00\"\n         filed_time = 1589741446\n         filed_departuretime = 1589740800\n         filed_airspeed_kts = 448\n         filed_airspeed_mach = None\n         filed_altitude = 380\n         route = \"WAVEY EMJAY J174 ORF J121 CHS CAKET Q97 KENLL OMN HILEY7\"\n         actualdeparturetime = 1589741494\n         estimatedarrivaltime = 1589750762\n         actualarrivaltime = 1589750762\n         diverted = None\n         origin = \"KJFK\"\n         destination = \"KMIA\"\n         originName = \"John F Kennedy Intl\"\n         originCity = \"New York, NY\"\n         destinationName = \"Miami Intl\"\n         destinationCity = \"Miami, FL\"\n      },\n      (FlightExStruct){\n         faFlightID = \"AAL2572-1589431536-airline-0436\"\n         ident = \"AAL2572\"\n         aircrafttype = \"B738\"\n         filed_ete = \"02:40:00\"\n         filed_time = 1589654365\n         filed_departuretime = 1589654400\n         filed_airspeed_kts = 465\n         filed_airspeed_mach = None\n         filed_altitude = 300\n         route = \"WAVEY EMJAY J174 ZIZZI J174 ORF J121 CHS CAKET Q97 KENLL OMN HILEY7\"\n         actualdeparturetime = 1589654430\n         estimatedarrivaltime = 1589663460\n         actualarrivaltime = 1589663460\n         diverted = None\n         origin = \"KJFK\"\n         destination = \"KMIA\"\n         originName = \"John F Kennedy Intl\"\n         originCity = \"New York, NY\"\n         destinationName = \"Miami Intl\"\n         destinationCity = \"Miami, FL\"\n      },\n      (FlightExStruct){\n         faFlightID = \"AAL2572-1589345159-airline-0102\"\n         ident = \"AAL2572\"\n         aircrafttype = \"B738\"\n         filed_ete = \"02:56:00\"\n         filed_time = 1589567883\n         filed_departuretime = 1589568000\n         filed_airspeed_kts = 324\n         filed_airspeed_mach = None\n         filed_altitude = 380\n         route = \"WAVEY EMJAY J174 SWL CEBEE WETRO DIW AR22 SEELO AR22 JORAY HILEY7\"\n         actualdeparturetime = 1589567931\n         estimatedarrivaltime = 1589576820\n         actualarrivaltime = 1589576820\n         diverted = None\n         origin = \"KJFK\"\n         destination = \"KMIA\"\n         originName = \"John F Kennedy Intl\"\n         originCity = \"New York, NY\"\n         destinationName = \"Miami Intl\"\n         destinationCity = \"Miami, FL\"\n      },\n      (FlightExStruct){\n         faFlightID = \"AAL2572-1589258723-airline-0379\"\n         ident = \"AAL2572\"\n         aircrafttype = \"B738\"\n         filed_ete = \"02:51:00\"\n         filed_time = 1589481174\n         filed_departuretime = 1589481600\n         filed_airspeed_kts = 334\n         filed_airspeed_mach = None\n         filed_altitude = 380\n         route = \"WAVEY EMJAY J174 SWL CEBEE WETRO DIW AR22 JORAY HILEY7\"\n         actualdeparturetime = 1589481222\n         estimatedarrivaltime = 1589489820\n         actualarrivaltime = 1589489820\n         diverted = None\n         origin = \"KJFK\"\n         destination = \"KMIA\"\n         originName = \"John F Kennedy Intl\"\n         originCity = \"New York, NY\"\n         destinationName = \"Miami Intl\"\n         destinationCity = \"Miami, FL\"\n      },\n      (FlightExStruct){\n         faFlightID = \"AAL2572-1589172347-airline-0416\"\n         ident = \"AAL2572\"\n         aircrafttype = \"B738\"\n         filed_ete = \"02:34:00\"\n         filed_time = 1589396184\n         filed_departuretime = 1589395200\n         filed_airspeed_kts = 448\n         filed_airspeed_mach = None\n         filed_altitude = 360\n         route = \"WAVEY EMJAY J174 SWL CEBEE WETRO DIW AR22 JORAY HILEY7\"\n         actualdeparturetime = 1589396232\n         estimatedarrivaltime = 1589405160\n         actualarrivaltime = 1589405160\n         diverted = None\n         origin = \"KJFK\"\n         destination = \"KMIA\"\n         originName = \"John F Kennedy Intl\"\n         originCity = \"New York, NY\"\n         destinationName = \"Miami Intl\"\n         destinationCity = \"Miami, FL\"\n      },\n }"
     },
     "execution_count": 67,
     "metadata": {},
     "output_type": "execute_result"
    }
   ],
   "source": [
    "flight_info_ex = api.service.FlightInfoEx(ident = jfk_mia_flight_scheds[0][1]['ident'], howMany = 15, offset = 0)\n",
    "flight_info_ex"
   ]
  },
  {
   "cell_type": "code",
   "execution_count": 47,
   "metadata": {},
   "outputs": [],
   "source": [
    "flight_inf = Client.dict(flight_info_ex)"
   ]
  },
  {
   "cell_type": "code",
   "execution_count": 52,
   "metadata": {},
   "outputs": [
    {
     "data": {
      "text/plain": "AAL2572-1590295537-airline-0339"
     },
     "execution_count": 52,
     "metadata": {},
     "output_type": "execute_result"
    }
   ],
   "source": [
    "flight_inf['flights'][0]['faFlightID']"
   ]
  },
  {
   "cell_type": "code",
   "execution_count": 71,
   "metadata": {},
   "outputs": [
    {
     "name": "stderr",
     "output_type": "stream",
     "text": "ERROR:suds.client:<suds.sax.document.Document object at 0x1182a3710>\n"
    },
    {
     "ename": "WebFault",
     "evalue": "Server raised fault: 'NO_DATA no data available'",
     "output_type": "error",
     "traceback": [
      "\u001b[0;31m---------------------------------------------------------------------------\u001b[0m",
      "\u001b[0;31mHTTPError\u001b[0m                                 Traceback (most recent call last)",
      "\u001b[0;32m~/opt/anaconda3/envs/DSI_test/lib/python3.7/site-packages/suds/transport/http.py\u001b[0m in \u001b[0;36msend\u001b[0;34m(self, request)\u001b[0m\n\u001b[1;32m     81\u001b[0m             \u001b[0mlog\u001b[0m\u001b[0;34m.\u001b[0m\u001b[0mdebug\u001b[0m\u001b[0;34m(\u001b[0m\u001b[0;34m'sending:\\n%s'\u001b[0m\u001b[0;34m,\u001b[0m \u001b[0mrequest\u001b[0m\u001b[0;34m)\u001b[0m\u001b[0;34m\u001b[0m\u001b[0;34m\u001b[0m\u001b[0m\n\u001b[0;32m---> 82\u001b[0;31m             \u001b[0mfp\u001b[0m \u001b[0;34m=\u001b[0m \u001b[0mself\u001b[0m\u001b[0;34m.\u001b[0m\u001b[0mu2open\u001b[0m\u001b[0;34m(\u001b[0m\u001b[0mu2request\u001b[0m\u001b[0;34m)\u001b[0m\u001b[0;34m\u001b[0m\u001b[0;34m\u001b[0m\u001b[0m\n\u001b[0m\u001b[1;32m     83\u001b[0m             \u001b[0mself\u001b[0m\u001b[0;34m.\u001b[0m\u001b[0mgetcookies\u001b[0m\u001b[0;34m(\u001b[0m\u001b[0mfp\u001b[0m\u001b[0;34m,\u001b[0m \u001b[0mu2request\u001b[0m\u001b[0;34m)\u001b[0m\u001b[0;34m\u001b[0m\u001b[0;34m\u001b[0m\u001b[0m\n",
      "\u001b[0;32m~/opt/anaconda3/envs/DSI_test/lib/python3.7/site-packages/suds/transport/http.py\u001b[0m in \u001b[0;36mu2open\u001b[0;34m(self, u2request)\u001b[0m\n\u001b[1;32m    131\u001b[0m             \u001b[0;32mreturn\u001b[0m \u001b[0murl\u001b[0m\u001b[0;34m.\u001b[0m\u001b[0mopen\u001b[0m\u001b[0;34m(\u001b[0m\u001b[0mu2request\u001b[0m\u001b[0;34m)\u001b[0m\u001b[0;34m\u001b[0m\u001b[0;34m\u001b[0m\u001b[0m\n\u001b[0;32m--> 132\u001b[0;31m         \u001b[0;32mreturn\u001b[0m \u001b[0murl\u001b[0m\u001b[0;34m.\u001b[0m\u001b[0mopen\u001b[0m\u001b[0;34m(\u001b[0m\u001b[0mu2request\u001b[0m\u001b[0;34m,\u001b[0m \u001b[0mtimeout\u001b[0m\u001b[0;34m=\u001b[0m\u001b[0mtm\u001b[0m\u001b[0;34m)\u001b[0m\u001b[0;34m\u001b[0m\u001b[0;34m\u001b[0m\u001b[0m\n\u001b[0m\u001b[1;32m    133\u001b[0m \u001b[0;34m\u001b[0m\u001b[0m\n",
      "\u001b[0;32m~/opt/anaconda3/envs/DSI_test/lib/python3.7/urllib/request.py\u001b[0m in \u001b[0;36mopen\u001b[0;34m(self, fullurl, data, timeout)\u001b[0m\n\u001b[1;32m    530\u001b[0m             \u001b[0mmeth\u001b[0m \u001b[0;34m=\u001b[0m \u001b[0mgetattr\u001b[0m\u001b[0;34m(\u001b[0m\u001b[0mprocessor\u001b[0m\u001b[0;34m,\u001b[0m \u001b[0mmeth_name\u001b[0m\u001b[0;34m)\u001b[0m\u001b[0;34m\u001b[0m\u001b[0;34m\u001b[0m\u001b[0m\n\u001b[0;32m--> 531\u001b[0;31m             \u001b[0mresponse\u001b[0m \u001b[0;34m=\u001b[0m \u001b[0mmeth\u001b[0m\u001b[0;34m(\u001b[0m\u001b[0mreq\u001b[0m\u001b[0;34m,\u001b[0m \u001b[0mresponse\u001b[0m\u001b[0;34m)\u001b[0m\u001b[0;34m\u001b[0m\u001b[0;34m\u001b[0m\u001b[0m\n\u001b[0m\u001b[1;32m    532\u001b[0m \u001b[0;34m\u001b[0m\u001b[0m\n",
      "\u001b[0;32m~/opt/anaconda3/envs/DSI_test/lib/python3.7/urllib/request.py\u001b[0m in \u001b[0;36mhttp_response\u001b[0;34m(self, request, response)\u001b[0m\n\u001b[1;32m    640\u001b[0m             response = self.parent.error(\n\u001b[0;32m--> 641\u001b[0;31m                 'http', request, response, code, msg, hdrs)\n\u001b[0m\u001b[1;32m    642\u001b[0m \u001b[0;34m\u001b[0m\u001b[0m\n",
      "\u001b[0;32m~/opt/anaconda3/envs/DSI_test/lib/python3.7/urllib/request.py\u001b[0m in \u001b[0;36merror\u001b[0;34m(self, proto, *args)\u001b[0m\n\u001b[1;32m    562\u001b[0m         \u001b[0margs\u001b[0m \u001b[0;34m=\u001b[0m \u001b[0;34m(\u001b[0m\u001b[0mdict\u001b[0m\u001b[0;34m,\u001b[0m \u001b[0mproto\u001b[0m\u001b[0;34m,\u001b[0m \u001b[0mmeth_name\u001b[0m\u001b[0;34m)\u001b[0m \u001b[0;34m+\u001b[0m \u001b[0margs\u001b[0m\u001b[0;34m\u001b[0m\u001b[0;34m\u001b[0m\u001b[0m\n\u001b[0;32m--> 563\u001b[0;31m         \u001b[0mresult\u001b[0m \u001b[0;34m=\u001b[0m \u001b[0mself\u001b[0m\u001b[0;34m.\u001b[0m\u001b[0m_call_chain\u001b[0m\u001b[0;34m(\u001b[0m\u001b[0;34m*\u001b[0m\u001b[0margs\u001b[0m\u001b[0;34m)\u001b[0m\u001b[0;34m\u001b[0m\u001b[0;34m\u001b[0m\u001b[0m\n\u001b[0m\u001b[1;32m    564\u001b[0m         \u001b[0;32mif\u001b[0m \u001b[0mresult\u001b[0m\u001b[0;34m:\u001b[0m\u001b[0;34m\u001b[0m\u001b[0;34m\u001b[0m\u001b[0m\n",
      "\u001b[0;32m~/opt/anaconda3/envs/DSI_test/lib/python3.7/urllib/request.py\u001b[0m in \u001b[0;36m_call_chain\u001b[0;34m(self, chain, kind, meth_name, *args)\u001b[0m\n\u001b[1;32m    502\u001b[0m             \u001b[0mfunc\u001b[0m \u001b[0;34m=\u001b[0m \u001b[0mgetattr\u001b[0m\u001b[0;34m(\u001b[0m\u001b[0mhandler\u001b[0m\u001b[0;34m,\u001b[0m \u001b[0mmeth_name\u001b[0m\u001b[0;34m)\u001b[0m\u001b[0;34m\u001b[0m\u001b[0;34m\u001b[0m\u001b[0m\n\u001b[0;32m--> 503\u001b[0;31m             \u001b[0mresult\u001b[0m \u001b[0;34m=\u001b[0m \u001b[0mfunc\u001b[0m\u001b[0;34m(\u001b[0m\u001b[0;34m*\u001b[0m\u001b[0margs\u001b[0m\u001b[0;34m)\u001b[0m\u001b[0;34m\u001b[0m\u001b[0;34m\u001b[0m\u001b[0m\n\u001b[0m\u001b[1;32m    504\u001b[0m             \u001b[0;32mif\u001b[0m \u001b[0mresult\u001b[0m \u001b[0;32mis\u001b[0m \u001b[0;32mnot\u001b[0m \u001b[0;32mNone\u001b[0m\u001b[0;34m:\u001b[0m\u001b[0;34m\u001b[0m\u001b[0;34m\u001b[0m\u001b[0m\n",
      "\u001b[0;32m~/opt/anaconda3/envs/DSI_test/lib/python3.7/urllib/request.py\u001b[0m in \u001b[0;36mhttp_error_401\u001b[0;34m(self, req, fp, code, msg, headers)\u001b[0m\n\u001b[1;32m   1026\u001b[0m         response = self.http_error_auth_reqed('www-authenticate',\n\u001b[0;32m-> 1027\u001b[0;31m                                           url, req, headers)\n\u001b[0m\u001b[1;32m   1028\u001b[0m         \u001b[0;32mreturn\u001b[0m \u001b[0mresponse\u001b[0m\u001b[0;34m\u001b[0m\u001b[0;34m\u001b[0m\u001b[0m\n",
      "\u001b[0;32m~/opt/anaconda3/envs/DSI_test/lib/python3.7/urllib/request.py\u001b[0m in \u001b[0;36mhttp_error_auth_reqed\u001b[0;34m(self, authreq, host, req, headers)\u001b[0m\n\u001b[1;32m    979\u001b[0m                     \u001b[0;32mif\u001b[0m \u001b[0mscheme\u001b[0m\u001b[0;34m.\u001b[0m\u001b[0mlower\u001b[0m\u001b[0;34m(\u001b[0m\u001b[0;34m)\u001b[0m \u001b[0;34m==\u001b[0m \u001b[0;34m'basic'\u001b[0m\u001b[0;34m:\u001b[0m\u001b[0;34m\u001b[0m\u001b[0;34m\u001b[0m\u001b[0m\n\u001b[0;32m--> 980\u001b[0;31m                         \u001b[0;32mreturn\u001b[0m \u001b[0mself\u001b[0m\u001b[0;34m.\u001b[0m\u001b[0mretry_http_basic_auth\u001b[0m\u001b[0;34m(\u001b[0m\u001b[0mhost\u001b[0m\u001b[0;34m,\u001b[0m \u001b[0mreq\u001b[0m\u001b[0;34m,\u001b[0m \u001b[0mrealm\u001b[0m\u001b[0;34m)\u001b[0m\u001b[0;34m\u001b[0m\u001b[0;34m\u001b[0m\u001b[0m\n\u001b[0m\u001b[1;32m    981\u001b[0m \u001b[0;34m\u001b[0m\u001b[0m\n",
      "\u001b[0;32m~/opt/anaconda3/envs/DSI_test/lib/python3.7/urllib/request.py\u001b[0m in \u001b[0;36mretry_http_basic_auth\u001b[0;34m(self, host, req, realm)\u001b[0m\n\u001b[1;32m    989\u001b[0m             \u001b[0mreq\u001b[0m\u001b[0;34m.\u001b[0m\u001b[0madd_unredirected_header\u001b[0m\u001b[0;34m(\u001b[0m\u001b[0mself\u001b[0m\u001b[0;34m.\u001b[0m\u001b[0mauth_header\u001b[0m\u001b[0;34m,\u001b[0m \u001b[0mauth\u001b[0m\u001b[0;34m)\u001b[0m\u001b[0;34m\u001b[0m\u001b[0;34m\u001b[0m\u001b[0m\n\u001b[0;32m--> 990\u001b[0;31m             \u001b[0;32mreturn\u001b[0m \u001b[0mself\u001b[0m\u001b[0;34m.\u001b[0m\u001b[0mparent\u001b[0m\u001b[0;34m.\u001b[0m\u001b[0mopen\u001b[0m\u001b[0;34m(\u001b[0m\u001b[0mreq\u001b[0m\u001b[0;34m,\u001b[0m \u001b[0mtimeout\u001b[0m\u001b[0;34m=\u001b[0m\u001b[0mreq\u001b[0m\u001b[0;34m.\u001b[0m\u001b[0mtimeout\u001b[0m\u001b[0;34m)\u001b[0m\u001b[0;34m\u001b[0m\u001b[0;34m\u001b[0m\u001b[0m\n\u001b[0m\u001b[1;32m    991\u001b[0m         \u001b[0;32melse\u001b[0m\u001b[0;34m:\u001b[0m\u001b[0;34m\u001b[0m\u001b[0;34m\u001b[0m\u001b[0m\n",
      "\u001b[0;32m~/opt/anaconda3/envs/DSI_test/lib/python3.7/urllib/request.py\u001b[0m in \u001b[0;36mopen\u001b[0;34m(self, fullurl, data, timeout)\u001b[0m\n\u001b[1;32m    530\u001b[0m             \u001b[0mmeth\u001b[0m \u001b[0;34m=\u001b[0m \u001b[0mgetattr\u001b[0m\u001b[0;34m(\u001b[0m\u001b[0mprocessor\u001b[0m\u001b[0;34m,\u001b[0m \u001b[0mmeth_name\u001b[0m\u001b[0;34m)\u001b[0m\u001b[0;34m\u001b[0m\u001b[0;34m\u001b[0m\u001b[0m\n\u001b[0;32m--> 531\u001b[0;31m             \u001b[0mresponse\u001b[0m \u001b[0;34m=\u001b[0m \u001b[0mmeth\u001b[0m\u001b[0;34m(\u001b[0m\u001b[0mreq\u001b[0m\u001b[0;34m,\u001b[0m \u001b[0mresponse\u001b[0m\u001b[0;34m)\u001b[0m\u001b[0;34m\u001b[0m\u001b[0;34m\u001b[0m\u001b[0m\n\u001b[0m\u001b[1;32m    532\u001b[0m \u001b[0;34m\u001b[0m\u001b[0m\n",
      "\u001b[0;32m~/opt/anaconda3/envs/DSI_test/lib/python3.7/urllib/request.py\u001b[0m in \u001b[0;36mhttp_response\u001b[0;34m(self, request, response)\u001b[0m\n\u001b[1;32m    640\u001b[0m             response = self.parent.error(\n\u001b[0;32m--> 641\u001b[0;31m                 'http', request, response, code, msg, hdrs)\n\u001b[0m\u001b[1;32m    642\u001b[0m \u001b[0;34m\u001b[0m\u001b[0m\n",
      "\u001b[0;32m~/opt/anaconda3/envs/DSI_test/lib/python3.7/urllib/request.py\u001b[0m in \u001b[0;36merror\u001b[0;34m(self, proto, *args)\u001b[0m\n\u001b[1;32m    568\u001b[0m             \u001b[0margs\u001b[0m \u001b[0;34m=\u001b[0m \u001b[0;34m(\u001b[0m\u001b[0mdict\u001b[0m\u001b[0;34m,\u001b[0m \u001b[0;34m'default'\u001b[0m\u001b[0;34m,\u001b[0m \u001b[0;34m'http_error_default'\u001b[0m\u001b[0;34m)\u001b[0m \u001b[0;34m+\u001b[0m \u001b[0morig_args\u001b[0m\u001b[0;34m\u001b[0m\u001b[0;34m\u001b[0m\u001b[0m\n\u001b[0;32m--> 569\u001b[0;31m             \u001b[0;32mreturn\u001b[0m \u001b[0mself\u001b[0m\u001b[0;34m.\u001b[0m\u001b[0m_call_chain\u001b[0m\u001b[0;34m(\u001b[0m\u001b[0;34m*\u001b[0m\u001b[0margs\u001b[0m\u001b[0;34m)\u001b[0m\u001b[0;34m\u001b[0m\u001b[0;34m\u001b[0m\u001b[0m\n\u001b[0m\u001b[1;32m    570\u001b[0m \u001b[0;34m\u001b[0m\u001b[0m\n",
      "\u001b[0;32m~/opt/anaconda3/envs/DSI_test/lib/python3.7/urllib/request.py\u001b[0m in \u001b[0;36m_call_chain\u001b[0;34m(self, chain, kind, meth_name, *args)\u001b[0m\n\u001b[1;32m    502\u001b[0m             \u001b[0mfunc\u001b[0m \u001b[0;34m=\u001b[0m \u001b[0mgetattr\u001b[0m\u001b[0;34m(\u001b[0m\u001b[0mhandler\u001b[0m\u001b[0;34m,\u001b[0m \u001b[0mmeth_name\u001b[0m\u001b[0;34m)\u001b[0m\u001b[0;34m\u001b[0m\u001b[0;34m\u001b[0m\u001b[0m\n\u001b[0;32m--> 503\u001b[0;31m             \u001b[0mresult\u001b[0m \u001b[0;34m=\u001b[0m \u001b[0mfunc\u001b[0m\u001b[0;34m(\u001b[0m\u001b[0;34m*\u001b[0m\u001b[0margs\u001b[0m\u001b[0;34m)\u001b[0m\u001b[0;34m\u001b[0m\u001b[0;34m\u001b[0m\u001b[0m\n\u001b[0m\u001b[1;32m    504\u001b[0m             \u001b[0;32mif\u001b[0m \u001b[0mresult\u001b[0m \u001b[0;32mis\u001b[0m \u001b[0;32mnot\u001b[0m \u001b[0;32mNone\u001b[0m\u001b[0;34m:\u001b[0m\u001b[0;34m\u001b[0m\u001b[0;34m\u001b[0m\u001b[0m\n",
      "\u001b[0;32m~/opt/anaconda3/envs/DSI_test/lib/python3.7/urllib/request.py\u001b[0m in \u001b[0;36mhttp_error_default\u001b[0;34m(self, req, fp, code, msg, hdrs)\u001b[0m\n\u001b[1;32m    648\u001b[0m     \u001b[0;32mdef\u001b[0m \u001b[0mhttp_error_default\u001b[0m\u001b[0;34m(\u001b[0m\u001b[0mself\u001b[0m\u001b[0;34m,\u001b[0m \u001b[0mreq\u001b[0m\u001b[0;34m,\u001b[0m \u001b[0mfp\u001b[0m\u001b[0;34m,\u001b[0m \u001b[0mcode\u001b[0m\u001b[0;34m,\u001b[0m \u001b[0mmsg\u001b[0m\u001b[0;34m,\u001b[0m \u001b[0mhdrs\u001b[0m\u001b[0;34m)\u001b[0m\u001b[0;34m:\u001b[0m\u001b[0;34m\u001b[0m\u001b[0;34m\u001b[0m\u001b[0m\n\u001b[0;32m--> 649\u001b[0;31m         \u001b[0;32mraise\u001b[0m \u001b[0mHTTPError\u001b[0m\u001b[0;34m(\u001b[0m\u001b[0mreq\u001b[0m\u001b[0;34m.\u001b[0m\u001b[0mfull_url\u001b[0m\u001b[0;34m,\u001b[0m \u001b[0mcode\u001b[0m\u001b[0;34m,\u001b[0m \u001b[0mmsg\u001b[0m\u001b[0;34m,\u001b[0m \u001b[0mhdrs\u001b[0m\u001b[0;34m,\u001b[0m \u001b[0mfp\u001b[0m\u001b[0;34m)\u001b[0m\u001b[0;34m\u001b[0m\u001b[0;34m\u001b[0m\u001b[0m\n\u001b[0m\u001b[1;32m    650\u001b[0m \u001b[0;34m\u001b[0m\u001b[0m\n",
      "\u001b[0;31mHTTPError\u001b[0m: HTTP Error 500: Internal Server Error",
      "\nDuring handling of the above exception, another exception occurred:\n",
      "\u001b[0;31mTransportError\u001b[0m                            Traceback (most recent call last)",
      "\u001b[0;32m~/opt/anaconda3/envs/DSI_test/lib/python3.7/site-packages/suds/client.py\u001b[0m in \u001b[0;36msend\u001b[0;34m(self, soapenv)\u001b[0m\n\u001b[1;32m    612\u001b[0m             \u001b[0mtimer\u001b[0m\u001b[0;34m.\u001b[0m\u001b[0mstart\u001b[0m\u001b[0;34m(\u001b[0m\u001b[0;34m)\u001b[0m\u001b[0;34m\u001b[0m\u001b[0;34m\u001b[0m\u001b[0m\n\u001b[0;32m--> 613\u001b[0;31m             \u001b[0mreply\u001b[0m \u001b[0;34m=\u001b[0m \u001b[0mself\u001b[0m\u001b[0;34m.\u001b[0m\u001b[0moptions\u001b[0m\u001b[0;34m.\u001b[0m\u001b[0mtransport\u001b[0m\u001b[0;34m.\u001b[0m\u001b[0msend\u001b[0m\u001b[0;34m(\u001b[0m\u001b[0mrequest\u001b[0m\u001b[0;34m)\u001b[0m\u001b[0;34m\u001b[0m\u001b[0;34m\u001b[0m\u001b[0m\n\u001b[0m\u001b[1;32m    614\u001b[0m             \u001b[0mtimer\u001b[0m\u001b[0;34m.\u001b[0m\u001b[0mstop\u001b[0m\u001b[0;34m(\u001b[0m\u001b[0;34m)\u001b[0m\u001b[0;34m\u001b[0m\u001b[0;34m\u001b[0m\u001b[0m\n",
      "\u001b[0;32m~/opt/anaconda3/envs/DSI_test/lib/python3.7/site-packages/suds/transport/https.py\u001b[0m in \u001b[0;36msend\u001b[0;34m(self, request)\u001b[0m\n\u001b[1;32m     65\u001b[0m         \u001b[0mself\u001b[0m\u001b[0;34m.\u001b[0m\u001b[0maddcredentials\u001b[0m\u001b[0;34m(\u001b[0m\u001b[0mrequest\u001b[0m\u001b[0;34m)\u001b[0m\u001b[0;34m\u001b[0m\u001b[0;34m\u001b[0m\u001b[0m\n\u001b[0;32m---> 66\u001b[0;31m         \u001b[0;32mreturn\u001b[0m \u001b[0mHttpTransport\u001b[0m\u001b[0;34m.\u001b[0m\u001b[0msend\u001b[0m\u001b[0;34m(\u001b[0m\u001b[0mself\u001b[0m\u001b[0;34m,\u001b[0m \u001b[0mrequest\u001b[0m\u001b[0;34m)\u001b[0m\u001b[0;34m\u001b[0m\u001b[0;34m\u001b[0m\u001b[0m\n\u001b[0m\u001b[1;32m     67\u001b[0m \u001b[0;34m\u001b[0m\u001b[0m\n",
      "\u001b[0;32m~/opt/anaconda3/envs/DSI_test/lib/python3.7/site-packages/suds/transport/http.py\u001b[0m in \u001b[0;36msend\u001b[0;34m(self, request)\u001b[0m\n\u001b[1;32m     93\u001b[0m             \u001b[0;32melse\u001b[0m\u001b[0;34m:\u001b[0m\u001b[0;34m\u001b[0m\u001b[0;34m\u001b[0m\u001b[0m\n\u001b[0;32m---> 94\u001b[0;31m                 \u001b[0;32mraise\u001b[0m \u001b[0mTransportError\u001b[0m\u001b[0;34m(\u001b[0m\u001b[0me\u001b[0m\u001b[0;34m.\u001b[0m\u001b[0mmsg\u001b[0m\u001b[0;34m,\u001b[0m \u001b[0me\u001b[0m\u001b[0;34m.\u001b[0m\u001b[0mcode\u001b[0m\u001b[0;34m,\u001b[0m \u001b[0me\u001b[0m\u001b[0;34m.\u001b[0m\u001b[0mfp\u001b[0m\u001b[0;34m)\u001b[0m\u001b[0;34m\u001b[0m\u001b[0;34m\u001b[0m\u001b[0m\n\u001b[0m\u001b[1;32m     95\u001b[0m         \u001b[0;32mreturn\u001b[0m \u001b[0mresult\u001b[0m\u001b[0;34m\u001b[0m\u001b[0;34m\u001b[0m\u001b[0m\n",
      "\u001b[0;31mTransportError\u001b[0m: Internal Server Error",
      "\nDuring handling of the above exception, another exception occurred:\n",
      "\u001b[0;31mWebFault\u001b[0m                                  Traceback (most recent call last)",
      "\u001b[0;32m<ipython-input-71-f6d0ec3bd1a5>\u001b[0m in \u001b[0;36m<module>\u001b[0;34m\u001b[0m\n\u001b[1;32m      1\u001b[0m \u001b[0;31m#this gets me a list of flight information like speed and altitude I believe this will be enough must convert this to a dataframe\u001b[0m\u001b[0;34m\u001b[0m\u001b[0;34m\u001b[0m\u001b[0;34m\u001b[0m\u001b[0m\n\u001b[0;32m----> 2\u001b[0;31m \u001b[0mget_historical_track\u001b[0m \u001b[0;34m=\u001b[0m \u001b[0mapi\u001b[0m\u001b[0;34m.\u001b[0m\u001b[0mservice\u001b[0m\u001b[0;34m.\u001b[0m\u001b[0mGetHistoricalTrack\u001b[0m\u001b[0;34m(\u001b[0m\u001b[0mflight_inf\u001b[0m\u001b[0;34m[\u001b[0m\u001b[0;34m'flights'\u001b[0m\u001b[0;34m]\u001b[0m\u001b[0;34m[\u001b[0m\u001b[0;36m0\u001b[0m\u001b[0;34m]\u001b[0m\u001b[0;34m[\u001b[0m\u001b[0;34m'faFlightID'\u001b[0m\u001b[0;34m]\u001b[0m\u001b[0;34m)\u001b[0m\u001b[0;34m\u001b[0m\u001b[0;34m\u001b[0m\u001b[0m\n\u001b[0m",
      "\u001b[0;32m~/opt/anaconda3/envs/DSI_test/lib/python3.7/site-packages/suds/client.py\u001b[0m in \u001b[0;36m__call__\u001b[0;34m(self, *args, **kwargs)\u001b[0m\n\u001b[1;32m    519\u001b[0m         \u001b[0mclient\u001b[0m \u001b[0;34m=\u001b[0m \u001b[0mclientclass\u001b[0m\u001b[0;34m(\u001b[0m\u001b[0mself\u001b[0m\u001b[0;34m.\u001b[0m\u001b[0mclient\u001b[0m\u001b[0;34m,\u001b[0m \u001b[0mself\u001b[0m\u001b[0;34m.\u001b[0m\u001b[0mmethod\u001b[0m\u001b[0;34m)\u001b[0m\u001b[0;34m\u001b[0m\u001b[0;34m\u001b[0m\u001b[0m\n\u001b[1;32m    520\u001b[0m         \u001b[0;32mtry\u001b[0m\u001b[0;34m:\u001b[0m\u001b[0;34m\u001b[0m\u001b[0;34m\u001b[0m\u001b[0m\n\u001b[0;32m--> 521\u001b[0;31m             \u001b[0;32mreturn\u001b[0m \u001b[0mclient\u001b[0m\u001b[0;34m.\u001b[0m\u001b[0minvoke\u001b[0m\u001b[0;34m(\u001b[0m\u001b[0margs\u001b[0m\u001b[0;34m,\u001b[0m \u001b[0mkwargs\u001b[0m\u001b[0;34m)\u001b[0m\u001b[0;34m\u001b[0m\u001b[0;34m\u001b[0m\u001b[0m\n\u001b[0m\u001b[1;32m    522\u001b[0m         \u001b[0;32mexcept\u001b[0m \u001b[0mWebFault\u001b[0m \u001b[0;32mas\u001b[0m \u001b[0me\u001b[0m\u001b[0;34m:\u001b[0m\u001b[0;34m\u001b[0m\u001b[0;34m\u001b[0m\u001b[0m\n\u001b[1;32m    523\u001b[0m             \u001b[0;32mif\u001b[0m \u001b[0mself\u001b[0m\u001b[0;34m.\u001b[0m\u001b[0mfaults\u001b[0m\u001b[0;34m(\u001b[0m\u001b[0;34m)\u001b[0m\u001b[0;34m:\u001b[0m\u001b[0;34m\u001b[0m\u001b[0;34m\u001b[0m\u001b[0m\n",
      "\u001b[0;32m~/opt/anaconda3/envs/DSI_test/lib/python3.7/site-packages/suds/client.py\u001b[0m in \u001b[0;36minvoke\u001b[0;34m(self, args, kwargs)\u001b[0m\n\u001b[1;32m    579\u001b[0m             timer)\n\u001b[1;32m    580\u001b[0m         \u001b[0mtimer\u001b[0m\u001b[0;34m.\u001b[0m\u001b[0mstart\u001b[0m\u001b[0;34m(\u001b[0m\u001b[0;34m)\u001b[0m\u001b[0;34m\u001b[0m\u001b[0;34m\u001b[0m\u001b[0m\n\u001b[0;32m--> 581\u001b[0;31m         \u001b[0mresult\u001b[0m \u001b[0;34m=\u001b[0m \u001b[0mself\u001b[0m\u001b[0;34m.\u001b[0m\u001b[0msend\u001b[0m\u001b[0;34m(\u001b[0m\u001b[0msoapenv\u001b[0m\u001b[0;34m)\u001b[0m\u001b[0;34m\u001b[0m\u001b[0;34m\u001b[0m\u001b[0m\n\u001b[0m\u001b[1;32m    582\u001b[0m         \u001b[0mtimer\u001b[0m\u001b[0;34m.\u001b[0m\u001b[0mstop\u001b[0m\u001b[0;34m(\u001b[0m\u001b[0;34m)\u001b[0m\u001b[0;34m\u001b[0m\u001b[0;34m\u001b[0m\u001b[0m\n\u001b[1;32m    583\u001b[0m         \u001b[0mmetrics\u001b[0m\u001b[0;34m.\u001b[0m\u001b[0mlog\u001b[0m\u001b[0;34m.\u001b[0m\u001b[0mdebug\u001b[0m\u001b[0;34m(\u001b[0m\u001b[0;34m\"method '%s' invoked: %s\"\u001b[0m\u001b[0;34m,\u001b[0m \u001b[0mself\u001b[0m\u001b[0;34m.\u001b[0m\u001b[0mmethod\u001b[0m\u001b[0;34m.\u001b[0m\u001b[0mname\u001b[0m\u001b[0;34m,\u001b[0m \u001b[0mtimer\u001b[0m\u001b[0;34m)\u001b[0m\u001b[0;34m\u001b[0m\u001b[0;34m\u001b[0m\u001b[0m\n",
      "\u001b[0;32m~/opt/anaconda3/envs/DSI_test/lib/python3.7/site-packages/suds/client.py\u001b[0m in \u001b[0;36msend\u001b[0;34m(self, soapenv)\u001b[0m\n\u001b[1;32m    617\u001b[0m             \u001b[0mcontent\u001b[0m \u001b[0;34m=\u001b[0m \u001b[0me\u001b[0m\u001b[0;34m.\u001b[0m\u001b[0mfp\u001b[0m \u001b[0;32mand\u001b[0m \u001b[0me\u001b[0m\u001b[0;34m.\u001b[0m\u001b[0mfp\u001b[0m\u001b[0;34m.\u001b[0m\u001b[0mread\u001b[0m\u001b[0;34m(\u001b[0m\u001b[0;34m)\u001b[0m \u001b[0;32mor\u001b[0m \u001b[0;34m''\u001b[0m\u001b[0;34m\u001b[0m\u001b[0;34m\u001b[0m\u001b[0m\n\u001b[1;32m    618\u001b[0m             return self.process_reply(reply=content, status=e.httpcode,\n\u001b[0;32m--> 619\u001b[0;31m                 description=tostr(e), original_soapenv=original_soapenv)\n\u001b[0m\u001b[1;32m    620\u001b[0m         return self.process_reply(reply=reply.message,\n\u001b[1;32m    621\u001b[0m             original_soapenv=original_soapenv)\n",
      "\u001b[0;32m~/opt/anaconda3/envs/DSI_test/lib/python3.7/site-packages/suds/client.py\u001b[0m in \u001b[0;36mprocess_reply\u001b[0;34m(self, reply, status, description, original_soapenv)\u001b[0m\n\u001b[1;32m    668\u001b[0m                             \"Reporting as an internal server error.\", status)\n\u001b[1;32m    669\u001b[0m                     \u001b[0;32mif\u001b[0m \u001b[0mself\u001b[0m\u001b[0;34m.\u001b[0m\u001b[0moptions\u001b[0m\u001b[0;34m.\u001b[0m\u001b[0mfaults\u001b[0m\u001b[0;34m:\u001b[0m\u001b[0;34m\u001b[0m\u001b[0;34m\u001b[0m\u001b[0m\n\u001b[0;32m--> 670\u001b[0;31m                         \u001b[0;32mraise\u001b[0m \u001b[0mWebFault\u001b[0m\u001b[0;34m(\u001b[0m\u001b[0mfault\u001b[0m\u001b[0;34m,\u001b[0m \u001b[0mreplyroot\u001b[0m\u001b[0;34m)\u001b[0m\u001b[0;34m\u001b[0m\u001b[0;34m\u001b[0m\u001b[0m\n\u001b[0m\u001b[1;32m    671\u001b[0m                     \u001b[0;32mreturn\u001b[0m \u001b[0;34m(\u001b[0m\u001b[0mhttp\u001b[0m\u001b[0;34m.\u001b[0m\u001b[0mclient\u001b[0m\u001b[0;34m.\u001b[0m\u001b[0mINTERNAL_SERVER_ERROR\u001b[0m\u001b[0;34m,\u001b[0m \u001b[0mfault\u001b[0m\u001b[0;34m)\u001b[0m\u001b[0;34m\u001b[0m\u001b[0;34m\u001b[0m\u001b[0m\n\u001b[1;32m    672\u001b[0m             \u001b[0;32mif\u001b[0m \u001b[0mstatus\u001b[0m \u001b[0;34m!=\u001b[0m \u001b[0mhttp\u001b[0m\u001b[0;34m.\u001b[0m\u001b[0mclient\u001b[0m\u001b[0;34m.\u001b[0m\u001b[0mOK\u001b[0m\u001b[0;34m:\u001b[0m\u001b[0;34m\u001b[0m\u001b[0;34m\u001b[0m\u001b[0m\n",
      "\u001b[0;31mWebFault\u001b[0m: Server raised fault: 'NO_DATA no data available'"
     ]
    }
   ],
   "source": [
    "#this gets me a list of flight information like speed and altitude I believe this will be enough must convert this to a dataframe\n",
    "get_historical_track = api.service.GetHistoricalTrack(flight_inf['flights'][0]['faFlightID'])"
   ]
  },
  {
   "cell_type": "code",
   "execution_count": 70,
   "metadata": {},
   "outputs": [
    {
     "data": {
      "text/plain": "dspeed = 456\n    altitude = 360\n    altitudeStatus = \"-\"\n    updateType = \"A\"\n    altitudeChange = \"-\"\n  },\n (TrackStruct){\n    timestamp = 1589660920\n    latitude = 29.69165\n    longitude = -81.12299\n    groundspeed = 454\n    altitude = 360\n    altitudeStatus = \"-\"\n    updateType = \"A\"\n    altitudeChange = \"-\"\n  },\n (TrackStruct){\n    timestamp = 1589660951\n    latitude = 29.62766\n    longitude = -81.12342\n    groundspeed = 453\n    altitude = 360\n    altitudeStatus = \"-\"\n    updateType = \"A\"\n    altitudeChange = \"-\"\n  },\n (TrackStruct){\n    timestamp = 1589660981\n    latitude = 29.56384\n    longitude = -81.12347\n    groundspeed = 451\n    altitude = 360\n    altitudeStatus = \"-\"\n    updateType = \"A\"\n    altitudeChange = \"-\"\n  },\n (TrackStruct){\n    timestamp = 1589661011\n    latitude = 29.50076\n    longitude = -81.12084\n    groundspeed = 451\n    altitude = 360\n    altitudeStatus = \"-\"\n    updateType = \"A\"\n    altitudeChange = \"-\"\n  },\n (TrackStruct){\n    timestamp = 1589661041\n    latitude = 29.43884\n    longitude = -81.11825\n    groundspeed = 450\n    altitude = 360\n    altitudeStatus = \"-\"\n    updateType = \"A\"\n    altitudeChange = \"-\"\n  },\n (TrackStruct){\n    timestamp = 1589661071\n    latitude = 29.37881\n    longitude = -81.11581\n    groundspeed = 449\n    altitude = 360\n    altitudeStatus = \"-\"\n    updateType = \"A\"\n    altitudeChange = \"-\"\n  },\n (TrackStruct){\n    timestamp = 1589661089\n    latitude = 29.33871\n    longitude = -81.11378\n    groundspeed = 449\n    altitude = 360\n    altitudeStatus = \"-\"\n    updateType = \"A\"\n    altitudeChange = \"-\"\n  },\n (TrackStruct){\n    timestamp = 1589661119\n    latitude = 29.28043\n    longitude = -81.1021\n    groundspeed = 449\n    altitude = 360\n    altitudeStatus = \"-\"\n    updateType = \"A\"\n    altitudeChange = \"-\"\n  },\n (TrackStruct){\n    timestamp = 1589661139\n    latitude = 29.24151\n    longitude = -81.08756\n    groundspeed = 449\n    altitude = 360\n    altitudeStatus = \"-\"\n    updateType = \"A\"\n    altitudeChange = \"-\"\n  },\n (TrackStruct){\n    timestamp = 1589661170\n    latitude = 29.1809\n    longitude = -81.06343\n    groundspeed = 449\n    altitude = 360\n    altitudeStatus = \"-\"\n    updateType = \"A\"\n    altitudeChange = \"-\"\n  },\n (TrackStruct){\n    timestamp = 1589661201\n    latitude = 29.11936\n    longitude = -81.03887\n    groundspeed = 449\n    altitude = 360\n    altitudeStatus = \"-\"\n    updateType = \"A\"\n    altitudeChange = \"-\"\n  },\n (TrackStruct){\n    timestamp = 1589661231\n    latitude = 29.05998\n    longitude = -81.01503\n    groundspeed = 449\n    altitude = 360\n    altitudeStatus = \"-\"\n    updateType = \"A\"\n    altitudeChange = \"-\"\n  },\n (TrackStruct){\n    timestamp = 1589661261\n    latitude = 28.99944\n    longitude = -80.99073\n    groundspeed = 449\n    altitude = 360\n    altitudeStatus = \"-\"\n    updateType = \"A\"\n    altitudeChange = \"-\"\n  },\n (TrackStruct){\n    timestamp = 1589661291\n    latitude = 28.94129\n    longitude = -80.96746\n    groundspeed = 449\n    altitude = 360\n    altitudeStatus = \"-\"\n    updateType = \"A\"\n    altitudeChange = \"-\"\n  },\n (TrackStruct){\n    timestamp = 1589661321\n    latitude = 28.88152\n    longitude = -80.94355\n    groundspeed = 449\n    altitude = 360\n    altitudeStatus = \"-\"\n    updateType = \"A\"\n    altitudeChange = \"-\"\n  },\n (TrackStruct){\n    timestamp = 1589661351\n    latitude = 28.82217\n    longitude = -80.9198\n    groundspeed = 449\n    altitude = 360\n    altitudeStatus = \"-\"\n    updateType = \"A\"\n    altitudeChange = \"-\"\n  },\n (TrackStruct){\n    timestamp = 1589661381\n    latitude = 28.76505\n    longitude = -80.89707\n    groundspeed = 446\n    altitude = 360\n    altitudeStatus = \"-\"\n    updateType = \"A\"\n    altitudeChange = \"-\"\n  },\n (TrackStruct){\n    timestamp = 1589661411\n    latitude = 28.70495\n    longitude = -80.87316\n    groundspeed = 443\n    altitude = 360\n    altitudeStatus = \"-\"\n    updateType = \"A\"\n    altitudeChange = \"-\"\n  },\n (TrackStruct){\n    timestamp = 1589661441\n    latitude = 28.65065\n    longitude = -80.85156\n    groundspeed = 442\n    altitude = 360\n    altitudeStatus = \"-\"\n    updateType = \"A\"\n    altitudeChange = \"-\"\n  },\n (TrackStruct){\n    timestamp = 1589661471\n    latitude = 28.58941\n    longitude = -80.82706\n    groundspeed = 443\n    altitude = 360\n    altitudeStatus = \"-\"\n    updateType = \"A\"\n    altitudeChange = \"-\"\n  },\n (TrackStruct){\n    timestamp = 1589661501\n    latitude = 28.5328\n    longitude = -80.80439\n    groundspeed = 442\n    altitude = 360\n    altitudeStatus = \"-\"\n    updateType = \"A\"\n    altitudeChange = \"-\"\n  },\n (TrackStruct){\n    timestamp = 1589661531\n    latitude = 28.47456\n    longitude = -80.78129\n    groundspeed = 443\n    altitude = 360\n    altitudeStatus = \"-\"\n    updateType = \"A\"\n    altitudeChange = \"-\"\n  },\n (TrackStruct){\n    timestamp = 1589661561\n    latitude = 28.41774\n    longitude = -80.75876\n    groundspeed = 442\n    altitude = 360\n    altitudeStatus = \"-\"\n    updateType = \"A\"\n    altitudeChange = \"-\"\n  },\n (TrackStruct){\n    timestamp = 1589661591\n    latitude = 28.35997\n    longitude = -80.73588\n    groundspeed = 442\n    altitude = 360\n    altitudeStatus = \"-\"\n    updateType = \"A\"\n    altitudeChange = \"-\"\n  },\n (TrackStruct){\n    timestamp = 1589661621\n    latitude = 28.30297\n    longitude = -80.71332\n    groundspeed = 440\n    altitude = 360\n    altitudeStatus = \"-\"\n    updateType = \"A\"\n    altitudeChange = \"-\"\n  },\n (TrackStruct){\n    timestamp = 1589661651\n    latitude = 28.24385\n    longitude = -80.68995\n    groundspeed = 438\n    altitude = 360\n    altitudeStatus = \"-\"\n    updateType = \"A\"\n    altitudeChange = \"-\"\n  },\n (TrackStruct){\n    timestamp = 1589661681\n    latitude = 28.18575\n    longitude = -80.66706\n    groundspeed = 438\n    altitude = 360\n    altitudeStatus = \"-\"\n    updateType = \"A\"\n    altitudeChange = \"-\"\n  },\n (TrackStruct){\n    timestamp = 1589661711\n    latitude = 28.13096\n    longitude = -80.64546\n    groundspeed = 438\n    altitude = 360\n    altitudeStatus = \"-\"\n    updateType = \"A\"\n    altitudeChange = \"-\"\n  },\n (TrackStruct){\n    timestamp = 1589661728\n    latitude = 28.09346\n    longitude = -80.63125\n    groundspeed = 438\n    altitude = 360\n    altitudeStatus = \"-\"\n    updateType = \"A\"\n    altitudeChange = \"-\"\n  },\n (TrackStruct){\n    timestamp = 1589661758\n    latitude = 28.03835\n    longitude = -80.61224\n    groundspeed = 438\n    altitude = 360\n    altitudeStatus = \"-\"\n    updateType = \"A\"\n    altitudeChange = \"-\"\n  },\n (TrackStruct){\n    timestamp = 1589661802\n    latitude = 27.95611\n    longitude = -80.57001\n    groundspeed = 437\n    altitude = 360\n    altitudeStatus = \"-\"\n    updateType = \"A\"\n    altitudeChange = \"-\"\n  },\n (TrackStruct){\n    timestamp = 1589661832\n    latitude = 27.90289\n    longitude = -80.54191\n    groundspeed = 436\n    altitude = 360\n    altitudeStatus = \"-\"\n    updateType = \"A\"\n    altitudeChange = \"-\"\n  },\n (TrackStruct){\n    timestamp = 1589661862\n    latitude = 27.84787\n    longitude = -80.51304\n    groundspeed = 434\n    altitude = 360\n    altitudeStatus = \"-\"\n    updateType = \"A\"\n    altitudeChange = \"-\"\n  },\n (TrackStruct){\n    timestamp = 1589661892\n    latitude = 27.79303\n    longitude = -80.48439\n    groundspeed = 435\n    altitude = 360\n    altitudeStatus = \"-\"\n    updateType = \"A\"\n    altitudeChange = \"-\"\n  },\n (TrackStruct){\n    timestamp = 1589661922\n    latitude = 27.73838\n    longitude = -80.4561\n    groundspeed = 436\n    altitude = 360\n    altitudeStatus = \"-\"\n    updateType = \"A\"\n    altitudeChange = \"-\"\n  },\n (TrackStruct){\n    timestamp = 1589661938\n    latitude = 27.70673\n    longitude = -80.43946\n    groundspeed = 434\n    altitude = 360\n    altitudeStatus = \"-\"\n    updateType = \"A\"\n    altitudeChange = \"-\"\n  },\n (TrackStruct){\n    timestamp = 1589661976\n    latitude = 27.64505\n    longitude = -80.39182\n    groundspeed = 435\n    altitude = 355\n    altitudeStatus = \"-\"\n    updateType = \"A\"\n    altitudeChange = \"-\"\n  },\n (TrackStruct){\n    timestamp = 1589662006\n    latitude = 27.59656\n    longitude = -80.35323\n    groundspeed = 436\n    altitude = 350\n    altitudeStatus = \"-\"\n    updateType = \"A\"\n    altitudeChange = \"-\"\n  },\n (TrackStruct){\n    timestamp = 1589662036\n    latitude = 27.5484\n    longitude = -80.31476\n    groundspeed = 436\n    altitude = 343\n    altitudeStatus = \"-\"\n    updateType = \"A\"\n    altitudeChange = \"-\"\n  },\n (TrackStruct){\n    timestamp = 1589662066\n    latitude = 27.49678\n    longitude = -80.27319\n    groundspeed = 439\n    altitude = 333\n    altitudeStatus = \"-\"\n    updateType = \"A\"\n    altitudeChange = \"-\"\n  },\n (TrackStruct){\n    timestamp = 1589662096\n    latitude = 27.44622\n    longitude = -80.23194\n    groundspeed = 445\n    altitude = 320\n    altitudeStatus = \"-\"\n    updateType = \"A\"\n    altitudeChange = \"-\"\n  },\n (TrackStruct){\n    timestamp = 1589662126\n    latitude = 27.39606\n    longitude = -80.18973\n    groundspeed = 455\n    altitude = 306\n    altitudeStatus = \"-\"\n    updateType = \"A\"\n    altitudeChange = \"-\"\n  },\n (TrackStruct){\n    timestamp = 1589662156\n    latitude = 27.34328\n    longitude = -80.14526\n    groundspeed = 466\n    altitude = 292\n    altitudeStatus = \"-\"\n    updateType = \"A\"\n    altitudeChange = \"-\"\n  },\n (TrackStruct){\n    timestamp = 1589662186\n    latitude = 27.2946\n    longitude = -80.10428\n    groundspeed = 465\n    altitude = 280\n    altitudeStatus = \"-\"\n    updateType = \"A\"\n    altitudeChange = \"-\"\n  },\n (TrackStruct){\n    timestamp = 1589662216\n    latitude = 27.24248\n    longitude = -80.05945\n    groundspeed = 460\n    altitude = 267\n    altitudeStatus = \"-\"\n    updateType = \"A\"\n    altitudeChange = \"-\"\n  },\n (TrackStruct){\n    timestamp = 1589662246\n    latitude = 27.19121\n    longitude = -80.01596\n    groundspeed = 457\n    altitude = 254\n    altitudeStatus = \"-\"\n    updateType = \"A\"\n    altitudeChange = \"-\"\n  },\n (TrackStruct){\n    timestamp = 1589662276\n    latitude = 27.14154\n    longitude = -79.97455\n    groundspeed = 455\n    altitude = 240\n    altitudeStatus = \"-\"\n    updateType = \"A\"\n    altitudeChange = \"-\"\n  },\n (TrackStruct){\n    timestamp = 1589662306\n    latitude = 27.09215\n    longitude = -79.93331\n    groundspeed = 450\n    altitude = 228\n    altitudeStatus = \"-\"\n    updateType = \"A\"\n    altitudeChange = \"-\"\n  },\n (TrackStruct){\n    timestamp = 1589662334\n    latitude = 27.04207\n    longitude = -79.89196\n    groundspeed = 442\n    altitude = 216\n    altitudeStatus = \"-\"\n    updateType = \"A\"\n    altitudeChange = \"-\"\n  },\n (TrackStruct){\n    timestamp = 1589662355\n    latitude = 27.00351\n    longitude = -79.87557\n    groundspeed = 432\n    altitude = 208\n    altitudeStatus = \"-\"\n    updateType = \"A\"\n    altitudeChange = \"-\"\n  },\n (TrackStruct){\n    timestamp = 1589662398\n    latitude = 26.92067\n    longitude = -79.86278\n    groundspeed = 408\n    altitude = 193\n    altitudeStatus = \"-\"\n    updateType = \"A\"\n    altitudeChange = \"-\"\n  },\n (TrackStruct){\n    timestamp = 1589662428\n    latitude = 26.86697\n    longitude = -79.85444\n    groundspeed = 392\n    altitude = 182\n    altitudeStatus = \"-\"\n    updateType = \"A\"\n    altitudeChange = \"-\"\n  },\n (TrackStruct){\n    timestamp = 1589662458\n    latitude = 26.8141\n    longitude = -79.84568\n    groundspeed = 380\n    altitude = 174\n    altitudeStatus = \"-\"\n    updateType = \"A\"\n    altitudeChange = \"-\"\n  },\n (TrackStruct){\n    timestamp = 1589662488\n    latitude = 26.76065\n    longitude = -79.83643\n    groundspeed = 378\n    altitude = 163\n    altitudeStatus = \"-\"\n    updateType = \"A\"\n    altitudeChange = \"-\"\n  },\n (TrackStruct){\n    timestamp = 1589662518\n    latitude = 26.70897\n    longitude = -79.82814\n    groundspeed = 375\n    altitude = 152\n    altitudeStatus = \"-\"\n    updateType = \"A\"\n    altitudeChange = \"-\"\n  },\n (TrackStruct){\n    timestamp = 1589662548\n    latitude = 26.65777\n    longitude = -79.82016\n    groundspeed = 363\n    altitude = 145\n    altitudeStatus = \"-\"\n    updateType = \"A\"\n    altitudeChange = \"-\"\n  },\n (TrackStruct){\n    timestamp = 1589662578\n    latitude = 26.60815\n    longitude = -79.8121\n    groundspeed = 356\n    altitude = 141\n    altitudeStatus = \"-\"\n    updateType = \"A\"\n    altitudeChange = \"-\"\n  },\n (TrackStruct){\n    timestamp = 1589662608\n    latitude = 26.55977\n    longitude = -79.80416\n    groundspeed = 353\n    altitude = 141\n    altitudeStatus = \"-\"\n    updateType = \"A\"\n    altitudeChange = \"-\"\n  },\n (TrackStruct){\n    timestamp = 1589662638\n    latitude = 26.51248\n    longitude = -79.79661\n    groundspeed = 351\n    altitude = 137\n    altitudeStatus = \"-\"\n    updateType = \"A\"\n    altitudeChange = \"-\"\n  },\n (TrackStruct){\n    timestamp = 1589662668\n    latitude = 26.46506\n    longitude = -79.78924\n    groundspeed = 353\n    altitude = 131\n    altitudeStatus = \"-\"\n    updateType = \"A\"\n    altitudeChange = \"-\"\n  },\n (TrackStruct){\n    timestamp = 1589662698\n    latitude = 26.41658\n    longitude = -79.78192\n    groundspeed = 349\n    altitude = 130\n    altitudeStatus = \"-\"\n    updateType = \"A\"\n    altitudeChange = \"-\"\n  },\n (TrackStruct){\n    timestamp = 1589662732\n    latitude = 26.35963\n    longitude = -79.7738\n    groundspeed = 346\n    altitude = 119\n    altitudeStatus = \"-\"\n    updateType = \"A\"\n    altitudeChange = \"-\"\n  },\n (TrackStruct){\n    timestamp = 1589662770\n    latitude = 26.30164\n    longitude = -79.78365\n    groundspeed = 329\n    altitude = 111\n    altitudeStatus = \"-\"\n    updateType = \"A\"\n    altitudeChange = \"-\"\n  },\n (TrackStruct){\n    timestamp = 1589662788\n    latitude = 26.2766\n    longitude = -79.79246\n    groundspeed = 302\n    altitude = 111\n    altitudeStatus = \"-\"\n    updateType = \"A\"\n    altitudeChange = \"-\"\n  },\n (TrackStruct){\n    timestamp = 1589662825\n    latitude = 26.23439\n    longitude = -79.81852\n    groundspeed = 287\n    altitude = 108\n    altitudeStatus = \"-\"\n    updateType = \"A\"\n    altitudeChange = \"-\"\n  },\n (TrackStruct){\n    timestamp = 1589662856\n    latitude = 26.19273\n    longitude = -79.83008\n    groundspeed = 293\n    altitude = 100\n    altitudeStatus = \"-\"\n    updateType = \"A\"\n    altitudeChange = \"-\"\n  },\n (TrackStruct){\n    timestamp = 1589662886\n    latitude = 26.15254\n    longitude = -79.83811\n    groundspeed = 286\n    altitude = 92\n    altitudeStatus = \"-\"\n    updateType = \"A\"\n    altitudeChange = \"-\"\n  },\n (TrackStruct){\n    timestamp = 1589662916\n    latitude = 26.11408\n    longitude = -79.84615\n    groundspeed = 281\n    altitude = 85\n    altitudeStatus = \"-\"\n    updateType = \"A\"\n    altitudeChange = \"-\"\n  },\n (TrackStruct){\n    timestamp = 1589662946\n    latitude = 26.07582\n    longitude = -79.85407\n    groundspeed = 279\n    altitude = 81\n    altitudeStatus = \"-\"\n    updateType = \"A\"\n    altitudeChange = \"-\"\n  },\n (TrackStruct){\n    timestamp = 1589662976\n    latitude = 26.0382\n    longitude = -79.86163\n    groundspeed = 278\n    altitude = 78\n    altitudeStatus = \"-\"\n    updateType = \"A\"\n    altitudeChange = \"-\"\n  },\n (TrackStruct){\n    timestamp = 1589663006\n    latitude = 26.00006\n    longitude = -79.86978\n    groundspeed = 282\n    altitude = 70\n    altitudeStatus = \"-\"\n    updateType = \"A\"\n    altitudeChange = \"-\"\n  },\n (TrackStruct){\n    timestamp = 1589663036\n    latitude = 25.96288\n    longitude = -79.87737\n    groundspeed = 277\n    altitude = 64\n    altitudeStatus = \"-\"\n    updateType = \"A\"\n    altitudeChange = \"-\"\n  },\n (TrackStruct){\n    timestamp = 1589663066\n    latitude = 25.92499\n    longitude = -79.88501\n    groundspeed = 275\n    altitude = 57\n    altitudeStatus = \"-\"\n    updateType = \"A\"\n    altitudeChange = \"-\"\n  },\n (TrackStruct){\n    timestamp = 1589663096\n    latitude = 25.88542\n    longitude = -79.89316\n    groundspeed = 272\n    altitude = 50\n    altitudeStatus = \"-\"\n    updateType = \"A\"\n    altitudeChange = \"-\"\n  },\n (TrackStruct){\n    timestamp = 1589663117\n    latitude = 25.85966\n    longitude = -79.8989\n    groundspeed = 271\n    altitude = 45\n    altitudeStatus = \"-\"\n    updateType = \"A\"\n    altitudeChange = \"-\"\n  },\n (TrackStruct){\n    timestamp = 1589663133\n    latitude = 25.843\n    longitude = -79.90932\n    groundspeed = 262\n    altitude = 41\n    altitudeStatus = \"-\"\n    updateType = \"A\"\n    altitudeChange = \"-\"\n  },\n (TrackStruct){\n    timestamp = 1589663149\n    latitude = 25.82965\n    longitude = -79.92327\n    groundspeed = 255\n    altitude = 38\n    altitudeStatus = \"-\"\n    updateType = \"A\"\n    altitudeChange = \"-\"\n  },\n (TrackStruct){\n    timestamp = 1589663166\n    latitude = 25.82546\n    longitude = -79.94507\n    groundspeed = 246\n    altitude = 37\n    altitudeStatus = \"-\"\n    updateType = \"A\"\n    altitudeChange = \"-\"\n  },\n (TrackStruct){\n    timestamp = 1589663185\n    latitude = 25.82476\n    longitude = -79.9671\n    groundspeed = 242\n    altitude = 35\n    altitudeStatus = \"-\"\n    updateType = \"A\"\n    altitudeChange = \"-\"\n  },\n (TrackStruct){\n    timestamp = 1589663203\n    latitude = 25.82259\n    longitude = -79.98912\n    groundspeed = 239\n    altitude = 35\n    altitudeStatus = \"-\"\n    updateType = \"A\"\n    altitudeChange = \"-\"\n  },\n (TrackStruct){\n    timestamp = 1589663233\n    latitude = 25.8181\n    longitude = -80.0238\n    groundspeed = 222\n    altitude = 33\n    altitudeStatus = \"-\"\n    updateType = \"A\"\n    altitudeChange = \"-\"\n  },\n (TrackStruct){\n    timestamp = 1589663263\n    latitude = 25.8138\n    longitude = -80.0561\n    groundspeed = 199\n    altitude = 31\n    altitudeStatus = \"-\"\n    updateType = \"A\"\n    altitudeChange = \"-\"\n  },\n (TrackStruct){\n    timestamp = 1589663293\n    latitude = 25.81024\n    longitude = -80.08489\n    groundspeed = 180\n    altitude = 31\n    altitudeStatus = \"-\"\n    updateType = \"A\"\n    altitudeChange = \"-\"\n  },\n (TrackStruct){\n    timestamp = 1589663312\n    latitude = 25.80865\n    longitude = -80.10204\n    groundspeed = 176\n    altitude = 29\n    altitudeStatus = \"-\"\n    updateType = \"A\"\n    altitudeChange = \"-\"\n  },\n (TrackStruct){\n    timestamp = 1589663333\n    latitude = 25.80805\n    longitude = -80.12132\n    groundspeed = 176\n    altitude = 26\n    altitudeStatus = \"-\"\n    updateType = \"A\"\n    altitudeChange = \"-\"\n  },\n (TrackStruct){\n    timestamp = 1589663363\n    latitude = 25.80688\n    longitude = -80.14811\n    groundspeed = 172\n    altitude = 22\n    altitudeStatus = \"-\"\n    updateType = \"A\"\n    altitudeChange = \"-\"\n  },\n (TrackStruct){\n    timestamp = 1589663393\n    latitude = 25.80592\n    longitude = -80.17319\n    groundspeed = 162\n    altitude = 18\n    altitudeStatus = \"-\"\n    updateType = \"A\"\n    altitudeChange = \"-\"\n  },\n (TrackStruct){\n    timestamp = 1589663423\n    latitude = 25.8051\n    longitude = -80.19714\n    groundspeed = 145\n    altitude = 13\n    altitudeStatus = \"-\"\n    updateType = \"A\"\n    altitudeChange = \"-\"\n  },\n (TrackStruct){\n    timestamp = 1589663439\n    latitude = 25.8046\n    longitude = -80.20761\n    groundspeed = 144\n    altitude = 12\n    altitudeStatus = \"-\"\n    updateType = \"A\"\n    altitudeChange = \"-\"\n  },\n (TrackStruct){\n    timestamp = 1589663455\n    latitude = 25.80405\n    longitude = -80.21953\n    groundspeed = 142\n    altitude = 10\n    altitudeStatus = \"-\"\n    updateType = \"A\"\n    altitudeChange = \"-\"\n  },\n (TrackStruct){\n    timestamp = 1589663471\n    latitude = 25.80358\n    longitude = -80.2315\n    groundspeed = 145\n    altitude = 8\n    altitudeStatus = \"-\"\n    updateType = \"A\"\n    altitudeChange = \"-\"\n  },\n (TrackStruct){\n    timestamp = 1589663487\n    latitude = 25.80313\n    longitude = -80.24343\n    groundspeed = 146\n    altitude = 6\n    altitudeStatus = \"-\"\n    updateType = \"A\"\n    altitudeChange = \"-\"\n  },\n (TrackStruct){\n    timestamp = 1589663503\n    latitude = 25.80263\n    longitude = -80.25579\n    groundspeed = 141\n    altitude = 4\n    altitudeStatus = \"-\"\n    updateType = \"A\"\n    altitudeChange = \"-\"\n  },\n (TrackStruct){\n    timestamp = 1589663519\n    latitude = 25.80217\n    longitude = -80.26642\n    groundspeed = 143\n    altitude = 2\n    altitudeStatus = \"-\"\n    updateType = \"A\"\n    altitudeChange = \"-\"\n  },\n (TrackStruct){\n    timestamp = 1589663535\n    latitude = 25.80167\n    longitude = -80.27873\n    groundspeed = 138\n    altitude = 1\n    altitudeStatus = \"-\"\n    updateType = \"A\"\n    altitudeChange = \"-\"\n  }]"
     },
     "execution_count": 70,
     "metadata": {},
     "output_type": "execute_result"
    }
   ],
   "source": [
    "get_historical_track[0]"
   ]
  },
  {
   "cell_type": "code",
   "execution_count": 130,
   "metadata": {},
   "outputs": [],
   "source": [
    "data = [Client.dict(suds_object) for suds_object in get_historical_track[0]]"
   ]
  },
  {
   "cell_type": "code",
   "execution_count": 131,
   "metadata": {},
   "outputs": [],
   "source": [
    "df = pd.DataFrame(data)"
   ]
  },
  {
   "cell_type": "code",
   "execution_count": 132,
   "metadata": {},
   "outputs": [
    {
     "data": {
      "text/html": "<div>\n<style scoped>\n    .dataframe tbody tr th:only-of-type {\n        vertical-align: middle;\n    }\n\n    .dataframe tbody tr th {\n        vertical-align: top;\n    }\n\n    .dataframe thead th {\n        text-align: right;\n    }\n</style>\n<table border=\"1\" class=\"dataframe\">\n  <thead>\n    <tr style=\"text-align: right;\">\n      <th></th>\n      <th>timestamp</th>\n      <th>latitude</th>\n      <th>longitude</th>\n      <th>groundspeed</th>\n      <th>altitude</th>\n      <th>altitudeStatus</th>\n      <th>updateType</th>\n      <th>altitudeChange</th>\n    </tr>\n  </thead>\n  <tbody>\n    <tr>\n      <th>0</th>\n      <td>1589396232</td>\n      <td>40.61018</td>\n      <td>-73.79260</td>\n      <td>170</td>\n      <td>10</td>\n      <td>-</td>\n      <td>A</td>\n      <td>-</td>\n    </tr>\n    <tr>\n      <th>1</th>\n      <td>1589396248</td>\n      <td>40.59851</td>\n      <td>-73.80048</td>\n      <td>183</td>\n      <td>14</td>\n      <td>-</td>\n      <td>A</td>\n      <td>-</td>\n    </tr>\n    <tr>\n      <th>2</th>\n      <td>1589396264</td>\n      <td>40.58582</td>\n      <td>-73.80909</td>\n      <td>196</td>\n      <td>16</td>\n      <td>-</td>\n      <td>A</td>\n      <td>-</td>\n    </tr>\n    <tr>\n      <th>3</th>\n      <td>1589396281</td>\n      <td>40.57109</td>\n      <td>-73.81738</td>\n      <td>218</td>\n      <td>20</td>\n      <td>-</td>\n      <td>A</td>\n      <td>-</td>\n    </tr>\n    <tr>\n      <th>4</th>\n      <td>1589396297</td>\n      <td>40.55347</td>\n      <td>-73.81714</td>\n      <td>241</td>\n      <td>22</td>\n      <td>-</td>\n      <td>A</td>\n      <td>-</td>\n    </tr>\n  </tbody>\n</table>\n</div>",
      "text/plain": "    timestamp  latitude  longitude  groundspeed  altitude altitudeStatus  \\\n0  1589396232  40.61018  -73.79260          170        10              -   \n1  1589396248  40.59851  -73.80048          183        14              -   \n2  1589396264  40.58582  -73.80909          196        16              -   \n3  1589396281  40.57109  -73.81738          218        20              -   \n4  1589396297  40.55347  -73.81714          241        22              -   \n\n  updateType altitudeChange  \n0          A              -  \n1          A              -  \n2          A              -  \n3          A              -  \n4          A              -  "
     },
     "execution_count": 132,
     "metadata": {},
     "output_type": "execute_result"
    }
   ],
   "source": [
    "df.head()"
   ]
  },
  {
   "cell_type": "code",
   "execution_count": 137,
   "metadata": {},
   "outputs": [
    {
     "data": {
      "text/plain": "(322, 8)"
     },
     "execution_count": 137,
     "metadata": {},
     "output_type": "execute_result"
    }
   ],
   "source": [
    "df.shape"
   ]
  },
  {
   "cell_type": "code",
   "execution_count": 133,
   "metadata": {},
   "outputs": [],
   "source": [
    "df['flight_identifier'] = 'aasjhdfhj'"
   ]
  },
  {
   "cell_type": "code",
   "execution_count": 134,
   "metadata": {},
   "outputs": [
    {
     "data": {
      "text/html": "<div>\n<style scoped>\n    .dataframe tbody tr th:only-of-type {\n        vertical-align: middle;\n    }\n\n    .dataframe tbody tr th {\n        vertical-align: top;\n    }\n\n    .dataframe thead th {\n        text-align: right;\n    }\n</style>\n<table border=\"1\" class=\"dataframe\">\n  <thead>\n    <tr style=\"text-align: right;\">\n      <th></th>\n      <th>timestamp</th>\n      <th>latitude</th>\n      <th>longitude</th>\n      <th>groundspeed</th>\n      <th>altitude</th>\n      <th>altitudeStatus</th>\n      <th>updateType</th>\n      <th>altitudeChange</th>\n      <th>flight_identifier</th>\n    </tr>\n  </thead>\n  <tbody>\n    <tr>\n      <th>0</th>\n      <td>1589396232</td>\n      <td>40.61018</td>\n      <td>-73.79260</td>\n      <td>170</td>\n      <td>10</td>\n      <td>-</td>\n      <td>A</td>\n      <td>-</td>\n      <td>aasjhdfhj</td>\n    </tr>\n    <tr>\n      <th>1</th>\n      <td>1589396248</td>\n      <td>40.59851</td>\n      <td>-73.80048</td>\n      <td>183</td>\n      <td>14</td>\n      <td>-</td>\n      <td>A</td>\n      <td>-</td>\n      <td>aasjhdfhj</td>\n    </tr>\n    <tr>\n      <th>2</th>\n      <td>1589396264</td>\n      <td>40.58582</td>\n      <td>-73.80909</td>\n      <td>196</td>\n      <td>16</td>\n      <td>-</td>\n      <td>A</td>\n      <td>-</td>\n      <td>aasjhdfhj</td>\n    </tr>\n    <tr>\n      <th>3</th>\n      <td>1589396281</td>\n      <td>40.57109</td>\n      <td>-73.81738</td>\n      <td>218</td>\n      <td>20</td>\n      <td>-</td>\n      <td>A</td>\n      <td>-</td>\n      <td>aasjhdfhj</td>\n    </tr>\n    <tr>\n      <th>4</th>\n      <td>1589396297</td>\n      <td>40.55347</td>\n      <td>-73.81714</td>\n      <td>241</td>\n      <td>22</td>\n      <td>-</td>\n      <td>A</td>\n      <td>-</td>\n      <td>aasjhdfhj</td>\n    </tr>\n  </tbody>\n</table>\n</div>",
      "text/plain": "    timestamp  latitude  longitude  groundspeed  altitude altitudeStatus  \\\n0  1589396232  40.61018  -73.79260          170        10              -   \n1  1589396248  40.59851  -73.80048          183        14              -   \n2  1589396264  40.58582  -73.80909          196        16              -   \n3  1589396281  40.57109  -73.81738          218        20              -   \n4  1589396297  40.55347  -73.81714          241        22              -   \n\n  updateType altitudeChange flight_identifier  \n0          A              -         aasjhdfhj  \n1          A              -         aasjhdfhj  \n2          A              -         aasjhdfhj  \n3          A              -         aasjhdfhj  \n4          A              -         aasjhdfhj  "
     },
     "execution_count": 134,
     "metadata": {},
     "output_type": "execute_result"
    }
   ],
   "source": [
    "df.head()"
   ]
  },
  {
   "cell_type": "markdown",
   "metadata": {},
   "source": [
    "# IAH - LAX\n"
   ]
  },
  {
   "cell_type": "markdown",
   "metadata": {},
   "source": [
    "From [here](https://www.flights.com/flights/houston-iah-to-los-angeles-lax/): \"With 6 different airlines operating between houstan and Los Angeles, there are, on average, 2,642 flights per month. This equates to about 629 flights per week, and 90 flights per day from IAH to LAX.\" 5 out of 6 of these airliners are: \n",
    "- United Airlines (Flight UA 302) \n",
    "- Air China (CA 7398), Azul (AD 7026)\n",
    "- Asiana Airlines (OZ 9512)\n",
    "- Air New Zealand (NZ 9653)"
   ]
  },
  {
   "cell_type": "code",
   "execution_count": null,
   "metadata": {},
   "outputs": [],
   "source": []
  },
  {
   "cell_type": "code",
   "execution_count": null,
   "metadata": {},
   "outputs": [],
   "source": []
  },
  {
   "cell_type": "code",
   "execution_count": null,
   "metadata": {},
   "outputs": [],
   "source": []
  },
  {
   "cell_type": "code",
   "execution_count": null,
   "metadata": {},
   "outputs": [],
   "source": []
  },
  {
   "cell_type": "code",
   "execution_count": null,
   "metadata": {},
   "outputs": [],
   "source": []
  },
  {
   "cell_type": "code",
   "execution_count": null,
   "metadata": {},
   "outputs": [],
   "source": []
  }
 ]
}