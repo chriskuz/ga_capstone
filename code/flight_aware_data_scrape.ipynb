{
 "nbformat": 4,
 "nbformat_minor": 2,
 "metadata": {
  "language_info": {
   "name": "python",
   "codemirror_mode": {
    "name": "ipython",
    "version": 3
   },
   "version": "3.7.6-final"
  },
  "orig_nbformat": 2,
  "file_extension": ".py",
  "mimetype": "text/x-python",
  "name": "python",
  "npconvert_exporter": "python",
  "pygments_lexer": "ipython3",
  "version": 3,
  "kernelspec": {
   "name": "python37664bitdsitestconda48790fb83d3f473c989768c98a666b4b",
   "display_name": "Python 3.7.6 64-bit ('DSI_test': conda)"
  }
 },
 "cells": [
  {
   "cell_type": "markdown",
   "metadata": {},
   "source": [
    "# Notes\n",
    "\n",
    "## Flight paths:\n",
    "- **Houston, TX** to **Los Angeles, CA** (IAH - LAX)\n",
    "- **New York City, NY** to **Miami, FL** (JFK - MIA)\n",
    "- **Portland, WA** to **Chicago, IL** (PDX - ORD)\n",
    "\n",
    "## Number of Total Routes\n",
    "- at least 1,000 per route for now (All times in GMC)\n",
    "\n",
    "    -__Times:__\n",
    "\n",
    "        - 0000 hours to 0600 hours\n",
    "\n",
    "        - 0601 hours to 1200 hours\n",
    "\n",
    "        - 1201 hours to 1800 hours\n",
    "\n",
    "        - 1801 hours to 2399 hours\n",
    "\n",
    "    - __Times of the Year:__\n",
    "    \n",
    "        - Try to get every month\n",
    "\n",
    "    - __Times of the Week:__\n",
    "        - Try to get every day. \n",
    "    \n",
    "## Notes about Data considerations\n",
    "\n",
    "- see what are typical flight times for your paths. you may be limited here. \n",
    "\n",
    "- consistently work with other api to see what you can grab\n",
    "\n",
    "- grab future flights too!\n",
    "\n",
    "- do some division on how many flights you can grab from how many time zonestuff\n",
    "\n",
    "\n",
    "## Features to Scrape\n",
    "- want aircraft type\n",
    "- want airline flight info\n",
    "- want airline flight \n",
    "- want aircraft type struct\n",
    "- want flight struct"
   ]
  },
  {
   "cell_type": "code",
   "execution_count": 49,
   "metadata": {},
   "outputs": [],
   "source": [
    "import sys\n",
    "from suds import null, WebFault\n",
    "from suds.client import Client\n",
    "import logging\n",
    "import json"
   ]
  },
  {
   "cell_type": "code",
   "execution_count": 50,
   "metadata": {},
   "outputs": [],
   "source": [
    "with open('/Users/ChristopherKuzemka/Documents/GA/dsi_11/projects/capstone/env.json') as f:\n",
    "    information = json.load(f)"
   ]
  },
  {
   "cell_type": "code",
   "execution_count": 51,
   "metadata": {},
   "outputs": [
    {
     "data": {
      "text/plain": "dict_keys(['FA_API_KEY', 'FA_USERNAME', 'x-rapidapi-host', 'x-rapidapi-key'])"
     },
     "execution_count": 51,
     "metadata": {},
     "output_type": "execute_result"
    }
   ],
   "source": [
    "information.keys()"
   ]
  },
  {
   "cell_type": "code",
   "execution_count": 57,
   "metadata": {},
   "outputs": [],
   "source": [
    "username = information.get('FA_USERNAME')\n",
    "apiKey = information.get('FA_API_KEY')\n",
    "url = 'http://flightxml.flightaware.com/soap/FlightXML2/wsdl'"
   ]
  },
  {
   "cell_type": "code",
   "execution_count": 58,
   "metadata": {},
   "outputs": [],
   "source": [
    "logging.basicConfig(level=logging.INFO)\n",
    "api = Client(url, username=username, password=apiKey)"
   ]
  },
  {
   "cell_type": "code",
   "execution_count": 80,
   "metadata": {},
   "outputs": [
    {
     "data": {
      "text/plain": "[(EnrouteFlightStruct){\n    ident = \"N880WC\"\n    aircrafttype = \"C25B\"\n    actualdeparturetime = 1590245756\n    estimatedarrivaltime = 1590257451\n    filed_departuretime = 1590246000\n    origin = \"KSAT\"\n    destination = \"KSMO\"\n    originName = \"San Antonio Intl\"\n    originCity = \"San Antonio, TX\"\n    destinationName = \"Santa Monica Muni\"\n    destinationCity = \"Santa Monica, CA\"\n  },\n (EnrouteFlightStruct){\n    ident = \"N288G\"\n    aircrafttype = \"C525\"\n    actualdeparturetime = 0\n    estimatedarrivaltime = 1590262320\n    filed_departuretime = 1590259200\n    origin = \"KDVO\"\n    destination = \"KSMO\"\n    originName = \"Gnoss Field\"\n    originCity = \"Novato, CA\"\n    destinationName = \"Santa Monica Muni\"\n    destinationCity = \"Santa Monica, CA\"\n  }]"
     },
     "execution_count": 80,
     "metadata": {},
     "output_type": "execute_result"
    }
   ],
   "source": [
    "# Get the flights enroute - test\n",
    "result = api.service.Enroute('KSMO', 10, '', 0)\n",
    "flights = result['enroute']\n",
    "#result\n",
    "flights"
   ]
  },
  {
   "cell_type": "code",
   "execution_count": 82,
   "metadata": {},
   "outputs": [
    {
     "name": "stdout",
     "output_type": "stream",
     "text": "Aircraft en route to KSMO:\nN880WC (C25B) \tSan Antonio Intl (KSAT)\nN288G (C525) \tGnoss Field (KDVO)\n"
    }
   ],
   "source": [
    "print(\"Aircraft en route to KSMO:\")\n",
    "for flight in flights:\n",
    "    print(\"%s (%s) \\t%s (%s)\" % (flight['ident'], flight['aircrafttype'],\n",
    "                                  flight['originName'], flight['origin']))"
   ]
  },
  {
   "cell_type": "markdown",
   "metadata": {},
   "source": [
    "## Testing playground determining usefulness of API"
   ]
  },
  {
   "cell_type": "code",
   "execution_count": 83,
   "metadata": {},
   "outputs": [
    {
     "data": {
      "text/plain": "(AircraftTypeStruct){\n   manufacturer = \"Boeing\"\n   type = \"747-400\"\n   description = \"quad-jet\"\n }"
     },
     "execution_count": 83,
     "metadata": {},
     "output_type": "execute_result"
    }
   ],
   "source": [
    "#Get Aircraft type  - semi-useful\n",
    "aircraft_type = api.service.AircraftType('B744')\n",
    "aircraft_type"
   ]
  },
  {
   "cell_type": "code",
   "execution_count": 84,
   "metadata": {},
   "outputs": [
    {
     "data": {
      "text/plain": "(AirportInfoStruct){\n   name = \"Los Angeles Intl\"\n   location = \"Los Angeles, CA\"\n   longitude = -118.4080486\n   latitude = 33.9424964\n   timezone = \":America/Los_Angeles\"\n }"
     },
     "execution_count": 84,
     "metadata": {},
     "output_type": "execute_result"
    }
   ],
   "source": [
    "#Get Airport Information - semi-useful\n",
    "airport_info = api.service.AirportInfo('LAX')\n",
    "airport_info\n",
    "\n",
    "#api.service.AirportInfo"
   ]
  },
  {
   "cell_type": "code",
   "execution_count": 63,
   "metadata": {},
   "outputs": [],
   "source": [
    "#Decode Flight Route - need to use faFlightID function\n",
    "#decode_flight_route = api.service.DecodeFlightRoute()"
   ]
  },
  {
   "cell_type": "code",
   "execution_count": 64,
   "metadata": {},
   "outputs": [],
   "source": [
    "#Decode Route - cracked version of above - this is too much work\n",
    "#decode_route = api.service.DecodeRoute('IAH', 'LAX', )"
   ]
  },
  {
   "cell_type": "code",
   "execution_count": 85,
   "metadata": {},
   "outputs": [
    {
     "data": {
      "text/plain": "(DepartureStruct){\n   next_offset = 15\n   departures[] = \n      (DepartureFlightStruct){\n         ident = \"AAL2354\"\n         aircrafttype = \"A321\"\n         actualdeparturetime = 1590257173\n         estimatedarrivaltime = 1590266340\n         actualarrivaltime = 0\n         origin = \"KLAX\"\n         destination = \"KDFW\"\n         originName = \"Los Angeles Intl\"\n         originCity = \"Los Angeles, CA\"\n         destinationName = \"Dallas-Fort Worth Intl\"\n         destinationCity = \"Dallas-Fort Worth, TX\"\n      },\n      (DepartureFlightStruct){\n         ident = \"SKW3302\"\n         aircrafttype = \"E75L\"\n         actualdeparturetime = 1590256558\n         estimatedarrivaltime = 1590263198\n         actualarrivaltime = 0\n         origin = \"KLAX\"\n         destination = \"KBOI\"\n         originName = \"Los Angeles Intl\"\n         originCity = \"Los Angeles, CA\"\n         destinationName = \"Gowen Field\"\n         destinationCity = \"Boise, ID\"\n      },\n      (DepartureFlightStruct){\n         ident = \"DAL367\"\n         aircrafttype = \"B738\"\n         actualdeparturetime = 1590256340\n         estimatedarrivaltime = 1590262740\n         actualarrivaltime = 0\n         origin = \"KLAX\"\n         destination = \"KDEN\"\n         originName = \"Los Angeles Intl\"\n         originCity = \"Los Angeles, CA\"\n         destinationName = \"Denver Intl\"\n         destinationCity = \"Denver, CO\"\n      },\n      (DepartureFlightStruct){\n         ident = \"DAL3329\"\n         aircrafttype = \"B772\"\n         actualdeparturetime = 1590255944\n         estimatedarrivaltime = 1590301500\n         actualarrivaltime = 0\n         origin = \"KLAX\"\n         destination = \"RKSI\"\n         originName = \"Los Angeles Intl\"\n         originCity = \"Los Angeles, CA\"\n         destinationName = \"Incheon Int'l\"\n         destinationCity = \"Seoul (Incheon)\"\n      },\n      (DepartureFlightStruct){\n         ident = \"UAL2362\"\n         aircrafttype = \"B738\"\n         actualdeparturetime = 1590255832\n         estimatedarrivaltime = 1590268620\n         actualarrivaltime = 0\n         origin = \"KLAX\"\n         destination = \"KORD\"\n         originName = \"Los Angeles Intl\"\n         originCity = \"Los Angeles, CA\"\n         destinationName = \"Chicago O'Hare Intl\"\n         destinationCity = \"Chicago, IL\"\n      },\n      (DepartureFlightStruct){\n         ident = \"SKW3980\"\n         aircrafttype = \"E75L\"\n         actualdeparturetime = 1590255419\n         estimatedarrivaltime = 1590258480\n         actualarrivaltime = 0\n         origin = \"KLAX\"\n         destination = \"KPHX\"\n         originName = \"Los Angeles Intl\"\n         originCity = \"Los Angeles, CA\"\n         destinationName = \"Phoenix Sky Harbor Intl\"\n         destinationCity = \"Phoenix, AZ\"\n      },\n      (DepartureFlightStruct){\n         ident = \"CAL5197\"\n         aircrafttype = \"B744\"\n         actualdeparturetime = 1590255084\n         estimatedarrivaltime = 1590258180\n         actualarrivaltime = 0\n         origin = \"KLAX\"\n         destination = \"KSFO\"\n         originName = \"Los Angeles Intl\"\n         originCity = \"Los Angeles, CA\"\n         destinationName = \"San Francisco Intl\"\n         destinationCity = \"San Francisco, CA\"\n      },\n      (DepartureFlightStruct){\n         ident = \"ASA220\"\n         aircrafttype = \"A320\"\n         actualdeparturetime = 1590254656\n         estimatedarrivaltime = 1590262920\n         actualarrivaltime = 0\n         origin = \"KLAX\"\n         destination = \"MMPR\"\n         originName = \"Los Angeles Intl\"\n         originCity = \"Los Angeles, CA\"\n         destinationName = \"Lic. Gustavo Diaz Ordaz Int'l\"\n         destinationCity = \"Puerto Vallarta, Jalisco\"\n      },\n      (DepartureFlightStruct){\n         ident = \"SKW3333\"\n         aircrafttype = \"E75L\"\n         actualdeparturetime = 1590254544\n         estimatedarrivaltime = 1590258000\n         actualarrivaltime = 0\n         origin = \"KLAX\"\n         destination = \"KSFO\"\n         originName = \"Los Angeles Intl\"\n         originCity = \"Los Angeles, CA\"\n         destinationName = \"San Francisco Intl\"\n         destinationCity = \"San Francisco, CA\"\n      },\n      (DepartureFlightStruct){\n         ident = \"AAL2546\"\n         aircrafttype = \"A319\"\n         actualdeparturetime = 1590254445\n         estimatedarrivaltime = 1590265020\n         actualarrivaltime = 0\n         origin = \"KLAX\"\n         destination = \"MMMX\"\n         originName = \"Los Angeles Intl\"\n         originCity = \"Los Angeles, CA\"\n         destinationName = \"Lic. Benito Juarez Int'l\"\n         destinationCity = \"Mexico City\"\n      },\n      (DepartureFlightStruct){\n         ident = \"AAL1268\"\n         aircrafttype = \"B738\"\n         actualdeparturetime = 1590254242\n         estimatedarrivaltime = 1590270660\n         actualarrivaltime = 0\n         origin = \"KLAX\"\n         destination = \"KMIA\"\n         originName = \"Los Angeles Intl\"\n         originCity = \"Los Angeles, CA\"\n         destinationName = \"Miami Intl\"\n         destinationCity = \"Miami, FL\"\n      },\n      (DepartureFlightStruct){\n         ident = \"AAL147\"\n         aircrafttype = \"A321\"\n         actualdeparturetime = 1590254084\n         estimatedarrivaltime = 1590262800\n         actualarrivaltime = 0\n         origin = \"KLAX\"\n         destination = \"KDFW\"\n         originName = \"Los Angeles Intl\"\n         originCity = \"Los Angeles, CA\"\n         destinationName = \"Dallas-Fort Worth Intl\"\n         destinationCity = \"Dallas-Fort Worth, TX\"\n      },\n      (DepartureFlightStruct){\n         ident = \"UAL2852\"\n         aircrafttype = \"B77W\"\n         actualdeparturetime = 1590253661\n         estimatedarrivaltime = 1590305423\n         actualarrivaltime = 0\n         origin = \"KLAX\"\n         destination = \"VHHH\"\n         originName = \"Los Angeles Intl\"\n         originCity = \"Los Angeles, CA\"\n         destinationName = \"Hong Kong Int'l\"\n         destinationCity = \"Hong Kong\"\n      },\n      (DepartureFlightStruct){\n         ident = \"HAL3\"\n         aircrafttype = \"A332\"\n         actualdeparturetime = 1590253507\n         estimatedarrivaltime = 1590271680\n         actualarrivaltime = 0\n         origin = \"KLAX\"\n         destination = \"PHNL\"\n         originName = \"Los Angeles Intl\"\n         originCity = \"Los Angeles, CA\"\n         destinationName = \"Daniel K Inouye Intl\"\n         destinationCity = \"Honolulu, HI\"\n      },\n      (DepartureFlightStruct){\n         ident = \"AAL2776\"\n         aircrafttype = \"B738\"\n         actualdeparturetime = 1590253176\n         estimatedarrivaltime = 1590265140\n         actualarrivaltime = 0\n         origin = \"KLAX\"\n         destination = \"KORD\"\n         originName = \"Los Angeles Intl\"\n         originCity = \"Los Angeles, CA\"\n         destinationName = \"Chicago O'Hare Intl\"\n         destinationCity = \"Chicago, IL\"\n      },\n }"
     },
     "execution_count": 85,
     "metadata": {},
     "output_type": "execute_result"
    }
   ],
   "source": [
    "#Departed \n",
    "departed = api.service.Departed('LAX', 15, None, 0)\n",
    "departed"
   ]
  },
  {
   "cell_type": "code",
   "execution_count": 89,
   "metadata": {},
   "outputs": [
    {
     "data": {
      "text/plain": "(ArrayOfTrackExStruct){\n   next_offset = 15\n   data[] = \n      (TrackExStruct){\n         faFlightID = \"QTR729-1589949965-airline-0219\"\n         timestamp = 1590124281\n         latitude = 25.33177\n         longitude = 51.5933\n         groundspeed = 220\n         altitude = 18\n         altitudeStatus = None\n         updateType = \"TA\"\n         altitudeChange = None\n      },\n      (TrackExStruct){\n         faFlightID = \"CAL2007-1590120107-0-2-172\"\n         timestamp = 1590128961\n         latitude = 33.9444\n         longitude = -118.46123\n         groundspeed = 204\n         altitude = 13\n         altitudeStatus = None\n         updateType = \"TA\"\n         altitudeChange = None\n      },\n      (TrackExStruct){\n         faFlightID = \"UAE241-1589949964-airline-0053\"\n         timestamp = 1590127589\n         latitude = 25.25496\n         longitude = 55.36057\n         groundspeed = 207\n         altitude = 7\n         altitudeStatus = None\n         updateType = \"TA\"\n         altitudeChange = None\n      },\n      (TrackExStruct){\n         faFlightID = \"QTR8157-1589863520-airline-0038\"\n         timestamp = 1590126191\n         latitude = -23.40837\n         longitude = -46.36917\n         groundspeed = 222\n         altitude = 64\n         altitudeStatus = None\n         updateType = \"TA\"\n         altitudeChange = None\n      },\n      (TrackExStruct){\n         faFlightID = \"CSC3818-1590118315-2-0-147\"\n         timestamp = 1590129749\n         latitude = 33.94254\n         longitude = -118.50786\n         groundspeed = 232\n         altitude = 25\n         altitudeStatus = None\n         updateType = \"TA\"\n         altitudeChange = None\n      },\n      (TrackExStruct){\n         faFlightID = \"CES7120-1590118374-0-0-199\"\n         timestamp = 1590125666\n         latitude = 33.9381\n         longitude = -118.56328\n         groundspeed = 223\n         altitude = 39\n         altitudeStatus = None\n         updateType = \"TA\"\n         altitudeChange = None\n      },\n      (TrackExStruct){\n         faFlightID = \"CSN442-1590119698-3-6-158\"\n         timestamp = 1590129657\n         latitude = 33.9276\n         longitude = -118.50929\n         groundspeed = 201\n         altitude = 37\n         altitudeStatus = None\n         updateType = \"TA\"\n         altitudeChange = None\n      },\n      (TrackExStruct){\n         faFlightID = \"CPA883-1590085844-airline-0072\"\n         timestamp = 1590129377\n         latitude = 33.94331\n         longitude = -118.47522\n         groundspeed = 210\n         altitude = 19\n         altitudeStatus = None\n         updateType = \"TA\"\n         altitudeChange = None\n      },\n      (TrackExStruct){\n         faFlightID = \"EVA32-1590118667-0-5-48\"\n         timestamp = 1590123762\n         latitude = 25.12216\n         longitude = 121.30244\n         groundspeed = 205\n         altitude = 33\n         altitudeStatus = None\n         updateType = \"TA\"\n         altitudeChange = None\n      },\n      (TrackExStruct){\n         faFlightID = \"QTR7452-1590105948-eb-0001\"\n         timestamp = 1590127430\n         latitude = 49.20891\n         longitude = -123.38301\n         groundspeed = 235\n         altitude = 42\n         altitudeStatus = None\n         updateType = \"TA\"\n         altitudeChange = None\n      },\n      (TrackExStruct){\n         faFlightID = \"AAL9732-1590053427-1-3-171\"\n         timestamp = 1590126324\n         latitude = 22.28228\n         longitude = 113.85554\n         groundspeed = 214\n         altitude = 21\n         altitudeStatus = None\n         updateType = \"TA\"\n         altitudeChange = None\n      },\n      (TrackExStruct){\n         faFlightID = \"EVA35-1590112013-0-0-180\"\n         timestamp = 1590121585\n         latitude = 43.70947\n         longitude = -79.66487\n         groundspeed = 210\n         altitude = 14\n         altitudeStatus = None\n         updateType = \"TA\"\n         altitudeChange = None\n      },\n      (TrackExStruct){\n         faFlightID = \"PAC997-1589863520-airline-0186\"\n         timestamp = 1590129142\n         latitude = 33.92881\n         longitude = -118.48475\n         groundspeed = 214\n         altitude = 17\n         altitudeStatus = None\n         updateType = \"TA\"\n         altitudeChange = None\n      },\n      (TrackExStruct){\n         faFlightID = \"QTR725-1589949965-airline-0217\"\n         timestamp = 1590125146\n         latitude = 25.324\n         longitude = 51.59672\n         groundspeed = 203\n         altitude = 17\n         altitudeStatus = None\n         updateType = \"TA\"\n         altitudeChange = None\n      },\n      (TrackExStruct){\n         faFlightID = \"EVA55-1590116789-1-0-44\"\n         timestamp = 1590123003\n         latitude = 41.98193\n         longitude = -87.78479\n         groundspeed = 214\n         altitude = 41\n         altitudeStatus = None\n         updateType = \"TA\"\n         altitudeChange = None\n      },\n }"
     },
     "execution_count": 89,
     "metadata": {},
     "output_type": "execute_result"
    }
   ],
   "source": [
    "test = api.service.SearchBirdseyePositions('{< alt 100} {> gs 200}', True, 15)\n",
    "test"
   ]
  },
  {
   "cell_type": "code",
   "execution_count": null,
   "metadata": {},
   "outputs": [],
   "source": [
    "#Structure of URL\n",
    "\n",
    "#url + "
   ]
  },
  {
   "cell_type": "code",
   "execution_count": null,
   "metadata": {},
   "outputs": [],
   "source": []
  },
  {
   "cell_type": "code",
   "execution_count": null,
   "metadata": {},
   "outputs": [],
   "source": []
  },
  {
   "cell_type": "code",
   "execution_count": null,
   "metadata": {},
   "outputs": [],
   "source": []
  },
  {
   "cell_type": "code",
   "execution_count": null,
   "metadata": {},
   "outputs": [],
   "source": []
  },
  {
   "cell_type": "code",
   "execution_count": null,
   "metadata": {},
   "outputs": [],
   "source": []
  },
  {
   "cell_type": "code",
   "execution_count": null,
   "metadata": {},
   "outputs": [],
   "source": []
  },
  {
   "cell_type": "code",
   "execution_count": null,
   "metadata": {},
   "outputs": [],
   "source": []
  }
 ]
}