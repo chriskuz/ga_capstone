{
 "nbformat": 4,
 "nbformat_minor": 2,
 "metadata": {
  "language_info": {
   "name": "python",
   "codemirror_mode": {
    "name": "ipython",
    "version": 3
   },
   "version": "3.7.6-final"
  },
  "orig_nbformat": 2,
  "file_extension": ".py",
  "mimetype": "text/x-python",
  "name": "python",
  "npconvert_exporter": "python",
  "pygments_lexer": "ipython3",
  "version": 3,
  "kernelspec": {
   "name": "python37664bitdsitestconda48790fb83d3f473c989768c98a666b4b",
   "display_name": "Python 3.7.6 64-bit ('DSI_test': conda)"
  }
 },
 "cells": [
  {
   "cell_type": "markdown",
   "metadata": {},
   "source": [
    "# Notes\n",
    "\n",
    "## Flight paths:\n",
    "- **Houston, TX** to **Los Angeles, CA** (IAH - LAX)\n",
    "- **New York City, NY** to **Miami, FL** (JFK - MIA)\n",
    "- **Portland, WA** to **Chicago, IL** (PDX - ORD)\n",
    "\n",
    "## Number of Total Routes\n",
    "- at least 1,000 per route for now (All times in GMC)\n",
    "\n",
    "    -__Times:__\n",
    "\n",
    "        - 0000 hours to 0600 hours\n",
    "\n",
    "        - 0601 hours to 1200 hours\n",
    "\n",
    "        - 1201 hours to 1800 hours\n",
    "\n",
    "        - 1801 hours to 2399 hours\n",
    "\n",
    "    - __Times of the Year:__\n",
    "    \n",
    "        - Try to get every month\n",
    "\n",
    "    - __Times of the Week:__\n",
    "        - Try to get every day. \n",
    "    \n",
    "## Notes about Data considerations\n",
    "\n",
    "- see what are typical flight times for your paths. you may be limited here. \n",
    "\n",
    "- consistently work with other api to see what you can grab\n",
    "\n",
    "- grab future flights too!\n",
    "\n",
    "- do some division on how many flights you can grab from how many time zonestuff\n",
    "\n",
    "\n",
    "## Features to Scrape\n",
    "- want aircraft type\n",
    "- want airline flight info\n",
    "- want airline flight \n",
    "- want aircraft type struct\n",
    "- want flight struct\n",
    "\n",
    "1 query will generate 15 results. Ex; If you request to see all flight from airport Alpha to Airport Bravo and the search results come back with 5000 flights. To find the pricing estimate you would do the following math. 5000/15 = 333 * $0.0079 = $2.63 (Class 2)"
   ]
  },
  {
   "cell_type": "code",
   "execution_count": 269,
   "metadata": {},
   "outputs": [],
   "source": [
    "import sys\n",
    "from suds import null, WebFault\n",
    "from suds.client import Client\n",
    "import logging\n",
    "import json\n",
    "import pandas as pd\n",
    "import datetime\n",
    "import numpy as np"
   ]
  },
  {
   "cell_type": "code",
   "execution_count": 2,
   "metadata": {},
   "outputs": [],
   "source": [
    "with open('/Users/ChristopherKuzemka/Documents/GA/dsi_11/projects/capstone/env.json') as f:\n",
    "    information = json.load(f)"
   ]
  },
  {
   "cell_type": "code",
   "execution_count": 3,
   "metadata": {},
   "outputs": [
    {
     "data": {
      "text/plain": "dict_keys(['FA_API_KEY', 'FA_USERNAME', 'x-rapidapi-host', 'x-rapidapi-key'])"
     },
     "execution_count": 3,
     "metadata": {},
     "output_type": "execute_result"
    }
   ],
   "source": [
    "information.keys()"
   ]
  },
  {
   "cell_type": "code",
   "execution_count": 4,
   "metadata": {},
   "outputs": [],
   "source": [
    "username = information.get('FA_USERNAME')\n",
    "apiKey = information.get('FA_API_KEY')\n",
    "url = 'http://flightxml.flightaware.com/soap/FlightXML2/wsdl'"
   ]
  },
  {
   "cell_type": "code",
   "execution_count": 5,
   "metadata": {},
   "outputs": [],
   "source": [
    "logging.basicConfig(level=logging.INFO)\n",
    "api = Client(url, username=username, password=apiKey)"
   ]
  },
  {
   "cell_type": "markdown",
   "metadata": {},
   "source": [
    "## Testing playground determining usefulness of API"
   ]
  },
  {
   "cell_type": "code",
   "execution_count": 83,
   "metadata": {},
   "outputs": [
    {
     "data": {
      "text/plain": "(AircraftTypeStruct){\n   manufacturer = \"Boeing\"\n   type = \"747-400\"\n   description = \"quad-jet\"\n }"
     },
     "execution_count": 83,
     "metadata": {},
     "output_type": "execute_result"
    }
   ],
   "source": [
    "#Get Aircraft type  - semi-useful\n",
    "aircraft_type = api.service.AircraftType('B744')\n",
    "aircraft_type"
   ]
  },
  {
   "cell_type": "markdown",
   "metadata": {},
   "source": [
    "# JFK - MIA\n",
    "\n",
    "From [here](https://www.flights.com/flights/new-york-jfk-to-miami-mia/): \"with 3 differnt airlines operating flights between New York and Miami, there are, on average, 2,197 flights per month.. This equates to about 523 flights per week, and 75 flights per day from JFK to MIA. The three airlines are:\n",
    "- American Airlines (Flight AA 2572)\n",
    "\n",
    "- British Airways (Flight BA 1687) \n",
    "\n",
    "- Malaysia Airlines (Flight MH 9446)."
   ]
  },
  {
   "cell_type": "code",
   "execution_count": 7,
   "metadata": {},
   "outputs": [],
   "source": [
    "def make_unix_lists(start_date, end_date, frequency):\n",
    "    created_range = pd.date_range(start = start_date, end = end_date, freq = frequency) #creates a daterange series\n",
    "    list_created_range = list(created_range) #converts such range into a list\n",
    "    unix_floats = [date.to_pydatetime().timestamp() for date in list_created_range] #transforms the daterange list into unix epoch tiimestamps represented as floats\n",
    "    unix_ints = [int(i) for i in unix_floats] #makes the above list as a list of integers\n",
    "    #return unix_ints\n",
    "\n",
    "    #We are doing the below to accomodate a for loop format into another function\n",
    "    start_ints = unix_ints[:-1] #creates a list of all the start dates without last element\n",
    "    end_ints = unix_ints[1:] #creates a list of all the end dates without first element \n",
    "\n",
    "    return start_ints, end_ints"
   ]
  },
  {
   "cell_type": "code",
   "execution_count": 8,
   "metadata": {},
   "outputs": [],
   "source": [
    "start, end = make_unix_lists('5/11/2020', '5/24/2020', '8H')"
   ]
  },
  {
   "cell_type": "code",
   "execution_count": 9,
   "metadata": {},
   "outputs": [
    {
     "data": {
      "text/plain": "[1589169600,\n 1589198400,\n 1589227200,\n 1589256000,\n 1589284800,\n 1589313600,\n 1589342400,\n 1589371200,\n 1589400000,\n 1589428800,\n 1589457600,\n 1589486400,\n 1589515200,\n 1589544000,\n 1589572800,\n 1589601600,\n 1589630400,\n 1589659200,\n 1589688000,\n 1589716800,\n 1589745600,\n 1589774400,\n 1589803200,\n 1589832000,\n 1589860800,\n 1589889600,\n 1589918400,\n 1589947200,\n 1589976000,\n 1590004800,\n 1590033600,\n 1590062400,\n 1590091200,\n 1590120000,\n 1590148800,\n 1590177600,\n 1590206400,\n 1590235200,\n 1590264000]"
     },
     "execution_count": 9,
     "metadata": {},
     "output_type": "execute_result"
    }
   ],
   "source": [
    "start"
   ]
  },
  {
   "cell_type": "code",
   "execution_count": 10,
   "metadata": {},
   "outputs": [],
   "source": [
    "jfk_mia_info = {'AA':'2572',\n",
    "                'BA':'1687',\n",
    "                'MA':'9446'}"
   ]
  },
  {
   "cell_type": "code",
   "execution_count": 380,
   "metadata": {},
   "outputs": [],
   "source": [
    "def get_flights_df(start_input, end_input, frequency_input, origin_input, destination_input, flight_info_input, howMany_input):\n",
    "    ## Empty lists for storage reasons\n",
    "    schedules = [] #instantiates the schedules column\n",
    "    modified_schedules = [] #instantiates the modified schedules list\n",
    "    flight_info_list = [] #instantiates the flight info list\n",
    "\n",
    "\n",
    "    ## Creates the sketelton dataframe for schedules_df\n",
    "    schedules_cols = ['ident', 'actual_ident', 'departuretime', 'arrival_time', 'origin', 'destination', 'aircrafttype', 'meal_service', 'seats_cabin_first', 'seats_cabin_business', 'seats_cabin_coach'] #column names for the scheduling df\n",
    "    schedules_df = pd.DataFrame(columns = column_names) #creates the empty schedules dataframe skeleton\n",
    "\n",
    "    ## Creates the skeleton dataframe for the flight_info_df\n",
    "    flight_info_cols = ['faFlightID', 'ident', 'aircrafttype', 'filed_ete', 'filed_time', 'filed_departuretime', 'filed_airspeed_mach', 'filed_altitude', 'actualdeparturetime', 'estimatedarrivaltime', 'actualarrivaltime', 'diverted', 'origin', 'originName', 'originCity', 'destinationName', 'destinationCity']\n",
    "    flight_info_df = pd.DataFrame(columns = names) #creates the empty flight_info dataframe skeleton\n",
    "\n",
    "    ## Unix Epoch Time Function\n",
    "    start_list, end_list = make_unix_lists(start_input, end_input, frequency_input) #utilizes the unix epoch creation list function\n",
    "\n",
    "    ## Magic happens here\n",
    "    for airline_code in flight_info_input: #for the keys in the flight info input \n",
    "        for j in range(len(start_list)): #for the entirity of the unix epoch time list\n",
    "            airline_flight_schedules = api.service.AirlineFlightSchedules(startDate = start_list[j], endDate = end_list[j], origin = origin_input, destination = destination_input, airline = airline_code, flightno = flight_info_input.get(airline_code), howMany = howMany_input) #gets the flight schedules information\n",
    "\n",
    "            #Credit for the dict below\n",
    "            #https://stackoverflow.com/questions/17581731/parsing-suds-soap-complex-data-type-into-python-dict\n",
    "            airline_flight_dict = Client.dict(airline_flight_schedules) #converts the above variable to a dictionary\n",
    "            schedules.append(airline_flight_dict) #appends results to the instantiated output list\n",
    "    \n",
    "    ## Cleans the dirty collection for schedules\n",
    "    for k in range(len(schedules)):\n",
    "        try: #try the below...we'll get some errors for empty stuff\n",
    "            modified_schedules.append(schedules[k]['data']) #filters the output list to only show meaningful information where actual flights were flows in a timeframes studied\n",
    "        except: #when an error occurs...\n",
    "            continue #..move on and ignore any issues with with non existent flight data\n",
    "\n",
    "    ## Creates a dataframe out of the modified_schedules list <-- FIX THIS LATER\n",
    "    for l in range(len(modified_schedules)):\n",
    "        for m in range(len(modified_schedules[l])):\n",
    "            sched_df = pd.DataFrame(modified_schedules[l][m]).T #uses a transposed version to cleanly extract the data\n",
    "            sched_df.rename(columns = {0:schedules_cols[0], #renames the columns to match the end_df so concatenation is simple\n",
    "                        1: schedules_cols[1],\n",
    "                        2: schedules_cols[2],\n",
    "                        3: schedules_cols[3],\n",
    "                        4: schedules_cols[4],\n",
    "                        5: schedules_cols[5],\n",
    "                        6: schedules_cols[6],\n",
    "                        7: schedules_cols[7],\n",
    "                        8: schedules_cols[8],\n",
    "                        9: schedules_cols[9],\n",
    "                        10: schedules_cols[10]}, inplace = True) #very inefficient way to rename my columns\n",
    "            schedules_df = pd.concat([schedules_df, sched_df]) #overwrites the end_df to create a larger dataframe\n",
    "    \n",
    "    ## Cleans the schedules_df\n",
    "    schedules_df.drop(index = 0, inplace = True) #drops the 0 index rows in the repetative 0,1 pattern of the dataframe\n",
    "    schedules_df.reset_index(inplace = True) #resets the index by creating a new index row\n",
    "    schedules_df.drop(columns = 'index', inplace = True) #drops the extra 'index row\n",
    "    schedules_df.drop_duplicates(subset = ['arrival_time'], inplace = True) #drops the duplicate time epochs so that we don't have impossible situations of the same flight coming into the same place at the same exact time\n",
    "\n",
    "\n",
    "    ## Gets the flight information list using the schedules_df idents\n",
    "    for identifier in schedules_df['ident']: #calls to each identifier collected\n",
    "        for offset_number in range(15): #set in place to not miss any flights in 2 week period \n",
    "            try: #we're gonna get some errors here for empty flights I think\n",
    "                flight_info_ex = api.service.FlightInfoEx(ident = identifier, howMany = 15, offset = offset_number) #retrieves the information pertaining to the identifier\n",
    "                flight_info = Client.dict(flight_info_ex) #converts the suds object into a workable dictionary\n",
    "                flight_info_list.append(flight_info_ex) #appends whatever the above is into a list\n",
    "            except: #when an error occurs...\n",
    "                continue #...just move on\n",
    "\n",
    "    ## Creates a dataframe out of the flight_info_df\n",
    "    ## Credit to Alex Speicher from Hofstra University for showing an efficient way to do this\n",
    "    for query in flight_info_list: #calls to every query in the info list made\n",
    "        for flight in query['flights']: #for every flight in the dictionary\n",
    "            flight_dict = {} #empty dicitonary pertaining to the columns in each flight \n",
    "            for column in flight_info_cols: #for every column name in the flight_info_cols\n",
    "                flight_dict[column] = flight[column] #appends the column names to the dictionary\n",
    "            info_df = pd.DataFrame([flight_dict], columns=flight_dict.keys()) #makes a dataframe using the dictionary columns \n",
    "            flight_info_df = pd.concat([flight_info_df, info_df], axis =0).reset_index(drop = True) #resets the index and fixes all those issues\n",
    "\n",
    "    #Cleans the flight_info_df\n",
    "    flight_info_df.drop_duplicates(subset = ['faFlightID'], inplace = True) #eliminates the overlapping most unique identifiers in our\n",
    "    flight_info_df = flight_info_df[flight_info_df['actualarrivaltime'] != 0] #removes the currently active flights from the list as there is no data on them and overwrites the dataframe variable\n",
    "    flight_info_df.reset_index(inplace = True) #resets the index \n",
    "\n",
    "    return schedules_df, flight_info_df #returns two dataframes"
   ]
  },
  {
   "cell_type": "code",
   "execution_count": 381,
   "metadata": {},
   "outputs": [
    {
     "name": "stderr",
     "output_type": "stream",
     "text": "ERROR:suds.client:<suds.sax.document.Document object at 0x12099a110>\nERROR:suds.client:<suds.sax.document.Document object at 0x117c7c710>\nERROR:suds.client:<suds.sax.document.Document object at 0x1202f7510>\nERROR:suds.client:<suds.sax.document.Document object at 0x120b27150>\nERROR:suds.client:<suds.sax.document.Document object at 0x122c703d0>\nERROR:suds.client:<suds.sax.document.Document object at 0x1070bdd90>\nERROR:suds.client:<suds.sax.document.Document object at 0x1221c2750>\nERROR:suds.client:<suds.sax.document.Document object at 0x122291710>\nERROR:suds.client:<suds.sax.document.Document object at 0x12212f810>\nERROR:suds.client:<suds.sax.document.Document object at 0x124108650>\nERROR:suds.client:<suds.sax.document.Document object at 0x125947610>\nERROR:suds.client:<suds.sax.document.Document object at 0x12626c190>\nERROR:suds.client:<suds.sax.document.Document object at 0x125267650>\nERROR:suds.client:<suds.sax.document.Document object at 0x12533cad0>\nERROR:suds.client:<suds.sax.document.Document object at 0x124f4a1d0>\nERROR:suds.client:<suds.sax.document.Document object at 0x126189a90>\nERROR:suds.client:<suds.sax.document.Document object at 0x125de14d0>\nERROR:suds.client:<suds.sax.document.Document object at 0x1257b9650>\nERROR:suds.client:<suds.sax.document.Document object at 0x125dcff50>\nERROR:suds.client:<suds.sax.document.Document object at 0x12577a7d0>\n"
    }
   ],
   "source": [
    "jfk_mia_flight_scheds, jfk_mia_flight_info = get_flights_df('5/15/2020', '5/25/2020', '8H', 'JFK', 'MIA', jfk_mia_info, 15)"
   ]
  },
  {
   "cell_type": "code",
   "execution_count": 514,
   "metadata": {},
   "outputs": [
    {
     "data": {
      "text/html": "<div>\n<style scoped>\n    .dataframe tbody tr th:only-of-type {\n        vertical-align: middle;\n    }\n\n    .dataframe tbody tr th {\n        vertical-align: top;\n    }\n\n    .dataframe thead th {\n        text-align: right;\n    }\n</style>\n<table border=\"1\" class=\"dataframe\">\n  <thead>\n    <tr style=\"text-align: right;\">\n      <th></th>\n      <th>ident</th>\n      <th>actual_ident</th>\n      <th>departuretime</th>\n      <th>arrival_time</th>\n      <th>origin</th>\n      <th>destination</th>\n      <th>aircrafttype</th>\n      <th>meal_service</th>\n      <th>seats_cabin_first</th>\n      <th>seats_cabin_business</th>\n      <th>seats_cabin_coach</th>\n    </tr>\n  </thead>\n  <tbody>\n    <tr>\n      <th>0</th>\n      <td>MAS9446</td>\n      <td>AAL2572</td>\n      <td>1589567400</td>\n      <td>1589579280</td>\n      <td>KJFK</td>\n      <td>KMIA</td>\n      <td>B738</td>\n      <td>Business: Meal / Economy: Meal</td>\n      <td>0</td>\n      <td>16</td>\n      <td>144</td>\n    </tr>\n    <tr>\n      <th>1</th>\n      <td>GLO6391</td>\n      <td>AAL2572</td>\n      <td>1589569200</td>\n      <td>1589581200</td>\n      <td>KJFK</td>\n      <td>KMIA</td>\n      <td>B738</td>\n      <td>Business: No meal / Economy: No meal</td>\n      <td>0</td>\n      <td>16</td>\n      <td>144</td>\n    </tr>\n    <tr>\n      <th>3</th>\n      <td>MAS9446</td>\n      <td>AAL2572</td>\n      <td>1589653800</td>\n      <td>1589665680</td>\n      <td>KJFK</td>\n      <td>KMIA</td>\n      <td>B738</td>\n      <td>Business: Meal / Economy: Meal</td>\n      <td>0</td>\n      <td>16</td>\n      <td>144</td>\n    </tr>\n    <tr>\n      <th>4</th>\n      <td>GLO6391</td>\n      <td>AAL2572</td>\n      <td>1589655600</td>\n      <td>1589667600</td>\n      <td>KJFK</td>\n      <td>KMIA</td>\n      <td>B738</td>\n      <td>Business: No meal / Economy: No meal</td>\n      <td>0</td>\n      <td>16</td>\n      <td>144</td>\n    </tr>\n    <tr>\n      <th>6</th>\n      <td>MAS9446</td>\n      <td>AAL2572</td>\n      <td>1589740200</td>\n      <td>1589752080</td>\n      <td>KJFK</td>\n      <td>KMIA</td>\n      <td>B738</td>\n      <td>Business: Meal / Economy: Meal</td>\n      <td>0</td>\n      <td>16</td>\n      <td>144</td>\n    </tr>\n    <tr>\n      <th>7</th>\n      <td>GLO6391</td>\n      <td>AAL2572</td>\n      <td>1589742000</td>\n      <td>1589754000</td>\n      <td>KJFK</td>\n      <td>KMIA</td>\n      <td>B738</td>\n      <td>Business: No meal / Economy: No meal</td>\n      <td>0</td>\n      <td>16</td>\n      <td>144</td>\n    </tr>\n    <tr>\n      <th>9</th>\n      <td>MAS9446</td>\n      <td>AAL2572</td>\n      <td>1589826600</td>\n      <td>1589838480</td>\n      <td>KJFK</td>\n      <td>KMIA</td>\n      <td>B738</td>\n      <td>Business: Meal / Economy: Meal</td>\n      <td>0</td>\n      <td>16</td>\n      <td>144</td>\n    </tr>\n    <tr>\n      <th>10</th>\n      <td>GLO6391</td>\n      <td>AAL2572</td>\n      <td>1589828400</td>\n      <td>1589840400</td>\n      <td>KJFK</td>\n      <td>KMIA</td>\n      <td>B738</td>\n      <td>Business: No meal / Economy: No meal</td>\n      <td>0</td>\n      <td>16</td>\n      <td>144</td>\n    </tr>\n    <tr>\n      <th>12</th>\n      <td>MAS9446</td>\n      <td>AAL2572</td>\n      <td>1589913000</td>\n      <td>1589924880</td>\n      <td>KJFK</td>\n      <td>KMIA</td>\n      <td>B738</td>\n      <td>Business: Meal / Economy: Meal</td>\n      <td>0</td>\n      <td>16</td>\n      <td>144</td>\n    </tr>\n    <tr>\n      <th>13</th>\n      <td>AAL2572</td>\n      <td>None</td>\n      <td>1589914800</td>\n      <td>1589926800</td>\n      <td>KJFK</td>\n      <td>KMIA</td>\n      <td>B738</td>\n      <td>Business: No meal / Economy: No meal</td>\n      <td>0</td>\n      <td>16</td>\n      <td>144</td>\n    </tr>\n    <tr>\n      <th>14</th>\n      <td>MAS9446</td>\n      <td>AAL2572</td>\n      <td>1589999400</td>\n      <td>1590011280</td>\n      <td>KJFK</td>\n      <td>KMIA</td>\n      <td>B738</td>\n      <td>Business: Meal / Economy: Meal</td>\n      <td>0</td>\n      <td>16</td>\n      <td>144</td>\n    </tr>\n    <tr>\n      <th>15</th>\n      <td>GLO6391</td>\n      <td>AAL2572</td>\n      <td>1590001200</td>\n      <td>1590013200</td>\n      <td>KJFK</td>\n      <td>KMIA</td>\n      <td>B738</td>\n      <td>Business: No meal / Economy: No meal</td>\n      <td>0</td>\n      <td>16</td>\n      <td>144</td>\n    </tr>\n    <tr>\n      <th>17</th>\n      <td>MAS9446</td>\n      <td>AAL2572</td>\n      <td>1590085800</td>\n      <td>1590097680</td>\n      <td>KJFK</td>\n      <td>KMIA</td>\n      <td>B738</td>\n      <td>Business: Meal / Economy: Meal</td>\n      <td>0</td>\n      <td>16</td>\n      <td>144</td>\n    </tr>\n    <tr>\n      <th>18</th>\n      <td>GLO6391</td>\n      <td>AAL2572</td>\n      <td>1590087600</td>\n      <td>1590099600</td>\n      <td>KJFK</td>\n      <td>KMIA</td>\n      <td>B738</td>\n      <td>Business: No meal / Economy: No meal</td>\n      <td>0</td>\n      <td>16</td>\n      <td>144</td>\n    </tr>\n    <tr>\n      <th>20</th>\n      <td>MAS9446</td>\n      <td>AAL2572</td>\n      <td>1590172200</td>\n      <td>1590184080</td>\n      <td>KJFK</td>\n      <td>KMIA</td>\n      <td>B738</td>\n      <td>Business: Meal / Economy: Meal</td>\n      <td>0</td>\n      <td>16</td>\n      <td>144</td>\n    </tr>\n    <tr>\n      <th>21</th>\n      <td>GLO6391</td>\n      <td>AAL2572</td>\n      <td>1590174000</td>\n      <td>1590186000</td>\n      <td>KJFK</td>\n      <td>KMIA</td>\n      <td>B738</td>\n      <td>Business: No meal / Economy: No meal</td>\n      <td>0</td>\n      <td>16</td>\n      <td>144</td>\n    </tr>\n    <tr>\n      <th>23</th>\n      <td>MAS9446</td>\n      <td>AAL2572</td>\n      <td>1590258600</td>\n      <td>1590270480</td>\n      <td>KJFK</td>\n      <td>KMIA</td>\n      <td>B738</td>\n      <td>Business: Meal / Economy: Meal</td>\n      <td>0</td>\n      <td>16</td>\n      <td>144</td>\n    </tr>\n    <tr>\n      <th>24</th>\n      <td>GLO6391</td>\n      <td>AAL2572</td>\n      <td>1590260400</td>\n      <td>1590272400</td>\n      <td>KJFK</td>\n      <td>KMIA</td>\n      <td>B738</td>\n      <td>Business: No meal / Economy: No meal</td>\n      <td>0</td>\n      <td>16</td>\n      <td>144</td>\n    </tr>\n    <tr>\n      <th>26</th>\n      <td>MAS9446</td>\n      <td>AAL2572</td>\n      <td>1590345000</td>\n      <td>1590356880</td>\n      <td>KJFK</td>\n      <td>KMIA</td>\n      <td>B738</td>\n      <td>Business: Meal / Economy: Meal</td>\n      <td>0</td>\n      <td>16</td>\n      <td>144</td>\n    </tr>\n    <tr>\n      <th>27</th>\n      <td>GLO6391</td>\n      <td>AAL2572</td>\n      <td>1590346800</td>\n      <td>1590358800</td>\n      <td>KJFK</td>\n      <td>KMIA</td>\n      <td>B738</td>\n      <td>Business: No meal / Economy: No meal</td>\n      <td>0</td>\n      <td>16</td>\n      <td>144</td>\n    </tr>\n  </tbody>\n</table>\n</div>",
      "text/plain": "      ident actual_ident departuretime arrival_time origin destination  \\\n0   MAS9446      AAL2572    1589567400   1589579280   KJFK        KMIA   \n1   GLO6391      AAL2572    1589569200   1589581200   KJFK        KMIA   \n3   MAS9446      AAL2572    1589653800   1589665680   KJFK        KMIA   \n4   GLO6391      AAL2572    1589655600   1589667600   KJFK        KMIA   \n6   MAS9446      AAL2572    1589740200   1589752080   KJFK        KMIA   \n7   GLO6391      AAL2572    1589742000   1589754000   KJFK        KMIA   \n9   MAS9446      AAL2572    1589826600   1589838480   KJFK        KMIA   \n10  GLO6391      AAL2572    1589828400   1589840400   KJFK        KMIA   \n12  MAS9446      AAL2572    1589913000   1589924880   KJFK        KMIA   \n13  AAL2572         None    1589914800   1589926800   KJFK        KMIA   \n14  MAS9446      AAL2572    1589999400   1590011280   KJFK        KMIA   \n15  GLO6391      AAL2572    1590001200   1590013200   KJFK        KMIA   \n17  MAS9446      AAL2572    1590085800   1590097680   KJFK        KMIA   \n18  GLO6391      AAL2572    1590087600   1590099600   KJFK        KMIA   \n20  MAS9446      AAL2572    1590172200   1590184080   KJFK        KMIA   \n21  GLO6391      AAL2572    1590174000   1590186000   KJFK        KMIA   \n23  MAS9446      AAL2572    1590258600   1590270480   KJFK        KMIA   \n24  GLO6391      AAL2572    1590260400   1590272400   KJFK        KMIA   \n26  MAS9446      AAL2572    1590345000   1590356880   KJFK        KMIA   \n27  GLO6391      AAL2572    1590346800   1590358800   KJFK        KMIA   \n\n   aircrafttype                          meal_service seats_cabin_first  \\\n0          B738        Business: Meal / Economy: Meal                 0   \n1          B738  Business: No meal / Economy: No meal                 0   \n3          B738        Business: Meal / Economy: Meal                 0   \n4          B738  Business: No meal / Economy: No meal                 0   \n6          B738        Business: Meal / Economy: Meal                 0   \n7          B738  Business: No meal / Economy: No meal                 0   \n9          B738        Business: Meal / Economy: Meal                 0   \n10         B738  Business: No meal / Economy: No meal                 0   \n12         B738        Business: Meal / Economy: Meal                 0   \n13         B738  Business: No meal / Economy: No meal                 0   \n14         B738        Business: Meal / Economy: Meal                 0   \n15         B738  Business: No meal / Economy: No meal                 0   \n17         B738        Business: Meal / Economy: Meal                 0   \n18         B738  Business: No meal / Economy: No meal                 0   \n20         B738        Business: Meal / Economy: Meal                 0   \n21         B738  Business: No meal / Economy: No meal                 0   \n23         B738        Business: Meal / Economy: Meal                 0   \n24         B738  Business: No meal / Economy: No meal                 0   \n26         B738        Business: Meal / Economy: Meal                 0   \n27         B738  Business: No meal / Economy: No meal                 0   \n\n   seats_cabin_business seats_cabin_coach  \n0                    16               144  \n1                    16               144  \n3                    16               144  \n4                    16               144  \n6                    16               144  \n7                    16               144  \n9                    16               144  \n10                   16               144  \n12                   16               144  \n13                   16               144  \n14                   16               144  \n15                   16               144  \n17                   16               144  \n18                   16               144  \n20                   16               144  \n21                   16               144  \n23                   16               144  \n24                   16               144  \n26                   16               144  \n27                   16               144  "
     },
     "execution_count": 514,
     "metadata": {},
     "output_type": "execute_result"
    }
   ],
   "source": [
    "jfk_mia_flight_scheds"
   ]
  },
  {
   "cell_type": "code",
   "execution_count": 366,
   "metadata": {},
   "outputs": [],
   "source": [
    "jfk_mia_flight_info.drop_duplicates(subset = ['faFlightID'], inplace = True)"
   ]
  },
  {
   "cell_type": "code",
   "execution_count": 369,
   "metadata": {},
   "outputs": [
    {
     "data": {
      "text/html": "<div>\n<style scoped>\n    .dataframe tbody tr th:only-of-type {\n        vertical-align: middle;\n    }\n\n    .dataframe tbody tr th {\n        vertical-align: top;\n    }\n\n    .dataframe thead th {\n        text-align: right;\n    }\n</style>\n<table border=\"1\" class=\"dataframe\">\n  <thead>\n    <tr style=\"text-align: right;\">\n      <th></th>\n      <th>faFlightID</th>\n      <th>ident</th>\n      <th>aircrafttype</th>\n      <th>filed_ete</th>\n      <th>filed_time</th>\n      <th>filed_departuretime</th>\n      <th>filed_airspeed_mach</th>\n      <th>filed_altitude</th>\n      <th>actualdeparturetime</th>\n      <th>estimatedarrivaltime</th>\n      <th>actualarrivaltime</th>\n      <th>diverted</th>\n      <th>origin</th>\n      <th>originName</th>\n      <th>originCity</th>\n      <th>destinationName</th>\n      <th>destinationCity</th>\n    </tr>\n  </thead>\n  <tbody>\n    <tr>\n      <th>3</th>\n      <td>AAL2572-1590209159-airline-0537</td>\n      <td>AAL2572</td>\n      <td>B738</td>\n      <td>03:06:00</td>\n      <td>1590431725</td>\n      <td>1590432000</td>\n      <td>None</td>\n      <td>360</td>\n      <td>1590431773</td>\n      <td>1590440887</td>\n      <td>1590440887</td>\n      <td>None</td>\n      <td>KJFK</td>\n      <td>John F Kennedy Intl</td>\n      <td>New York, NY</td>\n      <td>Miami Intl</td>\n      <td>Miami, FL</td>\n    </tr>\n    <tr>\n      <th>4</th>\n      <td>AAL2572-1590122721-airline-0420</td>\n      <td>AAL2572</td>\n      <td>B738</td>\n      <td>02:40:00</td>\n      <td>1590345342</td>\n      <td>1590345600</td>\n      <td>None</td>\n      <td>380</td>\n      <td>1590345390</td>\n      <td>1590354360</td>\n      <td>1590354360</td>\n      <td>None</td>\n      <td>KJFK</td>\n      <td>John F Kennedy Intl</td>\n      <td>New York, NY</td>\n      <td>Miami Intl</td>\n      <td>Miami, FL</td>\n    </tr>\n    <tr>\n      <th>5</th>\n      <td>AAL2572-1590036344-airline-0175</td>\n      <td>AAL2572</td>\n      <td>B738</td>\n      <td>02:55:00</td>\n      <td>1590259235</td>\n      <td>1590259200</td>\n      <td>None</td>\n      <td>380</td>\n      <td>1590259283</td>\n      <td>1590267480</td>\n      <td>1590267480</td>\n      <td>None</td>\n      <td>KJFK</td>\n      <td>John F Kennedy Intl</td>\n      <td>New York, NY</td>\n      <td>Miami Intl</td>\n      <td>Miami, FL</td>\n    </tr>\n    <tr>\n      <th>6</th>\n      <td>AAL2572-1589949964-airline-0120</td>\n      <td>AAL2572</td>\n      <td>B738</td>\n      <td>02:40:00</td>\n      <td>1590172660</td>\n      <td>1590172800</td>\n      <td>None</td>\n      <td>380</td>\n      <td>1590172708</td>\n      <td>1590181620</td>\n      <td>1590181620</td>\n      <td>None</td>\n      <td>KJFK</td>\n      <td>John F Kennedy Intl</td>\n      <td>New York, NY</td>\n      <td>Miami Intl</td>\n      <td>Miami, FL</td>\n    </tr>\n    <tr>\n      <th>7</th>\n      <td>AAL2572-1589863519-airline-0459</td>\n      <td>AAL2572</td>\n      <td>B738</td>\n      <td>02:40:00</td>\n      <td>1590086190</td>\n      <td>1590086400</td>\n      <td>None</td>\n      <td>380</td>\n      <td>1590086238</td>\n      <td>1590095340</td>\n      <td>1590095340</td>\n      <td>None</td>\n      <td>KJFK</td>\n      <td>John F Kennedy Intl</td>\n      <td>New York, NY</td>\n      <td>Miami Intl</td>\n      <td>Miami, FL</td>\n    </tr>\n    <tr>\n      <th>8</th>\n      <td>AAL2572-1589777123-airline-0485</td>\n      <td>AAL2572</td>\n      <td>B738</td>\n      <td>02:38:00</td>\n      <td>1590000375</td>\n      <td>1590000000</td>\n      <td>None</td>\n      <td>380</td>\n      <td>1590000407</td>\n      <td>1590009900</td>\n      <td>1590009900</td>\n      <td>None</td>\n      <td>KJFK</td>\n      <td>John F Kennedy Intl</td>\n      <td>New York, NY</td>\n      <td>Miami Intl</td>\n      <td>Miami, FL</td>\n    </tr>\n    <tr>\n      <th>9</th>\n      <td>AAL2572-1589690730-airline-0195</td>\n      <td>AAL2572</td>\n      <td>B738</td>\n      <td>02:46:00</td>\n      <td>1589914315</td>\n      <td>1589913600</td>\n      <td>None</td>\n      <td>380</td>\n      <td>1589914363</td>\n      <td>1589924160</td>\n      <td>1589924160</td>\n      <td>None</td>\n      <td>KJFK</td>\n      <td>John F Kennedy Intl</td>\n      <td>New York, NY</td>\n      <td>Miami Intl</td>\n      <td>Miami, FL</td>\n    </tr>\n    <tr>\n      <th>10</th>\n      <td>AAL2572-1589604351-airline-0000</td>\n      <td>AAL2572</td>\n      <td>B738</td>\n      <td>02:41:00</td>\n      <td>1589827142</td>\n      <td>1589827200</td>\n      <td>None</td>\n      <td>320</td>\n      <td>1589827191</td>\n      <td>1589837040</td>\n      <td>1589837040</td>\n      <td>None</td>\n      <td>KJFK</td>\n      <td>John F Kennedy Intl</td>\n      <td>New York, NY</td>\n      <td>Miami Intl</td>\n      <td>Miami, FL</td>\n    </tr>\n    <tr>\n      <th>11</th>\n      <td>AAL2572-1589517913-airline-0098</td>\n      <td>AAL2572</td>\n      <td>B738</td>\n      <td>02:40:00</td>\n      <td>1589741446</td>\n      <td>1589740800</td>\n      <td>None</td>\n      <td>380</td>\n      <td>1589741494</td>\n      <td>1589750762</td>\n      <td>1589750762</td>\n      <td>None</td>\n      <td>KJFK</td>\n      <td>John F Kennedy Intl</td>\n      <td>New York, NY</td>\n      <td>Miami Intl</td>\n      <td>Miami, FL</td>\n    </tr>\n    <tr>\n      <th>12</th>\n      <td>AAL2572-1589431536-airline-0436</td>\n      <td>AAL2572</td>\n      <td>B738</td>\n      <td>02:40:00</td>\n      <td>1589654365</td>\n      <td>1589654400</td>\n      <td>None</td>\n      <td>300</td>\n      <td>1589654430</td>\n      <td>1589663460</td>\n      <td>1589663460</td>\n      <td>None</td>\n      <td>KJFK</td>\n      <td>John F Kennedy Intl</td>\n      <td>New York, NY</td>\n      <td>Miami Intl</td>\n      <td>Miami, FL</td>\n    </tr>\n    <tr>\n      <th>13</th>\n      <td>AAL2572-1589345159-airline-0102</td>\n      <td>AAL2572</td>\n      <td>B738</td>\n      <td>02:56:00</td>\n      <td>1589567883</td>\n      <td>1589568000</td>\n      <td>None</td>\n      <td>380</td>\n      <td>1589567931</td>\n      <td>1589576820</td>\n      <td>1589576820</td>\n      <td>None</td>\n      <td>KJFK</td>\n      <td>John F Kennedy Intl</td>\n      <td>New York, NY</td>\n      <td>Miami Intl</td>\n      <td>Miami, FL</td>\n    </tr>\n  </tbody>\n</table>\n</div>",
      "text/plain": "                         faFlightID    ident aircrafttype filed_ete  \\\n3   AAL2572-1590209159-airline-0537  AAL2572         B738  03:06:00   \n4   AAL2572-1590122721-airline-0420  AAL2572         B738  02:40:00   \n5   AAL2572-1590036344-airline-0175  AAL2572         B738  02:55:00   \n6   AAL2572-1589949964-airline-0120  AAL2572         B738  02:40:00   \n7   AAL2572-1589863519-airline-0459  AAL2572         B738  02:40:00   \n8   AAL2572-1589777123-airline-0485  AAL2572         B738  02:38:00   \n9   AAL2572-1589690730-airline-0195  AAL2572         B738  02:46:00   \n10  AAL2572-1589604351-airline-0000  AAL2572         B738  02:41:00   \n11  AAL2572-1589517913-airline-0098  AAL2572         B738  02:40:00   \n12  AAL2572-1589431536-airline-0436  AAL2572         B738  02:40:00   \n13  AAL2572-1589345159-airline-0102  AAL2572         B738  02:56:00   \n\n    filed_time filed_departuretime filed_airspeed_mach filed_altitude  \\\n3   1590431725          1590432000                None            360   \n4   1590345342          1590345600                None            380   \n5   1590259235          1590259200                None            380   \n6   1590172660          1590172800                None            380   \n7   1590086190          1590086400                None            380   \n8   1590000375          1590000000                None            380   \n9   1589914315          1589913600                None            380   \n10  1589827142          1589827200                None            320   \n11  1589741446          1589740800                None            380   \n12  1589654365          1589654400                None            300   \n13  1589567883          1589568000                None            380   \n\n   actualdeparturetime estimatedarrivaltime actualarrivaltime diverted origin  \\\n3           1590431773           1590440887        1590440887     None   KJFK   \n4           1590345390           1590354360        1590354360     None   KJFK   \n5           1590259283           1590267480        1590267480     None   KJFK   \n6           1590172708           1590181620        1590181620     None   KJFK   \n7           1590086238           1590095340        1590095340     None   KJFK   \n8           1590000407           1590009900        1590009900     None   KJFK   \n9           1589914363           1589924160        1589924160     None   KJFK   \n10          1589827191           1589837040        1589837040     None   KJFK   \n11          1589741494           1589750762        1589750762     None   KJFK   \n12          1589654430           1589663460        1589663460     None   KJFK   \n13          1589567931           1589576820        1589576820     None   KJFK   \n\n             originName    originCity destinationName destinationCity  \n3   John F Kennedy Intl  New York, NY      Miami Intl       Miami, FL  \n4   John F Kennedy Intl  New York, NY      Miami Intl       Miami, FL  \n5   John F Kennedy Intl  New York, NY      Miami Intl       Miami, FL  \n6   John F Kennedy Intl  New York, NY      Miami Intl       Miami, FL  \n7   John F Kennedy Intl  New York, NY      Miami Intl       Miami, FL  \n8   John F Kennedy Intl  New York, NY      Miami Intl       Miami, FL  \n9   John F Kennedy Intl  New York, NY      Miami Intl       Miami, FL  \n10  John F Kennedy Intl  New York, NY      Miami Intl       Miami, FL  \n11  John F Kennedy Intl  New York, NY      Miami Intl       Miami, FL  \n12  John F Kennedy Intl  New York, NY      Miami Intl       Miami, FL  \n13  John F Kennedy Intl  New York, NY      Miami Intl       Miami, FL  "
     },
     "execution_count": 369,
     "metadata": {},
     "output_type": "execute_result"
    }
   ],
   "source": [
    "mask = jfk_mia_flight_info['actualarrivaltime'] != 0\n",
    "jfk_mia_flight_info[mask]"
   ]
  },
  {
   "cell_type": "code",
   "execution_count": 378,
   "metadata": {},
   "outputs": [
    {
     "data": {
      "text/html": "<div>\n<style scoped>\n    .dataframe tbody tr th:only-of-type {\n        vertical-align: middle;\n    }\n\n    .dataframe tbody tr th {\n        vertical-align: top;\n    }\n\n    .dataframe thead th {\n        text-align: right;\n    }\n</style>\n<table border=\"1\" class=\"dataframe\">\n  <thead>\n    <tr style=\"text-align: right;\">\n      <th></th>\n      <th>ident</th>\n      <th>actual_ident</th>\n      <th>departuretime</th>\n      <th>arrival_time</th>\n      <th>origin</th>\n      <th>destination</th>\n      <th>aircrafttype</th>\n      <th>meal_service</th>\n      <th>seats_cabin_first</th>\n      <th>seats_cabin_business</th>\n      <th>seats_cabin_coach</th>\n    </tr>\n  </thead>\n  <tbody>\n    <tr>\n      <th>2</th>\n      <td>AAL2572</td>\n      <td>None</td>\n      <td>1589569200</td>\n      <td>1589581200</td>\n      <td>KJFK</td>\n      <td>KMIA</td>\n      <td>B738</td>\n      <td>Business: No meal / Economy: No meal</td>\n      <td>0</td>\n      <td>16</td>\n      <td>144</td>\n    </tr>\n    <tr>\n      <th>5</th>\n      <td>AAL2572</td>\n      <td>None</td>\n      <td>1589655600</td>\n      <td>1589667600</td>\n      <td>KJFK</td>\n      <td>KMIA</td>\n      <td>B738</td>\n      <td>Business: No meal / Economy: No meal</td>\n      <td>0</td>\n      <td>16</td>\n      <td>144</td>\n    </tr>\n    <tr>\n      <th>8</th>\n      <td>AAL2572</td>\n      <td>None</td>\n      <td>1589742000</td>\n      <td>1589754000</td>\n      <td>KJFK</td>\n      <td>KMIA</td>\n      <td>B738</td>\n      <td>Business: No meal / Economy: No meal</td>\n      <td>0</td>\n      <td>16</td>\n      <td>144</td>\n    </tr>\n    <tr>\n      <th>11</th>\n      <td>AAL2572</td>\n      <td>None</td>\n      <td>1589828400</td>\n      <td>1589840400</td>\n      <td>KJFK</td>\n      <td>KMIA</td>\n      <td>B738</td>\n      <td>Business: No meal / Economy: No meal</td>\n      <td>0</td>\n      <td>16</td>\n      <td>144</td>\n    </tr>\n    <tr>\n      <th>16</th>\n      <td>AAL2572</td>\n      <td>None</td>\n      <td>1590001200</td>\n      <td>1590013200</td>\n      <td>KJFK</td>\n      <td>KMIA</td>\n      <td>B738</td>\n      <td>Business: No meal / Economy: No meal</td>\n      <td>0</td>\n      <td>16</td>\n      <td>144</td>\n    </tr>\n    <tr>\n      <th>19</th>\n      <td>AAL2572</td>\n      <td>None</td>\n      <td>1590087600</td>\n      <td>1590099600</td>\n      <td>KJFK</td>\n      <td>KMIA</td>\n      <td>B738</td>\n      <td>Business: No meal / Economy: No meal</td>\n      <td>0</td>\n      <td>16</td>\n      <td>144</td>\n    </tr>\n    <tr>\n      <th>22</th>\n      <td>AAL2572</td>\n      <td>None</td>\n      <td>1590174000</td>\n      <td>1590186000</td>\n      <td>KJFK</td>\n      <td>KMIA</td>\n      <td>B738</td>\n      <td>Business: No meal / Economy: No meal</td>\n      <td>0</td>\n      <td>16</td>\n      <td>144</td>\n    </tr>\n    <tr>\n      <th>25</th>\n      <td>AAL2572</td>\n      <td>None</td>\n      <td>1590260400</td>\n      <td>1590272400</td>\n      <td>KJFK</td>\n      <td>KMIA</td>\n      <td>B738</td>\n      <td>Business: No meal / Economy: No meal</td>\n      <td>0</td>\n      <td>16</td>\n      <td>144</td>\n    </tr>\n    <tr>\n      <th>28</th>\n      <td>AAL2572</td>\n      <td>None</td>\n      <td>1590346800</td>\n      <td>1590358800</td>\n      <td>KJFK</td>\n      <td>KMIA</td>\n      <td>B738</td>\n      <td>Business: No meal / Economy: No meal</td>\n      <td>0</td>\n      <td>16</td>\n      <td>144</td>\n    </tr>\n  </tbody>\n</table>\n</div>",
      "text/plain": "      ident actual_ident departuretime arrival_time origin destination  \\\n2   AAL2572         None    1589569200   1589581200   KJFK        KMIA   \n5   AAL2572         None    1589655600   1589667600   KJFK        KMIA   \n8   AAL2572         None    1589742000   1589754000   KJFK        KMIA   \n11  AAL2572         None    1589828400   1589840400   KJFK        KMIA   \n16  AAL2572         None    1590001200   1590013200   KJFK        KMIA   \n19  AAL2572         None    1590087600   1590099600   KJFK        KMIA   \n22  AAL2572         None    1590174000   1590186000   KJFK        KMIA   \n25  AAL2572         None    1590260400   1590272400   KJFK        KMIA   \n28  AAL2572         None    1590346800   1590358800   KJFK        KMIA   \n\n   aircrafttype                          meal_service seats_cabin_first  \\\n2          B738  Business: No meal / Economy: No meal                 0   \n5          B738  Business: No meal / Economy: No meal                 0   \n8          B738  Business: No meal / Economy: No meal                 0   \n11         B738  Business: No meal / Economy: No meal                 0   \n16         B738  Business: No meal / Economy: No meal                 0   \n19         B738  Business: No meal / Economy: No meal                 0   \n22         B738  Business: No meal / Economy: No meal                 0   \n25         B738  Business: No meal / Economy: No meal                 0   \n28         B738  Business: No meal / Economy: No meal                 0   \n\n   seats_cabin_business seats_cabin_coach  \n2                    16               144  \n5                    16               144  \n8                    16               144  \n11                   16               144  \n16                   16               144  \n19                   16               144  \n22                   16               144  \n25                   16               144  \n28                   16               144  "
     },
     "execution_count": 378,
     "metadata": {},
     "output_type": "execute_result"
    }
   ],
   "source": [
    "mask = jfk_mia_flight_scheds.duplicated(subset = ['arrival_time']) == True\n",
    "jfk_mia_flight_scheds[mask]"
   ]
  },
  {
   "cell_type": "code",
   "execution_count": 417,
   "metadata": {},
   "outputs": [
    {
     "data": {
      "text/html": "<div>\n<style scoped>\n    .dataframe tbody tr th:only-of-type {\n        vertical-align: middle;\n    }\n\n    .dataframe tbody tr th {\n        vertical-align: top;\n    }\n\n    .dataframe thead th {\n        text-align: right;\n    }\n</style>\n<table border=\"1\" class=\"dataframe\">\n  <thead>\n    <tr style=\"text-align: right;\">\n      <th></th>\n      <th>faFlightID</th>\n      <th>ident</th>\n      <th>aircrafttype</th>\n      <th>filed_ete</th>\n      <th>filed_time</th>\n      <th>filed_departuretime</th>\n      <th>filed_airspeed_mach</th>\n      <th>filed_altitude</th>\n      <th>actualdeparturetime</th>\n      <th>estimatedarrivaltime</th>\n      <th>actualarrivaltime</th>\n      <th>diverted</th>\n      <th>origin</th>\n      <th>originName</th>\n      <th>originCity</th>\n      <th>destinationName</th>\n      <th>destinationCity</th>\n    </tr>\n  </thead>\n  <tbody>\n    <tr>\n      <th>3</th>\n      <td>AAL2572-1590209159-airline-0537</td>\n      <td>AAL2572</td>\n      <td>B738</td>\n      <td>03:06:00</td>\n      <td>1590431725</td>\n      <td>1590432000</td>\n      <td>None</td>\n      <td>360</td>\n      <td>1590431773</td>\n      <td>1590440887</td>\n      <td>1590440887</td>\n      <td>None</td>\n      <td>KJFK</td>\n      <td>John F Kennedy Intl</td>\n      <td>New York, NY</td>\n      <td>Miami Intl</td>\n      <td>Miami, FL</td>\n    </tr>\n    <tr>\n      <th>4</th>\n      <td>AAL2572-1590122721-airline-0420</td>\n      <td>AAL2572</td>\n      <td>B738</td>\n      <td>02:40:00</td>\n      <td>1590345342</td>\n      <td>1590345600</td>\n      <td>None</td>\n      <td>380</td>\n      <td>1590345390</td>\n      <td>1590354360</td>\n      <td>1590354360</td>\n      <td>None</td>\n      <td>KJFK</td>\n      <td>John F Kennedy Intl</td>\n      <td>New York, NY</td>\n      <td>Miami Intl</td>\n      <td>Miami, FL</td>\n    </tr>\n    <tr>\n      <th>5</th>\n      <td>AAL2572-1590036344-airline-0175</td>\n      <td>AAL2572</td>\n      <td>B738</td>\n      <td>02:55:00</td>\n      <td>1590259235</td>\n      <td>1590259200</td>\n      <td>None</td>\n      <td>380</td>\n      <td>1590259283</td>\n      <td>1590267480</td>\n      <td>1590267480</td>\n      <td>None</td>\n      <td>KJFK</td>\n      <td>John F Kennedy Intl</td>\n      <td>New York, NY</td>\n      <td>Miami Intl</td>\n      <td>Miami, FL</td>\n    </tr>\n    <tr>\n      <th>6</th>\n      <td>AAL2572-1589949964-airline-0120</td>\n      <td>AAL2572</td>\n      <td>B738</td>\n      <td>02:40:00</td>\n      <td>1590172660</td>\n      <td>1590172800</td>\n      <td>None</td>\n      <td>380</td>\n      <td>1590172708</td>\n      <td>1590181620</td>\n      <td>1590181620</td>\n      <td>None</td>\n      <td>KJFK</td>\n      <td>John F Kennedy Intl</td>\n      <td>New York, NY</td>\n      <td>Miami Intl</td>\n      <td>Miami, FL</td>\n    </tr>\n    <tr>\n      <th>7</th>\n      <td>AAL2572-1589863519-airline-0459</td>\n      <td>AAL2572</td>\n      <td>B738</td>\n      <td>02:40:00</td>\n      <td>1590086190</td>\n      <td>1590086400</td>\n      <td>None</td>\n      <td>380</td>\n      <td>1590086238</td>\n      <td>1590095340</td>\n      <td>1590095340</td>\n      <td>None</td>\n      <td>KJFK</td>\n      <td>John F Kennedy Intl</td>\n      <td>New York, NY</td>\n      <td>Miami Intl</td>\n      <td>Miami, FL</td>\n    </tr>\n    <tr>\n      <th>8</th>\n      <td>AAL2572-1589777123-airline-0485</td>\n      <td>AAL2572</td>\n      <td>B738</td>\n      <td>02:38:00</td>\n      <td>1590000375</td>\n      <td>1590000000</td>\n      <td>None</td>\n      <td>380</td>\n      <td>1590000407</td>\n      <td>1590009900</td>\n      <td>1590009900</td>\n      <td>None</td>\n      <td>KJFK</td>\n      <td>John F Kennedy Intl</td>\n      <td>New York, NY</td>\n      <td>Miami Intl</td>\n      <td>Miami, FL</td>\n    </tr>\n    <tr>\n      <th>9</th>\n      <td>AAL2572-1589690730-airline-0195</td>\n      <td>AAL2572</td>\n      <td>B738</td>\n      <td>02:46:00</td>\n      <td>1589914315</td>\n      <td>1589913600</td>\n      <td>None</td>\n      <td>380</td>\n      <td>1589914363</td>\n      <td>1589924160</td>\n      <td>1589924160</td>\n      <td>None</td>\n      <td>KJFK</td>\n      <td>John F Kennedy Intl</td>\n      <td>New York, NY</td>\n      <td>Miami Intl</td>\n      <td>Miami, FL</td>\n    </tr>\n    <tr>\n      <th>10</th>\n      <td>AAL2572-1589604351-airline-0000</td>\n      <td>AAL2572</td>\n      <td>B738</td>\n      <td>02:41:00</td>\n      <td>1589827142</td>\n      <td>1589827200</td>\n      <td>None</td>\n      <td>320</td>\n      <td>1589827191</td>\n      <td>1589837040</td>\n      <td>1589837040</td>\n      <td>None</td>\n      <td>KJFK</td>\n      <td>John F Kennedy Intl</td>\n      <td>New York, NY</td>\n      <td>Miami Intl</td>\n      <td>Miami, FL</td>\n    </tr>\n    <tr>\n      <th>11</th>\n      <td>AAL2572-1589517913-airline-0098</td>\n      <td>AAL2572</td>\n      <td>B738</td>\n      <td>02:40:00</td>\n      <td>1589741446</td>\n      <td>1589740800</td>\n      <td>None</td>\n      <td>380</td>\n      <td>1589741494</td>\n      <td>1589750762</td>\n      <td>1589750762</td>\n      <td>None</td>\n      <td>KJFK</td>\n      <td>John F Kennedy Intl</td>\n      <td>New York, NY</td>\n      <td>Miami Intl</td>\n      <td>Miami, FL</td>\n    </tr>\n    <tr>\n      <th>12</th>\n      <td>AAL2572-1589431536-airline-0436</td>\n      <td>AAL2572</td>\n      <td>B738</td>\n      <td>02:40:00</td>\n      <td>1589654365</td>\n      <td>1589654400</td>\n      <td>None</td>\n      <td>300</td>\n      <td>1589654430</td>\n      <td>1589663460</td>\n      <td>1589663460</td>\n      <td>None</td>\n      <td>KJFK</td>\n      <td>John F Kennedy Intl</td>\n      <td>New York, NY</td>\n      <td>Miami Intl</td>\n      <td>Miami, FL</td>\n    </tr>\n    <tr>\n      <th>13</th>\n      <td>AAL2572-1589345159-airline-0102</td>\n      <td>AAL2572</td>\n      <td>B738</td>\n      <td>02:56:00</td>\n      <td>1589567883</td>\n      <td>1589568000</td>\n      <td>None</td>\n      <td>380</td>\n      <td>1589567931</td>\n      <td>1589576820</td>\n      <td>1589576820</td>\n      <td>None</td>\n      <td>KJFK</td>\n      <td>John F Kennedy Intl</td>\n      <td>New York, NY</td>\n      <td>Miami Intl</td>\n      <td>Miami, FL</td>\n    </tr>\n  </tbody>\n</table>\n</div>",
      "text/plain": "                         faFlightID    ident aircrafttype filed_ete  \\\n3   AAL2572-1590209159-airline-0537  AAL2572         B738  03:06:00   \n4   AAL2572-1590122721-airline-0420  AAL2572         B738  02:40:00   \n5   AAL2572-1590036344-airline-0175  AAL2572         B738  02:55:00   \n6   AAL2572-1589949964-airline-0120  AAL2572         B738  02:40:00   \n7   AAL2572-1589863519-airline-0459  AAL2572         B738  02:40:00   \n8   AAL2572-1589777123-airline-0485  AAL2572         B738  02:38:00   \n9   AAL2572-1589690730-airline-0195  AAL2572         B738  02:46:00   \n10  AAL2572-1589604351-airline-0000  AAL2572         B738  02:41:00   \n11  AAL2572-1589517913-airline-0098  AAL2572         B738  02:40:00   \n12  AAL2572-1589431536-airline-0436  AAL2572         B738  02:40:00   \n13  AAL2572-1589345159-airline-0102  AAL2572         B738  02:56:00   \n\n    filed_time filed_departuretime filed_airspeed_mach filed_altitude  \\\n3   1590431725          1590432000                None            360   \n4   1590345342          1590345600                None            380   \n5   1590259235          1590259200                None            380   \n6   1590172660          1590172800                None            380   \n7   1590086190          1590086400                None            380   \n8   1590000375          1590000000                None            380   \n9   1589914315          1589913600                None            380   \n10  1589827142          1589827200                None            320   \n11  1589741446          1589740800                None            380   \n12  1589654365          1589654400                None            300   \n13  1589567883          1589568000                None            380   \n\n   actualdeparturetime estimatedarrivaltime actualarrivaltime diverted origin  \\\n3           1590431773           1590440887        1590440887     None   KJFK   \n4           1590345390           1590354360        1590354360     None   KJFK   \n5           1590259283           1590267480        1590267480     None   KJFK   \n6           1590172708           1590181620        1590181620     None   KJFK   \n7           1590086238           1590095340        1590095340     None   KJFK   \n8           1590000407           1590009900        1590009900     None   KJFK   \n9           1589914363           1589924160        1589924160     None   KJFK   \n10          1589827191           1589837040        1589837040     None   KJFK   \n11          1589741494           1589750762        1589750762     None   KJFK   \n12          1589654430           1589663460        1589663460     None   KJFK   \n13          1589567931           1589576820        1589576820     None   KJFK   \n\n             originName    originCity destinationName destinationCity  \n3   John F Kennedy Intl  New York, NY      Miami Intl       Miami, FL  \n4   John F Kennedy Intl  New York, NY      Miami Intl       Miami, FL  \n5   John F Kennedy Intl  New York, NY      Miami Intl       Miami, FL  \n6   John F Kennedy Intl  New York, NY      Miami Intl       Miami, FL  \n7   John F Kennedy Intl  New York, NY      Miami Intl       Miami, FL  \n8   John F Kennedy Intl  New York, NY      Miami Intl       Miami, FL  \n9   John F Kennedy Intl  New York, NY      Miami Intl       Miami, FL  \n10  John F Kennedy Intl  New York, NY      Miami Intl       Miami, FL  \n11  John F Kennedy Intl  New York, NY      Miami Intl       Miami, FL  \n12  John F Kennedy Intl  New York, NY      Miami Intl       Miami, FL  \n13  John F Kennedy Intl  New York, NY      Miami Intl       Miami, FL  "
     },
     "execution_count": 417,
     "metadata": {},
     "output_type": "execute_result"
    }
   ],
   "source": [
    "jfk_mia_flight_info"
   ]
  },
  {
   "cell_type": "code",
   "execution_count": 568,
   "metadata": {},
   "outputs": [],
   "source": [
    "def get_flights(start_input, end_input, frequency_input, destination_input):\n",
    "    ## Unix Epoch Time Function\n",
    "    start_list, end_list = make_unix_lists(start_input, end_input, frequency_input) #utilizes the unix epoch creation list function\n",
    "    \n",
    "    ## Create an empty list to add searches to\n",
    "    get_flights_list = []    \n",
    "\n",
    "\n",
    "    ## Skeleton df for get_flights_df\n",
    "    get_flights_cols = ['faFlightID', 'ident', 'prefix', 'type', 'suffix', 'origin', 'destination', 'timeout', 'timestamp', 'departureTime', 'firstPositionTime', 'arrivalTime', 'longitude', 'latitude', 'lowLongitude', 'lowLatitude', 'highLongitude', 'highLatitude', 'groundspeed', 'altitude', 'heading', 'altitudeStatus', 'updateType', 'altitudeChange', 'waypoints']\n",
    "    get_flights_df = pd.DataFrame(columns = get_flights_cols)\n",
    "\n",
    "    #Grabbing flights from the list of destinations\n",
    "    for destination in destination_input:\n",
    "        add_dest = '{= dest ' + destination + '}'\n",
    "        search_flight = api.service.SearchBirdseyeInFlight(query = add_dest, howMany = 15)\n",
    "        search_dict = Client.dict(search_flight)\n",
    "        for retrieved_query in range(len(search_dict['aircraft'])):\n",
    "            get_flights_list.append(search_dict['aircraft'][retrieved_query])\n",
    "\n",
    "\n",
    "    #Creates the dataframe and concats to the get_flights_df\n",
    "    for list_item in range(len(get_flights_list)):\n",
    "        preliminary_flight_df = pd.DataFrame(get_flights_list[list_item]).T #uses a transposed version to cleanly extract the data\n",
    "        preliminary_flight_df.rename(columns = {0:get_flights_cols[0], #renames the columns to match the end_df so concatenation is simple\n",
    "                            1: get_flights_cols[1],\n",
    "                            2: get_flights_cols[2],\n",
    "                            3: get_flights_cols[3],\n",
    "                            4: get_flights_cols[4],\n",
    "                            5: get_flights_cols[5],\n",
    "                            6: get_flights_cols[6],\n",
    "                            7: get_flights_cols[7],\n",
    "                            8: get_flights_cols[8],\n",
    "                            9: get_flights_cols[9],\n",
    "                            10: get_flights_cols[10],\n",
    "                            11: get_flights_cols[11],\n",
    "                            12: get_flights_cols[12],\n",
    "                            13: get_flights_cols[13],\n",
    "                            14: get_flights_cols[14],\n",
    "                            15: get_flights_cols[15],\n",
    "                            16: get_flights_cols[16],\n",
    "                            17: get_flights_cols[17],\n",
    "                            18: get_flights_cols[18],\n",
    "                            19: get_flights_cols[19],\n",
    "                            20: get_flights_cols[20],\n",
    "                            21: get_flights_cols[21],\n",
    "                            22: get_flights_cols[22],\n",
    "                            23: get_flights_cols[23],\n",
    "                            24: get_flights_cols[24]}, inplace = True) #very inefficient way to rename my columns\n",
    "        get_flights_df = pd.concat([get_flights_df, preliminary_flight_df]) #overwrites the end_df to create a larger dataframe\n",
    "\n",
    "    ## Cleans the get_flights_df        \n",
    "    get_flights_df.drop(index = 0, inplace = True) #drops the 0 index rows in the repetative 0,1 pattern of the dataframe\n",
    "    get_flights_df.reset_index(inplace = True) #resets the index by creating a new index row\n",
    "    get_flights_df.drop(columns = 'index', inplace = True) #drops the extra index row\n",
    "\n",
    "    return get_flights_df"
   ]
  },
  {
   "cell_type": "code",
   "execution_count": 573,
   "metadata": {},
   "outputs": [],
   "source": [
    "destination_list = ['KLAX', 'KJFK', 'KMIA', 'KIAH', 'KPDX', 'KORD']\n",
    "test_list = get_flights('5/26/2020','5/27/2020','8H', destination_list)"
   ]
  },
  {
   "cell_type": "code",
   "execution_count": 574,
   "metadata": {},
   "outputs": [
    {
     "data": {
      "text/html": "<div>\n<style scoped>\n    .dataframe tbody tr th:only-of-type {\n        vertical-align: middle;\n    }\n\n    .dataframe tbody tr th {\n        vertical-align: top;\n    }\n\n    .dataframe thead th {\n        text-align: right;\n    }\n</style>\n<table border=\"1\" class=\"dataframe\">\n  <thead>\n    <tr style=\"text-align: right;\">\n      <th></th>\n      <th>faFlightID</th>\n      <th>ident</th>\n      <th>prefix</th>\n      <th>type</th>\n      <th>suffix</th>\n      <th>origin</th>\n      <th>destination</th>\n      <th>timeout</th>\n      <th>timestamp</th>\n      <th>departureTime</th>\n      <th>...</th>\n      <th>lowLatitude</th>\n      <th>highLongitude</th>\n      <th>highLatitude</th>\n      <th>groundspeed</th>\n      <th>altitude</th>\n      <th>heading</th>\n      <th>altitudeStatus</th>\n      <th>updateType</th>\n      <th>altitudeChange</th>\n      <th>waypoints</th>\n    </tr>\n  </thead>\n  <tbody>\n    <tr>\n      <th>0</th>\n      <td>ACA7229-1590630769-adhoc-0</td>\n      <td>ACA7229</td>\n      <td>None</td>\n      <td>None</td>\n      <td>None</td>\n      <td>CYYZ</td>\n      <td>KLAX</td>\n      <td>0</td>\n      <td>1590631391</td>\n      <td>1590630660</td>\n      <td>...</td>\n      <td>43.0147</td>\n      <td>-79.6339</td>\n      <td>43.6546</td>\n      <td>478</td>\n      <td>302</td>\n      <td>243</td>\n      <td>None</td>\n      <td>A</td>\n      <td>C</td>\n      <td>43.68 -79.63 43.65 -79.68 43.64 -79.7 43.63 -7...</td>\n    </tr>\n    <tr>\n      <th>1</th>\n      <td>DAL333-1590379639-fa-0000</td>\n      <td>DAL333</td>\n      <td>None</td>\n      <td>A333</td>\n      <td>None</td>\n      <td>KATL</td>\n      <td>KLAX</td>\n      <td>0</td>\n      <td>1590631383</td>\n      <td>1590625510</td>\n      <td>...</td>\n      <td>33.6341</td>\n      <td>-84.2464</td>\n      <td>38.2697</td>\n      <td>481</td>\n      <td>400</td>\n      <td>266</td>\n      <td>None</td>\n      <td>A</td>\n      <td>-</td>\n      <td>33.64 -84.43 33.68 -84.18 33.85 -84.18 34.06 -...</td>\n    </tr>\n    <tr>\n      <th>2</th>\n      <td>GVPOP-1590589543-adhoc-0</td>\n      <td>VIR607</td>\n      <td>None</td>\n      <td>A35K</td>\n      <td>None</td>\n      <td>EGLL</td>\n      <td>KLAX</td>\n      <td>0</td>\n      <td>1590626335</td>\n      <td>1590589566</td>\n      <td>...</td>\n      <td>33.9509</td>\n      <td>-2.99184</td>\n      <td>66.0902</td>\n      <td>101</td>\n      <td>1</td>\n      <td>263</td>\n      <td>None</td>\n      <td>A</td>\n      <td>D</td>\n      <td>51.48 -0.46 51.51 -0.52 51.55 -0.61 51.6 -0.71...</td>\n    </tr>\n    <tr>\n      <th>3</th>\n      <td>DAL702-1590379578-fa-0000</td>\n      <td>DAL702</td>\n      <td>None</td>\n      <td>A321</td>\n      <td>None</td>\n      <td>KATL</td>\n      <td>KLAX</td>\n      <td>0</td>\n      <td>1590626148</td>\n      <td>1590611945</td>\n      <td>...</td>\n      <td>33.5413</td>\n      <td>-84.2773</td>\n      <td>35.2755</td>\n      <td>126</td>\n      <td>1</td>\n      <td>263</td>\n      <td>None</td>\n      <td>A</td>\n      <td>D</td>\n      <td>33.64 -84.43 33.68 -84.28 33.81 -84.28 33.81 -...</td>\n    </tr>\n    <tr>\n      <th>4</th>\n      <td>CLX7723-1590381916-airline-0199</td>\n      <td>CLX7723</td>\n      <td>None</td>\n      <td>B748</td>\n      <td>None</td>\n      <td>EGPK</td>\n      <td>KLAX</td>\n      <td>0</td>\n      <td>1590625221</td>\n      <td>1590580500</td>\n      <td>...</td>\n      <td>33.9367</td>\n      <td>-4.65975</td>\n      <td>67.0785</td>\n      <td>135</td>\n      <td>1</td>\n      <td>263</td>\n      <td>None</td>\n      <td>A</td>\n      <td>D</td>\n      <td>55.51 -4.59 55.92 -6.67 56.02 -6.86 56.1 -7.01...</td>\n    </tr>\n    <tr>\n      <th>...</th>\n      <td>...</td>\n      <td>...</td>\n      <td>...</td>\n      <td>...</td>\n      <td>...</td>\n      <td>...</td>\n      <td>...</td>\n      <td>...</td>\n      <td>...</td>\n      <td>...</td>\n      <td>...</td>\n      <td>...</td>\n      <td>...</td>\n      <td>...</td>\n      <td>...</td>\n      <td>...</td>\n      <td>...</td>\n      <td>...</td>\n      <td>...</td>\n      <td>...</td>\n      <td>...</td>\n    </tr>\n    <tr>\n      <th>85</th>\n      <td>SKW2968-1590381915-airline-0154</td>\n      <td>SKW2968</td>\n      <td>None</td>\n      <td>CRJ7</td>\n      <td>None</td>\n      <td>CYYZ</td>\n      <td>KORD</td>\n      <td>0</td>\n      <td>1590580645</td>\n      <td>1590576638</td>\n      <td>...</td>\n      <td>42.0026</td>\n      <td>-79.6209</td>\n      <td>43.7337</td>\n      <td>123</td>\n      <td>7</td>\n      <td>271</td>\n      <td>None</td>\n      <td>A</td>\n      <td>D</td>\n      <td>43.68 -79.63 43.68 -79.67 43.68 -79.68 43.68 -...</td>\n    </tr>\n    <tr>\n      <th>86</th>\n      <td>DLH8186-1590554734-airline-0156</td>\n      <td>DLH8186</td>\n      <td>None</td>\n      <td>MD11</td>\n      <td>None</td>\n      <td>EDDF</td>\n      <td>KORD</td>\n      <td>0</td>\n      <td>0</td>\n      <td>0</td>\n      <td>...</td>\n      <td>200</td>\n      <td>-200</td>\n      <td>-200</td>\n      <td>0</td>\n      <td>0</td>\n      <td>0</td>\n      <td>None</td>\n      <td>None</td>\n      <td>None</td>\n      <td>None</td>\n    </tr>\n    <tr>\n      <th>87</th>\n      <td>BOX484-1590554734-airline-0125</td>\n      <td>BOX484</td>\n      <td>None</td>\n      <td>B772</td>\n      <td>None</td>\n      <td>EDDF</td>\n      <td>KORD</td>\n      <td>0</td>\n      <td>0</td>\n      <td>0</td>\n      <td>...</td>\n      <td>200</td>\n      <td>-200</td>\n      <td>-200</td>\n      <td>0</td>\n      <td>0</td>\n      <td>0</td>\n      <td>None</td>\n      <td>None</td>\n      <td>None</td>\n      <td>None</td>\n    </tr>\n    <tr>\n      <th>88</th>\n      <td>ICE853-1590511860-schedule-0056</td>\n      <td>ICE853</td>\n      <td>None</td>\n      <td>B752</td>\n      <td>None</td>\n      <td>BIKF</td>\n      <td>KORD</td>\n      <td>0</td>\n      <td>0</td>\n      <td>0</td>\n      <td>...</td>\n      <td>200</td>\n      <td>-200</td>\n      <td>-200</td>\n      <td>0</td>\n      <td>0</td>\n      <td>0</td>\n      <td>None</td>\n      <td>None</td>\n      <td>None</td>\n      <td>63.98 -22.62 63.99 -22.88 63.99 -23.02 63.99 -...</td>\n    </tr>\n    <tr>\n      <th>89</th>\n      <td>UAL2777-1590438300-fa-0000</td>\n      <td>UAL2777</td>\n      <td>None</td>\n      <td>B789</td>\n      <td>None</td>\n      <td>EDDF</td>\n      <td>KORD</td>\n      <td>0</td>\n      <td>0</td>\n      <td>0</td>\n      <td>...</td>\n      <td>200</td>\n      <td>-200</td>\n      <td>-200</td>\n      <td>0</td>\n      <td>0</td>\n      <td>0</td>\n      <td>None</td>\n      <td>None</td>\n      <td>None</td>\n      <td>50.03 8.57 50.1 8.42 50.14 8.31 50.2 8.18 50.2...</td>\n    </tr>\n  </tbody>\n</table>\n<p>90 rows × 25 columns</p>\n</div>",
      "text/plain": "                         faFlightID    ident prefix  type suffix origin  \\\n0        ACA7229-1590630769-adhoc-0  ACA7229   None  None   None   CYYZ   \n1         DAL333-1590379639-fa-0000   DAL333   None  A333   None   KATL   \n2          GVPOP-1590589543-adhoc-0   VIR607   None  A35K   None   EGLL   \n3         DAL702-1590379578-fa-0000   DAL702   None  A321   None   KATL   \n4   CLX7723-1590381916-airline-0199  CLX7723   None  B748   None   EGPK   \n..                              ...      ...    ...   ...    ...    ...   \n85  SKW2968-1590381915-airline-0154  SKW2968   None  CRJ7   None   CYYZ   \n86  DLH8186-1590554734-airline-0156  DLH8186   None  MD11   None   EDDF   \n87   BOX484-1590554734-airline-0125   BOX484   None  B772   None   EDDF   \n88  ICE853-1590511860-schedule-0056   ICE853   None  B752   None   BIKF   \n89       UAL2777-1590438300-fa-0000  UAL2777   None  B789   None   EDDF   \n\n   destination timeout   timestamp departureTime  ... lowLatitude  \\\n0         KLAX       0  1590631391    1590630660  ...     43.0147   \n1         KLAX       0  1590631383    1590625510  ...     33.6341   \n2         KLAX       0  1590626335    1590589566  ...     33.9509   \n3         KLAX       0  1590626148    1590611945  ...     33.5413   \n4         KLAX       0  1590625221    1590580500  ...     33.9367   \n..         ...     ...         ...           ...  ...         ...   \n85        KORD       0  1590580645    1590576638  ...     42.0026   \n86        KORD       0           0             0  ...         200   \n87        KORD       0           0             0  ...         200   \n88        KORD       0           0             0  ...         200   \n89        KORD       0           0             0  ...         200   \n\n   highLongitude highLatitude groundspeed altitude heading altitudeStatus  \\\n0       -79.6339      43.6546         478      302     243           None   \n1       -84.2464      38.2697         481      400     266           None   \n2       -2.99184      66.0902         101        1     263           None   \n3       -84.2773      35.2755         126        1     263           None   \n4       -4.65975      67.0785         135        1     263           None   \n..           ...          ...         ...      ...     ...            ...   \n85      -79.6209      43.7337         123        7     271           None   \n86          -200         -200           0        0       0           None   \n87          -200         -200           0        0       0           None   \n88          -200         -200           0        0       0           None   \n89          -200         -200           0        0       0           None   \n\n   updateType altitudeChange  \\\n0           A              C   \n1           A              -   \n2           A              D   \n3           A              D   \n4           A              D   \n..        ...            ...   \n85          A              D   \n86       None           None   \n87       None           None   \n88       None           None   \n89       None           None   \n\n                                            waypoints  \n0   43.68 -79.63 43.65 -79.68 43.64 -79.7 43.63 -7...  \n1   33.64 -84.43 33.68 -84.18 33.85 -84.18 34.06 -...  \n2   51.48 -0.46 51.51 -0.52 51.55 -0.61 51.6 -0.71...  \n3   33.64 -84.43 33.68 -84.28 33.81 -84.28 33.81 -...  \n4   55.51 -4.59 55.92 -6.67 56.02 -6.86 56.1 -7.01...  \n..                                                ...  \n85  43.68 -79.63 43.68 -79.67 43.68 -79.68 43.68 -...  \n86                                               None  \n87                                               None  \n88  63.98 -22.62 63.99 -22.88 63.99 -23.02 63.99 -...  \n89  50.03 8.57 50.1 8.42 50.14 8.31 50.2 8.18 50.2...  \n\n[90 rows x 25 columns]"
     },
     "execution_count": 574,
     "metadata": {},
     "output_type": "execute_result"
    }
   ],
   "source": [
    "test_list"
   ]
  },
  {
   "cell_type": "code",
   "execution_count": null,
   "metadata": {},
   "outputs": [],
   "source": [
    "for airline_code in flight_info_input: #for the keys in the flight info input \n",
    "    for j in range(len(start_list)): #for the entirity of the unix epoch time list\n",
    "        airline_flight_schedules = api.service.AirlineFlightSchedules(startDate = start_list[j], endDate = end_list[j], origin = origin_input, destination = destination_input, airline = airline_code, flightno = flight_info_input.get(airline_code), howMany = howMany_input) #gets the flight schedules information\n",
    "\n",
    "        #Credit for the dict below\n",
    "        #https://stackoverflow.com/questions/17581731/parsing-suds-soap-complex-data-type-into-python-dict\n",
    "        airline_flight_dict = Client.dict(airline_flight_schedules) #converts the above variable to a dictionary\n",
    "        schedules.append(airline_flight_dict) #appends results to the instantiated output list"
   ]
  },
  {
   "cell_type": "code",
   "execution_count": null,
   "metadata": {},
   "outputs": [],
   "source": []
  },
  {
   "cell_type": "code",
   "execution_count": null,
   "metadata": {},
   "outputs": [],
   "source": []
  },
  {
   "cell_type": "code",
   "execution_count": null,
   "metadata": {},
   "outputs": [],
   "source": []
  },
  {
   "cell_type": "code",
   "execution_count": null,
   "metadata": {},
   "outputs": [],
   "source": []
  },
  {
   "cell_type": "code",
   "execution_count": null,
   "metadata": {},
   "outputs": [],
   "source": []
  },
  {
   "cell_type": "markdown",
   "metadata": {},
   "source": [
    "# IAH - LAX\n"
   ]
  },
  {
   "cell_type": "markdown",
   "metadata": {},
   "source": [
    "From [here](https://www.flights.com/flights/houston-iah-to-los-angeles-lax/): \"With 6 different airlines operating between houstan and Los Angeles, there are, on average, 2,642 flights per month. This equates to about 629 flights per week, and 90 flights per day from IAH to LAX.\" 5 out of 6 of these airliners are: \n",
    "- United Airlines (Flight UA 302) \n",
    "- Air China (CA 7398), Azul (AD 7026)\n",
    "- Asiana Airlines (OZ 9512)\n",
    "- Air New Zealand (NZ 9653)"
   ]
  },
  {
   "cell_type": "code",
   "execution_count": null,
   "metadata": {},
   "outputs": [],
   "source": []
  },
  {
   "cell_type": "code",
   "execution_count": null,
   "metadata": {},
   "outputs": [],
   "source": []
  },
  {
   "cell_type": "code",
   "execution_count": null,
   "metadata": {},
   "outputs": [],
   "source": []
  },
  {
   "cell_type": "code",
   "execution_count": null,
   "metadata": {},
   "outputs": [],
   "source": []
  },
  {
   "cell_type": "code",
   "execution_count": null,
   "metadata": {},
   "outputs": [],
   "source": []
  },
  {
   "cell_type": "code",
   "execution_count": null,
   "metadata": {},
   "outputs": [],
   "source": []
  }
 ]
}