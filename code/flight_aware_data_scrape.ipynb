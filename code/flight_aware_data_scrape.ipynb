{
 "nbformat": 4,
 "nbformat_minor": 2,
 "metadata": {
  "language_info": {
   "name": "python",
   "codemirror_mode": {
    "name": "ipython",
    "version": 3
   },
   "version": "3.7.6-final"
  },
  "orig_nbformat": 2,
  "file_extension": ".py",
  "mimetype": "text/x-python",
  "name": "python",
  "npconvert_exporter": "python",
  "pygments_lexer": "ipython3",
  "version": 3,
  "kernelspec": {
   "name": "python37664bitdsitestconda48790fb83d3f473c989768c98a666b4b",
   "display_name": "Python 3.7.6 64-bit ('DSI_test': conda)"
  }
 },
 "cells": [
  {
   "cell_type": "markdown",
   "metadata": {},
   "source": [
    "# Notes\n",
    "\n",
    "## Flight paths:\n",
    "- **Houston, TX** to **Los Angeles, CA** (IAH - LAX)\n",
    "- **New York City, NY** to **Miami, FL** (JFK - MIA)\n",
    "- **Portland, WA** to **Chicago, IL** (PDX - ORD)\n",
    "\n",
    "## Number of Total Routes\n",
    "- at least 1,000 per route for now (All times in GMC)\n",
    "\n",
    "    -__Times:__\n",
    "\n",
    "        - 0000 hours to 0600 hours\n",
    "\n",
    "        - 0601 hours to 1200 hours\n",
    "\n",
    "        - 1201 hours to 1800 hours\n",
    "\n",
    "        - 1801 hours to 2399 hours\n",
    "\n",
    "    - __Times of the Year:__\n",
    "    \n",
    "        - Try to get every month\n",
    "\n",
    "    - __Times of the Week:__\n",
    "        - Try to get every day. \n",
    "    \n",
    "## Notes about Data considerations\n",
    "\n",
    "- see what are typical flight times for your paths. you may be limited here. \n",
    "\n",
    "- consistently work with other api to see what you can grab\n",
    "\n",
    "- grab future flights too!\n",
    "\n",
    "- do some division on how many flights you can grab from how many time zonestuff\n",
    "\n",
    "\n",
    "## Features to Scrape\n",
    "- want aircraft type\n",
    "- want airline flight info\n",
    "- want airline flight \n",
    "- want aircraft type struct\n",
    "- want flight struct\n",
    "\n",
    "1 query will generate 15 results. Ex; If you request to see all flight from airport Alpha to Airport Bravo and the search results come back with 5000 flights. To find the pricing estimate you would do the following math. 5000/15 = 333 * $0.0079 = $2.63 (Class 2)"
   ]
  },
  {
   "cell_type": "code",
   "execution_count": 269,
   "metadata": {},
   "outputs": [],
   "source": [
    "import sys\n",
    "from suds import null, WebFault\n",
    "from suds.client import Client\n",
    "import logging\n",
    "import json\n",
    "import pandas as pd\n",
    "import datetime\n",
    "import numpy as np"
   ]
  },
  {
   "cell_type": "code",
   "execution_count": 2,
   "metadata": {},
   "outputs": [],
   "source": [
    "with open('/Users/ChristopherKuzemka/Documents/GA/dsi_11/projects/capstone/env.json') as f:\n",
    "    information = json.load(f)"
   ]
  },
  {
   "cell_type": "code",
   "execution_count": 3,
   "metadata": {},
   "outputs": [
    {
     "data": {
      "text/plain": "dict_keys(['FA_API_KEY', 'FA_USERNAME', 'x-rapidapi-host', 'x-rapidapi-key'])"
     },
     "execution_count": 3,
     "metadata": {},
     "output_type": "execute_result"
    }
   ],
   "source": [
    "information.keys()"
   ]
  },
  {
   "cell_type": "code",
   "execution_count": 4,
   "metadata": {},
   "outputs": [],
   "source": [
    "username = information.get('FA_USERNAME')\n",
    "apiKey = information.get('FA_API_KEY')\n",
    "url = 'http://flightxml.flightaware.com/soap/FlightXML2/wsdl'"
   ]
  },
  {
   "cell_type": "code",
   "execution_count": 5,
   "metadata": {},
   "outputs": [],
   "source": [
    "logging.basicConfig(level=logging.INFO)\n",
    "api = Client(url, username=username, password=apiKey)"
   ]
  },
  {
   "cell_type": "markdown",
   "metadata": {},
   "source": [
    "## Testing playground determining usefulness of API"
   ]
  },
  {
   "cell_type": "code",
   "execution_count": 83,
   "metadata": {},
   "outputs": [
    {
     "data": {
      "text/plain": "(AircraftTypeStruct){\n   manufacturer = \"Boeing\"\n   type = \"747-400\"\n   description = \"quad-jet\"\n }"
     },
     "execution_count": 83,
     "metadata": {},
     "output_type": "execute_result"
    }
   ],
   "source": [
    "#Get Aircraft type  - semi-useful\n",
    "aircraft_type = api.service.AircraftType('B744')\n",
    "aircraft_type"
   ]
  },
  {
   "cell_type": "markdown",
   "metadata": {},
   "source": [
    "# JFK - MIA\n",
    "\n",
    "From [here](https://www.flights.com/flights/new-york-jfk-to-miami-mia/): \"with 3 differnt airlines operating flights between New York and Miami, there are, on average, 2,197 flights per month.. This equates to about 523 flights per week, and 75 flights per day from JFK to MIA. The three airlines are:\n",
    "- American Airlines (Flight AA 2572)\n",
    "\n",
    "- British Airways (Flight BA 1687) \n",
    "\n",
    "- Malaysia Airlines (Flight MH 9446)."
   ]
  },
  {
   "cell_type": "code",
   "execution_count": 7,
   "metadata": {},
   "outputs": [],
   "source": [
    "def make_unix_lists(start_date, end_date, frequency):\n",
    "    created_range = pd.date_range(start = start_date, end = end_date, freq = frequency) #creates a daterange series\n",
    "    list_created_range = list(created_range) #converts such range into a list\n",
    "    unix_floats = [date.to_pydatetime().timestamp() for date in list_created_range] #transforms the daterange list into unix epoch tiimestamps represented as floats\n",
    "    unix_ints = [int(i) for i in unix_floats] #makes the above list as a list of integers\n",
    "    #return unix_ints\n",
    "\n",
    "    #We are doing the below to accomodate a for loop format into another function\n",
    "    start_ints = unix_ints[:-1] #creates a list of all the start dates without last element\n",
    "    end_ints = unix_ints[1:] #creates a list of all the end dates without first element \n",
    "\n",
    "    return start_ints, end_ints"
   ]
  },
  {
   "cell_type": "code",
   "execution_count": 8,
   "metadata": {},
   "outputs": [],
   "source": [
    "start, end = make_unix_lists('5/11/2020', '5/24/2020', '8H')"
   ]
  },
  {
   "cell_type": "code",
   "execution_count": 9,
   "metadata": {},
   "outputs": [
    {
     "data": {
      "text/plain": "[1589169600,\n 1589198400,\n 1589227200,\n 1589256000,\n 1589284800,\n 1589313600,\n 1589342400,\n 1589371200,\n 1589400000,\n 1589428800,\n 1589457600,\n 1589486400,\n 1589515200,\n 1589544000,\n 1589572800,\n 1589601600,\n 1589630400,\n 1589659200,\n 1589688000,\n 1589716800,\n 1589745600,\n 1589774400,\n 1589803200,\n 1589832000,\n 1589860800,\n 1589889600,\n 1589918400,\n 1589947200,\n 1589976000,\n 1590004800,\n 1590033600,\n 1590062400,\n 1590091200,\n 1590120000,\n 1590148800,\n 1590177600,\n 1590206400,\n 1590235200,\n 1590264000]"
     },
     "execution_count": 9,
     "metadata": {},
     "output_type": "execute_result"
    }
   ],
   "source": [
    "start"
   ]
  },
  {
   "cell_type": "code",
   "execution_count": 10,
   "metadata": {},
   "outputs": [],
   "source": [
    "jfk_mia_info = {'AA':'2572',\n",
    "                'BA':'1687',\n",
    "                'MA':'9446'}"
   ]
  },
  {
   "cell_type": "code",
   "execution_count": 380,
   "metadata": {},
   "outputs": [],
   "source": [
    "def get_flights_df(start_input, end_input, frequency_input, origin_input, destination_input, flight_info_input, howMany_input):\n",
    "    ## Empty lists for storage reasons\n",
    "    schedules = [] #instantiates the schedules column\n",
    "    modified_schedules = [] #instantiates the modified schedules list\n",
    "    flight_info_list = [] #instantiates the flight info list\n",
    "\n",
    "\n",
    "    ## Creates the sketelton dataframe for schedules_df\n",
    "    schedules_cols = ['ident', 'actual_ident', 'departuretime', 'arrival_time', 'origin', 'destination', 'aircrafttype', 'meal_service', 'seats_cabin_first', 'seats_cabin_business', 'seats_cabin_coach'] #column names for the scheduling df\n",
    "    schedules_df = pd.DataFrame(columns = column_names) #creates the empty schedules dataframe skeleton\n",
    "\n",
    "    ## Creates the skeleton dataframe for the flight_info_df\n",
    "    flight_info_cols = ['faFlightID', 'ident', 'aircrafttype', 'filed_ete', 'filed_time', 'filed_departuretime', 'filed_airspeed_mach', 'filed_altitude', 'actualdeparturetime', 'estimatedarrivaltime', 'actualarrivaltime', 'diverted', 'origin', 'originName', 'originCity', 'destinationName', 'destinationCity']\n",
    "    flight_info_df = pd.DataFrame(columns = names) #creates the empty flight_info dataframe skeleton\n",
    "\n",
    "    ## Unix Epoch Time Function\n",
    "    start_list, end_list = make_unix_lists(start_input, end_input, frequency_input) #utilizes the unix epoch creation list function\n",
    "\n",
    "    ## Magic happens here\n",
    "    for airline_code in flight_info_input: #for the keys in the flight info input \n",
    "        for j in range(len(start_list)): #for the entirity of the unix epoch time list\n",
    "            airline_flight_schedules = api.service.AirlineFlightSchedules(startDate = start_list[j], endDate = end_list[j], origin = origin_input, destination = destination_input, airline = airline_code, flightno = flight_info_input.get(airline_code), howMany = howMany_input) #gets the flight schedules information\n",
    "\n",
    "            #Credit for the dict below\n",
    "            #https://stackoverflow.com/questions/17581731/parsing-suds-soap-complex-data-type-into-python-dict\n",
    "            airline_flight_dict = Client.dict(airline_flight_schedules) #converts the above variable to a dictionary\n",
    "            schedules.append(airline_flight_dict) #appends results to the instantiated output list\n",
    "    \n",
    "    ## Cleans the dirty collection for schedules\n",
    "    for k in range(len(schedules)):\n",
    "        try: #try the below...we'll get some errors for empty stuff\n",
    "            modified_schedules.append(schedules[k]['data']) #filters the output list to only show meaningful information where actual flights were flows in a timeframes studied\n",
    "        except: #when an error occurs...\n",
    "            continue #..move on and ignore any issues with with non existent flight data\n",
    "\n",
    "    ## Creates a dataframe out of the modified_schedules list <-- FIX THIS LATER\n",
    "    for l in range(len(modified_schedules)):\n",
    "        for m in range(len(modified_schedules[l])):\n",
    "            sched_df = pd.DataFrame(modified_schedules[l][m]).T #uses a transposed version to cleanly extract the data\n",
    "            sched_df.rename(columns = {0:schedules_cols[0], #renames the columns to match the end_df so concatenation is simple\n",
    "                        1: schedules_cols[1],\n",
    "                        2: schedules_cols[2],\n",
    "                        3: schedules_cols[3],\n",
    "                        4: schedules_cols[4],\n",
    "                        5: schedules_cols[5],\n",
    "                        6: schedules_cols[6],\n",
    "                        7: schedules_cols[7],\n",
    "                        8: schedules_cols[8],\n",
    "                        9: schedules_cols[9],\n",
    "                        10: schedules_cols[10]}, inplace = True) #very inefficient way to rename my columns\n",
    "            schedules_df = pd.concat([schedules_df, sched_df]) #overwrites the end_df to create a larger dataframe\n",
    "    \n",
    "    ## Cleans the schedules_df\n",
    "    schedules_df.drop(index = 0, inplace = True) #drops the 0 index rows in the repetative 0,1 pattern of the dataframe\n",
    "    schedules_df.reset_index(inplace = True) #resets the index by creating a new index row\n",
    "    schedules_df.drop(columns = 'index', inplace = True) #drops the extra 'index row\n",
    "    schedules_df.drop_duplicates(subset = ['arrival_time'], inplace = True) #drops the duplicate time epochs so that we don't have impossible situations of the same flight coming into the same place at the same exact time\n",
    "\n",
    "\n",
    "    ## Gets the flight information list using the schedules_df idents\n",
    "    for identifier in schedules_df['ident']: #calls to each identifier collected\n",
    "        for offset_number in range(15): #set in place to not miss any flights in 2 week period \n",
    "            try: #we're gonna get some errors here for empty flights I think\n",
    "                flight_info_ex = api.service.FlightInfoEx(ident = identifier, howMany = 15, offset = offset_number) #retrieves the information pertaining to the identifier\n",
    "                flight_info = Client.dict(flight_info_ex) #converts the suds object into a workable dictionary\n",
    "                flight_info_list.append(flight_info_ex) #appends whatever the above is into a list\n",
    "            except: #when an error occurs...\n",
    "                continue #...just move on\n",
    "\n",
    "    ## Creates a dataframe out of the flight_info_df\n",
    "    ## Credit to Alex Speicher from Hofstra University for showing an efficient way to do this\n",
    "    for query in flight_info_list: #calls to every query in the info list made\n",
    "        for flight in query['flights']: #for every flight in the dictionary\n",
    "            flight_dict = {} #empty dicitonary pertaining to the columns in each flight \n",
    "            for column in flight_info_cols: #for every column name in the flight_info_cols\n",
    "                flight_dict[column] = flight[column] #appends the column names to the dictionary\n",
    "            info_df = pd.DataFrame([flight_dict], columns=flight_dict.keys()) #makes a dataframe using the dictionary columns \n",
    "            flight_info_df = pd.concat([flight_info_df, info_df], axis =0).reset_index(drop = True) #resets the index and fixes all those issues\n",
    "\n",
    "    #Cleans the flight_info_df\n",
    "    flight_info_df.drop_duplicates(subset = ['faFlightID'], inplace = True) #eliminates the overlapping most unique identifiers in our\n",
    "    flight_info_df = flight_info_df[flight_info_df['actualarrivaltime'] != 0] #removes the currently active flights from the list as there is no data on them and overwrites the dataframe variable\n",
    "    flight_info_df.reset_index(inplace = True) #resets the index \n",
    "\n",
    "    return schedules_df, flight_info_df #returns two dataframes"
   ]
  },
  {
   "cell_type": "code",
   "execution_count": 381,
   "metadata": {},
   "outputs": [
    {
     "name": "stderr",
     "output_type": "stream",
     "text": "ERROR:suds.client:<suds.sax.document.Document object at 0x12099a110>\nERROR:suds.client:<suds.sax.document.Document object at 0x117c7c710>\nERROR:suds.client:<suds.sax.document.Document object at 0x1202f7510>\nERROR:suds.client:<suds.sax.document.Document object at 0x120b27150>\nERROR:suds.client:<suds.sax.document.Document object at 0x122c703d0>\nERROR:suds.client:<suds.sax.document.Document object at 0x1070bdd90>\nERROR:suds.client:<suds.sax.document.Document object at 0x1221c2750>\nERROR:suds.client:<suds.sax.document.Document object at 0x122291710>\nERROR:suds.client:<suds.sax.document.Document object at 0x12212f810>\nERROR:suds.client:<suds.sax.document.Document object at 0x124108650>\nERROR:suds.client:<suds.sax.document.Document object at 0x125947610>\nERROR:suds.client:<suds.sax.document.Document object at 0x12626c190>\nERROR:suds.client:<suds.sax.document.Document object at 0x125267650>\nERROR:suds.client:<suds.sax.document.Document object at 0x12533cad0>\nERROR:suds.client:<suds.sax.document.Document object at 0x124f4a1d0>\nERROR:suds.client:<suds.sax.document.Document object at 0x126189a90>\nERROR:suds.client:<suds.sax.document.Document object at 0x125de14d0>\nERROR:suds.client:<suds.sax.document.Document object at 0x1257b9650>\nERROR:suds.client:<suds.sax.document.Document object at 0x125dcff50>\nERROR:suds.client:<suds.sax.document.Document object at 0x12577a7d0>\n"
    }
   ],
   "source": [
    "jfk_mia_flight_scheds, jfk_mia_flight_info = get_flights_df('5/15/2020', '5/25/2020', '8H', 'JFK', 'MIA', jfk_mia_info, 15)"
   ]
  },
  {
   "cell_type": "code",
   "execution_count": 514,
   "metadata": {},
   "outputs": [
    {
     "data": {
      "text/html": "<div>\n<style scoped>\n    .dataframe tbody tr th:only-of-type {\n        vertical-align: middle;\n    }\n\n    .dataframe tbody tr th {\n        vertical-align: top;\n    }\n\n    .dataframe thead th {\n        text-align: right;\n    }\n</style>\n<table border=\"1\" class=\"dataframe\">\n  <thead>\n    <tr style=\"text-align: right;\">\n      <th></th>\n      <th>ident</th>\n      <th>actual_ident</th>\n      <th>departuretime</th>\n      <th>arrival_time</th>\n      <th>origin</th>\n      <th>destination</th>\n      <th>aircrafttype</th>\n      <th>meal_service</th>\n      <th>seats_cabin_first</th>\n      <th>seats_cabin_business</th>\n      <th>seats_cabin_coach</th>\n    </tr>\n  </thead>\n  <tbody>\n    <tr>\n      <th>0</th>\n      <td>MAS9446</td>\n      <td>AAL2572</td>\n      <td>1589567400</td>\n      <td>1589579280</td>\n      <td>KJFK</td>\n      <td>KMIA</td>\n      <td>B738</td>\n      <td>Business: Meal / Economy: Meal</td>\n      <td>0</td>\n      <td>16</td>\n      <td>144</td>\n    </tr>\n    <tr>\n      <th>1</th>\n      <td>GLO6391</td>\n      <td>AAL2572</td>\n      <td>1589569200</td>\n      <td>1589581200</td>\n      <td>KJFK</td>\n      <td>KMIA</td>\n      <td>B738</td>\n      <td>Business: No meal / Economy: No meal</td>\n      <td>0</td>\n      <td>16</td>\n      <td>144</td>\n    </tr>\n    <tr>\n      <th>3</th>\n      <td>MAS9446</td>\n      <td>AAL2572</td>\n      <td>1589653800</td>\n      <td>1589665680</td>\n      <td>KJFK</td>\n      <td>KMIA</td>\n      <td>B738</td>\n      <td>Business: Meal / Economy: Meal</td>\n      <td>0</td>\n      <td>16</td>\n      <td>144</td>\n    </tr>\n    <tr>\n      <th>4</th>\n      <td>GLO6391</td>\n      <td>AAL2572</td>\n      <td>1589655600</td>\n      <td>1589667600</td>\n      <td>KJFK</td>\n      <td>KMIA</td>\n      <td>B738</td>\n      <td>Business: No meal / Economy: No meal</td>\n      <td>0</td>\n      <td>16</td>\n      <td>144</td>\n    </tr>\n    <tr>\n      <th>6</th>\n      <td>MAS9446</td>\n      <td>AAL2572</td>\n      <td>1589740200</td>\n      <td>1589752080</td>\n      <td>KJFK</td>\n      <td>KMIA</td>\n      <td>B738</td>\n      <td>Business: Meal / Economy: Meal</td>\n      <td>0</td>\n      <td>16</td>\n      <td>144</td>\n    </tr>\n    <tr>\n      <th>7</th>\n      <td>GLO6391</td>\n      <td>AAL2572</td>\n      <td>1589742000</td>\n      <td>1589754000</td>\n      <td>KJFK</td>\n      <td>KMIA</td>\n      <td>B738</td>\n      <td>Business: No meal / Economy: No meal</td>\n      <td>0</td>\n      <td>16</td>\n      <td>144</td>\n    </tr>\n    <tr>\n      <th>9</th>\n      <td>MAS9446</td>\n      <td>AAL2572</td>\n      <td>1589826600</td>\n      <td>1589838480</td>\n      <td>KJFK</td>\n      <td>KMIA</td>\n      <td>B738</td>\n      <td>Business: Meal / Economy: Meal</td>\n      <td>0</td>\n      <td>16</td>\n      <td>144</td>\n    </tr>\n    <tr>\n      <th>10</th>\n      <td>GLO6391</td>\n      <td>AAL2572</td>\n      <td>1589828400</td>\n      <td>1589840400</td>\n      <td>KJFK</td>\n      <td>KMIA</td>\n      <td>B738</td>\n      <td>Business: No meal / Economy: No meal</td>\n      <td>0</td>\n      <td>16</td>\n      <td>144</td>\n    </tr>\n    <tr>\n      <th>12</th>\n      <td>MAS9446</td>\n      <td>AAL2572</td>\n      <td>1589913000</td>\n      <td>1589924880</td>\n      <td>KJFK</td>\n      <td>KMIA</td>\n      <td>B738</td>\n      <td>Business: Meal / Economy: Meal</td>\n      <td>0</td>\n      <td>16</td>\n      <td>144</td>\n    </tr>\n    <tr>\n      <th>13</th>\n      <td>AAL2572</td>\n      <td>None</td>\n      <td>1589914800</td>\n      <td>1589926800</td>\n      <td>KJFK</td>\n      <td>KMIA</td>\n      <td>B738</td>\n      <td>Business: No meal / Economy: No meal</td>\n      <td>0</td>\n      <td>16</td>\n      <td>144</td>\n    </tr>\n    <tr>\n      <th>14</th>\n      <td>MAS9446</td>\n      <td>AAL2572</td>\n      <td>1589999400</td>\n      <td>1590011280</td>\n      <td>KJFK</td>\n      <td>KMIA</td>\n      <td>B738</td>\n      <td>Business: Meal / Economy: Meal</td>\n      <td>0</td>\n      <td>16</td>\n      <td>144</td>\n    </tr>\n    <tr>\n      <th>15</th>\n      <td>GLO6391</td>\n      <td>AAL2572</td>\n      <td>1590001200</td>\n      <td>1590013200</td>\n      <td>KJFK</td>\n      <td>KMIA</td>\n      <td>B738</td>\n      <td>Business: No meal / Economy: No meal</td>\n      <td>0</td>\n      <td>16</td>\n      <td>144</td>\n    </tr>\n    <tr>\n      <th>17</th>\n      <td>MAS9446</td>\n      <td>AAL2572</td>\n      <td>1590085800</td>\n      <td>1590097680</td>\n      <td>KJFK</td>\n      <td>KMIA</td>\n      <td>B738</td>\n      <td>Business: Meal / Economy: Meal</td>\n      <td>0</td>\n      <td>16</td>\n      <td>144</td>\n    </tr>\n    <tr>\n      <th>18</th>\n      <td>GLO6391</td>\n      <td>AAL2572</td>\n      <td>1590087600</td>\n      <td>1590099600</td>\n      <td>KJFK</td>\n      <td>KMIA</td>\n      <td>B738</td>\n      <td>Business: No meal / Economy: No meal</td>\n      <td>0</td>\n      <td>16</td>\n      <td>144</td>\n    </tr>\n    <tr>\n      <th>20</th>\n      <td>MAS9446</td>\n      <td>AAL2572</td>\n      <td>1590172200</td>\n      <td>1590184080</td>\n      <td>KJFK</td>\n      <td>KMIA</td>\n      <td>B738</td>\n      <td>Business: Meal / Economy: Meal</td>\n      <td>0</td>\n      <td>16</td>\n      <td>144</td>\n    </tr>\n    <tr>\n      <th>21</th>\n      <td>GLO6391</td>\n      <td>AAL2572</td>\n      <td>1590174000</td>\n      <td>1590186000</td>\n      <td>KJFK</td>\n      <td>KMIA</td>\n      <td>B738</td>\n      <td>Business: No meal / Economy: No meal</td>\n      <td>0</td>\n      <td>16</td>\n      <td>144</td>\n    </tr>\n    <tr>\n      <th>23</th>\n      <td>MAS9446</td>\n      <td>AAL2572</td>\n      <td>1590258600</td>\n      <td>1590270480</td>\n      <td>KJFK</td>\n      <td>KMIA</td>\n      <td>B738</td>\n      <td>Business: Meal / Economy: Meal</td>\n      <td>0</td>\n      <td>16</td>\n      <td>144</td>\n    </tr>\n    <tr>\n      <th>24</th>\n      <td>GLO6391</td>\n      <td>AAL2572</td>\n      <td>1590260400</td>\n      <td>1590272400</td>\n      <td>KJFK</td>\n      <td>KMIA</td>\n      <td>B738</td>\n      <td>Business: No meal / Economy: No meal</td>\n      <td>0</td>\n      <td>16</td>\n      <td>144</td>\n    </tr>\n    <tr>\n      <th>26</th>\n      <td>MAS9446</td>\n      <td>AAL2572</td>\n      <td>1590345000</td>\n      <td>1590356880</td>\n      <td>KJFK</td>\n      <td>KMIA</td>\n      <td>B738</td>\n      <td>Business: Meal / Economy: Meal</td>\n      <td>0</td>\n      <td>16</td>\n      <td>144</td>\n    </tr>\n    <tr>\n      <th>27</th>\n      <td>GLO6391</td>\n      <td>AAL2572</td>\n      <td>1590346800</td>\n      <td>1590358800</td>\n      <td>KJFK</td>\n      <td>KMIA</td>\n      <td>B738</td>\n      <td>Business: No meal / Economy: No meal</td>\n      <td>0</td>\n      <td>16</td>\n      <td>144</td>\n    </tr>\n  </tbody>\n</table>\n</div>",
      "text/plain": "      ident actual_ident departuretime arrival_time origin destination  \\\n0   MAS9446      AAL2572    1589567400   1589579280   KJFK        KMIA   \n1   GLO6391      AAL2572    1589569200   1589581200   KJFK        KMIA   \n3   MAS9446      AAL2572    1589653800   1589665680   KJFK        KMIA   \n4   GLO6391      AAL2572    1589655600   1589667600   KJFK        KMIA   \n6   MAS9446      AAL2572    1589740200   1589752080   KJFK        KMIA   \n7   GLO6391      AAL2572    1589742000   1589754000   KJFK        KMIA   \n9   MAS9446      AAL2572    1589826600   1589838480   KJFK        KMIA   \n10  GLO6391      AAL2572    1589828400   1589840400   KJFK        KMIA   \n12  MAS9446      AAL2572    1589913000   1589924880   KJFK        KMIA   \n13  AAL2572         None    1589914800   1589926800   KJFK        KMIA   \n14  MAS9446      AAL2572    1589999400   1590011280   KJFK        KMIA   \n15  GLO6391      AAL2572    1590001200   1590013200   KJFK        KMIA   \n17  MAS9446      AAL2572    1590085800   1590097680   KJFK        KMIA   \n18  GLO6391      AAL2572    1590087600   1590099600   KJFK        KMIA   \n20  MAS9446      AAL2572    1590172200   1590184080   KJFK        KMIA   \n21  GLO6391      AAL2572    1590174000   1590186000   KJFK        KMIA   \n23  MAS9446      AAL2572    1590258600   1590270480   KJFK        KMIA   \n24  GLO6391      AAL2572    1590260400   1590272400   KJFK        KMIA   \n26  MAS9446      AAL2572    1590345000   1590356880   KJFK        KMIA   \n27  GLO6391      AAL2572    1590346800   1590358800   KJFK        KMIA   \n\n   aircrafttype                          meal_service seats_cabin_first  \\\n0          B738        Business: Meal / Economy: Meal                 0   \n1          B738  Business: No meal / Economy: No meal                 0   \n3          B738        Business: Meal / Economy: Meal                 0   \n4          B738  Business: No meal / Economy: No meal                 0   \n6          B738        Business: Meal / Economy: Meal                 0   \n7          B738  Business: No meal / Economy: No meal                 0   \n9          B738        Business: Meal / Economy: Meal                 0   \n10         B738  Business: No meal / Economy: No meal                 0   \n12         B738        Business: Meal / Economy: Meal                 0   \n13         B738  Business: No meal / Economy: No meal                 0   \n14         B738        Business: Meal / Economy: Meal                 0   \n15         B738  Business: No meal / Economy: No meal                 0   \n17         B738        Business: Meal / Economy: Meal                 0   \n18         B738  Business: No meal / Economy: No meal                 0   \n20         B738        Business: Meal / Economy: Meal                 0   \n21         B738  Business: No meal / Economy: No meal                 0   \n23         B738        Business: Meal / Economy: Meal                 0   \n24         B738  Business: No meal / Economy: No meal                 0   \n26         B738        Business: Meal / Economy: Meal                 0   \n27         B738  Business: No meal / Economy: No meal                 0   \n\n   seats_cabin_business seats_cabin_coach  \n0                    16               144  \n1                    16               144  \n3                    16               144  \n4                    16               144  \n6                    16               144  \n7                    16               144  \n9                    16               144  \n10                   16               144  \n12                   16               144  \n13                   16               144  \n14                   16               144  \n15                   16               144  \n17                   16               144  \n18                   16               144  \n20                   16               144  \n21                   16               144  \n23                   16               144  \n24                   16               144  \n26                   16               144  \n27                   16               144  "
     },
     "execution_count": 514,
     "metadata": {},
     "output_type": "execute_result"
    }
   ],
   "source": [
    "jfk_mia_flight_scheds"
   ]
  },
  {
   "cell_type": "code",
   "execution_count": 366,
   "metadata": {},
   "outputs": [],
   "source": [
    "jfk_mia_flight_info.drop_duplicates(subset = ['faFlightID'], inplace = True)"
   ]
  },
  {
   "cell_type": "code",
   "execution_count": 369,
   "metadata": {},
   "outputs": [
    {
     "data": {
      "text/html": "<div>\n<style scoped>\n    .dataframe tbody tr th:only-of-type {\n        vertical-align: middle;\n    }\n\n    .dataframe tbody tr th {\n        vertical-align: top;\n    }\n\n    .dataframe thead th {\n        text-align: right;\n    }\n</style>\n<table border=\"1\" class=\"dataframe\">\n  <thead>\n    <tr style=\"text-align: right;\">\n      <th></th>\n      <th>faFlightID</th>\n      <th>ident</th>\n      <th>aircrafttype</th>\n      <th>filed_ete</th>\n      <th>filed_time</th>\n      <th>filed_departuretime</th>\n      <th>filed_airspeed_mach</th>\n      <th>filed_altitude</th>\n      <th>actualdeparturetime</th>\n      <th>estimatedarrivaltime</th>\n      <th>actualarrivaltime</th>\n      <th>diverted</th>\n      <th>origin</th>\n      <th>originName</th>\n      <th>originCity</th>\n      <th>destinationName</th>\n      <th>destinationCity</th>\n    </tr>\n  </thead>\n  <tbody>\n    <tr>\n      <th>3</th>\n      <td>AAL2572-1590209159-airline-0537</td>\n      <td>AAL2572</td>\n      <td>B738</td>\n      <td>03:06:00</td>\n      <td>1590431725</td>\n      <td>1590432000</td>\n      <td>None</td>\n      <td>360</td>\n      <td>1590431773</td>\n      <td>1590440887</td>\n      <td>1590440887</td>\n      <td>None</td>\n      <td>KJFK</td>\n      <td>John F Kennedy Intl</td>\n      <td>New York, NY</td>\n      <td>Miami Intl</td>\n      <td>Miami, FL</td>\n    </tr>\n    <tr>\n      <th>4</th>\n      <td>AAL2572-1590122721-airline-0420</td>\n      <td>AAL2572</td>\n      <td>B738</td>\n      <td>02:40:00</td>\n      <td>1590345342</td>\n      <td>1590345600</td>\n      <td>None</td>\n      <td>380</td>\n      <td>1590345390</td>\n      <td>1590354360</td>\n      <td>1590354360</td>\n      <td>None</td>\n      <td>KJFK</td>\n      <td>John F Kennedy Intl</td>\n      <td>New York, NY</td>\n      <td>Miami Intl</td>\n      <td>Miami, FL</td>\n    </tr>\n    <tr>\n      <th>5</th>\n      <td>AAL2572-1590036344-airline-0175</td>\n      <td>AAL2572</td>\n      <td>B738</td>\n      <td>02:55:00</td>\n      <td>1590259235</td>\n      <td>1590259200</td>\n      <td>None</td>\n      <td>380</td>\n      <td>1590259283</td>\n      <td>1590267480</td>\n      <td>1590267480</td>\n      <td>None</td>\n      <td>KJFK</td>\n      <td>John F Kennedy Intl</td>\n      <td>New York, NY</td>\n      <td>Miami Intl</td>\n      <td>Miami, FL</td>\n    </tr>\n    <tr>\n      <th>6</th>\n      <td>AAL2572-1589949964-airline-0120</td>\n      <td>AAL2572</td>\n      <td>B738</td>\n      <td>02:40:00</td>\n      <td>1590172660</td>\n      <td>1590172800</td>\n      <td>None</td>\n      <td>380</td>\n      <td>1590172708</td>\n      <td>1590181620</td>\n      <td>1590181620</td>\n      <td>None</td>\n      <td>KJFK</td>\n      <td>John F Kennedy Intl</td>\n      <td>New York, NY</td>\n      <td>Miami Intl</td>\n      <td>Miami, FL</td>\n    </tr>\n    <tr>\n      <th>7</th>\n      <td>AAL2572-1589863519-airline-0459</td>\n      <td>AAL2572</td>\n      <td>B738</td>\n      <td>02:40:00</td>\n      <td>1590086190</td>\n      <td>1590086400</td>\n      <td>None</td>\n      <td>380</td>\n      <td>1590086238</td>\n      <td>1590095340</td>\n      <td>1590095340</td>\n      <td>None</td>\n      <td>KJFK</td>\n      <td>John F Kennedy Intl</td>\n      <td>New York, NY</td>\n      <td>Miami Intl</td>\n      <td>Miami, FL</td>\n    </tr>\n    <tr>\n      <th>8</th>\n      <td>AAL2572-1589777123-airline-0485</td>\n      <td>AAL2572</td>\n      <td>B738</td>\n      <td>02:38:00</td>\n      <td>1590000375</td>\n      <td>1590000000</td>\n      <td>None</td>\n      <td>380</td>\n      <td>1590000407</td>\n      <td>1590009900</td>\n      <td>1590009900</td>\n      <td>None</td>\n      <td>KJFK</td>\n      <td>John F Kennedy Intl</td>\n      <td>New York, NY</td>\n      <td>Miami Intl</td>\n      <td>Miami, FL</td>\n    </tr>\n    <tr>\n      <th>9</th>\n      <td>AAL2572-1589690730-airline-0195</td>\n      <td>AAL2572</td>\n      <td>B738</td>\n      <td>02:46:00</td>\n      <td>1589914315</td>\n      <td>1589913600</td>\n      <td>None</td>\n      <td>380</td>\n      <td>1589914363</td>\n      <td>1589924160</td>\n      <td>1589924160</td>\n      <td>None</td>\n      <td>KJFK</td>\n      <td>John F Kennedy Intl</td>\n      <td>New York, NY</td>\n      <td>Miami Intl</td>\n      <td>Miami, FL</td>\n    </tr>\n    <tr>\n      <th>10</th>\n      <td>AAL2572-1589604351-airline-0000</td>\n      <td>AAL2572</td>\n      <td>B738</td>\n      <td>02:41:00</td>\n      <td>1589827142</td>\n      <td>1589827200</td>\n      <td>None</td>\n      <td>320</td>\n      <td>1589827191</td>\n      <td>1589837040</td>\n      <td>1589837040</td>\n      <td>None</td>\n      <td>KJFK</td>\n      <td>John F Kennedy Intl</td>\n      <td>New York, NY</td>\n      <td>Miami Intl</td>\n      <td>Miami, FL</td>\n    </tr>\n    <tr>\n      <th>11</th>\n      <td>AAL2572-1589517913-airline-0098</td>\n      <td>AAL2572</td>\n      <td>B738</td>\n      <td>02:40:00</td>\n      <td>1589741446</td>\n      <td>1589740800</td>\n      <td>None</td>\n      <td>380</td>\n      <td>1589741494</td>\n      <td>1589750762</td>\n      <td>1589750762</td>\n      <td>None</td>\n      <td>KJFK</td>\n      <td>John F Kennedy Intl</td>\n      <td>New York, NY</td>\n      <td>Miami Intl</td>\n      <td>Miami, FL</td>\n    </tr>\n    <tr>\n      <th>12</th>\n      <td>AAL2572-1589431536-airline-0436</td>\n      <td>AAL2572</td>\n      <td>B738</td>\n      <td>02:40:00</td>\n      <td>1589654365</td>\n      <td>1589654400</td>\n      <td>None</td>\n      <td>300</td>\n      <td>1589654430</td>\n      <td>1589663460</td>\n      <td>1589663460</td>\n      <td>None</td>\n      <td>KJFK</td>\n      <td>John F Kennedy Intl</td>\n      <td>New York, NY</td>\n      <td>Miami Intl</td>\n      <td>Miami, FL</td>\n    </tr>\n    <tr>\n      <th>13</th>\n      <td>AAL2572-1589345159-airline-0102</td>\n      <td>AAL2572</td>\n      <td>B738</td>\n      <td>02:56:00</td>\n      <td>1589567883</td>\n      <td>1589568000</td>\n      <td>None</td>\n      <td>380</td>\n      <td>1589567931</td>\n      <td>1589576820</td>\n      <td>1589576820</td>\n      <td>None</td>\n      <td>KJFK</td>\n      <td>John F Kennedy Intl</td>\n      <td>New York, NY</td>\n      <td>Miami Intl</td>\n      <td>Miami, FL</td>\n    </tr>\n  </tbody>\n</table>\n</div>",
      "text/plain": "                         faFlightID    ident aircrafttype filed_ete  \\\n3   AAL2572-1590209159-airline-0537  AAL2572         B738  03:06:00   \n4   AAL2572-1590122721-airline-0420  AAL2572         B738  02:40:00   \n5   AAL2572-1590036344-airline-0175  AAL2572         B738  02:55:00   \n6   AAL2572-1589949964-airline-0120  AAL2572         B738  02:40:00   \n7   AAL2572-1589863519-airline-0459  AAL2572         B738  02:40:00   \n8   AAL2572-1589777123-airline-0485  AAL2572         B738  02:38:00   \n9   AAL2572-1589690730-airline-0195  AAL2572         B738  02:46:00   \n10  AAL2572-1589604351-airline-0000  AAL2572         B738  02:41:00   \n11  AAL2572-1589517913-airline-0098  AAL2572         B738  02:40:00   \n12  AAL2572-1589431536-airline-0436  AAL2572         B738  02:40:00   \n13  AAL2572-1589345159-airline-0102  AAL2572         B738  02:56:00   \n\n    filed_time filed_departuretime filed_airspeed_mach filed_altitude  \\\n3   1590431725          1590432000                None            360   \n4   1590345342          1590345600                None            380   \n5   1590259235          1590259200                None            380   \n6   1590172660          1590172800                None            380   \n7   1590086190          1590086400                None            380   \n8   1590000375          1590000000                None            380   \n9   1589914315          1589913600                None            380   \n10  1589827142          1589827200                None            320   \n11  1589741446          1589740800                None            380   \n12  1589654365          1589654400                None            300   \n13  1589567883          1589568000                None            380   \n\n   actualdeparturetime estimatedarrivaltime actualarrivaltime diverted origin  \\\n3           1590431773           1590440887        1590440887     None   KJFK   \n4           1590345390           1590354360        1590354360     None   KJFK   \n5           1590259283           1590267480        1590267480     None   KJFK   \n6           1590172708           1590181620        1590181620     None   KJFK   \n7           1590086238           1590095340        1590095340     None   KJFK   \n8           1590000407           1590009900        1590009900     None   KJFK   \n9           1589914363           1589924160        1589924160     None   KJFK   \n10          1589827191           1589837040        1589837040     None   KJFK   \n11          1589741494           1589750762        1589750762     None   KJFK   \n12          1589654430           1589663460        1589663460     None   KJFK   \n13          1589567931           1589576820        1589576820     None   KJFK   \n\n             originName    originCity destinationName destinationCity  \n3   John F Kennedy Intl  New York, NY      Miami Intl       Miami, FL  \n4   John F Kennedy Intl  New York, NY      Miami Intl       Miami, FL  \n5   John F Kennedy Intl  New York, NY      Miami Intl       Miami, FL  \n6   John F Kennedy Intl  New York, NY      Miami Intl       Miami, FL  \n7   John F Kennedy Intl  New York, NY      Miami Intl       Miami, FL  \n8   John F Kennedy Intl  New York, NY      Miami Intl       Miami, FL  \n9   John F Kennedy Intl  New York, NY      Miami Intl       Miami, FL  \n10  John F Kennedy Intl  New York, NY      Miami Intl       Miami, FL  \n11  John F Kennedy Intl  New York, NY      Miami Intl       Miami, FL  \n12  John F Kennedy Intl  New York, NY      Miami Intl       Miami, FL  \n13  John F Kennedy Intl  New York, NY      Miami Intl       Miami, FL  "
     },
     "execution_count": 369,
     "metadata": {},
     "output_type": "execute_result"
    }
   ],
   "source": [
    "mask = jfk_mia_flight_info['actualarrivaltime'] != 0\n",
    "jfk_mia_flight_info[mask]"
   ]
  },
  {
   "cell_type": "code",
   "execution_count": 378,
   "metadata": {},
   "outputs": [
    {
     "data": {
      "text/html": "<div>\n<style scoped>\n    .dataframe tbody tr th:only-of-type {\n        vertical-align: middle;\n    }\n\n    .dataframe tbody tr th {\n        vertical-align: top;\n    }\n\n    .dataframe thead th {\n        text-align: right;\n    }\n</style>\n<table border=\"1\" class=\"dataframe\">\n  <thead>\n    <tr style=\"text-align: right;\">\n      <th></th>\n      <th>ident</th>\n      <th>actual_ident</th>\n      <th>departuretime</th>\n      <th>arrival_time</th>\n      <th>origin</th>\n      <th>destination</th>\n      <th>aircrafttype</th>\n      <th>meal_service</th>\n      <th>seats_cabin_first</th>\n      <th>seats_cabin_business</th>\n      <th>seats_cabin_coach</th>\n    </tr>\n  </thead>\n  <tbody>\n    <tr>\n      <th>2</th>\n      <td>AAL2572</td>\n      <td>None</td>\n      <td>1589569200</td>\n      <td>1589581200</td>\n      <td>KJFK</td>\n      <td>KMIA</td>\n      <td>B738</td>\n      <td>Business: No meal / Economy: No meal</td>\n      <td>0</td>\n      <td>16</td>\n      <td>144</td>\n    </tr>\n    <tr>\n      <th>5</th>\n      <td>AAL2572</td>\n      <td>None</td>\n      <td>1589655600</td>\n      <td>1589667600</td>\n      <td>KJFK</td>\n      <td>KMIA</td>\n      <td>B738</td>\n      <td>Business: No meal / Economy: No meal</td>\n      <td>0</td>\n      <td>16</td>\n      <td>144</td>\n    </tr>\n    <tr>\n      <th>8</th>\n      <td>AAL2572</td>\n      <td>None</td>\n      <td>1589742000</td>\n      <td>1589754000</td>\n      <td>KJFK</td>\n      <td>KMIA</td>\n      <td>B738</td>\n      <td>Business: No meal / Economy: No meal</td>\n      <td>0</td>\n      <td>16</td>\n      <td>144</td>\n    </tr>\n    <tr>\n      <th>11</th>\n      <td>AAL2572</td>\n      <td>None</td>\n      <td>1589828400</td>\n      <td>1589840400</td>\n      <td>KJFK</td>\n      <td>KMIA</td>\n      <td>B738</td>\n      <td>Business: No meal / Economy: No meal</td>\n      <td>0</td>\n      <td>16</td>\n      <td>144</td>\n    </tr>\n    <tr>\n      <th>16</th>\n      <td>AAL2572</td>\n      <td>None</td>\n      <td>1590001200</td>\n      <td>1590013200</td>\n      <td>KJFK</td>\n      <td>KMIA</td>\n      <td>B738</td>\n      <td>Business: No meal / Economy: No meal</td>\n      <td>0</td>\n      <td>16</td>\n      <td>144</td>\n    </tr>\n    <tr>\n      <th>19</th>\n      <td>AAL2572</td>\n      <td>None</td>\n      <td>1590087600</td>\n      <td>1590099600</td>\n      <td>KJFK</td>\n      <td>KMIA</td>\n      <td>B738</td>\n      <td>Business: No meal / Economy: No meal</td>\n      <td>0</td>\n      <td>16</td>\n      <td>144</td>\n    </tr>\n    <tr>\n      <th>22</th>\n      <td>AAL2572</td>\n      <td>None</td>\n      <td>1590174000</td>\n      <td>1590186000</td>\n      <td>KJFK</td>\n      <td>KMIA</td>\n      <td>B738</td>\n      <td>Business: No meal / Economy: No meal</td>\n      <td>0</td>\n      <td>16</td>\n      <td>144</td>\n    </tr>\n    <tr>\n      <th>25</th>\n      <td>AAL2572</td>\n      <td>None</td>\n      <td>1590260400</td>\n      <td>1590272400</td>\n      <td>KJFK</td>\n      <td>KMIA</td>\n      <td>B738</td>\n      <td>Business: No meal / Economy: No meal</td>\n      <td>0</td>\n      <td>16</td>\n      <td>144</td>\n    </tr>\n    <tr>\n      <th>28</th>\n      <td>AAL2572</td>\n      <td>None</td>\n      <td>1590346800</td>\n      <td>1590358800</td>\n      <td>KJFK</td>\n      <td>KMIA</td>\n      <td>B738</td>\n      <td>Business: No meal / Economy: No meal</td>\n      <td>0</td>\n      <td>16</td>\n      <td>144</td>\n    </tr>\n  </tbody>\n</table>\n</div>",
      "text/plain": "      ident actual_ident departuretime arrival_time origin destination  \\\n2   AAL2572         None    1589569200   1589581200   KJFK        KMIA   \n5   AAL2572         None    1589655600   1589667600   KJFK        KMIA   \n8   AAL2572         None    1589742000   1589754000   KJFK        KMIA   \n11  AAL2572         None    1589828400   1589840400   KJFK        KMIA   \n16  AAL2572         None    1590001200   1590013200   KJFK        KMIA   \n19  AAL2572         None    1590087600   1590099600   KJFK        KMIA   \n22  AAL2572         None    1590174000   1590186000   KJFK        KMIA   \n25  AAL2572         None    1590260400   1590272400   KJFK        KMIA   \n28  AAL2572         None    1590346800   1590358800   KJFK        KMIA   \n\n   aircrafttype                          meal_service seats_cabin_first  \\\n2          B738  Business: No meal / Economy: No meal                 0   \n5          B738  Business: No meal / Economy: No meal                 0   \n8          B738  Business: No meal / Economy: No meal                 0   \n11         B738  Business: No meal / Economy: No meal                 0   \n16         B738  Business: No meal / Economy: No meal                 0   \n19         B738  Business: No meal / Economy: No meal                 0   \n22         B738  Business: No meal / Economy: No meal                 0   \n25         B738  Business: No meal / Economy: No meal                 0   \n28         B738  Business: No meal / Economy: No meal                 0   \n\n   seats_cabin_business seats_cabin_coach  \n2                    16               144  \n5                    16               144  \n8                    16               144  \n11                   16               144  \n16                   16               144  \n19                   16               144  \n22                   16               144  \n25                   16               144  \n28                   16               144  "
     },
     "execution_count": 378,
     "metadata": {},
     "output_type": "execute_result"
    }
   ],
   "source": [
    "mask = jfk_mia_flight_scheds.duplicated(subset = ['arrival_time']) == True\n",
    "jfk_mia_flight_scheds[mask]"
   ]
  },
  {
   "cell_type": "code",
   "execution_count": 417,
   "metadata": {},
   "outputs": [
    {
     "data": {
      "text/html": "<div>\n<style scoped>\n    .dataframe tbody tr th:only-of-type {\n        vertical-align: middle;\n    }\n\n    .dataframe tbody tr th {\n        vertical-align: top;\n    }\n\n    .dataframe thead th {\n        text-align: right;\n    }\n</style>\n<table border=\"1\" class=\"dataframe\">\n  <thead>\n    <tr style=\"text-align: right;\">\n      <th></th>\n      <th>faFlightID</th>\n      <th>ident</th>\n      <th>aircrafttype</th>\n      <th>filed_ete</th>\n      <th>filed_time</th>\n      <th>filed_departuretime</th>\n      <th>filed_airspeed_mach</th>\n      <th>filed_altitude</th>\n      <th>actualdeparturetime</th>\n      <th>estimatedarrivaltime</th>\n      <th>actualarrivaltime</th>\n      <th>diverted</th>\n      <th>origin</th>\n      <th>originName</th>\n      <th>originCity</th>\n      <th>destinationName</th>\n      <th>destinationCity</th>\n    </tr>\n  </thead>\n  <tbody>\n    <tr>\n      <th>3</th>\n      <td>AAL2572-1590209159-airline-0537</td>\n      <td>AAL2572</td>\n      <td>B738</td>\n      <td>03:06:00</td>\n      <td>1590431725</td>\n      <td>1590432000</td>\n      <td>None</td>\n      <td>360</td>\n      <td>1590431773</td>\n      <td>1590440887</td>\n      <td>1590440887</td>\n      <td>None</td>\n      <td>KJFK</td>\n      <td>John F Kennedy Intl</td>\n      <td>New York, NY</td>\n      <td>Miami Intl</td>\n      <td>Miami, FL</td>\n    </tr>\n    <tr>\n      <th>4</th>\n      <td>AAL2572-1590122721-airline-0420</td>\n      <td>AAL2572</td>\n      <td>B738</td>\n      <td>02:40:00</td>\n      <td>1590345342</td>\n      <td>1590345600</td>\n      <td>None</td>\n      <td>380</td>\n      <td>1590345390</td>\n      <td>1590354360</td>\n      <td>1590354360</td>\n      <td>None</td>\n      <td>KJFK</td>\n      <td>John F Kennedy Intl</td>\n      <td>New York, NY</td>\n      <td>Miami Intl</td>\n      <td>Miami, FL</td>\n    </tr>\n    <tr>\n      <th>5</th>\n      <td>AAL2572-1590036344-airline-0175</td>\n      <td>AAL2572</td>\n      <td>B738</td>\n      <td>02:55:00</td>\n      <td>1590259235</td>\n      <td>1590259200</td>\n      <td>None</td>\n      <td>380</td>\n      <td>1590259283</td>\n      <td>1590267480</td>\n      <td>1590267480</td>\n      <td>None</td>\n      <td>KJFK</td>\n      <td>John F Kennedy Intl</td>\n      <td>New York, NY</td>\n      <td>Miami Intl</td>\n      <td>Miami, FL</td>\n    </tr>\n    <tr>\n      <th>6</th>\n      <td>AAL2572-1589949964-airline-0120</td>\n      <td>AAL2572</td>\n      <td>B738</td>\n      <td>02:40:00</td>\n      <td>1590172660</td>\n      <td>1590172800</td>\n      <td>None</td>\n      <td>380</td>\n      <td>1590172708</td>\n      <td>1590181620</td>\n      <td>1590181620</td>\n      <td>None</td>\n      <td>KJFK</td>\n      <td>John F Kennedy Intl</td>\n      <td>New York, NY</td>\n      <td>Miami Intl</td>\n      <td>Miami, FL</td>\n    </tr>\n    <tr>\n      <th>7</th>\n      <td>AAL2572-1589863519-airline-0459</td>\n      <td>AAL2572</td>\n      <td>B738</td>\n      <td>02:40:00</td>\n      <td>1590086190</td>\n      <td>1590086400</td>\n      <td>None</td>\n      <td>380</td>\n      <td>1590086238</td>\n      <td>1590095340</td>\n      <td>1590095340</td>\n      <td>None</td>\n      <td>KJFK</td>\n      <td>John F Kennedy Intl</td>\n      <td>New York, NY</td>\n      <td>Miami Intl</td>\n      <td>Miami, FL</td>\n    </tr>\n    <tr>\n      <th>8</th>\n      <td>AAL2572-1589777123-airline-0485</td>\n      <td>AAL2572</td>\n      <td>B738</td>\n      <td>02:38:00</td>\n      <td>1590000375</td>\n      <td>1590000000</td>\n      <td>None</td>\n      <td>380</td>\n      <td>1590000407</td>\n      <td>1590009900</td>\n      <td>1590009900</td>\n      <td>None</td>\n      <td>KJFK</td>\n      <td>John F Kennedy Intl</td>\n      <td>New York, NY</td>\n      <td>Miami Intl</td>\n      <td>Miami, FL</td>\n    </tr>\n    <tr>\n      <th>9</th>\n      <td>AAL2572-1589690730-airline-0195</td>\n      <td>AAL2572</td>\n      <td>B738</td>\n      <td>02:46:00</td>\n      <td>1589914315</td>\n      <td>1589913600</td>\n      <td>None</td>\n      <td>380</td>\n      <td>1589914363</td>\n      <td>1589924160</td>\n      <td>1589924160</td>\n      <td>None</td>\n      <td>KJFK</td>\n      <td>John F Kennedy Intl</td>\n      <td>New York, NY</td>\n      <td>Miami Intl</td>\n      <td>Miami, FL</td>\n    </tr>\n    <tr>\n      <th>10</th>\n      <td>AAL2572-1589604351-airline-0000</td>\n      <td>AAL2572</td>\n      <td>B738</td>\n      <td>02:41:00</td>\n      <td>1589827142</td>\n      <td>1589827200</td>\n      <td>None</td>\n      <td>320</td>\n      <td>1589827191</td>\n      <td>1589837040</td>\n      <td>1589837040</td>\n      <td>None</td>\n      <td>KJFK</td>\n      <td>John F Kennedy Intl</td>\n      <td>New York, NY</td>\n      <td>Miami Intl</td>\n      <td>Miami, FL</td>\n    </tr>\n    <tr>\n      <th>11</th>\n      <td>AAL2572-1589517913-airline-0098</td>\n      <td>AAL2572</td>\n      <td>B738</td>\n      <td>02:40:00</td>\n      <td>1589741446</td>\n      <td>1589740800</td>\n      <td>None</td>\n      <td>380</td>\n      <td>1589741494</td>\n      <td>1589750762</td>\n      <td>1589750762</td>\n      <td>None</td>\n      <td>KJFK</td>\n      <td>John F Kennedy Intl</td>\n      <td>New York, NY</td>\n      <td>Miami Intl</td>\n      <td>Miami, FL</td>\n    </tr>\n    <tr>\n      <th>12</th>\n      <td>AAL2572-1589431536-airline-0436</td>\n      <td>AAL2572</td>\n      <td>B738</td>\n      <td>02:40:00</td>\n      <td>1589654365</td>\n      <td>1589654400</td>\n      <td>None</td>\n      <td>300</td>\n      <td>1589654430</td>\n      <td>1589663460</td>\n      <td>1589663460</td>\n      <td>None</td>\n      <td>KJFK</td>\n      <td>John F Kennedy Intl</td>\n      <td>New York, NY</td>\n      <td>Miami Intl</td>\n      <td>Miami, FL</td>\n    </tr>\n    <tr>\n      <th>13</th>\n      <td>AAL2572-1589345159-airline-0102</td>\n      <td>AAL2572</td>\n      <td>B738</td>\n      <td>02:56:00</td>\n      <td>1589567883</td>\n      <td>1589568000</td>\n      <td>None</td>\n      <td>380</td>\n      <td>1589567931</td>\n      <td>1589576820</td>\n      <td>1589576820</td>\n      <td>None</td>\n      <td>KJFK</td>\n      <td>John F Kennedy Intl</td>\n      <td>New York, NY</td>\n      <td>Miami Intl</td>\n      <td>Miami, FL</td>\n    </tr>\n  </tbody>\n</table>\n</div>",
      "text/plain": "                         faFlightID    ident aircrafttype filed_ete  \\\n3   AAL2572-1590209159-airline-0537  AAL2572         B738  03:06:00   \n4   AAL2572-1590122721-airline-0420  AAL2572         B738  02:40:00   \n5   AAL2572-1590036344-airline-0175  AAL2572         B738  02:55:00   \n6   AAL2572-1589949964-airline-0120  AAL2572         B738  02:40:00   \n7   AAL2572-1589863519-airline-0459  AAL2572         B738  02:40:00   \n8   AAL2572-1589777123-airline-0485  AAL2572         B738  02:38:00   \n9   AAL2572-1589690730-airline-0195  AAL2572         B738  02:46:00   \n10  AAL2572-1589604351-airline-0000  AAL2572         B738  02:41:00   \n11  AAL2572-1589517913-airline-0098  AAL2572         B738  02:40:00   \n12  AAL2572-1589431536-airline-0436  AAL2572         B738  02:40:00   \n13  AAL2572-1589345159-airline-0102  AAL2572         B738  02:56:00   \n\n    filed_time filed_departuretime filed_airspeed_mach filed_altitude  \\\n3   1590431725          1590432000                None            360   \n4   1590345342          1590345600                None            380   \n5   1590259235          1590259200                None            380   \n6   1590172660          1590172800                None            380   \n7   1590086190          1590086400                None            380   \n8   1590000375          1590000000                None            380   \n9   1589914315          1589913600                None            380   \n10  1589827142          1589827200                None            320   \n11  1589741446          1589740800                None            380   \n12  1589654365          1589654400                None            300   \n13  1589567883          1589568000                None            380   \n\n   actualdeparturetime estimatedarrivaltime actualarrivaltime diverted origin  \\\n3           1590431773           1590440887        1590440887     None   KJFK   \n4           1590345390           1590354360        1590354360     None   KJFK   \n5           1590259283           1590267480        1590267480     None   KJFK   \n6           1590172708           1590181620        1590181620     None   KJFK   \n7           1590086238           1590095340        1590095340     None   KJFK   \n8           1590000407           1590009900        1590009900     None   KJFK   \n9           1589914363           1589924160        1589924160     None   KJFK   \n10          1589827191           1589837040        1589837040     None   KJFK   \n11          1589741494           1589750762        1589750762     None   KJFK   \n12          1589654430           1589663460        1589663460     None   KJFK   \n13          1589567931           1589576820        1589576820     None   KJFK   \n\n             originName    originCity destinationName destinationCity  \n3   John F Kennedy Intl  New York, NY      Miami Intl       Miami, FL  \n4   John F Kennedy Intl  New York, NY      Miami Intl       Miami, FL  \n5   John F Kennedy Intl  New York, NY      Miami Intl       Miami, FL  \n6   John F Kennedy Intl  New York, NY      Miami Intl       Miami, FL  \n7   John F Kennedy Intl  New York, NY      Miami Intl       Miami, FL  \n8   John F Kennedy Intl  New York, NY      Miami Intl       Miami, FL  \n9   John F Kennedy Intl  New York, NY      Miami Intl       Miami, FL  \n10  John F Kennedy Intl  New York, NY      Miami Intl       Miami, FL  \n11  John F Kennedy Intl  New York, NY      Miami Intl       Miami, FL  \n12  John F Kennedy Intl  New York, NY      Miami Intl       Miami, FL  \n13  John F Kennedy Intl  New York, NY      Miami Intl       Miami, FL  "
     },
     "execution_count": 417,
     "metadata": {},
     "output_type": "execute_result"
    }
   ],
   "source": [
    "jfk_mia_flight_info"
   ]
  },
  {
   "cell_type": "code",
   "execution_count": 432,
   "metadata": {},
   "outputs": [
    {
     "data": {
      "text/plain": "AAL2572-1590209159-airline-0537"
     },
     "execution_count": 432,
     "metadata": {},
     "output_type": "execute_result"
    }
   ],
   "source": [
    "jfk_mia_flight_info.loc[3, 'faFlightID']"
   ]
  },
  {
   "cell_type": "code",
   "execution_count": 385,
   "metadata": {},
   "outputs": [],
   "source": [
    "#this gets me a list of flight information like speed and altitude I believe this will be enough must convert this to a dataframe\n",
    "get_historical_track = api.service.GetHistoricalTrack(jfk_mia_flight_info.loc[3, 'faFlightID'])"
   ]
  },
  {
   "cell_type": "code",
   "execution_count": 419,
   "metadata": {},
   "outputs": [
    {
     "data": {
      "text/plain": "1590438958\n         latitude = 28.31534\n         longitude = -80.57579\n         groundspeed = 427\n         altitude = 340\n         altitudeStatus = None\n         updateType = \"TA\"\n         altitudeChange = \"-\"\n      },\n      (TrackStruct){\n         timestamp = 1590438988\n         latitude = 28.25789\n         longitude = -80.56211\n         groundspeed = 426\n         altitude = 340\n         altitudeStatus = None\n         updateType = \"TA\"\n         altitudeChange = \"-\"\n      },\n      (TrackStruct){\n         timestamp = 1590439018\n         latitude = 28.20181\n         longitude = -80.54885\n         groundspeed = 426\n         altitude = 340\n         altitudeStatus = None\n         updateType = \"TA\"\n         altitudeChange = \"-\"\n      },\n      (TrackStruct){\n         timestamp = 1590439044\n         latitude = 28.1493\n         longitude = -80.53603\n         groundspeed = 427\n         altitude = 340\n         altitudeStatus = None\n         updateType = \"TA\"\n         altitudeChange = \"-\"\n      },\n      (TrackStruct){\n         timestamp = 1590439083\n         latitude = 28.07733\n         longitude = -80.50426\n         groundspeed = 428\n         altitude = 340\n         altitudeStatus = None\n         updateType = \"TA\"\n         altitudeChange = \"-\"\n      },\n      (TrackStruct){\n         timestamp = 1590439105\n         latitude = 28.03725\n         longitude = -80.48531\n         groundspeed = 429\n         altitude = 340\n         altitudeStatus = None\n         updateType = \"TA\"\n         altitudeChange = \"-\"\n      },\n      (TrackStruct){\n         timestamp = 1590439124\n         latitude = 28.0041\n         longitude = -80.46904\n         groundspeed = 428\n         altitude = 340\n         altitudeStatus = None\n         updateType = \"TA\"\n         altitudeChange = \"-\"\n      },\n      (TrackStruct){\n         timestamp = 1590439141\n         latitude = 27.97273\n         longitude = -80.46004\n         groundspeed = 426\n         altitude = 340\n         altitudeStatus = None\n         updateType = \"TA\"\n         altitudeChange = \"-\"\n      },\n      (TrackStruct){\n         timestamp = 1590439174\n         latitude = 27.90903\n         longitude = -80.44827\n         groundspeed = 425\n         altitude = 340\n         altitudeStatus = None\n         updateType = \"TA\"\n         altitudeChange = \"-\"\n      },\n      (TrackStruct){\n         timestamp = 1590439199\n         latitude = 27.8584\n         longitude = -80.43212\n         groundspeed = 428\n         altitude = 340\n         altitudeStatus = None\n         updateType = \"TA\"\n         altitudeChange = \"-\"\n      },\n      (TrackStruct){\n         timestamp = 1590439235\n         latitude = 27.79737\n         longitude = -80.39557\n         groundspeed = 431\n         altitude = 340\n         altitudeStatus = None\n         updateType = \"TA\"\n         altitudeChange = \"-\"\n      },\n      (TrackStruct){\n         timestamp = 1590439265\n         latitude = 27.74345\n         longitude = -80.36235\n         groundspeed = 431\n         altitude = 339\n         altitudeStatus = None\n         updateType = \"TA\"\n         altitudeChange = \"D\"\n      },\n      (TrackStruct){\n         timestamp = 1590439282\n         latitude = 27.71297\n         longitude = -80.34392\n         groundspeed = 428\n         altitude = 336\n         altitudeStatus = None\n         updateType = \"TA\"\n         altitudeChange = \"D\"\n      },\n      (TrackStruct){\n         timestamp = 1590439298\n         latitude = 27.68564\n         longitude = -80.33094\n         groundspeed = 427\n         altitude = 334\n         altitudeStatus = None\n         updateType = \"TA\"\n         altitudeChange = \"D\"\n      },\n      (TrackStruct){\n         timestamp = 1590439315\n         latitude = 27.65147\n         longitude = -80.31951\n         groundspeed = 428\n         altitude = 331\n         altitudeStatus = None\n         updateType = \"TA\"\n         altitudeChange = \"D\"\n      },\n      (TrackStruct){\n         timestamp = 1590439345\n         latitude = 27.59221\n         longitude = -80.30534\n         groundspeed = 432\n         altitude = 326\n         altitudeStatus = None\n         updateType = \"TA\"\n         altitudeChange = \"D\"\n      },\n      (TrackStruct){\n         timestamp = 1590439375\n         latitude = 27.5356\n         longitude = -80.29152\n         groundspeed = 435\n         altitude = 321\n         altitudeStatus = None\n         updateType = \"TA\"\n         altitudeChange = \"D\"\n      },\n      (TrackStruct){\n         timestamp = 1590439405\n         latitude = 27.47672\n         longitude = -80.27731\n         groundspeed = 438\n         altitude = 316\n         altitudeStatus = None\n         updateType = \"TA\"\n         altitudeChange = \"D\"\n      },\n      (TrackStruct){\n         timestamp = 1590439435\n         latitude = 27.41494\n         longitude = -80.26247\n         groundspeed = 437\n         altitude = 308\n         altitudeStatus = None\n         updateType = \"TA\"\n         altitudeChange = \"D\"\n      },\n      (TrackStruct){\n         timestamp = 1590439465\n         latitude = 27.35801\n         longitude = -80.24874\n         groundspeed = 444\n         altitude = 304\n         altitudeStatus = None\n         updateType = \"TA\"\n         altitudeChange = \"D\"\n      },\n      (TrackStruct){\n         timestamp = 1590439495\n         latitude = 27.29679\n         longitude = -80.234\n         groundspeed = 444\n         altitude = 298\n         altitudeStatus = None\n         updateType = \"TA\"\n         altitudeChange = \"D\"\n      },\n      (TrackStruct){\n         timestamp = 1590439525\n         latitude = 27.23599\n         longitude = -80.21953\n         groundspeed = 433\n         altitude = 287\n         altitudeStatus = None\n         updateType = \"TA\"\n         altitudeChange = \"D\"\n      },\n      (TrackStruct){\n         timestamp = 1590439555\n         latitude = 27.17789\n         longitude = -80.20558\n         groundspeed = 428\n         altitude = 276\n         altitudeStatus = None\n         updateType = \"TA\"\n         altitudeChange = \"D\"\n      },\n      (TrackStruct){\n         timestamp = 1590439585\n         latitude = 27.11906\n         longitude = -80.19139\n         groundspeed = 422\n         altitude = 264\n         altitudeStatus = None\n         updateType = \"TA\"\n         altitudeChange = \"D\"\n      },\n      (TrackStruct){\n         timestamp = 1590439603\n         latitude = 27.08647\n         longitude = -80.18382\n         groundspeed = 418\n         altitude = 257\n         altitudeStatus = None\n         updateType = \"TA\"\n         altitudeChange = \"D\"\n      },\n      (TrackStruct){\n         timestamp = 1590439622\n         latitude = 27.05011\n         longitude = -80.18139\n         groundspeed = 415\n         altitude = 250\n         altitudeStatus = None\n         updateType = \"TA\"\n         altitudeChange = \"D\"\n      },\n      (TrackStruct){\n         timestamp = 1590439652\n         latitude = 26.99308\n         longitude = -80.18203\n         groundspeed = 412\n         altitude = 238\n         altitudeStatus = None\n         updateType = \"TA\"\n         altitudeChange = \"D\"\n      },\n      (TrackStruct){\n         timestamp = 1590439675\n         latitude = 26.9474\n         longitude = -80.18491\n         groundspeed = 407\n         altitude = 230\n         altitudeStatus = None\n         updateType = \"TA\"\n         altitudeChange = \"D\"\n      },\n      (TrackStruct){\n         timestamp = 1590439693\n         latitude = 26.91338\n         longitude = -80.18694\n         groundspeed = 402\n         altitude = 226\n         altitudeStatus = None\n         updateType = \"TA\"\n         altitudeChange = \"D\"\n      },\n      (TrackStruct){\n         timestamp = 1590439711\n         latitude = 26.88229\n         longitude = -80.18197\n         groundspeed = 406\n         altitude = 217\n         altitudeStatus = None\n         updateType = \"TA\"\n         altitudeChange = \"D\"\n      },\n      (TrackStruct){\n         timestamp = 1590439754\n         latitude = 26.80128\n         longitude = -80.1633\n         groundspeed = 395\n         altitude = 202\n         altitudeStatus = None\n         updateType = \"TA\"\n         altitudeChange = \"D\"\n      },\n      (TrackStruct){\n         timestamp = 1590439784\n         latitude = 26.75092\n         longitude = -80.1515\n         groundspeed = 386\n         altitude = 190\n         altitudeStatus = None\n         updateType = \"TA\"\n         altitudeChange = \"D\"\n      },\n      (TrackStruct){\n         timestamp = 1590439823\n         latitude = 26.68328\n         longitude = -80.12995\n         groundspeed = 377\n         altitude = 172\n         altitudeStatus = None\n         updateType = \"TA\"\n         altitudeChange = \"D\"\n      },\n      (TrackStruct){\n         timestamp = 1590439846\n         latitude = 26.64483\n         longitude = -80.11864\n         groundspeed = 372\n         altitude = 162\n         altitudeStatus = None\n         updateType = \"TA\"\n         altitudeChange = \"D\"\n      },\n      (TrackStruct){\n         timestamp = 1590439862\n         latitude = 26.61727\n         longitude = -80.11843\n         groundspeed = 363\n         altitude = 155\n         altitudeStatus = None\n         updateType = \"TA\"\n         altitudeChange = \"D\"\n      },\n      (TrackStruct){\n         timestamp = 1590439879\n         latitude = 26.59157\n         longitude = -80.13084\n         groundspeed = 355\n         altitude = 149\n         altitudeStatus = None\n         updateType = \"TA\"\n         altitudeChange = \"D\"\n      },\n      (TrackStruct){\n         timestamp = 1590439924\n         latitude = 26.54045\n         longitude = -80.18574\n         groundspeed = 333\n         altitude = 138\n         altitudeStatus = None\n         updateType = \"TA\"\n         altitudeChange = \"D\"\n      },\n      (TrackStruct){\n         timestamp = 1590439954\n         latitude = 26.50829\n         longitude = -80.22201\n         groundspeed = 309\n         altitude = 135\n         altitudeStatus = None\n         updateType = \"TA\"\n         altitudeChange = \"D\"\n      },\n      (TrackStruct){\n         timestamp = 1590439984\n         latitude = 26.47925\n         longitude = -80.25456\n         groundspeed = 300\n         altitude = 129\n         altitudeStatus = None\n         updateType = \"TA\"\n         altitudeChange = \"D\"\n      },\n      (TrackStruct){\n         timestamp = 1590440014\n         latitude = 26.44885\n         longitude = -80.28881\n         groundspeed = 296\n         altitude = 120\n         altitudeStatus = None\n         updateType = \"TA\"\n         altitudeChange = \"D\"\n      },\n      (TrackStruct){\n         timestamp = 1590440044\n         latitude = 26.4217\n         longitude = -80.31957\n         groundspeed = 289\n         altitude = 112\n         altitudeStatus = None\n         updateType = \"TA\"\n         altitudeChange = \"D\"\n      },\n      (TrackStruct){\n         timestamp = 1590440074\n         latitude = 26.39396\n         longitude = -80.35094\n         groundspeed = 286\n         altitude = 105\n         altitudeStatus = None\n         updateType = \"TA\"\n         altitudeChange = \"D\"\n      },\n      (TrackStruct){\n         timestamp = 1590440092\n         latitude = 26.37594\n         longitude = -80.37117\n         groundspeed = 286\n         altitude = 100\n         altitudeStatus = None\n         updateType = \"TA\"\n         altitudeChange = \"D\"\n      },\n      (TrackStruct){\n         timestamp = 1590440122\n         latitude = 26.34924\n         longitude = -80.40101\n         groundspeed = 283\n         altitude = 93\n         altitudeStatus = None\n         updateType = \"TA\"\n         altitudeChange = \"D\"\n      },\n      (TrackStruct){\n         timestamp = 1590440140\n         latitude = 26.32892\n         longitude = -80.41718\n         groundspeed = 281\n         altitude = 88\n         altitudeStatus = None\n         updateType = \"TA\"\n         altitudeChange = \"D\"\n      },\n      (TrackStruct){\n         timestamp = 1590440167\n         latitude = 26.29834\n         longitude = -80.43267\n         groundspeed = 281\n         altitude = 82\n         altitudeStatus = None\n         updateType = \"TA\"\n         altitudeChange = \"D\"\n      },\n      (TrackStruct){\n         timestamp = 1590440197\n         latitude = 26.26282\n         longitude = -80.4504\n         groundspeed = 270\n         altitude = 81\n         altitudeStatus = None\n         updateType = \"TA\"\n         altitudeChange = \"D\"\n      },\n      (TrackStruct){\n         timestamp = 1590440227\n         latitude = 26.22913\n         longitude = -80.46698\n         groundspeed = 266\n         altitude = 81\n         altitudeStatus = None\n         updateType = \"TA\"\n         altitudeChange = \"C\"\n      },\n      (TrackStruct){\n         timestamp = 1590440243\n         latitude = 26.21021\n         longitude = -80.47623\n         groundspeed = 266\n         altitude = 81\n         altitudeStatus = None\n         updateType = \"TA\"\n         altitudeChange = \"-\"\n      },\n      (TrackStruct){\n         timestamp = 1590440273\n         latitude = 26.17744\n         longitude = -80.49218\n         groundspeed = 266\n         altitude = 81\n         altitudeStatus = None\n         updateType = \"TA\"\n         altitudeChange = \"-\"\n      },\n      (TrackStruct){\n         timestamp = 1590440303\n         latitude = 26.14295\n         longitude = -80.50845\n         groundspeed = 265\n         altitude = 76\n         altitudeStatus = None\n         updateType = \"TA\"\n         altitudeChange = \"D\"\n      },\n      (TrackStruct){\n         timestamp = 1590440320\n         latitude = 26.12353\n         longitude = -80.51199\n         groundspeed = 267\n         altitude = 73\n         altitudeStatus = None\n         updateType = \"TA\"\n         altitudeChange = \"D\"\n      },\n      (TrackStruct){\n         timestamp = 1590440340\n         latitude = 26.09816\n         longitude = -80.51257\n         groundspeed = 258\n         altitude = 70\n         altitudeStatus = None\n         updateType = \"TA\"\n         altitudeChange = \"D\"\n      },\n      (TrackStruct){\n         timestamp = 1590440370\n         latitude = 26.0636\n         longitude = -80.51445\n         groundspeed = 253\n         altitude = 65\n         altitudeStatus = None\n         updateType = \"TA\"\n         altitudeChange = \"D\"\n      },\n      (TrackStruct){\n         timestamp = 1590440398\n         latitude = 26.03127\n         longitude = -80.51774\n         groundspeed = 245\n         altitude = 61\n         altitudeStatus = None\n         updateType = \"TA\"\n         altitudeChange = \"D\"\n      },\n      (TrackStruct){\n         timestamp = 1590440428\n         latitude = 25.99722\n         longitude = -80.52113\n         groundspeed = 228\n         altitude = 58\n         altitudeStatus = None\n         updateType = \"TA\"\n         altitudeChange = \"D\"\n      },\n      (TrackStruct){\n         timestamp = 1590440458\n         latitude = 25.96738\n         longitude = -80.52346\n         groundspeed = 213\n         altitude = 52\n         altitudeStatus = None\n         updateType = \"TA\"\n         altitudeChange = \"D\"\n      },\n      (TrackStruct){\n         timestamp = 1590440488\n         latitude = 25.93844\n         longitude = -80.52493\n         groundspeed = 218\n         altitude = 43\n         altitudeStatus = None\n         updateType = \"TA\"\n         altitudeChange = \"D\"\n      },\n      (TrackStruct){\n         timestamp = 1590440510\n         latitude = 25.91475\n         longitude = -80.52577\n         groundspeed = 214\n         altitude = 37\n         altitudeStatus = None\n         updateType = \"TA\"\n         altitudeChange = \"D\"\n      },\n      (TrackStruct){\n         timestamp = 1590440530\n         latitude = 25.89664\n         longitude = -80.52049\n         groundspeed = 212\n         altitude = 34\n         altitudeStatus = None\n         updateType = \"TA\"\n         altitudeChange = \"D\"\n      },\n      (TrackStruct){\n         timestamp = 1590440560\n         latitude = 25.86896\n         longitude = -80.51191\n         groundspeed = 203\n         altitude = 28\n         altitudeStatus = None\n         updateType = \"TA\"\n         altitudeChange = \"D\"\n      },\n      (TrackStruct){\n         timestamp = 1590440590\n         latitude = 25.84231\n         longitude = -80.50353\n         groundspeed = 200\n         altitude = 21\n         altitudeStatus = None\n         updateType = \"TA\"\n         altitudeChange = \"D\"\n      },\n      (TrackStruct){\n         timestamp = 1590440609\n         latitude = 25.8251\n         longitude = -80.49728\n         groundspeed = 197\n         altitude = 21\n         altitudeStatus = None\n         updateType = \"TA\"\n         altitudeChange = \"D\"\n      },\n      (TrackStruct){\n         timestamp = 1590440626\n         latitude = 25.8159\n         longitude = -80.48442\n         groundspeed = 197\n         altitude = 19\n         altitudeStatus = None\n         updateType = \"TA\"\n         altitudeChange = \"D\"\n      },\n      (TrackStruct){\n         timestamp = 1590440644\n         latitude = 25.81018\n         longitude = -80.46702\n         groundspeed = 200\n         altitude = 19\n         altitudeStatus = None\n         updateType = \"TA\"\n         altitudeChange = \"D\"\n      },\n      (TrackStruct){\n         timestamp = 1590440674\n         latitude = 25.80088\n         longitude = -80.43754\n         groundspeed = 189\n         altitude = 16\n         altitudeStatus = None\n         updateType = \"TA\"\n         altitudeChange = \"D\"\n      },\n      (TrackStruct){\n         timestamp = 1590440693\n         latitude = 25.79649\n         longitude = -80.42175\n         groundspeed = 177\n         altitude = 16\n         altitudeStatus = None\n         updateType = \"TA\"\n         altitudeChange = \"D\"\n      },\n      (TrackStruct){\n         timestamp = 1590440720\n         latitude = 25.79663\n         longitude = -80.40044\n         groundspeed = 152\n         altitude = 16\n         altitudeStatus = None\n         updateType = \"TA\"\n         altitudeChange = \"C\"\n      },\n      (TrackStruct){\n         timestamp = 1590440743\n         latitude = 25.79736\n         longitude = -80.38152\n         groundspeed = 152\n         altitude = 15\n         altitudeStatus = None\n         updateType = \"TA\"\n         altitudeChange = \"D\"\n      },\n      (TrackStruct){\n         timestamp = 1590440759\n         latitude = 25.7979\n         longitude = -80.36991\n         groundspeed = 146\n         altitude = 13\n         altitudeStatus = None\n         updateType = \"TA\"\n         altitudeChange = \"D\"\n      },\n      (TrackStruct){\n         timestamp = 1590440775\n         latitude = 25.79837\n         longitude = -80.3581\n         groundspeed = 137\n         altitude = 11\n         altitudeStatus = None\n         updateType = \"TA\"\n         altitudeChange = \"D\"\n      },\n      (TrackStruct){\n         timestamp = 1590440791\n         latitude = 25.79887\n         longitude = -80.34627\n         groundspeed = 138\n         altitude = 9\n         altitudeStatus = None\n         updateType = \"TA\"\n         altitudeChange = \"D\"\n      },\n      (TrackStruct){\n         timestamp = 1590440807\n         latitude = 25.7993\n         longitude = -80.33514\n         groundspeed = 139\n         altitude = 7\n         altitudeStatus = None\n         updateType = \"TA\"\n         altitudeChange = \"D\"\n      },\n      (TrackStruct){\n         timestamp = 1590440823\n         latitude = 25.79976\n         longitude = -80.32384\n         groundspeed = 140\n         altitude = 5\n         altitudeStatus = None\n         updateType = \"TA\"\n         altitudeChange = \"D\"\n      },\n      (TrackStruct){\n         timestamp = 1590440839\n         latitude = 25.80046\n         longitude = -80.31213\n         groundspeed = 143\n         altitude = 3\n         altitudeStatus = None\n         updateType = \"TA\"\n         altitudeChange = \"D\"\n      },\n      (TrackStruct){\n         timestamp = 1590440855\n         latitude = 25.80088\n         longitude = -80.30016\n         groundspeed = 148\n         altitude = 1\n         altitudeStatus = None\n         updateType = \"TA\"\n         altitudeChange = \"D\"\n      },\n      (TrackStruct){\n         timestamp = 1590440871\n         latitude = 25.80116\n         longitude = -80.29002\n         groundspeed = 113\n         altitude = 0\n         altitudeStatus = None\n         updateType = \"TA\"\n         altitudeChange = \"D\"\n      },\n }"
     },
     "execution_count": 419,
     "metadata": {},
     "output_type": "execute_result"
    }
   ],
   "source": [
    "get_historical_track"
   ]
  },
  {
   "cell_type": "code",
   "execution_count": 394,
   "metadata": {},
   "outputs": [],
   "source": [
    "data1 = Client.dict(get_historical_track)"
   ]
  },
  {
   "cell_type": "code",
   "execution_count": 430,
   "metadata": {},
   "outputs": [],
   "source": [
    "data2 = pd.DataFrame(data1['data'][1]).T"
   ]
  },
  {
   "cell_type": "code",
   "execution_count": 431,
   "metadata": {},
   "outputs": [
    {
     "data": {
      "text/html": "<div>\n<style scoped>\n    .dataframe tbody tr th:only-of-type {\n        vertical-align: middle;\n    }\n\n    .dataframe tbody tr th {\n        vertical-align: top;\n    }\n\n    .dataframe thead th {\n        text-align: right;\n    }\n</style>\n<table border=\"1\" class=\"dataframe\">\n  <thead>\n    <tr style=\"text-align: right;\">\n      <th></th>\n      <th>0</th>\n      <th>1</th>\n      <th>2</th>\n      <th>3</th>\n      <th>4</th>\n      <th>5</th>\n      <th>6</th>\n      <th>7</th>\n    </tr>\n  </thead>\n  <tbody>\n    <tr>\n      <th>0</th>\n      <td>timestamp</td>\n      <td>latitude</td>\n      <td>longitude</td>\n      <td>groundspeed</td>\n      <td>altitude</td>\n      <td>altitudeStatus</td>\n      <td>updateType</td>\n      <td>altitudeChange</td>\n    </tr>\n    <tr>\n      <th>1</th>\n      <td>1590431789</td>\n      <td>40.6646</td>\n      <td>-73.744</td>\n      <td>181</td>\n      <td>14</td>\n      <td>None</td>\n      <td>TA</td>\n      <td>C</td>\n    </tr>\n  </tbody>\n</table>\n</div>",
      "text/plain": "            0         1          2            3         4               5  \\\n0   timestamp  latitude  longitude  groundspeed  altitude  altitudeStatus   \n1  1590431789   40.6646    -73.744          181        14            None   \n\n            6               7  \n0  updateType  altitudeChange  \n1          TA               C  "
     },
     "execution_count": 431,
     "metadata": {},
     "output_type": "execute_result"
    }
   ],
   "source": [
    "data2"
   ]
  },
  {
   "cell_type": "code",
   "execution_count": 433,
   "metadata": {},
   "outputs": [],
   "source": [
    "get_historical_track2 = api.service.GetHistoricalTrack(jfk_mia_flight_info.loc[4, 'faFlightID'])"
   ]
  },
  {
   "cell_type": "code",
   "execution_count": 440,
   "metadata": {},
   "outputs": [
    {
     "data": {
      "text/html": "<div>\n<style scoped>\n    .dataframe tbody tr th:only-of-type {\n        vertical-align: middle;\n    }\n\n    .dataframe tbody tr th {\n        vertical-align: top;\n    }\n\n    .dataframe thead th {\n        text-align: right;\n    }\n</style>\n<table border=\"1\" class=\"dataframe\">\n  <thead>\n    <tr style=\"text-align: right;\">\n      <th></th>\n      <th>0</th>\n      <th>1</th>\n      <th>2</th>\n      <th>3</th>\n      <th>4</th>\n      <th>5</th>\n      <th>6</th>\n      <th>7</th>\n      <th>faFlightID</th>\n    </tr>\n  </thead>\n  <tbody>\n    <tr>\n      <th>0</th>\n      <td>timestamp</td>\n      <td>latitude</td>\n      <td>longitude</td>\n      <td>groundspeed</td>\n      <td>altitude</td>\n      <td>altitudeStatus</td>\n      <td>updateType</td>\n      <td>altitudeChange</td>\n      <td>AAL2572-1590122721-airline-0420</td>\n    </tr>\n    <tr>\n      <th>1</th>\n      <td>1590345406</td>\n      <td>40.6693</td>\n      <td>-73.7349</td>\n      <td>195</td>\n      <td>19</td>\n      <td>-</td>\n      <td>A</td>\n      <td>-</td>\n      <td>AAL2572-1590122721-airline-0420</td>\n    </tr>\n  </tbody>\n</table>\n</div>",
      "text/plain": "            0         1          2            3         4               5  \\\n0   timestamp  latitude  longitude  groundspeed  altitude  altitudeStatus   \n1  1590345406   40.6693   -73.7349          195        19               -   \n\n            6               7                       faFlightID  \n0  updateType  altitudeChange  AAL2572-1590122721-airline-0420  \n1           A               -  AAL2572-1590122721-airline-0420  "
     },
     "execution_count": 440,
     "metadata": {},
     "output_type": "execute_result"
    }
   ],
   "source": [
    "data3 = Client.dict(get_historical_track2)\n",
    "data4 = pd.DataFrame(data3['data'][1]).T\n",
    "data4['faFlightID'] = jfk_mia_flight_info.loc[4,'faFlightID']\n",
    "data4"
   ]
  },
  {
   "cell_type": "code",
   "execution_count": null,
   "metadata": {},
   "outputs": [],
   "source": [
    "skeleton_cols = ['timestamp', 'latitude', 'longitude', 'groundspeed', 'altitude', 'updateType', 'altitudeChange', 'faFlightID'] "
   ]
  },
  {
   "cell_type": "code",
   "execution_count": 485,
   "metadata": {},
   "outputs": [],
   "source": [
    "test = api.service.SearchBirdseyeInFlight(query = '{airline 1}', howMany = 15)"
   ]
  },
  {
   "cell_type": "code",
   "execution_count": 486,
   "metadata": {},
   "outputs": [
    {
     "data": {
      "text/plain": "(InFlightStruct){\n   next_offset = 15\n   aircraft[] = \n      (InFlightAircraftStruct){\n         faFlightID = \"GUN520-1590122722-airline-0183\"\n         ident = \"GUN520\"\n         prefix = None\n         type = \"C208\"\n         suffix = None\n         origin = \"PANC\"\n         destination = \"PAEN\"\n         timeout = \"0\"\n         timestamp = 0\n         departureTime = 0\n         firstPositionTime = 0\n         arrivalTime = 0\n         longitude = 0.0\n         latitude = 0.0\n         lowLongitude = 200.0\n         lowLatitude = 200.0\n         highLongitude = -200.0\n         highLatitude = -200.0\n         groundspeed = 0\n         altitude = 0\n         heading = 0\n         altitudeStatus = None\n         updateType = None\n         altitudeChange = None\n         waypoints = \"61.17 -150 61.06 -150.25 60.95 -150.48 60.87 -150.64 60.76 -150.87 60.75 -150.89 60.69 -151.01 60.63 -151.13 60.57 -151.24\"\n      },\n      (InFlightAircraftStruct){\n         faFlightID = \"CCA906-1590122722-airline-0129\"\n         ident = \"CCA906\"\n         prefix = None\n         type = \"B738\"\n         suffix = None\n         origin = \"ZHCC\"\n         destination = \"ZBAA\"\n         timeout = \"0\"\n         timestamp = 0\n         departureTime = 0\n         firstPositionTime = 0\n         arrivalTime = 0\n         longitude = 0.0\n         latitude = 0.0\n         lowLongitude = 200.0\n         lowLatitude = 200.0\n         highLongitude = -200.0\n         highLatitude = -200.0\n         groundspeed = 0\n         altitude = 0\n         heading = 0\n         altitudeStatus = None\n         updateType = None\n         altitudeChange = None\n         waypoints = None\n      },\n      (InFlightAircraftStruct){\n         faFlightID = \"AAH7002-1590122722-airline-0014\"\n         ident = \"AAH7002\"\n         prefix = None\n         type = \"B762\"\n         suffix = None\n         origin = \"PHNL\"\n         destination = \"KLAX\"\n         timeout = \"0\"\n         timestamp = 0\n         departureTime = 0\n         firstPositionTime = 0\n         arrivalTime = 0\n         longitude = 0.0\n         latitude = 0.0\n         lowLongitude = 200.0\n         lowLatitude = 200.0\n         highLongitude = -200.0\n         highLatitude = -200.0\n         groundspeed = 0\n         altitude = 0\n         heading = 0\n         altitudeStatus = None\n         updateType = None\n         altitudeChange = None\n         waypoints = \"21.32 -157.92 21.32 -157.92 21.39 -157.78 21.39 -157.78 21.42 -157.72 21.43 -157.69 21.48 -157.59 21.52 -157.53 21.6 -157.37 21.68 -157.2 21.7 -157.16 21.7 -157.15 21.77 -157.03 21.84 -156.88 21.91 -156.75 21.93 -156.69 21.96 -156.64 22.06 -156.45 22.1 -156.36 22.17 -156.22 22.18 -156.2 22.3 -155.94 22.39 -155.76 23.6 -153.22 23.61 -153.19 23.63 -153.16 25.56 -148.77 30.2 -135.75 30.8 -133.65 32.95 -124.41 32.96 -124.38 33.51 -121.26 33.53 -121.16 33.58 -120.82 33.59 -120.75 33.6 -120.67 33.65 -120.36 33.66 -120.29 33.71 -120.01 33.76 -119.69 33.77 -119.63 33.78 -119.56 33.78 -119.51 33.79 -119.5 33.8 -119.37 33.81 -119.35 33.84 -119.15 33.84 -119.12 33.85 -119.07 33.86 -118.96 33.87 -118.91 33.87 -118.9 33.88 -118.85 33.9 -118.74 33.9 -118.7 33.91 -118.63 33.91 -118.62 33.92 -118.6 33.92 -118.58 33.92 -118.54 33.93 -118.5 33.94 -118.41\"\n      },\n      (InFlightAircraftStruct){\n         faFlightID = \"AAR281-1590122723-airline-0084\"\n         ident = \"AAR281\"\n         prefix = None\n         type = \"B741\"\n         suffix = None\n         origin = \"KLAX\"\n         destination = \"RKSI\"\n         timeout = \"0\"\n         timestamp = 0\n         departureTime = 0\n         firstPositionTime = 0\n         arrivalTime = 0\n         longitude = 0.0\n         latitude = 0.0\n         lowLongitude = 200.0\n         lowLatitude = 200.0\n         highLongitude = -200.0\n         highLatitude = -200.0\n         groundspeed = 0\n         altitude = 0\n         heading = 0\n         altitudeStatus = None\n         updateType = None\n         altitudeChange = None\n         waypoints = \"33.94 -118.41 33.94 -118.47 33.94 -118.51 33.94 -118.52 33.94 -118.55 33.94 -118.56 33.94 -118.6 33.93 -118.64 33.93 -118.64 33.93 -118.67 33.93 -118.67 33.93 -118.72 33.92 -118.77 33.92 -118.82 33.92 -118.83 33.92 -118.86 33.92 -118.9 33.92 -119.02 33.96 -119.09 34 -119.16 34.01 -119.19 34.04 -119.21 34.09 -119.26 34.14 -119.3 34.19 -119.34 34.34 -119.47 34.41 -119.53 34.53 -119.64 34.69 -119.79 34.76 -119.87 34.9 -120 35.08 -120.17 35.17 -120.26 35.19 -120.27 35.4 -120.47 35.53 -120.58 35.59 -120.64 35.75 -120.77 36.71 -121.62 37.5 -122.33 37.54 -122.37 37.73 -122.55 38.08 -122.87 39.1 -122.88 41.33 -122.9 42.48 -122.91 43 -123.05 43.52 -123.18 43.74 -123.24 46.33 -123.97 46.95 -124.15 47.12 -124.18 47.47 -124.23 48.3 -124.63 48.5 -124.91 49.79 -126.84 50.25 -127.57 51.95 -130.4 54.08 -134.5 54.11 -134.56 54.12 -134.57 56.5 -140 58.5 -150 58.52 -150.21 58.73 -152.98 59 -160 58.9 -165.95 58.75 -167.72 57 -180 54.93 171.97 53.75 169.23 53.41 168.24 51.66 163.64 49.72 159.36 49.71 159.35 49.71 159.35 48.74 157.45 47.24 154.73 46.2 153 42.39 147.48 41.92 146.86 40.42 145 39.85 143.79 39.23 142.53 38.14 140.92 38.02 139.76 37.95 139.11 37.49 137.8 36.44 135.01 36.24 134.5 35.91 133.83 35.82 130.72 35.84 130.69 36.35 129.19 36.5 128.74 36.5 128.73 36.52 128.66 36.63 128.33 36.63 128.32 36.79 128 36.94 127.67 37.1 127.32 37.19 127.14 37.29 126.91 37.37 126.73 37.38 126.72 37.42 126.63 37.46 126.54 37.5 126.45\"\n      },\n      (InFlightAircraftStruct){\n         faFlightID = \"GUN619-1590122722-airline-0190\"\n         ident = \"GUN619\"\n         prefix = None\n         type = \"C208\"\n         suffix = None\n         origin = \"PAEN\"\n         destination = \"PANC\"\n         timeout = \"0\"\n         timestamp = 0\n         departureTime = 0\n         firstPositionTime = 0\n         arrivalTime = 0\n         longitude = 0.0\n         latitude = 0.0\n         lowLongitude = 200.0\n         lowLatitude = 200.0\n         highLongitude = -200.0\n         highLatitude = -200.0\n         groundspeed = 0\n         altitude = 0\n         heading = 0\n         altitudeStatus = None\n         updateType = None\n         altitudeChange = None\n         waypoints = \"60.57 -151.24 60.66 -151.06 60.87 -150.64 60.95 -150.48 61.04 -150.28 61.06 -150.23 61.12 -150.11 61.17 -150\"\n      },\n      (InFlightAircraftStruct){\n         faFlightID = \"AMX3-1590122722-airline-0229\"\n         ident = \"AMX3\"\n         prefix = None\n         type = \"B789\"\n         suffix = None\n         origin = \"MMMX\"\n         destination = \"LFPG\"\n         timeout = \"0\"\n         timestamp = 0\n         departureTime = 0\n         firstPositionTime = 0\n         arrivalTime = 0\n         longitude = 0.0\n         latitude = 0.0\n         lowLongitude = 200.0\n         lowLatitude = 200.0\n         highLongitude = -200.0\n         highLatitude = -200.0\n         groundspeed = 0\n         altitude = 0\n         heading = 0\n         altitudeStatus = None\n         updateType = None\n         altitudeChange = None\n         waypoints = \"19.43 -99.07 19.49 -98.96 19.54 -98.88 19.59 -98.79 19.65 -98.69 19.74 -98.54 19.77 -98.47 19.84 -98.36 19.99 -98.33 20.2 -98.29 20.44 -98.24 20.6 -98.21 20.66 -98.19 20.79 -98.17 20.94 -98.14 21.08 -98.11 21.49 -98.03 21.89 -97.94 22.29 -97.86 22.64 -97.62 23.15 -97.27 23.3 -97.17 24.66 -96.22 24.95 -96.01 25.63 -95.52 25.74 -95.4 26.03 -95.07 27.08 -93.89 27.68 -93.2 27.7 -93.18 28.1 -92.71 28.25 -92.54 28.49 -92.25 28.79 -91.89 29.66 -90.83 29.74 -90.52 29.85 -90 30.07 -89.6 30.26 -89.25 30.35 -89.07 30.44 -88.89 30.73 -88.36 31.31 -87.58 31.35 -87.53 32.22 -86.32 32.33 -86.18 32.57 -85.86 32.69 -85.7 32.81 -85.53 33.05 -85.21 33.27 -84.92 33.36 -84.8 33.63 -84.44 34.06 -83.98 34.7 -83.3 34.96 -82.97 36.7 -80.74 36.95 -80.41 37.02 -80.32 37.9 -79.11 38.25 -78.53 38.59 -77.95 38.64 -77.87 39.43 -77.05 39.5 -76.98 39.91 -76.18 39.96 -76.08 40.09 -75.82 40.22 -75.56 40.28 -75.33 40.46 -74.53 40.63 -73.77 40.79 -73.3 40.8 -73.29 41.24 -72.75 41.96 -71.84 42.16 -71.42 42.36 -70.99 42.45 -70.54 42.58 -69.96 43.15 -67 43.52 -65.34 44.16 -62.1 44.37 -60.87 44.73 -58.58 45.05 -56.27 45.06 -56.19 45.5 -52 46 -50 46.3 -48.79 46.58 -47.57 48 -40 48.3 -38.8 50 -30 51 -20 51 -15 51 -14 50.53 -9.3 50.37 -8 49.72 -4.63 49.67 -4.15 49.65 -4 49.65 -3.99 49.42 -1.15 49.4 -0.9 49.36 -0.51 49.34 -0.38 49.34 -0.3 49.3 0.02 49.25 0.48 49.21 0.87 49.16 1.35 49.13 1.6 49.09 1.92 49.08 1.99 49.06 2.17 49.04 2.3 49.03 2.42 49.01 2.55\"\n      },\n      (InFlightAircraftStruct){\n         faFlightID = \"LAN500-1590122722-airline-0319\"\n         ident = \"LAN500\"\n         prefix = None\n         type = \"B789\"\n         suffix = None\n         origin = \"SCEL\"\n         destination = \"KMIA\"\n         timeout = \"0\"\n         timestamp = 0\n         departureTime = 0\n         firstPositionTime = 0\n         arrivalTime = 0\n         longitude = 0.0\n         latitude = 0.0\n         lowLongitude = 200.0\n         lowLatitude = 200.0\n         highLongitude = -200.0\n         highLatitude = -200.0\n         groundspeed = 0\n         altitude = 0\n         heading = 0\n         altitudeStatus = None\n         updateType = None\n         altitudeChange = None\n         waypoints = \"-33.38 -70.78 -33.27 -70.8 -33.18 -70.82 -33.08 -70.84 -32.97 -70.86 -32.81 -70.89 -32.46 -70.95 -32.25 -70.99 -32 -71.03 -31.85 -71.06 -31.78 -71.07 -31.65 -71.09 -31.5 -71.12 -31.36 -71.14 0.89 -75.68 2.68 -75.91 4.47 -76.13 14.32 -77.42 15 -77.51 19.92 -78.19 24 -78.8 24.01 -78.8 24.05 -78.82 24.74 -79.11 24.91 -79.18 24.94 -79.19 24.98 -79.24 25.01 -79.28 25.09 -79.37 25.16 -79.45 25.2 -79.5 25.37 -79.7 25.39 -79.73 25.49 -79.88 25.52 -79.93 25.66 -80.14 25.68 -80.22 25.71 -80.32 25.71 -80.4 25.69 -80.64 25.69 -80.69 25.69 -80.69 25.71 -80.62 25.73 -80.56 25.73 -80.54 25.75 -80.47 25.77 -80.38 25.8 -80.29\"\n      },\n      (InFlightAircraftStruct){\n         faFlightID = \"CCA8416-1590122722-airline-0093\"\n         ident = \"CCA8416\"\n         prefix = None\n         type = \"B77F\"\n         suffix = None\n         origin = \"KLAX\"\n         destination = \"ZSPD\"\n         timeout = \"0\"\n         timestamp = 0\n         departureTime = 0\n         firstPositionTime = 0\n         arrivalTime = 0\n         longitude = 0.0\n         latitude = 0.0\n         lowLongitude = 200.0\n         lowLatitude = 200.0\n         highLongitude = -200.0\n         highLatitude = -200.0\n         groundspeed = 0\n         altitude = 0\n         heading = 0\n         altitudeStatus = None\n         updateType = None\n         altitudeChange = None\n         waypoints = \"33.94 -118.41 33.99 -118.48 34.01 -118.5 34.01 -118.5 34.03 -118.52 34.04 -118.54 34.05 -118.56 34.05 -118.56 34.06 -118.56 34.07 -118.58 34.09 -118.61 34.1 -118.62 34.11 -118.63 34.12 -118.64 34.16 -118.7 34.22 -118.78 34.3 -118.89 34.33 -118.93 34.35 -118.96 34.41 -119.04 34.55 -119.23 34.63 -119.35 34.67 -119.4 34.81 -119.59 34.86 -119.66 34.94 -119.77 34.96 -119.81 35.09 -119.99 35.13 -120.04 41.27 -130.06 47.86 -146.67 51.86 -174.62 51.87 -176.18 51.79 179.14 49.38 159.69 49.37 159.67 49.1 158.43 44.83 144.75 44.73 144.51 43.59 141.82 43.13 140.81 42.47 139.41 40.81 136.15 35.17 127.06 32.74 123.79 32.5 123.48 32.45 123.41 32.35 123.29 32.24 123.15 32.05 122.91 31.7 122.47 31.58 122.33 31.43 122.14 31.32 122 31.28 121.96 31.26 121.93 31.2 121.86 31.14 121.79\"\n      },\n      (InFlightAircraftStruct){\n         faFlightID = \"GUN617-1590122722-airline-0189\"\n         ident = \"GUN617\"\n         prefix = None\n         type = \"C208\"\n         suffix = None\n         origin = \"PAEN\"\n         destination = \"PANC\"\n         timeout = \"0\"\n         timestamp = 0\n         departureTime = 0\n         firstPositionTime = 0\n         arrivalTime = 0\n         longitude = 0.0\n         latitude = 0.0\n         lowLongitude = 200.0\n         lowLatitude = 200.0\n         highLongitude = -200.0\n         highLatitude = -200.0\n         groundspeed = 0\n         altitude = 0\n         heading = 0\n         altitudeStatus = None\n         updateType = None\n         altitudeChange = None\n         waypoints = \"60.57 -151.24 60.66 -151.06 60.87 -150.64 60.95 -150.48 61.04 -150.28 61.06 -150.23 61.12 -150.11 61.17 -150\"\n      },\n      (InFlightAircraftStruct){\n         faFlightID = \"DAL401-1590120594-fa-0001\"\n         ident = \"DAL401\"\n         prefix = None\n         type = \"BCS1\"\n         suffix = None\n         origin = \"KSFO\"\n         destination = \"KSEA\"\n         timeout = \"0\"\n         timestamp = 0\n         departureTime = 0\n         firstPositionTime = 0\n         arrivalTime = 0\n         longitude = 0.0\n         latitude = 0.0\n         lowLongitude = 200.0\n         lowLatitude = 200.0\n         highLongitude = -200.0\n         highLatitude = -200.0\n         groundspeed = 0\n         altitude = 0\n         heading = 0\n         altitudeStatus = None\n         updateType = None\n         altitudeChange = None\n         waypoints = \"37.62 -122.38 37.69 -122.27 37.7 -122.26 37.7 -122.25 37.72 -122.21 37.75 -122.21 37.75 -122.21 37.77 -122.21 37.82 -122.2 37.84 -122.2 37.97 -122.17 38.14 -122.15 38.17 -122.14 38.22 -122.13 38.31 -122.12 38.34 -122.11 38.47 -122.12 38.47 -122.12 38.64 -122.13 38.78 -122.14 38.85 -122.15 39.08 -122.16 39.17 -122.17 39.26 -122.18 39.3 -122.18 39.34 -122.18 39.66 -122.21 39.97 -122.23 40.07 -122.23 40.1 -122.24 41.21 -121.97 41.68 -121.85 42.15 -121.73 43.35 -122 43.74 -122.09 44.57 -122.3 45.2 -122.45 45.26 -122.47 45.46 -122.52 45.75 -122.59 45.75 -122.59 45.89 -122.63 45.96 -122.64 46 -122.65 46.09 -122.68 46.22 -122.7 46.27 -122.71 46.32 -122.72 46.47 -122.73 46.67 -122.73 46.78 -122.74 46.84 -122.67 46.87 -122.64 46.93 -122.57 46.94 -122.56 47.02 -122.53 47.08 -122.5 47.08 -122.5 47.19 -122.48 47.23 -122.47 47.35 -122.46 47.4 -122.46 47.41 -122.46 47.41 -122.46 47.41 -122.46 47.48 -122.46 47.51 -122.46 47.48 -122.39 47.45 -122.31\"\n      },\n      (InFlightAircraftStruct){\n         faFlightID = \"KAP1179-1590122721-airline-0320\"\n         ident = \"KAP1179\"\n         prefix = None\n         type = \"CNA\"\n         suffix = None\n         origin = \"KSTL\"\n         destination = \"KIRK\"\n         timeout = \"0\"\n         timestamp = 0\n         departureTime = 0\n         firstPositionTime = 0\n         arrivalTime = 0\n         longitude = 0.0\n         latitude = 0.0\n         lowLongitude = 200.0\n         lowLatitude = 200.0\n         highLongitude = -200.0\n         highLatitude = -200.0\n         groundspeed = 0\n         altitude = 0\n         heading = 0\n         altitudeStatus = None\n         updateType = None\n         altitudeChange = None\n         waypoints = None\n      },\n      (InFlightAircraftStruct){\n         faFlightID = \"CAY107-1590122722-airline-0160\"\n         ident = \"CAY107\"\n         prefix = None\n         type = \"B732\"\n         suffix = None\n         origin = \"KMIA\"\n         destination = \"MWCR\"\n         timeout = \"0\"\n         timestamp = 0\n         departureTime = 0\n         firstPositionTime = 0\n         arrivalTime = 0\n         longitude = 0.0\n         latitude = 0.0\n         lowLongitude = 200.0\n         lowLatitude = 200.0\n         highLongitude = -200.0\n         highLatitude = -200.0\n         groundspeed = 0\n         altitude = 0\n         heading = 0\n         altitudeStatus = None\n         updateType = None\n         altitudeChange = None\n         waypoints = \"25.8 -80.29 25.71 -80.24 25.69 -80.23 25.69 -80.22 25.62 -80.19 25.54 -80.14 25.43 -80.07 25.32 -80 25.3 -79.99 25.28 -79.98 25.08 -79.84 24.97 -79.75 24.85 -79.67 24.05 -79.1 24.01 -79.07 24 -79.07 23.3 -79.09 22.13 -79.11 21.88 -79.12 21.7 -79.12 20.31 -80.42 20.26 -80.46 20.01 -80.69 19.89 -80.8 19.76 -80.91 19.6 -81.06 19.47 -81.18 19.45 -81.2 19.41 -81.24 19.35 -81.29 19.28 -81.35\"\n      },\n      (InFlightAircraftStruct){\n         faFlightID = \"KAP1287-1590122721-airline-0322\"\n         ident = \"KAP1287\"\n         prefix = None\n         type = \"CNA\"\n         suffix = None\n         origin = \"KBNA\"\n         destination = \"KOWB\"\n         timeout = \"0\"\n         timestamp = 0\n         departureTime = 0\n         firstPositionTime = 0\n         arrivalTime = 0\n         longitude = 0.0\n         latitude = 0.0\n         lowLongitude = 200.0\n         lowLatitude = 200.0\n         highLongitude = -200.0\n         highLatitude = -200.0\n         groundspeed = 0\n         altitude = 0\n         heading = 0\n         altitudeStatus = None\n         updateType = None\n         altitudeChange = None\n         waypoints = None\n      },\n      (InFlightAircraftStruct){\n         faFlightID = \"CCA8414-1590122722-airline-0092\"\n         ident = \"CCA8414\"\n         prefix = None\n         type = \"B77F\"\n         suffix = None\n         origin = \"KJFK\"\n         destination = \"ZSPD\"\n         timeout = \"0\"\n         timestamp = 0\n         departureTime = 0\n         firstPositionTime = 0\n         arrivalTime = 0\n         longitude = 0.0\n         latitude = 0.0\n         lowLongitude = 200.0\n         lowLatitude = 200.0\n         highLongitude = -200.0\n         highLatitude = -200.0\n         groundspeed = 0\n         altitude = 0\n         heading = 0\n         altitudeStatus = None\n         updateType = None\n         altitudeChange = None\n         waypoints = \"40.64 -73.78 40.69 -73.8 40.74 -73.81 40.74 -73.81 40.76 -73.82 40.78 -73.83 40.8 -73.83 40.81 -73.83 40.83 -73.84 40.86 -73.85 40.86 -73.85 40.88 -73.86 40.88 -73.86 40.9 -73.86 40.93 -73.87 41.04 -73.91 41.21 -73.96 41.22 -73.97 41.26 -73.98 41.28 -73.99 41.3 -73.99 41.32 -74 41.33 -74 41.33 -74.01 41.35 -74.01 41.38 -74.02 41.41 -74.03 41.47 -74.05 41.53 -74.07 41.59 -74.09 41.65 -74.11 41.71 -74.13 41.91 -74.2 41.98 -74.23 42 -74.23 42.1 -74.27 42.14 -74.28 42.22 -74.31 42.3 -74.33 42.37 -74.36 42.38 -74.36 42.63 -74.45 42.88 -74.53 42.93 -74.55 44.71 -75.2 45.77 -75.6 46.86 -76.03 48.17 -76.57 50.82 -77.77 55.05 -80 56.02 -80.58 56.99 -81.19 62.58 -85.55 66.62 -90 67.14 -90.69 70.66 -96.47 72 -99.38 72.56 -100.74 73.19 -102.44 79.51 -155.14 79.18 -168.97 72.12 150.41 63.77 137.44 60.22 134.25 56.61 131.69 52.96 129.57 44.64 125.9 43.71 125.56 33.42 122.39 33.07 122.29 33 122.27 32.85 122.23 32.7 122.2 32.42 122.12 31.93 121.99 31.76 121.95 31.55 121.9 31.39 121.85 31.34 121.84 31.31 121.83 31.23 121.81 31.14 121.79\"\n      },\n      (InFlightAircraftStruct){\n         faFlightID = \"THT7-1590122723-airline-0007\"\n         ident = \"THT7\"\n         prefix = None\n         type = \"B789\"\n         suffix = None\n         origin = \"KLAX\"\n         destination = \"NTAA\"\n         timeout = \"0\"\n         timestamp = 0\n         departureTime = 0\n         firstPositionTime = 0\n         arrivalTime = 0\n         longitude = 0.0\n         latitude = 0.0\n         lowLongitude = 200.0\n         lowLatitude = 200.0\n         highLongitude = -200.0\n         highLatitude = -200.0\n         groundspeed = 0\n         altitude = 0\n         heading = 0\n         altitudeStatus = None\n         updateType = None\n         altitudeChange = None\n         waypoints = \"33.94 -118.41 33.87 -118.47 33.85 -118.48 33.85 -118.49 33.83 -118.51 33.8 -118.53 33.78 -118.54 33.78 -118.55 33.75 -118.57 33.72 -118.59 33.7 -118.61 33.6 -118.69 33.5 -118.78 33.48 -118.8 33.47 -118.81 33.18 -119.04 33 -119.19 32.87 -119.3 32.8 -119.36 32.67 -119.47 32.61 -119.51 32.51 -119.6 32.38 -119.7 32.26 -119.79 31.92 -120.07 31.64 -120.29 30.65 -121.06 30.64 -121.07 13.65 -132.22 3.57 -137.83 2.38 -138.48 1.19 -139.12 -15.28 -148.27 -15.57 -148.43 -15.79 -148.56 -15.86 -148.61 -15.91 -148.63 -16.09 -148.74 -16.36 -148.9 -16.58 -149.04 -16.86 -149.2 -17 -149.29 -17.19 -149.4 -17.23 -149.42 -17.33 -149.49 -17.41 -149.53 -17.48 -149.57 -17.55 -149.62\"\n      },\n }"
     },
     "execution_count": 486,
     "metadata": {},
     "output_type": "execute_result"
    }
   ],
   "source": [
    "test"
   ]
  },
  {
   "cell_type": "code",
   "execution_count": 452,
   "metadata": {},
   "outputs": [],
   "source": [
    "test1 = Client.dict(test)"
   ]
  },
  {
   "cell_type": "code",
   "execution_count": 487,
   "metadata": {},
   "outputs": [],
   "source": [
    "empty = []\n",
    "\n",
    "for i in range(10):\n",
    "    empty.append(test['aircraft'][i])"
   ]
  },
  {
   "cell_type": "code",
   "execution_count": 495,
   "metadata": {},
   "outputs": [],
   "source": [
    "testdf = pd.DataFrame(empty[1]).T"
   ]
  },
  {
   "cell_type": "code",
   "execution_count": 496,
   "metadata": {},
   "outputs": [
    {
     "data": {
      "text/html": "<div>\n<style scoped>\n    .dataframe tbody tr th:only-of-type {\n        vertical-align: middle;\n    }\n\n    .dataframe tbody tr th {\n        vertical-align: top;\n    }\n\n    .dataframe thead th {\n        text-align: right;\n    }\n</style>\n<table border=\"1\" class=\"dataframe\">\n  <thead>\n    <tr style=\"text-align: right;\">\n      <th></th>\n      <th>0</th>\n      <th>1</th>\n      <th>2</th>\n      <th>3</th>\n      <th>4</th>\n      <th>5</th>\n      <th>6</th>\n      <th>7</th>\n      <th>8</th>\n      <th>9</th>\n      <th>...</th>\n      <th>15</th>\n      <th>16</th>\n      <th>17</th>\n      <th>18</th>\n      <th>19</th>\n      <th>20</th>\n      <th>21</th>\n      <th>22</th>\n      <th>23</th>\n      <th>24</th>\n    </tr>\n  </thead>\n  <tbody>\n    <tr>\n      <th>0</th>\n      <td>faFlightID</td>\n      <td>ident</td>\n      <td>prefix</td>\n      <td>type</td>\n      <td>suffix</td>\n      <td>origin</td>\n      <td>destination</td>\n      <td>timeout</td>\n      <td>timestamp</td>\n      <td>departureTime</td>\n      <td>...</td>\n      <td>lowLatitude</td>\n      <td>highLongitude</td>\n      <td>highLatitude</td>\n      <td>groundspeed</td>\n      <td>altitude</td>\n      <td>heading</td>\n      <td>altitudeStatus</td>\n      <td>updateType</td>\n      <td>altitudeChange</td>\n      <td>waypoints</td>\n    </tr>\n    <tr>\n      <th>1</th>\n      <td>CCA906-1590122722-airline-0129</td>\n      <td>CCA906</td>\n      <td>None</td>\n      <td>B738</td>\n      <td>None</td>\n      <td>ZHCC</td>\n      <td>ZBAA</td>\n      <td>0</td>\n      <td>0</td>\n      <td>0</td>\n      <td>...</td>\n      <td>200</td>\n      <td>-200</td>\n      <td>-200</td>\n      <td>0</td>\n      <td>0</td>\n      <td>0</td>\n      <td>None</td>\n      <td>None</td>\n      <td>None</td>\n      <td>None</td>\n    </tr>\n  </tbody>\n</table>\n<p>2 rows × 25 columns</p>\n</div>",
      "text/plain": "                               0       1       2     3       4       5   \\\n0                      faFlightID   ident  prefix  type  suffix  origin   \n1  CCA906-1590122722-airline-0129  CCA906    None  B738    None    ZHCC   \n\n            6        7          8              9   ...           15  \\\n0  destination  timeout  timestamp  departureTime  ...  lowLatitude   \n1         ZBAA        0          0              0  ...          200   \n\n              16            17           18        19       20  \\\n0  highLongitude  highLatitude  groundspeed  altitude  heading   \n1           -200          -200            0         0        0   \n\n               21          22              23         24  \n0  altitudeStatus  updateType  altitudeChange  waypoints  \n1            None        None            None       None  \n\n[2 rows x 25 columns]"
     },
     "execution_count": 496,
     "metadata": {},
     "output_type": "execute_result"
    }
   ],
   "source": [
    "testdf"
   ]
  },
  {
   "cell_type": "code",
   "execution_count": 464,
   "metadata": {},
   "outputs": [
    {
     "data": {
      "text/plain": "(InFlightAircraftStruct){\n   faFlightID = \"VIR607-1590554331-ed-0000\"\n   ident = \"VIR607\"\n   prefix = None\n   type = \"B789\"\n   suffix = None\n   origin = \"EGLL\"\n   destination = \"KLAX\"\n   timeout = \"0\"\n   timestamp = 1590588743\n   departureTime = 1590564735\n   firstPositionTime = 1590564735\n   arrivalTime = 0\n   longitude = -95.05\n   latitude = 58.25\n   lowLongitude = -95.05\n   lowLatitude = 51.46732\n   highLongitude = -0.22812\n   highLatitude = 66.07288\n   groundspeed = 470\n   altitude = 400\n   heading = 229\n   altitudeStatus = None\n   updateType = \"Z\"\n   altitudeChange = \"-\"\n   waypoints = \"51.48 -0.46 51.51 -0.53 51.54 -0.61 51.59 -0.73 51.65 -0.86 51.71 -1.01 52.57 -1.1 52.84 -1.78 53.07 -1.78 53.55 -2.67 53.64 -2.96 53.7 -3.16 53.79 -3.47 54.02 -3.55 54.57 -4.6 54.81 -5.5 55.02 -5.52 55.45 -6.43 56.02 -7.68 56.43 -8.63 56.63 -9.13 56.8 -10 57.03 -10.13 57.55 -11.55 60.28 -30 65.98 -54.52 65.98 -56.22 65.89 -58.57 65.41 -65.3 64.7 -71.45 62.72 -81.76 62.29 -83.46 61.93 -84.83 61.89 -84.95 61.73 -85.53 61.48 -86.4 59.3 -92.53 57.65 -96.66 56 -100 55.43 -100.9 54.56 -102.21 53.68 -103.46 51.35 -106.46 50.3 -107.69 49.67 -108.08 49 -108.49 48.09 -109.02 47.57 -109.32 47.05 -109.61 46.63 -109.77 46.45 -109.84 45.9 -110.04 44.17 -110.67 44.06 -110.7 43.69 -110.83 43.31 -110.96 42.19 -111.34 41.19 -111.65 40.6 -111.84 40.27 -111.94 39.14 -112.71 38.8 -112.94 37.93 -113.5 37.68 -113.67 37.5 -113.79 37.23 -113.97 36.96 -114.15 36.59 -114.39 35.51 -115.08 35.51 -115.08 35.41 -115.2 35.12 -115.58 35.11 -115.59 34.83 -115.96 34.77 -116.02 34.65 -116.18 34.6 -116.25 34.56 -116.3 34.48 -116.39 34.45 -116.43 34.42 -116.48 34.41 -116.49 34.39 -116.55 34.33 -116.68 34.28 -116.82 34.26 -116.87 34.24 -116.92 34.22 -116.95 34.21 -116.98 34.21 -116.98 34.2 -117.04 34.18 -117.11 34.17 -117.15 34.17 -117.15 34.16 -117.17 34.14 -117.24 34.11 -117.37 34.11 -117.37 34.1 -117.38 34.08 -117.45 34.08 -117.47 34.08 -117.48 34.07 -117.5 34.05 -117.67 34.04 -117.72 34.03 -117.78 34.02 -117.84 34.02 -117.91 34.02 -117.91 34.01 -117.92 34.01 -117.97 34.01 -117.98 33.99 -118.06 33.98 -118.12 33.98 -118.14 33.97 -118.22 33.96 -118.32 33.95 -118.39 33.94 -118.41\"\n }"
     },
     "execution_count": 464,
     "metadata": {},
     "output_type": "execute_result"
    }
   ],
   "source": [
    "test1['aircraft'][1]"
   ]
  },
  {
   "cell_type": "code",
   "execution_count": 510,
   "metadata": {},
   "outputs": [],
   "source": [
    "#Inputs (destination)\n",
    "\n",
    "#Create a new function. First grab various amount of flights from location. \n",
    "    #will need a list to store the flights\n",
    "    #convert the list into a dataframe\n",
    "    #modify the next function to give an input from the dataframe\n",
    "\n",
    "def get_flights(start_input, end_input, frequency_input, destination_input):\n",
    "    ##\n",
    "\n",
    "\n",
    "\n",
    "    \n",
    "    \n",
    "    ## Create an empty list to add searches to\n",
    "    get_flights_list = []    \n",
    "\n",
    "\n",
    "    #Skeleton df for get_flights\n",
    "    get_flights_cols = ['faFlightID', 'ident', 'prefix', 'type', 'suffix', 'origin', 'destination', 'timeout', 'timestamp', 'departureTime', 'firstPositionTime', 'arrivalTime', 'longitude', 'latitude', 'lowLongitude', 'lowLatitude', 'highLongitude', 'highLatitude', 'groundspeed', 'altitude', 'heading', 'altitudeStatus', 'updateType', 'altitudeChange', 'waypoints']\n",
    "    get_flights_df = pd.DataFrame(columns = get_flights_cols)\n",
    "\n",
    "    #Grabbing flights from the list of destinations\n",
    "    for destination in destination_input:\n",
    "        add_dest = '{= dest ' + destination + '}'\n",
    "        search_flight = api.service.SearchBirdseyeInFlight(query = add_dest, howMany = 15)\n",
    "        search_dict = Client.dict(search_flight)\n",
    "        for retrieved_query in range(len(search_dict['aircraft'])):\n",
    "            get_flights_list.append(search_dict['aircraft'][retrieved_query])\n",
    "\n",
    "\n",
    "    #Creates the dataframe and concats to the get_flights_df\n",
    "    for list_item in range(len((get_flights_list)):\n",
    "\n",
    "\n",
    "\n",
    "\n",
    "\n",
    "    return get_flights_list"
   ]
  },
  {
   "cell_type": "code",
   "execution_count": 511,
   "metadata": {},
   "outputs": [],
   "source": [
    "destination_list = ['KLAX']\n",
    "test_list = get_flights(destination_list)"
   ]
  },
  {
   "cell_type": "code",
   "execution_count": 512,
   "metadata": {},
   "outputs": [
    {
     "data": {
      "text/plain": "15"
     },
     "execution_count": 512,
     "metadata": {},
     "output_type": "execute_result"
    }
   ],
   "source": [
    "len(test_list)"
   ]
  },
  {
   "cell_type": "code",
   "execution_count": null,
   "metadata": {},
   "outputs": [],
   "source": [
    "for list_item in range(len(test_list)):\n",
    "    cols_dict  = {}\n",
    "    for column in skeleton_cols:\n",
    "        cols_dict[column] = column\n",
    "        "
   ]
  },
  {
   "cell_type": "code",
   "execution_count": null,
   "metadata": {},
   "outputs": [],
   "source": []
  },
  {
   "cell_type": "code",
   "execution_count": 513,
   "metadata": {},
   "outputs": [],
   "source": [
    "skeleton_cols = ['faFlightID', 'ident', 'prefix', 'type', 'suffix', 'origin', 'destination', 'timeout', 'timestamp', 'departureTime', 'firstPositionTime', 'arrivalTime', 'longitude', 'latitude', 'lowLongitude', 'lowLatitude', 'highLongitude', 'highLatitude', 'groundspeed', 'altitude', 'heading', 'altitudeStatus', 'updateType', 'altitudeChange', 'waypoints']"
   ]
  },
  {
   "cell_type": "code",
   "execution_count": 505,
   "metadata": {},
   "outputs": [],
   "source": [
    "klax = 'KLAX'\n",
    "dest = '{=dest ' + klax + '}'"
   ]
  },
  {
   "cell_type": "code",
   "execution_count": 506,
   "metadata": {},
   "outputs": [
    {
     "data": {
      "text/plain": "'{=dest KLAX}'"
     },
     "execution_count": 506,
     "metadata": {},
     "output_type": "execute_result"
    }
   ],
   "source": [
    "dest"
   ]
  },
  {
   "cell_type": "code",
   "execution_count": 472,
   "metadata": {},
   "outputs": [
    {
     "ename": "SyntaxError",
     "evalue": "unexpected EOF while parsing (<ipython-input-472-83704e837683>, line 2)",
     "output_type": "error",
     "traceback": [
      "\u001b[0;36m  File \u001b[0;32m\"<ipython-input-472-83704e837683>\"\u001b[0;36m, line \u001b[0;32m2\u001b[0m\n\u001b[0;31m    for i in range(len(test1['aircraft'])):\u001b[0m\n\u001b[0m                                           ^\u001b[0m\n\u001b[0;31mSyntaxError\u001b[0m\u001b[0;31m:\u001b[0m unexpected EOF while parsing\n"
     ]
    }
   ],
   "source": [
    "\n",
    "\n",
    "\n",
    "skeleton_df = pd.DataFrame(columns = skeleton_cols) \n",
    "for i in range(len(test1['aircraft'])):\n",
    "    "
   ]
  },
  {
   "cell_type": "markdown",
   "metadata": {},
   "source": [
    "# IAH - LAX\n"
   ]
  },
  {
   "cell_type": "markdown",
   "metadata": {},
   "source": [
    "From [here](https://www.flights.com/flights/houston-iah-to-los-angeles-lax/): \"With 6 different airlines operating between houstan and Los Angeles, there are, on average, 2,642 flights per month. This equates to about 629 flights per week, and 90 flights per day from IAH to LAX.\" 5 out of 6 of these airliners are: \n",
    "- United Airlines (Flight UA 302) \n",
    "- Air China (CA 7398), Azul (AD 7026)\n",
    "- Asiana Airlines (OZ 9512)\n",
    "- Air New Zealand (NZ 9653)"
   ]
  },
  {
   "cell_type": "code",
   "execution_count": null,
   "metadata": {},
   "outputs": [],
   "source": []
  },
  {
   "cell_type": "code",
   "execution_count": null,
   "metadata": {},
   "outputs": [],
   "source": []
  },
  {
   "cell_type": "code",
   "execution_count": null,
   "metadata": {},
   "outputs": [],
   "source": []
  },
  {
   "cell_type": "code",
   "execution_count": null,
   "metadata": {},
   "outputs": [],
   "source": []
  },
  {
   "cell_type": "code",
   "execution_count": null,
   "metadata": {},
   "outputs": [],
   "source": []
  },
  {
   "cell_type": "code",
   "execution_count": null,
   "metadata": {},
   "outputs": [],
   "source": []
  }
 ]
}