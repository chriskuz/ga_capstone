{
 "nbformat": 4,
 "nbformat_minor": 2,
 "metadata": {
  "language_info": {
   "name": "python",
   "codemirror_mode": {
    "name": "ipython",
    "version": 3
   },
   "version": "3.7.6-final"
  },
  "orig_nbformat": 2,
  "file_extension": ".py",
  "mimetype": "text/x-python",
  "name": "python",
  "npconvert_exporter": "python",
  "pygments_lexer": "ipython3",
  "version": 3,
  "kernelspec": {
   "name": "python37664bitdsitestconda48790fb83d3f473c989768c98a666b4b",
   "display_name": "Python 3.7.6 64-bit ('DSI_test': conda)"
  }
 },
 "cells": [
  {
   "cell_type": "markdown",
   "metadata": {},
   "source": [
    "# Notes\n",
    "\n",
    "## Flight paths:\n",
    "- **Houston, TX** to **Los Angeles, CA** (IAH - LAX)\n",
    "- **New York City, NY** to **Miami, FL** (JFK - MIA)\n",
    "- **Portland, WA** to **Chicago, IL** (PDX - ORD)\n",
    "\n",
    "## Number of Total Routes\n",
    "- at least 1,000 per route for now (All times in GMC)\n",
    "\n",
    "    -__Times:__\n",
    "\n",
    "        - 0000 hours to 0600 hours\n",
    "\n",
    "        - 0601 hours to 1200 hours\n",
    "\n",
    "        - 1201 hours to 1800 hours\n",
    "\n",
    "        - 1801 hours to 2399 hours\n",
    "\n",
    "    - __Times of the Year:__\n",
    "    \n",
    "        - Try to get every month\n",
    "\n",
    "    - __Times of the Week:__\n",
    "        - Try to get every day. \n",
    "    \n",
    "## Notes about Data considerations\n",
    "\n",
    "- see what are typical flight times for your paths. you may be limited here. \n",
    "\n",
    "- consistently work with other api to see what you can grab\n",
    "\n",
    "- grab future flights too!\n",
    "\n",
    "- do some division on how many flights you can grab from how many time zonestuff\n",
    "\n",
    "\n",
    "## Features to Scrape\n",
    "- want aircraft type\n",
    "- want airline flight info\n",
    "- want airline flight \n",
    "- want aircraft type struct\n",
    "- want flight struct\n",
    "\n",
    "1 query will generate 15 results. Ex; If you request to see all flight from airport Alpha to Airport Bravo and the search results come back with 5000 flights. To find the pricing estimate you would do the following math. 5000/15 = 333 * $0.0079 = $2.63 (Class 2)"
   ]
  },
  {
   "cell_type": "code",
   "execution_count": 2,
   "metadata": {},
   "outputs": [],
   "source": [
    "import sys\n",
    "from suds import null, WebFault\n",
    "from suds.client import Client\n",
    "import logging\n",
    "import json\n",
    "import pandas as pd\n",
    "import datetime\n",
    "import numpy as np\n",
    "import time"
   ]
  },
  {
   "cell_type": "code",
   "execution_count": 3,
   "metadata": {},
   "outputs": [],
   "source": [
    "with open('/Users/ChristopherKuzemka/Documents/GA/dsi_11/projects/capstone/env.json') as f:\n",
    "    information = json.load(f)"
   ]
  },
  {
   "cell_type": "code",
   "execution_count": 4,
   "metadata": {},
   "outputs": [
    {
     "data": {
      "text/plain": "dict_keys(['FA_API_KEY', 'FA_USERNAME', 'x-rapidapi-host', 'x-rapidapi-key'])"
     },
     "execution_count": 4,
     "metadata": {},
     "output_type": "execute_result"
    }
   ],
   "source": [
    "information.keys()"
   ]
  },
  {
   "cell_type": "code",
   "execution_count": 5,
   "metadata": {},
   "outputs": [],
   "source": [
    "username = information.get('FA_USERNAME')\n",
    "apiKey = information.get('FA_API_KEY')\n",
    "url = 'http://flightxml.flightaware.com/soap/FlightXML2/wsdl'"
   ]
  },
  {
   "cell_type": "code",
   "execution_count": 6,
   "metadata": {},
   "outputs": [],
   "source": [
    "logging.basicConfig(level=logging.INFO)\n",
    "api = Client(url, username=username, password=apiKey)"
   ]
  },
  {
   "cell_type": "markdown",
   "metadata": {},
   "source": [
    "# JFK - MIA\n",
    "\n",
    "From [here](https://www.flights.com/flights/new-york-jfk-to-miami-mia/): \"with 3 differnt airlines operating flights between New York and Miami, there are, on average, 2,197 flights per month.. This equates to about 523 flights per week, and 75 flights per day from JFK to MIA. The three airlines are:\n",
    "- American Airlines (Flight AA 2572)\n",
    "\n",
    "- British Airways (Flight BA 1687) \n",
    "\n",
    "- Malaysia Airlines (Flight MH 9446)."
   ]
  },
  {
   "cell_type": "code",
   "execution_count": 7,
   "metadata": {},
   "outputs": [],
   "source": [
    "def make_unix_lists(start_date, end_date, frequency):\n",
    "    created_range = pd.date_range(start = start_date, end = end_date, freq = frequency) #creates a daterange series\n",
    "    list_created_range = list(created_range) #converts such range into a list\n",
    "    unix_floats = [date.to_pydatetime().timestamp() for date in list_created_range] #transforms the daterange list into unix epoch tiimestamps represented as floats\n",
    "    unix_ints = [int(i) for i in unix_floats] #makes the above list as a list of integers\n",
    "    #return unix_ints\n",
    "\n",
    "    #We are doing the below to accomodate a for loop format into another function\n",
    "    start_ints = unix_ints[:-1] #creates a list of all the start dates without last element\n",
    "    end_ints = unix_ints[1:] #creates a list of all the end dates without first element \n",
    "\n",
    "    return start_ints, end_ints"
   ]
  },
  {
   "cell_type": "code",
   "execution_count": 715,
   "metadata": {},
   "outputs": [],
   "source": [
    "def get_flights(start_input, end_input, frequency_input, destination_input):\n",
    "    start_time = time.time() #epoch time in seconds\n",
    "    print(f'This search began at this epoch time: {start_time}')\n",
    "\n",
    "    ## Unix Epoch Time Function\n",
    "    start_list, end_list = make_unix_lists(start_input, end_input, frequency_input) #utilizes the unix epoch creation list function\n",
    "    \n",
    "    ## Create an empty list to add searches to\n",
    "    get_flights_list = []\n",
    "    schedules = []\n",
    "    modified_schedules = []    \n",
    "\n",
    "\n",
    "    ## Skeleton df for get_flights_df\n",
    "    get_flights_cols = ['faFlightID', 'ident', 'prefix', 'type', 'suffix', 'origin', 'destination', 'timeout', 'timestamp', 'departureTime', 'firstPositionTime', 'arrivalTime', 'longitude', 'latitude', 'lowLongitude', 'lowLatitude', 'highLongitude', 'highLatitude', 'groundspeed', 'altitude', 'heading', 'altitudeStatus', 'updateType', 'altitudeChange', 'waypoints']\n",
    "    get_flights_df = pd.DataFrame(columns = get_flights_cols)\n",
    "\n",
    "    ## Creates the sketelton dataframe for schedules_df\n",
    "    schedules_cols = ['ident', 'actual_ident', 'departuretime', 'arrival_time', 'origin', 'destination', 'aircrafttype', 'meal_service', 'seats_cabin_first', 'seats_cabin_business', 'seats_cabin_coach'] #column names for the scheduling df\n",
    "    schedules_df = pd.DataFrame(columns = column_names) #creates the empty schedules dataframe skeleton\n",
    "\n",
    "    ## THE POINT OF THE BELOW TO GET FLIGHT ORIGIN-DESTINATION COMBINATIONS\n",
    "    print(\"Grabbing In-Flight Information...\")\n",
    "    #Grabbing flights from the list of destinations\n",
    "    for destination in destination_input: #for a destination labeled in the destination input\n",
    "        add_dest = '{= dest ' + destination + '}' #make it into the appropriate formatconducts a search on the current flights enroute \n",
    "        search_flight = api.service.SearchBirdseyeInFlight(query = add_dest, howMany = 15) #conducts a search\n",
    "        search_dict = Client.dict(search_flight)\n",
    "        print(\"Destination Query Searched!\")\n",
    "        for retrieved_query in range(len(search_dict['aircraft'])):\n",
    "            get_flights_list.append(search_dict['aircraft'][retrieved_query])\n",
    "            \n",
    "    \n",
    "    print(\"Creating In-Flight Dataframe\")\n",
    "    print(f'The elapsed time is: {time.time() - start_time} seconds.')\n",
    "    ## Creates the dataframe and concats to the get_flights_df\n",
    "    for list_item in range(len(get_flights_list)):\n",
    "        preliminary_flight_df = pd.DataFrame(get_flights_list[list_item]).T #uses a transposed version to cleanly extract the data\n",
    "        preliminary_flight_df.rename(columns = {0:get_flights_cols[0], #renames the columns to match the get_flights_df so concatenation is simple\n",
    "                            1: get_flights_cols[1],\n",
    "                            2: get_flights_cols[2],\n",
    "                            3: get_flights_cols[3],\n",
    "                            4: get_flights_cols[4],\n",
    "                            5: get_flights_cols[5],\n",
    "                            6: get_flights_cols[6],\n",
    "                            7: get_flights_cols[7],\n",
    "                            8: get_flights_cols[8],\n",
    "                            9: get_flights_cols[9],\n",
    "                            10: get_flights_cols[10],\n",
    "                            11: get_flights_cols[11],\n",
    "                            12: get_flights_cols[12],\n",
    "                            13: get_flights_cols[13],\n",
    "                            14: get_flights_cols[14],\n",
    "                            15: get_flights_cols[15],\n",
    "                            16: get_flights_cols[16],\n",
    "                            17: get_flights_cols[17],\n",
    "                            18: get_flights_cols[18],\n",
    "                            19: get_flights_cols[19],\n",
    "                            20: get_flights_cols[20],\n",
    "                            21: get_flights_cols[21],\n",
    "                            22: get_flights_cols[22],\n",
    "                            23: get_flights_cols[23],\n",
    "                            24: get_flights_cols[24]}, inplace = True) #very inefficient way to rename my columns\n",
    "        get_flights_df = pd.concat([get_flights_df, preliminary_flight_df]) #overwrites the get_flights_df to create a larger dataframe\n",
    "        print(\"Conactenated In-Flight Dataframe!\")\n",
    "\n",
    "    print('Cleaning The In-Flight Dataframe...')\n",
    "    ## Cleans the get_flights_df        \n",
    "    get_flights_df.drop(index = 0, inplace = True) #drops the 0 index rows in the repetative 0,1 pattern of the dataframe\n",
    "    get_flights_df.reset_index(inplace = True) #resets the index by creating a new index row\n",
    "    get_flights_df.drop(columns = 'index', inplace = True) #drops the extra index row\n",
    "\n",
    "\n",
    "    \n",
    "    ## Makes a unique combination \n",
    "    unique_orig_dest_combs = get_flights_df.groupby(['origin', 'destination']).size().reset_index()\n",
    "\n",
    "    print(\"Grabbing Airline Schedule Information...\")\n",
    "    print(f'The elapsed time so far is: {time.time() - start_time} seconds.')\n",
    "    ## Gets airline schedule and flight data\n",
    "    for index, origin_destination_combination in unique_orig_dest_combs.iterrows():\n",
    "        print(f'Searching Airline Schedules For Origin-Destination Combination: {origin_destination_combination[\"origin\"], origin_destination_combination[\"destination\"]}')\n",
    "        print(f'The elapsed time so far is: {time.time() - start_time} seconds.') \n",
    "        for time_epoch in range(len(start_list)): #for the entirity of the unix epoch time list\n",
    "            airline_flight_schedules = api.service.AirlineFlightSchedules(startDate = start_list[time_epoch], endDate = end_list[time_epoch], origin = origin_destination_combination[\"origin\"], destination = origin_destination_combination[\"destination\"], howMany = 15) #gets the flight schedules information\n",
    "            airline_flight_dict = Client.dict(airline_flight_schedules) #converts the above variable to a dictionary\n",
    "            schedules.append(airline_flight_dict) #appends results to the instantiated output list\n",
    "            print(\"Airline Shcedule Searched!\")\n",
    "\n",
    "    print(\"Cleaning Dirty Schedules Scrape...\")\n",
    "    ## Cleans the dirty collection for schedules\n",
    "    for item in range(len(schedules)):\n",
    "        try: #try the below...we'll get some errors for empty stuff\n",
    "            modified_schedules.append(schedules[item]['data']) #filters the output list to only show meaningful information where actual flights were flows in a timeframes studied\n",
    "        except: #when an error occurs...\n",
    "            continue #..move on and ignore any issues with with non existent flight data\n",
    "\n",
    "    \n",
    "    print('Making The Schedules Dataframe...')\n",
    "    print(f'The elapsed time so far is: {time.time() - start_time} seconds.')\n",
    "    ## Creates a dataframe out of the modified_schedules list <-- FIX THIS LATER\n",
    "    for l in range(len(modified_schedules)):\n",
    "        for m in range(len(modified_schedules[l])):\n",
    "            sched_df = pd.DataFrame(modified_schedules[l][m]).T #uses a transposed version to cleanly extract the data\n",
    "            sched_df.rename(columns = {0:schedules_cols[0], #renames the columns to match the schedules_df so concatenation is simple\n",
    "                        1: schedules_cols[1],\n",
    "                        2: schedules_cols[2],\n",
    "                        3: schedules_cols[3],\n",
    "                        4: schedules_cols[4],\n",
    "                        5: schedules_cols[5],\n",
    "                        6: schedules_cols[6],\n",
    "                        7: schedules_cols[7],\n",
    "                        8: schedules_cols[8],\n",
    "                        9: schedules_cols[9],\n",
    "                        10: schedules_cols[10]}, inplace = True) #very inefficient way to rename my columns\n",
    "            schedules_df = pd.concat([schedules_df, sched_df]) #overwrites the schedules_df to create a larger dataframe\n",
    "            print(\"Schedules Dataframe Concatenated!\")\n",
    "\n",
    "    print(\"Cleaning Schedules Dataframe...\")\n",
    "    ## Cleans the schedules_df\n",
    "    schedules_df.drop(index = 0, inplace = True) #drops the 0 index rows in the repetative 0,1 pattern of the dataframe\n",
    "    schedules_df.reset_index(inplace = True) #resets the index by creating a new index row\n",
    "    schedules_df.drop(columns = 'index', inplace = True) #drops the extra 'index row\n",
    "    \n",
    "\n",
    "    print(f'The elapsed time for this search is: {time.time() - start_time} seconds.')\n",
    "    print(f'The current epoch time that this search has finished is: {time.time()}')\n",
    "    return get_flights_df, schedules_df, unique_orig_dest_combs"
   ]
  },
  {
   "cell_type": "code",
   "execution_count": 716,
   "metadata": {},
   "outputs": [
    {
     "name": "stdout",
     "output_type": "stream",
     "text": "nated!\nSchedules Dataframe Concatenated!\nSchedules Dataframe Concatenated!\nSchedules Dataframe Concatenated!\nSchedules Dataframe Concatenated!\nSchedules Dataframe Concatenated!\nSchedules Dataframe Concatenated!\nSchedules Dataframe Concatenated!\nSchedules Dataframe Concatenated!\nSchedules Dataframe Concatenated!\nSchedules Dataframe Concatenated!\nSchedules Dataframe Concatenated!\nSchedules Dataframe Concatenated!\nSchedules Dataframe Concatenated!\nSchedules Dataframe Concatenated!\nSchedules Dataframe Concatenated!\nSchedules Dataframe Concatenated!\nSchedules Dataframe Concatenated!\nSchedules Dataframe Concatenated!\nSchedules Dataframe Concatenated!\nSchedules Dataframe Concatenated!\nSchedules Dataframe Concatenated!\nSchedules Dataframe Concatenated!\nSchedules Dataframe Concatenated!\nSchedules Dataframe Concatenated!\nSchedules Dataframe Concatenated!\nSchedules Dataframe Concatenated!\nSchedules Dataframe Concatenated!\nSchedules Dataframe Concatenated!\nSchedules Dataframe Concatenated!\nSchedules Dataframe Concatenated!\nSchedules Dataframe Concatenated!\nSchedules Dataframe Concatenated!\nSchedules Dataframe Concatenated!\nSchedules Dataframe Concatenated!\nSchedules Dataframe Concatenated!\nSchedules Dataframe Concatenated!\nSchedules Dataframe Concatenated!\nSchedules Dataframe Concatenated!\nSchedules Dataframe Concatenated!\nSchedules Dataframe Concatenated!\nSchedules Dataframe Concatenated!\nSchedules Dataframe Concatenated!\nSchedules Dataframe Concatenated!\nSchedules Dataframe Concatenated!\nSchedules Dataframe Concatenated!\nSchedules Dataframe Concatenated!\nSchedules Dataframe Concatenated!\nSchedules Dataframe Concatenated!\nSchedules Dataframe Concatenated!\nSchedules Dataframe Concatenated!\nSchedules Dataframe Concatenated!\nSchedules Dataframe Concatenated!\nSchedules Dataframe Concatenated!\nSchedules Dataframe Concatenated!\nSchedules Dataframe Concatenated!\nSchedules Dataframe Concatenated!\nSchedules Dataframe Concatenated!\nSchedules Dataframe Concatenated!\nSchedules Dataframe Concatenated!\nSchedules Dataframe Concatenated!\nSchedules Dataframe Concatenated!\nSchedules Dataframe Concatenated!\nSchedules Dataframe Concatenated!\nSchedules Dataframe Concatenated!\nSchedules Dataframe Concatenated!\nSchedules Dataframe Concatenated!\nSchedules Dataframe Concatenated!\nSchedules Dataframe Concatenated!\nSchedules Dataframe Concatenated!\nSchedules Dataframe Concatenated!\nSchedules Dataframe Concatenated!\nSchedules Dataframe Concatenated!\nSchedules Dataframe Concatenated!\nSchedules Dataframe Concatenated!\nSchedules Dataframe Concatenated!\nSchedules Dataframe Concatenated!\nSchedules Dataframe Concatenated!\nSchedules Dataframe Concatenated!\nSchedules Dataframe Concatenated!\nSchedules Dataframe Concatenated!\nSchedules Dataframe Concatenated!\nSchedules Dataframe Concatenated!\nSchedules Dataframe Concatenated!\nSchedules Dataframe Concatenated!\nSchedules Dataframe Concatenated!\nSchedules Dataframe Concatenated!\nSchedules Dataframe Concatenated!\nSchedules Dataframe Concatenated!\nSchedules Dataframe Concatenated!\nSchedules Dataframe Concatenated!\nSchedules Dataframe Concatenated!\nSchedules Dataframe Concatenated!\nSchedules Dataframe Concatenated!\nSchedules Dataframe Concatenated!\nSchedules Dataframe Concatenated!\nSchedules Dataframe Concatenated!\nSchedules Dataframe Concatenated!\nSchedules Dataframe Concatenated!\nSchedules Dataframe Concatenated!\nSchedules Dataframe Concatenated!\nSchedules Dataframe Concatenated!\nSchedules Dataframe Concatenated!\nSchedules Dataframe Concatenated!\nSchedules Dataframe Concatenated!\nSchedules Dataframe Concatenated!\nSchedules Dataframe Concatenated!\nSchedules Dataframe Concatenated!\nSchedules Dataframe Concatenated!\nSchedules Dataframe Concatenated!\nSchedules Dataframe Concatenated!\nSchedules Dataframe Concatenated!\nSchedules Dataframe Concatenated!\nSchedules Dataframe Concatenated!\nSchedules Dataframe Concatenated!\nSchedules Dataframe Concatenated!\nSchedules Dataframe Concatenated!\nSchedules Dataframe Concatenated!\nSchedules Dataframe Concatenated!\nSchedules Dataframe Concatenated!\nSchedules Dataframe Concatenated!\nSchedules Dataframe Concatenated!\nSchedules Dataframe Concatenated!\nSchedules Dataframe Concatenated!\nSchedules Dataframe Concatenated!\nSchedules Dataframe Concatenated!\nSchedules Dataframe Concatenated!\nSchedules Dataframe Concatenated!\nSchedules Dataframe Concatenated!\nSchedules Dataframe Concatenated!\nSchedules Dataframe Concatenated!\nSchedules Dataframe Concatenated!\nSchedules Dataframe Concatenated!\nSchedules Dataframe Concatenated!\nSchedules Dataframe Concatenated!\nSchedules Dataframe Concatenated!\nSchedules Dataframe Concatenated!\nSchedules Dataframe Concatenated!\nSchedules Dataframe Concatenated!\nSchedules Dataframe Concatenated!\nSchedules Dataframe Concatenated!\nSchedules Dataframe Concatenated!\nSchedules Dataframe Concatenated!\nSchedules Dataframe Concatenated!\nSchedules Dataframe Concatenated!\nSchedules Dataframe Concatenated!\nSchedules Dataframe Concatenated!\nSchedules Dataframe Concatenated!\nSchedules Dataframe Concatenated!\nSchedules Dataframe Concatenated!\nSchedules Dataframe Concatenated!\nSchedules Dataframe Concatenated!\nSchedules Dataframe Concatenated!\nSchedules Dataframe Concatenated!\nSchedules Dataframe Concatenated!\nSchedules Dataframe Concatenated!\nSchedules Dataframe Concatenated!\nSchedules Dataframe Concatenated!\nSchedules Dataframe Concatenated!\nSchedules Dataframe Concatenated!\nSchedules Dataframe Concatenated!\nSchedules Dataframe Concatenated!\nSchedules Dataframe Concatenated!\nSchedules Dataframe Concatenated!\nSchedules Dataframe Concatenated!\nSchedules Dataframe Concatenated!\nSchedules Dataframe Concatenated!\nSchedules Dataframe Concatenated!\nSchedules Dataframe Concatenated!\nSchedules Dataframe Concatenated!\nSchedules Dataframe Concatenated!\nSchedules Dataframe Concatenated!\nSchedules Dataframe Concatenated!\nSchedules Dataframe Concatenated!\nSchedules Dataframe Concatenated!\nSchedules Dataframe Concatenated!\nSchedules Dataframe Concatenated!\nSchedules Dataframe Concatenated!\nSchedules Dataframe Concatenated!\nSchedules Dataframe Concatenated!\nSchedules Dataframe Concatenated!\nSchedules Dataframe Concatenated!\nSchedules Dataframe Concatenated!\nSchedules Dataframe Concatenated!\nSchedules Dataframe Concatenated!\nSchedules Dataframe Concatenated!\nSchedules Dataframe Concatenated!\nSchedules Dataframe Concatenated!\nSchedules Dataframe Concatenated!\nSchedules Dataframe Concatenated!\nSchedules Dataframe Concatenated!\nSchedules Dataframe Concatenated!\nSchedules Dataframe Concatenated!\nSchedules Dataframe Concatenated!\nSchedules Dataframe Concatenated!\nSchedules Dataframe Concatenated!\nSchedules Dataframe Concatenated!\nSchedules Dataframe Concatenated!\nSchedules Dataframe Concatenated!\nSchedules Dataframe Concatenated!\nSchedules Dataframe Concatenated!\nSchedules Dataframe Concatenated!\nSchedules Dataframe Concatenated!\nSchedules Dataframe Concatenated!\nSchedules Dataframe Concatenated!\nSchedules Dataframe Concatenated!\nSchedules Dataframe Concatenated!\nSchedules Dataframe Concatenated!\nSchedules Dataframe Concatenated!\nSchedules Dataframe Concatenated!\nSchedules Dataframe Concatenated!\nSchedules Dataframe Concatenated!\nSchedules Dataframe Concatenated!\nSchedules Dataframe Concatenated!\nSchedules Dataframe Concatenated!\nSchedules Dataframe Concatenated!\nSchedules Dataframe Concatenated!\nSchedules Dataframe Concatenated!\nSchedules Dataframe Concatenated!\nSchedules Dataframe Concatenated!\nSchedules Dataframe Concatenated!\nSchedules Dataframe Concatenated!\nSchedules Dataframe Concatenated!\nSchedules Dataframe Concatenated!\nSchedules Dataframe Concatenated!\nSchedules Dataframe Concatenated!\nSchedules Dataframe Concatenated!\nSchedules Dataframe Concatenated!\nSchedules Dataframe Concatenated!\nSchedules Dataframe Concatenated!\nSchedules Dataframe Concatenated!\nSchedules Dataframe Concatenated!\nSchedules Dataframe Concatenated!\nSchedules Dataframe Concatenated!\nSchedules Dataframe Concatenated!\nSchedules Dataframe Concatenated!\nSchedules Dataframe Concatenated!\nSchedules Dataframe Concatenated!\nSchedules Dataframe Concatenated!\nSchedules Dataframe Concatenated!\nSchedules Dataframe Concatenated!\nSchedules Dataframe Concatenated!\nSchedules Dataframe Concatenated!\nSchedules Dataframe Concatenated!\nSchedules Dataframe Concatenated!\nSchedules Dataframe Concatenated!\nSchedules Dataframe Concatenated!\nSchedules Dataframe Concatenated!\nSchedules Dataframe Concatenated!\nSchedules Dataframe Concatenated!\nSchedules Dataframe Concatenated!\nSchedules Dataframe Concatenated!\nSchedules Dataframe Concatenated!\nSchedules Dataframe Concatenated!\nSchedules Dataframe Concatenated!\nSchedules Dataframe Concatenated!\nSchedules Dataframe Concatenated!\nSchedules Dataframe Concatenated!\nSchedules Dataframe Concatenated!\nSchedules Dataframe Concatenated!\nSchedules Dataframe Concatenated!\nSchedules Dataframe Concatenated!\nSchedules Dataframe Concatenated!\nSchedules Dataframe Concatenated!\nSchedules Dataframe Concatenated!\nSchedules Dataframe Concatenated!\nSchedules Dataframe Concatenated!\nSchedules Dataframe Concatenated!\nSchedules Dataframe Concatenated!\nSchedules Dataframe Concatenated!\nSchedules Dataframe Concatenated!\nSchedules Dataframe Concatenated!\nSchedules Dataframe Concatenated!\nSchedules Dataframe Concatenated!\nSchedules Dataframe Concatenated!\nSchedules Dataframe Concatenated!\nSchedules Dataframe Concatenated!\nSchedules Dataframe Concatenated!\nSchedules Dataframe Concatenated!\nSchedules Dataframe Concatenated!\nSchedules Dataframe Concatenated!\nSchedules Dataframe Concatenated!\nSchedules Dataframe Concatenated!\nSchedules Dataframe Concatenated!\nSchedules Dataframe Concatenated!\nSchedules Dataframe Concatenated!\nSchedules Dataframe Concatenated!\nSchedules Dataframe Concatenated!\nSchedules Dataframe Concatenated!\nSchedules Dataframe Concatenated!\nSchedules Dataframe Concatenated!\nSchedules Dataframe Concatenated!\nSchedules Dataframe Concatenated!\nSchedules Dataframe Concatenated!\nSchedules Dataframe Concatenated!\nSchedules Dataframe Concatenated!\nSchedules Dataframe Concatenated!\nSchedules Dataframe Concatenated!\nSchedules Dataframe Concatenated!\nSchedules Dataframe Concatenated!\nSchedules Dataframe Concatenated!\nSchedules Dataframe Concatenated!\nSchedules Dataframe Concatenated!\nSchedules Dataframe Concatenated!\nSchedules Dataframe Concatenated!\nSchedules Dataframe Concatenated!\nSchedules Dataframe Concatenated!\nSchedules Dataframe Concatenated!\nSchedules Dataframe Concatenated!\nSchedules Dataframe Concatenated!\nSchedules Dataframe Concatenated!\nSchedules Dataframe Concatenated!\nSchedules Dataframe Concatenated!\nSchedules Dataframe Concatenated!\nSchedules Dataframe Concatenated!\nSchedules Dataframe Concatenated!\nSchedules Dataframe Concatenated!\nSchedules Dataframe Concatenated!\nSchedules Dataframe Concatenated!\nSchedules Dataframe Concatenated!\nSchedules Dataframe Concatenated!\nSchedules Dataframe Concatenated!\nSchedules Dataframe Concatenated!\nSchedules Dataframe Concatenated!\nSchedules Dataframe Concatenated!\nSchedules Dataframe Concatenated!\nSchedules Dataframe Concatenated!\nSchedules Dataframe Concatenated!\nSchedules Dataframe Concatenated!\nSchedules Dataframe Concatenated!\nSchedules Dataframe Concatenated!\nSchedules Dataframe Concatenated!\nSchedules Dataframe Concatenated!\nSchedules Dataframe Concatenated!\nSchedules Dataframe Concatenated!\nSchedules Dataframe Concatenated!\nSchedules Dataframe Concatenated!\nSchedules Dataframe Concatenated!\nSchedules Dataframe Concatenated!\nSchedules Dataframe Concatenated!\nSchedules Dataframe Concatenated!\nSchedules Dataframe Concatenated!\nSchedules Dataframe Concatenated!\nSchedules Dataframe Concatenated!\nSchedules Dataframe Concatenated!\nSchedules Dataframe Concatenated!\nSchedules Dataframe Concatenated!\nSchedules Dataframe Concatenated!\nSchedules Dataframe Concatenated!\nSchedules Dataframe Concatenated!\nSchedules Dataframe Concatenated!\nSchedules Dataframe Concatenated!\nSchedules Dataframe Concatenated!\nSchedules Dataframe Concatenated!\nSchedules Dataframe Concatenated!\nSchedules Dataframe Concatenated!\nSchedules Dataframe Concatenated!\nSchedules Dataframe Concatenated!\nSchedules Dataframe Concatenated!\nSchedules Dataframe Concatenated!\nSchedules Dataframe Concatenated!\nSchedules Dataframe Concatenated!\nSchedules Dataframe Concatenated!\nSchedules Dataframe Concatenated!\nSchedules Dataframe Concatenated!\nSchedules Dataframe Concatenated!\nSchedules Dataframe Concatenated!\nSchedules Dataframe Concatenated!\nSchedules Dataframe Concatenated!\nSchedules Dataframe Concatenated!\nSchedules Dataframe Concatenated!\nSchedules Dataframe Concatenated!\nSchedules Dataframe Concatenated!\nSchedules Dataframe Concatenated!\nSchedules Dataframe Concatenated!\nSchedules Dataframe Concatenated!\nSchedules Dataframe Concatenated!\nSchedules Dataframe Concatenated!\nSchedules Dataframe Concatenated!\nSchedules Dataframe Concatenated!\nSchedules Dataframe Concatenated!\nSchedules Dataframe Concatenated!\nSchedules Dataframe Concatenated!\nSchedules Dataframe Concatenated!\nSchedules Dataframe Concatenated!\nSchedules Dataframe Concatenated!\nSchedules Dataframe Concatenated!\nSchedules Dataframe Concatenated!\nSchedules Dataframe Concatenated!\nSchedules Dataframe Concatenated!\nSchedules Dataframe Concatenated!\nSchedules Dataframe Concatenated!\nSchedules Dataframe Concatenated!\nSchedules Dataframe Concatenated!\nSchedules Dataframe Concatenated!\nSchedules Dataframe Concatenated!\nSchedules Dataframe Concatenated!\nSchedules Dataframe Concatenated!\nSchedules Dataframe Concatenated!\nSchedules Dataframe Concatenated!\nSchedules Dataframe Concatenated!\nSchedules Dataframe Concatenated!\nSchedules Dataframe Concatenated!\nSchedules Dataframe Concatenated!\nSchedules Dataframe Concatenated!\nSchedules Dataframe Concatenated!\nSchedules Dataframe Concatenated!\nSchedules Dataframe Concatenated!\nSchedules Dataframe Concatenated!\nSchedules Dataframe Concatenated!\nSchedules Dataframe Concatenated!\nSchedules Dataframe Concatenated!\nSchedules Dataframe Concatenated!\nSchedules Dataframe Concatenated!\nSchedules Dataframe Concatenated!\nSchedules Dataframe Concatenated!\nSchedules Dataframe Concatenated!\nSchedules Dataframe Concatenated!\nSchedules Dataframe Concatenated!\nSchedules Dataframe Concatenated!\nSchedules Dataframe Concatenated!\nSchedules Dataframe Concatenated!\nSchedules Dataframe Concatenated!\nSchedules Dataframe Concatenated!\nSchedules Dataframe Concatenated!\nSchedules Dataframe Concatenated!\nSchedules Dataframe Concatenated!\nSchedules Dataframe Concatenated!\nSchedules Dataframe Concatenated!\nSchedules Dataframe Concatenated!\nSchedules Dataframe Concatenated!\nSchedules Dataframe Concatenated!\nSchedules Dataframe Concatenated!\nSchedules Dataframe Concatenated!\nSchedules Dataframe Concatenated!\nSchedules Dataframe Concatenated!\nSchedules Dataframe Concatenated!\nSchedules Dataframe Concatenated!\nSchedules Dataframe Concatenated!\nSchedules Dataframe Concatenated!\nSchedules Dataframe Concatenated!\nSchedules Dataframe Concatenated!\nSchedules Dataframe Concatenated!\nSchedules Dataframe Concatenated!\nSchedules Dataframe Concatenated!\nSchedules Dataframe Concatenated!\nSchedules Dataframe Concatenated!\nSchedules Dataframe Concatenated!\nSchedules Dataframe Concatenated!\nSchedules Dataframe Concatenated!\nSchedules Dataframe Concatenated!\nSchedules Dataframe Concatenated!\nSchedules Dataframe Concatenated!\nSchedules Dataframe Concatenated!\nSchedules Dataframe Concatenated!\nSchedules Dataframe Concatenated!\nSchedules Dataframe Concatenated!\nSchedules Dataframe Concatenated!\nSchedules Dataframe Concatenated!\nSchedules Dataframe Concatenated!\nSchedules Dataframe Concatenated!\nSchedules Dataframe Concatenated!\nSchedules Dataframe Concatenated!\nSchedules Dataframe Concatenated!\nSchedules Dataframe Concatenated!\nSchedules Dataframe Concatenated!\nSchedules Dataframe Concatenated!\nSchedules Dataframe Concatenated!\nSchedules Dataframe Concatenated!\nSchedules Dataframe Concatenated!\nSchedules Dataframe Concatenated!\nSchedules Dataframe Concatenated!\nSchedules Dataframe Concatenated!\nSchedules Dataframe Concatenated!\nSchedules Dataframe Concatenated!\nSchedules Dataframe Concatenated!\nSchedules Dataframe Concatenated!\nSchedules Dataframe Concatenated!\nSchedules Dataframe Concatenated!\nSchedules Dataframe Concatenated!\nSchedules Dataframe Concatenated!\nSchedules Dataframe Concatenated!\nSchedules Dataframe Concatenated!\nSchedules Dataframe Concatenated!\nSchedules Dataframe Concatenated!\nSchedules Dataframe Concatenated!\nSchedules Dataframe Concatenated!\nSchedules Dataframe Concatenated!\nSchedules Dataframe Concatenated!\nSchedules Dataframe Concatenated!\nSchedules Dataframe Concatenated!\nSchedules Dataframe Concatenated!\nSchedules Dataframe Concatenated!\nSchedules Dataframe Concatenated!\nSchedules Dataframe Concatenated!\nSchedules Dataframe Concatenated!\nSchedules Dataframe Concatenated!\nSchedules Dataframe Concatenated!\nSchedules Dataframe Concatenated!\nSchedules Dataframe Concatenated!\nSchedules Dataframe Concatenated!\nSchedules Dataframe Concatenated!\nSchedules Dataframe Concatenated!\nSchedules Dataframe Concatenated!\nSchedules Dataframe Concatenated!\nSchedules Dataframe Concatenated!\nSchedules Dataframe Concatenated!\nSchedules Dataframe Concatenated!\nSchedules Dataframe Concatenated!\nSchedules Dataframe Concatenated!\nSchedules Dataframe Concatenated!\nSchedules Dataframe Concatenated!\nSchedules Dataframe Concatenated!\nSchedules Dataframe Concatenated!\nSchedules Dataframe Concatenated!\nSchedules Dataframe Concatenated!\nSchedules Dataframe Concatenated!\nSchedules Dataframe Concatenated!\nSchedules Dataframe Concatenated!\nSchedules Dataframe Concatenated!\nSchedules Dataframe Concatenated!\nSchedules Dataframe Concatenated!\nSchedules Dataframe Concatenated!\nSchedules Dataframe Concatenated!\nSchedules Dataframe Concatenated!\nSchedules Dataframe Concatenated!\nSchedules Dataframe Concatenated!\nSchedules Dataframe Concatenated!\nSchedules Dataframe Concatenated!\nSchedules Dataframe Concatenated!\nSchedules Dataframe Concatenated!\nSchedules Dataframe Concatenated!\nSchedules Dataframe Concatenated!\nSchedules Dataframe Concatenated!\nSchedules Dataframe Concatenated!\nSchedules Dataframe Concatenated!\nSchedules Dataframe Concatenated!\nSchedules Dataframe Concatenated!\nSchedules Dataframe Concatenated!\nSchedules Dataframe Concatenated!\nSchedules Dataframe Concatenated!\nSchedules Dataframe Concatenated!\nSchedules Dataframe Concatenated!\nSchedules Dataframe Concatenated!\nSchedules Dataframe Concatenated!\nSchedules Dataframe Concatenated!\nSchedules Dataframe Concatenated!\nSchedules Dataframe Concatenated!\nSchedules Dataframe Concatenated!\nSchedules Dataframe Concatenated!\nSchedules Dataframe Concatenated!\nSchedules Dataframe Concatenated!\nSchedules Dataframe Concatenated!\nSchedules Dataframe Concatenated!\nSchedules Dataframe Concatenated!\nSchedules Dataframe Concatenated!\nSchedules Dataframe Concatenated!\nSchedules Dataframe Concatenated!\nSchedules Dataframe Concatenated!\nSchedules Dataframe Concatenated!\nSchedules Dataframe Concatenated!\nSchedules Dataframe Concatenated!\nSchedules Dataframe Concatenated!\nSchedules Dataframe Concatenated!\nSchedules Dataframe Concatenated!\nSchedules Dataframe Concatenated!\nSchedules Dataframe Concatenated!\nSchedules Dataframe Concatenated!\nSchedules Dataframe Concatenated!\nSchedules Dataframe Concatenated!\nSchedules Dataframe Concatenated!\nSchedules Dataframe Concatenated!\nSchedules Dataframe Concatenated!\nSchedules Dataframe Concatenated!\nSchedules Dataframe Concatenated!\nSchedules Dataframe Concatenated!\nSchedules Dataframe Concatenated!\nSchedules Dataframe Concatenated!\nSchedules Dataframe Concatenated!\nSchedules Dataframe Concatenated!\nSchedules Dataframe Concatenated!\nSchedules Dataframe Concatenated!\nSchedules Dataframe Concatenated!\nSchedules Dataframe Concatenated!\nCleaning Schedules Dataframe...\nThe elapsed time for this search is: 4419.804692983627 seconds.\nThe current epoch time that this search has finished is: 1590720823.877174\n"
    }
   ],
   "source": [
    "destination_list = ['KLAX', 'KJFK', 'KMIA', 'KORD', 'KPDX', 'KIAH', 'KATL']\n",
    "flights_df, flights_scheds, flight_combs = get_flights('5/1/2020','5/27/2020','8H', destination_list)"
   ]
  },
  {
   "cell_type": "code",
   "execution_count": 7,
   "metadata": {},
   "outputs": [],
   "source": [
    "test = api.service.AllAirports()"
   ]
  },
  {
   "cell_type": "code",
   "execution_count": 8,
   "metadata": {},
   "outputs": [
    {
     "data": {
      "text/plain": "TE4\",\n      \"LKPS\",\n      \"NJ38\",\n      \"YBUR\",\n      \"2VA3\",\n      \"WV12\",\n      \"USRK\",\n      \"LPAZ\",\n      \"04AA\",\n      \"YMMO\",\n      \"3GA3\",\n      \"XS06\",\n      \"1Y5\",\n      \"DE32\",\n      \"NA90\",\n      \"NH93\",\n      \"BGIS\",\n      \"WT00\",\n      \"YCNY\",\n      \"VILH\",\n      \"ORBI\",\n      \"5LL5\",\n      \"SN12\",\n      \"PA63\",\n      \"SILC\",\n      \"USHQ\",\n      \"FA95\",\n      \"YHBD\",\n      \"SVCU\",\n      \"MI62\",\n      \"MYBS\",\n      \"WI53\",\n      \"0AZ4\",\n      \"YKDI\",\n      \"LTBZ\",\n      \"OK02\",\n      \"4NC7\",\n      \"6S6\",\n      \"SNWC\",\n      \"8CO1\",\n      \"4NJ0\",\n      \"K57\",\n      \"DTR\",\n      \"CO58\",\n      \"PS74\",\n      \"6AK5\",\n      \"MA12\",\n      \"75MO\",\n      \"YDNO\",\n      \"FNCF\",\n      \"OEMA\",\n      \"FCPA\",\n      \"KMEJ\",\n      \"44OR\",\n      \"VA54\",\n      \"VOVZ\",\n      \"AL83\",\n      \"74MU\",\n      \"48CA\",\n      \"2OR6\",\n      \"NVVA\",\n      \"86MN\",\n      \"KAOH\",\n      \"HAMN\",\n      \"UT15\",\n      \"0IA0\",\n      \"50D\",\n      \"KGWB\",\n      \"OR77\",\n      \"YYRD\",\n      \"3D2\",\n      \"2GE6\",\n      \"2OH6\",\n      \"ESMJ\",\n      \"ENSS\",\n      \"NC01\",\n      \"YLGA\",\n      \"SKPC\",\n      \"KUXL\",\n      \"94CA\",\n      \"YWUL\",\n      \"4AL0\",\n      \"EDTD\",\n      \"SYKT\",\n      \"TE89\",\n      \"EENA\",\n      \"X05\",\n      \"UMII\",\n      \"12N\",\n      \"7GA6\",\n      \"33TN\",\n      \"HLLS\",\n      \"LBRS\",\n      \"YGHG\",\n      \"64MO\",\n      \"9K0\",\n      \"KCXY\",\n      \"KBGE\",\n      \"MD46\",\n      \"LFBF\",\n      \"2OA4\",\n      \"OMRK\",\n      \"1LA2\",\n      \"11KY\",\n      \"8OH0\",\n      \"AA51\",\n      \"43MN\",\n      \"EDGX\",\n      \"24CT\",\n      \"25SC\",\n      \"CD15\",\n      \"OEKJ\",\n      \"33J\",\n      \"NVSP\",\n      \"YDIX\",\n      \"YMNX\",\n      \"E45\",\n      \"5OH0\",\n      \"NZKF\",\n      \"WN76\",\n      \"OR11\",\n      \"LC0\",\n      \"TE39\",\n      \"MI23\",\n      \"YXTN\",\n      \"08PA\",\n      \"7NK4\",\n      \"KBFA\",\n      \"XA81\",\n      \"84CA\",\n      \"MUBY\",\n      \"NY10\",\n      \"KFCM\",\n      \"EDQA\",\n      \"EKSR\",\n      \"KEDC\",\n      \"TA97\",\n      \"CD23\",\n      \"4CO7\",\n      \"ETNS\",\n      \"YKRY\",\n      \"KARB\",\n      \"03TA\",\n      \"OR49\",\n      \"AR55\",\n      \"KSNY\",\n      \"2PS4\",\n      \"SESM\",\n      \"YXLE\",\n      \"YXBA\",\n      \"TA74\",\n      \"YNRM\",\n      \"3VS\",\n      \"CYUW\",\n      \"22M\",\n      \"KTVL\",\n      \"CJY3\",\n      \"DFCL\",\n      \"1NJ5\",\n      \"VG42\",\n      \"LKMT\",\n      \"6MI8\",\n      \"UUEM\",\n      \"2VG9\",\n      \"LA31\",\n      \"YCBR\",\n      \"3GE1\",\n      \"CIL\",\n      \"NC91\",\n      \"4WN8\",\n      \"KLEX\",\n      \"75WA\",\n      \"HI50\",\n      \"SDDN\",\n      \"EDLW\",\n      \"45MT\",\n      \"CZFN\",\n      \"49OH\",\n      \"62OI\",\n      \"42VG\",\n      \"KTCC\",\n      \"LFNV\",\n      \"4D8\",\n      \"5CT1\",\n      \"57LS\",\n      \"SMWA\",\n      \"SC92\",\n      \"56PA\",\n      \"59MN\",\n      \"YNAB\",\n      \"DNIB\",\n      \"OTK\",\n      \"5MO0\",\n      \"NH30\",\n      \"CYOC\",\n      \"YADD\",\n      \"8IN1\",\n      \"OH79\",\n      \"OH15\",\n      \"OH82\",\n      \"RPMW\",\n      \"MNBL\",\n      \"15FL\",\n      \"WI60\",\n      \"EDCV\",\n      \"WA97\",\n      \"9OA2\",\n      \"YXPH\",\n      \"YNIG\",\n      \"NRC\",\n      \"ZYAS\",\n      \"O46\",\n      \"YBIE\",\n      \"75VA\",\n      \"12IN\",\n      \"AR92\",\n      \"LL87\",\n      \"9AK8\",\n      \"6S3\",\n      \"MYAG\",\n      \"YBYD\",\n      \"CJW4\",\n      \"27WV\",\n      \"63TX\",\n      \"36FL\",\n      \"EFHF\",\n      \"LFIK\",\n      \"ZBCD\",\n      \"WIHH\",\n      \"YMBL\",\n      \"2TX4\",\n      \"LPFR\",\n      \"EGFP\",\n      \"FBXG\",\n      \"4S2\",\n      \"1K1\",\n      \"13PA\",\n      \"ELLX\",\n      \"LIRE\",\n      \"CZWL\",\n      \"CD46\",\n      \"FD89\",\n      \"58IL\",\n      \"YTOO\",\n      \"LFMV\",\n      \"YXMG\",\n      \"40TN\",\n      \"2OK\",\n      \"ESKS\",\n      \"KCYS\",\n      \"YNKH\",\n      \"GMAG\",\n      \"TA59\",\n      \"17OR\",\n      \"YKYB\",\n      \"58WT\",\n      \"YJNT\",\n      \"SYKR\",\n      \"44LS\",\n      \"3MD4\",\n      \"KSAC\",\n      \"8TS6\",\n      \"KIAB\",\n      \"YNRG\",\n      \"10ND\",\n      \"SAVT\",\n      \"YCHB\",\n      \"AZ22\",\n      \"37MO\",\n      \"1OH6\",\n      \"0WI2\",\n      \"20ME\",\n      \"MA68\",\n      \"FAPP\",\n      \"VT42\",\n      \"YLUM\",\n      \"YXWG\",\n      \"LA21\",\n      \"YFLD\",\n      \"08FL\",\n      \"11CN\",\n      \"08AL\",\n      \"SKMU\",\n      \"DNEN\",\n      \"ENUN\",\n      \"GFKE\",\n      \"PA30\",\n      \"85XS\",\n      \"EGXC\",\n      \"NC17\",\n      \"YLHL\",\n      \"SBLP\",\n      \"0MT3\",\n      \"CT74\",\n      \"24AR\",\n      \"NZDN\",\n      \"24M\",\n      \"FZVM\",\n      \"YHBY\",\n      \"YXKP\",\n      \"2FD0\",\n      \"CD74\",\n      \"PN26\",\n      \"CED5\",\n      \"ESUH\",\n      \"YCWL\",\n      \"SN67\",\n      \"39CN\",\n      \"12MA\",\n      \"YERA\",\n      \"05OK\",\n      \"SKBG\",\n      \"LTFK\",\n      \"YCDB\",\n      \"65G\",\n      \"70AR\",\n      \"YAUL\",\n      \"NY01\",\n      \"SEAM\",\n      \"4I9\",\n      \"KEZF\",\n      \"HKVO\",\n      \"YABC\",\n      \"KBZN\",\n      \"M05\",\n      \"CAG8\",\n      \"A32\",\n      \"81KY\",\n      \"HTKI\",\n      \"34ND\",\n      \"1MU2\",\n      \"PN42\",\n      \"KAIO\",\n      \"1NC0\",\n      \"LFLU\",\n      \"NC30\",\n      \"90MO\",\n      \"OR17\",\n      \"KMHE\",\n      \"86CL\",\n      \"YOEH\",\n      \"YRCD\",\n      \"KCPU\",\n      \"PN53\",\n      \"KMKO\",\n      \"5TX7\",\n      \"NZFJ\",\n      \"HTMS\",\n      \"3VA2\",\n      \"YLIN\",\n      \"KHHF\",\n      \"3TE6\",\n      \"K62\",\n      \"8N1\",\n      \"WA77\",\n      \"OI55\",\n      \"LKCR\",\n      \"LA57\",\n      \"ESMK\",\n      \"27OH\",\n      \"VNSK\",\n      \"81OR\",\n      \"KVKX\",\n      \"SLSB\",\n      \"LBSL\",\n      \"LS27\",\n      \"6CN5\",\n      \"UKFW\",\n      \"79NY\",\n      \"KDRT\",\n      \"TA99\",\n      \"XA47\",\n      \"BGST\",\n      \"41WA\",\n      \"LL26\",\n      \"68R\",\n      \"VT62\",\n      \"1MI8\",\n      \"LFCG\",\n      \"81IL\",\n      \"27LL\",\n      \"CYTF\",\n      \"52KY\",\n      \"EDAS\",\n      \"0ID9\",\n      \"TS67\",\n      \"02G\",\n      \"YTAH\",\n      \"KICT\",\n      \"UKLF\",\n      \"OI51\",\n      \"EDWQ\",\n      \"2A1\",\n      \"0IA9\",\n      \"TS08\",\n      \"MD35\",\n      \"YMRI\",\n      \"KMKV\",\n      \"34MN\",\n      \"70LL\",\n      \"SBCZ\",\n      \"ANYN\",\n      \"MU89\",\n      \"CLG\",\n      \"OPMF\",\n      \"BGSV\",\n      \"CGA\",\n      \"8MO0\",\n      \"TA79\",\n      \"KGMU\",\n      \"LFNE\",\n      \"UT42\",\n      \"NZVR\",\n      \"34AR\",\n      \"TN15\",\n      \"KDAG\",\n      \"LLFK\",\n      \"RPBY\",\n      \"MD82\",\n      \"EHSB\",\n      \"LFPG\",\n      \"XS67\",\n      \"FBGZ\",\n      \"SBDN\",\n      \"TS31\",\n      \"61IS\",\n      \"98FL\",\n      \"NJ82\",\n      \"EGST\",\n      \"DRRM\",\n      \"YMED\",\n      \"YRMH\",\n      \"OH17\",\n      \"EDLI\",\n      \"67CO\",\n      \"LS28\",\n      \"YKJN\",\n      \"92TE\",\n      \"71CL\",\n      \"YCTC\",\n      \"MUNG\",\n      \"KVIH\",\n      \"HCC\",\n      \"14KS\",\n      \"93C\",\n      \"0AA1\",\n      \"YKOK\",\n      \"FTTN\",\n      \"VG01\",\n      \"53OH\",\n      \"N40\",\n      \"MA42\",\n      \"YGNI\",\n      \"PARS\",\n      \"ND99\",\n      \"SYKS\",\n      \"ESSC\",\n      \"3KY4\",\n      \"P17\",\n      \"D79\",\n      \"YRAK\",\n      \"MUNC\",\n      \"8LA5\",\n      \"ME68\",\n      \"DGAA\",\n      \"7GA2\",\n      \"YCYC\",\n      \"FOGE\",\n      \"EINN\",\n      \"EBSL\",\n      \"OATQ\",\n      \"30OR\",\n      \"CMN5\",\n      \"YRSW\",\n      \"KPTD\",\n      \"25AL\",\n      \"MU25\",\n      \"GA81\",\n      \"MT67\",\n      \"YHLS\",\n      \"OISL\",\n      \"LA35\",\n      \"HKUK\",\n      \"SBBH\",\n      \"KRKW\",\n      \"WBGP\",\n      \"TN17\",\n      \"OL09\",\n      \"NH51\",\n      \"N24\",\n      \"MY26\",\n      \"SETI\",\n      \"61IN\",\n      \"OK01\",\n      \"04TS\",\n      \"PS07\",\n      \"00AA\",\n      \"ORBR\",\n      \"12NH\",\n      \"NZDH\",\n      \"5AR7\",\n      \"RJCM\",\n      \"CN30\",\n      \"FXMA\",\n      \"NH04\",\n      \"0WI8\",\n      \"LSPL\",\n      \"3MN6\",\n      \"FZAB\",\n      \"YKIB\",\n      \"HI18\",\n      \"NY11\",\n      \"MVW\",\n      \"VG46\",\n      \"EDBV\",\n      \"NR07\",\n      \"KIPL\",\n      \"2XS0\",\n      \"82TA\",\n      \"NE71\",\n      \"CA47\",\n      \"2MO1\",\n      \"EEEI\",\n      \"YXBI\",\n      \"FA29\",\n      \"VG13\",\n      \"KGHM\",\n      \"FEFS\",\n      \"93AZ\",\n      \"23WA\",\n      \"51MO\",\n      \"RJTY\",\n      \"88R\",\n      \"WAEL\",\n      \"NZOM\",\n      \"D95\",\n      \"KPIE\",\n      \"NY92\",\n      \"7KS6\",\n      \"5F4\",\n      \"MPPI\",\n      \"PAWB\",\n      \"39AK\",\n      \"LFFZ\",\n      \"MDCY\",\n      \"0PA1\",\n      \"OK86\",\n      \"UTDD\",\n      \"8OA5\",\n      \"71KS\",\n      \"FACD\",\n      \"MA36\",\n      \"8OR2\",\n      \"KBE\",\n      \"ETND\",\n      \"4FL3\",\n      \"WV42\",\n      \"EDCY\",\n      \"19NJ\",\n      \"YPDI\",\n      \"YTMY\",\n      \"TA56\",\n      \"ZSNB\",\n      \"24OI\",\n      \"61TE\",\n      \"ZSYN\",\n      \"GOOK\",\n      \"YWEO\",\n      \"I27\",\n      \"30LS\",\n      \"B21\",\n      \"50SC\",\n      \"KBNG\",\n      \"ZSLY\",\n      \"11WN\",\n      \"72NC\",\n      \"6AL8\",\n      \"YXAV\",\n      \"KPMV\",\n      \"LKJC\",\n      \"KUOX\",\n      \"NJ09\",\n      \"HKTB\",\n      \"KTVC\",\n      \"KPKB\",\n      \"CAH4\",\n      \"CN93\",\n      \"CO03\",\n      \"3MO4\",\n      \"CT88\",\n      \"KAEG\",\n      \"C75\",\n      \"NK11\",\n      \"KPZQ\",\n      \"PS52\",\n      \"F89\",\n      \"VA27\",\n      \"CD09\",\n      \"EYKL\",\n      \"KHND\",\n      \"35OH\",\n      \"CN15\",\n      \"ULWW\",\n      \"GSAI\",\n      \"17MD\",\n      \"95LL\",\n      \"YDHP\",\n      \"KMOX\",\n      \"1AZ1\",\n      \"41TA\",\n      \"09TS\",\n      \"CUS\",\n      \"48OH\",\n      \"YPPH\",\n      \"28MA\",\n      \"PALG\",\n      \"HUJ\",\n      \"4MI8\",\n      \"KCRP\",\n      \"LOWZ\",\n      \"ZWNL\",\n      \"52J\",\n      \"YFIG\",\n      \"YXWS\",\n      \"SN62\",\n      \"45PN\",\n      \"L70\",\n      \"ENOC\",\n      \"OG39\",\n      \"FL08\",\n      \"UT26\",\n      \"0IS3\",\n      \"LFSB\",\n      \"47XS\",\n      \"FA52\",\n      \"NVSH\",\n      \"96MI\",\n      \"KPWG\",\n      \"3K3\",\n      \"2Y3\",\n      \"YSLT\",\n      \"YDGN\",\n      \"YTRP\",\n      \"LFDI\",\n      \"55MN\",\n      \"VEJP\",\n      \"YXUH\",\n      \"8TE5\",\n      \"MPEJ\",\n      \"SXP\",\n      \"4MD0\",\n      \"YLIV\",\n      \"KGVE\",\n      \"0MI9\",\n      \"L09\",\n      \"62C\",\n      \"KBVI\",\n      \"34NJ\",\n      \"50TX\",\n      \"92OR\",\n      \"31AR\",\n      \"AK09\",\n      \"PSV\",\n      \"85FL\",\n      \"08NJ\",\n      \"X52\",\n      \"E37\",\n      \"LBGO\",\n      \"YDPR\",\n      \"0OR7\",\n      \"YTBH\",\n      \"KIKK\",\n      \"LFQF\",\n      \"YPOT\",\n      \"KBDU\",\n      \"YRYW\",\n      \"3IA8\",\n      \"AR05\",\n      \"OH92\",\n      \"YTHY\",\n      \"MO47\",\n      \"44FD\",\n      \"MO08\",\n      \"06AZ\",\n      \"NJJ\",\n      \"08OR\",\n      \"CYBT\",\n      \"SKCD\",\n      \"9WA5\",\n      \"KGZH\",\n      \"5TA0\",\n      \"MT38\",\n      \"EDTL\",\n      \"E63\",\n      \"54IN\",\n      \"59TA\",\n      \"1AL4\",\n      \"17OG\",\n      \"FWCM\",\n      \"92IL\",\n      \"17MN\",\n      \"O06\",\n      \"KSUE\",\n      \"PN64\",\n      \"EGQM\",\n      \"87CL\",\n      \"43I\",\n      \"YYAB\",\n      \"D55\",\n      \"CA97\",\n      \"89D\",\n      \"WBTM\",\n      \"KHYR\",\n      \"44WI\",\n      \"FKKI\",\n      \"81LL\",\n      \"NJ29\",\n      \"6W4\",\n      \"05U\",\n      \"YABP\",\n      \"8TA0\",\n      \"RPWY\",\n      \"2UT5\",\n      \"74II\",\n      \"6S8\",\n      \"KIWH\",\n      \"21AZ\",\n      \"YGDT\",\n      \"YRHO\",\n      \"88TX\",\n      \"L61\",\n      \"CYWJ\",\n      \"YXUB\",\n      \"CYSU\",\n      \"SBLE\",\n      \"3KY5\",\n      \"CT21\",\n      \"SC12\",\n      \"KZPH\",\n      \"36VA\",\n      \"25WN\",\n      \"EPLU\",\n      \"M06\",\n      \"NZKE\",\n      \"NV91\",\n      \"5FL6\",\n      \"TX03\",\n      \"FA96\",\n      \"HDOB\",\n      \"CCK4\",\n      \"5OH7\",\n      \"USTO\",\n      \"NZLX\",\n      \"VYHL\",\n      \"8A7\",\n      \"YDLD\",\n      \"15W\",\n      \"N92\",\n      \"TA37\",\n      \"CSF5\",\n      \"PN77\",\n      \"AK10\",\n      \"KBHB\",\n      \"K49\",\n      \"YMAL\",\n      \"FEFA\",\n      \"YKMP\",\n      \"SKBS\",\n      \"CTK6\",\n      \"OK92\",\n      \"VEKU\",\n      \"LFGQ\",\n      \"AR33\",\n      \"MO62\",\n      \"YABD\",\n      \"LFTP\",\n      \"CN16\",\n      \"85PA\",\n      \"T95\",\n      \"YKYT\",\n      \"VEMH\",\n      \"OG42\",\n      \"2I0\",\n      \"68CN\",\n      \"SVLO\",\n      \"PA58\",\n      \"LIRM\",\n      \"KHKY\",\n      \"MU58\",\n      \"WS70\",\n      \"ID00\",\n      \"HASO\",\n      \"KAZE\",\n      \"3S7\",\n      \"KBJI\",\n      \"WY06\",\n      \"3KS2\",\n      \"TA39\",\n      \"25AR\",\n      \"CYYM\",\n      \"4TN4\",\n      \"VTCC\",\n      \"9M6\",\n      \"86TA\",\n      \"YBOB\",\n      \"KEWB\",\n      \"11TE\",\n      \"YMBZ\",\n      \"28KY\",\n      \"CCN2\",\n      \"MU03\",\n      \"2R1\",\n      \"5IA8\",\n      \"MUVT\",\n      \"9IL1\",\n      \"7AL6\",\n      \"50S\",\n      \"PN34\",\n      \"ORQW\",\n      \"ME46\",\n      \"WV30\",\n      \"YHTS\",\n      \"WI92\",\n      \"ME08\",\n      \"WY18\",\n      \"77MN\",\n      \"YWLO\",\n      \"ME52\",\n      \"LFHR\",\n      \"TS04\",\n      \"CD50\",\n      \"MT42\",\n      \"BBX\",\n      \"S12\",\n      \"49FL\",\n      \"SD72\",\n      \"LFMF\",\n      \"KAMA\",\n      \"KPKF\",\n      \"29A\",\n      \"WBGN\",\n      \"9KY3\",\n      \"KCLS\",\n      \"ZUXC\",\n      \"KSLH\",\n      \"OAKB\",\n      \"UT52\",\n      \"6OH2\",\n      \"94PN\",\n      \"MRK\",\n      \"22LS\",\n      \"LFGY\",\n      \"KAXQ\",\n      \"43NY\",\n      \"SN76\",\n      \"2PN9\",\n      \"8AL9\",\n      \"II95\",\n      \"YKID\",\n      \"VODK\",\n      \"OIYY\",\n      \"RJNW\",\n      \"CD04\",\n      \"ID68\",\n      \"OG53\",\n      \"OIID\",\n      \"OTN\",\n      \"SBYS\",\n      \"3TX8\",\n      \"2N2\",\n      \"S10\",\n      \"CYEN\",\n      \"AL75\",\n      \"AR44\",\n      \"YODA\",\n      \"8OH5\",\n      \"CYFS\",\n      \"ZWHZ\",\n      \"5QC\",\n      \"2SD7\",\n      \"91NC\",\n      \"MS01\",\n      \"0U7\",\n      \"LFXA\",\n      \"F35\",\n      \"VA99\",\n      \"MS96\",\n      \"6GE4\",\n      \"D25\",\n      \"ME83\",\n      \"KDEN\",\n      \"NZKT\",\n      \"YBCB\",\n      \"SBFE\",\n      \"UT03\",\n      \"4F9\",\n      \"CAU4\",\n      \"47KS\",\n      \"W66\",\n      \"LFDY\",\n      \"MT88\",\n      \"3VA7\",\n      \"OINZ\",\n      \"FALO\",\n      \"78OH\",\n      \"KVTN\",\n      \"SNYA\",\n      \"2SC7\",\n      \"KMAL\",\n      \"VEHK\",\n      \"NK54\",\n      \"NM47\",\n      \"0OK8\",\n      \"KEDJ\",\n      \"18IL\",\n      \"8TN2\",\n      \"9V5\",\n      \"LFFQ\",\n      \"36TS\",\n      \"USPP\",\n      \"SVUM\",\n      \"OH02\",\n      \"9FD8\",\n      \"CW0\",\n      \"YSWH\",\n      \"YWLD\",\n      \"YNES\",\n      \"NM24\",\n      \"3CO1\",\n      \"WI27\",\n      \"NV00\",\n      \"MU29\",\n      \"5MS5\",\n      \"80WA\",\n      \"NE89\",\n      \"KVGT\",\n      \"2C6\",\n      \"5NJ5\",\n      \"2PN7\",\n      \"WI59\",\n      \"VLAP\",\n      \"2MO0\",\n      \"85CO\",\n      \"LFTR\",\n      \"03B\",\n      \"80OH\",\n      \"EPLB\",\n      \"6KS4\",\n      \"KFMM\",\n      \"8WI3\",\n      \"YBLD\",\n      \"0GA8\",\n      \"KBRG\",\n      \"TN38\",\n      \"93MN\",\n      \"34CD\",\n      \"YRNH\",\n      \"MU62\",\n      \"VOPC\",\n      \"7CO4\",\n      \"Y14\",\n      \"YUMB\",\n      \"ZHAY\",\n      \"YXGD\",\n      \"PN46\",\n      \"6TE5\",\n      \"YKEP\",\n      \"YBAY\",\n      \"VA52\",\n      \"TE54\",\n      \"FQQL\",\n      \"EPDA\",\n      \"56MN\",\n      \"KRWL\",\n      \"3S2\",\n      \"TE60\",\n      \"PFKK\",\n      \"KCBE\",\n      \"X54\",\n      \"VT53\",\n      \"KCBM\",\n      \"GUFA\",\n      \"F70\",\n      \"YQUE\",\n      \"SWTS\",\n      \"FXSM\",\n      \"CYAB\",\n      \"LLER\",\n      \"NH91\",\n      \"8GA4\",\n      \"01GA\",\n      \"FZCE\",\n      \"41NJ\",\n      \"FATP\",\n      \"WATC\",\n      \"WA65\",\n      \"MGSJ\",\n      \"YKNT\",\n      \"6LL9\",\n      \"YHHY\",\n      \"T80\",\n      \"YISV\",\n      \"HAGR\",\n      \"LSMF\",\n      \"K88\",\n      \"56LA\",\n      \"KJMS\",\n      \"CYOH\",\n      \"YWEB\",\n      \"MNBC\",\n      \"KNUI\",\n      \"MD06\",\n      \"89AK\",\n      \"SAST\",\n      \"9PN5\",\n      \"NWWC\",\n      \"0ME7\",\n      \"YXMH\",\n      \"NY42\",\n      \"KDQH\",\n      \"2NE0\",\n      \"92GA\",\n      \"KJSV\",\n      \"YSCP\",\n      \"AL67\",\n      \"NZRT\",\n      \"45XS\",\n      \"3TE8\",\n      \"NE02\",\n      \"LFBG\",\n      \"NTTO\",\n      \"UIBB\",\n      \"YXRM\",\n      \"LASK\",\n      \"SUAG\",\n      \"1WA8\",\n      \"4FL4\",\n      \"53TE\",\n      \"I58\",\n      \"9IL6\",\n      \"95FD\",\n      \"EDAC\",\n      \"8U9\",\n      \"9FD0\",\n      \"CT69\",\n      \"YTHB\",\n      \"WN88\",\n      \"MY99\",\n      \"CL99\",\n      \"FD20\",\n      \"YKPR\",\n      \"4AK2\",\n      \"YMHN\",\n      \"66IL\",\n      \"3KS6\",\n      \"BGFD\",\n      \"KMMS\",\n      \"MT47\",\n      \"OG32\",\n      \"45AZ\",\n      \"5CL3\",\n      \"5AZ4\",\n      \"56FD\",\n      \"5WA7\",\n      \"CYYF\",\n      \"GA85\",\n      \"OIII\",\n      \"EGEC\",\n      \"RJEO\",\n      \"9LA0\",\n      \"ND44\",\n      \"2FD9\",\n      \"MD45\",\n      \"40FL\",\n      \"OH89\",\n      \"URMM\",\n      \"24KY\",\n      \"38XS\",\n      \"YDSP\",\n      \"NTTR\",\n      \"3NY2\",\n      \"VA73\",\n      \"11KS\",\n      \"5S1\",\n      \"GQNM\",\n      \"NH53\",\n      \"YCLC\",\n      \"53T\",\n      \"ENVR\",\n      \"PHJR\",\n      \"73TX\",\n      \"VYKT\",\n      \"MT65\",\n      \"NV34\",\n      \"FD94\",\n      \"2IS\",\n      \"GOL\",\n      \"ID72\",\n      \"YCPX\",\n      \"MU36\",\n      \"12NY\",\n      \"KFHR\",\n      \"SBGO\",\n      \"NH87\",\n      \"ZSYA\",\n      \"WAFL\",\n      \"YPKG\",\n      \"14SN\",\n      \"NC56\",\n      \"AK53\",\n      \"6H4\",\n      \"LS09\",\n      \"KCMY\",\n      \"KCFT\",\n      \"YXQC\",\n      \"FZQM\",\n      \"46FA\",\n      \"0CL4\",\n      \"ESGI\",\n      \"CYGV\",\n      \"NFNL\",\n      \"RCMT\",\n      \"0LL5\",\n      \"PAFA\",\n      \"SBMK\",\n      \"53IN\",\n      \"AL87\",\n      \"4VA5\",\n      \"KSKF\",\n      \"16NJ\",\n      \"22IL\",\n      \"TUPA\",\n      \"DUF\",\n      \"UEMT\",\n      \"SNVB\",\n      \"CYSZ\",\n      \"1U9\",\n      \"XS89\",\n      \"OPSW\",\n      \"KJVY\",\n      \"MD65\",\n      \"3MA4\",\n      \"SKLP\",\n      \"13LL\",\n      \"6FD0\",\n      \"SDLP\",\n      \"M29\",\n      \"9IS2\",\n      \"NM58\",\n      \"FANG\",\n      \"LL38\",\n      \"HLZN\",\n      \"YXDT\",\n      \"05NH\",\n      \"SABE\",\n      \"YSUT\",\n      \"SVCB\",\n      \"3T3\",\n      \"VLVT\",\n      \"PR04\",\n      \"MY79\",\n      \"VT80\",\n      \"TE38\",\n      \"O45\",\n      \"1NC8\",\n      \"GE92\",\n      \"62AR\",\n      \"6KY5\",\n      \"19T\",\n      \"2FA9\",\n      \"LFKA\",\n      \"3EX\",\n      \"KMWA\",\n      \"MA17\",\n      \"0IN9\",\n      \"YPNA\",\n      \"VOHY\",\n      \"WN85\",\n      \"VIDP\",\n      \"25MY\",\n      \"2MO8\",\n      \"FMSD\",\n      \"1WI2\",\n      \"8AN6\",\n      \"DFCC\",\n      \"3CO0\",\n      \"SCAT\",\n      \"YDNI\",\n      \"2XA2\",\n      \"UMMS\",\n      \"KBYG\",\n      \"TS91\",\n      \"YMUG\",\n      \"1CO2\",\n      \"KORH\",\n      \"59WA\",\n      \"YELN\",\n      \"7MO7\",\n      \"RCSQ\",\n      \"SKPV\",\n      \"NJ62\",\n      \"GOOY\",\n      \"8MI6\",\n      \"CTU2\",\n      \"ESFS\",\n      \"OI35\",\n      \"YXLT\",\n      \"YURB\",\n      \"D80\",\n      \"KSDL\",\n      \"SETH\",\n      \"VG33\",\n      \"EYPN\",\n      \"71J\",\n      \"09OK\",\n      \"YCIN\",\n      \"ND28\",\n      \"PN14\",\n      \"FD42\",\n      \"49LA\",\n      \"9LA6\",\n      \"YBUL\",\n      \"OI23\",\n      \"7ND5\",\n      \"FDSK\",\n      \"92PA\",\n      \"CYDQ\",\n      \"KMCO\",\n      \"AZ78\",\n      \"OPPI\",\n      \"42C\",\n      \"09OR\",\n      \"YTOK\",\n      \"6MO0\",\n      \"26FL\",\n      \"0OK3\",\n      \"37MI\",\n      \"KWHP\",\n      \"ENDR\",\n      \"SBFI\",\n      \"42VT\",\n      \"PA09\",\n      \"ME5\",\n      \"KAIG\",\n      \"LOAV\",\n      \"CL52\",\n      \"EGXE\",\n      \"61AR\",\n      \"MMES\",\n      \"25KS\",\n      \"KLXY\",\n      \"YHAE\",\n      \"KCXL\",\n      \"MD20\",\n      \"LA69\",\n      \"6GA7\",\n      \"CKL3\",\n      \"YMYY\",\n      \"FL80\",\n      \"N26\",\n      \"OH72\",\n      \"YEGF\",\n      \"DIAU\",\n      \"GUNZ\",\n      \"1WN2\",\n      \"0II1\",\n      \"22MD\",\n      \"YCAC\",\n      \"CL46\",\n      \"ME62\",\n      \"YFLV\",\n      \"KTMA\",\n      \"2XA8\",\n      \"EHLW\",\n      \"YMPX\",\n      \"YPNI\",\n      \"FA42\",\n      \"W88\",\n      \"YPPR\",\n      \"KLAS\",\n      \"89OK\",\n      \"91IS\",\n      \"EGPO\",\n      \"7CA3\",\n      \"MS63\",\n      \"NC26\",\n      \"FL19\",\n      \"LA52\",\n      \"YEVM\",\n      \"KANY\",\n      \"YAOV\",\n      \"LFTB\",\n      \"WAEM\",\n      \"LFTM\",\n      \"1KS\",\n      \"9U1\",\n      \"LHDC\",\n      \"PALJ\",\n      \"UBBB\",\n      \"UT98\",\n      \"CD72\",\n      \"SLSM\",\n      \"4NY7\",\n      \"YCSB\",\n      \"51A\",\n      \"FL68\",\n      \"KMRH\",\n      \"PA21\",\n      \"53CA\",\n      \"YMSS\",\n      \"ZSQZ\",\n      \"H07\",\n      \"MS36\",\n      \"44CL\",\n      \"54T\",\n      \"CA72\",\n      \"CO12\",\n      \"FEFP\",\n      \"C44\",\n      \"3WN2\",\n      \"EFET\",\n      \"S82\",\n      \"DNBK\",\n      \"MT91\",\n      \"52LA\",\n      \"3CN5\",\n      \"1XA6\",\n      \"ESGN\",\n      \"4TS9\",\n      \"1N5\",\n      \"RI23\",\n      \"LZTN\",\n      \"16WA\",\n      \"NY34\",\n      \"CD14\",\n      \"EDMV\",\n      \"YLBA\",\n      \"YXCP\",\n      \"FLSW\",\n      \"NM84\",\n      \"IL05\",\n      \"YIER\",\n      \"EGLJ\",\n      \"KSPB\",\n      \"LFIP\",\n      \"YTVR\",\n      \"KGNG\",\n      \"5IN2\",\n      \"EDGF\",\n      \"CMX2\",\n      \"YHEW\",\n      \"4PA0\",\n      \"61MU\",\n      \"10OH\",\n      \"05KY\",\n      \"OR71\",\n      \"CYHR\",\n      \"5CA3\",\n      \"0CA5\",\n      \"OG14\",\n      \"OIAJ\",\n      \"OSAP\",\n      \"YWDV\",\n      \"2FL9\",\n      \"CYBQ\",\n      \"5FD8\",\n      \"2NC2\",\n      \"CWX\",\n      \"7PN5\",\n      \"1V6\",\n      \"71OH\",\n      \"7MT5\",\n      \"CYOW\",\n      \"7FA1\",\n      \"TX35\",\n      \"51GA\",\n      \"II57\",\n      \"PS06\",\n      \"CTX\",\n      \"GEML\",\n      \"AYGT\",\n      \"PASM\",\n      \"KPPQ\",\n      \"20OH\",\n      \"ZMUG\",\n      \"53AR\",\n      \"FAVB\",\n      \"5XS7\",\n      \"KLYH\",\n      \"3IN9\",\n      \"YLAP\",\n      \"MNLN\",\n      \"02SC\",\n      \"TN34\",\n      \"RPVP\",\n      \"EPNT\",\n      \"TQPF\",\n      \"MA48\",\n      \"YKLP\",\n      \"YHMT\",\n      \"KTEX\",\n      \"35JY\",\n      \"KGRK\",\n      \"CTU5\",\n      \"2MT7\",\n      \"GE27\",\n      \"YCUO\",\n      \"YBOM\",\n      \"0PS2\",\n      \"9TN0\",\n      \"NY90\",\n      \"83IA\",\n      \"VT09\",\n      \"00NY\",\n      \"39OK\",\n      \"66B\",\n      \"2OH5\",\n      \"FAAR\",\n      \"9TS8\",\n      \"LTFG\",\n      \"WA43\",\n      \"ESNP\",\n      \"TS34\",\n      \"MMZC\",\n      \"YPUA\",\n      \"5IN8\",\n      \"EKCH\",\n      \"DAOF\",\n      \"YROV\",\n      \"MD79\",\n      \"EGTU\",\n      \"KLYV\",\n      \"21H\",\n      \"12OK\",\n      \"48PN\",\n      \"06N\",\n      \"KEZZ\",\n      \"94NY\",\n      \"NY69\",\n }"
     },
     "execution_count": 8,
     "metadata": {},
     "output_type": "execute_result"
    }
   ],
   "source": [
    "test"
   ]
  },
  {
   "cell_type": "code",
   "execution_count": 723,
   "metadata": {},
   "outputs": [],
   "source": [
    "flights_df.to_csv('../data/current_flights.csv')"
   ]
  },
  {
   "cell_type": "code",
   "execution_count": 724,
   "metadata": {},
   "outputs": [],
   "source": [
    "flights_scheds.to_csv('../data/flight_schedules.csv')"
   ]
  },
  {
   "cell_type": "code",
   "execution_count": 726,
   "metadata": {},
   "outputs": [],
   "source": [
    "flight_combs.to_csv('../data/flight_combinations.csv')"
   ]
  }
 ]
}