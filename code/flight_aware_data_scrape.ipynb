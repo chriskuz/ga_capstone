{
 "nbformat": 4,
 "nbformat_minor": 2,
 "metadata": {
  "language_info": {
   "name": "python",
   "codemirror_mode": {
    "name": "ipython",
    "version": 3
   },
   "version": "3.7.6-final"
  },
  "orig_nbformat": 2,
  "file_extension": ".py",
  "mimetype": "text/x-python",
  "name": "python",
  "npconvert_exporter": "python",
  "pygments_lexer": "ipython3",
  "version": 3,
  "kernelspec": {
   "name": "python37664bitdsitestconda48790fb83d3f473c989768c98a666b4b",
   "display_name": "Python 3.7.6 64-bit ('DSI_test': conda)"
  }
 },
 "cells": [
  {
   "cell_type": "markdown",
   "metadata": {},
   "source": [
    "# Notes\n",
    "\n",
    "## Flight paths:\n",
    "- **Houston, TX** to **Los Angeles, CA** (IAH - LAX)\n",
    "- **New York City, NY** to **Miami, FL** (JFK - MIA)\n",
    "- **Portland, WA** to **Chicago, IL** (PDX - ORD)\n",
    "\n",
    "## Number of Total Routes\n",
    "- at least 1,000 per route for now (All times in GMC)\n",
    "\n",
    "    -__Times:__\n",
    "\n",
    "        - 0000 hours to 0600 hours\n",
    "\n",
    "        - 0601 hours to 1200 hours\n",
    "\n",
    "        - 1201 hours to 1800 hours\n",
    "\n",
    "        - 1801 hours to 2399 hours\n",
    "\n",
    "    - __Times of the Year:__\n",
    "    \n",
    "        - Try to get every month\n",
    "\n",
    "    - __Times of the Week:__\n",
    "        - Try to get every day. \n",
    "    \n",
    "## Notes about Data considerations\n",
    "\n",
    "- see what are typical flight times for your paths. you may be limited here. \n",
    "\n",
    "- consistently work with other api to see what you can grab\n",
    "\n",
    "- grab future flights too!\n",
    "\n",
    "- do some division on how many flights you can grab from how many time zonestuff\n",
    "\n",
    "\n",
    "## Features to Scrape\n",
    "- want aircraft type\n",
    "- want airline flight info\n",
    "- want airline flight \n",
    "- want aircraft type struct\n",
    "- want flight struct\n",
    "\n",
    "1 query will generate 15 results. Ex; If you request to see all flight from airport Alpha to Airport Bravo and the search results come back with 5000 flights. To find the pricing estimate you would do the following math. 5000/15 = 333 * $0.0079 = $2.63 (Class 2)"
   ]
  },
  {
   "cell_type": "code",
   "execution_count": 1,
   "metadata": {},
   "outputs": [],
   "source": [
    "import sys\n",
    "from suds import null, WebFault\n",
    "from suds.client import Client\n",
    "import logging\n",
    "import json\n",
    "import pandas as pd\n",
    "import datetime"
   ]
  },
  {
   "cell_type": "code",
   "execution_count": 2,
   "metadata": {},
   "outputs": [],
   "source": [
    "with open('/Users/ChristopherKuzemka/Documents/GA/dsi_11/projects/capstone/env.json') as f:\n",
    "    information = json.load(f)"
   ]
  },
  {
   "cell_type": "code",
   "execution_count": 3,
   "metadata": {},
   "outputs": [
    {
     "data": {
      "text/plain": "dict_keys(['FA_API_KEY', 'FA_USERNAME', 'x-rapidapi-host', 'x-rapidapi-key'])"
     },
     "execution_count": 3,
     "metadata": {},
     "output_type": "execute_result"
    }
   ],
   "source": [
    "information.keys()"
   ]
  },
  {
   "cell_type": "code",
   "execution_count": 4,
   "metadata": {},
   "outputs": [],
   "source": [
    "username = information.get('FA_USERNAME')\n",
    "apiKey = information.get('FA_API_KEY')\n",
    "url = 'http://flightxml.flightaware.com/soap/FlightXML2/wsdl'"
   ]
  },
  {
   "cell_type": "code",
   "execution_count": 5,
   "metadata": {},
   "outputs": [],
   "source": [
    "logging.basicConfig(level=logging.INFO)\n",
    "api = Client(url, username=username, password=apiKey)"
   ]
  },
  {
   "cell_type": "code",
   "execution_count": 80,
   "metadata": {},
   "outputs": [
    {
     "data": {
      "text/plain": "[(EnrouteFlightStruct){\n    ident = \"N880WC\"\n    aircrafttype = \"C25B\"\n    actualdeparturetime = 1590245756\n    estimatedarrivaltime = 1590257451\n    filed_departuretime = 1590246000\n    origin = \"KSAT\"\n    destination = \"KSMO\"\n    originName = \"San Antonio Intl\"\n    originCity = \"San Antonio, TX\"\n    destinationName = \"Santa Monica Muni\"\n    destinationCity = \"Santa Monica, CA\"\n  },\n (EnrouteFlightStruct){\n    ident = \"N288G\"\n    aircrafttype = \"C525\"\n    actualdeparturetime = 0\n    estimatedarrivaltime = 1590262320\n    filed_departuretime = 1590259200\n    origin = \"KDVO\"\n    destination = \"KSMO\"\n    originName = \"Gnoss Field\"\n    originCity = \"Novato, CA\"\n    destinationName = \"Santa Monica Muni\"\n    destinationCity = \"Santa Monica, CA\"\n  }]"
     },
     "execution_count": 80,
     "metadata": {},
     "output_type": "execute_result"
    }
   ],
   "source": [
    "# Get the flights enroute - test\n",
    "result = api.service.Enroute('KSMO', 10, '', 0)\n",
    "flights = result['enroute']\n",
    "#result\n",
    "flights"
   ]
  },
  {
   "cell_type": "code",
   "execution_count": 82,
   "metadata": {},
   "outputs": [
    {
     "name": "stdout",
     "output_type": "stream",
     "text": "Aircraft en route to KSMO:\nN880WC (C25B) \tSan Antonio Intl (KSAT)\nN288G (C525) \tGnoss Field (KDVO)\n"
    }
   ],
   "source": [
    "print(\"Aircraft en route to KSMO:\")\n",
    "for flight in flights:\n",
    "    print(\"%s (%s) \\t%s (%s)\" % (flight['ident'], flight['aircrafttype'],\n",
    "                                  flight['originName'], flight['origin']))"
   ]
  },
  {
   "cell_type": "markdown",
   "metadata": {},
   "source": [
    "## Testing playground determining usefulness of API"
   ]
  },
  {
   "cell_type": "code",
   "execution_count": 83,
   "metadata": {},
   "outputs": [
    {
     "data": {
      "text/plain": "(AircraftTypeStruct){\n   manufacturer = \"Boeing\"\n   type = \"747-400\"\n   description = \"quad-jet\"\n }"
     },
     "execution_count": 83,
     "metadata": {},
     "output_type": "execute_result"
    }
   ],
   "source": [
    "#Get Aircraft type  - semi-useful\n",
    "aircraft_type = api.service.AircraftType('B744')\n",
    "aircraft_type"
   ]
  },
  {
   "cell_type": "markdown",
   "metadata": {},
   "source": [
    "# JFK - MIA\n",
    "\n",
    "From [here](https://www.flights.com/flights/new-york-jfk-to-miami-mia/): \"with 3 differnt airlines operating flights between New York and Miami, there are, on average, 2,197 flights per month.. This equates to about 523 flights per week, and 75 flights per day from JFK to MIA. The three airlines are:\n",
    "- American Airlines (Flight AA 2572)\n",
    "\n",
    "- British Airways (Flight BA 1687) \n",
    "\n",
    "- Malaysia Airlines (Flight MH 9446)."
   ]
  },
  {
   "cell_type": "code",
   "execution_count": null,
   "metadata": {},
   "outputs": [],
   "source": []
  },
  {
   "cell_type": "markdown",
   "metadata": {},
   "source": [
    "Input parameters:\n",
    "\n",
    "- start date\n",
    "- end date\n",
    "- n (number )"
   ]
  },
  {
   "cell_type": "code",
   "execution_count": 121,
   "metadata": {},
   "outputs": [],
   "source": [
    "def make_unix_lists(start_date, end_date, frequency):\n",
    "    created_range = pd.date_range(start = start_date, end = end_date, freq = frequency) #creates a daterange series\n",
    "    list_created_range = list(created_range) #converts such range into a list\n",
    "    unix_floats = [date.to_pydatetime().timestamp() for date in list_created_range] #transforms the daterange list into unix epoch tiimestamps represented as floats\n",
    "    unix_ints = [int(i) for i in unix_floats] #makes the above list as a list of integers\n",
    "    #return unix_ints\n",
    "\n",
    "    #We are doing the below to accomodate a for loop format into another function\n",
    "    start_ints = unix_ints[:-1] #creates a list of all the start dates without last element\n",
    "    end_ints = unix_ints[1:] #creates a list of all the end dates without first element \n",
    "\n",
    "    return start_ints, end_ints"
   ]
  },
  {
   "cell_type": "code",
   "execution_count": 202,
   "metadata": {},
   "outputs": [],
   "source": [
    "start, end = make_unix_lists('5/11/2020', '5/24/2020', '8H')"
   ]
  },
  {
   "cell_type": "code",
   "execution_count": 234,
   "metadata": {},
   "outputs": [
    {
     "data": {
      "text/plain": "[1589169600,\n 1589198400,\n 1589227200,\n 1589256000,\n 1589284800,\n 1589313600,\n 1589342400,\n 1589371200,\n 1589400000,\n 1589428800,\n 1589457600,\n 1589486400,\n 1589515200,\n 1589544000,\n 1589572800,\n 1589601600,\n 1589630400,\n 1589659200,\n 1589688000,\n 1589716800,\n 1589745600,\n 1589774400,\n 1589803200,\n 1589832000,\n 1589860800,\n 1589889600,\n 1589918400,\n 1589947200,\n 1589976000,\n 1590004800,\n 1590033600,\n 1590062400,\n 1590091200,\n 1590120000,\n 1590148800,\n 1590177600,\n 1590206400,\n 1590235200,\n 1590264000]"
     },
     "execution_count": 234,
     "metadata": {},
     "output_type": "execute_result"
    }
   ],
   "source": [
    "start"
   ]
  },
  {
   "cell_type": "code",
   "execution_count": 154,
   "metadata": {},
   "outputs": [],
   "source": [
    "jfk_mia_info = {'AA':'2572',\n",
    "                'BA':'1687',\n",
    "                'MA':'9446'}"
   ]
  },
  {
   "cell_type": "code",
   "execution_count": 181,
   "metadata": {},
   "outputs": [],
   "source": [
    "def make_schedule_dicts(start_input, end_input, frequency_input, origin_input, destination_input, flight_info_input, howMany_input):\n",
    "    start_list, end_list = make_unix_lists(start_input, end_input, frequency_input)\n",
    "    output = []\n",
    "    for k in flight_info_input:\n",
    "        for n in range(len(start_list)):\n",
    "            airline_flight_schedules = api.service.AirlineFlightSchedules(startDate = start_list[n], endDate = end_list[n], origin = origin_input, destination = destination_input, airline = k, flightno = flight_info_input.get(k), howMany = howMany_input)\n",
    "            airline_flight_dict = Client.dict(airline_flight_schedules)\n",
    "            output.append(airline_flight_dict)\n",
    "    return output"
   ]
  },
  {
   "cell_type": "code",
   "execution_count": 182,
   "metadata": {},
   "outputs": [],
   "source": [
    "jfk_mia_flight_scheds = make_schedule_dicts('5/11/2020', '5/24/2020', '8H', 'JFK', 'MIA', jfk_mia_info, 15)"
   ]
  },
  {
   "cell_type": "code",
   "execution_count": 250,
   "metadata": {},
   "outputs": [],
   "source": [
    "full_jfk_mia_flight_scheds = []\n",
    "\n",
    "for i in range(len(jfk_mia_flight_scheds)):\n",
    "    try: \n",
    "        full_jfk_mia_flight_scheds.append(jfk_mia_flight_scheds[i]['data'])\n",
    "    except:\n",
    "        continue"
   ]
  },
  {
   "cell_type": "code",
   "execution_count": 253,
   "metadata": {},
   "outputs": [
    {
     "data": {
      "text/plain": "[[(AirlineFlightScheduleStruct){\n     ident = \"MAS9446\"\n     actual_ident = \"AAL2572\"\n     departuretime = 1589221800\n     arrivaltime = 1589233680\n     origin = \"KJFK\"\n     destination = \"KMIA\"\n     aircrafttype = \"B738\"\n     meal_service = \"Business: Meal / Economy: Meal\"\n     seats_cabin_first = 0\n     seats_cabin_business = 16\n     seats_cabin_coach = 144\n   },\n  (AirlineFlightScheduleStruct){\n     ident = \"GLO6391\"\n     actual_ident = \"AAL2572\"\n     departuretime = 1589223600\n     arrivaltime = 1589235600\n     origin = \"KJFK\"\n     destination = \"KMIA\"\n     aircrafttype = \"B738\"\n     meal_service = \"Business: No meal / Economy: No meal\"\n     seats_cabin_first = 0\n     seats_cabin_business = 16\n     seats_cabin_coach = 144\n   },\n  (AirlineFlightScheduleStruct){\n     ident = \"AAL2572\"\n     actual_ident = None\n     departuretime = 1589223600\n     arrivaltime = 1589235600\n     origin = \"KJFK\"\n     destination = \"KMIA\"\n     aircrafttype = \"B738\"\n     meal_service = \"Business: No meal / Economy: No meal\"\n     seats_cabin_first = 0\n     seats_cabin_business = 16\n     seats_cabin_coach = 144\n   }],\n [(AirlineFlightScheduleStruct){\n     ident = \"MAS9446\"\n     actual_ident = \"AAL2572\"\n     departuretime = 1589308200\n     arrivaltime = 1589320080\n     origin = \"KJFK\"\n     destination = \"KMIA\"\n     aircrafttype = \"B738\"\n     meal_service = \"Business: Meal / Economy: Meal\"\n     seats_cabin_first = 0\n     seats_cabin_business = 16\n     seats_cabin_coach = 144\n   },\n  (AirlineFlightScheduleStruct){\n     ident = \"AAL2572\"\n     actual_ident = None\n     departuretime = 1589310000\n     arrivaltime = 1589322000\n     origin = \"KJFK\"\n     destination = \"KMIA\"\n     aircrafttype = \"B738\"\n     meal_service = \"Business: No meal / Economy: No meal\"\n     seats_cabin_first = 0\n     seats_cabin_business = 16\n     seats_cabin_coach = 144\n   }],\n [(AirlineFlightScheduleStruct){\n     ident = \"MAS9446\"\n     actual_ident = \"AAL2572\"\n     departuretime = 1589394600\n     arrivaltime = 1589406480\n     origin = \"KJFK\"\n     destination = \"KMIA\"\n     aircrafttype = \"B738\"\n     meal_service = \"Business: Meal / Economy: Meal\"\n     seats_cabin_first = 0\n     seats_cabin_business = 16\n     seats_cabin_coach = 144\n   },\n  (AirlineFlightScheduleStruct){\n     ident = \"AAL2572\"\n     actual_ident = None\n     departuretime = 1589396400\n     arrivaltime = 1589408400\n     origin = \"KJFK\"\n     destination = \"KMIA\"\n     aircrafttype = \"B738\"\n     meal_service = \"Business: No meal / Economy: No meal\"\n     seats_cabin_first = 0\n     seats_cabin_business = 16\n     seats_cabin_coach = 144\n   },\n  (AirlineFlightScheduleStruct){\n     ident = \"GLO6391\"\n     actual_ident = \"AAL2572\"\n     departuretime = 1589396400\n     arrivaltime = 1589408400\n     origin = \"KJFK\"\n     destination = \"KMIA\"\n     aircrafttype = \"B738\"\n     meal_service = \"Business: No meal / Economy: No meal\"\n     seats_cabin_first = 0\n     seats_cabin_business = 16\n     seats_cabin_coach = 144\n   }],\n [(AirlineFlightScheduleStruct){\n     ident = \"MAS9446\"\n     actual_ident = \"AAL2572\"\n     departuretime = 1589481000\n     arrivaltime = 1589492880\n     origin = \"KJFK\"\n     destination = \"KMIA\"\n     aircrafttype = \"B738\"\n     meal_service = \"Business: Meal / Economy: Meal\"\n     seats_cabin_first = 0\n     seats_cabin_business = 16\n     seats_cabin_coach = 144\n   },\n  (AirlineFlightScheduleStruct){\n     ident = \"GLO6391\"\n     actual_ident = \"AAL2572\"\n     departuretime = 1589482800\n     arrivaltime = 1589494800\n     origin = \"KJFK\"\n     destination = \"KMIA\"\n     aircrafttype = \"B738\"\n     meal_service = \"Business: No meal / Economy: No meal\"\n     seats_cabin_first = 0\n     seats_cabin_business = 16\n     seats_cabin_coach = 144\n   },\n  (AirlineFlightScheduleStruct){\n     ident = \"AAL2572\"\n     actual_ident = None\n     departuretime = 1589482800\n     arrivaltime = 1589494800\n     origin = \"KJFK\"\n     destination = \"KMIA\"\n     aircrafttype = \"B738\"\n     meal_service = \"Business: No meal / Economy: No meal\"\n     seats_cabin_first = 0\n     seats_cabin_business = 16\n     seats_cabin_coach = 144\n   }],\n [(AirlineFlightScheduleStruct){\n     ident = \"MAS9446\"\n     actual_ident = \"AAL2572\"\n     departuretime = 1589567400\n     arrivaltime = 1589579280\n     origin = \"KJFK\"\n     destination = \"KMIA\"\n     aircrafttype = \"B738\"\n     meal_service = \"Business: Meal / Economy: Meal\"\n     seats_cabin_first = 0\n     seats_cabin_business = 16\n     seats_cabin_coach = 144\n   },\n  (AirlineFlightScheduleStruct){\n     ident = \"GLO6391\"\n     actual_ident = \"AAL2572\"\n     departuretime = 1589569200\n     arrivaltime = 1589581200\n     origin = \"KJFK\"\n     destination = \"KMIA\"\n     aircrafttype = \"B738\"\n     meal_service = \"Business: No meal / Economy: No meal\"\n     seats_cabin_first = 0\n     seats_cabin_business = 16\n     seats_cabin_coach = 144\n   },\n  (AirlineFlightScheduleStruct){\n     ident = \"AAL2572\"\n     actual_ident = None\n     departuretime = 1589569200\n     arrivaltime = 1589581200\n     origin = \"KJFK\"\n     destination = \"KMIA\"\n     aircrafttype = \"B738\"\n     meal_service = \"Business: No meal / Economy: No meal\"\n     seats_cabin_first = 0\n     seats_cabin_business = 16\n     seats_cabin_coach = 144\n   }],\n [(AirlineFlightScheduleStruct){\n     ident = \"MAS9446\"\n     actual_ident = \"AAL2572\"\n     departuretime = 1589653800\n     arrivaltime = 1589665680\n     origin = \"KJFK\"\n     destination = \"KMIA\"\n     aircrafttype = \"B738\"\n     meal_service = \"Business: Meal / Economy: Meal\"\n     seats_cabin_first = 0\n     seats_cabin_business = 16\n     seats_cabin_coach = 144\n   },\n  (AirlineFlightScheduleStruct){\n     ident = \"GLO6391\"\n     actual_ident = \"AAL2572\"\n     departuretime = 1589655600\n     arrivaltime = 1589667600\n     origin = \"KJFK\"\n     destination = \"KMIA\"\n     aircrafttype = \"B738\"\n     meal_service = \"Business: No meal / Economy: No meal\"\n     seats_cabin_first = 0\n     seats_cabin_business = 16\n     seats_cabin_coach = 144\n   },\n  (AirlineFlightScheduleStruct){\n     ident = \"AAL2572\"\n     actual_ident = None\n     departuretime = 1589655600\n     arrivaltime = 1589667600\n     origin = \"KJFK\"\n     destination = \"KMIA\"\n     aircrafttype = \"B738\"\n     meal_service = \"Business: No meal / Economy: No meal\"\n     seats_cabin_first = 0\n     seats_cabin_business = 16\n     seats_cabin_coach = 144\n   }],\n [(AirlineFlightScheduleStruct){\n     ident = \"MAS9446\"\n     actual_ident = \"AAL2572\"\n     departuretime = 1589740200\n     arrivaltime = 1589752080\n     origin = \"KJFK\"\n     destination = \"KMIA\"\n     aircrafttype = \"B738\"\n     meal_service = \"Business: Meal / Economy: Meal\"\n     seats_cabin_first = 0\n     seats_cabin_business = 16\n     seats_cabin_coach = 144\n   },\n  (AirlineFlightScheduleStruct){\n     ident = \"GLO6391\"\n     actual_ident = \"AAL2572\"\n     departuretime = 1589742000\n     arrivaltime = 1589754000\n     origin = \"KJFK\"\n     destination = \"KMIA\"\n     aircrafttype = \"B738\"\n     meal_service = \"Business: No meal / Economy: No meal\"\n     seats_cabin_first = 0\n     seats_cabin_business = 16\n     seats_cabin_coach = 144\n   },\n  (AirlineFlightScheduleStruct){\n     ident = \"AAL2572\"\n     actual_ident = None\n     departuretime = 1589742000\n     arrivaltime = 1589754000\n     origin = \"KJFK\"\n     destination = \"KMIA\"\n     aircrafttype = \"B738\"\n     meal_service = \"Business: No meal / Economy: No meal\"\n     seats_cabin_first = 0\n     seats_cabin_business = 16\n     seats_cabin_coach = 144\n   }],\n [(AirlineFlightScheduleStruct){\n     ident = \"MAS9446\"\n     actual_ident = \"AAL2572\"\n     departuretime = 1589826600\n     arrivaltime = 1589838480\n     origin = \"KJFK\"\n     destination = \"KMIA\"\n     aircrafttype = \"B738\"\n     meal_service = \"Business: Meal / Economy: Meal\"\n     seats_cabin_first = 0\n     seats_cabin_business = 16\n     seats_cabin_coach = 144\n   },\n  (AirlineFlightScheduleStruct){\n     ident = \"GLO6391\"\n     actual_ident = \"AAL2572\"\n     departuretime = 1589828400\n     arrivaltime = 1589840400\n     origin = \"KJFK\"\n     destination = \"KMIA\"\n     aircrafttype = \"B738\"\n     meal_service = \"Business: No meal / Economy: No meal\"\n     seats_cabin_first = 0\n     seats_cabin_business = 16\n     seats_cabin_coach = 144\n   },\n  (AirlineFlightScheduleStruct){\n     ident = \"AAL2572\"\n     actual_ident = None\n     departuretime = 1589828400\n     arrivaltime = 1589840400\n     origin = \"KJFK\"\n     destination = \"KMIA\"\n     aircrafttype = \"B738\"\n     meal_service = \"Business: No meal / Economy: No meal\"\n     seats_cabin_first = 0\n     seats_cabin_business = 16\n     seats_cabin_coach = 144\n   }],\n [(AirlineFlightScheduleStruct){\n     ident = \"MAS9446\"\n     actual_ident = \"AAL2572\"\n     departuretime = 1589913000\n     arrivaltime = 1589924880\n     origin = \"KJFK\"\n     destination = \"KMIA\"\n     aircrafttype = \"B738\"\n     meal_service = \"Business: Meal / Economy: Meal\"\n     seats_cabin_first = 0\n     seats_cabin_business = 16\n     seats_cabin_coach = 144\n   },\n  (AirlineFlightScheduleStruct){\n     ident = \"AAL2572\"\n     actual_ident = None\n     departuretime = 1589914800\n     arrivaltime = 1589926800\n     origin = \"KJFK\"\n     destination = \"KMIA\"\n     aircrafttype = \"B738\"\n     meal_service = \"Business: No meal / Economy: No meal\"\n     seats_cabin_first = 0\n     seats_cabin_business = 16\n     seats_cabin_coach = 144\n   }],\n [(AirlineFlightScheduleStruct){\n     ident = \"MAS9446\"\n     actual_ident = \"AAL2572\"\n     departuretime = 1589999400\n     arrivaltime = 1590011280\n     origin = \"KJFK\"\n     destination = \"KMIA\"\n     aircrafttype = \"B738\"\n     meal_service = \"Business: Meal / Economy: Meal\"\n     seats_cabin_first = 0\n     seats_cabin_business = 16\n     seats_cabin_coach = 144\n   },\n  (AirlineFlightScheduleStruct){\n     ident = \"AAL2572\"\n     actual_ident = None\n     departuretime = 1590001200\n     arrivaltime = 1590013200\n     origin = \"KJFK\"\n     destination = \"KMIA\"\n     aircrafttype = \"B738\"\n     meal_service = \"Business: No meal / Economy: No meal\"\n     seats_cabin_first = 0\n     seats_cabin_business = 16\n     seats_cabin_coach = 144\n   },\n  (AirlineFlightScheduleStruct){\n     ident = \"GLO6391\"\n     actual_ident = \"AAL2572\"\n     departuretime = 1590001200\n     arrivaltime = 1590013200\n     origin = \"KJFK\"\n     destination = \"KMIA\"\n     aircrafttype = \"B738\"\n     meal_service = \"Business: No meal / Economy: No meal\"\n     seats_cabin_first = 0\n     seats_cabin_business = 16\n     seats_cabin_coach = 144\n   }],\n [(AirlineFlightScheduleStruct){\n     ident = \"MAS9446\"\n     actual_ident = \"AAL2572\"\n     departuretime = 1590085800\n     arrivaltime = 1590097680\n     origin = \"KJFK\"\n     destination = \"KMIA\"\n     aircrafttype = \"B738\"\n     meal_service = \"Business: Meal / Economy: Meal\"\n     seats_cabin_first = 0\n     seats_cabin_business = 16\n     seats_cabin_coach = 144\n   },\n  (AirlineFlightScheduleStruct){\n     ident = \"GLO6391\"\n     actual_ident = \"AAL2572\"\n     departuretime = 1590087600\n     arrivaltime = 1590099600\n     origin = \"KJFK\"\n     destination = \"KMIA\"\n     aircrafttype = \"B738\"\n     meal_service = \"Business: No meal / Economy: No meal\"\n     seats_cabin_first = 0\n     seats_cabin_business = 16\n     seats_cabin_coach = 144\n   },\n  (AirlineFlightScheduleStruct){\n     ident = \"AAL2572\"\n     actual_ident = None\n     departuretime = 1590087600\n     arrivaltime = 1590099600\n     origin = \"KJFK\"\n     destination = \"KMIA\"\n     aircrafttype = \"B738\"\n     meal_service = \"Business: No meal / Economy: No meal\"\n     seats_cabin_first = 0\n     seats_cabin_business = 16\n     seats_cabin_coach = 144\n   }],\n [(AirlineFlightScheduleStruct){\n     ident = \"MAS9446\"\n     actual_ident = \"AAL2572\"\n     departuretime = 1590172200\n     arrivaltime = 1590184080\n     origin = \"KJFK\"\n     destination = \"KMIA\"\n     aircrafttype = \"B738\"\n     meal_service = \"Business: Meal / Economy: Meal\"\n     seats_cabin_first = 0\n     seats_cabin_business = 16\n     seats_cabin_coach = 144\n   },\n  (AirlineFlightScheduleStruct){\n     ident = \"GLO6391\"\n     actual_ident = \"AAL2572\"\n     departuretime = 1590174000\n     arrivaltime = 1590186000\n     origin = \"KJFK\"\n     destination = \"KMIA\"\n     aircrafttype = \"B738\"\n     meal_service = \"Business: No meal / Economy: No meal\"\n     seats_cabin_first = 0\n     seats_cabin_business = 16\n     seats_cabin_coach = 144\n   },\n  (AirlineFlightScheduleStruct){\n     ident = \"AAL2572\"\n     actual_ident = None\n     departuretime = 1590174000\n     arrivaltime = 1590186000\n     origin = \"KJFK\"\n     destination = \"KMIA\"\n     aircrafttype = \"B738\"\n     meal_service = \"Business: No meal / Economy: No meal\"\n     seats_cabin_first = 0\n     seats_cabin_business = 16\n     seats_cabin_coach = 144\n   }],\n [(AirlineFlightScheduleStruct){\n     ident = \"MAS9446\"\n     actual_ident = \"AAL2572\"\n     departuretime = 1590258600\n     arrivaltime = 1590270480\n     origin = \"KJFK\"\n     destination = \"KMIA\"\n     aircrafttype = \"B738\"\n     meal_service = \"Business: Meal / Economy: Meal\"\n     seats_cabin_first = 0\n     seats_cabin_business = 16\n     seats_cabin_coach = 144\n   },\n  (AirlineFlightScheduleStruct){\n     ident = \"GLO6391\"\n     actual_ident = \"AAL2572\"\n     departuretime = 1590260400\n     arrivaltime = 1590272400\n     origin = \"KJFK\"\n     destination = \"KMIA\"\n     aircrafttype = \"B738\"\n     meal_service = \"Business: No meal / Economy: No meal\"\n     seats_cabin_first = 0\n     seats_cabin_business = 16\n     seats_cabin_coach = 144\n   },\n  (AirlineFlightScheduleStruct){\n     ident = \"AAL2572\"\n     actual_ident = None\n     departuretime = 1590260400\n     arrivaltime = 1590272400\n     origin = \"KJFK\"\n     destination = \"KMIA\"\n     aircrafttype = \"B738\"\n     meal_service = \"Business: No meal / Economy: No meal\"\n     seats_cabin_first = 0\n     seats_cabin_business = 16\n     seats_cabin_coach = 144\n   }]]"
     },
     "execution_count": 253,
     "metadata": {},
     "output_type": "execute_result"
    }
   ],
   "source": [
    "full_jfk_mia_flight_scheds"
   ]
  },
  {
   "cell_type": "code",
   "execution_count": 230,
   "metadata": {},
   "outputs": [
    {
     "data": {
      "text/plain": "(ArrayOfAirlineFlightScheduleStruct){\n   next_offset = -1\n   data[] = \n      (AirlineFlightScheduleStruct){\n         ident = \"MAS9446\"\n         actual_ident = \"AAL2572\"\n         departuretime = 1589913000\n         arrivaltime = 1589924880\n         origin = \"KJFK\"\n         destination = \"KMIA\"\n         aircrafttype = \"B738\"\n         meal_service = \"Business: Meal / Economy: Meal\"\n         seats_cabin_first = 0\n         seats_cabin_business = 16\n         seats_cabin_coach = 144\n      },\n      (AirlineFlightScheduleStruct){\n         ident = \"AAL2572\"\n         actual_ident = None\n         departuretime = 1589914800\n         arrivaltime = 1589926800\n         origin = \"KJFK\"\n         destination = \"KMIA\"\n         aircrafttype = \"B738\"\n         meal_service = \"Business: No meal / Economy: No meal\"\n         seats_cabin_first = 0\n         seats_cabin_business = 16\n         seats_cabin_coach = 144\n      },\n }"
     },
     "execution_count": 230,
     "metadata": {},
     "output_type": "execute_result"
    }
   ],
   "source": [
    "#Start date must be previous history\n",
    "#up to 15 query searches\n",
    "airline_flight_schedules = api.service.AirlineFlightSchedules(startDate = 1589878509, endDate = 1589921709, origin = 'JFK', destination = 'MIA', airline = 'AA', flightno = '2572', howMany = 15)\n",
    "airline_flight_schedules\n",
    "#we will want to look for if actual_ident is \"none\", get \"ident\"...must mention possibility that the ident is flown from someone else. THis should be step one. Step one is to get the ident. "
   ]
  },
  {
   "cell_type": "code",
   "execution_count": 178,
   "metadata": {},
   "outputs": [
    {
     "data": {
      "text/plain": "dict_keys(['next_offset', 'data'])"
     },
     "execution_count": 178,
     "metadata": {},
     "output_type": "execute_result"
    }
   ],
   "source": [
    "test_dict.keys()"
   ]
  },
  {
   "cell_type": "code",
   "execution_count": 87,
   "metadata": {},
   "outputs": [],
   "source": [
    "#Credit:\n",
    "#https://stackoverflow.com/questions/17581731/parsing-suds-soap-complex-data-type-into-python-dict\n",
    "test_dict = Client.dict(airline_flight_schedules)"
   ]
  },
  {
   "cell_type": "code",
   "execution_count": 180,
   "metadata": {},
   "outputs": [
    {
     "data": {
      "text/plain": "{'next_offset': 15,\n 'data': [(AirlineFlightScheduleStruct){\n     ident = \"MAS9446\"\n     actual_ident = \"AAL2572\"\n     departuretime = 1589221800\n     arrivaltime = 1589233680\n     origin = \"KJFK\"\n     destination = \"KMIA\"\n     aircrafttype = \"B738\"\n     meal_service = \"Business: Meal / Economy: Meal\"\n     seats_cabin_first = 0\n     seats_cabin_business = 16\n     seats_cabin_coach = 144\n   },\n  (AirlineFlightScheduleStruct){\n     ident = \"AAL2572\"\n     actual_ident = None\n     departuretime = 1589223600\n     arrivaltime = 1589235600\n     origin = \"KJFK\"\n     destination = \"KMIA\"\n     aircrafttype = \"B738\"\n     meal_service = \"Business: No meal / Economy: No meal\"\n     seats_cabin_first = 0\n     seats_cabin_business = 16\n     seats_cabin_coach = 144\n   },\n  (AirlineFlightScheduleStruct){\n     ident = \"GLO6391\"\n     actual_ident = \"AAL2572\"\n     departuretime = 1589223600\n     arrivaltime = 1589235600\n     origin = \"KJFK\"\n     destination = \"KMIA\"\n     aircrafttype = \"B738\"\n     meal_service = \"Business: No meal / Economy: No meal\"\n     seats_cabin_first = 0\n     seats_cabin_business = 16\n     seats_cabin_coach = 144\n   },\n  (AirlineFlightScheduleStruct){\n     ident = \"MAS9446\"\n     actual_ident = \"AAL2572\"\n     departuretime = 1589308200\n     arrivaltime = 1589320080\n     origin = \"KJFK\"\n     destination = \"KMIA\"\n     aircrafttype = \"B738\"\n     meal_service = \"Business: Meal / Economy: Meal\"\n     seats_cabin_first = 0\n     seats_cabin_business = 16\n     seats_cabin_coach = 144\n   },\n  (AirlineFlightScheduleStruct){\n     ident = \"AAL2572\"\n     actual_ident = None\n     departuretime = 1589310000\n     arrivaltime = 1589322000\n     origin = \"KJFK\"\n     destination = \"KMIA\"\n     aircrafttype = \"B738\"\n     meal_service = \"Business: No meal / Economy: No meal\"\n     seats_cabin_first = 0\n     seats_cabin_business = 16\n     seats_cabin_coach = 144\n   },\n  (AirlineFlightScheduleStruct){\n     ident = \"MAS9446\"\n     actual_ident = \"AAL2572\"\n     departuretime = 1589394600\n     arrivaltime = 1589406480\n     origin = \"KJFK\"\n     destination = \"KMIA\"\n     aircrafttype = \"B738\"\n     meal_service = \"Business: Meal / Economy: Meal\"\n     seats_cabin_first = 0\n     seats_cabin_business = 16\n     seats_cabin_coach = 144\n   },\n  (AirlineFlightScheduleStruct){\n     ident = \"GLO6391\"\n     actual_ident = \"AAL2572\"\n     departuretime = 1589396400\n     arrivaltime = 1589408400\n     origin = \"KJFK\"\n     destination = \"KMIA\"\n     aircrafttype = \"B738\"\n     meal_service = \"Business: No meal / Economy: No meal\"\n     seats_cabin_first = 0\n     seats_cabin_business = 16\n     seats_cabin_coach = 144\n   },\n  (AirlineFlightScheduleStruct){\n     ident = \"AAL2572\"\n     actual_ident = None\n     departuretime = 1589396400\n     arrivaltime = 1589408400\n     origin = \"KJFK\"\n     destination = \"KMIA\"\n     aircrafttype = \"B738\"\n     meal_service = \"Business: No meal / Economy: No meal\"\n     seats_cabin_first = 0\n     seats_cabin_business = 16\n     seats_cabin_coach = 144\n   },\n  (AirlineFlightScheduleStruct){\n     ident = \"MAS9446\"\n     actual_ident = \"AAL2572\"\n     departuretime = 1589481000\n     arrivaltime = 1589492880\n     origin = \"KJFK\"\n     destination = \"KMIA\"\n     aircrafttype = \"B738\"\n     meal_service = \"Business: Meal / Economy: Meal\"\n     seats_cabin_first = 0\n     seats_cabin_business = 16\n     seats_cabin_coach = 144\n   },\n  (AirlineFlightScheduleStruct){\n     ident = \"GLO6391\"\n     actual_ident = \"AAL2572\"\n     departuretime = 1589482800\n     arrivaltime = 1589494800\n     origin = \"KJFK\"\n     destination = \"KMIA\"\n     aircrafttype = \"B738\"\n     meal_service = \"Business: No meal / Economy: No meal\"\n     seats_cabin_first = 0\n     seats_cabin_business = 16\n     seats_cabin_coach = 144\n   },\n  (AirlineFlightScheduleStruct){\n     ident = \"AAL2572\"\n     actual_ident = None\n     departuretime = 1589482800\n     arrivaltime = 1589494800\n     origin = \"KJFK\"\n     destination = \"KMIA\"\n     aircrafttype = \"B738\"\n     meal_service = \"Business: No meal / Economy: No meal\"\n     seats_cabin_first = 0\n     seats_cabin_business = 16\n     seats_cabin_coach = 144\n   },\n  (AirlineFlightScheduleStruct){\n     ident = \"MAS9446\"\n     actual_ident = \"AAL2572\"\n     departuretime = 1589567400\n     arrivaltime = 1589579280\n     origin = \"KJFK\"\n     destination = \"KMIA\"\n     aircrafttype = \"B738\"\n     meal_service = \"Business: Meal / Economy: Meal\"\n     seats_cabin_first = 0\n     seats_cabin_business = 16\n     seats_cabin_coach = 144\n   },\n  (AirlineFlightScheduleStruct){\n     ident = \"GLO6391\"\n     actual_ident = \"AAL2572\"\n     departuretime = 1589569200\n     arrivaltime = 1589581200\n     origin = \"KJFK\"\n     destination = \"KMIA\"\n     aircrafttype = \"B738\"\n     meal_service = \"Business: No meal / Economy: No meal\"\n     seats_cabin_first = 0\n     seats_cabin_business = 16\n     seats_cabin_coach = 144\n   },\n  (AirlineFlightScheduleStruct){\n     ident = \"AAL2572\"\n     actual_ident = None\n     departuretime = 1589569200\n     arrivaltime = 1589581200\n     origin = \"KJFK\"\n     destination = \"KMIA\"\n     aircrafttype = \"B738\"\n     meal_service = \"Business: No meal / Economy: No meal\"\n     seats_cabin_first = 0\n     seats_cabin_business = 16\n     seats_cabin_coach = 144\n   },\n  (AirlineFlightScheduleStruct){\n     ident = \"MAS9446\"\n     actual_ident = \"AAL2572\"\n     departuretime = 1589653800\n     arrivaltime = 1589665680\n     origin = \"KJFK\"\n     destination = \"KMIA\"\n     aircrafttype = \"B738\"\n     meal_service = \"Business: Meal / Economy: Meal\"\n     seats_cabin_first = 0\n     seats_cabin_business = 16\n     seats_cabin_coach = 144\n   }]}"
     },
     "execution_count": 180,
     "metadata": {},
     "output_type": "execute_result"
    }
   ],
   "source": [
    "test_dict"
   ]
  },
  {
   "cell_type": "code",
   "execution_count": 91,
   "metadata": {},
   "outputs": [
    {
     "data": {
      "text/plain": "AAL2572"
     },
     "execution_count": 91,
     "metadata": {},
     "output_type": "execute_result"
    }
   ],
   "source": [
    "test_dict['data'][1]['ident']"
   ]
  },
  {
   "cell_type": "markdown",
   "metadata": {},
   "source": [
    "wow....so something doesn't work. The below function will not recognize flights that experience a time change. "
   ]
  },
  {
   "cell_type": "code",
   "execution_count": 94,
   "metadata": {},
   "outputs": [
    {
     "name": "stderr",
     "output_type": "stream",
     "text": "ERROR:suds.client:<suds.sax.document.Document object at 0x10c8ef110>\n"
    },
    {
     "ename": "WebFault",
     "evalue": "Server raised fault: 'NO_DATA flight not found'",
     "output_type": "error",
     "traceback": [
      "\u001b[0;31m---------------------------------------------------------------------------\u001b[0m",
      "\u001b[0;31mHTTPError\u001b[0m                                 Traceback (most recent call last)",
      "\u001b[0;32m~/opt/anaconda3/envs/DSI_test/lib/python3.7/site-packages/suds/transport/http.py\u001b[0m in \u001b[0;36msend\u001b[0;34m(self, request)\u001b[0m\n\u001b[1;32m     81\u001b[0m             \u001b[0mlog\u001b[0m\u001b[0;34m.\u001b[0m\u001b[0mdebug\u001b[0m\u001b[0;34m(\u001b[0m\u001b[0;34m'sending:\\n%s'\u001b[0m\u001b[0;34m,\u001b[0m \u001b[0mrequest\u001b[0m\u001b[0;34m)\u001b[0m\u001b[0;34m\u001b[0m\u001b[0;34m\u001b[0m\u001b[0m\n\u001b[0;32m---> 82\u001b[0;31m             \u001b[0mfp\u001b[0m \u001b[0;34m=\u001b[0m \u001b[0mself\u001b[0m\u001b[0;34m.\u001b[0m\u001b[0mu2open\u001b[0m\u001b[0;34m(\u001b[0m\u001b[0mu2request\u001b[0m\u001b[0;34m)\u001b[0m\u001b[0;34m\u001b[0m\u001b[0;34m\u001b[0m\u001b[0m\n\u001b[0m\u001b[1;32m     83\u001b[0m             \u001b[0mself\u001b[0m\u001b[0;34m.\u001b[0m\u001b[0mgetcookies\u001b[0m\u001b[0;34m(\u001b[0m\u001b[0mfp\u001b[0m\u001b[0;34m,\u001b[0m \u001b[0mu2request\u001b[0m\u001b[0;34m)\u001b[0m\u001b[0;34m\u001b[0m\u001b[0;34m\u001b[0m\u001b[0m\n",
      "\u001b[0;32m~/opt/anaconda3/envs/DSI_test/lib/python3.7/site-packages/suds/transport/http.py\u001b[0m in \u001b[0;36mu2open\u001b[0;34m(self, u2request)\u001b[0m\n\u001b[1;32m    131\u001b[0m             \u001b[0;32mreturn\u001b[0m \u001b[0murl\u001b[0m\u001b[0;34m.\u001b[0m\u001b[0mopen\u001b[0m\u001b[0;34m(\u001b[0m\u001b[0mu2request\u001b[0m\u001b[0;34m)\u001b[0m\u001b[0;34m\u001b[0m\u001b[0;34m\u001b[0m\u001b[0m\n\u001b[0;32m--> 132\u001b[0;31m         \u001b[0;32mreturn\u001b[0m \u001b[0murl\u001b[0m\u001b[0;34m.\u001b[0m\u001b[0mopen\u001b[0m\u001b[0;34m(\u001b[0m\u001b[0mu2request\u001b[0m\u001b[0;34m,\u001b[0m \u001b[0mtimeout\u001b[0m\u001b[0;34m=\u001b[0m\u001b[0mtm\u001b[0m\u001b[0;34m)\u001b[0m\u001b[0;34m\u001b[0m\u001b[0;34m\u001b[0m\u001b[0m\n\u001b[0m\u001b[1;32m    133\u001b[0m \u001b[0;34m\u001b[0m\u001b[0m\n",
      "\u001b[0;32m~/opt/anaconda3/envs/DSI_test/lib/python3.7/urllib/request.py\u001b[0m in \u001b[0;36mopen\u001b[0;34m(self, fullurl, data, timeout)\u001b[0m\n\u001b[1;32m    530\u001b[0m             \u001b[0mmeth\u001b[0m \u001b[0;34m=\u001b[0m \u001b[0mgetattr\u001b[0m\u001b[0;34m(\u001b[0m\u001b[0mprocessor\u001b[0m\u001b[0;34m,\u001b[0m \u001b[0mmeth_name\u001b[0m\u001b[0;34m)\u001b[0m\u001b[0;34m\u001b[0m\u001b[0;34m\u001b[0m\u001b[0m\n\u001b[0;32m--> 531\u001b[0;31m             \u001b[0mresponse\u001b[0m \u001b[0;34m=\u001b[0m \u001b[0mmeth\u001b[0m\u001b[0;34m(\u001b[0m\u001b[0mreq\u001b[0m\u001b[0;34m,\u001b[0m \u001b[0mresponse\u001b[0m\u001b[0;34m)\u001b[0m\u001b[0;34m\u001b[0m\u001b[0;34m\u001b[0m\u001b[0m\n\u001b[0m\u001b[1;32m    532\u001b[0m \u001b[0;34m\u001b[0m\u001b[0m\n",
      "\u001b[0;32m~/opt/anaconda3/envs/DSI_test/lib/python3.7/urllib/request.py\u001b[0m in \u001b[0;36mhttp_response\u001b[0;34m(self, request, response)\u001b[0m\n\u001b[1;32m    640\u001b[0m             response = self.parent.error(\n\u001b[0;32m--> 641\u001b[0;31m                 'http', request, response, code, msg, hdrs)\n\u001b[0m\u001b[1;32m    642\u001b[0m \u001b[0;34m\u001b[0m\u001b[0m\n",
      "\u001b[0;32m~/opt/anaconda3/envs/DSI_test/lib/python3.7/urllib/request.py\u001b[0m in \u001b[0;36merror\u001b[0;34m(self, proto, *args)\u001b[0m\n\u001b[1;32m    562\u001b[0m         \u001b[0margs\u001b[0m \u001b[0;34m=\u001b[0m \u001b[0;34m(\u001b[0m\u001b[0mdict\u001b[0m\u001b[0;34m,\u001b[0m \u001b[0mproto\u001b[0m\u001b[0;34m,\u001b[0m \u001b[0mmeth_name\u001b[0m\u001b[0;34m)\u001b[0m \u001b[0;34m+\u001b[0m \u001b[0margs\u001b[0m\u001b[0;34m\u001b[0m\u001b[0;34m\u001b[0m\u001b[0m\n\u001b[0;32m--> 563\u001b[0;31m         \u001b[0mresult\u001b[0m \u001b[0;34m=\u001b[0m \u001b[0mself\u001b[0m\u001b[0;34m.\u001b[0m\u001b[0m_call_chain\u001b[0m\u001b[0;34m(\u001b[0m\u001b[0;34m*\u001b[0m\u001b[0margs\u001b[0m\u001b[0;34m)\u001b[0m\u001b[0;34m\u001b[0m\u001b[0;34m\u001b[0m\u001b[0m\n\u001b[0m\u001b[1;32m    564\u001b[0m         \u001b[0;32mif\u001b[0m \u001b[0mresult\u001b[0m\u001b[0;34m:\u001b[0m\u001b[0;34m\u001b[0m\u001b[0;34m\u001b[0m\u001b[0m\n",
      "\u001b[0;32m~/opt/anaconda3/envs/DSI_test/lib/python3.7/urllib/request.py\u001b[0m in \u001b[0;36m_call_chain\u001b[0;34m(self, chain, kind, meth_name, *args)\u001b[0m\n\u001b[1;32m    502\u001b[0m             \u001b[0mfunc\u001b[0m \u001b[0;34m=\u001b[0m \u001b[0mgetattr\u001b[0m\u001b[0;34m(\u001b[0m\u001b[0mhandler\u001b[0m\u001b[0;34m,\u001b[0m \u001b[0mmeth_name\u001b[0m\u001b[0;34m)\u001b[0m\u001b[0;34m\u001b[0m\u001b[0;34m\u001b[0m\u001b[0m\n\u001b[0;32m--> 503\u001b[0;31m             \u001b[0mresult\u001b[0m \u001b[0;34m=\u001b[0m \u001b[0mfunc\u001b[0m\u001b[0;34m(\u001b[0m\u001b[0;34m*\u001b[0m\u001b[0margs\u001b[0m\u001b[0;34m)\u001b[0m\u001b[0;34m\u001b[0m\u001b[0;34m\u001b[0m\u001b[0m\n\u001b[0m\u001b[1;32m    504\u001b[0m             \u001b[0;32mif\u001b[0m \u001b[0mresult\u001b[0m \u001b[0;32mis\u001b[0m \u001b[0;32mnot\u001b[0m \u001b[0;32mNone\u001b[0m\u001b[0;34m:\u001b[0m\u001b[0;34m\u001b[0m\u001b[0;34m\u001b[0m\u001b[0m\n",
      "\u001b[0;32m~/opt/anaconda3/envs/DSI_test/lib/python3.7/urllib/request.py\u001b[0m in \u001b[0;36mhttp_error_401\u001b[0;34m(self, req, fp, code, msg, headers)\u001b[0m\n\u001b[1;32m   1026\u001b[0m         response = self.http_error_auth_reqed('www-authenticate',\n\u001b[0;32m-> 1027\u001b[0;31m                                           url, req, headers)\n\u001b[0m\u001b[1;32m   1028\u001b[0m         \u001b[0;32mreturn\u001b[0m \u001b[0mresponse\u001b[0m\u001b[0;34m\u001b[0m\u001b[0;34m\u001b[0m\u001b[0m\n",
      "\u001b[0;32m~/opt/anaconda3/envs/DSI_test/lib/python3.7/urllib/request.py\u001b[0m in \u001b[0;36mhttp_error_auth_reqed\u001b[0;34m(self, authreq, host, req, headers)\u001b[0m\n\u001b[1;32m    979\u001b[0m                     \u001b[0;32mif\u001b[0m \u001b[0mscheme\u001b[0m\u001b[0;34m.\u001b[0m\u001b[0mlower\u001b[0m\u001b[0;34m(\u001b[0m\u001b[0;34m)\u001b[0m \u001b[0;34m==\u001b[0m \u001b[0;34m'basic'\u001b[0m\u001b[0;34m:\u001b[0m\u001b[0;34m\u001b[0m\u001b[0;34m\u001b[0m\u001b[0m\n\u001b[0;32m--> 980\u001b[0;31m                         \u001b[0;32mreturn\u001b[0m \u001b[0mself\u001b[0m\u001b[0;34m.\u001b[0m\u001b[0mretry_http_basic_auth\u001b[0m\u001b[0;34m(\u001b[0m\u001b[0mhost\u001b[0m\u001b[0;34m,\u001b[0m \u001b[0mreq\u001b[0m\u001b[0;34m,\u001b[0m \u001b[0mrealm\u001b[0m\u001b[0;34m)\u001b[0m\u001b[0;34m\u001b[0m\u001b[0;34m\u001b[0m\u001b[0m\n\u001b[0m\u001b[1;32m    981\u001b[0m \u001b[0;34m\u001b[0m\u001b[0m\n",
      "\u001b[0;32m~/opt/anaconda3/envs/DSI_test/lib/python3.7/urllib/request.py\u001b[0m in \u001b[0;36mretry_http_basic_auth\u001b[0;34m(self, host, req, realm)\u001b[0m\n\u001b[1;32m    989\u001b[0m             \u001b[0mreq\u001b[0m\u001b[0;34m.\u001b[0m\u001b[0madd_unredirected_header\u001b[0m\u001b[0;34m(\u001b[0m\u001b[0mself\u001b[0m\u001b[0;34m.\u001b[0m\u001b[0mauth_header\u001b[0m\u001b[0;34m,\u001b[0m \u001b[0mauth\u001b[0m\u001b[0;34m)\u001b[0m\u001b[0;34m\u001b[0m\u001b[0;34m\u001b[0m\u001b[0m\n\u001b[0;32m--> 990\u001b[0;31m             \u001b[0;32mreturn\u001b[0m \u001b[0mself\u001b[0m\u001b[0;34m.\u001b[0m\u001b[0mparent\u001b[0m\u001b[0;34m.\u001b[0m\u001b[0mopen\u001b[0m\u001b[0;34m(\u001b[0m\u001b[0mreq\u001b[0m\u001b[0;34m,\u001b[0m \u001b[0mtimeout\u001b[0m\u001b[0;34m=\u001b[0m\u001b[0mreq\u001b[0m\u001b[0;34m.\u001b[0m\u001b[0mtimeout\u001b[0m\u001b[0;34m)\u001b[0m\u001b[0;34m\u001b[0m\u001b[0;34m\u001b[0m\u001b[0m\n\u001b[0m\u001b[1;32m    991\u001b[0m         \u001b[0;32melse\u001b[0m\u001b[0;34m:\u001b[0m\u001b[0;34m\u001b[0m\u001b[0;34m\u001b[0m\u001b[0m\n",
      "\u001b[0;32m~/opt/anaconda3/envs/DSI_test/lib/python3.7/urllib/request.py\u001b[0m in \u001b[0;36mopen\u001b[0;34m(self, fullurl, data, timeout)\u001b[0m\n\u001b[1;32m    530\u001b[0m             \u001b[0mmeth\u001b[0m \u001b[0;34m=\u001b[0m \u001b[0mgetattr\u001b[0m\u001b[0;34m(\u001b[0m\u001b[0mprocessor\u001b[0m\u001b[0;34m,\u001b[0m \u001b[0mmeth_name\u001b[0m\u001b[0;34m)\u001b[0m\u001b[0;34m\u001b[0m\u001b[0;34m\u001b[0m\u001b[0m\n\u001b[0;32m--> 531\u001b[0;31m             \u001b[0mresponse\u001b[0m \u001b[0;34m=\u001b[0m \u001b[0mmeth\u001b[0m\u001b[0;34m(\u001b[0m\u001b[0mreq\u001b[0m\u001b[0;34m,\u001b[0m \u001b[0mresponse\u001b[0m\u001b[0;34m)\u001b[0m\u001b[0;34m\u001b[0m\u001b[0;34m\u001b[0m\u001b[0m\n\u001b[0m\u001b[1;32m    532\u001b[0m \u001b[0;34m\u001b[0m\u001b[0m\n",
      "\u001b[0;32m~/opt/anaconda3/envs/DSI_test/lib/python3.7/urllib/request.py\u001b[0m in \u001b[0;36mhttp_response\u001b[0;34m(self, request, response)\u001b[0m\n\u001b[1;32m    640\u001b[0m             response = self.parent.error(\n\u001b[0;32m--> 641\u001b[0;31m                 'http', request, response, code, msg, hdrs)\n\u001b[0m\u001b[1;32m    642\u001b[0m \u001b[0;34m\u001b[0m\u001b[0m\n",
      "\u001b[0;32m~/opt/anaconda3/envs/DSI_test/lib/python3.7/urllib/request.py\u001b[0m in \u001b[0;36merror\u001b[0;34m(self, proto, *args)\u001b[0m\n\u001b[1;32m    568\u001b[0m             \u001b[0margs\u001b[0m \u001b[0;34m=\u001b[0m \u001b[0;34m(\u001b[0m\u001b[0mdict\u001b[0m\u001b[0;34m,\u001b[0m \u001b[0;34m'default'\u001b[0m\u001b[0;34m,\u001b[0m \u001b[0;34m'http_error_default'\u001b[0m\u001b[0;34m)\u001b[0m \u001b[0;34m+\u001b[0m \u001b[0morig_args\u001b[0m\u001b[0;34m\u001b[0m\u001b[0;34m\u001b[0m\u001b[0m\n\u001b[0;32m--> 569\u001b[0;31m             \u001b[0;32mreturn\u001b[0m \u001b[0mself\u001b[0m\u001b[0;34m.\u001b[0m\u001b[0m_call_chain\u001b[0m\u001b[0;34m(\u001b[0m\u001b[0;34m*\u001b[0m\u001b[0margs\u001b[0m\u001b[0;34m)\u001b[0m\u001b[0;34m\u001b[0m\u001b[0;34m\u001b[0m\u001b[0m\n\u001b[0m\u001b[1;32m    570\u001b[0m \u001b[0;34m\u001b[0m\u001b[0m\n",
      "\u001b[0;32m~/opt/anaconda3/envs/DSI_test/lib/python3.7/urllib/request.py\u001b[0m in \u001b[0;36m_call_chain\u001b[0;34m(self, chain, kind, meth_name, *args)\u001b[0m\n\u001b[1;32m    502\u001b[0m             \u001b[0mfunc\u001b[0m \u001b[0;34m=\u001b[0m \u001b[0mgetattr\u001b[0m\u001b[0;34m(\u001b[0m\u001b[0mhandler\u001b[0m\u001b[0;34m,\u001b[0m \u001b[0mmeth_name\u001b[0m\u001b[0;34m)\u001b[0m\u001b[0;34m\u001b[0m\u001b[0;34m\u001b[0m\u001b[0m\n\u001b[0;32m--> 503\u001b[0;31m             \u001b[0mresult\u001b[0m \u001b[0;34m=\u001b[0m \u001b[0mfunc\u001b[0m\u001b[0;34m(\u001b[0m\u001b[0;34m*\u001b[0m\u001b[0margs\u001b[0m\u001b[0;34m)\u001b[0m\u001b[0;34m\u001b[0m\u001b[0;34m\u001b[0m\u001b[0m\n\u001b[0m\u001b[1;32m    504\u001b[0m             \u001b[0;32mif\u001b[0m \u001b[0mresult\u001b[0m \u001b[0;32mis\u001b[0m \u001b[0;32mnot\u001b[0m \u001b[0;32mNone\u001b[0m\u001b[0;34m:\u001b[0m\u001b[0;34m\u001b[0m\u001b[0;34m\u001b[0m\u001b[0m\n",
      "\u001b[0;32m~/opt/anaconda3/envs/DSI_test/lib/python3.7/urllib/request.py\u001b[0m in \u001b[0;36mhttp_error_default\u001b[0;34m(self, req, fp, code, msg, hdrs)\u001b[0m\n\u001b[1;32m    648\u001b[0m     \u001b[0;32mdef\u001b[0m \u001b[0mhttp_error_default\u001b[0m\u001b[0;34m(\u001b[0m\u001b[0mself\u001b[0m\u001b[0;34m,\u001b[0m \u001b[0mreq\u001b[0m\u001b[0;34m,\u001b[0m \u001b[0mfp\u001b[0m\u001b[0;34m,\u001b[0m \u001b[0mcode\u001b[0m\u001b[0;34m,\u001b[0m \u001b[0mmsg\u001b[0m\u001b[0;34m,\u001b[0m \u001b[0mhdrs\u001b[0m\u001b[0;34m)\u001b[0m\u001b[0;34m:\u001b[0m\u001b[0;34m\u001b[0m\u001b[0;34m\u001b[0m\u001b[0m\n\u001b[0;32m--> 649\u001b[0;31m         \u001b[0;32mraise\u001b[0m \u001b[0mHTTPError\u001b[0m\u001b[0;34m(\u001b[0m\u001b[0mreq\u001b[0m\u001b[0;34m.\u001b[0m\u001b[0mfull_url\u001b[0m\u001b[0;34m,\u001b[0m \u001b[0mcode\u001b[0m\u001b[0;34m,\u001b[0m \u001b[0mmsg\u001b[0m\u001b[0;34m,\u001b[0m \u001b[0mhdrs\u001b[0m\u001b[0;34m,\u001b[0m \u001b[0mfp\u001b[0m\u001b[0;34m)\u001b[0m\u001b[0;34m\u001b[0m\u001b[0;34m\u001b[0m\u001b[0m\n\u001b[0m\u001b[1;32m    650\u001b[0m \u001b[0;34m\u001b[0m\u001b[0m\n",
      "\u001b[0;31mHTTPError\u001b[0m: HTTP Error 500: Internal Server Error",
      "\nDuring handling of the above exception, another exception occurred:\n",
      "\u001b[0;31mTransportError\u001b[0m                            Traceback (most recent call last)",
      "\u001b[0;32m~/opt/anaconda3/envs/DSI_test/lib/python3.7/site-packages/suds/client.py\u001b[0m in \u001b[0;36msend\u001b[0;34m(self, soapenv)\u001b[0m\n\u001b[1;32m    612\u001b[0m             \u001b[0mtimer\u001b[0m\u001b[0;34m.\u001b[0m\u001b[0mstart\u001b[0m\u001b[0;34m(\u001b[0m\u001b[0;34m)\u001b[0m\u001b[0;34m\u001b[0m\u001b[0;34m\u001b[0m\u001b[0m\n\u001b[0;32m--> 613\u001b[0;31m             \u001b[0mreply\u001b[0m \u001b[0;34m=\u001b[0m \u001b[0mself\u001b[0m\u001b[0;34m.\u001b[0m\u001b[0moptions\u001b[0m\u001b[0;34m.\u001b[0m\u001b[0mtransport\u001b[0m\u001b[0;34m.\u001b[0m\u001b[0msend\u001b[0m\u001b[0;34m(\u001b[0m\u001b[0mrequest\u001b[0m\u001b[0;34m)\u001b[0m\u001b[0;34m\u001b[0m\u001b[0;34m\u001b[0m\u001b[0m\n\u001b[0m\u001b[1;32m    614\u001b[0m             \u001b[0mtimer\u001b[0m\u001b[0;34m.\u001b[0m\u001b[0mstop\u001b[0m\u001b[0;34m(\u001b[0m\u001b[0;34m)\u001b[0m\u001b[0;34m\u001b[0m\u001b[0;34m\u001b[0m\u001b[0m\n",
      "\u001b[0;32m~/opt/anaconda3/envs/DSI_test/lib/python3.7/site-packages/suds/transport/https.py\u001b[0m in \u001b[0;36msend\u001b[0;34m(self, request)\u001b[0m\n\u001b[1;32m     65\u001b[0m         \u001b[0mself\u001b[0m\u001b[0;34m.\u001b[0m\u001b[0maddcredentials\u001b[0m\u001b[0;34m(\u001b[0m\u001b[0mrequest\u001b[0m\u001b[0;34m)\u001b[0m\u001b[0;34m\u001b[0m\u001b[0;34m\u001b[0m\u001b[0m\n\u001b[0;32m---> 66\u001b[0;31m         \u001b[0;32mreturn\u001b[0m \u001b[0mHttpTransport\u001b[0m\u001b[0;34m.\u001b[0m\u001b[0msend\u001b[0m\u001b[0;34m(\u001b[0m\u001b[0mself\u001b[0m\u001b[0;34m,\u001b[0m \u001b[0mrequest\u001b[0m\u001b[0;34m)\u001b[0m\u001b[0;34m\u001b[0m\u001b[0;34m\u001b[0m\u001b[0m\n\u001b[0m\u001b[1;32m     67\u001b[0m \u001b[0;34m\u001b[0m\u001b[0m\n",
      "\u001b[0;32m~/opt/anaconda3/envs/DSI_test/lib/python3.7/site-packages/suds/transport/http.py\u001b[0m in \u001b[0;36msend\u001b[0;34m(self, request)\u001b[0m\n\u001b[1;32m     93\u001b[0m             \u001b[0;32melse\u001b[0m\u001b[0;34m:\u001b[0m\u001b[0;34m\u001b[0m\u001b[0;34m\u001b[0m\u001b[0m\n\u001b[0;32m---> 94\u001b[0;31m                 \u001b[0;32mraise\u001b[0m \u001b[0mTransportError\u001b[0m\u001b[0;34m(\u001b[0m\u001b[0me\u001b[0m\u001b[0;34m.\u001b[0m\u001b[0mmsg\u001b[0m\u001b[0;34m,\u001b[0m \u001b[0me\u001b[0m\u001b[0;34m.\u001b[0m\u001b[0mcode\u001b[0m\u001b[0;34m,\u001b[0m \u001b[0me\u001b[0m\u001b[0;34m.\u001b[0m\u001b[0mfp\u001b[0m\u001b[0;34m)\u001b[0m\u001b[0;34m\u001b[0m\u001b[0;34m\u001b[0m\u001b[0m\n\u001b[0m\u001b[1;32m     95\u001b[0m         \u001b[0;32mreturn\u001b[0m \u001b[0mresult\u001b[0m\u001b[0;34m\u001b[0m\u001b[0;34m\u001b[0m\u001b[0m\n",
      "\u001b[0;31mTransportError\u001b[0m: Internal Server Error",
      "\nDuring handling of the above exception, another exception occurred:\n",
      "\u001b[0;31mWebFault\u001b[0m                                  Traceback (most recent call last)",
      "\u001b[0;32m<ipython-input-94-29db16925310>\u001b[0m in \u001b[0;36m<module>\u001b[0;34m\u001b[0m\n\u001b[0;32m----> 1\u001b[0;31m \u001b[0mget_flight_ID\u001b[0m \u001b[0;34m=\u001b[0m \u001b[0mapi\u001b[0m\u001b[0;34m.\u001b[0m\u001b[0mservice\u001b[0m\u001b[0;34m.\u001b[0m\u001b[0mGetFlightID\u001b[0m\u001b[0;34m(\u001b[0m\u001b[0mident\u001b[0m \u001b[0;34m=\u001b[0m \u001b[0;34m'AAL2572'\u001b[0m\u001b[0;34m,\u001b[0m \u001b[0mdepartureTime\u001b[0m \u001b[0;34m=\u001b[0m \u001b[0;36m1589223600\u001b[0m\u001b[0;34m)\u001b[0m\u001b[0;34m\u001b[0m\u001b[0;34m\u001b[0m\u001b[0m\n\u001b[0m\u001b[1;32m      2\u001b[0m \u001b[0mget_flight_ID\u001b[0m\u001b[0;34m\u001b[0m\u001b[0;34m\u001b[0m\u001b[0m\n",
      "\u001b[0;32m~/opt/anaconda3/envs/DSI_test/lib/python3.7/site-packages/suds/client.py\u001b[0m in \u001b[0;36m__call__\u001b[0;34m(self, *args, **kwargs)\u001b[0m\n\u001b[1;32m    519\u001b[0m         \u001b[0mclient\u001b[0m \u001b[0;34m=\u001b[0m \u001b[0mclientclass\u001b[0m\u001b[0;34m(\u001b[0m\u001b[0mself\u001b[0m\u001b[0;34m.\u001b[0m\u001b[0mclient\u001b[0m\u001b[0;34m,\u001b[0m \u001b[0mself\u001b[0m\u001b[0;34m.\u001b[0m\u001b[0mmethod\u001b[0m\u001b[0;34m)\u001b[0m\u001b[0;34m\u001b[0m\u001b[0;34m\u001b[0m\u001b[0m\n\u001b[1;32m    520\u001b[0m         \u001b[0;32mtry\u001b[0m\u001b[0;34m:\u001b[0m\u001b[0;34m\u001b[0m\u001b[0;34m\u001b[0m\u001b[0m\n\u001b[0;32m--> 521\u001b[0;31m             \u001b[0;32mreturn\u001b[0m \u001b[0mclient\u001b[0m\u001b[0;34m.\u001b[0m\u001b[0minvoke\u001b[0m\u001b[0;34m(\u001b[0m\u001b[0margs\u001b[0m\u001b[0;34m,\u001b[0m \u001b[0mkwargs\u001b[0m\u001b[0;34m)\u001b[0m\u001b[0;34m\u001b[0m\u001b[0;34m\u001b[0m\u001b[0m\n\u001b[0m\u001b[1;32m    522\u001b[0m         \u001b[0;32mexcept\u001b[0m \u001b[0mWebFault\u001b[0m \u001b[0;32mas\u001b[0m \u001b[0me\u001b[0m\u001b[0;34m:\u001b[0m\u001b[0;34m\u001b[0m\u001b[0;34m\u001b[0m\u001b[0m\n\u001b[1;32m    523\u001b[0m             \u001b[0;32mif\u001b[0m \u001b[0mself\u001b[0m\u001b[0;34m.\u001b[0m\u001b[0mfaults\u001b[0m\u001b[0;34m(\u001b[0m\u001b[0;34m)\u001b[0m\u001b[0;34m:\u001b[0m\u001b[0;34m\u001b[0m\u001b[0;34m\u001b[0m\u001b[0m\n",
      "\u001b[0;32m~/opt/anaconda3/envs/DSI_test/lib/python3.7/site-packages/suds/client.py\u001b[0m in \u001b[0;36minvoke\u001b[0;34m(self, args, kwargs)\u001b[0m\n\u001b[1;32m    579\u001b[0m             timer)\n\u001b[1;32m    580\u001b[0m         \u001b[0mtimer\u001b[0m\u001b[0;34m.\u001b[0m\u001b[0mstart\u001b[0m\u001b[0;34m(\u001b[0m\u001b[0;34m)\u001b[0m\u001b[0;34m\u001b[0m\u001b[0;34m\u001b[0m\u001b[0m\n\u001b[0;32m--> 581\u001b[0;31m         \u001b[0mresult\u001b[0m \u001b[0;34m=\u001b[0m \u001b[0mself\u001b[0m\u001b[0;34m.\u001b[0m\u001b[0msend\u001b[0m\u001b[0;34m(\u001b[0m\u001b[0msoapenv\u001b[0m\u001b[0;34m)\u001b[0m\u001b[0;34m\u001b[0m\u001b[0;34m\u001b[0m\u001b[0m\n\u001b[0m\u001b[1;32m    582\u001b[0m         \u001b[0mtimer\u001b[0m\u001b[0;34m.\u001b[0m\u001b[0mstop\u001b[0m\u001b[0;34m(\u001b[0m\u001b[0;34m)\u001b[0m\u001b[0;34m\u001b[0m\u001b[0;34m\u001b[0m\u001b[0m\n\u001b[1;32m    583\u001b[0m         \u001b[0mmetrics\u001b[0m\u001b[0;34m.\u001b[0m\u001b[0mlog\u001b[0m\u001b[0;34m.\u001b[0m\u001b[0mdebug\u001b[0m\u001b[0;34m(\u001b[0m\u001b[0;34m\"method '%s' invoked: %s\"\u001b[0m\u001b[0;34m,\u001b[0m \u001b[0mself\u001b[0m\u001b[0;34m.\u001b[0m\u001b[0mmethod\u001b[0m\u001b[0;34m.\u001b[0m\u001b[0mname\u001b[0m\u001b[0;34m,\u001b[0m \u001b[0mtimer\u001b[0m\u001b[0;34m)\u001b[0m\u001b[0;34m\u001b[0m\u001b[0;34m\u001b[0m\u001b[0m\n",
      "\u001b[0;32m~/opt/anaconda3/envs/DSI_test/lib/python3.7/site-packages/suds/client.py\u001b[0m in \u001b[0;36msend\u001b[0;34m(self, soapenv)\u001b[0m\n\u001b[1;32m    617\u001b[0m             \u001b[0mcontent\u001b[0m \u001b[0;34m=\u001b[0m \u001b[0me\u001b[0m\u001b[0;34m.\u001b[0m\u001b[0mfp\u001b[0m \u001b[0;32mand\u001b[0m \u001b[0me\u001b[0m\u001b[0;34m.\u001b[0m\u001b[0mfp\u001b[0m\u001b[0;34m.\u001b[0m\u001b[0mread\u001b[0m\u001b[0;34m(\u001b[0m\u001b[0;34m)\u001b[0m \u001b[0;32mor\u001b[0m \u001b[0;34m''\u001b[0m\u001b[0;34m\u001b[0m\u001b[0;34m\u001b[0m\u001b[0m\n\u001b[1;32m    618\u001b[0m             return self.process_reply(reply=content, status=e.httpcode,\n\u001b[0;32m--> 619\u001b[0;31m                 description=tostr(e), original_soapenv=original_soapenv)\n\u001b[0m\u001b[1;32m    620\u001b[0m         return self.process_reply(reply=reply.message,\n\u001b[1;32m    621\u001b[0m             original_soapenv=original_soapenv)\n",
      "\u001b[0;32m~/opt/anaconda3/envs/DSI_test/lib/python3.7/site-packages/suds/client.py\u001b[0m in \u001b[0;36mprocess_reply\u001b[0;34m(self, reply, status, description, original_soapenv)\u001b[0m\n\u001b[1;32m    668\u001b[0m                             \"Reporting as an internal server error.\", status)\n\u001b[1;32m    669\u001b[0m                     \u001b[0;32mif\u001b[0m \u001b[0mself\u001b[0m\u001b[0;34m.\u001b[0m\u001b[0moptions\u001b[0m\u001b[0;34m.\u001b[0m\u001b[0mfaults\u001b[0m\u001b[0;34m:\u001b[0m\u001b[0;34m\u001b[0m\u001b[0;34m\u001b[0m\u001b[0m\n\u001b[0;32m--> 670\u001b[0;31m                         \u001b[0;32mraise\u001b[0m \u001b[0mWebFault\u001b[0m\u001b[0;34m(\u001b[0m\u001b[0mfault\u001b[0m\u001b[0;34m,\u001b[0m \u001b[0mreplyroot\u001b[0m\u001b[0;34m)\u001b[0m\u001b[0;34m\u001b[0m\u001b[0;34m\u001b[0m\u001b[0m\n\u001b[0m\u001b[1;32m    671\u001b[0m                     \u001b[0;32mreturn\u001b[0m \u001b[0;34m(\u001b[0m\u001b[0mhttp\u001b[0m\u001b[0;34m.\u001b[0m\u001b[0mclient\u001b[0m\u001b[0;34m.\u001b[0m\u001b[0mINTERNAL_SERVER_ERROR\u001b[0m\u001b[0;34m,\u001b[0m \u001b[0mfault\u001b[0m\u001b[0;34m)\u001b[0m\u001b[0;34m\u001b[0m\u001b[0;34m\u001b[0m\u001b[0m\n\u001b[1;32m    672\u001b[0m             \u001b[0;32mif\u001b[0m \u001b[0mstatus\u001b[0m \u001b[0;34m!=\u001b[0m \u001b[0mhttp\u001b[0m\u001b[0;34m.\u001b[0m\u001b[0mclient\u001b[0m\u001b[0;34m.\u001b[0m\u001b[0mOK\u001b[0m\u001b[0;34m:\u001b[0m\u001b[0;34m\u001b[0m\u001b[0;34m\u001b[0m\u001b[0m\n",
      "\u001b[0;31mWebFault\u001b[0m: Server raised fault: 'NO_DATA flight not found'"
     ]
    }
   ],
   "source": [
    "get_flight_ID = api.service.GetFlightID(ident = 'AAL2572', departureTime = 1589223600)\n",
    "get_flight_ID"
   ]
  },
  {
   "cell_type": "code",
   "execution_count": 95,
   "metadata": {},
   "outputs": [
    {
     "data": {
      "text/plain": "(FlightInfoExStruct){\n   next_offset = -1\n   flights[] = \n      (FlightExStruct){\n         faFlightID = \"AAL2572-1590295537-airline-0339\"\n         ident = \"AAL2572\"\n         aircrafttype = \"B738\"\n         filed_ete = \"02:58:00\"\n         filed_time = 1590295537\n         filed_departuretime = 1590518400\n         filed_airspeed_kts = 321\n         filed_airspeed_mach = None\n         filed_altitude = 0\n         route = None\n         actualdeparturetime = 0\n         estimatedarrivaltime = 1590529080\n         actualarrivaltime = 0\n         diverted = None\n         origin = \"KJFK\"\n         destination = \"KMIA\"\n         originName = \"John F Kennedy Intl\"\n         originCity = \"New York, NY\"\n         destinationName = \"Miami Intl\"\n         destinationCity = \"Miami, FL\"\n      },\n      (FlightExStruct){\n         faFlightID = \"AAL2572-1590209159-airline-0537\"\n         ident = \"AAL2572\"\n         aircrafttype = \"B738\"\n         filed_ete = \"02:33:00\"\n         filed_time = 1590209159\n         filed_departuretime = 1590432000\n         filed_airspeed_kts = 373\n         filed_airspeed_mach = None\n         filed_altitude = 400\n         route = None\n         actualdeparturetime = 0\n         estimatedarrivaltime = 1590442440\n         actualarrivaltime = 0\n         diverted = None\n         origin = \"KJFK\"\n         destination = \"KMIA\"\n         originName = \"John F Kennedy Intl\"\n         originCity = \"New York, NY\"\n         destinationName = \"Miami Intl\"\n         destinationCity = \"Miami, FL\"\n      },\n      (FlightExStruct){\n         faFlightID = \"AAL2572-1590122721-airline-0420\"\n         ident = \"AAL2572\"\n         aircrafttype = \"B738\"\n         filed_ete = \"02:40:00\"\n         filed_time = 1590345342\n         filed_departuretime = 1590345600\n         filed_airspeed_kts = 447\n         filed_airspeed_mach = None\n         filed_altitude = 380\n         route = \"WAVEY EMJAY J174 SWL CEBEE WETRO DIW AR22 JORAY HILEY7\"\n         actualdeparturetime = 1590345390\n         estimatedarrivaltime = 1590354840\n         actualarrivaltime = 0\n         diverted = None\n         origin = \"KJFK\"\n         destination = \"KMIA\"\n         originName = \"John F Kennedy Intl\"\n         originCity = \"New York, NY\"\n         destinationName = \"Miami Intl\"\n         destinationCity = \"Miami, FL\"\n      },\n      (FlightExStruct){\n         faFlightID = \"AAL2572-1590036344-airline-0175\"\n         ident = \"AAL2572\"\n         aircrafttype = \"B738\"\n         filed_ete = \"02:55:00\"\n         filed_time = 1590259235\n         filed_departuretime = 1590259200\n         filed_airspeed_kts = 326\n         filed_airspeed_mach = None\n         filed_altitude = 380\n         route = \"WAVEY EMJAY J174 SWL CEBEE WETRO DIW AR22 JORAY HILEY7\"\n         actualdeparturetime = 1590259283\n         estimatedarrivaltime = 1590267480\n         actualarrivaltime = 1590267480\n         diverted = None\n         origin = \"KJFK\"\n         destination = \"KMIA\"\n         originName = \"John F Kennedy Intl\"\n         originCity = \"New York, NY\"\n         destinationName = \"Miami Intl\"\n         destinationCity = \"Miami, FL\"\n      },\n      (FlightExStruct){\n         faFlightID = \"AAL2572-1589949964-airline-0120\"\n         ident = \"AAL2572\"\n         aircrafttype = \"B738\"\n         filed_ete = \"02:40:00\"\n         filed_time = 1590172660\n         filed_departuretime = 1590172800\n         filed_airspeed_kts = 315\n         filed_airspeed_mach = None\n         filed_altitude = 380\n         route = \"WAVEY EMJAY J174 SWL CEBEE WETRO DIW AR22 JORAY HILEY7\"\n         actualdeparturetime = 1590172708\n         estimatedarrivaltime = 1590181620\n         actualarrivaltime = 1590181620\n         diverted = None\n         origin = \"KJFK\"\n         destination = \"KMIA\"\n         originName = \"John F Kennedy Intl\"\n         originCity = \"New York, NY\"\n         destinationName = \"Miami Intl\"\n         destinationCity = \"Miami, FL\"\n      },\n      (FlightExStruct){\n         faFlightID = \"AAL2572-1589863519-airline-0459\"\n         ident = \"AAL2572\"\n         aircrafttype = \"B738\"\n         filed_ete = \"02:40:00\"\n         filed_time = 1590086190\n         filed_departuretime = 1590086400\n         filed_airspeed_kts = 445\n         filed_airspeed_mach = None\n         filed_altitude = 380\n         route = \"WAVEY EMJAY J174 DIW J174 CHS CAKET Q97 KENLL OMN HILEY7\"\n         actualdeparturetime = 1590086238\n         estimatedarrivaltime = 1590095340\n         actualarrivaltime = 1590095340\n         diverted = None\n         origin = \"KJFK\"\n         destination = \"KMIA\"\n         originName = \"John F Kennedy Intl\"\n         originCity = \"New York, NY\"\n         destinationName = \"Miami Intl\"\n         destinationCity = \"Miami, FL\"\n      },\n      (FlightExStruct){\n         faFlightID = \"AAL2572-1589777123-airline-0485\"\n         ident = \"AAL2572\"\n         aircrafttype = \"B738\"\n         filed_ete = \"02:38:00\"\n         filed_time = 1590000375\n         filed_departuretime = 1590000000\n         filed_airspeed_kts = 446\n         filed_airspeed_mach = None\n         filed_altitude = 380\n         route = \"WAVEY EMJAY J174 SWL CEBEE WETRO DIW AR22 JORAY HILEY7\"\n         actualdeparturetime = 1590000407\n         estimatedarrivaltime = 1590009900\n         actualarrivaltime = 1590009900\n         diverted = None\n         origin = \"KJFK\"\n         destination = \"KMIA\"\n         originName = \"John F Kennedy Intl\"\n         originCity = \"New York, NY\"\n         destinationName = \"Miami Intl\"\n         destinationCity = \"Miami, FL\"\n      },\n      (FlightExStruct){\n         faFlightID = \"AAL2572-1589690730-airline-0195\"\n         ident = \"AAL2572\"\n         aircrafttype = \"B738\"\n         filed_ete = \"02:46:00\"\n         filed_time = 1589914315\n         filed_departuretime = 1589913600\n         filed_airspeed_kts = 446\n         filed_airspeed_mach = None\n         filed_altitude = 380\n         route = \"WAVEY EMJAY J174 CHS CAKET Q97 KENLL OMN HILEY7\"\n         actualdeparturetime = 1589914363\n         estimatedarrivaltime = 1589924160\n         actualarrivaltime = 1589924160\n         diverted = None\n         origin = \"KJFK\"\n         destination = \"KMIA\"\n         originName = \"John F Kennedy Intl\"\n         originCity = \"New York, NY\"\n         destinationName = \"Miami Intl\"\n         destinationCity = \"Miami, FL\"\n      },\n      (FlightExStruct){\n         faFlightID = \"AAL2572-1589604351-airline-0000\"\n         ident = \"AAL2572\"\n         aircrafttype = \"B738\"\n         filed_ete = \"02:41:00\"\n         filed_time = 1589827142\n         filed_departuretime = 1589827200\n         filed_airspeed_kts = 459\n         filed_airspeed_mach = None\n         filed_altitude = 320\n         route = \"WAVEY EMJAY J174 SWL CEBEE WETRO DIW AR22 JORAY HILEY7\"\n         actualdeparturetime = 1589827191\n         estimatedarrivaltime = 1589837040\n         actualarrivaltime = 1589837040\n         diverted = None\n         origin = \"KJFK\"\n         destination = \"KMIA\"\n         originName = \"John F Kennedy Intl\"\n         originCity = \"New York, NY\"\n         destinationName = \"Miami Intl\"\n         destinationCity = \"Miami, FL\"\n      },\n      (FlightExStruct){\n         faFlightID = \"AAL2572-1589517913-airline-0098\"\n         ident = \"AAL2572\"\n         aircrafttype = \"B738\"\n         filed_ete = \"02:40:00\"\n         filed_time = 1589741446\n         filed_departuretime = 1589740800\n         filed_airspeed_kts = 448\n         filed_airspeed_mach = None\n         filed_altitude = 380\n         route = \"WAVEY EMJAY J174 ORF J121 CHS CAKET Q97 KENLL OMN HILEY7\"\n         actualdeparturetime = 1589741494\n         estimatedarrivaltime = 1589750762\n         actualarrivaltime = 1589750762\n         diverted = None\n         origin = \"KJFK\"\n         destination = \"KMIA\"\n         originName = \"John F Kennedy Intl\"\n         originCity = \"New York, NY\"\n         destinationName = \"Miami Intl\"\n         destinationCity = \"Miami, FL\"\n      },\n      (FlightExStruct){\n         faFlightID = \"AAL2572-1589431536-airline-0436\"\n         ident = \"AAL2572\"\n         aircrafttype = \"B738\"\n         filed_ete = \"02:40:00\"\n         filed_time = 1589654365\n         filed_departuretime = 1589654400\n         filed_airspeed_kts = 465\n         filed_airspeed_mach = None\n         filed_altitude = 300\n         route = \"WAVEY EMJAY J174 ZIZZI J174 ORF J121 CHS CAKET Q97 KENLL OMN HILEY7\"\n         actualdeparturetime = 1589654430\n         estimatedarrivaltime = 1589663460\n         actualarrivaltime = 1589663460\n         diverted = None\n         origin = \"KJFK\"\n         destination = \"KMIA\"\n         originName = \"John F Kennedy Intl\"\n         originCity = \"New York, NY\"\n         destinationName = \"Miami Intl\"\n         destinationCity = \"Miami, FL\"\n      },\n      (FlightExStruct){\n         faFlightID = \"AAL2572-1589345159-airline-0102\"\n         ident = \"AAL2572\"\n         aircrafttype = \"B738\"\n         filed_ete = \"02:56:00\"\n         filed_time = 1589567883\n         filed_departuretime = 1589568000\n         filed_airspeed_kts = 324\n         filed_airspeed_mach = None\n         filed_altitude = 380\n         route = \"WAVEY EMJAY J174 SWL CEBEE WETRO DIW AR22 SEELO AR22 JORAY HILEY7\"\n         actualdeparturetime = 1589567931\n         estimatedarrivaltime = 1589576820\n         actualarrivaltime = 1589576820\n         diverted = None\n         origin = \"KJFK\"\n         destination = \"KMIA\"\n         originName = \"John F Kennedy Intl\"\n         originCity = \"New York, NY\"\n         destinationName = \"Miami Intl\"\n         destinationCity = \"Miami, FL\"\n      },\n      (FlightExStruct){\n         faFlightID = \"AAL2572-1589258723-airline-0379\"\n         ident = \"AAL2572\"\n         aircrafttype = \"B738\"\n         filed_ete = \"02:51:00\"\n         filed_time = 1589481174\n         filed_departuretime = 1589481600\n         filed_airspeed_kts = 334\n         filed_airspeed_mach = None\n         filed_altitude = 380\n         route = \"WAVEY EMJAY J174 SWL CEBEE WETRO DIW AR22 JORAY HILEY7\"\n         actualdeparturetime = 1589481222\n         estimatedarrivaltime = 1589489820\n         actualarrivaltime = 1589489820\n         diverted = None\n         origin = \"KJFK\"\n         destination = \"KMIA\"\n         originName = \"John F Kennedy Intl\"\n         originCity = \"New York, NY\"\n         destinationName = \"Miami Intl\"\n         destinationCity = \"Miami, FL\"\n      },\n      (FlightExStruct){\n         faFlightID = \"AAL2572-1589172347-airline-0416\"\n         ident = \"AAL2572\"\n         aircrafttype = \"B738\"\n         filed_ete = \"02:34:00\"\n         filed_time = 1589396184\n         filed_departuretime = 1589395200\n         filed_airspeed_kts = 448\n         filed_airspeed_mach = None\n         filed_altitude = 360\n         route = \"WAVEY EMJAY J174 SWL CEBEE WETRO DIW AR22 JORAY HILEY7\"\n         actualdeparturetime = 1589396232\n         estimatedarrivaltime = 1589405160\n         actualarrivaltime = 1589405160\n         diverted = None\n         origin = \"KJFK\"\n         destination = \"KMIA\"\n         originName = \"John F Kennedy Intl\"\n         originCity = \"New York, NY\"\n         destinationName = \"Miami Intl\"\n         destinationCity = \"Miami, FL\"\n      },\n }"
     },
     "execution_count": 95,
     "metadata": {},
     "output_type": "execute_result"
    }
   ],
   "source": [
    "flight_info_ex = api.service.FlightInfoEx(ident = test_dict['data'][1]['ident'], howMany = 15, offset = 0)\n",
    "flight_info_ex"
   ]
  },
  {
   "cell_type": "code",
   "execution_count": 118,
   "metadata": {},
   "outputs": [
    {
     "data": {
      "text/plain": "AAL2572-1590209159-airline-0537"
     },
     "execution_count": 118,
     "metadata": {},
     "output_type": "execute_result"
    }
   ],
   "source": [
    "test_dict_2 = Client.dict(flight_info_ex)\n",
    "test_dict_2['flights'][1]['faFlightID']"
   ]
  },
  {
   "cell_type": "code",
   "execution_count": 119,
   "metadata": {},
   "outputs": [],
   "source": [
    "#this gets me a list of flight information like speed and altitude I believe this will be enough must convert this to a dataframe\n",
    "get_historical_track = api.service.GetHistoricalTrack()"
   ]
  },
  {
   "cell_type": "code",
   "execution_count": 120,
   "metadata": {},
   "outputs": [
    {
     "data": {
      "text/plain": "\n    groundspeed = 452\n    altitude = 300\n    altitudeStatus = \"-\"\n    updateType = \"A\"\n    altitudeChange = \"-\"\n  },\n (TrackStruct){\n    timestamp = 1589402648\n    latitude = 29.38345\n    longitude = -79.01486\n    groundspeed = 452\n    altitude = 300\n    altitudeStatus = \"-\"\n    updateType = \"A\"\n    altitudeChange = \"-\"\n  },\n (TrackStruct){\n    timestamp = 1589402679\n    latitude = 29.32879\n    longitude = -79.02864\n    groundspeed = 452\n    altitude = 300\n    altitudeStatus = \"-\"\n    updateType = \"A\"\n    altitudeChange = \"-\"\n  },\n (TrackStruct){\n    timestamp = 1589402709\n    latitude = 29.25938\n    longitude = -79.04616\n    groundspeed = 452\n    altitude = 300\n    altitudeStatus = \"-\"\n    updateType = \"A\"\n    altitudeChange = \"-\"\n  },\n (TrackStruct){\n    timestamp = 1589402739\n    latitude = 29.1996\n    longitude = -79.06116\n    groundspeed = 452\n    altitude = 300\n    altitudeStatus = \"-\"\n    updateType = \"A\"\n    altitudeChange = \"-\"\n  },\n (TrackStruct){\n    timestamp = 1589402770\n    latitude = 29.13472\n    longitude = -79.0776\n    groundspeed = 452\n    altitude = 300\n    altitudeStatus = \"-\"\n    updateType = \"A\"\n    altitudeChange = \"-\"\n  },\n (TrackStruct){\n    timestamp = 1589402800\n    latitude = 29.07481\n    longitude = -79.09269\n    groundspeed = 451\n    altitude = 300\n    altitudeStatus = \"-\"\n    updateType = \"A\"\n    altitudeChange = \"-\"\n  },\n (TrackStruct){\n    timestamp = 1589402830\n    latitude = 29.01164\n    longitude = -79.10843\n    groundspeed = 451\n    altitude = 300\n    altitudeStatus = \"-\"\n    updateType = \"A\"\n    altitudeChange = \"-\"\n  },\n (TrackStruct){\n    timestamp = 1589402860\n    latitude = 28.9513\n    longitude = -79.12343\n    groundspeed = 449\n    altitude = 300\n    altitudeStatus = \"-\"\n    updateType = \"A\"\n    altitudeChange = \"-\"\n  },\n (TrackStruct){\n    timestamp = 1589402891\n    latitude = 28.88967\n    longitude = -79.13867\n    groundspeed = 449\n    altitude = 300\n    altitudeStatus = \"-\"\n    updateType = \"A\"\n    altitudeChange = \"-\"\n  },\n (TrackStruct){\n    timestamp = 1589402921\n    latitude = 28.82775\n    longitude = -79.15418\n    groundspeed = 448\n    altitude = 300\n    altitudeStatus = \"-\"\n    updateType = \"A\"\n    altitudeChange = \"-\"\n  },\n (TrackStruct){\n    timestamp = 1589402951\n    latitude = 28.76697\n    longitude = -79.16943\n    groundspeed = 446\n    altitude = 300\n    altitudeStatus = \"-\"\n    updateType = \"A\"\n    altitudeChange = \"-\"\n  },\n (TrackStruct){\n    timestamp = 1589402981\n    latitude = 28.70481\n    longitude = -79.18498\n    groundspeed = 445\n    altitude = 300\n    altitudeStatus = \"-\"\n    updateType = \"A\"\n    altitudeChange = \"-\"\n  },\n (TrackStruct){\n    timestamp = 1589403011\n    latitude = 28.64415\n    longitude = -79.20018\n    groundspeed = 443\n    altitude = 300\n    altitudeStatus = \"-\"\n    updateType = \"A\"\n    altitudeChange = \"-\"\n  },\n (TrackStruct){\n    timestamp = 1589403041\n    latitude = 28.58551\n    longitude = -79.2147\n    groundspeed = 441\n    altitude = 300\n    altitudeStatus = \"-\"\n    updateType = \"A\"\n    altitudeChange = \"-\"\n  },\n (TrackStruct){\n    timestamp = 1589403071\n    latitude = 28.52614\n    longitude = -79.22949\n    groundspeed = 439\n    altitude = 300\n    altitudeStatus = \"-\"\n    updateType = \"A\"\n    altitudeChange = \"-\"\n  },\n (TrackStruct){\n    timestamp = 1589403101\n    latitude = 28.46677\n    longitude = -79.24423\n    groundspeed = 438\n    altitude = 300\n    altitudeStatus = \"-\"\n    updateType = \"A\"\n    altitudeChange = \"-\"\n  },\n (TrackStruct){\n    timestamp = 1589403131\n    latitude = 28.40584\n    longitude = -79.25928\n    groundspeed = 436\n    altitude = 300\n    altitudeStatus = \"-\"\n    updateType = \"A\"\n    altitudeChange = \"-\"\n  },\n (TrackStruct){\n    timestamp = 1589403161\n    latitude = 28.34547\n    longitude = -79.27417\n    groundspeed = 435\n    altitude = 300\n    altitudeStatus = \"-\"\n    updateType = \"A\"\n    altitudeChange = \"-\"\n  },\n (TrackStruct){\n    timestamp = 1589403191\n    latitude = 28.28831\n    longitude = -79.28838\n    groundspeed = 433\n    altitude = 300\n    altitudeStatus = \"-\"\n    updateType = \"A\"\n    altitudeChange = \"-\"\n  },\n (TrackStruct){\n    timestamp = 1589403221\n    latitude = 28.22937\n    longitude = -79.30301\n    groundspeed = 432\n    altitude = 300\n    altitudeStatus = \"-\"\n    updateType = \"A\"\n    altitudeChange = \"-\"\n  },\n (TrackStruct){\n    timestamp = 1589403251\n    latitude = 28.17091\n    longitude = -79.31749\n    groundspeed = 432\n    altitude = 300\n    altitudeStatus = \"-\"\n    updateType = \"A\"\n    altitudeChange = \"-\"\n  },\n (TrackStruct){\n    timestamp = 1589403282\n    latitude = 28.11003\n    longitude = -79.33243\n    groundspeed = 433\n    altitude = 300\n    altitudeStatus = \"-\"\n    updateType = \"A\"\n    altitudeChange = \"-\"\n  },\n (TrackStruct){\n    timestamp = 1589403312\n    latitude = 28.05168\n    longitude = -79.34676\n    groundspeed = 432\n    altitude = 300\n    altitudeStatus = \"-\"\n    updateType = \"A\"\n    altitudeChange = \"-\"\n  },\n (TrackStruct){\n    timestamp = 1589403342\n    latitude = 27.99447\n    longitude = -79.36076\n    groundspeed = 433\n    altitude = 300\n    altitudeStatus = \"-\"\n    updateType = \"A\"\n    altitudeChange = \"-\"\n  },\n (TrackStruct){\n    timestamp = 1589403372\n    latitude = 27.93475\n    longitude = -79.37539\n    groundspeed = 435\n    altitude = 300\n    altitudeStatus = \"-\"\n    updateType = \"A\"\n    altitudeChange = \"-\"\n  },\n (TrackStruct){\n    timestamp = 1589403402\n    latitude = 27.87575\n    longitude = -79.38995\n    groundspeed = 437\n    altitude = 300\n    altitudeStatus = \"-\"\n    updateType = \"A\"\n    altitudeChange = \"-\"\n  },\n (TrackStruct){\n    timestamp = 1589403432\n    latitude = 27.81377\n    longitude = -79.40514\n    groundspeed = 437\n    altitude = 300\n    altitudeStatus = \"-\"\n    updateType = \"A\"\n    altitudeChange = \"-\"\n  },\n (TrackStruct){\n    timestamp = 1589403463\n    latitude = 27.7544\n    longitude = -79.41969\n    groundspeed = 437\n    altitude = 300\n    altitudeStatus = \"-\"\n    updateType = \"A\"\n    altitudeChange = \"-\"\n  },\n (TrackStruct){\n    timestamp = 1589403496\n    latitude = 27.68904\n    longitude = -79.43559\n    groundspeed = 437\n    altitude = 300\n    altitudeStatus = \"-\"\n    updateType = \"A\"\n    altitudeChange = \"-\"\n  },\n (TrackStruct){\n    timestamp = 1589403526\n    latitude = 27.63002\n    longitude = -79.45002\n    groundspeed = 437\n    altitude = 300\n    altitudeStatus = \"-\"\n    updateType = \"A\"\n    altitudeChange = \"-\"\n  },\n (TrackStruct){\n    timestamp = 1589403556\n    latitude = 27.57103\n    longitude = -79.46448\n    groundspeed = 437\n    altitude = 300\n    altitudeStatus = \"-\"\n    updateType = \"A\"\n    altitudeChange = \"-\"\n  },\n (TrackStruct){\n    timestamp = 1589403586\n    latitude = 27.51279\n    longitude = -79.47874\n    groundspeed = 435\n    altitude = 300\n    altitudeStatus = \"-\"\n    updateType = \"A\"\n    altitudeChange = \"-\"\n  },\n (TrackStruct){\n    timestamp = 1589403616\n    latitude = 27.45058\n    longitude = -79.49391\n    groundspeed = 433\n    altitude = 300\n    altitudeStatus = \"-\"\n    updateType = \"A\"\n    altitudeChange = \"-\"\n  },\n (TrackStruct){\n    timestamp = 1589403646\n    latitude = 27.39308\n    longitude = -79.5079\n    groundspeed = 433\n    altitude = 300\n    altitudeStatus = \"-\"\n    updateType = \"A\"\n    altitudeChange = \"-\"\n  },\n (TrackStruct){\n    timestamp = 1589403676\n    latitude = 27.33426\n    longitude = -79.52205\n    groundspeed = 433\n    altitude = 300\n    altitudeStatus = \"-\"\n    updateType = \"A\"\n    altitudeChange = \"-\"\n  },\n (TrackStruct){\n    timestamp = 1589403707\n    latitude = 27.2742\n    longitude = -79.53661\n    groundspeed = 432\n    altitude = 300\n    altitudeStatus = \"-\"\n    updateType = \"A\"\n    altitudeChange = \"-\"\n  },\n (TrackStruct){\n    timestamp = 1589403737\n    latitude = 27.2136\n    longitude = -79.55132\n    groundspeed = 431\n    altitude = 300\n    altitudeStatus = \"-\"\n    updateType = \"A\"\n    altitudeChange = \"-\"\n  },\n (TrackStruct){\n    timestamp = 1589403767\n    latitude = 27.15588\n    longitude = -79.56531\n    groundspeed = 432\n    altitude = 300\n    altitudeStatus = \"-\"\n    updateType = \"A\"\n    altitudeChange = \"-\"\n  },\n (TrackStruct){\n    timestamp = 1589403798\n    latitude = 27.0954\n    longitude = -79.58\n    groundspeed = 437\n    altitude = 286\n    altitudeStatus = \"-\"\n    updateType = \"A\"\n    altitudeChange = \"-\"\n  },\n (TrackStruct){\n    timestamp = 1589403828\n    latitude = 27.03433\n    longitude = -79.5947\n    groundspeed = 431\n    altitude = 273\n    altitudeStatus = \"-\"\n    updateType = \"A\"\n    altitudeChange = \"-\"\n  },\n (TrackStruct){\n    timestamp = 1589403858\n    latitude = 26.97995\n    longitude = -79.60787\n    groundspeed = 421\n    altitude = 262\n    altitudeStatus = \"-\"\n    updateType = \"A\"\n    altitudeChange = \"-\"\n  },\n (TrackStruct){\n    timestamp = 1589403888\n    latitude = 26.92251\n    longitude = -79.62162\n    groundspeed = 413\n    altitude = 250\n    altitudeStatus = \"-\"\n    updateType = \"A\"\n    altitudeChange = \"-\"\n  },\n (TrackStruct){\n    timestamp = 1589403918\n    latitude = 26.86544\n    longitude = -79.6353\n    groundspeed = 406\n    altitude = 237\n    altitudeStatus = \"-\"\n    updateType = \"A\"\n    altitudeChange = \"-\"\n  },\n (TrackStruct){\n    timestamp = 1589403948\n    latitude = 26.80971\n    longitude = -79.64871\n    groundspeed = 399\n    altitude = 226\n    altitudeStatus = \"-\"\n    updateType = \"A\"\n    altitudeChange = \"-\"\n  },\n (TrackStruct){\n    timestamp = 1589403978\n    latitude = 26.75599\n    longitude = -79.66187\n    groundspeed = 396\n    altitude = 215\n    altitudeStatus = \"-\"\n    updateType = \"A\"\n    altitudeChange = \"-\"\n  },\n (TrackStruct){\n    timestamp = 1589404008\n    latitude = 26.70383\n    longitude = -79.67446\n    groundspeed = 390\n    altitude = 204\n    altitudeStatus = \"-\"\n    updateType = \"A\"\n    altitudeChange = \"-\"\n  },\n (TrackStruct){\n    timestamp = 1589404038\n    latitude = 26.65288\n    longitude = -79.68643\n    groundspeed = 382\n    altitude = 194\n    altitudeStatus = \"-\"\n    updateType = \"A\"\n    altitudeChange = \"-\"\n  },\n (TrackStruct){\n    timestamp = 1589404068\n    latitude = 26.60102\n    longitude = -79.69868\n    groundspeed = 375\n    altitude = 184\n    altitudeStatus = \"-\"\n    updateType = \"A\"\n    altitudeChange = \"-\"\n  },\n (TrackStruct){\n    timestamp = 1589404098\n    latitude = 26.55028\n    longitude = -79.71088\n    groundspeed = 372\n    altitude = 173\n    altitudeStatus = \"-\"\n    updateType = \"A\"\n    altitudeChange = \"-\"\n  },\n (TrackStruct){\n    timestamp = 1589404128\n    latitude = 26.49953\n    longitude = -79.72307\n    groundspeed = 369\n    altitude = 162\n    altitudeStatus = \"-\"\n    updateType = \"A\"\n    altitudeChange = \"-\"\n  },\n (TrackStruct){\n    timestamp = 1589404145\n    latitude = 26.47314\n    longitude = -79.73454\n    groundspeed = 367\n    altitude = 156\n    altitudeStatus = \"-\"\n    updateType = \"A\"\n    altitudeChange = \"-\"\n  },\n (TrackStruct){\n    timestamp = 1589404161\n    latitude = 26.45348\n    longitude = -79.75587\n    groundspeed = 366\n    altitude = 149\n    altitudeStatus = \"-\"\n    updateType = \"A\"\n    altitudeChange = \"-\"\n  },\n (TrackStruct){\n    timestamp = 1589404202\n    latitude = 26.41534\n    longitude = -79.82189\n    groundspeed = 352\n    altitude = 137\n    altitudeStatus = \"-\"\n    updateType = \"A\"\n    altitudeChange = \"-\"\n  },\n (TrackStruct){\n    timestamp = 1589404231\n    latitude = 26.39062\n    longitude = -79.86371\n    groundspeed = 346\n    altitude = 128\n    altitudeStatus = \"-\"\n    updateType = \"A\"\n    altitudeChange = \"-\"\n  },\n (TrackStruct){\n    timestamp = 1589404248\n    latitude = 26.3731\n    longitude = -79.88703\n    groundspeed = 348\n    altitude = 121\n    altitudeStatus = \"-\"\n    updateType = \"A\"\n    altitudeChange = \"-\"\n  },\n (TrackStruct){\n    timestamp = 1589404288\n    latitude = 26.3275\n    longitude = -79.9358\n    groundspeed = 344\n    altitude = 109\n    altitudeStatus = \"-\"\n    updateType = \"A\"\n    altitudeChange = \"-\"\n  },\n (TrackStruct){\n    timestamp = 1589404319\n    latitude = 26.29177\n    longitude = -79.97366\n    groundspeed = 342\n    altitude = 108\n    altitudeStatus = \"-\"\n    updateType = \"A\"\n    altitudeChange = \"-\"\n  },\n (TrackStruct){\n    timestamp = 1589404337\n    latitude = 26.2695\n    longitude = -79.9969\n    groundspeed = 340\n    altitude = 109\n    altitudeStatus = \"-\"\n    updateType = \"A\"\n    altitudeChange = \"-\"\n  },\n (TrackStruct){\n    timestamp = 1589404353\n    latitude = 26.2495\n    longitude = -80.01147\n    groundspeed = 340\n    altitude = 109\n    altitudeStatus = \"-\"\n    updateType = \"A\"\n    altitudeChange = \"-\"\n  },\n (TrackStruct){\n    timestamp = 1589404391\n    latitude = 26.1909\n    longitude = -80.03115\n    groundspeed = 334\n    altitude = 109\n    altitudeStatus = \"-\"\n    updateType = \"A\"\n    altitudeChange = \"-\"\n  },\n (TrackStruct){\n    timestamp = 1589404421\n    latitude = 26.14765\n    longitude = -80.04327\n    groundspeed = 325\n    altitude = 108\n    altitudeStatus = \"-\"\n    updateType = \"A\"\n    altitudeChange = \"-\"\n  },\n (TrackStruct){\n    timestamp = 1589404451\n    latitude = 26.10649\n    longitude = -80.05473\n    groundspeed = 302\n    altitude = 108\n    altitudeStatus = \"-\"\n    updateType = \"A\"\n    altitudeChange = \"-\"\n  },\n (TrackStruct){\n    timestamp = 1589404481\n    latitude = 26.06456\n    longitude = -80.06655\n    groundspeed = 295\n    altitude = 101\n    altitudeStatus = \"-\"\n    updateType = \"A\"\n    altitudeChange = \"-\"\n  },\n (TrackStruct){\n    timestamp = 1589404511\n    latitude = 26.02455\n    longitude = -80.07784\n    groundspeed = 293\n    altitude = 94\n    altitudeStatus = \"-\"\n    updateType = \"A\"\n    altitudeChange = \"-\"\n  },\n (TrackStruct){\n    timestamp = 1589404541\n    latitude = 25.98634\n    longitude = -80.08875\n    groundspeed = 286\n    altitude = 88\n    altitudeStatus = \"-\"\n    updateType = \"A\"\n    altitudeChange = \"-\"\n  },\n (TrackStruct){\n    timestamp = 1589404557\n    latitude = 25.96706\n    longitude = -80.09919\n    groundspeed = 288\n    altitude = 84\n    altitudeStatus = \"-\"\n    updateType = \"A\"\n    altitudeChange = \"-\"\n  },\n (TrackStruct){\n    timestamp = 1589404574\n    latitude = 25.95092\n    longitude = -80.11711\n    groundspeed = 290\n    altitude = 80\n    altitudeStatus = \"-\"\n    updateType = \"A\"\n    altitudeChange = \"-\"\n  },\n (TrackStruct){\n    timestamp = 1589404599\n    latitude = 25.93444\n    longitude = -80.14632\n    groundspeed = 278\n    altitude = 78\n    altitudeStatus = \"-\"\n    updateType = \"A\"\n    altitudeChange = \"-\"\n  },\n (TrackStruct){\n    timestamp = 1589404616\n    latitude = 25.92206\n    longitude = -80.16919\n    groundspeed = 276\n    altitude = 78\n    altitudeStatus = \"-\"\n    updateType = \"A\"\n    altitudeChange = \"-\"\n  },\n (TrackStruct){\n    timestamp = 1589404645\n    latitude = 25.91652\n    longitude = -80.20864\n    groundspeed = 261\n    altitude = 76\n    altitudeStatus = \"-\"\n    updateType = \"A\"\n    altitudeChange = \"-\"\n  },\n (TrackStruct){\n    timestamp = 1589404675\n    latitude = 25.91354\n    longitude = -80.24803\n    groundspeed = 257\n    altitude = 71\n    altitudeStatus = \"-\"\n    updateType = \"A\"\n    altitudeChange = \"-\"\n  },\n (TrackStruct){\n    timestamp = 1589404705\n    latitude = 25.91158\n    longitude = -80.28534\n    groundspeed = 243\n    altitude = 66\n    altitudeStatus = \"-\"\n    updateType = \"A\"\n    altitudeChange = \"-\"\n  },\n (TrackStruct){\n    timestamp = 1589404734\n    latitude = 25.91009\n    longitude = -80.31914\n    groundspeed = 239\n    altitude = 60\n    altitudeStatus = \"-\"\n    updateType = \"A\"\n    altitudeChange = \"-\"\n  },\n (TrackStruct){\n    timestamp = 1589404755\n    latitude = 25.90869\n    longitude = -80.3465\n    groundspeed = 240\n    altitude = 54\n    altitudeStatus = \"-\"\n    updateType = \"A\"\n    altitudeChange = \"-\"\n  },\n (TrackStruct){\n    timestamp = 1589404785\n    latitude = 25.90739\n    longitude = -80.38279\n    groundspeed = 240\n    altitude = 47\n    altitudeStatus = \"-\"\n    updateType = \"A\"\n    altitudeChange = \"-\"\n  },\n (TrackStruct){\n    timestamp = 1589404815\n    latitude = 25.90677\n    longitude = -80.42013\n    groundspeed = 241\n    altitude = 39\n    altitudeStatus = \"-\"\n    updateType = \"A\"\n    altitudeChange = \"-\"\n  },\n (TrackStruct){\n    timestamp = 1589404845\n    latitude = 25.90688\n    longitude = -80.45705\n    groundspeed = 240\n    altitude = 32\n    altitudeStatus = \"-\"\n    updateType = \"A\"\n    altitudeChange = \"-\"\n  },\n (TrackStruct){\n    timestamp = 1589404864\n    latitude = 25.90384\n    longitude = -80.48004\n    groundspeed = 234\n    altitude = 29\n    altitudeStatus = \"-\"\n    updateType = \"A\"\n    altitudeChange = \"-\"\n  },\n (TrackStruct){\n    timestamp = 1589404881\n    latitude = 25.89301\n    longitude = -80.4936\n    groundspeed = 211\n    altitude = 28\n    altitudeStatus = \"-\"\n    updateType = \"A\"\n    altitudeChange = \"-\"\n  },\n (TrackStruct){\n    timestamp = 1589404901\n    latitude = 25.87462\n    longitude = -80.49778\n    groundspeed = 196\n    altitude = 28\n    altitudeStatus = \"-\"\n    updateType = \"A\"\n    altitudeChange = \"-\"\n  },\n (TrackStruct){\n    timestamp = 1589404917\n    latitude = 25.8604\n    longitude = -80.49786\n    groundspeed = 196\n    altitude = 29\n    altitudeStatus = \"-\"\n    updateType = \"A\"\n    altitudeChange = \"-\"\n  },\n (TrackStruct){\n    timestamp = 1589404936\n    latitude = 25.8419\n    longitude = -80.49797\n    groundspeed = 192\n    altitude = 29\n    altitudeStatus = \"-\"\n    updateType = \"A\"\n    altitudeChange = \"-\"\n  },\n (TrackStruct){\n    timestamp = 1589404952\n    latitude = 25.82954\n    longitude = -80.49206\n    groundspeed = 182\n    altitude = 29\n    altitudeStatus = \"-\"\n    updateType = \"A\"\n    altitudeChange = \"-\"\n  },\n (TrackStruct){\n    timestamp = 1589404977\n    latitude = 25.81894\n    longitude = -80.4733\n    groundspeed = 175\n    altitude = 26\n    altitudeStatus = \"-\"\n    updateType = \"A\"\n    altitudeChange = \"-\"\n  },\n (TrackStruct){\n    timestamp = 1589405007\n    latitude = 25.8073\n    longitude = -80.44973\n    groundspeed = 168\n    altitude = 20\n    altitudeStatus = \"-\"\n    updateType = \"A\"\n    altitudeChange = \"-\"\n  },\n (TrackStruct){\n    timestamp = 1589405023\n    latitude = 25.80162\n    longitude = -80.43864\n    groundspeed = 164\n    altitude = 18\n    altitudeStatus = \"-\"\n    updateType = \"A\"\n    altitudeChange = \"-\"\n  },\n (TrackStruct){\n    timestamp = 1589405041\n    latitude = 25.7964\n    longitude = -80.4248\n    groundspeed = 160\n    altitude = 14\n    altitudeStatus = \"-\"\n    updateType = \"A\"\n    altitudeChange = \"-\"\n  },\n (TrackStruct){\n    timestamp = 1589405066\n    latitude = 25.79636\n    longitude = -80.40463\n    groundspeed = 157\n    altitude = 14\n    altitudeStatus = \"-\"\n    updateType = \"A\"\n    altitudeChange = \"-\"\n  },\n (TrackStruct){\n    timestamp = 1589405094\n    latitude = 25.79727\n    longitude = -80.38259\n    groundspeed = 147\n    altitude = 13\n    altitudeStatus = \"-\"\n    updateType = \"A\"\n    altitudeChange = \"-\"\n  },\n (TrackStruct){\n    timestamp = 1589405110\n    latitude = 25.79778\n    longitude = -80.37003\n    groundspeed = 142\n    altitude = 11\n    altitudeStatus = \"-\"\n    updateType = \"A\"\n    altitudeChange = \"-\"\n  },\n (TrackStruct){\n    timestamp = 1589405126\n    latitude = 25.79819\n    longitude = -80.35995\n    groundspeed = 142\n    altitude = 9\n    altitudeStatus = \"-\"\n    updateType = \"A\"\n    altitudeChange = \"-\"\n  },\n (TrackStruct){\n    timestamp = 1589405142\n    latitude = 25.79869\n    longitude = -80.34846\n    groundspeed = 137\n    altitude = 7\n    altitudeStatus = \"-\"\n    updateType = \"A\"\n    altitudeChange = \"-\"\n  },\n (TrackStruct){\n    timestamp = 1589405158\n    latitude = 25.79925\n    longitude = -80.33571\n    groundspeed = 138\n    altitude = 5\n    altitudeStatus = \"-\"\n    updateType = \"A\"\n    altitudeChange = \"-\"\n  },\n (TrackStruct){\n    timestamp = 1589405174\n    latitude = 25.7997\n    longitude = -80.32516\n    groundspeed = 139\n    altitude = 3\n    altitudeStatus = \"-\"\n    updateType = \"A\"\n    altitudeChange = \"-\"\n  },\n (TrackStruct){\n    timestamp = 1589405190\n    latitude = 25.80018\n    longitude = -80.31363\n    groundspeed = 139\n    altitude = 1\n    altitudeStatus = \"-\"\n    updateType = \"A\"\n    altitudeChange = \"-\"\n  }]"
     },
     "execution_count": 120,
     "metadata": {},
     "output_type": "execute_result"
    }
   ],
   "source": [
    "get_historical_track[0]"
   ]
  },
  {
   "cell_type": "code",
   "execution_count": 130,
   "metadata": {},
   "outputs": [],
   "source": [
    "data = [Client.dict(suds_object) for suds_object in get_historical_track[0]]"
   ]
  },
  {
   "cell_type": "code",
   "execution_count": 131,
   "metadata": {},
   "outputs": [],
   "source": [
    "df = pd.DataFrame(data)"
   ]
  },
  {
   "cell_type": "code",
   "execution_count": 132,
   "metadata": {},
   "outputs": [
    {
     "data": {
      "text/html": "<div>\n<style scoped>\n    .dataframe tbody tr th:only-of-type {\n        vertical-align: middle;\n    }\n\n    .dataframe tbody tr th {\n        vertical-align: top;\n    }\n\n    .dataframe thead th {\n        text-align: right;\n    }\n</style>\n<table border=\"1\" class=\"dataframe\">\n  <thead>\n    <tr style=\"text-align: right;\">\n      <th></th>\n      <th>timestamp</th>\n      <th>latitude</th>\n      <th>longitude</th>\n      <th>groundspeed</th>\n      <th>altitude</th>\n      <th>altitudeStatus</th>\n      <th>updateType</th>\n      <th>altitudeChange</th>\n    </tr>\n  </thead>\n  <tbody>\n    <tr>\n      <th>0</th>\n      <td>1589396232</td>\n      <td>40.61018</td>\n      <td>-73.79260</td>\n      <td>170</td>\n      <td>10</td>\n      <td>-</td>\n      <td>A</td>\n      <td>-</td>\n    </tr>\n    <tr>\n      <th>1</th>\n      <td>1589396248</td>\n      <td>40.59851</td>\n      <td>-73.80048</td>\n      <td>183</td>\n      <td>14</td>\n      <td>-</td>\n      <td>A</td>\n      <td>-</td>\n    </tr>\n    <tr>\n      <th>2</th>\n      <td>1589396264</td>\n      <td>40.58582</td>\n      <td>-73.80909</td>\n      <td>196</td>\n      <td>16</td>\n      <td>-</td>\n      <td>A</td>\n      <td>-</td>\n    </tr>\n    <tr>\n      <th>3</th>\n      <td>1589396281</td>\n      <td>40.57109</td>\n      <td>-73.81738</td>\n      <td>218</td>\n      <td>20</td>\n      <td>-</td>\n      <td>A</td>\n      <td>-</td>\n    </tr>\n    <tr>\n      <th>4</th>\n      <td>1589396297</td>\n      <td>40.55347</td>\n      <td>-73.81714</td>\n      <td>241</td>\n      <td>22</td>\n      <td>-</td>\n      <td>A</td>\n      <td>-</td>\n    </tr>\n  </tbody>\n</table>\n</div>",
      "text/plain": "    timestamp  latitude  longitude  groundspeed  altitude altitudeStatus  \\\n0  1589396232  40.61018  -73.79260          170        10              -   \n1  1589396248  40.59851  -73.80048          183        14              -   \n2  1589396264  40.58582  -73.80909          196        16              -   \n3  1589396281  40.57109  -73.81738          218        20              -   \n4  1589396297  40.55347  -73.81714          241        22              -   \n\n  updateType altitudeChange  \n0          A              -  \n1          A              -  \n2          A              -  \n3          A              -  \n4          A              -  "
     },
     "execution_count": 132,
     "metadata": {},
     "output_type": "execute_result"
    }
   ],
   "source": [
    "df.head()"
   ]
  },
  {
   "cell_type": "code",
   "execution_count": 137,
   "metadata": {},
   "outputs": [
    {
     "data": {
      "text/plain": "(322, 8)"
     },
     "execution_count": 137,
     "metadata": {},
     "output_type": "execute_result"
    }
   ],
   "source": [
    "df.shape"
   ]
  },
  {
   "cell_type": "code",
   "execution_count": 133,
   "metadata": {},
   "outputs": [],
   "source": [
    "df['flight_identifier'] = 'aasjhdfhj'"
   ]
  },
  {
   "cell_type": "code",
   "execution_count": 134,
   "metadata": {},
   "outputs": [
    {
     "data": {
      "text/html": "<div>\n<style scoped>\n    .dataframe tbody tr th:only-of-type {\n        vertical-align: middle;\n    }\n\n    .dataframe tbody tr th {\n        vertical-align: top;\n    }\n\n    .dataframe thead th {\n        text-align: right;\n    }\n</style>\n<table border=\"1\" class=\"dataframe\">\n  <thead>\n    <tr style=\"text-align: right;\">\n      <th></th>\n      <th>timestamp</th>\n      <th>latitude</th>\n      <th>longitude</th>\n      <th>groundspeed</th>\n      <th>altitude</th>\n      <th>altitudeStatus</th>\n      <th>updateType</th>\n      <th>altitudeChange</th>\n      <th>flight_identifier</th>\n    </tr>\n  </thead>\n  <tbody>\n    <tr>\n      <th>0</th>\n      <td>1589396232</td>\n      <td>40.61018</td>\n      <td>-73.79260</td>\n      <td>170</td>\n      <td>10</td>\n      <td>-</td>\n      <td>A</td>\n      <td>-</td>\n      <td>aasjhdfhj</td>\n    </tr>\n    <tr>\n      <th>1</th>\n      <td>1589396248</td>\n      <td>40.59851</td>\n      <td>-73.80048</td>\n      <td>183</td>\n      <td>14</td>\n      <td>-</td>\n      <td>A</td>\n      <td>-</td>\n      <td>aasjhdfhj</td>\n    </tr>\n    <tr>\n      <th>2</th>\n      <td>1589396264</td>\n      <td>40.58582</td>\n      <td>-73.80909</td>\n      <td>196</td>\n      <td>16</td>\n      <td>-</td>\n      <td>A</td>\n      <td>-</td>\n      <td>aasjhdfhj</td>\n    </tr>\n    <tr>\n      <th>3</th>\n      <td>1589396281</td>\n      <td>40.57109</td>\n      <td>-73.81738</td>\n      <td>218</td>\n      <td>20</td>\n      <td>-</td>\n      <td>A</td>\n      <td>-</td>\n      <td>aasjhdfhj</td>\n    </tr>\n    <tr>\n      <th>4</th>\n      <td>1589396297</td>\n      <td>40.55347</td>\n      <td>-73.81714</td>\n      <td>241</td>\n      <td>22</td>\n      <td>-</td>\n      <td>A</td>\n      <td>-</td>\n      <td>aasjhdfhj</td>\n    </tr>\n  </tbody>\n</table>\n</div>",
      "text/plain": "    timestamp  latitude  longitude  groundspeed  altitude altitudeStatus  \\\n0  1589396232  40.61018  -73.79260          170        10              -   \n1  1589396248  40.59851  -73.80048          183        14              -   \n2  1589396264  40.58582  -73.80909          196        16              -   \n3  1589396281  40.57109  -73.81738          218        20              -   \n4  1589396297  40.55347  -73.81714          241        22              -   \n\n  updateType altitudeChange flight_identifier  \n0          A              -         aasjhdfhj  \n1          A              -         aasjhdfhj  \n2          A              -         aasjhdfhj  \n3          A              -         aasjhdfhj  \n4          A              -         aasjhdfhj  "
     },
     "execution_count": 134,
     "metadata": {},
     "output_type": "execute_result"
    }
   ],
   "source": [
    "df.head()"
   ]
  },
  {
   "cell_type": "markdown",
   "metadata": {},
   "source": [
    "# IAH - LAX\n"
   ]
  },
  {
   "cell_type": "markdown",
   "metadata": {},
   "source": [
    "From [here](https://www.flights.com/flights/houston-iah-to-los-angeles-lax/): \"With 6 different airlines operating between houstan and Los Angeles, there are, on average, 2,642 flights per month. This equates to about 629 flights per week, and 90 flights per day from IAH to LAX.\" 5 out of 6 of these airliners are: United Airlines (Flight UA 302), Air China (CA 7398), Azul (AD 7026), Asiana Airlines (OZ 9512), Air New Zealand (NZ 9653).  "
   ]
  },
  {
   "cell_type": "markdown",
   "metadata": {},
   "source": [
    "# Generating a time range every 8 hours"
   ]
  },
  {
   "cell_type": "code",
   "execution_count": 36,
   "metadata": {},
   "outputs": [],
   "source": [
    "def make_unix_list(start_date, end_date, frequency):\n",
    "    created_range = pd.date_range(start = start_date, end = end_date, freq = frequency) #creates a daterange series\n",
    "    list_created_range = list(created_range) #converts such range into a list\n",
    "    unix_floats = [date.to_pydatetime().timestamp() for date in list_created_range] #transforms the daterange list into unix epoch tiimestamps represented as floats\n",
    "    return [int(i) for i in unix_floats] #return the above list as a list of integers"
   ]
  },
  {
   "cell_type": "code",
   "execution_count": 37,
   "metadata": {},
   "outputs": [],
   "source": [
    "test_list = make_unix_list('3/1/2020', '12/31/2020', '8H')"
   ]
  },
  {
   "cell_type": "code",
   "execution_count": 39,
   "metadata": {},
   "outputs": [
    {
     "data": {
      "text/plain": "916"
     },
     "execution_count": 39,
     "metadata": {},
     "output_type": "execute_result"
    }
   ],
   "source": [
    "len(test_list)"
   ]
  },
  {
   "cell_type": "code",
   "execution_count": null,
   "metadata": {},
   "outputs": [],
   "source": []
  }
 ]
}