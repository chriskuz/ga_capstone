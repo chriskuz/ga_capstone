{
 "nbformat": 4,
 "nbformat_minor": 2,
 "metadata": {
  "language_info": {
   "name": "python",
   "codemirror_mode": {
    "name": "ipython",
    "version": 3
   },
   "version": "3.7.6-final"
  },
  "orig_nbformat": 2,
  "file_extension": ".py",
  "mimetype": "text/x-python",
  "name": "python",
  "npconvert_exporter": "python",
  "pygments_lexer": "ipython3",
  "version": 3,
  "kernelspec": {
   "name": "python37664bitdsitestconda48790fb83d3f473c989768c98a666b4b",
   "display_name": "Python 3.7.6 64-bit ('DSI_test': conda)"
  }
 },
 "cells": [
  {
   "cell_type": "markdown",
   "metadata": {},
   "source": [
    "# Notes\n",
    "\n",
    "## Flight paths:\n",
    "- **Houston, TX** to **Los Angeles, CA** (IAH - LAX)\n",
    "- **New York City, NY** to **Miami, FL** (JFK - MIA)\n",
    "- **Portland, WA** to **Chicago, IL** (PDX - ORD)\n",
    "\n",
    "## Number of Total Routes\n",
    "- at least 1,000 per route for now (All times in GMC)\n",
    "\n",
    "    -__Times:__\n",
    "\n",
    "        - 0000 hours to 0600 hours\n",
    "\n",
    "        - 0601 hours to 1200 hours\n",
    "\n",
    "        - 1201 hours to 1800 hours\n",
    "\n",
    "        - 1801 hours to 2399 hours\n",
    "\n",
    "    - __Times of the Year:__\n",
    "    \n",
    "        - Try to get every month\n",
    "\n",
    "    - __Times of the Week:__\n",
    "        - Try to get every day. \n",
    "    \n",
    "## Notes about Data considerations\n",
    "\n",
    "- see what are typical flight times for your paths. you may be limited here. \n",
    "\n",
    "- consistently work with other api to see what you can grab\n",
    "\n",
    "- grab future flights too!\n",
    "\n",
    "- do some division on how many flights you can grab from how many time zonestuff\n",
    "\n",
    "\n",
    "## Features to Scrape\n",
    "- want aircraft type\n",
    "- want airline flight info\n",
    "- want airline flight \n",
    "- want aircraft type struct\n",
    "- want flight struct\n",
    "\n",
    "1 query will generate 15 results. Ex; If you request to see all flight from airport Alpha to Airport Bravo and the search results come back with 5000 flights. To find the pricing estimate you would do the following math. 5000/15 = 333 * $0.0079 = $2.63 (Class 2)"
   ]
  },
  {
   "cell_type": "code",
   "execution_count": 618,
   "metadata": {},
   "outputs": [],
   "source": [
    "import sys\n",
    "from suds import null, WebFault\n",
    "from suds.client import Client\n",
    "import logging\n",
    "import json\n",
    "import pandas as pd\n",
    "import datetime\n",
    "import numpy as np\n",
    "import time"
   ]
  },
  {
   "cell_type": "code",
   "execution_count": 2,
   "metadata": {},
   "outputs": [],
   "source": [
    "with open('/Users/ChristopherKuzemka/Documents/GA/dsi_11/projects/capstone/env.json') as f:\n",
    "    information = json.load(f)"
   ]
  },
  {
   "cell_type": "code",
   "execution_count": 3,
   "metadata": {},
   "outputs": [
    {
     "data": {
      "text/plain": "dict_keys(['FA_API_KEY', 'FA_USERNAME', 'x-rapidapi-host', 'x-rapidapi-key'])"
     },
     "execution_count": 3,
     "metadata": {},
     "output_type": "execute_result"
    }
   ],
   "source": [
    "information.keys()"
   ]
  },
  {
   "cell_type": "code",
   "execution_count": 4,
   "metadata": {},
   "outputs": [],
   "source": [
    "username = information.get('FA_USERNAME')\n",
    "apiKey = information.get('FA_API_KEY')\n",
    "url = 'http://flightxml.flightaware.com/soap/FlightXML2/wsdl'"
   ]
  },
  {
   "cell_type": "code",
   "execution_count": 5,
   "metadata": {},
   "outputs": [],
   "source": [
    "logging.basicConfig(level=logging.INFO)\n",
    "api = Client(url, username=username, password=apiKey)"
   ]
  },
  {
   "cell_type": "markdown",
   "metadata": {},
   "source": [
    "# JFK - MIA\n",
    "\n",
    "From [here](https://www.flights.com/flights/new-york-jfk-to-miami-mia/): \"with 3 differnt airlines operating flights between New York and Miami, there are, on average, 2,197 flights per month.. This equates to about 523 flights per week, and 75 flights per day from JFK to MIA. The three airlines are:\n",
    "- American Airlines (Flight AA 2572)\n",
    "\n",
    "- British Airways (Flight BA 1687) \n",
    "\n",
    "- Malaysia Airlines (Flight MH 9446)."
   ]
  },
  {
   "cell_type": "code",
   "execution_count": 7,
   "metadata": {},
   "outputs": [],
   "source": [
    "def make_unix_lists(start_date, end_date, frequency):\n",
    "    created_range = pd.date_range(start = start_date, end = end_date, freq = frequency) #creates a daterange series\n",
    "    list_created_range = list(created_range) #converts such range into a list\n",
    "    unix_floats = [date.to_pydatetime().timestamp() for date in list_created_range] #transforms the daterange list into unix epoch tiimestamps represented as floats\n",
    "    unix_ints = [int(i) for i in unix_floats] #makes the above list as a list of integers\n",
    "    #return unix_ints\n",
    "\n",
    "    #We are doing the below to accomodate a for loop format into another function\n",
    "    start_ints = unix_ints[:-1] #creates a list of all the start dates without last element\n",
    "    end_ints = unix_ints[1:] #creates a list of all the end dates without first element \n",
    "\n",
    "    return start_ints, end_ints"
   ]
  },
  {
   "cell_type": "code",
   "execution_count": 715,
   "metadata": {},
   "outputs": [],
   "source": [
    "def get_flights(start_input, end_input, frequency_input, destination_input):\n",
    "    start_time = time.time() #epoch time in seconds\n",
    "    print(f'This search began at this epoch time: {start_time}')\n",
    "\n",
    "    ## Unix Epoch Time Function\n",
    "    start_list, end_list = make_unix_lists(start_input, end_input, frequency_input) #utilizes the unix epoch creation list function\n",
    "    \n",
    "    ## Create an empty list to add searches to\n",
    "    get_flights_list = []\n",
    "    schedules = []\n",
    "    modified_schedules = []    \n",
    "\n",
    "\n",
    "    ## Skeleton df for get_flights_df\n",
    "    get_flights_cols = ['faFlightID', 'ident', 'prefix', 'type', 'suffix', 'origin', 'destination', 'timeout', 'timestamp', 'departureTime', 'firstPositionTime', 'arrivalTime', 'longitude', 'latitude', 'lowLongitude', 'lowLatitude', 'highLongitude', 'highLatitude', 'groundspeed', 'altitude', 'heading', 'altitudeStatus', 'updateType', 'altitudeChange', 'waypoints']\n",
    "    get_flights_df = pd.DataFrame(columns = get_flights_cols)\n",
    "\n",
    "    ## Creates the sketelton dataframe for schedules_df\n",
    "    schedules_cols = ['ident', 'actual_ident', 'departuretime', 'arrival_time', 'origin', 'destination', 'aircrafttype', 'meal_service', 'seats_cabin_first', 'seats_cabin_business', 'seats_cabin_coach'] #column names for the scheduling df\n",
    "    schedules_df = pd.DataFrame(columns = column_names) #creates the empty schedules dataframe skeleton\n",
    "\n",
    "    ## THE POINT OF THE BELOW TO GET FLIGHT ORIGIN-DESTINATION COMBINATIONS\n",
    "    print(\"Grabbing In-Flight Information...\")\n",
    "    #Grabbing flights from the list of destinations\n",
    "    for destination in destination_input: #for a destination labeled in the destination input\n",
    "        add_dest = '{= dest ' + destination + '}' #make it into the appropriate formatconducts a search on the current flights enroute \n",
    "        search_flight = api.service.SearchBirdseyeInFlight(query = add_dest, howMany = 15) #conducts a search\n",
    "        search_dict = Client.dict(search_flight)\n",
    "        print(\"Destination Query Searched!\")\n",
    "        for retrieved_query in range(len(search_dict['aircraft'])):\n",
    "            get_flights_list.append(search_dict['aircraft'][retrieved_query])\n",
    "            \n",
    "    \n",
    "    print(\"Creating In-Flight Dataframe\")\n",
    "    print(f'The elapsed time is: {time.time() - start_time} seconds.')\n",
    "    ## Creates the dataframe and concats to the get_flights_df\n",
    "    for list_item in range(len(get_flights_list)):\n",
    "        preliminary_flight_df = pd.DataFrame(get_flights_list[list_item]).T #uses a transposed version to cleanly extract the data\n",
    "        preliminary_flight_df.rename(columns = {0:get_flights_cols[0], #renames the columns to match the get_flights_df so concatenation is simple\n",
    "                            1: get_flights_cols[1],\n",
    "                            2: get_flights_cols[2],\n",
    "                            3: get_flights_cols[3],\n",
    "                            4: get_flights_cols[4],\n",
    "                            5: get_flights_cols[5],\n",
    "                            6: get_flights_cols[6],\n",
    "                            7: get_flights_cols[7],\n",
    "                            8: get_flights_cols[8],\n",
    "                            9: get_flights_cols[9],\n",
    "                            10: get_flights_cols[10],\n",
    "                            11: get_flights_cols[11],\n",
    "                            12: get_flights_cols[12],\n",
    "                            13: get_flights_cols[13],\n",
    "                            14: get_flights_cols[14],\n",
    "                            15: get_flights_cols[15],\n",
    "                            16: get_flights_cols[16],\n",
    "                            17: get_flights_cols[17],\n",
    "                            18: get_flights_cols[18],\n",
    "                            19: get_flights_cols[19],\n",
    "                            20: get_flights_cols[20],\n",
    "                            21: get_flights_cols[21],\n",
    "                            22: get_flights_cols[22],\n",
    "                            23: get_flights_cols[23],\n",
    "                            24: get_flights_cols[24]}, inplace = True) #very inefficient way to rename my columns\n",
    "        get_flights_df = pd.concat([get_flights_df, preliminary_flight_df]) #overwrites the get_flights_df to create a larger dataframe\n",
    "        print(\"Conactenated In-Flight Dataframe!\")\n",
    "\n",
    "    print('Cleaning The In-Flight Dataframe...')\n",
    "    ## Cleans the get_flights_df        \n",
    "    get_flights_df.drop(index = 0, inplace = True) #drops the 0 index rows in the repetative 0,1 pattern of the dataframe\n",
    "    get_flights_df.reset_index(inplace = True) #resets the index by creating a new index row\n",
    "    get_flights_df.drop(columns = 'index', inplace = True) #drops the extra index row\n",
    "\n",
    "\n",
    "    \n",
    "    ## Makes a unique combination \n",
    "    unique_orig_dest_combs = get_flights_df.groupby(['origin', 'destination']).size().reset_index()\n",
    "\n",
    "    print(\"Grabbing Airline Schedule Information...\")\n",
    "    print(f'The elapsed time so far is: {time.time() - start_time} seconds.')\n",
    "    ## Gets airline schedule and flight data\n",
    "    for index, origin_destination_combination in unique_orig_dest_combs.iterrows():\n",
    "        print(f'Searching Airline Schedules For Origin-Destination Combination: {origin_destination_combination[\"origin\"], origin_destination_combination[\"destination\"]}')\n",
    "        print(f'The elapsed time so far is: {time.time() - start_time} seconds.') \n",
    "        for time_epoch in range(len(start_list)): #for the entirity of the unix epoch time list\n",
    "            airline_flight_schedules = api.service.AirlineFlightSchedules(startDate = start_list[time_epoch], endDate = end_list[time_epoch], origin = origin_destination_combination[\"origin\"], destination = origin_destination_combination[\"destination\"], howMany = 15) #gets the flight schedules information\n",
    "            airline_flight_dict = Client.dict(airline_flight_schedules) #converts the above variable to a dictionary\n",
    "            schedules.append(airline_flight_dict) #appends results to the instantiated output list\n",
    "            print(\"Airline Shcedule Searched!\")\n",
    "\n",
    "    print(\"Cleaning Dirty Schedules Scrape...\")\n",
    "    ## Cleans the dirty collection for schedules\n",
    "    for item in range(len(schedules)):\n",
    "        try: #try the below...we'll get some errors for empty stuff\n",
    "            modified_schedules.append(schedules[item]['data']) #filters the output list to only show meaningful information where actual flights were flows in a timeframes studied\n",
    "        except: #when an error occurs...\n",
    "            continue #..move on and ignore any issues with with non existent flight data\n",
    "\n",
    "    \n",
    "    print('Making The Schedules Dataframe...')\n",
    "    print(f'The elapsed time so far is: {time.time() - start_time} seconds.')\n",
    "    ## Creates a dataframe out of the modified_schedules list <-- FIX THIS LATER\n",
    "    for l in range(len(modified_schedules)):\n",
    "        for m in range(len(modified_schedules[l])):\n",
    "            sched_df = pd.DataFrame(modified_schedules[l][m]).T #uses a transposed version to cleanly extract the data\n",
    "            sched_df.rename(columns = {0:schedules_cols[0], #renames the columns to match the schedules_df so concatenation is simple\n",
    "                        1: schedules_cols[1],\n",
    "                        2: schedules_cols[2],\n",
    "                        3: schedules_cols[3],\n",
    "                        4: schedules_cols[4],\n",
    "                        5: schedules_cols[5],\n",
    "                        6: schedules_cols[6],\n",
    "                        7: schedules_cols[7],\n",
    "                        8: schedules_cols[8],\n",
    "                        9: schedules_cols[9],\n",
    "                        10: schedules_cols[10]}, inplace = True) #very inefficient way to rename my columns\n",
    "            schedules_df = pd.concat([schedules_df, sched_df]) #overwrites the schedules_df to create a larger dataframe\n",
    "            print(\"Schedules Dataframe Concatenated!\")\n",
    "\n",
    "    print(\"Cleaning Schedules Dataframe...\")\n",
    "    ## Cleans the schedules_df\n",
    "    schedules_df.drop(index = 0, inplace = True) #drops the 0 index rows in the repetative 0,1 pattern of the dataframe\n",
    "    schedules_df.reset_index(inplace = True) #resets the index by creating a new index row\n",
    "    schedules_df.drop(columns = 'index', inplace = True) #drops the extra 'index row\n",
    "    \n",
    "\n",
    "    print(f'The elapsed time for this search is: {time.time() - start_time} seconds.')\n",
    "    print(f'The current epoch time that this search has finished is: {time.time()}')\n",
    "    return get_flights_df, schedules_df, unique_orig_dest_combs"
   ]
  },
  {
   "cell_type": "code",
   "execution_count": 716,
   "metadata": {},
   "outputs": [
    {
     "name": "stdout",
     "output_type": "stream",
     "text": "nated!\nSchedules Dataframe Concatenated!\nSchedules Dataframe Concatenated!\nSchedules Dataframe Concatenated!\nSchedules Dataframe Concatenated!\nSchedules Dataframe Concatenated!\nSchedules Dataframe Concatenated!\nSchedules Dataframe Concatenated!\nSchedules Dataframe Concatenated!\nSchedules Dataframe Concatenated!\nSchedules Dataframe Concatenated!\nSchedules Dataframe Concatenated!\nSchedules Dataframe Concatenated!\nSchedules Dataframe Concatenated!\nSchedules Dataframe Concatenated!\nSchedules Dataframe Concatenated!\nSchedules Dataframe Concatenated!\nSchedules Dataframe Concatenated!\nSchedules Dataframe Concatenated!\nSchedules Dataframe Concatenated!\nSchedules Dataframe Concatenated!\nSchedules Dataframe Concatenated!\nSchedules Dataframe Concatenated!\nSchedules Dataframe Concatenated!\nSchedules Dataframe Concatenated!\nSchedules Dataframe Concatenated!\nSchedules Dataframe Concatenated!\nSchedules Dataframe Concatenated!\nSchedules Dataframe Concatenated!\nSchedules Dataframe Concatenated!\nSchedules Dataframe Concatenated!\nSchedules Dataframe Concatenated!\nSchedules Dataframe Concatenated!\nSchedules Dataframe Concatenated!\nSchedules Dataframe Concatenated!\nSchedules Dataframe Concatenated!\nSchedules Dataframe Concatenated!\nSchedules Dataframe Concatenated!\nSchedules Dataframe Concatenated!\nSchedules Dataframe Concatenated!\nSchedules Dataframe Concatenated!\nSchedules Dataframe Concatenated!\nSchedules Dataframe Concatenated!\nSchedules Dataframe Concatenated!\nSchedules Dataframe Concatenated!\nSchedules Dataframe Concatenated!\nSchedules Dataframe Concatenated!\nSchedules Dataframe Concatenated!\nSchedules Dataframe Concatenated!\nSchedules Dataframe Concatenated!\nSchedules Dataframe Concatenated!\nSchedules Dataframe Concatenated!\nSchedules Dataframe Concatenated!\nSchedules Dataframe Concatenated!\nSchedules Dataframe Concatenated!\nSchedules Dataframe Concatenated!\nSchedules Dataframe Concatenated!\nSchedules Dataframe Concatenated!\nSchedules Dataframe Concatenated!\nSchedules Dataframe Concatenated!\nSchedules Dataframe Concatenated!\nSchedules Dataframe Concatenated!\nSchedules Dataframe Concatenated!\nSchedules Dataframe Concatenated!\nSchedules Dataframe Concatenated!\nSchedules Dataframe Concatenated!\nSchedules Dataframe Concatenated!\nSchedules Dataframe Concatenated!\nSchedules Dataframe Concatenated!\nSchedules Dataframe Concatenated!\nSchedules Dataframe Concatenated!\nSchedules Dataframe Concatenated!\nSchedules Dataframe Concatenated!\nSchedules Dataframe Concatenated!\nSchedules Dataframe Concatenated!\nSchedules Dataframe Concatenated!\nSchedules Dataframe Concatenated!\nSchedules Dataframe Concatenated!\nSchedules Dataframe Concatenated!\nSchedules Dataframe Concatenated!\nSchedules Dataframe Concatenated!\nSchedules Dataframe Concatenated!\nSchedules Dataframe Concatenated!\nSchedules Dataframe Concatenated!\nSchedules Dataframe Concatenated!\nSchedules Dataframe Concatenated!\nSchedules Dataframe Concatenated!\nSchedules Dataframe Concatenated!\nSchedules Dataframe Concatenated!\nSchedules Dataframe Concatenated!\nSchedules Dataframe Concatenated!\nSchedules Dataframe Concatenated!\nSchedules Dataframe Concatenated!\nSchedules Dataframe Concatenated!\nSchedules Dataframe Concatenated!\nSchedules Dataframe Concatenated!\nSchedules Dataframe Concatenated!\nSchedules Dataframe Concatenated!\nSchedules Dataframe Concatenated!\nSchedules Dataframe Concatenated!\nSchedules Dataframe Concatenated!\nSchedules Dataframe Concatenated!\nSchedules Dataframe Concatenated!\nSchedules Dataframe Concatenated!\nSchedules Dataframe Concatenated!\nSchedules Dataframe Concatenated!\nSchedules Dataframe Concatenated!\nSchedules Dataframe Concatenated!\nSchedules Dataframe Concatenated!\nSchedules Dataframe Concatenated!\nSchedules Dataframe Concatenated!\nSchedules Dataframe Concatenated!\nSchedules Dataframe Concatenated!\nSchedules Dataframe Concatenated!\nSchedules Dataframe Concatenated!\nSchedules Dataframe Concatenated!\nSchedules Dataframe Concatenated!\nSchedules Dataframe Concatenated!\nSchedules Dataframe Concatenated!\nSchedules Dataframe Concatenated!\nSchedules Dataframe Concatenated!\nSchedules Dataframe Concatenated!\nSchedules Dataframe Concatenated!\nSchedules Dataframe Concatenated!\nSchedules Dataframe Concatenated!\nSchedules Dataframe Concatenated!\nSchedules Dataframe Concatenated!\nSchedules Dataframe Concatenated!\nSchedules Dataframe Concatenated!\nSchedules Dataframe Concatenated!\nSchedules Dataframe Concatenated!\nSchedules Dataframe Concatenated!\nSchedules Dataframe Concatenated!\nSchedules Dataframe Concatenated!\nSchedules Dataframe Concatenated!\nSchedules Dataframe Concatenated!\nSchedules Dataframe Concatenated!\nSchedules Dataframe Concatenated!\nSchedules Dataframe Concatenated!\nSchedules Dataframe Concatenated!\nSchedules Dataframe Concatenated!\nSchedules Dataframe Concatenated!\nSchedules Dataframe Concatenated!\nSchedules Dataframe Concatenated!\nSchedules Dataframe Concatenated!\nSchedules Dataframe Concatenated!\nSchedules Dataframe Concatenated!\nSchedules Dataframe Concatenated!\nSchedules Dataframe Concatenated!\nSchedules Dataframe Concatenated!\nSchedules Dataframe Concatenated!\nSchedules Dataframe Concatenated!\nSchedules Dataframe Concatenated!\nSchedules Dataframe Concatenated!\nSchedules Dataframe Concatenated!\nSchedules Dataframe Concatenated!\nSchedules Dataframe Concatenated!\nSchedules Dataframe Concatenated!\nSchedules Dataframe Concatenated!\nSchedules Dataframe Concatenated!\nSchedules Dataframe Concatenated!\nSchedules Dataframe Concatenated!\nSchedules Dataframe Concatenated!\nSchedules Dataframe Concatenated!\nSchedules Dataframe Concatenated!\nSchedules Dataframe Concatenated!\nSchedules Dataframe Concatenated!\nSchedules Dataframe Concatenated!\nSchedules Dataframe Concatenated!\nSchedules Dataframe Concatenated!\nSchedules Dataframe Concatenated!\nSchedules Dataframe Concatenated!\nSchedules Dataframe Concatenated!\nSchedules Dataframe Concatenated!\nSchedules Dataframe Concatenated!\nSchedules Dataframe Concatenated!\nSchedules Dataframe Concatenated!\nSchedules Dataframe Concatenated!\nSchedules Dataframe Concatenated!\nSchedules Dataframe Concatenated!\nSchedules Dataframe Concatenated!\nSchedules Dataframe Concatenated!\nSchedules Dataframe Concatenated!\nSchedules Dataframe Concatenated!\nSchedules Dataframe Concatenated!\nSchedules Dataframe Concatenated!\nSchedules Dataframe Concatenated!\nSchedules Dataframe Concatenated!\nSchedules Dataframe Concatenated!\nSchedules Dataframe Concatenated!\nSchedules Dataframe Concatenated!\nSchedules Dataframe Concatenated!\nSchedules Dataframe Concatenated!\nSchedules Dataframe Concatenated!\nSchedules Dataframe Concatenated!\nSchedules Dataframe Concatenated!\nSchedules Dataframe Concatenated!\nSchedules Dataframe Concatenated!\nSchedules Dataframe Concatenated!\nSchedules Dataframe Concatenated!\nSchedules Dataframe Concatenated!\nSchedules Dataframe Concatenated!\nSchedules Dataframe Concatenated!\nSchedules Dataframe Concatenated!\nSchedules Dataframe Concatenated!\nSchedules Dataframe Concatenated!\nSchedules Dataframe Concatenated!\nSchedules Dataframe Concatenated!\nSchedules Dataframe Concatenated!\nSchedules Dataframe Concatenated!\nSchedules Dataframe Concatenated!\nSchedules Dataframe Concatenated!\nSchedules Dataframe Concatenated!\nSchedules Dataframe Concatenated!\nSchedules Dataframe Concatenated!\nSchedules Dataframe Concatenated!\nSchedules Dataframe Concatenated!\nSchedules Dataframe Concatenated!\nSchedules Dataframe Concatenated!\nSchedules Dataframe Concatenated!\nSchedules Dataframe Concatenated!\nSchedules Dataframe Concatenated!\nSchedules Dataframe Concatenated!\nSchedules Dataframe Concatenated!\nSchedules Dataframe Concatenated!\nSchedules Dataframe Concatenated!\nSchedules Dataframe Concatenated!\nSchedules Dataframe Concatenated!\nSchedules Dataframe Concatenated!\nSchedules Dataframe Concatenated!\nSchedules Dataframe Concatenated!\nSchedules Dataframe Concatenated!\nSchedules Dataframe Concatenated!\nSchedules Dataframe Concatenated!\nSchedules Dataframe Concatenated!\nSchedules Dataframe Concatenated!\nSchedules Dataframe Concatenated!\nSchedules Dataframe Concatenated!\nSchedules Dataframe Concatenated!\nSchedules Dataframe Concatenated!\nSchedules Dataframe Concatenated!\nSchedules Dataframe Concatenated!\nSchedules Dataframe Concatenated!\nSchedules Dataframe Concatenated!\nSchedules Dataframe Concatenated!\nSchedules Dataframe Concatenated!\nSchedules Dataframe Concatenated!\nSchedules Dataframe Concatenated!\nSchedules Dataframe Concatenated!\nSchedules Dataframe Concatenated!\nSchedules Dataframe Concatenated!\nSchedules Dataframe Concatenated!\nSchedules Dataframe Concatenated!\nSchedules Dataframe Concatenated!\nSchedules Dataframe Concatenated!\nSchedules Dataframe Concatenated!\nSchedules Dataframe Concatenated!\nSchedules Dataframe Concatenated!\nSchedules Dataframe Concatenated!\nSchedules Dataframe Concatenated!\nSchedules Dataframe Concatenated!\nSchedules Dataframe Concatenated!\nSchedules Dataframe Concatenated!\nSchedules Dataframe Concatenated!\nSchedules Dataframe Concatenated!\nSchedules Dataframe Concatenated!\nSchedules Dataframe Concatenated!\nSchedules Dataframe Concatenated!\nSchedules Dataframe Concatenated!\nSchedules Dataframe Concatenated!\nSchedules Dataframe Concatenated!\nSchedules Dataframe Concatenated!\nSchedules Dataframe Concatenated!\nSchedules Dataframe Concatenated!\nSchedules Dataframe Concatenated!\nSchedules Dataframe Concatenated!\nSchedules Dataframe Concatenated!\nSchedules Dataframe Concatenated!\nSchedules Dataframe Concatenated!\nSchedules Dataframe Concatenated!\nSchedules Dataframe Concatenated!\nSchedules Dataframe Concatenated!\nSchedules Dataframe Concatenated!\nSchedules Dataframe Concatenated!\nSchedules Dataframe Concatenated!\nSchedules Dataframe Concatenated!\nSchedules Dataframe Concatenated!\nSchedules Dataframe Concatenated!\nSchedules Dataframe Concatenated!\nSchedules Dataframe Concatenated!\nSchedules Dataframe Concatenated!\nSchedules Dataframe Concatenated!\nSchedules Dataframe Concatenated!\nSchedules Dataframe Concatenated!\nSchedules Dataframe Concatenated!\nSchedules Dataframe Concatenated!\nSchedules Dataframe Concatenated!\nSchedules Dataframe Concatenated!\nSchedules Dataframe Concatenated!\nSchedules Dataframe Concatenated!\nSchedules Dataframe Concatenated!\nSchedules Dataframe Concatenated!\nSchedules Dataframe Concatenated!\nSchedules Dataframe Concatenated!\nSchedules Dataframe Concatenated!\nSchedules Dataframe Concatenated!\nSchedules Dataframe Concatenated!\nSchedules Dataframe Concatenated!\nSchedules Dataframe Concatenated!\nSchedules Dataframe Concatenated!\nSchedules Dataframe Concatenated!\nSchedules Dataframe Concatenated!\nSchedules Dataframe Concatenated!\nSchedules Dataframe Concatenated!\nSchedules Dataframe Concatenated!\nSchedules Dataframe Concatenated!\nSchedules Dataframe Concatenated!\nSchedules Dataframe Concatenated!\nSchedules Dataframe Concatenated!\nSchedules Dataframe Concatenated!\nSchedules Dataframe Concatenated!\nSchedules Dataframe Concatenated!\nSchedules Dataframe Concatenated!\nSchedules Dataframe Concatenated!\nSchedules Dataframe Concatenated!\nSchedules Dataframe Concatenated!\nSchedules Dataframe Concatenated!\nSchedules Dataframe Concatenated!\nSchedules Dataframe Concatenated!\nSchedules Dataframe Concatenated!\nSchedules Dataframe Concatenated!\nSchedules Dataframe Concatenated!\nSchedules Dataframe Concatenated!\nSchedules Dataframe Concatenated!\nSchedules Dataframe Concatenated!\nSchedules Dataframe Concatenated!\nSchedules Dataframe Concatenated!\nSchedules Dataframe Concatenated!\nSchedules Dataframe Concatenated!\nSchedules Dataframe Concatenated!\nSchedules Dataframe Concatenated!\nSchedules Dataframe Concatenated!\nSchedules Dataframe Concatenated!\nSchedules Dataframe Concatenated!\nSchedules Dataframe Concatenated!\nSchedules Dataframe Concatenated!\nSchedules Dataframe Concatenated!\nSchedules Dataframe Concatenated!\nSchedules Dataframe Concatenated!\nSchedules Dataframe Concatenated!\nSchedules Dataframe Concatenated!\nSchedules Dataframe Concatenated!\nSchedules Dataframe Concatenated!\nSchedules Dataframe Concatenated!\nSchedules Dataframe Concatenated!\nSchedules Dataframe Concatenated!\nSchedules Dataframe Concatenated!\nSchedules Dataframe Concatenated!\nSchedules Dataframe Concatenated!\nSchedules Dataframe Concatenated!\nSchedules Dataframe Concatenated!\nSchedules Dataframe Concatenated!\nSchedules Dataframe Concatenated!\nSchedules Dataframe Concatenated!\nSchedules Dataframe Concatenated!\nSchedules Dataframe Concatenated!\nSchedules Dataframe Concatenated!\nSchedules Dataframe Concatenated!\nSchedules Dataframe Concatenated!\nSchedules Dataframe Concatenated!\nSchedules Dataframe Concatenated!\nSchedules Dataframe Concatenated!\nSchedules Dataframe Concatenated!\nSchedules Dataframe Concatenated!\nSchedules Dataframe Concatenated!\nSchedules Dataframe Concatenated!\nSchedules Dataframe Concatenated!\nSchedules Dataframe Concatenated!\nSchedules Dataframe Concatenated!\nSchedules Dataframe Concatenated!\nSchedules Dataframe Concatenated!\nSchedules Dataframe Concatenated!\nSchedules Dataframe Concatenated!\nSchedules Dataframe Concatenated!\nSchedules Dataframe Concatenated!\nSchedules Dataframe Concatenated!\nSchedules Dataframe Concatenated!\nSchedules Dataframe Concatenated!\nSchedules Dataframe Concatenated!\nSchedules Dataframe Concatenated!\nSchedules Dataframe Concatenated!\nSchedules Dataframe Concatenated!\nSchedules Dataframe Concatenated!\nSchedules Dataframe Concatenated!\nSchedules Dataframe Concatenated!\nSchedules Dataframe Concatenated!\nSchedules Dataframe Concatenated!\nSchedules Dataframe Concatenated!\nSchedules Dataframe Concatenated!\nSchedules Dataframe Concatenated!\nSchedules Dataframe Concatenated!\nSchedules Dataframe Concatenated!\nSchedules Dataframe Concatenated!\nSchedules Dataframe Concatenated!\nSchedules Dataframe Concatenated!\nSchedules Dataframe Concatenated!\nSchedules Dataframe Concatenated!\nSchedules Dataframe Concatenated!\nSchedules Dataframe Concatenated!\nSchedules Dataframe Concatenated!\nSchedules Dataframe Concatenated!\nSchedules Dataframe Concatenated!\nSchedules Dataframe Concatenated!\nSchedules Dataframe Concatenated!\nSchedules Dataframe Concatenated!\nSchedules Dataframe Concatenated!\nSchedules Dataframe Concatenated!\nSchedules Dataframe Concatenated!\nSchedules Dataframe Concatenated!\nSchedules Dataframe Concatenated!\nSchedules Dataframe Concatenated!\nSchedules Dataframe Concatenated!\nSchedules Dataframe Concatenated!\nSchedules Dataframe Concatenated!\nSchedules Dataframe Concatenated!\nSchedules Dataframe Concatenated!\nSchedules Dataframe Concatenated!\nSchedules Dataframe Concatenated!\nSchedules Dataframe Concatenated!\nSchedules Dataframe Concatenated!\nSchedules Dataframe Concatenated!\nSchedules Dataframe Concatenated!\nSchedules Dataframe Concatenated!\nSchedules Dataframe Concatenated!\nSchedules Dataframe Concatenated!\nSchedules Dataframe Concatenated!\nSchedules Dataframe Concatenated!\nSchedules Dataframe Concatenated!\nSchedules Dataframe Concatenated!\nSchedules Dataframe Concatenated!\nSchedules Dataframe Concatenated!\nSchedules Dataframe Concatenated!\nSchedules Dataframe Concatenated!\nSchedules Dataframe Concatenated!\nSchedules Dataframe Concatenated!\nSchedules Dataframe Concatenated!\nSchedules Dataframe Concatenated!\nSchedules Dataframe Concatenated!\nSchedules Dataframe Concatenated!\nSchedules Dataframe Concatenated!\nSchedules Dataframe Concatenated!\nSchedules Dataframe Concatenated!\nSchedules Dataframe Concatenated!\nSchedules Dataframe Concatenated!\nSchedules Dataframe Concatenated!\nSchedules Dataframe Concatenated!\nSchedules Dataframe Concatenated!\nSchedules Dataframe Concatenated!\nSchedules Dataframe Concatenated!\nSchedules Dataframe Concatenated!\nSchedules Dataframe Concatenated!\nSchedules Dataframe Concatenated!\nSchedules Dataframe Concatenated!\nSchedules Dataframe Concatenated!\nSchedules Dataframe Concatenated!\nSchedules Dataframe Concatenated!\nSchedules Dataframe Concatenated!\nSchedules Dataframe Concatenated!\nSchedules Dataframe Concatenated!\nSchedules Dataframe Concatenated!\nSchedules Dataframe Concatenated!\nSchedules Dataframe Concatenated!\nSchedules Dataframe Concatenated!\nSchedules Dataframe Concatenated!\nSchedules Dataframe Concatenated!\nSchedules Dataframe Concatenated!\nSchedules Dataframe Concatenated!\nSchedules Dataframe Concatenated!\nSchedules Dataframe Concatenated!\nSchedules Dataframe Concatenated!\nSchedules Dataframe Concatenated!\nSchedules Dataframe Concatenated!\nSchedules Dataframe Concatenated!\nSchedules Dataframe Concatenated!\nSchedules Dataframe Concatenated!\nSchedules Dataframe Concatenated!\nSchedules Dataframe Concatenated!\nSchedules Dataframe Concatenated!\nSchedules Dataframe Concatenated!\nSchedules Dataframe Concatenated!\nSchedules Dataframe Concatenated!\nSchedules Dataframe Concatenated!\nSchedules Dataframe Concatenated!\nSchedules Dataframe Concatenated!\nSchedules Dataframe Concatenated!\nSchedules Dataframe Concatenated!\nSchedules Dataframe Concatenated!\nSchedules Dataframe Concatenated!\nSchedules Dataframe Concatenated!\nSchedules Dataframe Concatenated!\nSchedules Dataframe Concatenated!\nSchedules Dataframe Concatenated!\nSchedules Dataframe Concatenated!\nSchedules Dataframe Concatenated!\nSchedules Dataframe Concatenated!\nSchedules Dataframe Concatenated!\nSchedules Dataframe Concatenated!\nSchedules Dataframe Concatenated!\nSchedules Dataframe Concatenated!\nSchedules Dataframe Concatenated!\nSchedules Dataframe Concatenated!\nSchedules Dataframe Concatenated!\nSchedules Dataframe Concatenated!\nSchedules Dataframe Concatenated!\nSchedules Dataframe Concatenated!\nSchedules Dataframe Concatenated!\nSchedules Dataframe Concatenated!\nSchedules Dataframe Concatenated!\nSchedules Dataframe Concatenated!\nSchedules Dataframe Concatenated!\nSchedules Dataframe Concatenated!\nSchedules Dataframe Concatenated!\nSchedules Dataframe Concatenated!\nSchedules Dataframe Concatenated!\nSchedules Dataframe Concatenated!\nSchedules Dataframe Concatenated!\nSchedules Dataframe Concatenated!\nSchedules Dataframe Concatenated!\nSchedules Dataframe Concatenated!\nSchedules Dataframe Concatenated!\nSchedules Dataframe Concatenated!\nSchedules Dataframe Concatenated!\nSchedules Dataframe Concatenated!\nSchedules Dataframe Concatenated!\nSchedules Dataframe Concatenated!\nSchedules Dataframe Concatenated!\nSchedules Dataframe Concatenated!\nSchedules Dataframe Concatenated!\nSchedules Dataframe Concatenated!\nSchedules Dataframe Concatenated!\nSchedules Dataframe Concatenated!\nSchedules Dataframe Concatenated!\nSchedules Dataframe Concatenated!\nSchedules Dataframe Concatenated!\nSchedules Dataframe Concatenated!\nSchedules Dataframe Concatenated!\nSchedules Dataframe Concatenated!\nSchedules Dataframe Concatenated!\nSchedules Dataframe Concatenated!\nSchedules Dataframe Concatenated!\nSchedules Dataframe Concatenated!\nSchedules Dataframe Concatenated!\nSchedules Dataframe Concatenated!\nSchedules Dataframe Concatenated!\nSchedules Dataframe Concatenated!\nSchedules Dataframe Concatenated!\nSchedules Dataframe Concatenated!\nSchedules Dataframe Concatenated!\nSchedules Dataframe Concatenated!\nSchedules Dataframe Concatenated!\nSchedules Dataframe Concatenated!\nSchedules Dataframe Concatenated!\nSchedules Dataframe Concatenated!\nSchedules Dataframe Concatenated!\nSchedules Dataframe Concatenated!\nSchedules Dataframe Concatenated!\nSchedules Dataframe Concatenated!\nSchedules Dataframe Concatenated!\nSchedules Dataframe Concatenated!\nSchedules Dataframe Concatenated!\nSchedules Dataframe Concatenated!\nSchedules Dataframe Concatenated!\nSchedules Dataframe Concatenated!\nSchedules Dataframe Concatenated!\nSchedules Dataframe Concatenated!\nSchedules Dataframe Concatenated!\nSchedules Dataframe Concatenated!\nSchedules Dataframe Concatenated!\nSchedules Dataframe Concatenated!\nSchedules Dataframe Concatenated!\nSchedules Dataframe Concatenated!\nSchedules Dataframe Concatenated!\nSchedules Dataframe Concatenated!\nSchedules Dataframe Concatenated!\nCleaning Schedules Dataframe...\nThe elapsed time for this search is: 4419.804692983627 seconds.\nThe current epoch time that this search has finished is: 1590720823.877174\n"
    }
   ],
   "source": [
    "destination_list = ['KLAX', 'KJFK', 'KMIA', 'KORD', 'KPDX', 'KIAH', 'KATL']\n",
    "flights_df, flights_scheds, flight_combs = get_flights('5/1/2020','5/27/2020','8H', destination_list)"
   ]
  },
  {
   "cell_type": "code",
   "execution_count": 723,
   "metadata": {},
   "outputs": [],
   "source": [
    "flights_df.to_csv('../data/current_flights.csv')"
   ]
  },
  {
   "cell_type": "code",
   "execution_count": 724,
   "metadata": {},
   "outputs": [],
   "source": [
    "flights_scheds.to_csv('../data/flight_schedules.csv')"
   ]
  },
  {
   "cell_type": "code",
   "execution_count": 726,
   "metadata": {},
   "outputs": [],
   "source": [
    "flight_combs.to_csv('../data/flight_combinations.csv')"
   ]
  }
 ]
}