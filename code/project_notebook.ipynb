{
 "nbformat": 4,
 "nbformat_minor": 2,
 "metadata": {
  "language_info": {
   "name": "python",
   "codemirror_mode": {
    "name": "ipython",
    "version": 3
   },
   "version": "3.7.6-final"
  },
  "orig_nbformat": 2,
  "file_extension": ".py",
  "mimetype": "text/x-python",
  "name": "python",
  "npconvert_exporter": "python",
  "pygments_lexer": "ipython3",
  "version": 3,
  "kernelspec": {
   "name": "python37664bitdsitestconda48790fb83d3f473c989768c98a666b4b",
   "display_name": "Python 3.7.6 64-bit ('DSI_test': conda)"
  }
 },
 "cells": [
  {
   "cell_type": "markdown",
   "metadata": {},
   "source": [
    "# Determining Airline Prices\n",
    "By: Chirstopher Kuzemka : [Github](https://git.generalassemb.ly)"
   ]
  },
  {
   "cell_type": "markdown",
   "metadata": {},
   "source": [
    "## Problem Statement\n",
    "\n",
    "Aviation is one of the largest industries dominating our global market today. Commercial aviation has made it possible for people to connect with each other in ways that may have been unimaginable over a century ago. However, a lot of thought must be put into the FAA standards and routes that modern planes must make today to make such connections possible.\n",
    "\n",
    "Consider the case example where a startup airliner, known as \"Kruze\", wants to establish itself as a top competitor against existing airliners today. A part of this startup process focuses on understanding the costs that will come into play when managing flights. Our job as data scientists today is to help Kruze determine the minimum threshold cost the airliner must charge their passengers on a ticket class basis in order to break even with a profit. To do this, we are going to use existing flight routes (velocity and altitude data), existing data on jet fuel pricing, and existing flight ticket prices (as a prediction) to help us create a supervised learning model. \n",
    "\n",
    "To start, we will approach the project with the intention of expressing a minimum proof of concept. With such introduction, we will make some limitations to our study and decrease the potential for scope increase by:\n",
    "\n",
    "- conducting an idealized thermal jet propulsion cycle for feature engineering purposes (focusing on an open Brayton cycle in particular)\n",
    "- analyzing flight route data across the U.S. domestically; choosing up to 3 routes of varying sizes and suggesting their reverse flight paths as data inputs as well. \n",
    "    - **Houston, TX** to **Los Angeles, CA** (IAH - LAX)\n",
    "    - **New York City, NY** to **Miami, FL** (JFK - MIA)\n",
    "    - **Portland, WA** to **Chicago, IL** (PDX - ORD)\n",
    "- assuming air to be treated as an ideal gas\n",
    "- assuming operating engine conditions to be steady state\n",
    "- assuming kinetic energy and potential energy to be negligible in our system, except at inlet and exit conditioins of jet engine itself\n",
    "- assuming atmospheric temperature, pressure, and air density to be an averaged value between 0 and 15,000 meters altitude\n",
    "- assuming data incorporating head or tail wind effects to be negligible\n",
    "- assuming passenger weight to be negligible\n",
    "- assuming external costs from the study (including food/maintenance/crew salary) to be negligible\n",
    "- using price data from future flights as opposed to previous flights as previous flight pricing is not readily available\n",
    "\n",
    "\n",
    "All current assumptions labeled are set to allow us to achieve (or attempt to achieve) our goal within a certain time frame, as Kruze is requiring an answer from us quickly! With this in mind, we will consider discussing how such assumptions can contribute to any error throughout our study, as well as remind ourselves that integrating negated features for future work may actually be very beneficial to us in achieveing a stronger prediction. Conducting an idealized thermal engine analysis will help us understand the average power output of a given plane's engines throughout different phases of its flight. Routes chosen throughout a variety of times and seasons will also help us determine how such elements play a role in pricing. Finally, some plane specifications (including aircraft type, number of seats it supports, as well as type/number of engines) will allow us to consider any extra technical factors for ticket pricing. \n",
    "\n",
    "As we are working with what is considerred to be a continuous variable, we will analyze common price trends utilizing a supervised regression model, such as Linear Regression, Logistic Regression, SVR, AdaBoosting Regression, Gradient Boosting Regression, KNNRegression, and Naive Bayes Regression. We will ultimately be using the Mean Absolute Error against our predictions to help us gauge how well our selected model predicts the price and discuss what issues may be observed from the limitations of this study.\n",
    "\n",
    "\n",
    "\n",
    "## Executive Summary\n",
    "\n",
    "## Table of Contents\n",
    "[1.00 Data Loading](#1.00-Data-Loading)\n",
    "\n",
    "[2.00 Superficial Analysis and History](#2.00-Superficial-Analysis-and-History)\n",
    "\n",
    "- [2.01 Quick Check](#2.01-Quick-Check)\n",
    "\n",
    "- [2.02 Data Documentation Exploration](#2.02-Data-Documentation-Exploration)\n",
    "\n",
    "[3.00 Data Cleaning](#3.00-Data-Cleaning)  \n",
    "\n",
    "[4.00 Exploratory Data Analysis and Visualization](#4.00-Exploratory-Data-Analysis-and-Visualization)\n",
    "\n",
    "[5.00 Machine Learning Modeling and Visulalization](#5.00-Machine-Learning-Modeling-and-Visulalization)\n",
    "\n",
    "- [3.01 Model Preparation](#3.01-Model-Preparation)\n",
    "\n",
    "- [3.02 Modeling](#3.02-Modeling)\n",
    "\n",
    "- [3.03 Model Selection](#3.03-Model-Selection)\n",
    "\n",
    "- [3.04 Model Evaluation](#3.04-Model-Evaluation)\n",
    "\n",
    "[6.00 Conclusions](#6.00-Conclusions)\n",
    "\n",
    "[7.00 Sources and References](#7.00-Sources-and-References)\n",
    "\n",
    "## Data Dictionary"
   ]
  },
  {
   "cell_type": "markdown",
   "metadata": {},
   "source": [
    "# 1.00 Data Loading"
   ]
  },
  {
   "cell_type": "code",
   "execution_count": 80,
   "metadata": {},
   "outputs": [],
   "source": [
    "import pandas as pd #imports the pandas package\n",
    "import numpy as np #imports the numpy package\n",
    "import matplotlib.pyplot as plt #imports the matplotlib plotting package\n",
    "import seaborn as sns #imports the seaborn package\n",
    "\n",
    "import json #imports the json package\n",
    "import ast"
   ]
  },
  {
   "cell_type": "markdown",
   "metadata": {},
   "source": [
    "## 1.01 Flight Tracking Data"
   ]
  },
  {
   "cell_type": "code",
   "execution_count": 2,
   "metadata": {},
   "outputs": [],
   "source": [
    "current_flights = pd.read_csv('../data/current_flights.csv') #reads the current_flights csv\n",
    "flight_combinations = pd.read_csv('../data/flight_combinations.csv') #reads the flight_combinations csv\n",
    "flight_schedules = pd.read_csv('../data/flight_schedules.csv') #reads the flight_schedules csv"
   ]
  },
  {
   "cell_type": "markdown",
   "metadata": {},
   "source": [
    "## 1.02 Pricing Data"
   ]
  },
  {
   "cell_type": "code",
   "execution_count": 147,
   "metadata": {},
   "outputs": [],
   "source": [
    "monthly_pricing_2021 = pd.read_csv('../data/2021_monthly_pricing2.csv') #reads the 2021_monthly_pricing csv\n",
    "june2020_to_december2020_monthlyprice = pd.read_csv('../data/june2020_to_december2020_monthlyprice.csv') #reads the 2020"
   ]
  },
  {
   "cell_type": "markdown",
   "metadata": {},
   "source": [
    "## 1.03 Additional Relevant Data"
   ]
  },
  {
   "cell_type": "code",
   "execution_count": 4,
   "metadata": {},
   "outputs": [],
   "source": [
    "tsa_checkpoint_travel = pd.read_excel('../data/tsa_checkpoint_travel.xlsx', sheet_name = 'Sheet1', index_col = None, usecols = 'A:C') #reads the tsa_checkpoint_travel xlsx\n",
    "tsa_confirmed_cases = pd.read_excel('../data/tsa_confirmed_cases.xlsx', sheet_name = 'Sheet1', index_col = None, usecols=  'A:E') #reads the tsa_confirmed_cases xlsx"
   ]
  },
  {
   "cell_type": "markdown",
   "metadata": {},
   "source": [
    "# 2.00 Data Data Cleaning and Analysis"
   ]
  },
  {
   "cell_type": "markdown",
   "metadata": {},
   "source": [
    "## 2.01 Quick Check"
   ]
  },
  {
   "cell_type": "code",
   "execution_count": 5,
   "metadata": {},
   "outputs": [],
   "source": [
    "def quick_check(dataframe):\n",
    "    print(\"-------------------------------------------------------------------------------------------------\")\n",
    "    print(f\"The head of your input dataframe is dataframe is:\")\n",
    "    print(\" - - - - - - - - - - - - - - - - - - - - - - - - - - - - - - - - - - - - - - - - - - - - - - - - -\")\n",
    "    print(dataframe.head()) #checks the head of the dataframe\n",
    "    print(\"-------------------------------------------------------------------------------------------------\")\n",
    "    print(f\"The tail of your input dataframe is:\")\n",
    "    print(\" - - - - - - - - - - - - - - - - - - - - - - - - - - - - - - - - - - - - - - - - - - - - - - - - -\")\n",
    "    print(dataframe.tail()) #checks the tail of the dataframe\n",
    "    print(\"-------------------------------------------------------------------------------------------------\")\n",
    "    print(f\"The shape of the dataframe is {dataframe.shape[0]} rows and {dataframe.shape[1]} columns.\") #checks the shape of the dataframe\n",
    "    print(\"-------------------------------------------------------------------------------------------------\")\n",
    "    print(\"The below shows whether there exist nulls in our dataframe or not:\")\n",
    "    print(\" - - - - - - - - - - - - - - - - - - - - - - - - - - - - - - - - - - - - - - - - - - - - - - - - -\")\n",
    "    print(dataframe.isnull().any()) #checks the null status of the current_flights dataframe\n",
    "    print(\"-------------------------------------------------------------------------------------------------\")\n",
    "    print(\"The below shows the useful information to be aware of when exploring this input dataframe:\")\n",
    "    print(\" - - - - - - - - - - - - - - - - - - - - - - - - - - - - - - - - - - - - - - - - - - - - - - - - -\")\n",
    "    print(dataframe.info()) #checks the null status of the current_flights dataframe"
   ]
  },
  {
   "cell_type": "markdown",
   "metadata": {},
   "source": [
    "The above function is created to conveniently conduct a quick check on the dataframe for the reader/user. Through it, we will able to see the __head__, __tail__, __shape__, __null presence__, and __important dataframe information__."
   ]
  },
  {
   "cell_type": "markdown",
   "metadata": {},
   "source": [
    "### Current Flights Data"
   ]
  },
  {
   "cell_type": "code",
   "execution_count": 6,
   "metadata": {},
   "outputs": [
    {
     "name": "stdout",
     "output_type": "stream",
     "text": "-------------------------------------------------------------------------------------------------\nThe head of your input dataframe is dataframe is:\n - - - - - - - - - - - - - - - - - - - - - - - - - - - - - - - - - - - - - - - - - - - - - - - - -\n   Unnamed: 0                      faFlightID   ident prefix  type  suffix  \\\n0           0       DAL333-1590465975-fa-0008  DAL333    NaN  A321     NaN   \n1           1  KLM601-1590468354-airline-0005  KLM601    NaN  B77W     NaN   \n2           2       VIR607-1590664542-ed-0002  VIR607    NaN  B789     NaN   \n3           3       DAL702-1590465982-fa-0006  DAL702    NaN  A321     NaN   \n4           4  ACA572-1590468353-airline-0278  ACA572    NaN  A319     NaN   \n\n  origin destination  timeout   timestamp  ...  lowLatitude  highLongitude  \\\n0   KATL        KLAX        0  1590716390  ...     32.94676      -84.44664   \n1   EHAM        KLAX        0  1590711509  ...     33.95142        4.71741   \n2   EGLL        KLAX        0  1590711368  ...     33.95091       -0.39345   \n3   KATL        KLAX        0  1590709847  ...     33.64682      -84.44602   \n4   CYVR        KLAX        0  1590706589  ...     33.95183     -118.17553   \n\n   highLatitude  groundspeed  altitude  heading  altitudeStatus  updateType  \\\n0      33.70005          448       300      264             NaN           A   \n1      66.06976          130         1      263             NaN           A   \n2      66.09780          101         1      263             NaN           A   \n3      35.52932          117         1      263             NaN           A   \n4      49.18984          109         1      263             NaN           A   \n\n   altitudeChange                                          waypoints  \n0               D  33.64 -84.43 33.68 -84.28 33.81 -84.28 33.81 -...  \n1               D  52.31 4.76 53.02 2.53 53.06 2.46 53.2 1.53 53....  \n2               D  51.48 -0.46 51.56 -0.59 51.62 -0.68 51.7 -0.79...  \n3               D  33.64 -84.43 33.68 -84.28 33.79 -85 33.81 -85....  \n4               D  49.19 -123.18 49.12 -123.26 49.12 -123.27 49.0...  \n\n[5 rows x 26 columns]\n-------------------------------------------------------------------------------------------------\nThe tail of your input dataframe is:\n - - - - - - - - - - - - - - - - - - - - - - - - - - - - - - - - - - - - - - - - - - - - - - - - -\n     Unnamed: 0                       faFlightID    ident prefix  type  \\\n100         100  EDV4708-1590468354-airline-0112  EDV4708    NaN  CRJ9   \n101         101        ABW341-1590583043-eb-0002   ABW341    NaN  B744   \n102         102  DLH8176-1590641113-airline-0180  DLH8176    NaN  B772   \n103         103  CLX8626-1590641113-airline-0361  CLX8626    NaN  B744   \n104         104  DLH8172-1590641113-airline-0177  DLH8172    NaN  MD11   \n\n     suffix origin destination  timeout   timestamp  ...  lowLatitude  \\\n100     NaN   KAGS        KATL        0  1590664135  ...     33.19607   \n101     NaN   EBLG        KATL        0  1590631398  ...     33.53333   \n102     NaN   EDDF        KATL        0           0  ...    200.00000   \n103     NaN   ELLX        KATL        0           0  ...    200.00000   \n104     NaN   EDDF        KATL        0           0  ...    200.00000   \n\n     highLongitude  highLatitude  groundspeed  altitude  heading  \\\n100      -81.97964      33.63222          126        10       91   \n101        5.56940      54.10380          132         9       90   \n102     -200.00000    -200.00000            0         0        0   \n103     -200.00000    -200.00000            0         0        0   \n104     -200.00000    -200.00000            0         0        0   \n\n     altitudeStatus  updateType  altitudeChange  \\\n100             NaN           A               D   \n101                           A               D   \n102             NaN         NaN             NaN   \n103             NaN         NaN             NaN   \n104             NaN         NaN             NaN   \n\n                                             waypoints  \n100  33.37 -81.96 33.39 -82.03 33.39 -82.04 33.38 -...  \n101  50.64 5.44 50.69 5.24 50.73 5.08 50.78 4.89 50...  \n102                                                NaN  \n103                                                NaN  \n104                                                NaN  \n\n[5 rows x 26 columns]\n-------------------------------------------------------------------------------------------------\nThe shape of the dataframe is 105 rows and 26 columns.\n-------------------------------------------------------------------------------------------------\nThe below shows whether there exist nulls in our dataframe or not:\n - - - - - - - - - - - - - - - - - - - - - - - - - - - - - - - - - - - - - - - - - - - - - - - - -\nUnnamed: 0           False\nfaFlightID           False\nident                False\nprefix                True\ntype                  True\nsuffix                True\norigin               False\ndestination          False\ntimeout              False\ntimestamp            False\ndepartureTime        False\nfirstPositionTime    False\narrivalTime          False\nlongitude            False\nlatitude             False\nlowLongitude         False\nlowLatitude          False\nhighLongitude        False\nhighLatitude         False\ngroundspeed          False\naltitude             False\nheading              False\naltitudeStatus        True\nupdateType            True\naltitudeChange        True\nwaypoints             True\ndtype: bool\n-------------------------------------------------------------------------------------------------\nThe below shows the useful information to be aware of when exploring this input dataframe:\n - - - - - - - - - - - - - - - - - - - - - - - - - - - - - - - - - - - - - - - - - - - - - - - - -\n<class 'pandas.core.frame.DataFrame'>\nRangeIndex: 105 entries, 0 to 104\nData columns (total 26 columns):\n #   Column             Non-Null Count  Dtype  \n---  ------             --------------  -----  \n 0   Unnamed: 0         105 non-null    int64  \n 1   faFlightID         105 non-null    object \n 2   ident              105 non-null    object \n 3   prefix             1 non-null      object \n 4   type               103 non-null    object \n 5   suffix             0 non-null      float64\n 6   origin             105 non-null    object \n 7   destination        105 non-null    object \n 8   timeout            105 non-null    int64  \n 9   timestamp          105 non-null    int64  \n 10  departureTime      105 non-null    int64  \n 11  firstPositionTime  105 non-null    int64  \n 12  arrivalTime        105 non-null    int64  \n 13  longitude          105 non-null    float64\n 14  latitude           105 non-null    float64\n 15  lowLongitude       105 non-null    float64\n 16  lowLatitude        105 non-null    float64\n 17  highLongitude      105 non-null    float64\n 18  highLatitude       105 non-null    float64\n 19  groundspeed        105 non-null    int64  \n 20  altitude           105 non-null    int64  \n 21  heading            105 non-null    int64  \n 22  altitudeStatus     31 non-null     object \n 23  updateType         90 non-null     object \n 24  altitudeChange     90 non-null     object \n 25  waypoints          89 non-null     object \ndtypes: float64(7), int64(9), object(10)\nmemory usage: 21.5+ KB\nNone\n"
    }
   ],
   "source": [
    "quick_check(current_flights) #performs a quick check on the current_flights dataframe"
   ]
  },
  {
   "cell_type": "markdown",
   "metadata": {},
   "source": [
    "#### Key takeaways fromm the above output:\n",
    "\n",
    "- The dataframe is large and denotes separations with a `\\` symbol.\n",
    "\n",
    "- There is an `Unnamed: 0` column in our dataframe which is not necessary to include. We will remove this in our cleaning.\n",
    "\n",
    "- Our dataframe is 105 rows and 26 columns. Not all columns are revealed in the head and tail of the function. \n",
    "\n",
    "- Our dataframe contains nulls. \n",
    "\n",
    "- Most of the values in our dataframe are numerical. "
   ]
  },
  {
   "cell_type": "markdown",
   "metadata": {},
   "source": [
    "### Flight Combinations Data"
   ]
  },
  {
   "cell_type": "code",
   "execution_count": 7,
   "metadata": {},
   "outputs": [
    {
     "name": "stdout",
     "output_type": "stream",
     "text": "-------------------------------------------------------------------------------------------------\nThe head of your input dataframe is dataframe is:\n - - - - - - - - - - - - - - - - - - - - - - - - - - - - - - - - - - - - - - - - - - - - - - - - -\n   Unnamed: 0 origin destination  0\n0           0   CYHM        KJFK  1\n1           1   CYUL        KORD  1\n2           2   CYVR        KLAX  1\n3           3   CYYZ        KIAH  2\n4           4   CYYZ        KJFK  1\n-------------------------------------------------------------------------------------------------\nThe tail of your input dataframe is:\n - - - - - - - - - - - - - - - - - - - - - - - - - - - - - - - - - - - - - - - - - - - - - - - - -\n    Unnamed: 0 origin destination  0\n55          55   KBUR        KPDX  1\n56          56   KBWI        KPDX  1\n57          57   KCVG        KPDX  1\n58          58   KCVO        KPDX  2\n59          59   KDEN        KPDX  3\n-------------------------------------------------------------------------------------------------\nThe shape of the dataframe is 60 rows and 4 columns.\n-------------------------------------------------------------------------------------------------\nThe below shows whether there exist nulls in our dataframe or not:\n - - - - - - - - - - - - - - - - - - - - - - - - - - - - - - - - - - - - - - - - - - - - - - - - -\nUnnamed: 0     False\norigin         False\ndestination    False\n0              False\ndtype: bool\n-------------------------------------------------------------------------------------------------\nThe below shows the useful information to be aware of when exploring this input dataframe:\n - - - - - - - - - - - - - - - - - - - - - - - - - - - - - - - - - - - - - - - - - - - - - - - - -\n<class 'pandas.core.frame.DataFrame'>\nRangeIndex: 60 entries, 0 to 59\nData columns (total 4 columns):\n #   Column       Non-Null Count  Dtype \n---  ------       --------------  ----- \n 0   Unnamed: 0   60 non-null     int64 \n 1   origin       60 non-null     object\n 2   destination  60 non-null     object\n 3   0            60 non-null     int64 \ndtypes: int64(2), object(2)\nmemory usage: 2.0+ KB\nNone\n"
    }
   ],
   "source": [
    "quick_check(flight_combinations) #performs a quick check on the flight combinations dataframe"
   ]
  },
  {
   "cell_type": "markdown",
   "metadata": {},
   "source": [
    "#### Key Takeaways form the above output:\n",
    "\n",
    "- There is an `Unnamed: 0` column which does not need to be included. \n",
    "\n",
    "- The dataframe is 60 rows and has 4 columns. \n",
    "\n",
    "- The column named `0` is the final column and shows the frequency of the flight combination shown in the dataframe. \n",
    "\n",
    "- There are no nulls. \n",
    "\n",
    "- All of the values are numerical. "
   ]
  },
  {
   "cell_type": "markdown",
   "metadata": {},
   "source": [
    "### Flight Schedules Data"
   ]
  },
  {
   "cell_type": "code",
   "execution_count": 8,
   "metadata": {},
   "outputs": [
    {
     "name": "stdout",
     "output_type": "stream",
     "text": "-------------------------------------------------------------------------------------------------\nThe head of your input dataframe is dataframe is:\n - - - - - - - - - - - - - - - - - - - - - - - - - - - - - - - - - - - - - - - - - - - - - - - - -\n   Unnamed: 0    ident actual_ident  departuretime  arrival_time origin  \\\n0           0  UAL4282      ASQ4282     1588330800    1588340820   CYUL   \n1           1  ACA7591      AC27591     1588335000    1588343880   CYUL   \n2           2  UAL8371      AC27591     1588335000    1588343880   CYUL   \n3           3  UAL4245      ASQ4245     1588341060    1588351080   CYUL   \n4           4  UAL8481      AC27595     1588353300    1588362000   CYUL   \n\n  destination aircrafttype                                       meal_service  \\\n0        KORD         E75L    Business: Refreshments / Economy: Food for sale   \n1        KORD         E75L  Business: Breakfast / Economy: Breakfast, Food...   \n2        KORD         E75L       Business: Breakfast / Economy: Food for sale   \n3        KORD         E75L    Business: Refreshments / Economy: Food for sale   \n4        KORD         E75L            Business: Meal / Economy: Food for sale   \n\n   seats_cabin_first  seats_cabin_business  seats_cabin_coach  \n0                  0                    12                 58  \n1                  0                    12                 64  \n2                  0                    12                 64  \n3                  0                    12                 58  \n4                  0                    12                 64  \n-------------------------------------------------------------------------------------------------\nThe tail of your input dataframe is:\n - - - - - - - - - - - - - - - - - - - - - - - - - - - - - - - - - - - - - - - - - - - - - - - - -\n      Unnamed: 0    ident actual_ident  departuretime  arrival_time origin  \\\n5818        5818   UAL464          NaN     1590514200    1590523860   KDEN   \n5819        5819   SWA378          NaN     1590520500    1590529500   KDEN   \n5820        5820  DLH9070       UAL393     1590539460    1590549120   KDEN   \n5821        5821   UAL393          NaN     1590539460    1590549120   KDEN   \n5822        5822   SWA993          NaN     1590544800    1590554400   KDEN   \n\n     destination aircrafttype                                  meal_service  \\\n5818        KPDX         A319  Business: Snack or brunch / Economy: No meal   \n5819        KPDX         B738                              Economy: No meal   \n5820        KPDX         A319  Business: Snack or brunch / Economy: No meal   \n5821        KPDX         A319  Business: Snack or brunch / Economy: No meal   \n5822        KPDX         B738                              Economy: No meal   \n\n      seats_cabin_first  seats_cabin_business  seats_cabin_coach  \n5818                  0                    12                114  \n5819                  0                     0                175  \n5820                  0                    12                114  \n5821                  0                    12                114  \n5822                  0                     0                175  \n-------------------------------------------------------------------------------------------------\nThe shape of the dataframe is 5823 rows and 12 columns.\n-------------------------------------------------------------------------------------------------\nThe below shows whether there exist nulls in our dataframe or not:\n - - - - - - - - - - - - - - - - - - - - - - - - - - - - - - - - - - - - - - - - - - - - - - - - -\nUnnamed: 0              False\nident                   False\nactual_ident             True\ndeparturetime           False\narrival_time            False\norigin                  False\ndestination             False\naircrafttype             True\nmeal_service             True\nseats_cabin_first       False\nseats_cabin_business    False\nseats_cabin_coach       False\ndtype: bool\n-------------------------------------------------------------------------------------------------\nThe below shows the useful information to be aware of when exploring this input dataframe:\n - - - - - - - - - - - - - - - - - - - - - - - - - - - - - - - - - - - - - - - - - - - - - - - - -\n<class 'pandas.core.frame.DataFrame'>\nRangeIndex: 5823 entries, 0 to 5822\nData columns (total 12 columns):\n #   Column                Non-Null Count  Dtype \n---  ------                --------------  ----- \n 0   Unnamed: 0            5823 non-null   int64 \n 1   ident                 5823 non-null   object\n 2   actual_ident          4639 non-null   object\n 3   departuretime         5823 non-null   int64 \n 4   arrival_time          5823 non-null   int64 \n 5   origin                5823 non-null   object\n 6   destination           5823 non-null   object\n 7   aircrafttype          5373 non-null   object\n 8   meal_service          5429 non-null   object\n 9   seats_cabin_first     5823 non-null   int64 \n 10  seats_cabin_business  5823 non-null   int64 \n 11  seats_cabin_coach     5823 non-null   int64 \ndtypes: int64(6), object(6)\nmemory usage: 546.0+ KB\nNone\n"
    }
   ],
   "source": [
    "quick_check(flight_schedules)"
   ]
  },
  {
   "cell_type": "markdown",
   "metadata": {},
   "source": [
    "#### Key takeaways fromm the above output:\n",
    "\n",
    "- The dataframe is large and denotes separations with a `\\` symbol.\n",
    "\n",
    "- There is an `Unnamed: 0` column in our dataframe which is not necessary to include. We will remove this in our cleaning.\n",
    "\n",
    "- Our dataframe is 5823 rows and 12 columns.\n",
    "\n",
    "- Our dataframe contains nulls. \n",
    "\n",
    "- We have an even split of numerical and string values. "
   ]
  },
  {
   "cell_type": "markdown",
   "metadata": {},
   "source": [
    "### Monthly Pricing 2021 Data"
   ]
  },
  {
   "cell_type": "code",
   "execution_count": 148,
   "metadata": {},
   "outputs": [
    {
     "name": "stdout",
     "output_type": "stream",
     "text": "-------------------------------------------------------------------------------------------------\nThe head of your input dataframe is dataframe is:\n - - - - - - - - - - - - - - - - - - - - - - - - - - - - - - - - - - - - - - - - - - - - - - - - -\n   Unnamed: 0 Quotes Places Carriers  \\\n0           0     []     []       []   \n1           1     []     []       []   \n2           2     []     []       []   \n3           3     []     []       []   \n4           4     []     []       []   \n\n                                          Currencies ValidationErrors  \n0  [{'Code': 'USD', 'Symbol': '$', 'ThousandsSepa...              NaN  \n1  [{'Code': 'USD', 'Symbol': '$', 'ThousandsSepa...              NaN  \n2  [{'Code': 'USD', 'Symbol': '$', 'ThousandsSepa...              NaN  \n3  [{'Code': 'USD', 'Symbol': '$', 'ThousandsSepa...              NaN  \n4  [{'Code': 'USD', 'Symbol': '$', 'ThousandsSepa...              NaN  \n-------------------------------------------------------------------------------------------------\nThe tail of your input dataframe is:\n - - - - - - - - - - - - - - - - - - - - - - - - - - - - - - - - - - - - - - - - - - - - - - - - -\n     Unnamed: 0                                             Quotes  \\\n715         715  [{'QuoteId': 1, 'MinPrice': 79.0, 'Direct': Tr...   \n716         716                                                 []   \n717         717  [{'QuoteId': 1, 'MinPrice': 120.0, 'Direct': F...   \n718         718                                                 []   \n719         719                                                 []   \n\n                                                Places  \\\n715  [{'PlaceId': 47118, 'IataCode': 'DEN', 'Name':...   \n716                                                 []   \n717  [{'PlaceId': 47118, 'IataCode': 'DEN', 'Name':...   \n718                                                 []   \n719                                                 []   \n\n                                              Carriers  \\\n715  [{'CarrierId': 1065, 'Name': 'Frontier Airline...   \n716                                                 []   \n717  [{'CarrierId': 851, 'Name': 'Alaska Airlines'}...   \n718                                                 []   \n719                                                 []   \n\n                                            Currencies ValidationErrors  \n715  [{'Code': 'USD', 'Symbol': '$', 'ThousandsSepa...              NaN  \n716  [{'Code': 'USD', 'Symbol': '$', 'ThousandsSepa...              NaN  \n717  [{'Code': 'USD', 'Symbol': '$', 'ThousandsSepa...              NaN  \n718  [{'Code': 'USD', 'Symbol': '$', 'ThousandsSepa...              NaN  \n719  [{'Code': 'USD', 'Symbol': '$', 'ThousandsSepa...              NaN  \n-------------------------------------------------------------------------------------------------\nThe shape of the dataframe is 720 rows and 6 columns.\n-------------------------------------------------------------------------------------------------\nThe below shows whether there exist nulls in our dataframe or not:\n - - - - - - - - - - - - - - - - - - - - - - - - - - - - - - - - - - - - - - - - - - - - - - - - -\nUnnamed: 0          False\nQuotes               True\nPlaces               True\nCarriers             True\nCurrencies           True\nValidationErrors     True\ndtype: bool\n-------------------------------------------------------------------------------------------------\nThe below shows the useful information to be aware of when exploring this input dataframe:\n - - - - - - - - - - - - - - - - - - - - - - - - - - - - - - - - - - - - - - - - - - - - - - - - -\n<class 'pandas.core.frame.DataFrame'>\nRangeIndex: 720 entries, 0 to 719\nData columns (total 6 columns):\n #   Column            Non-Null Count  Dtype \n---  ------            --------------  ----- \n 0   Unnamed: 0        720 non-null    int64 \n 1   Quotes            696 non-null    object\n 2   Places            696 non-null    object\n 3   Carriers          696 non-null    object\n 4   Currencies        696 non-null    object\n 5   ValidationErrors  24 non-null     object\ndtypes: int64(1), object(5)\nmemory usage: 33.9+ KB\nNone\n"
    }
   ],
   "source": [
    "quick_check(monthly_pricing_2021)"
   ]
  },
  {
   "cell_type": "markdown",
   "metadata": {},
   "source": [
    "#### Key takeaways from the above output:\n",
    "\n",
    "- The dataframe is large and denotes separations with a `\\` symbol.\n",
    "\n",
    "- The data is stored in json dictionaries. We will need to clean that to access more readable data.\n",
    "\n",
    "- There is an `Unnamed: 0` column in our dataframe which is not necessary to include. We will remove this in our cleaning.\n",
    "\n",
    "- Our dataframe is 720 rows and 7 columns.\n",
    "\n",
    "- Our dataframe contains nulls. \n",
    "\n",
    "- We have mostly string values.  "
   ]
  },
  {
   "cell_type": "markdown",
   "metadata": {},
   "source": [
    "### June 2020 To December 2020 Monthly Prices Data"
   ]
  },
  {
   "cell_type": "code",
   "execution_count": 149,
   "metadata": {},
   "outputs": [
    {
     "name": "stdout",
     "output_type": "stream",
     "text": "-------------------------------------------------------------------------------------------------\nThe head of your input dataframe is dataframe is:\n - - - - - - - - - - - - - - - - - - - - - - - - - - - - - - - - - - - - - - - - - - - - - - - - -\n   Unnamed: 0                                             Quotes  \\\n0           0                                                 []   \n1           1  [{'QuoteId': 1, 'MinPrice': 327.0, 'Direct': F...   \n2           2  [{'QuoteId': 1, 'MinPrice': 353.0, 'Direct': F...   \n3           3                                                 []   \n4           4                                                 []   \n\n                                              Places  \\\n0                                                 []   \n1  [{'PlaceId': 60987, 'IataCode': 'JFK', 'Name':...   \n2  [{'PlaceId': 60987, 'IataCode': 'JFK', 'Name':...   \n3                                                 []   \n4                                                 []   \n\n                                   Carriers  \\\n0                                        []   \n1  [{'CarrierId': 1907, 'Name': 'WestJet'}]   \n2  [{'CarrierId': 1907, 'Name': 'WestJet'}]   \n3                                        []   \n4                                        []   \n\n                                          Currencies ValidationErrors  \n0  [{'Code': 'USD', 'Symbol': '$', 'ThousandsSepa...              NaN  \n1  [{'Code': 'USD', 'Symbol': '$', 'ThousandsSepa...              NaN  \n2  [{'Code': 'USD', 'Symbol': '$', 'ThousandsSepa...              NaN  \n3  [{'Code': 'USD', 'Symbol': '$', 'ThousandsSepa...              NaN  \n4  [{'Code': 'USD', 'Symbol': '$', 'ThousandsSepa...              NaN  \n-------------------------------------------------------------------------------------------------\nThe tail of your input dataframe is:\n - - - - - - - - - - - - - - - - - - - - - - - - - - - - - - - - - - - - - - - - - - - - - - - - -\n     Unnamed: 0                                             Quotes  \\\n415         415  [{'QuoteId': 1, 'MinPrice': 69.0, 'Direct': Tr...   \n416         416  [{'QuoteId': 1, 'MinPrice': 79.0, 'Direct': Tr...   \n417         417  [{'QuoteId': 1, 'MinPrice': 199.0, 'Direct': T...   \n418         418  [{'QuoteId': 1, 'MinPrice': 69.0, 'Direct': Tr...   \n419         419  [{'QuoteId': 1, 'MinPrice': 63.0, 'Direct': Tr...   \n\n                                                Places  \\\n415  [{'PlaceId': 47118, 'IataCode': 'DEN', 'Name':...   \n416  [{'PlaceId': 47118, 'IataCode': 'DEN', 'Name':...   \n417  [{'PlaceId': 47118, 'IataCode': 'DEN', 'Name':...   \n418  [{'PlaceId': 47118, 'IataCode': 'DEN', 'Name':...   \n419  [{'PlaceId': 47118, 'IataCode': 'DEN', 'Name':...   \n\n                                              Carriers  \\\n415  [{'CarrierId': 851, 'Name': 'Alaska Airlines'}...   \n416  [{'CarrierId': 1065, 'Name': 'Frontier Airline...   \n417  [{'CarrierId': 851, 'Name': 'Alaska Airlines'}...   \n418  [{'CarrierId': 1065, 'Name': 'Frontier Airline...   \n419  [{'CarrierId': 1065, 'Name': 'Frontier Airline...   \n\n                                            Currencies ValidationErrors  \n415  [{'Code': 'USD', 'Symbol': '$', 'ThousandsSepa...              NaN  \n416  [{'Code': 'USD', 'Symbol': '$', 'ThousandsSepa...              NaN  \n417  [{'Code': 'USD', 'Symbol': '$', 'ThousandsSepa...              NaN  \n418  [{'Code': 'USD', 'Symbol': '$', 'ThousandsSepa...              NaN  \n419  [{'Code': 'USD', 'Symbol': '$', 'ThousandsSepa...              NaN  \n-------------------------------------------------------------------------------------------------\nThe shape of the dataframe is 420 rows and 6 columns.\n-------------------------------------------------------------------------------------------------\nThe below shows whether there exist nulls in our dataframe or not:\n - - - - - - - - - - - - - - - - - - - - - - - - - - - - - - - - - - - - - - - - - - - - - - - - -\nUnnamed: 0          False\nQuotes               True\nPlaces               True\nCarriers             True\nCurrencies           True\nValidationErrors     True\ndtype: bool\n-------------------------------------------------------------------------------------------------\nThe below shows the useful information to be aware of when exploring this input dataframe:\n - - - - - - - - - - - - - - - - - - - - - - - - - - - - - - - - - - - - - - - - - - - - - - - - -\n<class 'pandas.core.frame.DataFrame'>\nRangeIndex: 420 entries, 0 to 419\nData columns (total 6 columns):\n #   Column            Non-Null Count  Dtype \n---  ------            --------------  ----- \n 0   Unnamed: 0        420 non-null    int64 \n 1   Quotes            406 non-null    object\n 2   Places            406 non-null    object\n 3   Carriers          406 non-null    object\n 4   Currencies        406 non-null    object\n 5   ValidationErrors  14 non-null     object\ndtypes: int64(1), object(5)\nmemory usage: 19.8+ KB\nNone\n"
    }
   ],
   "source": [
    "quick_check(june2020_to_december2020_monthlyprice)"
   ]
  },
  {
   "cell_type": "markdown",
   "metadata": {},
   "source": [
    "#### Key takeaways fromm the above output:\n",
    "\n",
    "- The dataframe is large and denotes separations with a `\\` symbol.\n",
    "\n",
    "- The data is stored in json dictionaries. We will need to clean that to access more readable data.\n",
    "\n",
    "- There is an `Unnamed: 0` column in our dataframe which is not necessary to include. We will remove this in our cleaning.\n",
    "\n",
    "- Our dataframe is 5823 rows and 6 columns.\n",
    "\n",
    "- Our dataframe contains nulls. \n",
    "\n",
    "- We have mostly string values. "
   ]
  },
  {
   "cell_type": "markdown",
   "metadata": {},
   "source": [
    "### TSA Checkpoint Data"
   ]
  },
  {
   "cell_type": "code",
   "execution_count": 12,
   "metadata": {},
   "outputs": [
    {
     "name": "stdout",
     "output_type": "stream",
     "text": "-------------------------------------------------------------------------------------------------\nThe head of your input dataframe is dataframe is:\n - - - - - - - - - - - - - - - - - - - - - - - - - - - - - - - - - - - - - - - - - - - - - - - - -\n        Date  Total Traveler Throughput  Total Traveler Throughput.1\n0        NaT                        NaN  (1 Year Ago - Same Weekday)\n1 2020-05-26                   264843.0                      2453649\n2 2020-05-25                   340769.0                      2512237\n3 2020-05-24                   267451.0                      2070716\n4 2020-05-23                   253190.0                      2124825\n-------------------------------------------------------------------------------------------------\nThe tail of your input dataframe is:\n - - - - - - - - - - - - - - - - - - - - - - - - - - - - - - - - - - - - - - - - - - - - - - - - -\n         Date  Total Traveler Throughput Total Traveler Throughput.1\n83 2020-03-05                  2130015.0                     2402692\n84 2020-03-04                  1877401.0                     2143619\n85 2020-03-03                  1736393.0                     1979558\n86 2020-03-02                  2089641.0                     2257920\n87 2020-03-01                  2280522.0                     2301439\n-------------------------------------------------------------------------------------------------\nThe shape of the dataframe is 88 rows and 3 columns.\n-------------------------------------------------------------------------------------------------\nThe below shows whether there exist nulls in our dataframe or not:\n - - - - - - - - - - - - - - - - - - - - - - - - - - - - - - - - - - - - - - - - - - - - - - - - -\nDate                            True\nTotal Traveler Throughput       True\nTotal Traveler Throughput.1    False\ndtype: bool\n-------------------------------------------------------------------------------------------------\nThe below shows the useful information to be aware of when exploring this input dataframe:\n - - - - - - - - - - - - - - - - - - - - - - - - - - - - - - - - - - - - - - - - - - - - - - - - -\n<class 'pandas.core.frame.DataFrame'>\nRangeIndex: 88 entries, 0 to 87\nData columns (total 3 columns):\n #   Column                       Non-Null Count  Dtype         \n---  ------                       --------------  -----         \n 0   Date                         87 non-null     datetime64[ns]\n 1   Total Traveler Throughput    87 non-null     float64       \n 2   Total Traveler Throughput.1  88 non-null     object        \ndtypes: datetime64[ns](1), float64(1), object(1)\nmemory usage: 2.2+ KB\nNone\n"
    }
   ],
   "source": [
    "quick_check(tsa_checkpoint_travel)"
   ]
  },
  {
   "cell_type": "markdown",
   "metadata": {},
   "source": [
    "#### Key takeaways fromm the above output:\n",
    "\n",
    "- There is a `Date` column not currently set as the index of the dataframe. We will consider making the `Date` column the index. \n",
    "\n",
    "- The first row seems to contain header information. We will append the appropriate values into the header. \n",
    "\n",
    "- Our dataframe is 88 rows and 3 columns.\n",
    "\n",
    "- Our dataframe contains nulls. \n",
    "\n",
    "- We have an even split of string, float, and datetime values. "
   ]
  },
  {
   "cell_type": "markdown",
   "metadata": {},
   "source": [
    "### TSA Confirmed Cases Data"
   ]
  },
  {
   "cell_type": "code",
   "execution_count": 13,
   "metadata": {},
   "outputs": [
    {
     "name": "stdout",
     "output_type": "stream",
     "text": "-------------------------------------------------------------------------------------------------\nThe head of your input dataframe is dataframe is:\n - - - - - - - - - - - - - - - - - - - - - - - - - - - - - - - - - - - - - - - - - - - - - - - - -\n                                          Airport  Total Confirmed Cases  \\\n0               ACY - Atlantic City International                      1   \n1                        AIA - Alliance Municipal                      1   \n2                      ALW - Walla Walla Regional                      1   \n3       AMA - Rick Husband Amarillo International                      1   \n4  ATL - Hartsfield-Jackson Atlanta International                     17   \n\n   TSA Screening Officers  Non-Screening Employees  \\\n0                     1.0                      NaN   \n1                     1.0                      NaN   \n2                     1.0                      NaN   \n3                     1.0                      NaN   \n4                    16.0                      1.0   \n\n  Last work date of most recent screening officer confirmed case  \n0                                         2020-05-16              \n1                                         2020-05-19              \n2                                         2020-03-24              \n3                                         2020-05-02              \n4                                         2020-03-18              \n-------------------------------------------------------------------------------------------------\nThe tail of your input dataframe is:\n - - - - - - - - - - - - - - - - - - - - - - - - - - - - - - - - - - - - - - - - - - - - - - - - -\n                                  Airport  Total Confirmed Cases  \\\n73  STL - St. Louis Lambert International                      1   \n74                     STT - Cyril E King                      1   \n75             TLH - Tallahassee Regional                      1   \n76                   TOL - Toledo Express                      2   \n77              TPA - Tampa International                      2   \n\n    TSA Screening Officers  Non-Screening Employees  \\\n73                     1.0                      NaN   \n74                     1.0                      NaN   \n75                     1.0                      NaN   \n76                     2.0                      NaN   \n77                     1.0                      1.0   \n\n   Last work date of most recent screening officer confirmed case  \n73                                         2020-04-27              \n74                                         2020-03-13              \n75                                         2020-05-04              \n76                                         2020-04-06              \n77                                         2020-04-08              \n-------------------------------------------------------------------------------------------------\nThe shape of the dataframe is 78 rows and 5 columns.\n-------------------------------------------------------------------------------------------------\nThe below shows whether there exist nulls in our dataframe or not:\n - - - - - - - - - - - - - - - - - - - - - - - - - - - - - - - - - - - - - - - - - - - - - - - - -\nAirport                                                           False\nTotal Confirmed Cases                                             False\nTSA Screening Officers                                             True\nNon-Screening Employees                                            True\nLast work date of most recent screening officer confirmed case     True\ndtype: bool\n-------------------------------------------------------------------------------------------------\nThe below shows the useful information to be aware of when exploring this input dataframe:\n - - - - - - - - - - - - - - - - - - - - - - - - - - - - - - - - - - - - - - - - - - - - - - - - -\n<class 'pandas.core.frame.DataFrame'>\nRangeIndex: 78 entries, 0 to 77\nData columns (total 5 columns):\n #   Column                                                          Non-Null Count  Dtype         \n---  ------                                                          --------------  -----         \n 0   Airport                                                         78 non-null     object        \n 1   Total Confirmed Cases                                           78 non-null     int64         \n 2   TSA Screening Officers                                          76 non-null     float64       \n 3   Non-Screening Employees                                         22 non-null     float64       \n 4   Last work date of most recent screening officer confirmed case  76 non-null     datetime64[ns]\ndtypes: datetime64[ns](1), float64(2), int64(1), object(1)\nmemory usage: 3.2+ KB\nNone\n"
    }
   ],
   "source": [
    "quick_check(tsa_confirmed_cases)"
   ]
  },
  {
   "cell_type": "markdown",
   "metadata": {},
   "source": [
    "#### Key takeaways fromm the above output:\n",
    "\n",
    "- The data columns are separated above with a `\\`.\n",
    "\n",
    "- Our dataframe is 78 rows and 5 columns.\n",
    "\n",
    "- Our dataframe contains nulls. \n",
    "\n",
    "- We have string, float, and datetime values. "
   ]
  },
  {
   "cell_type": "markdown",
   "metadata": {},
   "source": [
    "## 2.02 Data Documentation and Exploration"
   ]
  },
  {
   "cell_type": "markdown",
   "metadata": {},
   "source": [
    "### What is the \"Flight Data\"?\n",
    "\n",
    "The \"Flight Data\" is referring to the the dataframes showcasing the current flights (`current_flights`), flight combinations (`flight_combinations`), and flight schedules(`flight_schedules`). They each preside in the order which they were constructed, where the `current_flights` dataframe was collected first, then the `flight_combinations`, then the `flight_schedules`. All of the flight data collected stemmed from the root dataframe for this study: `current_flights`. Below are the data dictionaries for each dataframe after their cleaning process showcased in [3.00 Data Cleaning](#3.00-Data-Cleaning). The data dictionaries are to help us understand what each dataframe's value represents as the airline language can be non-intuitive to understand. Some of the values are also representative of API utilized to gather the data. "
   ]
  },
  {
   "cell_type": "markdown",
   "metadata": {},
   "source": [
    "### How was the Flight Data Gathered?"
   ]
  },
  {
   "cell_type": "markdown",
   "metadata": {},
   "source": [
    "### What Biases Play a Role in the Data? What Compromises were Made?"
   ]
  },
  {
   "cell_type": "markdown",
   "metadata": {},
   "source": [
    "### What is the Price Data?"
   ]
  },
  {
   "cell_type": "markdown",
   "metadata": {},
   "source": [
    "### How was the Price Data Gathered?"
   ]
  },
  {
   "cell_type": "markdown",
   "metadata": {},
   "source": [
    "### What Biases Play a Role in the Data? What Compromises were Made?"
   ]
  },
  {
   "cell_type": "markdown",
   "metadata": {},
   "source": [
    "### What are the Other Relevant Data?"
   ]
  },
  {
   "cell_type": "markdown",
   "metadata": {},
   "source": [
    "### How was the Other Relevant Data Gathered?"
   ]
  },
  {
   "cell_type": "markdown",
   "metadata": {},
   "source": [
    "### What Biases Play a Role in the Data? What Compromises were Made?"
   ]
  },
  {
   "cell_type": "markdown",
   "metadata": {},
   "source": [
    "# 3.00 Data Cleaning"
   ]
  },
  {
   "cell_type": "markdown",
   "metadata": {},
   "source": [
    "## 3.01 Flight Data"
   ]
  },
  {
   "cell_type": "markdown",
   "metadata": {},
   "source": [
    "### Datatype Conversion"
   ]
  },
  {
   "cell_type": "markdown",
   "metadata": {},
   "source": [
    "### Null Analysis"
   ]
  },
  {
   "cell_type": "code",
   "execution_count": 207,
   "metadata": {},
   "outputs": [],
   "source": [
    "def null_analysis(dataframe):\n",
    "    print(\"-------------------------------------------------------------------------------------------------\")\n",
    "    print(\"The below shows whether there exist nulls in our dataframe or not:\")\n",
    "    print(\" - - - - - - - - - - - - - - - - - - - - - - - - - - - - - - - - - - - - - - - - - - - - - - - - -\")\n",
    "    print(dataframe.isnull().any()) #checks the null status of the current_flights dataframe\n",
    "    print(\"-------------------------------------------------------------------------------------------------\")\n",
    "    print(\"The below shows the mean of nulls existing in a dataframe:\")\n",
    "    print(\" - - - - - - - - - - - - - - - - - - - - - - - - - - - - - - - - - - - - - - - - - - - - - - - - -\")\n",
    "    print(dataframe.isnull().mean().sort_values(ascending = False))\n",
    "    print(\"-------------------------------------------------------------------------------------------------\")\n",
    "    print(f\"The column with the most nulls is the '{dataframe.isnull().mean().sort_values(ascending = False).index[0]}' column with a null percentage of {dataframe.isnull().mean().sort_values(ascending = False).iloc[0]*100}%.\")\n",
    "    print(\"-------------------------------------------------------------------------------------------------\")\n",
    "    highest_null_mask = dataframe[str(dataframe.isnull().mean().sort_values(ascending = False).index[0])].isnull() == True\n",
    "    print(\"The below shows the most masked null dataframe for more clear understanding:\")\n",
    "    print(\" - - - - - - - - - - - - - - - - - - - - - - - - - - - - - - - - - - - - - - - - - - - - - - - - -\")\n",
    "    print(dataframe[highest_null_mask])\n",
    "    print(\"-------------------------------------------------------------------------------------------------\")\n",
    "    anti_highest_null_mask = dataframe[str(dataframe.isnull().mean().sort_values(ascending = False).index[0])].isnull() == False\n",
    "    print(\"The below shows the most masked null dataframe, where nulls are filtered out, for more clear understanding:\")\n",
    "    print(\" - - - - - - - - - - - - - - - - - - - - - - - - - - - - - - - - - - - - - - - - - - - - - - - - -\")\n",
    "    print(dataframe[anti_highest_null_mask])"
   ]
  },
  {
   "cell_type": "markdown",
   "metadata": {},
   "source": [
    "### One-Hot Encoding"
   ]
  },
  {
   "cell_type": "markdown",
   "metadata": {},
   "source": [
    "## 3.02 Price Data\n",
    "\n",
    "A plethora of price data was collected using the Skyscanner API. However, due to complications, some prices were found to be null for certain dates. With such limitations, lots of other data were collected to help us fill in the gaps for the missing values. We will explore both dataframes for pricing to help us analyze appropriate prices per flight. To start our cleaning process, we will re-state our `quick_check` function and re-state our key takeaways from earlier in the study. "
   ]
  },
  {
   "cell_type": "code",
   "execution_count": 150,
   "metadata": {},
   "outputs": [
    {
     "name": "stdout",
     "output_type": "stream",
     "text": "-------------------------------------------------------------------------------------------------\nThe head of your input dataframe is dataframe is:\n - - - - - - - - - - - - - - - - - - - - - - - - - - - - - - - - - - - - - - - - - - - - - - - - -\n   Unnamed: 0 Quotes Places Carriers  \\\n0           0     []     []       []   \n1           1     []     []       []   \n2           2     []     []       []   \n3           3     []     []       []   \n4           4     []     []       []   \n\n                                          Currencies ValidationErrors  \n0  [{'Code': 'USD', 'Symbol': '$', 'ThousandsSepa...              NaN  \n1  [{'Code': 'USD', 'Symbol': '$', 'ThousandsSepa...              NaN  \n2  [{'Code': 'USD', 'Symbol': '$', 'ThousandsSepa...              NaN  \n3  [{'Code': 'USD', 'Symbol': '$', 'ThousandsSepa...              NaN  \n4  [{'Code': 'USD', 'Symbol': '$', 'ThousandsSepa...              NaN  \n-------------------------------------------------------------------------------------------------\nThe tail of your input dataframe is:\n - - - - - - - - - - - - - - - - - - - - - - - - - - - - - - - - - - - - - - - - - - - - - - - - -\n     Unnamed: 0                                             Quotes  \\\n715         715  [{'QuoteId': 1, 'MinPrice': 79.0, 'Direct': Tr...   \n716         716                                                 []   \n717         717  [{'QuoteId': 1, 'MinPrice': 120.0, 'Direct': F...   \n718         718                                                 []   \n719         719                                                 []   \n\n                                                Places  \\\n715  [{'PlaceId': 47118, 'IataCode': 'DEN', 'Name':...   \n716                                                 []   \n717  [{'PlaceId': 47118, 'IataCode': 'DEN', 'Name':...   \n718                                                 []   \n719                                                 []   \n\n                                              Carriers  \\\n715  [{'CarrierId': 1065, 'Name': 'Frontier Airline...   \n716                                                 []   \n717  [{'CarrierId': 851, 'Name': 'Alaska Airlines'}...   \n718                                                 []   \n719                                                 []   \n\n                                            Currencies ValidationErrors  \n715  [{'Code': 'USD', 'Symbol': '$', 'ThousandsSepa...              NaN  \n716  [{'Code': 'USD', 'Symbol': '$', 'ThousandsSepa...              NaN  \n717  [{'Code': 'USD', 'Symbol': '$', 'ThousandsSepa...              NaN  \n718  [{'Code': 'USD', 'Symbol': '$', 'ThousandsSepa...              NaN  \n719  [{'Code': 'USD', 'Symbol': '$', 'ThousandsSepa...              NaN  \n-------------------------------------------------------------------------------------------------\nThe shape of the dataframe is 720 rows and 6 columns.\n-------------------------------------------------------------------------------------------------\nThe below shows whether there exist nulls in our dataframe or not:\n - - - - - - - - - - - - - - - - - - - - - - - - - - - - - - - - - - - - - - - - - - - - - - - - -\nUnnamed: 0          False\nQuotes               True\nPlaces               True\nCarriers             True\nCurrencies           True\nValidationErrors     True\ndtype: bool\n-------------------------------------------------------------------------------------------------\nThe below shows the useful information to be aware of when exploring this input dataframe:\n - - - - - - - - - - - - - - - - - - - - - - - - - - - - - - - - - - - - - - - - - - - - - - - - -\n<class 'pandas.core.frame.DataFrame'>\nRangeIndex: 720 entries, 0 to 719\nData columns (total 6 columns):\n #   Column            Non-Null Count  Dtype \n---  ------            --------------  ----- \n 0   Unnamed: 0        720 non-null    int64 \n 1   Quotes            696 non-null    object\n 2   Places            696 non-null    object\n 3   Carriers          696 non-null    object\n 4   Currencies        696 non-null    object\n 5   ValidationErrors  24 non-null     object\ndtypes: int64(1), object(5)\nmemory usage: 33.9+ KB\nNone\n"
    }
   ],
   "source": [
    "quick_check(monthly_pricing_2021)"
   ]
  },
  {
   "cell_type": "markdown",
   "metadata": {},
   "source": [
    "#### Key takeaways from the above output:\n",
    "\n",
    "- The dataframe is large and denotes separations with a `\\` symbol.\n",
    "\n",
    "- The data is stored in json dictionaries. We will need to clean that to access more readable data.\n",
    "\n",
    "- There is an `Unnamed: 0` column in our dataframe which is not necessary to include. We will remove this in our cleaning.\n",
    "\n",
    "- Our dataframe is 720 rows and 7 columns.\n",
    "\n",
    "- Our dataframe contains nulls. \n",
    "\n",
    "- We have mostly string values.  "
   ]
  },
  {
   "cell_type": "code",
   "execution_count": 152,
   "metadata": {},
   "outputs": [
    {
     "name": "stdout",
     "output_type": "stream",
     "text": "-------------------------------------------------------------------------------------------------\nThe head of your input dataframe is dataframe is:\n - - - - - - - - - - - - - - - - - - - - - - - - - - - - - - - - - - - - - - - - - - - - - - - - -\n   Unnamed: 0                                             Quotes  \\\n0           0                                                 []   \n1           1  [{'QuoteId': 1, 'MinPrice': 327.0, 'Direct': F...   \n2           2  [{'QuoteId': 1, 'MinPrice': 353.0, 'Direct': F...   \n3           3                                                 []   \n4           4                                                 []   \n\n                                              Places  \\\n0                                                 []   \n1  [{'PlaceId': 60987, 'IataCode': 'JFK', 'Name':...   \n2  [{'PlaceId': 60987, 'IataCode': 'JFK', 'Name':...   \n3                                                 []   \n4                                                 []   \n\n                                   Carriers  \\\n0                                        []   \n1  [{'CarrierId': 1907, 'Name': 'WestJet'}]   \n2  [{'CarrierId': 1907, 'Name': 'WestJet'}]   \n3                                        []   \n4                                        []   \n\n                                          Currencies ValidationErrors  \n0  [{'Code': 'USD', 'Symbol': '$', 'ThousandsSepa...              NaN  \n1  [{'Code': 'USD', 'Symbol': '$', 'ThousandsSepa...              NaN  \n2  [{'Code': 'USD', 'Symbol': '$', 'ThousandsSepa...              NaN  \n3  [{'Code': 'USD', 'Symbol': '$', 'ThousandsSepa...              NaN  \n4  [{'Code': 'USD', 'Symbol': '$', 'ThousandsSepa...              NaN  \n-------------------------------------------------------------------------------------------------\nThe tail of your input dataframe is:\n - - - - - - - - - - - - - - - - - - - - - - - - - - - - - - - - - - - - - - - - - - - - - - - - -\n     Unnamed: 0                                             Quotes  \\\n415         415  [{'QuoteId': 1, 'MinPrice': 69.0, 'Direct': Tr...   \n416         416  [{'QuoteId': 1, 'MinPrice': 79.0, 'Direct': Tr...   \n417         417  [{'QuoteId': 1, 'MinPrice': 199.0, 'Direct': T...   \n418         418  [{'QuoteId': 1, 'MinPrice': 69.0, 'Direct': Tr...   \n419         419  [{'QuoteId': 1, 'MinPrice': 63.0, 'Direct': Tr...   \n\n                                                Places  \\\n415  [{'PlaceId': 47118, 'IataCode': 'DEN', 'Name':...   \n416  [{'PlaceId': 47118, 'IataCode': 'DEN', 'Name':...   \n417  [{'PlaceId': 47118, 'IataCode': 'DEN', 'Name':...   \n418  [{'PlaceId': 47118, 'IataCode': 'DEN', 'Name':...   \n419  [{'PlaceId': 47118, 'IataCode': 'DEN', 'Name':...   \n\n                                              Carriers  \\\n415  [{'CarrierId': 851, 'Name': 'Alaska Airlines'}...   \n416  [{'CarrierId': 1065, 'Name': 'Frontier Airline...   \n417  [{'CarrierId': 851, 'Name': 'Alaska Airlines'}...   \n418  [{'CarrierId': 1065, 'Name': 'Frontier Airline...   \n419  [{'CarrierId': 1065, 'Name': 'Frontier Airline...   \n\n                                            Currencies ValidationErrors  \n415  [{'Code': 'USD', 'Symbol': '$', 'ThousandsSepa...              NaN  \n416  [{'Code': 'USD', 'Symbol': '$', 'ThousandsSepa...              NaN  \n417  [{'Code': 'USD', 'Symbol': '$', 'ThousandsSepa...              NaN  \n418  [{'Code': 'USD', 'Symbol': '$', 'ThousandsSepa...              NaN  \n419  [{'Code': 'USD', 'Symbol': '$', 'ThousandsSepa...              NaN  \n-------------------------------------------------------------------------------------------------\nThe shape of the dataframe is 420 rows and 6 columns.\n-------------------------------------------------------------------------------------------------\nThe below shows whether there exist nulls in our dataframe or not:\n - - - - - - - - - - - - - - - - - - - - - - - - - - - - - - - - - - - - - - - - - - - - - - - - -\nUnnamed: 0          False\nQuotes               True\nPlaces               True\nCarriers             True\nCurrencies           True\nValidationErrors     True\ndtype: bool\n-------------------------------------------------------------------------------------------------\nThe below shows the useful information to be aware of when exploring this input dataframe:\n - - - - - - - - - - - - - - - - - - - - - - - - - - - - - - - - - - - - - - - - - - - - - - - - -\n<class 'pandas.core.frame.DataFrame'>\nRangeIndex: 420 entries, 0 to 419\nData columns (total 6 columns):\n #   Column            Non-Null Count  Dtype \n---  ------            --------------  ----- \n 0   Unnamed: 0        420 non-null    int64 \n 1   Quotes            406 non-null    object\n 2   Places            406 non-null    object\n 3   Carriers          406 non-null    object\n 4   Currencies        406 non-null    object\n 5   ValidationErrors  14 non-null     object\ndtypes: int64(1), object(5)\nmemory usage: 19.8+ KB\nNone\n"
    }
   ],
   "source": [
    "quick_check(june2020_to_december2020_monthlyprice)"
   ]
  },
  {
   "cell_type": "markdown",
   "metadata": {},
   "source": [
    "#### Key takeaways fromm the above output:\n",
    "\n",
    "- The dataframe is large and denotes separations with a `\\` symbol.\n",
    "\n",
    "- The data is stored in json dictionaries. We will need to clean that to access more readable data.\n",
    "\n",
    "- There is an `Unnamed: 0` column in our dataframe which is not necessary to include. We will remove this in our cleaning.\n",
    "\n",
    "- Our dataframe is 5823 rows and 6 columns.\n",
    "\n",
    "- Our dataframe contains nulls. \n",
    "\n",
    "- We have mostly string values. "
   ]
  },
  {
   "cell_type": "markdown",
   "metadata": {},
   "source": [
    "### Unpacking the Monthly Pricing Dataframe and Null Analysis\n",
    "\n",
    "Due to the Skyscanner's method of data scraping, our data is nested inside of dictionaries. We are going to need to clean up the dictionaries and most likely export a lot more hidden data from these dictionaries. We are prepared to create more dataframes out of these dictionaries. To make dictionary unpacking process more efficient, we are also going to have to perform a null analysis on all of the data so help us recognize any `NaNs` in our dataframe. Once such `NaNs` are recognized, we can determine what would be the most appropriate action to substitute a value for such `NaNs` OR completely eliminate them entirely based on their importance. "
   ]
  },
  {
   "cell_type": "markdown",
   "metadata": {},
   "source": [
    "First we are going to drop the `Unnamed: 0` column through the above defined function to ease our dataframe cleaning process across multiple dataframes. "
   ]
  },
  {
   "cell_type": "code",
   "execution_count": 153,
   "metadata": {},
   "outputs": [],
   "source": [
    "def drop_unnamed(dataframe):\n",
    "    dataframe.drop(columns = 'Unnamed: 0', inplace = True)"
   ]
  },
  {
   "cell_type": "code",
   "execution_count": 156,
   "metadata": {},
   "outputs": [],
   "source": [
    "drop_unnamed(monthly_pricing_2021)\n",
    "drop_unnamed(june2020_to_december2020_monthly_price)"
   ]
  },
  {
   "cell_type": "markdown",
   "metadata": {},
   "source": [
    "Let's do some null analysis. Our Quotes are our most important columns. So We will analyze how many nulls there are. "
   ]
  },
  {
   "cell_type": "code",
   "execution_count": 208,
   "metadata": {},
   "outputs": [
    {
     "name": "stdout",
     "output_type": "stream",
     "text": "-------------------------------------------------------------------------------------------------\nThe below shows whether there exist nulls in our dataframe or not:\n - - - - - - - - - - - - - - - - - - - - - - - - - - - - - - - - - - - - - - - - - - - - - - - - -\nQuotes              True\nPlaces              True\nCarriers            True\nCurrencies          True\nValidationErrors    True\ndtype: bool\n-------------------------------------------------------------------------------------------------\nThe below shows the mean of nulls existing in a dataframe:\n - - - - - - - - - - - - - - - - - - - - - - - - - - - - - - - - - - - - - - - - - - - - - - - - -\nValidationErrors    0.966667\nCurrencies          0.033333\nCarriers            0.033333\nPlaces              0.033333\nQuotes              0.033333\ndtype: float64\n-------------------------------------------------------------------------------------------------\nThe column with the most nulls is the 'ValidationErrors' column with a null percentage of 96.66666666666667%.\n-------------------------------------------------------------------------------------------------\nThe below shows the most masked null dataframe for more clear understanding:\n - - - - - - - - - - - - - - - - - - - - - - - - - - - - - - - - - - - - - - - - - - - - - - - - -\n                                                Quotes  \\\n0                                                   []   \n1                                                   []   \n2                                                   []   \n3                                                   []   \n4                                                   []   \n..                                                 ...   \n715  [{'QuoteId': 1, 'MinPrice': 79.0, 'Direct': Tr...   \n716                                                 []   \n717  [{'QuoteId': 1, 'MinPrice': 120.0, 'Direct': F...   \n718                                                 []   \n719                                                 []   \n\n                                                Places  \\\n0                                                   []   \n1                                                   []   \n2                                                   []   \n3                                                   []   \n4                                                   []   \n..                                                 ...   \n715  [{'PlaceId': 47118, 'IataCode': 'DEN', 'Name':...   \n716                                                 []   \n717  [{'PlaceId': 47118, 'IataCode': 'DEN', 'Name':...   \n718                                                 []   \n719                                                 []   \n\n                                              Carriers  \\\n0                                                   []   \n1                                                   []   \n2                                                   []   \n3                                                   []   \n4                                                   []   \n..                                                 ...   \n715  [{'CarrierId': 1065, 'Name': 'Frontier Airline...   \n716                                                 []   \n717  [{'CarrierId': 851, 'Name': 'Alaska Airlines'}...   \n718                                                 []   \n719                                                 []   \n\n                                            Currencies ValidationErrors  \n0    [{'Code': 'USD', 'Symbol': '$', 'ThousandsSepa...              NaN  \n1    [{'Code': 'USD', 'Symbol': '$', 'ThousandsSepa...              NaN  \n2    [{'Code': 'USD', 'Symbol': '$', 'ThousandsSepa...              NaN  \n3    [{'Code': 'USD', 'Symbol': '$', 'ThousandsSepa...              NaN  \n4    [{'Code': 'USD', 'Symbol': '$', 'ThousandsSepa...              NaN  \n..                                                 ...              ...  \n715  [{'Code': 'USD', 'Symbol': '$', 'ThousandsSepa...              NaN  \n716  [{'Code': 'USD', 'Symbol': '$', 'ThousandsSepa...              NaN  \n717  [{'Code': 'USD', 'Symbol': '$', 'ThousandsSepa...              NaN  \n718  [{'Code': 'USD', 'Symbol': '$', 'ThousandsSepa...              NaN  \n719  [{'Code': 'USD', 'Symbol': '$', 'ThousandsSepa...              NaN  \n\n[696 rows x 5 columns]\n-------------------------------------------------------------------------------------------------\nThe below shows the most masked null dataframe, where nulls are filtered out, for more clear understanding:\n - - - - - - - - - - - - - - - - - - - - - - - - - - - - - - - - - - - - - - - - - - - - - - - - -\n    Quotes Places Carriers Currencies  \\\n624    NaN    NaN      NaN        NaN   \n625    NaN    NaN      NaN        NaN   \n626    NaN    NaN      NaN        NaN   \n627    NaN    NaN      NaN        NaN   \n628    NaN    NaN      NaN        NaN   \n629    NaN    NaN      NaN        NaN   \n630    NaN    NaN      NaN        NaN   \n631    NaN    NaN      NaN        NaN   \n632    NaN    NaN      NaN        NaN   \n633    NaN    NaN      NaN        NaN   \n634    NaN    NaN      NaN        NaN   \n635    NaN    NaN      NaN        NaN   \n696    NaN    NaN      NaN        NaN   \n697    NaN    NaN      NaN        NaN   \n698    NaN    NaN      NaN        NaN   \n699    NaN    NaN      NaN        NaN   \n700    NaN    NaN      NaN        NaN   \n701    NaN    NaN      NaN        NaN   \n702    NaN    NaN      NaN        NaN   \n703    NaN    NaN      NaN        NaN   \n704    NaN    NaN      NaN        NaN   \n705    NaN    NaN      NaN        NaN   \n706    NaN    NaN      NaN        NaN   \n707    NaN    NaN      NaN        NaN   \n\n                                      ValidationErrors  \n624  [{'ParameterName': 'OriginPlace', 'ParameterVa...  \n625  [{'ParameterName': 'OriginPlace', 'ParameterVa...  \n626  [{'ParameterName': 'OriginPlace', 'ParameterVa...  \n627  [{'ParameterName': 'OriginPlace', 'ParameterVa...  \n628  [{'ParameterName': 'OriginPlace', 'ParameterVa...  \n629  [{'ParameterName': 'OriginPlace', 'ParameterVa...  \n630  [{'ParameterName': 'OriginPlace', 'ParameterVa...  \n631  [{'ParameterName': 'OriginPlace', 'ParameterVa...  \n632  [{'ParameterName': 'OriginPlace', 'ParameterVa...  \n633  [{'ParameterName': 'OriginPlace', 'ParameterVa...  \n634  [{'ParameterName': 'OriginPlace', 'ParameterVa...  \n635  [{'ParameterName': 'OriginPlace', 'ParameterVa...  \n696  [{'ParameterName': 'OriginPlace', 'ParameterVa...  \n697  [{'ParameterName': 'OriginPlace', 'ParameterVa...  \n698  [{'ParameterName': 'OriginPlace', 'ParameterVa...  \n699  [{'ParameterName': 'OriginPlace', 'ParameterVa...  \n700  [{'ParameterName': 'OriginPlace', 'ParameterVa...  \n701  [{'ParameterName': 'OriginPlace', 'ParameterVa...  \n702  [{'ParameterName': 'OriginPlace', 'ParameterVa...  \n703  [{'ParameterName': 'OriginPlace', 'ParameterVa...  \n704  [{'ParameterName': 'OriginPlace', 'ParameterVa...  \n705  [{'ParameterName': 'OriginPlace', 'ParameterVa...  \n706  [{'ParameterName': 'OriginPlace', 'ParameterVa...  \n707  [{'ParameterName': 'OriginPlace', 'ParameterVa...  \n"
    }
   ],
   "source": [
    "null_analysis(monthly_pricing_2021)"
   ]
  },
  {
   "cell_type": "markdown",
   "metadata": {},
   "source": [
    "From the above, our `ValidationErrors` column contains the most nulls in our dataframe. With respect to the context of our study, keeping these `ValidationErrors` column is unnecessary as it is only an indicator for a successful query search. We will drop it from the dataframe. Before doing so, it would best to also interpret the pecentage of `ValidationErrors` nulls and comapre against the percentage nulls of the rest of the columns in our dataframe. The rest of our dataframe is presenting approximately 3.3% nulls. Through the final print statement from the above output of the dataframe, we notice that the dataframe showing values for true `ValidationErrors` is expressing nulls across the entire rows of such data. We can confidently state that the data rest of the dataframe showing nulls are missing not at random ([MNAR](https://www.theanalysisfactor.com/missing-data-mechanism/)) in this instance. We cannot identify what is triggering the validation errors in the first place through a large data scrape, but we do know the validation errors to be present for every row of `NaNs`; we know the two are related and can confidently state that for every true instance of a validation error, we can expect a row to be empty. \n",
    "\n",
    "In summary, we know that there is no need to keep the `ValidationErrors` in our study. With entire rows missing form the dataframe, we will not be able to make any meaningful identification for the missing data or find a way to impute such values. Therefore, we will drop such rows. The cost of damage for this study is minimal with only a loss of approximately 3.3% of our values. Any further errors recognized will consider this dataframe drop as a culprit, during the mass dataframe concatenation conducted in a later section (partciularly combatting an instance where a flight combination may not be read for the study).\n",
    "\n",
    "To efficiently do this, we will drop nulls across the most improtant target feature column which will shave approximately 3.3 percent of our dataframe. We will then drop the `ValidationErrors` column.   "
   ]
  },
  {
   "cell_type": "code",
   "execution_count": 210,
   "metadata": {},
   "outputs": [],
   "source": [
    "monthly_pricing_2021.dropna(subset = ['Quotes'], inplace = True) "
   ]
  },
  {
   "cell_type": "code",
   "execution_count": 212,
   "metadata": {},
   "outputs": [],
   "source": [
    "monthly_pricing_2021.drop(columns = 'ValidationErrors', inplace = True)"
   ]
  },
  {
   "cell_type": "code",
   "execution_count": 213,
   "metadata": {},
   "outputs": [
    {
     "name": "stdout",
     "output_type": "stream",
     "text": "-------------------------------------------------------------------------------------------------\nThe below shows whether there exist nulls in our dataframe or not:\n - - - - - - - - - - - - - - - - - - - - - - - - - - - - - - - - - - - - - - - - - - - - - - - - -\nQuotes        False\nPlaces        False\nCarriers      False\nCurrencies    False\ndtype: bool\n-------------------------------------------------------------------------------------------------\nThe below shows the mean of nulls existing in a dataframe:\n - - - - - - - - - - - - - - - - - - - - - - - - - - - - - - - - - - - - - - - - - - - - - - - - -\nCurrencies    0.0\nCarriers      0.0\nPlaces        0.0\nQuotes        0.0\ndtype: float64\n-------------------------------------------------------------------------------------------------\nThe column with the most nulls is the 'Currencies' column with a null percentage of 0.0%.\n-------------------------------------------------------------------------------------------------\nThe below shows the most masked null dataframe for more clear understanding:\n - - - - - - - - - - - - - - - - - - - - - - - - - - - - - - - - - - - - - - - - - - - - - - - - -\nEmpty DataFrame\nColumns: [Quotes, Places, Carriers, Currencies]\nIndex: []\n-------------------------------------------------------------------------------------------------\nThe below shows the most masked null dataframe, where nulls are filtered out, for more clear understanding:\n - - - - - - - - - - - - - - - - - - - - - - - - - - - - - - - - - - - - - - - - - - - - - - - - -\n                                                Quotes  \\\n0                                                   []   \n1                                                   []   \n2                                                   []   \n3                                                   []   \n4                                                   []   \n..                                                 ...   \n715  [{'QuoteId': 1, 'MinPrice': 79.0, 'Direct': Tr...   \n716                                                 []   \n717  [{'QuoteId': 1, 'MinPrice': 120.0, 'Direct': F...   \n718                                                 []   \n719                                                 []   \n\n                                                Places  \\\n0                                                   []   \n1                                                   []   \n2                                                   []   \n3                                                   []   \n4                                                   []   \n..                                                 ...   \n715  [{'PlaceId': 47118, 'IataCode': 'DEN', 'Name':...   \n716                                                 []   \n717  [{'PlaceId': 47118, 'IataCode': 'DEN', 'Name':...   \n718                                                 []   \n719                                                 []   \n\n                                              Carriers  \\\n0                                                   []   \n1                                                   []   \n2                                                   []   \n3                                                   []   \n4                                                   []   \n..                                                 ...   \n715  [{'CarrierId': 1065, 'Name': 'Frontier Airline...   \n716                                                 []   \n717  [{'CarrierId': 851, 'Name': 'Alaska Airlines'}...   \n718                                                 []   \n719                                                 []   \n\n                                            Currencies  \n0    [{'Code': 'USD', 'Symbol': '$', 'ThousandsSepa...  \n1    [{'Code': 'USD', 'Symbol': '$', 'ThousandsSepa...  \n2    [{'Code': 'USD', 'Symbol': '$', 'ThousandsSepa...  \n3    [{'Code': 'USD', 'Symbol': '$', 'ThousandsSepa...  \n4    [{'Code': 'USD', 'Symbol': '$', 'ThousandsSepa...  \n..                                                 ...  \n715  [{'Code': 'USD', 'Symbol': '$', 'ThousandsSepa...  \n716  [{'Code': 'USD', 'Symbol': '$', 'ThousandsSepa...  \n717  [{'Code': 'USD', 'Symbol': '$', 'ThousandsSepa...  \n718  [{'Code': 'USD', 'Symbol': '$', 'ThousandsSepa...  \n719  [{'Code': 'USD', 'Symbol': '$', 'ThousandsSepa...  \n\n[696 rows x 4 columns]\n"
    }
   ],
   "source": [
    "null_analysis(monthly_pricing_2021)"
   ]
  },
  {
   "cell_type": "markdown",
   "metadata": {},
   "source": [
    "Conducting a second null_analysis on the dataframe shows that nulls no longer exist in a manner that is recognized by python. However, this does not mean we aren't missing any data. Through some of the above output, we can intuitively recognize that we are indeed missing some quotes through successful query searches. Let's analyze why python is misinterpreting such nulls. To do this, we will analyze an \"empty\" element in `monthly_pricing_2021[Quotes]` to see what python is recognizing, as well as a \"filled\" element.  "
   ]
  },
  {
   "cell_type": "code",
   "execution_count": 216,
   "metadata": {},
   "outputs": [
    {
     "name": "stdout",
     "output_type": "stream",
     "text": "<class 'str'>\n- - - - - - - - - - - - - - - - - - - -\n<class 'str'>\n"
    }
   ],
   "source": [
    "print(type(monthly_pricing_2021.loc[0, 'Quotes']))\n",
    "print('- - - - - - - - - - - - - - - - - - - -')\n",
    "print(type(monthly_pricing_2021.loc[715, 'Quotes']))"
   ]
  },
  {
   "cell_type": "markdown",
   "metadata": {},
   "source": [
    "From the above outputs, we can see that each element is being recognized as a string. This means the perceived \"empty\" elements are expressing a True Boolean state output. We will convert such strings to their perceived appropriate outputs with the below function.  "
   ]
  },
  {
   "cell_type": "code",
   "execution_count": 227,
   "metadata": {},
   "outputs": [],
   "source": [
    "monthly_pricing_2021['Quotes'] = monthly_pricing_2021['Quotes'].apply(lambda element: ast.literal_eval(element))"
   ]
  },
  {
   "cell_type": "markdown",
   "metadata": {},
   "source": [
    "Let's inspect a random element..."
   ]
  },
  {
   "cell_type": "code",
   "execution_count": 236,
   "metadata": {},
   "outputs": [
    {
     "ename": "ValueError",
     "evalue": "malformed node or string: 0                                                     []\n1                                                     []\n2                                                     []\n3                                                     []\n4                                                     []\n                             ...                        \n715    [{'QuoteId': 1, 'MinPrice': 79.0, 'Direct': Tr...\n716                                                   []\n717    [{'QuoteId': 1, 'MinPrice': 120.0, 'Direct': F...\n718                                                   []\n719                                                   []\nName: Quotes, Length: 696, dtype: object",
     "output_type": "error",
     "traceback": [
      "\u001b[0;31m---------------------------------------------------------------------------\u001b[0m",
      "\u001b[0;31mValueError\u001b[0m                                Traceback (most recent call last)",
      "\u001b[0;32m<ipython-input-236-136c2321b618>\u001b[0m in \u001b[0;36m<module>\u001b[0;34m\u001b[0m\n\u001b[0;32m----> 1\u001b[0;31m \u001b[0mmonthly_pricing_2021\u001b[0m \u001b[0;34m=\u001b[0m \u001b[0mmonthly_pricing_2021\u001b[0m\u001b[0;34m.\u001b[0m\u001b[0mapply\u001b[0m\u001b[0;34m(\u001b[0m\u001b[0;32mlambda\u001b[0m \u001b[0melement\u001b[0m\u001b[0;34m:\u001b[0m \u001b[0mast\u001b[0m\u001b[0;34m.\u001b[0m\u001b[0mliteral_eval\u001b[0m\u001b[0;34m(\u001b[0m\u001b[0melement\u001b[0m\u001b[0;34m)\u001b[0m\u001b[0;34m)\u001b[0m\u001b[0;34m\u001b[0m\u001b[0;34m\u001b[0m\u001b[0m\n\u001b[0m",
      "\u001b[0;32m~/opt/anaconda3/envs/DSI_test/lib/python3.7/site-packages/pandas/core/frame.py\u001b[0m in \u001b[0;36mapply\u001b[0;34m(self, func, axis, raw, result_type, args, **kwds)\u001b[0m\n\u001b[1;32m   6876\u001b[0m             \u001b[0mkwds\u001b[0m\u001b[0;34m=\u001b[0m\u001b[0mkwds\u001b[0m\u001b[0;34m,\u001b[0m\u001b[0;34m\u001b[0m\u001b[0;34m\u001b[0m\u001b[0m\n\u001b[1;32m   6877\u001b[0m         )\n\u001b[0;32m-> 6878\u001b[0;31m         \u001b[0;32mreturn\u001b[0m \u001b[0mop\u001b[0m\u001b[0;34m.\u001b[0m\u001b[0mget_result\u001b[0m\u001b[0;34m(\u001b[0m\u001b[0;34m)\u001b[0m\u001b[0;34m\u001b[0m\u001b[0;34m\u001b[0m\u001b[0m\n\u001b[0m\u001b[1;32m   6879\u001b[0m \u001b[0;34m\u001b[0m\u001b[0m\n\u001b[1;32m   6880\u001b[0m     \u001b[0;32mdef\u001b[0m \u001b[0mapplymap\u001b[0m\u001b[0;34m(\u001b[0m\u001b[0mself\u001b[0m\u001b[0;34m,\u001b[0m \u001b[0mfunc\u001b[0m\u001b[0;34m)\u001b[0m \u001b[0;34m->\u001b[0m \u001b[0;34m\"DataFrame\"\u001b[0m\u001b[0;34m:\u001b[0m\u001b[0;34m\u001b[0m\u001b[0;34m\u001b[0m\u001b[0m\n",
      "\u001b[0;32m~/opt/anaconda3/envs/DSI_test/lib/python3.7/site-packages/pandas/core/apply.py\u001b[0m in \u001b[0;36mget_result\u001b[0;34m(self)\u001b[0m\n\u001b[1;32m    184\u001b[0m             \u001b[0;32mreturn\u001b[0m \u001b[0mself\u001b[0m\u001b[0;34m.\u001b[0m\u001b[0mapply_raw\u001b[0m\u001b[0;34m(\u001b[0m\u001b[0;34m)\u001b[0m\u001b[0;34m\u001b[0m\u001b[0;34m\u001b[0m\u001b[0m\n\u001b[1;32m    185\u001b[0m \u001b[0;34m\u001b[0m\u001b[0m\n\u001b[0;32m--> 186\u001b[0;31m         \u001b[0;32mreturn\u001b[0m \u001b[0mself\u001b[0m\u001b[0;34m.\u001b[0m\u001b[0mapply_standard\u001b[0m\u001b[0;34m(\u001b[0m\u001b[0;34m)\u001b[0m\u001b[0;34m\u001b[0m\u001b[0;34m\u001b[0m\u001b[0m\n\u001b[0m\u001b[1;32m    187\u001b[0m \u001b[0;34m\u001b[0m\u001b[0m\n\u001b[1;32m    188\u001b[0m     \u001b[0;32mdef\u001b[0m \u001b[0mapply_empty_result\u001b[0m\u001b[0;34m(\u001b[0m\u001b[0mself\u001b[0m\u001b[0;34m)\u001b[0m\u001b[0;34m:\u001b[0m\u001b[0;34m\u001b[0m\u001b[0;34m\u001b[0m\u001b[0m\n",
      "\u001b[0;32m~/opt/anaconda3/envs/DSI_test/lib/python3.7/site-packages/pandas/core/apply.py\u001b[0m in \u001b[0;36mapply_standard\u001b[0;34m(self)\u001b[0m\n\u001b[1;32m    294\u001b[0m             \u001b[0;32mtry\u001b[0m\u001b[0;34m:\u001b[0m\u001b[0;34m\u001b[0m\u001b[0;34m\u001b[0m\u001b[0m\n\u001b[1;32m    295\u001b[0m                 result = libreduction.compute_reduction(\n\u001b[0;32m--> 296\u001b[0;31m                     \u001b[0mvalues\u001b[0m\u001b[0;34m,\u001b[0m \u001b[0mself\u001b[0m\u001b[0;34m.\u001b[0m\u001b[0mf\u001b[0m\u001b[0;34m,\u001b[0m \u001b[0maxis\u001b[0m\u001b[0;34m=\u001b[0m\u001b[0mself\u001b[0m\u001b[0;34m.\u001b[0m\u001b[0maxis\u001b[0m\u001b[0;34m,\u001b[0m \u001b[0mdummy\u001b[0m\u001b[0;34m=\u001b[0m\u001b[0mdummy\u001b[0m\u001b[0;34m,\u001b[0m \u001b[0mlabels\u001b[0m\u001b[0;34m=\u001b[0m\u001b[0mlabels\u001b[0m\u001b[0;34m\u001b[0m\u001b[0;34m\u001b[0m\u001b[0m\n\u001b[0m\u001b[1;32m    297\u001b[0m                 )\n\u001b[1;32m    298\u001b[0m             \u001b[0;32mexcept\u001b[0m \u001b[0mValueError\u001b[0m \u001b[0;32mas\u001b[0m \u001b[0merr\u001b[0m\u001b[0;34m:\u001b[0m\u001b[0;34m\u001b[0m\u001b[0;34m\u001b[0m\u001b[0m\n",
      "\u001b[0;32mpandas/_libs/reduction.pyx\u001b[0m in \u001b[0;36mpandas._libs.reduction.compute_reduction\u001b[0;34m()\u001b[0m\n",
      "\u001b[0;32mpandas/_libs/reduction.pyx\u001b[0m in \u001b[0;36mpandas._libs.reduction.Reducer.get_result\u001b[0;34m()\u001b[0m\n",
      "\u001b[0;32m<ipython-input-236-136c2321b618>\u001b[0m in \u001b[0;36m<lambda>\u001b[0;34m(element)\u001b[0m\n\u001b[0;32m----> 1\u001b[0;31m \u001b[0mmonthly_pricing_2021\u001b[0m \u001b[0;34m=\u001b[0m \u001b[0mmonthly_pricing_2021\u001b[0m\u001b[0;34m.\u001b[0m\u001b[0mapply\u001b[0m\u001b[0;34m(\u001b[0m\u001b[0;32mlambda\u001b[0m \u001b[0melement\u001b[0m\u001b[0;34m:\u001b[0m \u001b[0mast\u001b[0m\u001b[0;34m.\u001b[0m\u001b[0mliteral_eval\u001b[0m\u001b[0;34m(\u001b[0m\u001b[0melement\u001b[0m\u001b[0;34m)\u001b[0m\u001b[0;34m)\u001b[0m\u001b[0;34m\u001b[0m\u001b[0;34m\u001b[0m\u001b[0m\n\u001b[0m",
      "\u001b[0;32m~/opt/anaconda3/envs/DSI_test/lib/python3.7/ast.py\u001b[0m in \u001b[0;36mliteral_eval\u001b[0;34m(node_or_string)\u001b[0m\n\u001b[1;32m     89\u001b[0m                     \u001b[0;32mreturn\u001b[0m \u001b[0mleft\u001b[0m \u001b[0;34m-\u001b[0m \u001b[0mright\u001b[0m\u001b[0;34m\u001b[0m\u001b[0;34m\u001b[0m\u001b[0m\n\u001b[1;32m     90\u001b[0m         \u001b[0;32mreturn\u001b[0m \u001b[0m_convert_signed_num\u001b[0m\u001b[0;34m(\u001b[0m\u001b[0mnode\u001b[0m\u001b[0;34m)\u001b[0m\u001b[0;34m\u001b[0m\u001b[0;34m\u001b[0m\u001b[0m\n\u001b[0;32m---> 91\u001b[0;31m     \u001b[0;32mreturn\u001b[0m \u001b[0m_convert\u001b[0m\u001b[0;34m(\u001b[0m\u001b[0mnode_or_string\u001b[0m\u001b[0;34m)\u001b[0m\u001b[0;34m\u001b[0m\u001b[0;34m\u001b[0m\u001b[0m\n\u001b[0m\u001b[1;32m     92\u001b[0m \u001b[0;34m\u001b[0m\u001b[0m\n\u001b[1;32m     93\u001b[0m \u001b[0;34m\u001b[0m\u001b[0m\n",
      "\u001b[0;32m~/opt/anaconda3/envs/DSI_test/lib/python3.7/ast.py\u001b[0m in \u001b[0;36m_convert\u001b[0;34m(node)\u001b[0m\n\u001b[1;32m     88\u001b[0m                 \u001b[0;32melse\u001b[0m\u001b[0;34m:\u001b[0m\u001b[0;34m\u001b[0m\u001b[0;34m\u001b[0m\u001b[0m\n\u001b[1;32m     89\u001b[0m                     \u001b[0;32mreturn\u001b[0m \u001b[0mleft\u001b[0m \u001b[0;34m-\u001b[0m \u001b[0mright\u001b[0m\u001b[0;34m\u001b[0m\u001b[0;34m\u001b[0m\u001b[0m\n\u001b[0;32m---> 90\u001b[0;31m         \u001b[0;32mreturn\u001b[0m \u001b[0m_convert_signed_num\u001b[0m\u001b[0;34m(\u001b[0m\u001b[0mnode\u001b[0m\u001b[0;34m)\u001b[0m\u001b[0;34m\u001b[0m\u001b[0;34m\u001b[0m\u001b[0m\n\u001b[0m\u001b[1;32m     91\u001b[0m     \u001b[0;32mreturn\u001b[0m \u001b[0m_convert\u001b[0m\u001b[0;34m(\u001b[0m\u001b[0mnode_or_string\u001b[0m\u001b[0;34m)\u001b[0m\u001b[0;34m\u001b[0m\u001b[0;34m\u001b[0m\u001b[0m\n\u001b[1;32m     92\u001b[0m \u001b[0;34m\u001b[0m\u001b[0m\n",
      "\u001b[0;32m~/opt/anaconda3/envs/DSI_test/lib/python3.7/ast.py\u001b[0m in \u001b[0;36m_convert_signed_num\u001b[0;34m(node)\u001b[0m\n\u001b[1;32m     61\u001b[0m             \u001b[0;32melse\u001b[0m\u001b[0;34m:\u001b[0m\u001b[0;34m\u001b[0m\u001b[0;34m\u001b[0m\u001b[0m\n\u001b[1;32m     62\u001b[0m                 \u001b[0;32mreturn\u001b[0m \u001b[0;34m-\u001b[0m \u001b[0moperand\u001b[0m\u001b[0;34m\u001b[0m\u001b[0;34m\u001b[0m\u001b[0m\n\u001b[0;32m---> 63\u001b[0;31m         \u001b[0;32mreturn\u001b[0m \u001b[0m_convert_num\u001b[0m\u001b[0;34m(\u001b[0m\u001b[0mnode\u001b[0m\u001b[0;34m)\u001b[0m\u001b[0;34m\u001b[0m\u001b[0;34m\u001b[0m\u001b[0m\n\u001b[0m\u001b[1;32m     64\u001b[0m     \u001b[0;32mdef\u001b[0m \u001b[0m_convert\u001b[0m\u001b[0;34m(\u001b[0m\u001b[0mnode\u001b[0m\u001b[0;34m)\u001b[0m\u001b[0;34m:\u001b[0m\u001b[0;34m\u001b[0m\u001b[0;34m\u001b[0m\u001b[0m\n\u001b[1;32m     65\u001b[0m         \u001b[0;32mif\u001b[0m \u001b[0misinstance\u001b[0m\u001b[0;34m(\u001b[0m\u001b[0mnode\u001b[0m\u001b[0;34m,\u001b[0m \u001b[0mConstant\u001b[0m\u001b[0;34m)\u001b[0m\u001b[0;34m:\u001b[0m\u001b[0;34m\u001b[0m\u001b[0;34m\u001b[0m\u001b[0m\n",
      "\u001b[0;32m~/opt/anaconda3/envs/DSI_test/lib/python3.7/ast.py\u001b[0m in \u001b[0;36m_convert_num\u001b[0;34m(node)\u001b[0m\n\u001b[1;32m     53\u001b[0m         \u001b[0;32melif\u001b[0m \u001b[0misinstance\u001b[0m\u001b[0;34m(\u001b[0m\u001b[0mnode\u001b[0m\u001b[0;34m,\u001b[0m \u001b[0mNum\u001b[0m\u001b[0;34m)\u001b[0m\u001b[0;34m:\u001b[0m\u001b[0;34m\u001b[0m\u001b[0;34m\u001b[0m\u001b[0m\n\u001b[1;32m     54\u001b[0m             \u001b[0;32mreturn\u001b[0m \u001b[0mnode\u001b[0m\u001b[0;34m.\u001b[0m\u001b[0mn\u001b[0m\u001b[0;34m\u001b[0m\u001b[0;34m\u001b[0m\u001b[0m\n\u001b[0;32m---> 55\u001b[0;31m         \u001b[0;32mraise\u001b[0m \u001b[0mValueError\u001b[0m\u001b[0;34m(\u001b[0m\u001b[0;34m'malformed node or string: '\u001b[0m \u001b[0;34m+\u001b[0m \u001b[0mrepr\u001b[0m\u001b[0;34m(\u001b[0m\u001b[0mnode\u001b[0m\u001b[0;34m)\u001b[0m\u001b[0;34m)\u001b[0m\u001b[0;34m\u001b[0m\u001b[0;34m\u001b[0m\u001b[0m\n\u001b[0m\u001b[1;32m     56\u001b[0m     \u001b[0;32mdef\u001b[0m \u001b[0m_convert_signed_num\u001b[0m\u001b[0;34m(\u001b[0m\u001b[0mnode\u001b[0m\u001b[0;34m)\u001b[0m\u001b[0;34m:\u001b[0m\u001b[0;34m\u001b[0m\u001b[0;34m\u001b[0m\u001b[0m\n\u001b[1;32m     57\u001b[0m         \u001b[0;32mif\u001b[0m \u001b[0misinstance\u001b[0m\u001b[0;34m(\u001b[0m\u001b[0mnode\u001b[0m\u001b[0;34m,\u001b[0m \u001b[0mUnaryOp\u001b[0m\u001b[0;34m)\u001b[0m \u001b[0;32mand\u001b[0m \u001b[0misinstance\u001b[0m\u001b[0;34m(\u001b[0m\u001b[0mnode\u001b[0m\u001b[0;34m.\u001b[0m\u001b[0mop\u001b[0m\u001b[0;34m,\u001b[0m \u001b[0;34m(\u001b[0m\u001b[0mUAdd\u001b[0m\u001b[0;34m,\u001b[0m \u001b[0mUSub\u001b[0m\u001b[0;34m)\u001b[0m\u001b[0;34m)\u001b[0m\u001b[0;34m:\u001b[0m\u001b[0;34m\u001b[0m\u001b[0;34m\u001b[0m\u001b[0m\n",
      "\u001b[0;31mValueError\u001b[0m: malformed node or string: 0                                                     []\n1                                                     []\n2                                                     []\n3                                                     []\n4                                                     []\n                             ...                        \n715    [{'QuoteId': 1, 'MinPrice': 79.0, 'Direct': Tr...\n716                                                   []\n717    [{'QuoteId': 1, 'MinPrice': 120.0, 'Direct': F...\n718                                                   []\n719                                                   []\nName: Quotes, Length: 696, dtype: object"
     ]
    }
   ],
   "source": [
    "monthly_pricing_2021 = monthly_pricing_2021.apply(lambda element: ast.literal_eval(element))"
   ]
  },
  {
   "cell_type": "code",
   "execution_count": 235,
   "metadata": {},
   "outputs": [
    {
     "data": {
      "text/plain": "{'QuoteId': 1,\n 'MinPrice': 79.0,\n 'Direct': True,\n 'OutboundLeg': {'CarrierIds': [1065],\n  'OriginId': 47118,\n  'DestinationId': 74728,\n  'DepartureDate': '2021-02-01T00:00:00'},\n 'QuoteDateTime': '2020-06-01T13:48:00'}"
     },
     "execution_count": 235,
     "metadata": {},
     "output_type": "execute_result"
    }
   ],
   "source": [
    "monthly_pricing_2021.loc[715, 'Quotes'][0]"
   ]
  },
  {
   "cell_type": "markdown",
   "metadata": {},
   "source": [
    "We must remind ourselves that this is a part of our features co"
   ]
  },
  {
   "cell_type": "code",
   "execution_count": null,
   "metadata": {},
   "outputs": [],
   "source": []
  },
  {
   "cell_type": "code",
   "execution_count": 115,
   "metadata": {},
   "outputs": [],
   "source": [
    "string = monthly_pricing_2021.loc[715, 'Quotes']\n",
    "result = ast.literal_eval(string)\n",
    "\n",
    "string2 = monthly_pricing_2021.loc[717, 'Quotes']\n",
    "result2 = ast.literal_eval(string2)\n",
    "\n",
    "\n",
    "\n",
    "test_df = pd.DataFrame(result[0], columns = result[0].keys())\n",
    "test2_df = pd.DataFrame(result2[0], columns = result2[0].keys())\n",
    "\n",
    "togetherframe = pd.concat([test_df, test2_df])"
   ]
  },
  {
   "cell_type": "code",
   "execution_count": 46,
   "metadata": {},
   "outputs": [
    {
     "data": {
      "text/plain": "\"[{'QuoteId': 1, 'MinPrice': 79.0, 'Direct': True, 'OutboundLeg': {'CarrierIds': [1065], 'OriginId': 47118, 'DestinationId': 74728, 'DepartureDate': '2021-02-01T00:00:00'}, 'QuoteDateTime': '2020-05-31T11:23:00'}]\""
     },
     "execution_count": 46,
     "metadata": {},
     "output_type": "execute_result"
    }
   ],
   "source": [
    "monthly_pricing_2021.loc[715, 'Quotes']"
   ]
  },
  {
   "cell_type": "code",
   "execution_count": 34,
   "metadata": {},
   "outputs": [
    {
     "data": {
      "text/plain": "'[]'"
     },
     "execution_count": 34,
     "metadata": {},
     "output_type": "execute_result"
    }
   ],
   "source": [
    "monthly_pricing_2021.loc[716, 'Quotes']"
   ]
  },
  {
   "cell_type": "markdown",
   "metadata": {},
   "source": [
    "#### Test on Monthly"
   ]
  },
  {
   "cell_type": "code",
   "execution_count": null,
   "metadata": {},
   "outputs": [],
   "source": []
  },
  {
   "cell_type": "code",
   "execution_count": null,
   "metadata": {},
   "outputs": [],
   "source": []
  },
  {
   "cell_type": "code",
   "execution_count": null,
   "metadata": {},
   "outputs": [],
   "source": []
  },
  {
   "cell_type": "code",
   "execution_count": null,
   "metadata": {},
   "outputs": [],
   "source": []
  },
  {
   "cell_type": "code",
   "execution_count": null,
   "metadata": {},
   "outputs": [],
   "source": []
  },
  {
   "cell_type": "code",
   "execution_count": null,
   "metadata": {},
   "outputs": [],
   "source": []
  },
  {
   "cell_type": "code",
   "execution_count": null,
   "metadata": {},
   "outputs": [],
   "source": []
  },
  {
   "cell_type": "code",
   "execution_count": null,
   "metadata": {},
   "outputs": [],
   "source": []
  },
  {
   "cell_type": "markdown",
   "metadata": {},
   "source": [
    "### Null Analysis"
   ]
  },
  {
   "cell_type": "markdown",
   "metadata": {},
   "source": [
    "### Datatype Conversion\n",
    "\n"
   ]
  },
  {
   "cell_type": "markdown",
   "metadata": {},
   "source": [
    "### One-Hot Encoding"
   ]
  },
  {
   "cell_type": "markdown",
   "metadata": {},
   "source": [
    "## 3.03 Other Relevant Data"
   ]
  },
  {
   "cell_type": "code",
   "execution_count": null,
   "metadata": {},
   "outputs": [],
   "source": []
  },
  {
   "cell_type": "code",
   "execution_count": null,
   "metadata": {},
   "outputs": [],
   "source": []
  },
  {
   "cell_type": "markdown",
   "metadata": {},
   "source": [
    "## 3.04 Creating the Model Dataframe"
   ]
  },
  {
   "cell_type": "code",
   "execution_count": null,
   "metadata": {},
   "outputs": [],
   "source": []
  },
  {
   "cell_type": "code",
   "execution_count": null,
   "metadata": {},
   "outputs": [],
   "source": []
  },
  {
   "cell_type": "markdown",
   "metadata": {},
   "source": [
    "## Conclusions and Future Work\n",
    "\n",
    "For the future, consider incorporating weather data, randomized passenger weight data, incorporate the dynamic changes in fuel/mass ratio throughout a flight, incorporate some demographical passenger data, more routes, the ability for the problem to become a UI tool rather than just a study."
   ]
  }
 ]
}