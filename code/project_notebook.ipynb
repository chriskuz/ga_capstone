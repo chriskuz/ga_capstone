{
 "nbformat": 4,
 "nbformat_minor": 2,
 "metadata": {
  "language_info": {
   "name": "python",
   "codemirror_mode": {
    "name": "ipython",
    "version": 3
   },
   "version": "3.7.4-final"
  },
  "orig_nbformat": 2,
  "file_extension": ".py",
  "mimetype": "text/x-python",
  "name": "python",
  "npconvert_exporter": "python",
  "pygments_lexer": "ipython3",
  "version": 3,
  "kernelspec": {
   "name": "python3",
   "display_name": "Python 3"
  }
 },
 "cells": [
  {
   "cell_type": "markdown",
   "metadata": {},
   "source": [
    "# Determining Airline Prices\n",
    "By: Chirstopher Kuzemka : [Github](https://git.generalassemb.ly)"
   ]
  },
  {
   "cell_type": "markdown",
   "metadata": {},
   "source": [
    "## Problem Statement\n",
    "\n",
    "Aviation is one of the largest industries dominating our global market today. Commercial aviation has made it possible for people to connect with each other in ways that may have been unimaginable over a century ago. However, a lot of thought must be put into the FAA standards and routes that modern planes must make today to make such connections possible.\n",
    "\n",
    "Consider the case example where a startup airliner, known as \"Kruze\", wants to establish itself as a top competitor against existing airliners today. A part of this startup process focuses on understanding the costs that will come into play when managing flights. Our job as data scientists today is to help \"Kruze\" determine the minimum threshold cost the airliner must charge their passengers on a ticket class basis in order to break even with a profit. To do this, we are going to use existing flight routes (velocity and altitude data), existing data on jet fuel pricing, and existing flight ticket prices (as a prediction) to help us create a supervised learning model. \n",
    "\n",
    "To start, we will approach the project with the intention in expressing a minimum proof oc concept. With such introduction, we will make some limitations to our study and decrease the potential for scope increase by:\n",
    "\n",
    "- conducting an idealized thermal jet engine analysis for feature engineering purposes\n",
    "- analyzing flight route data across the US domestically (choosing up to 3 routes of varying sizes and suggesting their reverse flight paths). \n",
    "- assuming constant air density throughout a flight\n",
    "- negating data incorporating head or tail wind effects\n",
    "- assuming apassenger weight to be negligible\n",
    "- negating external costs from the study (including food/maintenance/crew salary)\n",
    "\n",
    "\n",
    "We will conduct an idealized thermal engine analysis to understand the power output of a given plane's engines, some weather data (air density and tail/headwinds during different portions of the year), and plane specifications. understanding common price trends will help us create a regression model (Linear Regression, Logistic Regression, SVR, AdaBoosting Regression, Gradient Boosting Regression) which will ultimately predict cost thresholds for typical flight expenses. We will ultimately be using the Mean Absolute Error against our predictions to help us gauge whether our model properly predicts the right price\n",
    "\n",
    "Flights are Houston to LA, New York to Miami, Portland to Chicago\n",
    "\n",
    "## Executive Summary\n",
    "\n",
    "## Table of Contents\n",
    "\n",
    "## Data Dictionary"
   ]
  },
  {
   "cell_type": "code",
   "execution_count": null,
   "metadata": {},
   "outputs": [],
   "source": []
  },
  {
   "cell_type": "markdown",
   "metadata": {},
   "source": [
    "## Conclusions and Future Work\n",
    "\n",
    "For the future, consider incorporating weather data, randomized passenger weight data, incorporate the dynamic changes in fuel/mass ratio throughout a flight, incorporate some demographical passenger data, more routes (or rather a more generalized solutioon), incorporate a generalized solution "
   ]
  },
  {
   "cell_type": "code",
   "execution_count": null,
   "metadata": {},
   "outputs": [],
   "source": []
  }
 ]
}