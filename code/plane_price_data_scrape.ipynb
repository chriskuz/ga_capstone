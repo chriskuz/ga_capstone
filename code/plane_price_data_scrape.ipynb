{
 "nbformat": 4,
 "nbformat_minor": 2,
 "metadata": {
  "language_info": {
   "name": "python",
   "codemirror_mode": {
    "name": "ipython",
    "version": 3
   },
   "version": "3.7.6-final"
  },
  "orig_nbformat": 2,
  "file_extension": ".py",
  "mimetype": "text/x-python",
  "name": "python",
  "npconvert_exporter": "python",
  "pygments_lexer": "ipython3",
  "version": 3,
  "kernelspec": {
   "name": "python3",
   "display_name": "Python 3"
  }
 },
 "cells": [
  {
   "cell_type": "markdown",
   "metadata": {},
   "source": [
    "# Price Data Scrape"
   ]
  },
  {
   "cell_type": "markdown",
   "metadata": {},
   "source": [
    "## Where Do We Start?\n",
    "\n",
    "Through some subject matter knowledge and research, obtaining price data would require some creative approaches. It was difficult to find domains where obtaining pricing data would be readily available for flights in the past -- even searching on some airliners' websites to uncover what a flight ticket would cost yesterday was impossible. This was troublesome at first, until the idea was suggested to inquire future pricing data as a target variable for our supervised learning models. Flight routes could be utilized as an input with a price scraping API, which should be able to collect pricing data on all of the flights we propose. Ideally, we should gather data in exactly one year from the flight's original date in May 2020, with the intention of simulating as much of a similar schedule as possible.\n",
    "\n",
    "## The Skyscanner API\n",
    "\n",
    "[RapidAPI.com](https://rapidapi.com) is considered to be the world's largest API marketplace to find, test, and connect to thousands of APIs. A RapidAPI account can readily be made with a Gmail account and a user can almost instantaneously connect to whichever API they wish. One of the APIs readily avilable to use from RapidAPI.com was the [Skyscanner Flight Search API](https://rapidapi.com/search/skyscanner). [Skyscanner.com](https://www.skyscanner.com/about-us), the creators of the affiliated API, is a website that is dedicated to consolidating travel needs into one place. The website mainly conducts a search across as many domains as possible for the best price on a given travel preference. Developer authentication would typically be needed to utilize their sophisticated REST API, but RapidAPI bypasses the developer interaction process by immediately providing a unique API key to a user who wishes to subscribe to a plan -- RapidAPI would act as the hosting website. The Skyscanner API was free to use through RapidAPI, under certain limitaions. [Skyscanner's official documentation for their travel API's](https://skyscanner.github.io/slate/#getting-started) shows the API is able to perform more intensive gridsearching as well as gather live pricing on flight data. Such capabilities were not avilable when utilizing the API through RapidAPI. Furthermore, the official query search limit was set to 100 searches per minute with Skyscanner's official API. When using RapidAPI, a user is limited to 50 searches per minute -- however, even when we satisfied this request limit by only searching 48 queries before sleeping our function for a minute, many restrictioons were placed on searches due to our function exceeding the maximum amount per minute (this should not happen). An adjustment was made so that we could only search 30 queries before sleeping our function for a minute to help cushion the stress on RapiAPI's and Skyscanner's servers. All of these searches were conducted using Python's [`requests` package](https://realpython.com/python-requests/). \n",
    "\n",
    "## The Search\n",
    "\n",
    "The `Browse Quotes` function was heavily used to gather all of the information needed for our study. To utilize the `Browse Quotes` search query, we would need to convert our unix time epoch timestamps to datetime strings. We also would need to incorporate the IATA codes for each airport in our search. Unfortunately, when we conducted our search with the FlightXML API, the returned airport codes were ICAO airport codes --  a different way of classifying airports which was not adequate for our Skyscanner API. The Skyscanner API only accepts IATA codes for recognizing airports. THis lead to a semi-arduous task of searching the IATA code for each airport in our search. Fortunately, there were only a total of 40 airports to manuall search for their IATA codes. Currently existing datasets were searched for on Google which may showcase ICAO and IATA codes together, but none were found. In the future, a programmatic solution is necessary for any further studies. \n",
    "\n",
    "Our original target search first incorporated the May 2020 dates an exact year later from their original inquiry -- that is, a flight flown on May 1st 2020 was considered to also fly on May 1st 2021. However, this was not the case. Much of our search was empty as flights we were searching did not fly on the same days a year from then. The next step was to incorporate a search where our API returned the best price for that specific flight in the month of May 2021. Surprisingly, this type of search was also low in data needed for the study. The final alternative to obtain pricing data was to search the best price of each flight on a monthly basis for the rest of the 2020 year and for year 2021. It is still suspected that some flights returned from this search were empty, but many of our searches returned. The reason for empty searches could be that Skyscanner lacks the ability to find flights occurring in the future, the flight was not scheduled in the future yet, or the flight will never exist in the future (the latter of such hypothesis possibly being the least believable). \n",
    "\n",
    "This limits the degree of accuracy of our study. The intended and most appropriate searches would not be collected with this API for various reasons. Such complications must be mentioned when noting the accuracy of our models. "
   ]
  },
  {
   "cell_type": "code",
   "execution_count": 53,
   "metadata": {},
   "outputs": [],
   "source": [
    "import requests #imports the requests package\n",
    "import json #imports the json package\n",
    "import pandas as pd #imports the pandas package\n",
    "import datetime #imports the datetime package\n",
    "import numpy as np #imports the numpy package\n",
    "import time #imports the time package"
   ]
  },
  {
   "cell_type": "code",
   "execution_count": 54,
   "metadata": {},
   "outputs": [],
   "source": [
    "with open('/Users/ChristopherKuzemka/Documents/GA/dsi_11/projects/capstone/env.json') as f:\n",
    "    information = json.load(f) #imports the hidden json file with sensitive API information"
   ]
  },
  {
   "cell_type": "code",
   "execution_count": 3,
   "metadata": {},
   "outputs": [],
   "source": [
    "host_name = information.get('x-rapidapi-host') #gets the host name \n",
    "apiKey = information.get('x-rapidapi-key') #gets the api key"
   ]
  },
  {
   "cell_type": "markdown",
   "execution_count": null,
   "metadata": {},
   "outputs": [],
   "source": [
    "# Data Prep"
   ]
  },
  {
   "cell_type": "code",
   "execution_count": 5,
   "metadata": {},
   "outputs": [
    {
     "data": {
      "text/html": "<div>\n<style scoped>\n    .dataframe tbody tr th:only-of-type {\n        vertical-align: middle;\n    }\n\n    .dataframe tbody tr th {\n        vertical-align: top;\n    }\n\n    .dataframe thead th {\n        text-align: right;\n    }\n</style>\n<table border=\"1\" class=\"dataframe\">\n  <thead>\n    <tr style=\"text-align: right;\">\n      <th></th>\n      <th>Unnamed: 0</th>\n      <th>ident</th>\n      <th>actual_ident</th>\n      <th>departuretime</th>\n      <th>arrival_time</th>\n      <th>origin</th>\n      <th>destination</th>\n      <th>aircrafttype</th>\n      <th>meal_service</th>\n      <th>seats_cabin_first</th>\n      <th>seats_cabin_business</th>\n      <th>seats_cabin_coach</th>\n    </tr>\n  </thead>\n  <tbody>\n    <tr>\n      <td>0</td>\n      <td>0</td>\n      <td>UAL4282</td>\n      <td>ASQ4282</td>\n      <td>1588330800</td>\n      <td>1588340820</td>\n      <td>CYUL</td>\n      <td>KORD</td>\n      <td>E75L</td>\n      <td>Business: Refreshments / Economy: Food for sale</td>\n      <td>0</td>\n      <td>12</td>\n      <td>58</td>\n    </tr>\n    <tr>\n      <td>1</td>\n      <td>1</td>\n      <td>ACA7591</td>\n      <td>AC27591</td>\n      <td>1588335000</td>\n      <td>1588343880</td>\n      <td>CYUL</td>\n      <td>KORD</td>\n      <td>E75L</td>\n      <td>Business: Breakfast / Economy: Breakfast, Food...</td>\n      <td>0</td>\n      <td>12</td>\n      <td>64</td>\n    </tr>\n    <tr>\n      <td>2</td>\n      <td>2</td>\n      <td>UAL8371</td>\n      <td>AC27591</td>\n      <td>1588335000</td>\n      <td>1588343880</td>\n      <td>CYUL</td>\n      <td>KORD</td>\n      <td>E75L</td>\n      <td>Business: Breakfast / Economy: Food for sale</td>\n      <td>0</td>\n      <td>12</td>\n      <td>64</td>\n    </tr>\n    <tr>\n      <td>3</td>\n      <td>3</td>\n      <td>UAL4245</td>\n      <td>ASQ4245</td>\n      <td>1588341060</td>\n      <td>1588351080</td>\n      <td>CYUL</td>\n      <td>KORD</td>\n      <td>E75L</td>\n      <td>Business: Refreshments / Economy: Food for sale</td>\n      <td>0</td>\n      <td>12</td>\n      <td>58</td>\n    </tr>\n    <tr>\n      <td>4</td>\n      <td>4</td>\n      <td>UAL8481</td>\n      <td>AC27595</td>\n      <td>1588353300</td>\n      <td>1588362000</td>\n      <td>CYUL</td>\n      <td>KORD</td>\n      <td>E75L</td>\n      <td>Business: Meal / Economy: Food for sale</td>\n      <td>0</td>\n      <td>12</td>\n      <td>64</td>\n    </tr>\n    <tr>\n      <td>...</td>\n      <td>...</td>\n      <td>...</td>\n      <td>...</td>\n      <td>...</td>\n      <td>...</td>\n      <td>...</td>\n      <td>...</td>\n      <td>...</td>\n      <td>...</td>\n      <td>...</td>\n      <td>...</td>\n      <td>...</td>\n    </tr>\n    <tr>\n      <td>5818</td>\n      <td>5818</td>\n      <td>UAL464</td>\n      <td>NaN</td>\n      <td>1590514200</td>\n      <td>1590523860</td>\n      <td>KDEN</td>\n      <td>KPDX</td>\n      <td>A319</td>\n      <td>Business: Snack or brunch / Economy: No meal</td>\n      <td>0</td>\n      <td>12</td>\n      <td>114</td>\n    </tr>\n    <tr>\n      <td>5819</td>\n      <td>5819</td>\n      <td>SWA378</td>\n      <td>NaN</td>\n      <td>1590520500</td>\n      <td>1590529500</td>\n      <td>KDEN</td>\n      <td>KPDX</td>\n      <td>B738</td>\n      <td>Economy: No meal</td>\n      <td>0</td>\n      <td>0</td>\n      <td>175</td>\n    </tr>\n    <tr>\n      <td>5820</td>\n      <td>5820</td>\n      <td>DLH9070</td>\n      <td>UAL393</td>\n      <td>1590539460</td>\n      <td>1590549120</td>\n      <td>KDEN</td>\n      <td>KPDX</td>\n      <td>A319</td>\n      <td>Business: Snack or brunch / Economy: No meal</td>\n      <td>0</td>\n      <td>12</td>\n      <td>114</td>\n    </tr>\n    <tr>\n      <td>5821</td>\n      <td>5821</td>\n      <td>UAL393</td>\n      <td>NaN</td>\n      <td>1590539460</td>\n      <td>1590549120</td>\n      <td>KDEN</td>\n      <td>KPDX</td>\n      <td>A319</td>\n      <td>Business: Snack or brunch / Economy: No meal</td>\n      <td>0</td>\n      <td>12</td>\n      <td>114</td>\n    </tr>\n    <tr>\n      <td>5822</td>\n      <td>5822</td>\n      <td>SWA993</td>\n      <td>NaN</td>\n      <td>1590544800</td>\n      <td>1590554400</td>\n      <td>KDEN</td>\n      <td>KPDX</td>\n      <td>B738</td>\n      <td>Economy: No meal</td>\n      <td>0</td>\n      <td>0</td>\n      <td>175</td>\n    </tr>\n  </tbody>\n</table>\n<p>5823 rows × 12 columns</p>\n</div>",
      "text/plain": "      Unnamed: 0    ident actual_ident  departuretime  arrival_time origin  \\\n0              0  UAL4282      ASQ4282     1588330800    1588340820   CYUL   \n1              1  ACA7591      AC27591     1588335000    1588343880   CYUL   \n2              2  UAL8371      AC27591     1588335000    1588343880   CYUL   \n3              3  UAL4245      ASQ4245     1588341060    1588351080   CYUL   \n4              4  UAL8481      AC27595     1588353300    1588362000   CYUL   \n...          ...      ...          ...            ...           ...    ...   \n5818        5818   UAL464          NaN     1590514200    1590523860   KDEN   \n5819        5819   SWA378          NaN     1590520500    1590529500   KDEN   \n5820        5820  DLH9070       UAL393     1590539460    1590549120   KDEN   \n5821        5821   UAL393          NaN     1590539460    1590549120   KDEN   \n5822        5822   SWA993          NaN     1590544800    1590554400   KDEN   \n\n     destination aircrafttype  \\\n0           KORD         E75L   \n1           KORD         E75L   \n2           KORD         E75L   \n3           KORD         E75L   \n4           KORD         E75L   \n...          ...          ...   \n5818        KPDX         A319   \n5819        KPDX         B738   \n5820        KPDX         A319   \n5821        KPDX         A319   \n5822        KPDX         B738   \n\n                                           meal_service  seats_cabin_first  \\\n0       Business: Refreshments / Economy: Food for sale                  0   \n1     Business: Breakfast / Economy: Breakfast, Food...                  0   \n2          Business: Breakfast / Economy: Food for sale                  0   \n3       Business: Refreshments / Economy: Food for sale                  0   \n4               Business: Meal / Economy: Food for sale                  0   \n...                                                 ...                ...   \n5818       Business: Snack or brunch / Economy: No meal                  0   \n5819                                   Economy: No meal                  0   \n5820       Business: Snack or brunch / Economy: No meal                  0   \n5821       Business: Snack or brunch / Economy: No meal                  0   \n5822                                   Economy: No meal                  0   \n\n      seats_cabin_business  seats_cabin_coach  \n0                       12                 58  \n1                       12                 64  \n2                       12                 64  \n3                       12                 58  \n4                       12                 64  \n...                    ...                ...  \n5818                    12                114  \n5819                     0                175  \n5820                    12                114  \n5821                    12                114  \n5822                     0                175  \n\n[5823 rows x 12 columns]"
     },
     "execution_count": 5,
     "metadata": {},
     "output_type": "execute_result"
    }
   ],
   "source": [
    "flight_schedules = pd.read_csv('../data/flight_schedules.csv')\n",
    "flight_schedules"
   ]
  },
  {
   "cell_type": "code",
   "execution_count": 6,
   "metadata": {},
   "outputs": [
    {
     "data": {
      "text/html": "<div>\n<style scoped>\n    .dataframe tbody tr th:only-of-type {\n        vertical-align: middle;\n    }\n\n    .dataframe tbody tr th {\n        vertical-align: top;\n    }\n\n    .dataframe thead th {\n        text-align: right;\n    }\n</style>\n<table border=\"1\" class=\"dataframe\">\n  <thead>\n    <tr style=\"text-align: right;\">\n      <th></th>\n      <th>Unnamed: 0</th>\n      <th>origin</th>\n      <th>destination</th>\n      <th>0</th>\n    </tr>\n  </thead>\n  <tbody>\n    <tr>\n      <td>0</td>\n      <td>0</td>\n      <td>CYHM</td>\n      <td>KJFK</td>\n      <td>1</td>\n    </tr>\n    <tr>\n      <td>1</td>\n      <td>1</td>\n      <td>CYUL</td>\n      <td>KORD</td>\n      <td>1</td>\n    </tr>\n    <tr>\n      <td>2</td>\n      <td>2</td>\n      <td>CYVR</td>\n      <td>KLAX</td>\n      <td>1</td>\n    </tr>\n    <tr>\n      <td>3</td>\n      <td>3</td>\n      <td>CYYZ</td>\n      <td>KIAH</td>\n      <td>2</td>\n    </tr>\n    <tr>\n      <td>4</td>\n      <td>4</td>\n      <td>CYYZ</td>\n      <td>KJFK</td>\n      <td>1</td>\n    </tr>\n    <tr>\n      <td>5</td>\n      <td>5</td>\n      <td>CYYZ</td>\n      <td>KLAX</td>\n      <td>1</td>\n    </tr>\n    <tr>\n      <td>6</td>\n      <td>6</td>\n      <td>CYYZ</td>\n      <td>KORD</td>\n      <td>4</td>\n    </tr>\n    <tr>\n      <td>7</td>\n      <td>7</td>\n      <td>EBBR</td>\n      <td>KMIA</td>\n      <td>2</td>\n    </tr>\n    <tr>\n      <td>8</td>\n      <td>8</td>\n      <td>EBBR</td>\n      <td>KORD</td>\n      <td>1</td>\n    </tr>\n    <tr>\n      <td>9</td>\n      <td>9</td>\n      <td>EBLG</td>\n      <td>KATL</td>\n      <td>1</td>\n    </tr>\n    <tr>\n      <td>10</td>\n      <td>10</td>\n      <td>EBLG</td>\n      <td>KJFK</td>\n      <td>2</td>\n    </tr>\n    <tr>\n      <td>11</td>\n      <td>11</td>\n      <td>EBLG</td>\n      <td>KORD</td>\n      <td>1</td>\n    </tr>\n    <tr>\n      <td>12</td>\n      <td>12</td>\n      <td>EDDF</td>\n      <td>KATL</td>\n      <td>4</td>\n    </tr>\n    <tr>\n      <td>13</td>\n      <td>13</td>\n      <td>EDDF</td>\n      <td>KIAH</td>\n      <td>1</td>\n    </tr>\n    <tr>\n      <td>14</td>\n      <td>14</td>\n      <td>EDDF</td>\n      <td>KJFK</td>\n      <td>2</td>\n    </tr>\n    <tr>\n      <td>15</td>\n      <td>15</td>\n      <td>EDDF</td>\n      <td>KLAX</td>\n      <td>1</td>\n    </tr>\n    <tr>\n      <td>16</td>\n      <td>16</td>\n      <td>EDDF</td>\n      <td>KORD</td>\n      <td>7</td>\n    </tr>\n    <tr>\n      <td>17</td>\n      <td>17</td>\n      <td>EDDN</td>\n      <td>KMIA</td>\n      <td>1</td>\n    </tr>\n    <tr>\n      <td>18</td>\n      <td>18</td>\n      <td>EDDP</td>\n      <td>KJFK</td>\n      <td>1</td>\n    </tr>\n    <tr>\n      <td>19</td>\n      <td>19</td>\n      <td>EGLL</td>\n      <td>KATL</td>\n      <td>1</td>\n    </tr>\n    <tr>\n      <td>20</td>\n      <td>20</td>\n      <td>EGLL</td>\n      <td>KJFK</td>\n      <td>6</td>\n    </tr>\n    <tr>\n      <td>21</td>\n      <td>21</td>\n      <td>EGLL</td>\n      <td>KLAX</td>\n      <td>4</td>\n    </tr>\n    <tr>\n      <td>22</td>\n      <td>22</td>\n      <td>EGLL</td>\n      <td>KMIA</td>\n      <td>2</td>\n    </tr>\n    <tr>\n      <td>23</td>\n      <td>23</td>\n      <td>EGLL</td>\n      <td>KORD</td>\n      <td>1</td>\n    </tr>\n    <tr>\n      <td>24</td>\n      <td>24</td>\n      <td>EHAM</td>\n      <td>KATL</td>\n      <td>2</td>\n    </tr>\n    <tr>\n      <td>25</td>\n      <td>25</td>\n      <td>EHAM</td>\n      <td>KJFK</td>\n      <td>1</td>\n    </tr>\n    <tr>\n      <td>26</td>\n      <td>26</td>\n      <td>EHAM</td>\n      <td>KLAX</td>\n      <td>1</td>\n    </tr>\n    <tr>\n      <td>27</td>\n      <td>27</td>\n      <td>EHAM</td>\n      <td>KMIA</td>\n      <td>1</td>\n    </tr>\n    <tr>\n      <td>28</td>\n      <td>28</td>\n      <td>EHBK</td>\n      <td>KATL</td>\n      <td>2</td>\n    </tr>\n    <tr>\n      <td>29</td>\n      <td>29</td>\n      <td>EIDW</td>\n      <td>KJFK</td>\n      <td>1</td>\n    </tr>\n    <tr>\n      <td>30</td>\n      <td>30</td>\n      <td>ELLX</td>\n      <td>KATL</td>\n      <td>1</td>\n    </tr>\n    <tr>\n      <td>31</td>\n      <td>31</td>\n      <td>ELLX</td>\n      <td>KIAH</td>\n      <td>1</td>\n    </tr>\n    <tr>\n      <td>32</td>\n      <td>32</td>\n      <td>ELLX</td>\n      <td>KLAX</td>\n      <td>1</td>\n    </tr>\n    <tr>\n      <td>33</td>\n      <td>33</td>\n      <td>ELLX</td>\n      <td>KMIA</td>\n      <td>1</td>\n    </tr>\n    <tr>\n      <td>34</td>\n      <td>34</td>\n      <td>KABQ</td>\n      <td>KIAH</td>\n      <td>2</td>\n    </tr>\n    <tr>\n      <td>35</td>\n      <td>35</td>\n      <td>KABQ</td>\n      <td>KLAX</td>\n      <td>2</td>\n    </tr>\n    <tr>\n      <td>36</td>\n      <td>36</td>\n      <td>KABY</td>\n      <td>KATL</td>\n      <td>1</td>\n    </tr>\n    <tr>\n      <td>37</td>\n      <td>37</td>\n      <td>KAEX</td>\n      <td>KATL</td>\n      <td>2</td>\n    </tr>\n    <tr>\n      <td>38</td>\n      <td>38</td>\n      <td>KAEX</td>\n      <td>KIAH</td>\n      <td>2</td>\n    </tr>\n    <tr>\n      <td>39</td>\n      <td>39</td>\n      <td>KAEX</td>\n      <td>KMIA</td>\n      <td>1</td>\n    </tr>\n    <tr>\n      <td>40</td>\n      <td>40</td>\n      <td>KAFW</td>\n      <td>KIAH</td>\n      <td>1</td>\n    </tr>\n    <tr>\n      <td>41</td>\n      <td>41</td>\n      <td>KAFW</td>\n      <td>KLAX</td>\n      <td>1</td>\n    </tr>\n    <tr>\n      <td>42</td>\n      <td>42</td>\n      <td>KAGS</td>\n      <td>KATL</td>\n      <td>1</td>\n    </tr>\n    <tr>\n      <td>43</td>\n      <td>43</td>\n      <td>KAPF</td>\n      <td>KMIA</td>\n      <td>1</td>\n    </tr>\n    <tr>\n      <td>44</td>\n      <td>44</td>\n      <td>KAST</td>\n      <td>KPDX</td>\n      <td>2</td>\n    </tr>\n    <tr>\n      <td>45</td>\n      <td>45</td>\n      <td>KATL</td>\n      <td>KIAH</td>\n      <td>4</td>\n    </tr>\n    <tr>\n      <td>46</td>\n      <td>46</td>\n      <td>KATL</td>\n      <td>KLAX</td>\n      <td>3</td>\n    </tr>\n    <tr>\n      <td>47</td>\n      <td>47</td>\n      <td>KATL</td>\n      <td>KMIA</td>\n      <td>4</td>\n    </tr>\n    <tr>\n      <td>48</td>\n      <td>48</td>\n      <td>KATL</td>\n      <td>KPDX</td>\n      <td>1</td>\n    </tr>\n    <tr>\n      <td>49</td>\n      <td>49</td>\n      <td>KAUS</td>\n      <td>KIAH</td>\n      <td>2</td>\n    </tr>\n    <tr>\n      <td>50</td>\n      <td>50</td>\n      <td>KBFI</td>\n      <td>KPDX</td>\n      <td>2</td>\n    </tr>\n    <tr>\n      <td>51</td>\n      <td>51</td>\n      <td>KBIH</td>\n      <td>KPDX</td>\n      <td>1</td>\n    </tr>\n    <tr>\n      <td>52</td>\n      <td>52</td>\n      <td>KBKV</td>\n      <td>KMIA</td>\n      <td>1</td>\n    </tr>\n    <tr>\n      <td>53</td>\n      <td>53</td>\n      <td>KBOI</td>\n      <td>KPDX</td>\n      <td>1</td>\n    </tr>\n    <tr>\n      <td>54</td>\n      <td>54</td>\n      <td>KBOS</td>\n      <td>KMIA</td>\n      <td>1</td>\n    </tr>\n    <tr>\n      <td>55</td>\n      <td>55</td>\n      <td>KBUR</td>\n      <td>KPDX</td>\n      <td>1</td>\n    </tr>\n    <tr>\n      <td>56</td>\n      <td>56</td>\n      <td>KBWI</td>\n      <td>KPDX</td>\n      <td>1</td>\n    </tr>\n    <tr>\n      <td>57</td>\n      <td>57</td>\n      <td>KCVG</td>\n      <td>KPDX</td>\n      <td>1</td>\n    </tr>\n    <tr>\n      <td>58</td>\n      <td>58</td>\n      <td>KCVO</td>\n      <td>KPDX</td>\n      <td>2</td>\n    </tr>\n    <tr>\n      <td>59</td>\n      <td>59</td>\n      <td>KDEN</td>\n      <td>KPDX</td>\n      <td>3</td>\n    </tr>\n  </tbody>\n</table>\n</div>",
      "text/plain": "    Unnamed: 0 origin destination  0\n0            0   CYHM        KJFK  1\n1            1   CYUL        KORD  1\n2            2   CYVR        KLAX  1\n3            3   CYYZ        KIAH  2\n4            4   CYYZ        KJFK  1\n5            5   CYYZ        KLAX  1\n6            6   CYYZ        KORD  4\n7            7   EBBR        KMIA  2\n8            8   EBBR        KORD  1\n9            9   EBLG        KATL  1\n10          10   EBLG        KJFK  2\n11          11   EBLG        KORD  1\n12          12   EDDF        KATL  4\n13          13   EDDF        KIAH  1\n14          14   EDDF        KJFK  2\n15          15   EDDF        KLAX  1\n16          16   EDDF        KORD  7\n17          17   EDDN        KMIA  1\n18          18   EDDP        KJFK  1\n19          19   EGLL        KATL  1\n20          20   EGLL        KJFK  6\n21          21   EGLL        KLAX  4\n22          22   EGLL        KMIA  2\n23          23   EGLL        KORD  1\n24          24   EHAM        KATL  2\n25          25   EHAM        KJFK  1\n26          26   EHAM        KLAX  1\n27          27   EHAM        KMIA  1\n28          28   EHBK        KATL  2\n29          29   EIDW        KJFK  1\n30          30   ELLX        KATL  1\n31          31   ELLX        KIAH  1\n32          32   ELLX        KLAX  1\n33          33   ELLX        KMIA  1\n34          34   KABQ        KIAH  2\n35          35   KABQ        KLAX  2\n36          36   KABY        KATL  1\n37          37   KAEX        KATL  2\n38          38   KAEX        KIAH  2\n39          39   KAEX        KMIA  1\n40          40   KAFW        KIAH  1\n41          41   KAFW        KLAX  1\n42          42   KAGS        KATL  1\n43          43   KAPF        KMIA  1\n44          44   KAST        KPDX  2\n45          45   KATL        KIAH  4\n46          46   KATL        KLAX  3\n47          47   KATL        KMIA  4\n48          48   KATL        KPDX  1\n49          49   KAUS        KIAH  2\n50          50   KBFI        KPDX  2\n51          51   KBIH        KPDX  1\n52          52   KBKV        KMIA  1\n53          53   KBOI        KPDX  1\n54          54   KBOS        KMIA  1\n55          55   KBUR        KPDX  1\n56          56   KBWI        KPDX  1\n57          57   KCVG        KPDX  1\n58          58   KCVO        KPDX  2\n59          59   KDEN        KPDX  3"
     },
     "execution_count": 6,
     "metadata": {},
     "output_type": "execute_result"
    }
   ],
   "source": [
    "flight_combinations = pd.read_csv('../data/flight_combinations.csv') #loads the flight combinations dataframe\n",
    "flight_combinations['origin'].unique() #shows the unique origins"
   ]
  },
  {
   "cell_type": "code",
   "execution_count": 7,
   "metadata": {},
   "outputs": [
    {
     "data": {
      "text/plain": "array(['CYHM', 'CYUL', 'CYVR', 'CYYZ', 'EBBR', 'EBLG', 'EDDF', 'EDDN',\n       'EDDP', 'EGLL', 'EHAM', 'EHBK', 'EIDW', 'ELLX', 'KABQ', 'KABY',\n       'KAEX', 'KAFW', 'KAGS', 'KAPF', 'KAST', 'KATL', 'KAUS', 'KBFI',\n       'KBIH', 'KBKV', 'KBOI', 'KBOS', 'KBUR', 'KBWI', 'KCVG', 'KCVO',\n       'KDEN'], dtype=object)"
     },
     "execution_count": 7,
     "metadata": {},
     "output_type": "execute_result"
    }
   ],
   "source": [
    "len(flight_combinations['origin'].unique()) #displays the length of the unique origin destinations"
   ]
  },
  {
   "cell_type": "code",
   "execution_count": 63,
   "metadata": {},
   "outputs": [
    {
     "data": {
      "text/plain": "array(['KJFK', 'KORD', 'KLAX', 'KIAH', 'KMIA', 'KATL', 'KPDX'],\n      dtype=object)"
     },
     "execution_count": 63,
     "metadata": {},
     "output_type": "execute_result"
    }
   ],
   "source": [
    "flight_combinations['destination'].unique() #displays the list of unique destinations"
   ]
  },
  {
   "cell_type": "code",
   "execution_count": 62,
   "metadata": {},
   "outputs": [
    {
     "data": {
      "text/plain": "7"
     },
     "execution_count": 62,
     "metadata": {},
     "output_type": "execute_result"
    }
   ],
   "source": [
    "len(flight_combinations['destination'].unique()) #displays the length of the unique destination destinations"
   ]
  },
  {
   "cell_type": "markdown",
   "execution_count": null,
   "metadata": {},
   "outputs": [],
   "source": [
    "Will have to programmatically find a way to create a bunch if IATA codes out of the ICAO codes shown here. There are only 33 unique origins and 7 unique destinations making a total of 40 different airports studied. In total, we have 60 combinations studied. "
   ]
  },
  {
   "cell_type": "markdown",
   "execution_count": null,
   "metadata": {},
   "outputs": [],
   "source": [
    "## Making the IATA Dictionaries"
   ]
  },
  {
   "cell_type": "code",
   "execution_count": 10,
   "metadata": {},
   "outputs": [],
   "source": [
    "origin_IATA_dict = {k:[] for k in flight_combinations['origin'].unique()} #creates an empty origin dictionary where the keys are ICAO codes"
   ]
  },
  {
   "cell_type": "code",
   "execution_count": 11,
   "metadata": {},
   "outputs": [],
   "source": [
    "destination_IATA_dict = {k:[] for k in flight_combinations['destination'].unique()} #creates an empty destination dictionary where the keys are ICAO codes"
   ]
  },
  {
   "cell_type": "code",
   "execution_count": 12,
   "metadata": {},
   "outputs": [],
   "source": [
    "origin_IATA_list = ['YHM', 'YUL', 'YVR', 'YYZ', 'BRU', 'LGG', 'FRA', 'NUE', 'LEJ', 'LHR', 'AMS', 'MST', 'DUB', 'LUX', 'ABQ', 'ABY', 'AEX', 'AFW', 'AGS', 'APF', 'AST', 'ATL', 'AUS', 'BFI', 'BIH', 'BKV', 'BOI', 'BOS', 'BUR', 'BWI', 'CVG', 'CVO', 'DEN'] #origin IATA codes"
   ]
  },
  {
   "cell_type": "code",
   "execution_count": 13,
   "metadata": {},
   "outputs": [],
   "source": [
    "destination_IATA_list = ['JFK', 'ORD', 'LAX', 'IAH', 'MIA', 'ATL', 'PDX'] #destination IATA codes"
   ]
  },
  {
   "cell_type": "code",
   "execution_count": 14,
   "metadata": {},
   "outputs": [],
   "source": [
    "for k,v in enumerate(origin_IATA_dict):\n",
    "    origin_IATA_dict[v].append(origin_IATA_list[k]) #populates the appropriate IATA to the ICAO dictionary IN THE ORDER BOTH ITEMS WERE CREATED"
   ]
  },
  {
   "cell_type": "code",
   "execution_count": 15,
   "metadata": {},
   "outputs": [],
   "source": [
    "for k,v in enumerate(destination_IATA_dict):\n",
    "    destination_IATA_dict[v].append(destination_IATA_list[k]) #populates the appropriate IATA to the ICAO dictionary IN THE ORDER BOTH ITEMS WERE CREATED"
   ]
  },
  {
   "cell_type": "markdown",
   "metadata": {},
   "source": [
    "## Adding the IATAs to flight combinations dataframe"
   ]
  },
  {
   "cell_type": "code",
   "execution_count": null,
   "metadata": {},
   "outputs": [],
   "source": [
    "flight_combinations['destination_IATA'] = flight_combinations['destination'].map(destination_IATA_dict) #maps the destination iata dictionary to the flight combinations dataframe\n",
    "flight_combinations['destination_IATA'] = [ls[0] for ls in flight_combinations['destination_IATA']] #converts the destination iata cells into single elements rather than lists"
   ]
  },
  {
   "cell_type": "code",
   "execution_count": null,
   "metadata": {},
   "outputs": [],
   "source": [
    "flight_combinations['origin_IATA'] = flight_combinations['origin'].map(origin_IATA_dict) #maps the origin iata dictionary to the flight combinations dataframe\n",
    "flight_combinations['origin_IATA'] = [ls[0] for ls in flight_combinations['origin_IATA'] #converts the origin iata cells into single elements rather than lists"
   ]
  },
  {
   "cell_type": "markdown",
   "execution_count": null,
   "metadata": {},
   "outputs": [],
   "source": [
    "## Generate Monthly Dates"
   ]
  },
  {
   "cell_type": "code",
   "execution_count": 56,
   "metadata": {},
   "outputs": [],
   "source": [
    "#https://www.w3resource.com/python-exercises/date-time-exercise/python-date-time-exercise-50.php\n",
    "#Code tested with below\n",
    "\n",
    "def daterange(date1, date2):\n",
    "    for n in range(int((date2 - date1).days)+1):\n",
    "        yield date1 + datetime.timedelta(n)\n",
    "\n",
    "start_dt = datetime.date(2020, 6, 1)\n",
    "end_dt = datetime.date(2020, 12, 31)\n",
    "\n",
    "\n",
    "output_list = []\n",
    "\n",
    "for dt in daterange(start_dt, end_dt):\n",
    "    output_list.append(dt.strftime(\"%Y-%m\"))"
   ]
  },
  {
   "cell_type": "code",
   "execution_count": 57,
   "metadata": {},
   "outputs": [],
   "source": [
    "date_set = set(output_list)"
   ]
  },
  {
   "cell_type": "code",
   "execution_count": 58,
   "metadata": {},
   "outputs": [],
   "source": [
    "date_list = list(date_set)"
   ]
  },
  {
   "cell_type": "markdown",
   "execution_count": null,
   "metadata": {},
   "outputs": [],
   "source": [
    "## Adding the IATAs to flight combinations dataframe"
   ]
  },
  {
   "cell_type": "code",
   "execution_count": 31,
   "metadata": {},
   "outputs": [],
   "source": [
    "flight_combinations['destination_IATA'] = flight_combinations['destination'].map(destination_IATA_dict)\n",
    "flight_combinations['destination_IATA'] = [ls[0] for ls in flight_combinations['destination_IATA']]"
   ]
  },
  {
   "cell_type": "code",
   "execution_count": 32,
   "metadata": {},
   "outputs": [],
   "source": [
    "flight_combinations['origin_IATA'] = flight_combinations['origin'].map(origin_IATA_dict)\n",
    "flight_combinations['origin_IATA'] = [ls[0] for ls in flight_combinations['origin_IATA']]"
   ]
  },
  {
   "cell_type": "markdown",
   "execution_count": null,
   "metadata": {},
   "outputs": [],
   "source": [
    "__Quotes Inputs:__\n",
    "\n",
    "- Country (Required)\n",
    "\n",
    "- Currency (Required)\n",
    "\n",
    "- Locale (Required)\n",
    "\n",
    "- originplace (Required)\n",
    "\n",
    "- destinationplace (Required)\n",
    "\n",
    "- outboundpartialdate (Required)\n",
    "\n",
    "- inboundpartialdate (Optional)"
   ]
  },
  {
   "cell_type": "code",
   "execution_count": 51,
   "metadata": {},
   "outputs": [],
   "source": [
    "def get_prices_across_year(country, currency, locale, flight_combs, month_range):\n",
    "    start_time = time.time() #epoch start time\n",
    "    output_list = []\n",
    "    count = 0\n",
    "\n",
    "\n",
    "    for k in range(len(flight_combs['origin_IATA'])):\n",
    "        for month in range(len(month_range)):\n",
    "            url = f\"https://skyscanner-skyscanner-flight-search-v1.p.rapidapi.com/apiservices/browsequotes/v1.0/{country}/{currency}/{locale}/{flight_combs.loc[k,'origin_IATA']}-sky/{flight_combs.loc[k, 'destination_IATA']}-sky/{month_range[month]}\"\n",
    "\n",
    "            querystring = {\"inboundpartialdate\":\"anytime\"}\n",
    "\n",
    "            headers = {\n",
    "                'x-rapidapi-host': host_name,\n",
    "                'x-rapidapi-key': apiKey\n",
    "            }\n",
    "\n",
    "            response = requests.get(url = url, headers=headers, params=querystring)\n",
    "            print(f\"Getting the data for: (Origin: {flight_combs.loc[k,'origin_IATA']}), (Destination: {flight_combs.loc[k, 'destination_IATA']}), (For Date: {month_range[month]}) \")\n",
    "            json_response = response.json()\n",
    "            output_list.append(json_response)\n",
    "            count = count + 1\n",
    "            if count <= 30:\n",
    "                continue\n",
    "            else:\n",
    "                print(\"Approaching request limit. Sleeping for 60 seconds....\")\n",
    "                print(f\"The request count index you are at is: {k}\")\n",
    "                print(f\"The the month index you are at is: {month_range[month]}\")\n",
    "                print(f\"The size of the data file you are requesting off of is: {len(flight_combs)} \")\n",
    "                print(f\"This search is {(k/len(flight_combs)) * 100} percent complete.\")\n",
    "                print(f\"Elapsed time is: {time.time() - start_time} seconds.\")\n",
    "                time.sleep(60)\n",
    "                print(\"Conducting another request batch.\")\n",
    "                \n",
    "                count = 0\n",
    "    print(f\"Elapsed time of process is: {time.time() - start_time}\")\n",
    "    print(f\"The start time was: {start_time}\")\n",
    "    print(f\"The end time is: {time.time()}\")\n",
    "    return pd.DataFrame(output_list)"
   ]
  },
  {
   "cell_type": "code",
   "execution_count": 60,
   "metadata": {},
   "outputs": [
    {
     "name": "stdout",
     "output_type": "stream",
     "text": "Getting the data for: (Origin: AMS), (Destination: MIA), (For Date: 2020-12) \nGetting the data for: (Origin: AMS), (Destination: MIA), (For Date: 2020-08) \nGetting the data for: (Origin: MST), (Destination: ATL), (For Date: 2020-11) \nGetting the data for: (Origin: MST), (Destination: ATL), (For Date: 2020-07) \nGetting the data for: (Origin: MST), (Destination: ATL), (For Date: 2020-09) \nGetting the data for: (Origin: MST), (Destination: ATL), (For Date: 2020-10) \nGetting the data for: (Origin: MST), (Destination: ATL), (For Date: 2020-06) \nGetting the data for: (Origin: MST), (Destination: ATL), (For Date: 2020-12) \nGetting the data for: (Origin: MST), (Destination: ATL), (For Date: 2020-08) \nGetting the data for: (Origin: DUB), (Destination: JFK), (For Date: 2020-11) \nGetting the data for: (Origin: DUB), (Destination: JFK), (For Date: 2020-07) \nGetting the data for: (Origin: DUB), (Destination: JFK), (For Date: 2020-09) \nGetting the data for: (Origin: DUB), (Destination: JFK), (For Date: 2020-10) \nGetting the data for: (Origin: DUB), (Destination: JFK), (For Date: 2020-06) \nGetting the data for: (Origin: DUB), (Destination: JFK), (For Date: 2020-12) \nGetting the data for: (Origin: DUB), (Destination: JFK), (For Date: 2020-08) \nGetting the data for: (Origin: LUX), (Destination: ATL), (For Date: 2020-11) \nGetting the data for: (Origin: LUX), (Destination: ATL), (For Date: 2020-07) \nGetting the data for: (Origin: LUX), (Destination: ATL), (For Date: 2020-09) \nGetting the data for: (Origin: LUX), (Destination: ATL), (For Date: 2020-10) \nGetting the data for: (Origin: LUX), (Destination: ATL), (For Date: 2020-06) \nGetting the data for: (Origin: LUX), (Destination: ATL), (For Date: 2020-12) \nGetting the data for: (Origin: LUX), (Destination: ATL), (For Date: 2020-08) \nApproaching request limit. Sleeping for 60 seconds....\nThe request count index you are at is: 30\nThe the month index you are at is: 2020-08\nThe size of the data file you are requesting off of is: 60 \nThis search is 50.0 percent complete.\nElapsed time is: 503.1234428882599 seconds.\nConducting another request batch.\nGetting the data for: (Origin: LUX), (Destination: IAH), (For Date: 2020-11) \nGetting the data for: (Origin: LUX), (Destination: IAH), (For Date: 2020-07) \nGetting the data for: (Origin: LUX), (Destination: IAH), (For Date: 2020-09) \nGetting the data for: (Origin: LUX), (Destination: IAH), (For Date: 2020-10) \nGetting the data for: (Origin: LUX), (Destination: IAH), (For Date: 2020-06) \nGetting the data for: (Origin: LUX), (Destination: IAH), (For Date: 2020-12) \nGetting the data for: (Origin: LUX), (Destination: IAH), (For Date: 2020-08) \nGetting the data for: (Origin: LUX), (Destination: LAX), (For Date: 2020-11) \nGetting the data for: (Origin: LUX), (Destination: LAX), (For Date: 2020-07) \nGetting the data for: (Origin: LUX), (Destination: LAX), (For Date: 2020-09) \nGetting the data for: (Origin: LUX), (Destination: LAX), (For Date: 2020-10) \nGetting the data for: (Origin: LUX), (Destination: LAX), (For Date: 2020-06) \nGetting the data for: (Origin: LUX), (Destination: LAX), (For Date: 2020-12) \nGetting the data for: (Origin: LUX), (Destination: LAX), (For Date: 2020-08) \nGetting the data for: (Origin: LUX), (Destination: MIA), (For Date: 2020-11) \nGetting the data for: (Origin: LUX), (Destination: MIA), (For Date: 2020-07) \nGetting the data for: (Origin: LUX), (Destination: MIA), (For Date: 2020-09) \nGetting the data for: (Origin: LUX), (Destination: MIA), (For Date: 2020-10) \nGetting the data for: (Origin: LUX), (Destination: MIA), (For Date: 2020-06) \nGetting the data for: (Origin: LUX), (Destination: MIA), (For Date: 2020-12) \nGetting the data for: (Origin: LUX), (Destination: MIA), (For Date: 2020-08) \nGetting the data for: (Origin: ABQ), (Destination: IAH), (For Date: 2020-11) \nGetting the data for: (Origin: ABQ), (Destination: IAH), (For Date: 2020-07) \nGetting the data for: (Origin: ABQ), (Destination: IAH), (For Date: 2020-09) \nGetting the data for: (Origin: ABQ), (Destination: IAH), (For Date: 2020-10) \nGetting the data for: (Origin: ABQ), (Destination: IAH), (For Date: 2020-06) \nGetting the data for: (Origin: ABQ), (Destination: IAH), (For Date: 2020-12) \nGetting the data for: (Origin: ABQ), (Destination: IAH), (For Date: 2020-08) \nGetting the data for: (Origin: ABQ), (Destination: LAX), (For Date: 2020-11) \nGetting the data for: (Origin: ABQ), (Destination: LAX), (For Date: 2020-07) \nGetting the data for: (Origin: ABQ), (Destination: LAX), (For Date: 2020-09) \nApproaching request limit. Sleeping for 60 seconds....\nThe request count index you are at is: 35\nThe the month index you are at is: 2020-09\nThe size of the data file you are requesting off of is: 60 \nThis search is 58.333333333333336 percent complete.\nElapsed time is: 583.0513579845428 seconds.\nConducting another request batch.\nGetting the data for: (Origin: ABQ), (Destination: LAX), (For Date: 2020-10) \nGetting the data for: (Origin: ABQ), (Destination: LAX), (For Date: 2020-06) \nGetting the data for: (Origin: ABQ), (Destination: LAX), (For Date: 2020-12) \nGetting the data for: (Origin: ABQ), (Destination: LAX), (For Date: 2020-08) \nGetting the data for: (Origin: ABY), (Destination: ATL), (For Date: 2020-11) \nGetting the data for: (Origin: ABY), (Destination: ATL), (For Date: 2020-07) \nGetting the data for: (Origin: ABY), (Destination: ATL), (For Date: 2020-09) \nGetting the data for: (Origin: ABY), (Destination: ATL), (For Date: 2020-10) \nGetting the data for: (Origin: ABY), (Destination: ATL), (For Date: 2020-06) \nGetting the data for: (Origin: ABY), (Destination: ATL), (For Date: 2020-12) \nGetting the data for: (Origin: ABY), (Destination: ATL), (For Date: 2020-08) \nGetting the data for: (Origin: AEX), (Destination: ATL), (For Date: 2020-11) \nGetting the data for: (Origin: AEX), (Destination: ATL), (For Date: 2020-07) \nGetting the data for: (Origin: AEX), (Destination: ATL), (For Date: 2020-09) \nGetting the data for: (Origin: AEX), (Destination: ATL), (For Date: 2020-10) \nGetting the data for: (Origin: AEX), (Destination: ATL), (For Date: 2020-06) \nGetting the data for: (Origin: AEX), (Destination: ATL), (For Date: 2020-12) \nGetting the data for: (Origin: AEX), (Destination: ATL), (For Date: 2020-08) \nGetting the data for: (Origin: AEX), (Destination: IAH), (For Date: 2020-11) \nGetting the data for: (Origin: AEX), (Destination: IAH), (For Date: 2020-07) \nGetting the data for: (Origin: AEX), (Destination: IAH), (For Date: 2020-09) \nGetting the data for: (Origin: AEX), (Destination: IAH), (For Date: 2020-10) \nGetting the data for: (Origin: AEX), (Destination: IAH), (For Date: 2020-06) \nGetting the data for: (Origin: AEX), (Destination: IAH), (For Date: 2020-12) \nGetting the data for: (Origin: AEX), (Destination: IAH), (For Date: 2020-08) \nGetting the data for: (Origin: AEX), (Destination: MIA), (For Date: 2020-11) \nGetting the data for: (Origin: AEX), (Destination: MIA), (For Date: 2020-07) \nGetting the data for: (Origin: AEX), (Destination: MIA), (For Date: 2020-09) \nGetting the data for: (Origin: AEX), (Destination: MIA), (For Date: 2020-10) \nGetting the data for: (Origin: AEX), (Destination: MIA), (For Date: 2020-06) \nGetting the data for: (Origin: AEX), (Destination: MIA), (For Date: 2020-12) \nApproaching request limit. Sleeping for 60 seconds....\nThe request count index you are at is: 39\nThe the month index you are at is: 2020-12\nThe size of the data file you are requesting off of is: 60 \nThis search is 65.0 percent complete.\nElapsed time is: 662.2431690692902 seconds.\nConducting another request batch.\nGetting the data for: (Origin: AEX), (Destination: MIA), (For Date: 2020-08) \nGetting the data for: (Origin: AFW), (Destination: IAH), (For Date: 2020-11) \nGetting the data for: (Origin: AFW), (Destination: IAH), (For Date: 2020-07) \nGetting the data for: (Origin: AFW), (Destination: IAH), (For Date: 2020-09) \nGetting the data for: (Origin: AFW), (Destination: IAH), (For Date: 2020-10) \nGetting the data for: (Origin: AFW), (Destination: IAH), (For Date: 2020-06) \nGetting the data for: (Origin: AFW), (Destination: IAH), (For Date: 2020-12) \nGetting the data for: (Origin: AFW), (Destination: IAH), (For Date: 2020-08) \nGetting the data for: (Origin: AFW), (Destination: LAX), (For Date: 2020-11) \nGetting the data for: (Origin: AFW), (Destination: LAX), (For Date: 2020-07) \nGetting the data for: (Origin: AFW), (Destination: LAX), (For Date: 2020-09) \nGetting the data for: (Origin: AFW), (Destination: LAX), (For Date: 2020-10) \nGetting the data for: (Origin: AFW), (Destination: LAX), (For Date: 2020-06) \nGetting the data for: (Origin: AFW), (Destination: LAX), (For Date: 2020-12) \nGetting the data for: (Origin: AFW), (Destination: LAX), (For Date: 2020-08) \nGetting the data for: (Origin: AGS), (Destination: ATL), (For Date: 2020-11) \nGetting the data for: (Origin: AGS), (Destination: ATL), (For Date: 2020-07) \nGetting the data for: (Origin: AGS), (Destination: ATL), (For Date: 2020-09) \nGetting the data for: (Origin: AGS), (Destination: ATL), (For Date: 2020-10) \nGetting the data for: (Origin: AGS), (Destination: ATL), (For Date: 2020-06) \nGetting the data for: (Origin: AGS), (Destination: ATL), (For Date: 2020-12) \nGetting the data for: (Origin: AGS), (Destination: ATL), (For Date: 2020-08) \nGetting the data for: (Origin: APF), (Destination: MIA), (For Date: 2020-11) \nGetting the data for: (Origin: APF), (Destination: MIA), (For Date: 2020-07) \nGetting the data for: (Origin: APF), (Destination: MIA), (For Date: 2020-09) \nGetting the data for: (Origin: APF), (Destination: MIA), (For Date: 2020-10) \nGetting the data for: (Origin: APF), (Destination: MIA), (For Date: 2020-06) \nGetting the data for: (Origin: APF), (Destination: MIA), (For Date: 2020-12) \nGetting the data for: (Origin: APF), (Destination: MIA), (For Date: 2020-08) \nGetting the data for: (Origin: AST), (Destination: PDX), (For Date: 2020-11) \nGetting the data for: (Origin: AST), (Destination: PDX), (For Date: 2020-07) \nApproaching request limit. Sleeping for 60 seconds....\nThe request count index you are at is: 44\nThe the month index you are at is: 2020-07\nThe size of the data file you are requesting off of is: 60 \nThis search is 73.33333333333333 percent complete.\nElapsed time is: 743.0967509746552 seconds.\nConducting another request batch.\nGetting the data for: (Origin: AST), (Destination: PDX), (For Date: 2020-09) \nGetting the data for: (Origin: AST), (Destination: PDX), (For Date: 2020-10) \nGetting the data for: (Origin: AST), (Destination: PDX), (For Date: 2020-06) \nGetting the data for: (Origin: AST), (Destination: PDX), (For Date: 2020-12) \nGetting the data for: (Origin: AST), (Destination: PDX), (For Date: 2020-08) \nGetting the data for: (Origin: ATL), (Destination: IAH), (For Date: 2020-11) \nGetting the data for: (Origin: ATL), (Destination: IAH), (For Date: 2020-07) \nGetting the data for: (Origin: ATL), (Destination: IAH), (For Date: 2020-09) \nGetting the data for: (Origin: ATL), (Destination: IAH), (For Date: 2020-10) \nGetting the data for: (Origin: ATL), (Destination: IAH), (For Date: 2020-06) \nGetting the data for: (Origin: ATL), (Destination: IAH), (For Date: 2020-12) \nGetting the data for: (Origin: ATL), (Destination: IAH), (For Date: 2020-08) \nGetting the data for: (Origin: ATL), (Destination: LAX), (For Date: 2020-11) \nGetting the data for: (Origin: ATL), (Destination: LAX), (For Date: 2020-07) \nGetting the data for: (Origin: ATL), (Destination: LAX), (For Date: 2020-09) \nGetting the data for: (Origin: ATL), (Destination: LAX), (For Date: 2020-10) \nGetting the data for: (Origin: ATL), (Destination: LAX), (For Date: 2020-06) \nGetting the data for: (Origin: ATL), (Destination: LAX), (For Date: 2020-12) \nGetting the data for: (Origin: ATL), (Destination: LAX), (For Date: 2020-08) \nGetting the data for: (Origin: ATL), (Destination: MIA), (For Date: 2020-11) \nGetting the data for: (Origin: ATL), (Destination: MIA), (For Date: 2020-07) \nGetting the data for: (Origin: ATL), (Destination: MIA), (For Date: 2020-09) \nGetting the data for: (Origin: ATL), (Destination: MIA), (For Date: 2020-10) \nGetting the data for: (Origin: ATL), (Destination: MIA), (For Date: 2020-06) \nGetting the data for: (Origin: ATL), (Destination: MIA), (For Date: 2020-12) \nGetting the data for: (Origin: ATL), (Destination: MIA), (For Date: 2020-08) \nGetting the data for: (Origin: ATL), (Destination: PDX), (For Date: 2020-11) \nGetting the data for: (Origin: ATL), (Destination: PDX), (For Date: 2020-07) \nGetting the data for: (Origin: ATL), (Destination: PDX), (For Date: 2020-09) \nGetting the data for: (Origin: ATL), (Destination: PDX), (For Date: 2020-10) \nGetting the data for: (Origin: ATL), (Destination: PDX), (For Date: 2020-06) \nApproaching request limit. Sleeping for 60 seconds....\nThe request count index you are at is: 48\nThe the month index you are at is: 2020-06\nThe size of the data file you are requesting off of is: 60 \nThis search is 80.0 percent complete.\nElapsed time is: 822.9702038764954 seconds.\nConducting another request batch.\nGetting the data for: (Origin: ATL), (Destination: PDX), (For Date: 2020-12) \nGetting the data for: (Origin: ATL), (Destination: PDX), (For Date: 2020-08) \nGetting the data for: (Origin: AUS), (Destination: IAH), (For Date: 2020-11) \nGetting the data for: (Origin: AUS), (Destination: IAH), (For Date: 2020-07) \nGetting the data for: (Origin: AUS), (Destination: IAH), (For Date: 2020-09) \nGetting the data for: (Origin: AUS), (Destination: IAH), (For Date: 2020-10) \nGetting the data for: (Origin: AUS), (Destination: IAH), (For Date: 2020-06) \nGetting the data for: (Origin: AUS), (Destination: IAH), (For Date: 2020-12) \nGetting the data for: (Origin: AUS), (Destination: IAH), (For Date: 2020-08) \nGetting the data for: (Origin: BFI), (Destination: PDX), (For Date: 2020-11) \nGetting the data for: (Origin: BFI), (Destination: PDX), (For Date: 2020-07) \nGetting the data for: (Origin: BFI), (Destination: PDX), (For Date: 2020-09) \nGetting the data for: (Origin: BFI), (Destination: PDX), (For Date: 2020-10) \nGetting the data for: (Origin: BFI), (Destination: PDX), (For Date: 2020-06) \nGetting the data for: (Origin: BFI), (Destination: PDX), (For Date: 2020-12) \nGetting the data for: (Origin: BFI), (Destination: PDX), (For Date: 2020-08) \nGetting the data for: (Origin: BIH), (Destination: PDX), (For Date: 2020-11) \nGetting the data for: (Origin: BIH), (Destination: PDX), (For Date: 2020-07) \nGetting the data for: (Origin: BIH), (Destination: PDX), (For Date: 2020-09) \nGetting the data for: (Origin: BIH), (Destination: PDX), (For Date: 2020-10) \nGetting the data for: (Origin: BIH), (Destination: PDX), (For Date: 2020-06) \nGetting the data for: (Origin: BIH), (Destination: PDX), (For Date: 2020-12) \nGetting the data for: (Origin: BIH), (Destination: PDX), (For Date: 2020-08) \nGetting the data for: (Origin: BKV), (Destination: MIA), (For Date: 2020-11) \nGetting the data for: (Origin: BKV), (Destination: MIA), (For Date: 2020-07) \nGetting the data for: (Origin: BKV), (Destination: MIA), (For Date: 2020-09) \nGetting the data for: (Origin: BKV), (Destination: MIA), (For Date: 2020-10) \nGetting the data for: (Origin: BKV), (Destination: MIA), (For Date: 2020-06) \nGetting the data for: (Origin: BKV), (Destination: MIA), (For Date: 2020-12) \nGetting the data for: (Origin: BKV), (Destination: MIA), (For Date: 2020-08) \nGetting the data for: (Origin: BOI), (Destination: PDX), (For Date: 2020-11) \nApproaching request limit. Sleeping for 60 seconds....\nThe request count index you are at is: 53\nThe the month index you are at is: 2020-11\nThe size of the data file you are requesting off of is: 60 \nThis search is 88.33333333333333 percent complete.\nElapsed time is: 903.7103409767151 seconds.\nConducting another request batch.\nGetting the data for: (Origin: BOI), (Destination: PDX), (For Date: 2020-07) \nGetting the data for: (Origin: BOI), (Destination: PDX), (For Date: 2020-09) \nGetting the data for: (Origin: BOI), (Destination: PDX), (For Date: 2020-10) \nGetting the data for: (Origin: BOI), (Destination: PDX), (For Date: 2020-06) \nGetting the data for: (Origin: BOI), (Destination: PDX), (For Date: 2020-12) \nGetting the data for: (Origin: BOI), (Destination: PDX), (For Date: 2020-08) \nGetting the data for: (Origin: BOS), (Destination: MIA), (For Date: 2020-11) \nGetting the data for: (Origin: BOS), (Destination: MIA), (For Date: 2020-07) \nGetting the data for: (Origin: BOS), (Destination: MIA), (For Date: 2020-09) \nGetting the data for: (Origin: BOS), (Destination: MIA), (For Date: 2020-10) \nGetting the data for: (Origin: BOS), (Destination: MIA), (For Date: 2020-06) \nGetting the data for: (Origin: BOS), (Destination: MIA), (For Date: 2020-12) \nGetting the data for: (Origin: BOS), (Destination: MIA), (For Date: 2020-08) \nGetting the data for: (Origin: BUR), (Destination: PDX), (For Date: 2020-11) \nGetting the data for: (Origin: BUR), (Destination: PDX), (For Date: 2020-07) \nGetting the data for: (Origin: BUR), (Destination: PDX), (For Date: 2020-09) \nGetting the data for: (Origin: BUR), (Destination: PDX), (For Date: 2020-10) \nGetting the data for: (Origin: BUR), (Destination: PDX), (For Date: 2020-06) \nGetting the data for: (Origin: BUR), (Destination: PDX), (For Date: 2020-12) \nGetting the data for: (Origin: BUR), (Destination: PDX), (For Date: 2020-08) \nGetting the data for: (Origin: BWI), (Destination: PDX), (For Date: 2020-11) \nGetting the data for: (Origin: BWI), (Destination: PDX), (For Date: 2020-07) \nGetting the data for: (Origin: BWI), (Destination: PDX), (For Date: 2020-09) \nGetting the data for: (Origin: BWI), (Destination: PDX), (For Date: 2020-10) \nGetting the data for: (Origin: BWI), (Destination: PDX), (For Date: 2020-06) \nGetting the data for: (Origin: BWI), (Destination: PDX), (For Date: 2020-12) \nGetting the data for: (Origin: BWI), (Destination: PDX), (For Date: 2020-08) \nGetting the data for: (Origin: CVG), (Destination: PDX), (For Date: 2020-11) \nGetting the data for: (Origin: CVG), (Destination: PDX), (For Date: 2020-07) \nGetting the data for: (Origin: CVG), (Destination: PDX), (For Date: 2020-09) \nGetting the data for: (Origin: CVG), (Destination: PDX), (For Date: 2020-10) \nApproaching request limit. Sleeping for 60 seconds....\nThe request count index you are at is: 57\nThe the month index you are at is: 2020-10\nThe size of the data file you are requesting off of is: 60 \nThis search is 95.0 percent complete.\nElapsed time is: 982.9713900089264 seconds.\nConducting another request batch.\nGetting the data for: (Origin: CVG), (Destination: PDX), (For Date: 2020-06) \nGetting the data for: (Origin: CVG), (Destination: PDX), (For Date: 2020-12) \nGetting the data for: (Origin: CVG), (Destination: PDX), (For Date: 2020-08) \nGetting the data for: (Origin: CVO), (Destination: PDX), (For Date: 2020-11) \nGetting the data for: (Origin: CVO), (Destination: PDX), (For Date: 2020-07) \nGetting the data for: (Origin: CVO), (Destination: PDX), (For Date: 2020-09) \nGetting the data for: (Origin: CVO), (Destination: PDX), (For Date: 2020-10) \nGetting the data for: (Origin: CVO), (Destination: PDX), (For Date: 2020-06) \nGetting the data for: (Origin: CVO), (Destination: PDX), (For Date: 2020-12) \nGetting the data for: (Origin: CVO), (Destination: PDX), (For Date: 2020-08) \nGetting the data for: (Origin: DEN), (Destination: PDX), (For Date: 2020-11) \nGetting the data for: (Origin: DEN), (Destination: PDX), (For Date: 2020-07) \nGetting the data for: (Origin: DEN), (Destination: PDX), (For Date: 2020-09) \nGetting the data for: (Origin: DEN), (Destination: PDX), (For Date: 2020-10) \nGetting the data for: (Origin: DEN), (Destination: PDX), (For Date: 2020-06) \nGetting the data for: (Origin: DEN), (Destination: PDX), (For Date: 2020-12) \nGetting the data for: (Origin: DEN), (Destination: PDX), (For Date: 2020-08) \nElapsed time of process is: 1055.0061898231506\nThe start time was: 1591142958.291769\nThe end time is: 1591144013.298002\n"
    }
   ],
   "source": [
    "test_monthly = get_prices_across_year('US', 'USD', 'en-US', flight_combinations, date_list)"
   ]
  },
  {
   "cell_type": "code",
   "execution_count": 61,
   "metadata": {},
   "outputs": [],
   "source": [
    "test_monthly.to_csv('../data/june2020_to_december2020_monthlyprice.csv')"
   ]
  },
  {
   "cell_type": "code",
   "execution_count": 45,
   "metadata": {},
   "outputs": [
    {
     "name": "stdout",
     "output_type": "stream",
     "text": "his search is 68.33333333333333 percent complete.\nElapsed time is: 1217.755401134491 seconds.\nConducting another request batch.\nGetting the data for: (Origin: AFW), (Destination: LAX), (For Date: 2021-06) \nGetting the data for: (Origin: AFW), (Destination: LAX), (For Date: 2021-04) \nGetting the data for: (Origin: AFW), (Destination: LAX), (For Date: 2021-05) \nGetting the data for: (Origin: AFW), (Destination: LAX), (For Date: 2021-02) \nGetting the data for: (Origin: AFW), (Destination: LAX), (For Date: 2021-07) \nGetting the data for: (Origin: AFW), (Destination: LAX), (For Date: 2021-03) \nGetting the data for: (Origin: AFW), (Destination: LAX), (For Date: 2021-12) \nGetting the data for: (Origin: AFW), (Destination: LAX), (For Date: 2021-11) \nGetting the data for: (Origin: AGS), (Destination: ATL), (For Date: 2021-01) \nGetting the data for: (Origin: AGS), (Destination: ATL), (For Date: 2021-10) \nGetting the data for: (Origin: AGS), (Destination: ATL), (For Date: 2021-09) \nGetting the data for: (Origin: AGS), (Destination: ATL), (For Date: 2021-08) \nGetting the data for: (Origin: AGS), (Destination: ATL), (For Date: 2021-06) \nGetting the data for: (Origin: AGS), (Destination: ATL), (For Date: 2021-04) \nGetting the data for: (Origin: AGS), (Destination: ATL), (For Date: 2021-05) \nGetting the data for: (Origin: AGS), (Destination: ATL), (For Date: 2021-02) \nGetting the data for: (Origin: AGS), (Destination: ATL), (For Date: 2021-07) \nGetting the data for: (Origin: AGS), (Destination: ATL), (For Date: 2021-03) \nGetting the data for: (Origin: AGS), (Destination: ATL), (For Date: 2021-12) \nGetting the data for: (Origin: AGS), (Destination: ATL), (For Date: 2021-11) \nGetting the data for: (Origin: APF), (Destination: MIA), (For Date: 2021-01) \nGetting the data for: (Origin: APF), (Destination: MIA), (For Date: 2021-10) \nGetting the data for: (Origin: APF), (Destination: MIA), (For Date: 2021-09) \nGetting the data for: (Origin: APF), (Destination: MIA), (For Date: 2021-08) \nGetting the data for: (Origin: APF), (Destination: MIA), (For Date: 2021-06) \nGetting the data for: (Origin: APF), (Destination: MIA), (For Date: 2021-04) \nGetting the data for: (Origin: APF), (Destination: MIA), (For Date: 2021-05) \nGetting the data for: (Origin: APF), (Destination: MIA), (For Date: 2021-02) \nGetting the data for: (Origin: APF), (Destination: MIA), (For Date: 2021-07) \nGetting the data for: (Origin: APF), (Destination: MIA), (For Date: 2021-03) \nGetting the data for: (Origin: APF), (Destination: MIA), (For Date: 2021-12) \nApproaching request limit. Sleeping for 60 seconds....\nThe request count index you are at is: 43\nThe the month index you are at is: 2021-12\nThe size of the data file you are requesting off of is: 60 \nThis search is 71.66666666666667 percent complete.\nElapsed time is: 1296.8608539104462 seconds.\nConducting another request batch.\nGetting the data for: (Origin: APF), (Destination: MIA), (For Date: 2021-11) \nGetting the data for: (Origin: AST), (Destination: PDX), (For Date: 2021-01) \nGetting the data for: (Origin: AST), (Destination: PDX), (For Date: 2021-10) \nGetting the data for: (Origin: AST), (Destination: PDX), (For Date: 2021-09) \nGetting the data for: (Origin: AST), (Destination: PDX), (For Date: 2021-08) \nGetting the data for: (Origin: AST), (Destination: PDX), (For Date: 2021-06) \nGetting the data for: (Origin: AST), (Destination: PDX), (For Date: 2021-04) \nGetting the data for: (Origin: AST), (Destination: PDX), (For Date: 2021-05) \nGetting the data for: (Origin: AST), (Destination: PDX), (For Date: 2021-02) \nGetting the data for: (Origin: AST), (Destination: PDX), (For Date: 2021-07) \nGetting the data for: (Origin: AST), (Destination: PDX), (For Date: 2021-03) \nGetting the data for: (Origin: AST), (Destination: PDX), (For Date: 2021-12) \nGetting the data for: (Origin: AST), (Destination: PDX), (For Date: 2021-11) \nGetting the data for: (Origin: ATL), (Destination: IAH), (For Date: 2021-01) \nGetting the data for: (Origin: ATL), (Destination: IAH), (For Date: 2021-10) \nGetting the data for: (Origin: ATL), (Destination: IAH), (For Date: 2021-09) \nGetting the data for: (Origin: ATL), (Destination: IAH), (For Date: 2021-08) \nGetting the data for: (Origin: ATL), (Destination: IAH), (For Date: 2021-06) \nGetting the data for: (Origin: ATL), (Destination: IAH), (For Date: 2021-04) \nGetting the data for: (Origin: ATL), (Destination: IAH), (For Date: 2021-05) \nGetting the data for: (Origin: ATL), (Destination: IAH), (For Date: 2021-02) \nGetting the data for: (Origin: ATL), (Destination: IAH), (For Date: 2021-07) \nGetting the data for: (Origin: ATL), (Destination: IAH), (For Date: 2021-03) \nGetting the data for: (Origin: ATL), (Destination: IAH), (For Date: 2021-12) \nGetting the data for: (Origin: ATL), (Destination: IAH), (For Date: 2021-11) \nGetting the data for: (Origin: ATL), (Destination: LAX), (For Date: 2021-01) \nGetting the data for: (Origin: ATL), (Destination: LAX), (For Date: 2021-10) \nGetting the data for: (Origin: ATL), (Destination: LAX), (For Date: 2021-09) \nGetting the data for: (Origin: ATL), (Destination: LAX), (For Date: 2021-08) \nGetting the data for: (Origin: ATL), (Destination: LAX), (For Date: 2021-06) \nGetting the data for: (Origin: ATL), (Destination: LAX), (For Date: 2021-04) \nApproaching request limit. Sleeping for 60 seconds....\nThe request count index you are at is: 46\nThe the month index you are at is: 2021-04\nThe size of the data file you are requesting off of is: 60 \nThis search is 76.66666666666667 percent complete.\nElapsed time is: 1377.5049991607666 seconds.\nConducting another request batch.\nGetting the data for: (Origin: ATL), (Destination: LAX), (For Date: 2021-05) \nGetting the data for: (Origin: ATL), (Destination: LAX), (For Date: 2021-02) \nGetting the data for: (Origin: ATL), (Destination: LAX), (For Date: 2021-07) \nGetting the data for: (Origin: ATL), (Destination: LAX), (For Date: 2021-03) \nGetting the data for: (Origin: ATL), (Destination: LAX), (For Date: 2021-12) \nGetting the data for: (Origin: ATL), (Destination: LAX), (For Date: 2021-11) \nGetting the data for: (Origin: ATL), (Destination: MIA), (For Date: 2021-01) \nGetting the data for: (Origin: ATL), (Destination: MIA), (For Date: 2021-10) \nGetting the data for: (Origin: ATL), (Destination: MIA), (For Date: 2021-09) \nGetting the data for: (Origin: ATL), (Destination: MIA), (For Date: 2021-08) \nGetting the data for: (Origin: ATL), (Destination: MIA), (For Date: 2021-06) \nGetting the data for: (Origin: ATL), (Destination: MIA), (For Date: 2021-04) \nGetting the data for: (Origin: ATL), (Destination: MIA), (For Date: 2021-05) \nGetting the data for: (Origin: ATL), (Destination: MIA), (For Date: 2021-02) \nGetting the data for: (Origin: ATL), (Destination: MIA), (For Date: 2021-07) \nGetting the data for: (Origin: ATL), (Destination: MIA), (For Date: 2021-03) \nGetting the data for: (Origin: ATL), (Destination: MIA), (For Date: 2021-12) \nGetting the data for: (Origin: ATL), (Destination: MIA), (For Date: 2021-11) \nGetting the data for: (Origin: ATL), (Destination: PDX), (For Date: 2021-01) \nGetting the data for: (Origin: ATL), (Destination: PDX), (For Date: 2021-10) \nGetting the data for: (Origin: ATL), (Destination: PDX), (For Date: 2021-09) \nGetting the data for: (Origin: ATL), (Destination: PDX), (For Date: 2021-08) \nGetting the data for: (Origin: ATL), (Destination: PDX), (For Date: 2021-06) \nGetting the data for: (Origin: ATL), (Destination: PDX), (For Date: 2021-04) \nGetting the data for: (Origin: ATL), (Destination: PDX), (For Date: 2021-05) \nGetting the data for: (Origin: ATL), (Destination: PDX), (For Date: 2021-02) \nGetting the data for: (Origin: ATL), (Destination: PDX), (For Date: 2021-07) \nGetting the data for: (Origin: ATL), (Destination: PDX), (For Date: 2021-03) \nGetting the data for: (Origin: ATL), (Destination: PDX), (For Date: 2021-12) \nGetting the data for: (Origin: ATL), (Destination: PDX), (For Date: 2021-11) \nGetting the data for: (Origin: AUS), (Destination: IAH), (For Date: 2021-01) \nApproaching request limit. Sleeping for 60 seconds....\nThe request count index you are at is: 49\nThe the month index you are at is: 2021-01\nThe size of the data file you are requesting off of is: 60 \nThis search is 81.66666666666667 percent complete.\nElapsed time is: 1456.9298620224 seconds.\nConducting another request batch.\nGetting the data for: (Origin: AUS), (Destination: IAH), (For Date: 2021-10) \nGetting the data for: (Origin: AUS), (Destination: IAH), (For Date: 2021-09) \nGetting the data for: (Origin: AUS), (Destination: IAH), (For Date: 2021-08) \nGetting the data for: (Origin: AUS), (Destination: IAH), (For Date: 2021-06) \nGetting the data for: (Origin: AUS), (Destination: IAH), (For Date: 2021-04) \nGetting the data for: (Origin: AUS), (Destination: IAH), (For Date: 2021-05) \nGetting the data for: (Origin: AUS), (Destination: IAH), (For Date: 2021-02) \nGetting the data for: (Origin: AUS), (Destination: IAH), (For Date: 2021-07) \nGetting the data for: (Origin: AUS), (Destination: IAH), (For Date: 2021-03) \nGetting the data for: (Origin: AUS), (Destination: IAH), (For Date: 2021-12) \nGetting the data for: (Origin: AUS), (Destination: IAH), (For Date: 2021-11) \nGetting the data for: (Origin: BFI), (Destination: PDX), (For Date: 2021-01) \nGetting the data for: (Origin: BFI), (Destination: PDX), (For Date: 2021-10) \nGetting the data for: (Origin: BFI), (Destination: PDX), (For Date: 2021-09) \nGetting the data for: (Origin: BFI), (Destination: PDX), (For Date: 2021-08) \nGetting the data for: (Origin: BFI), (Destination: PDX), (For Date: 2021-06) \nGetting the data for: (Origin: BFI), (Destination: PDX), (For Date: 2021-04) \nGetting the data for: (Origin: BFI), (Destination: PDX), (For Date: 2021-05) \nGetting the data for: (Origin: BFI), (Destination: PDX), (For Date: 2021-02) \nGetting the data for: (Origin: BFI), (Destination: PDX), (For Date: 2021-07) \nGetting the data for: (Origin: BFI), (Destination: PDX), (For Date: 2021-03) \nGetting the data for: (Origin: BFI), (Destination: PDX), (For Date: 2021-12) \nGetting the data for: (Origin: BFI), (Destination: PDX), (For Date: 2021-11) \nGetting the data for: (Origin: BIH), (Destination: PDX), (For Date: 2021-01) \nGetting the data for: (Origin: BIH), (Destination: PDX), (For Date: 2021-10) \nGetting the data for: (Origin: BIH), (Destination: PDX), (For Date: 2021-09) \nGetting the data for: (Origin: BIH), (Destination: PDX), (For Date: 2021-08) \nGetting the data for: (Origin: BIH), (Destination: PDX), (For Date: 2021-06) \nGetting the data for: (Origin: BIH), (Destination: PDX), (For Date: 2021-04) \nGetting the data for: (Origin: BIH), (Destination: PDX), (For Date: 2021-05) \nGetting the data for: (Origin: BIH), (Destination: PDX), (For Date: 2021-02) \nApproaching request limit. Sleeping for 60 seconds....\nThe request count index you are at is: 51\nThe the month index you are at is: 2021-02\nThe size of the data file you are requesting off of is: 60 \nThis search is 85.0 percent complete.\nElapsed time is: 1535.2895469665527 seconds.\nConducting another request batch.\nGetting the data for: (Origin: BIH), (Destination: PDX), (For Date: 2021-07) \nGetting the data for: (Origin: BIH), (Destination: PDX), (For Date: 2021-03) \nGetting the data for: (Origin: BIH), (Destination: PDX), (For Date: 2021-12) \nGetting the data for: (Origin: BIH), (Destination: PDX), (For Date: 2021-11) \nGetting the data for: (Origin: BKV), (Destination: MIA), (For Date: 2021-01) \nGetting the data for: (Origin: BKV), (Destination: MIA), (For Date: 2021-10) \nGetting the data for: (Origin: BKV), (Destination: MIA), (For Date: 2021-09) \nGetting the data for: (Origin: BKV), (Destination: MIA), (For Date: 2021-08) \nGetting the data for: (Origin: BKV), (Destination: MIA), (For Date: 2021-06) \nGetting the data for: (Origin: BKV), (Destination: MIA), (For Date: 2021-04) \nGetting the data for: (Origin: BKV), (Destination: MIA), (For Date: 2021-05) \nGetting the data for: (Origin: BKV), (Destination: MIA), (For Date: 2021-02) \nGetting the data for: (Origin: BKV), (Destination: MIA), (For Date: 2021-07) \nGetting the data for: (Origin: BKV), (Destination: MIA), (For Date: 2021-03) \nGetting the data for: (Origin: BKV), (Destination: MIA), (For Date: 2021-12) \nGetting the data for: (Origin: BKV), (Destination: MIA), (For Date: 2021-11) \nGetting the data for: (Origin: BOI), (Destination: PDX), (For Date: 2021-01) \nGetting the data for: (Origin: BOI), (Destination: PDX), (For Date: 2021-10) \nGetting the data for: (Origin: BOI), (Destination: PDX), (For Date: 2021-09) \nGetting the data for: (Origin: BOI), (Destination: PDX), (For Date: 2021-08) \nGetting the data for: (Origin: BOI), (Destination: PDX), (For Date: 2021-06) \nGetting the data for: (Origin: BOI), (Destination: PDX), (For Date: 2021-04) \nGetting the data for: (Origin: BOI), (Destination: PDX), (For Date: 2021-05) \nGetting the data for: (Origin: BOI), (Destination: PDX), (For Date: 2021-02) \nGetting the data for: (Origin: BOI), (Destination: PDX), (For Date: 2021-07) \nGetting the data for: (Origin: BOI), (Destination: PDX), (For Date: 2021-03) \nGetting the data for: (Origin: BOI), (Destination: PDX), (For Date: 2021-12) \nGetting the data for: (Origin: BOI), (Destination: PDX), (For Date: 2021-11) \nGetting the data for: (Origin: BOS), (Destination: MIA), (For Date: 2021-01) \nGetting the data for: (Origin: BOS), (Destination: MIA), (For Date: 2021-10) \nGetting the data for: (Origin: BOS), (Destination: MIA), (For Date: 2021-09) \nApproaching request limit. Sleeping for 60 seconds....\nThe request count index you are at is: 54\nThe the month index you are at is: 2021-09\nThe size of the data file you are requesting off of is: 60 \nThis search is 90.0 percent complete.\nElapsed time is: 1614.670639038086 seconds.\nConducting another request batch.\nGetting the data for: (Origin: BOS), (Destination: MIA), (For Date: 2021-08) \nGetting the data for: (Origin: BOS), (Destination: MIA), (For Date: 2021-06) \nGetting the data for: (Origin: BOS), (Destination: MIA), (For Date: 2021-04) \nGetting the data for: (Origin: BOS), (Destination: MIA), (For Date: 2021-05) \nGetting the data for: (Origin: BOS), (Destination: MIA), (For Date: 2021-02) \nGetting the data for: (Origin: BOS), (Destination: MIA), (For Date: 2021-07) \nGetting the data for: (Origin: BOS), (Destination: MIA), (For Date: 2021-03) \nGetting the data for: (Origin: BOS), (Destination: MIA), (For Date: 2021-12) \nGetting the data for: (Origin: BOS), (Destination: MIA), (For Date: 2021-11) \nGetting the data for: (Origin: BUR), (Destination: PDX), (For Date: 2021-01) \nGetting the data for: (Origin: BUR), (Destination: PDX), (For Date: 2021-10) \nGetting the data for: (Origin: BUR), (Destination: PDX), (For Date: 2021-09) \nGetting the data for: (Origin: BUR), (Destination: PDX), (For Date: 2021-08) \nGetting the data for: (Origin: BUR), (Destination: PDX), (For Date: 2021-06) \nGetting the data for: (Origin: BUR), (Destination: PDX), (For Date: 2021-04) \nGetting the data for: (Origin: BUR), (Destination: PDX), (For Date: 2021-05) \nGetting the data for: (Origin: BUR), (Destination: PDX), (For Date: 2021-02) \nGetting the data for: (Origin: BUR), (Destination: PDX), (For Date: 2021-07) \nGetting the data for: (Origin: BUR), (Destination: PDX), (For Date: 2021-03) \nGetting the data for: (Origin: BUR), (Destination: PDX), (For Date: 2021-12) \nGetting the data for: (Origin: BUR), (Destination: PDX), (For Date: 2021-11) \nGetting the data for: (Origin: BWI), (Destination: PDX), (For Date: 2021-01) \nGetting the data for: (Origin: BWI), (Destination: PDX), (For Date: 2021-10) \nGetting the data for: (Origin: BWI), (Destination: PDX), (For Date: 2021-09) \nGetting the data for: (Origin: BWI), (Destination: PDX), (For Date: 2021-08) \nGetting the data for: (Origin: BWI), (Destination: PDX), (For Date: 2021-06) \nGetting the data for: (Origin: BWI), (Destination: PDX), (For Date: 2021-04) \nGetting the data for: (Origin: BWI), (Destination: PDX), (For Date: 2021-05) \nGetting the data for: (Origin: BWI), (Destination: PDX), (For Date: 2021-02) \nGetting the data for: (Origin: BWI), (Destination: PDX), (For Date: 2021-07) \nGetting the data for: (Origin: BWI), (Destination: PDX), (For Date: 2021-03) \nApproaching request limit. Sleeping for 60 seconds....\nThe request count index you are at is: 56\nThe the month index you are at is: 2021-03\nThe size of the data file you are requesting off of is: 60 \nThis search is 93.33333333333333 percent complete.\nElapsed time is: 1693.9288470745087 seconds.\nConducting another request batch.\nGetting the data for: (Origin: BWI), (Destination: PDX), (For Date: 2021-12) \nGetting the data for: (Origin: BWI), (Destination: PDX), (For Date: 2021-11) \nGetting the data for: (Origin: CVG), (Destination: PDX), (For Date: 2021-01) \nGetting the data for: (Origin: CVG), (Destination: PDX), (For Date: 2021-10) \nGetting the data for: (Origin: CVG), (Destination: PDX), (For Date: 2021-09) \nGetting the data for: (Origin: CVG), (Destination: PDX), (For Date: 2021-08) \nGetting the data for: (Origin: CVG), (Destination: PDX), (For Date: 2021-06) \nGetting the data for: (Origin: CVG), (Destination: PDX), (For Date: 2021-04) \nGetting the data for: (Origin: CVG), (Destination: PDX), (For Date: 2021-05) \nGetting the data for: (Origin: CVG), (Destination: PDX), (For Date: 2021-02) \nGetting the data for: (Origin: CVG), (Destination: PDX), (For Date: 2021-07) \nGetting the data for: (Origin: CVG), (Destination: PDX), (For Date: 2021-03) \nGetting the data for: (Origin: CVG), (Destination: PDX), (For Date: 2021-12) \nGetting the data for: (Origin: CVG), (Destination: PDX), (For Date: 2021-11) \nGetting the data for: (Origin: CVO), (Destination: PDX), (For Date: 2021-01) \nGetting the data for: (Origin: CVO), (Destination: PDX), (For Date: 2021-10) \nGetting the data for: (Origin: CVO), (Destination: PDX), (For Date: 2021-09) \nGetting the data for: (Origin: CVO), (Destination: PDX), (For Date: 2021-08) \nGetting the data for: (Origin: CVO), (Destination: PDX), (For Date: 2021-06) \nGetting the data for: (Origin: CVO), (Destination: PDX), (For Date: 2021-04) \nGetting the data for: (Origin: CVO), (Destination: PDX), (For Date: 2021-05) \nGetting the data for: (Origin: CVO), (Destination: PDX), (For Date: 2021-02) \nGetting the data for: (Origin: CVO), (Destination: PDX), (For Date: 2021-07) \nGetting the data for: (Origin: CVO), (Destination: PDX), (For Date: 2021-03) \nGetting the data for: (Origin: CVO), (Destination: PDX), (For Date: 2021-12) \nGetting the data for: (Origin: CVO), (Destination: PDX), (For Date: 2021-11) \nGetting the data for: (Origin: DEN), (Destination: PDX), (For Date: 2021-01) \nGetting the data for: (Origin: DEN), (Destination: PDX), (For Date: 2021-10) \nGetting the data for: (Origin: DEN), (Destination: PDX), (For Date: 2021-09) \nGetting the data for: (Origin: DEN), (Destination: PDX), (For Date: 2021-08) \nGetting the data for: (Origin: DEN), (Destination: PDX), (For Date: 2021-06) \nApproaching request limit. Sleeping for 60 seconds....\nThe request count index you are at is: 59\nThe the month index you are at is: 2021-06\nThe size of the data file you are requesting off of is: 60 \nThis search is 98.33333333333333 percent complete.\nElapsed time is: 1772.7789878845215 seconds.\nConducting another request batch.\nGetting the data for: (Origin: DEN), (Destination: PDX), (For Date: 2021-04) \nGetting the data for: (Origin: DEN), (Destination: PDX), (For Date: 2021-05) \nGetting the data for: (Origin: DEN), (Destination: PDX), (For Date: 2021-02) \nGetting the data for: (Origin: DEN), (Destination: PDX), (For Date: 2021-07) \nGetting the data for: (Origin: DEN), (Destination: PDX), (For Date: 2021-03) \nGetting the data for: (Origin: DEN), (Destination: PDX), (For Date: 2021-12) \nGetting the data for: (Origin: DEN), (Destination: PDX), (For Date: 2021-11) \nElapsed time of process is: 1837.3970699310303\nThe start time was: 1591139764.583463\nThe end time is: 1591141601.980588\n"
    }
   ],
   "source": [
    "test_monthly_2 = get_prices_across_year('US', 'USD', 'en-US', flight_combinations, date_list)"
   ]
  },
  {
   "cell_type": "code",
   "execution_count": 46,
   "metadata": {},
   "outputs": [],
   "source": [
    "test_monthly_2.to_csv('../data/2021_monthly_pricing2.csv')"
   ]
  }
 ]
}