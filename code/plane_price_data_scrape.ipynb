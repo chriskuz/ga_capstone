{
 "nbformat": 4,
 "nbformat_minor": 2,
 "metadata": {
  "language_info": {
   "name": "python",
   "codemirror_mode": {
    "name": "ipython",
    "version": 3
   },
   "version": "3.7.6-final"
  },
  "orig_nbformat": 2,
  "file_extension": ".py",
  "mimetype": "text/x-python",
  "name": "python",
  "npconvert_exporter": "python",
  "pygments_lexer": "ipython3",
  "version": 3,
  "kernelspec": {
   "name": "python3",
   "display_name": "Python 3"
  }
 },
 "cells": [
  {
   "cell_type": "code",
   "execution_count": 38,
   "metadata": {},
   "outputs": [],
   "source": [
    "import requests\n",
    "import json\n",
    "import pandas as pd\n",
    "import datetime\n",
    "import numpy as np\n",
    "import time\n",
    "from bs4 import BeautifulSoup"
   ]
  },
  {
   "cell_type": "code",
   "execution_count": 2,
   "metadata": {},
   "outputs": [],
   "source": [
    "with open('/Users/ChristopherKuzemka/Documents/GA/dsi_11/projects/capstone/env.json') as f:\n",
    "    information = json.load(f)"
   ]
  },
  {
   "cell_type": "markdown",
   "metadata": {},
   "source": [
    "Please note I am limited to 50 requests per minute."
   ]
  },
  {
   "cell_type": "markdown",
   "metadata": {},
   "source": [
    "1) Browse Quotes - Returns the cheapest quotes that meet your query. The prices come from our cached prices resulting from our users’ searches.\n",
    "\n",
    "2) Browse Routes - Similar to Browse Quotes but with the quotes grouped by routes. This provides the cheapest destinations (countries, cities or airports) from our cached data.\n",
    "\n",
    "3) Browse Dates - Similar to Browse Quotes but with the quotes grouped by outbound and inbound date. Useful to find the lowest price for a given route, over either a month or a 12 month period.\n",
    "\n",
    "4) Browse Grid - Similar to Browse Dates but with some pre-processing on our side to output a two-dimensional array to easily display the response in calendar format."
   ]
  },
  {
   "cell_type": "code",
   "execution_count": 40,
   "metadata": {},
   "outputs": [
    {
     "data": {
      "text/html": "<div>\n<style scoped>\n    .dataframe tbody tr th:only-of-type {\n        vertical-align: middle;\n    }\n\n    .dataframe tbody tr th {\n        vertical-align: top;\n    }\n\n    .dataframe thead th {\n        text-align: right;\n    }\n</style>\n<table border=\"1\" class=\"dataframe\">\n  <thead>\n    <tr style=\"text-align: right;\">\n      <th></th>\n      <th>Unnamed: 0</th>\n      <th>faFlightID</th>\n      <th>ident</th>\n      <th>prefix</th>\n      <th>type</th>\n      <th>suffix</th>\n      <th>origin</th>\n      <th>destination</th>\n      <th>timeout</th>\n      <th>timestamp</th>\n      <th>...</th>\n      <th>lowLatitude</th>\n      <th>highLongitude</th>\n      <th>highLatitude</th>\n      <th>groundspeed</th>\n      <th>altitude</th>\n      <th>heading</th>\n      <th>altitudeStatus</th>\n      <th>updateType</th>\n      <th>altitudeChange</th>\n      <th>waypoints</th>\n    </tr>\n  </thead>\n  <tbody>\n    <tr>\n      <td>0</td>\n      <td>0</td>\n      <td>DAL333-1590465975-fa-0008</td>\n      <td>DAL333</td>\n      <td>NaN</td>\n      <td>A321</td>\n      <td>NaN</td>\n      <td>KATL</td>\n      <td>KLAX</td>\n      <td>0</td>\n      <td>1590716390</td>\n      <td>...</td>\n      <td>32.94676</td>\n      <td>-84.44664</td>\n      <td>33.70005</td>\n      <td>448</td>\n      <td>300</td>\n      <td>264</td>\n      <td>NaN</td>\n      <td>A</td>\n      <td>D</td>\n      <td>33.64 -84.43 33.68 -84.28 33.81 -84.28 33.81 -...</td>\n    </tr>\n    <tr>\n      <td>1</td>\n      <td>1</td>\n      <td>KLM601-1590468354-airline-0005</td>\n      <td>KLM601</td>\n      <td>NaN</td>\n      <td>B77W</td>\n      <td>NaN</td>\n      <td>EHAM</td>\n      <td>KLAX</td>\n      <td>0</td>\n      <td>1590711509</td>\n      <td>...</td>\n      <td>33.95142</td>\n      <td>4.71741</td>\n      <td>66.06976</td>\n      <td>130</td>\n      <td>1</td>\n      <td>263</td>\n      <td>NaN</td>\n      <td>A</td>\n      <td>D</td>\n      <td>52.31 4.76 53.02 2.53 53.06 2.46 53.2 1.53 53....</td>\n    </tr>\n    <tr>\n      <td>2</td>\n      <td>2</td>\n      <td>VIR607-1590664542-ed-0002</td>\n      <td>VIR607</td>\n      <td>NaN</td>\n      <td>B789</td>\n      <td>NaN</td>\n      <td>EGLL</td>\n      <td>KLAX</td>\n      <td>0</td>\n      <td>1590711368</td>\n      <td>...</td>\n      <td>33.95091</td>\n      <td>-0.39345</td>\n      <td>66.09780</td>\n      <td>101</td>\n      <td>1</td>\n      <td>263</td>\n      <td>NaN</td>\n      <td>A</td>\n      <td>D</td>\n      <td>51.48 -0.46 51.56 -0.59 51.62 -0.68 51.7 -0.79...</td>\n    </tr>\n    <tr>\n      <td>3</td>\n      <td>3</td>\n      <td>DAL702-1590465982-fa-0006</td>\n      <td>DAL702</td>\n      <td>NaN</td>\n      <td>A321</td>\n      <td>NaN</td>\n      <td>KATL</td>\n      <td>KLAX</td>\n      <td>0</td>\n      <td>1590709847</td>\n      <td>...</td>\n      <td>33.64682</td>\n      <td>-84.44602</td>\n      <td>35.52932</td>\n      <td>117</td>\n      <td>1</td>\n      <td>263</td>\n      <td>NaN</td>\n      <td>A</td>\n      <td>D</td>\n      <td>33.64 -84.43 33.68 -84.28 33.79 -85 33.81 -85....</td>\n    </tr>\n    <tr>\n      <td>4</td>\n      <td>4</td>\n      <td>ACA572-1590468353-airline-0278</td>\n      <td>ACA572</td>\n      <td>NaN</td>\n      <td>A319</td>\n      <td>NaN</td>\n      <td>CYVR</td>\n      <td>KLAX</td>\n      <td>0</td>\n      <td>1590706589</td>\n      <td>...</td>\n      <td>33.95183</td>\n      <td>-118.17553</td>\n      <td>49.18984</td>\n      <td>109</td>\n      <td>1</td>\n      <td>263</td>\n      <td>NaN</td>\n      <td>A</td>\n      <td>D</td>\n      <td>49.19 -123.18 49.12 -123.26 49.12 -123.27 49.0...</td>\n    </tr>\n    <tr>\n      <td>...</td>\n      <td>...</td>\n      <td>...</td>\n      <td>...</td>\n      <td>...</td>\n      <td>...</td>\n      <td>...</td>\n      <td>...</td>\n      <td>...</td>\n      <td>...</td>\n      <td>...</td>\n      <td>...</td>\n      <td>...</td>\n      <td>...</td>\n      <td>...</td>\n      <td>...</td>\n      <td>...</td>\n      <td>...</td>\n      <td>...</td>\n      <td>...</td>\n      <td>...</td>\n      <td>...</td>\n    </tr>\n    <tr>\n      <td>100</td>\n      <td>100</td>\n      <td>EDV4708-1590468354-airline-0112</td>\n      <td>EDV4708</td>\n      <td>NaN</td>\n      <td>CRJ9</td>\n      <td>NaN</td>\n      <td>KAGS</td>\n      <td>KATL</td>\n      <td>0</td>\n      <td>1590664135</td>\n      <td>...</td>\n      <td>33.19607</td>\n      <td>-81.97964</td>\n      <td>33.63222</td>\n      <td>126</td>\n      <td>10</td>\n      <td>91</td>\n      <td>NaN</td>\n      <td>A</td>\n      <td>D</td>\n      <td>33.37 -81.96 33.39 -82.03 33.39 -82.04 33.38 -...</td>\n    </tr>\n    <tr>\n      <td>101</td>\n      <td>101</td>\n      <td>ABW341-1590583043-eb-0002</td>\n      <td>ABW341</td>\n      <td>NaN</td>\n      <td>B744</td>\n      <td>NaN</td>\n      <td>EBLG</td>\n      <td>KATL</td>\n      <td>0</td>\n      <td>1590631398</td>\n      <td>...</td>\n      <td>33.53333</td>\n      <td>5.56940</td>\n      <td>54.10380</td>\n      <td>132</td>\n      <td>9</td>\n      <td>90</td>\n      <td></td>\n      <td>A</td>\n      <td>D</td>\n      <td>50.64 5.44 50.69 5.24 50.73 5.08 50.78 4.89 50...</td>\n    </tr>\n    <tr>\n      <td>102</td>\n      <td>102</td>\n      <td>DLH8176-1590641113-airline-0180</td>\n      <td>DLH8176</td>\n      <td>NaN</td>\n      <td>B772</td>\n      <td>NaN</td>\n      <td>EDDF</td>\n      <td>KATL</td>\n      <td>0</td>\n      <td>0</td>\n      <td>...</td>\n      <td>200.00000</td>\n      <td>-200.00000</td>\n      <td>-200.00000</td>\n      <td>0</td>\n      <td>0</td>\n      <td>0</td>\n      <td>NaN</td>\n      <td>NaN</td>\n      <td>NaN</td>\n      <td>NaN</td>\n    </tr>\n    <tr>\n      <td>103</td>\n      <td>103</td>\n      <td>CLX8626-1590641113-airline-0361</td>\n      <td>CLX8626</td>\n      <td>NaN</td>\n      <td>B744</td>\n      <td>NaN</td>\n      <td>ELLX</td>\n      <td>KATL</td>\n      <td>0</td>\n      <td>0</td>\n      <td>...</td>\n      <td>200.00000</td>\n      <td>-200.00000</td>\n      <td>-200.00000</td>\n      <td>0</td>\n      <td>0</td>\n      <td>0</td>\n      <td>NaN</td>\n      <td>NaN</td>\n      <td>NaN</td>\n      <td>NaN</td>\n    </tr>\n    <tr>\n      <td>104</td>\n      <td>104</td>\n      <td>DLH8172-1590641113-airline-0177</td>\n      <td>DLH8172</td>\n      <td>NaN</td>\n      <td>MD11</td>\n      <td>NaN</td>\n      <td>EDDF</td>\n      <td>KATL</td>\n      <td>0</td>\n      <td>0</td>\n      <td>...</td>\n      <td>200.00000</td>\n      <td>-200.00000</td>\n      <td>-200.00000</td>\n      <td>0</td>\n      <td>0</td>\n      <td>0</td>\n      <td>NaN</td>\n      <td>NaN</td>\n      <td>NaN</td>\n      <td>NaN</td>\n    </tr>\n  </tbody>\n</table>\n<p>105 rows × 26 columns</p>\n</div>",
      "text/plain": "     Unnamed: 0                       faFlightID    ident prefix  type  \\\n0             0        DAL333-1590465975-fa-0008   DAL333    NaN  A321   \n1             1   KLM601-1590468354-airline-0005   KLM601    NaN  B77W   \n2             2        VIR607-1590664542-ed-0002   VIR607    NaN  B789   \n3             3        DAL702-1590465982-fa-0006   DAL702    NaN  A321   \n4             4   ACA572-1590468353-airline-0278   ACA572    NaN  A319   \n..          ...                              ...      ...    ...   ...   \n100         100  EDV4708-1590468354-airline-0112  EDV4708    NaN  CRJ9   \n101         101        ABW341-1590583043-eb-0002   ABW341    NaN  B744   \n102         102  DLH8176-1590641113-airline-0180  DLH8176    NaN  B772   \n103         103  CLX8626-1590641113-airline-0361  CLX8626    NaN  B744   \n104         104  DLH8172-1590641113-airline-0177  DLH8172    NaN  MD11   \n\n     suffix origin destination  timeout   timestamp  ...  lowLatitude  \\\n0       NaN   KATL        KLAX        0  1590716390  ...     32.94676   \n1       NaN   EHAM        KLAX        0  1590711509  ...     33.95142   \n2       NaN   EGLL        KLAX        0  1590711368  ...     33.95091   \n3       NaN   KATL        KLAX        0  1590709847  ...     33.64682   \n4       NaN   CYVR        KLAX        0  1590706589  ...     33.95183   \n..      ...    ...         ...      ...         ...  ...          ...   \n100     NaN   KAGS        KATL        0  1590664135  ...     33.19607   \n101     NaN   EBLG        KATL        0  1590631398  ...     33.53333   \n102     NaN   EDDF        KATL        0           0  ...    200.00000   \n103     NaN   ELLX        KATL        0           0  ...    200.00000   \n104     NaN   EDDF        KATL        0           0  ...    200.00000   \n\n     highLongitude  highLatitude  groundspeed  altitude  heading  \\\n0        -84.44664      33.70005          448       300      264   \n1          4.71741      66.06976          130         1      263   \n2         -0.39345      66.09780          101         1      263   \n3        -84.44602      35.52932          117         1      263   \n4       -118.17553      49.18984          109         1      263   \n..             ...           ...          ...       ...      ...   \n100      -81.97964      33.63222          126        10       91   \n101        5.56940      54.10380          132         9       90   \n102     -200.00000    -200.00000            0         0        0   \n103     -200.00000    -200.00000            0         0        0   \n104     -200.00000    -200.00000            0         0        0   \n\n     altitudeStatus  updateType  altitudeChange  \\\n0               NaN           A               D   \n1               NaN           A               D   \n2               NaN           A               D   \n3               NaN           A               D   \n4               NaN           A               D   \n..              ...         ...             ...   \n100             NaN           A               D   \n101                           A               D   \n102             NaN         NaN             NaN   \n103             NaN         NaN             NaN   \n104             NaN         NaN             NaN   \n\n                                             waypoints  \n0    33.64 -84.43 33.68 -84.28 33.81 -84.28 33.81 -...  \n1    52.31 4.76 53.02 2.53 53.06 2.46 53.2 1.53 53....  \n2    51.48 -0.46 51.56 -0.59 51.62 -0.68 51.7 -0.79...  \n3    33.64 -84.43 33.68 -84.28 33.79 -85 33.81 -85....  \n4    49.19 -123.18 49.12 -123.26 49.12 -123.27 49.0...  \n..                                                 ...  \n100  33.37 -81.96 33.39 -82.03 33.39 -82.04 33.38 -...  \n101  50.64 5.44 50.69 5.24 50.73 5.08 50.78 4.89 50...  \n102                                                NaN  \n103                                                NaN  \n104                                                NaN  \n\n[105 rows x 26 columns]"
     },
     "execution_count": 40,
     "metadata": {},
     "output_type": "execute_result"
    }
   ],
   "source": [
    "current_flights = pd.read_csv('../data/current_flights.csv')\n",
    "current_flights"
   ]
  },
  {
   "cell_type": "code",
   "execution_count": 47,
   "metadata": {},
   "outputs": [
    {
     "data": {
      "text/plain": "array(['CYHM', 'CYUL', 'CYVR', 'CYYZ', 'EBBR', 'EBLG', 'EDDF', 'EDDN',\n       'EDDP', 'EGLL', 'EHAM', 'EHBK', 'EIDW', 'ELLX', 'KABQ', 'KABY',\n       'KAEX', 'KAFW', 'KAGS', 'KAPF', 'KAST', 'KATL', 'KAUS', 'KBFI',\n       'KBIH', 'KBKV', 'KBOI', 'KBOS', 'KBUR', 'KBWI', 'KCVG', 'KCVO',\n       'KDEN'], dtype=object)"
     },
     "execution_count": 47,
     "metadata": {},
     "output_type": "execute_result"
    }
   ],
   "source": [
    "flight_combinations = pd.read_csv('../data/flight_combinations.csv')\n",
    "flight_combinations['origin'].unique()"
   ]
  },
  {
   "cell_type": "code",
   "execution_count": 44,
   "metadata": {},
   "outputs": [
    {
     "data": {
      "text/html": "<div>\n<style scoped>\n    .dataframe tbody tr th:only-of-type {\n        vertical-align: middle;\n    }\n\n    .dataframe tbody tr th {\n        vertical-align: top;\n    }\n\n    .dataframe thead th {\n        text-align: right;\n    }\n</style>\n<table border=\"1\" class=\"dataframe\">\n  <thead>\n    <tr style=\"text-align: right;\">\n      <th></th>\n      <th>Unnamed: 0</th>\n      <th>ident</th>\n      <th>actual_ident</th>\n      <th>departuretime</th>\n      <th>arrival_time</th>\n      <th>origin</th>\n      <th>destination</th>\n      <th>aircrafttype</th>\n      <th>meal_service</th>\n      <th>seats_cabin_first</th>\n      <th>seats_cabin_business</th>\n      <th>seats_cabin_coach</th>\n    </tr>\n  </thead>\n  <tbody>\n    <tr>\n      <td>0</td>\n      <td>0</td>\n      <td>UAL4282</td>\n      <td>ASQ4282</td>\n      <td>1588330800</td>\n      <td>1588340820</td>\n      <td>CYUL</td>\n      <td>KORD</td>\n      <td>E75L</td>\n      <td>Business: Refreshments / Economy: Food for sale</td>\n      <td>0</td>\n      <td>12</td>\n      <td>58</td>\n    </tr>\n    <tr>\n      <td>1</td>\n      <td>1</td>\n      <td>ACA7591</td>\n      <td>AC27591</td>\n      <td>1588335000</td>\n      <td>1588343880</td>\n      <td>CYUL</td>\n      <td>KORD</td>\n      <td>E75L</td>\n      <td>Business: Breakfast / Economy: Breakfast, Food...</td>\n      <td>0</td>\n      <td>12</td>\n      <td>64</td>\n    </tr>\n    <tr>\n      <td>2</td>\n      <td>2</td>\n      <td>UAL8371</td>\n      <td>AC27591</td>\n      <td>1588335000</td>\n      <td>1588343880</td>\n      <td>CYUL</td>\n      <td>KORD</td>\n      <td>E75L</td>\n      <td>Business: Breakfast / Economy: Food for sale</td>\n      <td>0</td>\n      <td>12</td>\n      <td>64</td>\n    </tr>\n    <tr>\n      <td>3</td>\n      <td>3</td>\n      <td>UAL4245</td>\n      <td>ASQ4245</td>\n      <td>1588341060</td>\n      <td>1588351080</td>\n      <td>CYUL</td>\n      <td>KORD</td>\n      <td>E75L</td>\n      <td>Business: Refreshments / Economy: Food for sale</td>\n      <td>0</td>\n      <td>12</td>\n      <td>58</td>\n    </tr>\n    <tr>\n      <td>4</td>\n      <td>4</td>\n      <td>UAL8481</td>\n      <td>AC27595</td>\n      <td>1588353300</td>\n      <td>1588362000</td>\n      <td>CYUL</td>\n      <td>KORD</td>\n      <td>E75L</td>\n      <td>Business: Meal / Economy: Food for sale</td>\n      <td>0</td>\n      <td>12</td>\n      <td>64</td>\n    </tr>\n    <tr>\n      <td>...</td>\n      <td>...</td>\n      <td>...</td>\n      <td>...</td>\n      <td>...</td>\n      <td>...</td>\n      <td>...</td>\n      <td>...</td>\n      <td>...</td>\n      <td>...</td>\n      <td>...</td>\n      <td>...</td>\n      <td>...</td>\n    </tr>\n    <tr>\n      <td>5818</td>\n      <td>5818</td>\n      <td>UAL464</td>\n      <td>NaN</td>\n      <td>1590514200</td>\n      <td>1590523860</td>\n      <td>KDEN</td>\n      <td>KPDX</td>\n      <td>A319</td>\n      <td>Business: Snack or brunch / Economy: No meal</td>\n      <td>0</td>\n      <td>12</td>\n      <td>114</td>\n    </tr>\n    <tr>\n      <td>5819</td>\n      <td>5819</td>\n      <td>SWA378</td>\n      <td>NaN</td>\n      <td>1590520500</td>\n      <td>1590529500</td>\n      <td>KDEN</td>\n      <td>KPDX</td>\n      <td>B738</td>\n      <td>Economy: No meal</td>\n      <td>0</td>\n      <td>0</td>\n      <td>175</td>\n    </tr>\n    <tr>\n      <td>5820</td>\n      <td>5820</td>\n      <td>DLH9070</td>\n      <td>UAL393</td>\n      <td>1590539460</td>\n      <td>1590549120</td>\n      <td>KDEN</td>\n      <td>KPDX</td>\n      <td>A319</td>\n      <td>Business: Snack or brunch / Economy: No meal</td>\n      <td>0</td>\n      <td>12</td>\n      <td>114</td>\n    </tr>\n    <tr>\n      <td>5821</td>\n      <td>5821</td>\n      <td>UAL393</td>\n      <td>NaN</td>\n      <td>1590539460</td>\n      <td>1590549120</td>\n      <td>KDEN</td>\n      <td>KPDX</td>\n      <td>A319</td>\n      <td>Business: Snack or brunch / Economy: No meal</td>\n      <td>0</td>\n      <td>12</td>\n      <td>114</td>\n    </tr>\n    <tr>\n      <td>5822</td>\n      <td>5822</td>\n      <td>SWA993</td>\n      <td>NaN</td>\n      <td>1590544800</td>\n      <td>1590554400</td>\n      <td>KDEN</td>\n      <td>KPDX</td>\n      <td>B738</td>\n      <td>Economy: No meal</td>\n      <td>0</td>\n      <td>0</td>\n      <td>175</td>\n    </tr>\n  </tbody>\n</table>\n<p>5823 rows × 12 columns</p>\n</div>",
      "text/plain": "      Unnamed: 0    ident actual_ident  departuretime  arrival_time origin  \\\n0              0  UAL4282      ASQ4282     1588330800    1588340820   CYUL   \n1              1  ACA7591      AC27591     1588335000    1588343880   CYUL   \n2              2  UAL8371      AC27591     1588335000    1588343880   CYUL   \n3              3  UAL4245      ASQ4245     1588341060    1588351080   CYUL   \n4              4  UAL8481      AC27595     1588353300    1588362000   CYUL   \n...          ...      ...          ...            ...           ...    ...   \n5818        5818   UAL464          NaN     1590514200    1590523860   KDEN   \n5819        5819   SWA378          NaN     1590520500    1590529500   KDEN   \n5820        5820  DLH9070       UAL393     1590539460    1590549120   KDEN   \n5821        5821   UAL393          NaN     1590539460    1590549120   KDEN   \n5822        5822   SWA993          NaN     1590544800    1590554400   KDEN   \n\n     destination aircrafttype  \\\n0           KORD         E75L   \n1           KORD         E75L   \n2           KORD         E75L   \n3           KORD         E75L   \n4           KORD         E75L   \n...          ...          ...   \n5818        KPDX         A319   \n5819        KPDX         B738   \n5820        KPDX         A319   \n5821        KPDX         A319   \n5822        KPDX         B738   \n\n                                           meal_service  seats_cabin_first  \\\n0       Business: Refreshments / Economy: Food for sale                  0   \n1     Business: Breakfast / Economy: Breakfast, Food...                  0   \n2          Business: Breakfast / Economy: Food for sale                  0   \n3       Business: Refreshments / Economy: Food for sale                  0   \n4               Business: Meal / Economy: Food for sale                  0   \n...                                                 ...                ...   \n5818       Business: Snack or brunch / Economy: No meal                  0   \n5819                                   Economy: No meal                  0   \n5820       Business: Snack or brunch / Economy: No meal                  0   \n5821       Business: Snack or brunch / Economy: No meal                  0   \n5822                                   Economy: No meal                  0   \n\n      seats_cabin_business  seats_cabin_coach  \n0                       12                 58  \n1                       12                 64  \n2                       12                 64  \n3                       12                 58  \n4                       12                 64  \n...                    ...                ...  \n5818                    12                114  \n5819                     0                175  \n5820                    12                114  \n5821                    12                114  \n5822                     0                175  \n\n[5823 rows x 12 columns]"
     },
     "execution_count": 44,
     "metadata": {},
     "output_type": "execute_result"
    }
   ],
   "source": [
    "flight_schedules = pd.read_csv('../data/flight_schedules.csv')\n",
    "flight_schedules"
   ]
  },
  {
   "cell_type": "code",
   "execution_count": null,
   "metadata": {},
   "outputs": [],
   "source": []
  },
  {
   "cell_type": "code",
   "execution_count": 3,
   "metadata": {},
   "outputs": [
    {
     "data": {
      "text/plain": "dict_keys(['FA_API_KEY', 'FA_USERNAME', 'x-rapidapi-host', 'x-rapidapi-key'])"
     },
     "execution_count": 3,
     "metadata": {},
     "output_type": "execute_result"
    }
   ],
   "source": [
    "information.keys()"
   ]
  },
  {
   "cell_type": "code",
   "execution_count": 5,
   "metadata": {},
   "outputs": [],
   "source": [
    "host_name = information.get('x-rapidapi-host')\n",
    "apiKey = information.get('x-rapidapi-key')"
   ]
  },
  {
   "cell_type": "code",
   "execution_count": 22,
   "metadata": {},
   "outputs": [
    {
     "name": "stdout",
     "output_type": "stream",
     "text": "{\"Places\":[{\"PlaceId\":\"STOC-sky\",\"PlaceName\":\"Stockholm\",\"CountryId\":\"SE-sky\",\"RegionId\":\"\",\"CityId\":\"STOC-sky\",\"CountryName\":\"Sweden\"},{\"PlaceId\":\"ARN-sky\",\"PlaceName\":\"Stockholm Arlanda\",\"CountryId\":\"SE-sky\",\"RegionId\":\"\",\"CityId\":\"STOC-sky\",\"CountryName\":\"Sweden\"},{\"PlaceId\":\"NYO-sky\",\"PlaceName\":\"Stockholm Skavsta\",\"CountryId\":\"SE-sky\",\"RegionId\":\"\",\"CityId\":\"STOC-sky\",\"CountryName\":\"Sweden\"},{\"PlaceId\":\"BMA-sky\",\"PlaceName\":\"Stockholm Bromma\",\"CountryId\":\"SE-sky\",\"RegionId\":\"\",\"CityId\":\"STOC-sky\",\"CountryName\":\"Sweden\"},{\"PlaceId\":\"VST-sky\",\"PlaceName\":\"Stockholm Vasteras\",\"CountryId\":\"SE-sky\",\"RegionId\":\"\",\"CityId\":\"STOC-sky\",\"CountryName\":\"Sweden\"}]}\n"
    }
   ],
   "source": [
    "url = \"https://skyscanner-skyscanner-flight-search-v1.p.rapidapi.com/apiservices/autosuggest/v1.0/UK/GBP/en-GB/\"\n",
    "\n",
    "querystring = {\"query\":\"Stockholm\"}\n",
    "\n",
    "headers = {\n",
    "    'x-rapidapi-host': host_name,\n",
    "    'x-rapidapi-key': apiKey\n",
    "}\n",
    "\n",
    "response = requests.get(url = url, headers=headers, params=querystring)\n",
    "\n",
    "print(response.text)"
   ]
  },
  {
   "cell_type": "code",
   "execution_count": 33,
   "metadata": {},
   "outputs": [],
   "source": [
    "json_response = response.json()"
   ]
  },
  {
   "cell_type": "code",
   "execution_count": 34,
   "metadata": {},
   "outputs": [
    {
     "data": {
      "text/plain": "{'Places': [{'PlaceId': 'STOC-sky',\n   'PlaceName': 'Stockholm',\n   'CountryId': 'SE-sky',\n   'RegionId': '',\n   'CityId': 'STOC-sky',\n   'CountryName': 'Sweden'},\n  {'PlaceId': 'ARN-sky',\n   'PlaceName': 'Stockholm Arlanda',\n   'CountryId': 'SE-sky',\n   'RegionId': '',\n   'CityId': 'STOC-sky',\n   'CountryName': 'Sweden'},\n  {'PlaceId': 'NYO-sky',\n   'PlaceName': 'Stockholm Skavsta',\n   'CountryId': 'SE-sky',\n   'RegionId': '',\n   'CityId': 'STOC-sky',\n   'CountryName': 'Sweden'},\n  {'PlaceId': 'BMA-sky',\n   'PlaceName': 'Stockholm Bromma',\n   'CountryId': 'SE-sky',\n   'RegionId': '',\n   'CityId': 'STOC-sky',\n   'CountryName': 'Sweden'},\n  {'PlaceId': 'VST-sky',\n   'PlaceName': 'Stockholm Vasteras',\n   'CountryId': 'SE-sky',\n   'RegionId': '',\n   'CityId': 'STOC-sky',\n   'CountryName': 'Sweden'}]}"
     },
     "execution_count": 34,
     "metadata": {},
     "output_type": "execute_result"
    }
   ],
   "source": [
    "json_response"
   ]
  },
  {
   "cell_type": "code",
   "execution_count": 36,
   "metadata": {},
   "outputs": [],
   "source": [
    "soup = BeautifulSoup(response.content)"
   ]
  },
  {
   "cell_type": "code",
   "execution_count": 37,
   "metadata": {},
   "outputs": [
    {
     "data": {
      "text/plain": "<html><body><p>{\"Places\":[{\"PlaceId\":\"STOC-sky\",\"PlaceName\":\"Stockholm\",\"CountryId\":\"SE-sky\",\"RegionId\":\"\",\"CityId\":\"STOC-sky\",\"CountryName\":\"Sweden\"},{\"PlaceId\":\"ARN-sky\",\"PlaceName\":\"Stockholm Arlanda\",\"CountryId\":\"SE-sky\",\"RegionId\":\"\",\"CityId\":\"STOC-sky\",\"CountryName\":\"Sweden\"},{\"PlaceId\":\"NYO-sky\",\"PlaceName\":\"Stockholm Skavsta\",\"CountryId\":\"SE-sky\",\"RegionId\":\"\",\"CityId\":\"STOC-sky\",\"CountryName\":\"Sweden\"},{\"PlaceId\":\"BMA-sky\",\"PlaceName\":\"Stockholm Bromma\",\"CountryId\":\"SE-sky\",\"RegionId\":\"\",\"CityId\":\"STOC-sky\",\"CountryName\":\"Sweden\"},{\"PlaceId\":\"VST-sky\",\"PlaceName\":\"Stockholm Vasteras\",\"CountryId\":\"SE-sky\",\"RegionId\":\"\",\"CityId\":\"STOC-sky\",\"CountryName\":\"Sweden\"}]}</p></body></html>"
     },
     "execution_count": 37,
     "metadata": {},
     "output_type": "execute_result"
    }
   ],
   "source": [
    "soup"
   ]
  },
  {
   "cell_type": "code",
   "execution_count": null,
   "metadata": {},
   "outputs": [],
   "source": []
  }
 ]
}