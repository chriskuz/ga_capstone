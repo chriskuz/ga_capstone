{
 "nbformat": 4,
 "nbformat_minor": 2,
 "metadata": {
  "language_info": {
   "name": "python",
   "codemirror_mode": {
    "name": "ipython",
    "version": 3
   },
   "version": "3.7.6-final"
  },
  "orig_nbformat": 2,
  "file_extension": ".py",
  "mimetype": "text/x-python",
  "name": "python",
  "npconvert_exporter": "python",
  "pygments_lexer": "ipython3",
  "version": 3,
  "kernelspec": {
   "name": "python3",
   "display_name": "Python 3"
  }
 },
 "cells": [
  {
   "cell_type": "code",
   "execution_count": 38,
   "metadata": {},
   "outputs": [],
   "source": [
    "import requests\n",
    "import json\n",
    "import pandas as pd\n",
    "import datetime\n",
    "import numpy as np\n",
    "import time\n",
    "from bs4 import BeautifulSoup"
   ]
  },
  {
   "cell_type": "code",
   "execution_count": 2,
   "metadata": {},
   "outputs": [],
   "source": [
    "with open('/Users/ChristopherKuzemka/Documents/GA/dsi_11/projects/capstone/env.json') as f:\n",
    "    information = json.load(f)"
   ]
  },
  {
   "cell_type": "markdown",
   "metadata": {},
   "source": [
    "Please note I am limited to 50 requests per minute."
   ]
  },
  {
   "cell_type": "markdown",
   "metadata": {},
   "source": [
    "1) Browse Quotes - Returns the cheapest quotes that meet your query. The prices come from our cached prices resulting from our users’ searches.\n",
    "\n",
    "2) Browse Routes - Similar to Browse Quotes but with the quotes grouped by routes. This provides the cheapest destinations (countries, cities or airports) from our cached data.\n",
    "\n",
    "3) Browse Dates - Similar to Browse Quotes but with the quotes grouped by outbound and inbound date. Useful to find the lowest price for a given route, over either a month or a 12 month period.\n",
    "\n",
    "4) Browse Grid - Similar to Browse Dates but with some pre-processing on our side to output a two-dimensional array to easily display the response in calendar format."
   ]
  },
  {
   "cell_type": "markdown",
   "metadata": {},
   "source": [
    "# Data Prep"
   ]
  },
  {
   "cell_type": "code",
   "execution_count": 40,
   "metadata": {},
   "outputs": [
    {
     "data": {
      "text/html": "<div>\n<style scoped>\n    .dataframe tbody tr th:only-of-type {\n        vertical-align: middle;\n    }\n\n    .dataframe tbody tr th {\n        vertical-align: top;\n    }\n\n    .dataframe thead th {\n        text-align: right;\n    }\n</style>\n<table border=\"1\" class=\"dataframe\">\n  <thead>\n    <tr style=\"text-align: right;\">\n      <th></th>\n      <th>Unnamed: 0</th>\n      <th>faFlightID</th>\n      <th>ident</th>\n      <th>prefix</th>\n      <th>type</th>\n      <th>suffix</th>\n      <th>origin</th>\n      <th>destination</th>\n      <th>timeout</th>\n      <th>timestamp</th>\n      <th>...</th>\n      <th>lowLatitude</th>\n      <th>highLongitude</th>\n      <th>highLatitude</th>\n      <th>groundspeed</th>\n      <th>altitude</th>\n      <th>heading</th>\n      <th>altitudeStatus</th>\n      <th>updateType</th>\n      <th>altitudeChange</th>\n      <th>waypoints</th>\n    </tr>\n  </thead>\n  <tbody>\n    <tr>\n      <td>0</td>\n      <td>0</td>\n      <td>DAL333-1590465975-fa-0008</td>\n      <td>DAL333</td>\n      <td>NaN</td>\n      <td>A321</td>\n      <td>NaN</td>\n      <td>KATL</td>\n      <td>KLAX</td>\n      <td>0</td>\n      <td>1590716390</td>\n      <td>...</td>\n      <td>32.94676</td>\n      <td>-84.44664</td>\n      <td>33.70005</td>\n      <td>448</td>\n      <td>300</td>\n      <td>264</td>\n      <td>NaN</td>\n      <td>A</td>\n      <td>D</td>\n      <td>33.64 -84.43 33.68 -84.28 33.81 -84.28 33.81 -...</td>\n    </tr>\n    <tr>\n      <td>1</td>\n      <td>1</td>\n      <td>KLM601-1590468354-airline-0005</td>\n      <td>KLM601</td>\n      <td>NaN</td>\n      <td>B77W</td>\n      <td>NaN</td>\n      <td>EHAM</td>\n      <td>KLAX</td>\n      <td>0</td>\n      <td>1590711509</td>\n      <td>...</td>\n      <td>33.95142</td>\n      <td>4.71741</td>\n      <td>66.06976</td>\n      <td>130</td>\n      <td>1</td>\n      <td>263</td>\n      <td>NaN</td>\n      <td>A</td>\n      <td>D</td>\n      <td>52.31 4.76 53.02 2.53 53.06 2.46 53.2 1.53 53....</td>\n    </tr>\n    <tr>\n      <td>2</td>\n      <td>2</td>\n      <td>VIR607-1590664542-ed-0002</td>\n      <td>VIR607</td>\n      <td>NaN</td>\n      <td>B789</td>\n      <td>NaN</td>\n      <td>EGLL</td>\n      <td>KLAX</td>\n      <td>0</td>\n      <td>1590711368</td>\n      <td>...</td>\n      <td>33.95091</td>\n      <td>-0.39345</td>\n      <td>66.09780</td>\n      <td>101</td>\n      <td>1</td>\n      <td>263</td>\n      <td>NaN</td>\n      <td>A</td>\n      <td>D</td>\n      <td>51.48 -0.46 51.56 -0.59 51.62 -0.68 51.7 -0.79...</td>\n    </tr>\n    <tr>\n      <td>3</td>\n      <td>3</td>\n      <td>DAL702-1590465982-fa-0006</td>\n      <td>DAL702</td>\n      <td>NaN</td>\n      <td>A321</td>\n      <td>NaN</td>\n      <td>KATL</td>\n      <td>KLAX</td>\n      <td>0</td>\n      <td>1590709847</td>\n      <td>...</td>\n      <td>33.64682</td>\n      <td>-84.44602</td>\n      <td>35.52932</td>\n      <td>117</td>\n      <td>1</td>\n      <td>263</td>\n      <td>NaN</td>\n      <td>A</td>\n      <td>D</td>\n      <td>33.64 -84.43 33.68 -84.28 33.79 -85 33.81 -85....</td>\n    </tr>\n    <tr>\n      <td>4</td>\n      <td>4</td>\n      <td>ACA572-1590468353-airline-0278</td>\n      <td>ACA572</td>\n      <td>NaN</td>\n      <td>A319</td>\n      <td>NaN</td>\n      <td>CYVR</td>\n      <td>KLAX</td>\n      <td>0</td>\n      <td>1590706589</td>\n      <td>...</td>\n      <td>33.95183</td>\n      <td>-118.17553</td>\n      <td>49.18984</td>\n      <td>109</td>\n      <td>1</td>\n      <td>263</td>\n      <td>NaN</td>\n      <td>A</td>\n      <td>D</td>\n      <td>49.19 -123.18 49.12 -123.26 49.12 -123.27 49.0...</td>\n    </tr>\n    <tr>\n      <td>...</td>\n      <td>...</td>\n      <td>...</td>\n      <td>...</td>\n      <td>...</td>\n      <td>...</td>\n      <td>...</td>\n      <td>...</td>\n      <td>...</td>\n      <td>...</td>\n      <td>...</td>\n      <td>...</td>\n      <td>...</td>\n      <td>...</td>\n      <td>...</td>\n      <td>...</td>\n      <td>...</td>\n      <td>...</td>\n      <td>...</td>\n      <td>...</td>\n      <td>...</td>\n      <td>...</td>\n    </tr>\n    <tr>\n      <td>100</td>\n      <td>100</td>\n      <td>EDV4708-1590468354-airline-0112</td>\n      <td>EDV4708</td>\n      <td>NaN</td>\n      <td>CRJ9</td>\n      <td>NaN</td>\n      <td>KAGS</td>\n      <td>KATL</td>\n      <td>0</td>\n      <td>1590664135</td>\n      <td>...</td>\n      <td>33.19607</td>\n      <td>-81.97964</td>\n      <td>33.63222</td>\n      <td>126</td>\n      <td>10</td>\n      <td>91</td>\n      <td>NaN</td>\n      <td>A</td>\n      <td>D</td>\n      <td>33.37 -81.96 33.39 -82.03 33.39 -82.04 33.38 -...</td>\n    </tr>\n    <tr>\n      <td>101</td>\n      <td>101</td>\n      <td>ABW341-1590583043-eb-0002</td>\n      <td>ABW341</td>\n      <td>NaN</td>\n      <td>B744</td>\n      <td>NaN</td>\n      <td>EBLG</td>\n      <td>KATL</td>\n      <td>0</td>\n      <td>1590631398</td>\n      <td>...</td>\n      <td>33.53333</td>\n      <td>5.56940</td>\n      <td>54.10380</td>\n      <td>132</td>\n      <td>9</td>\n      <td>90</td>\n      <td></td>\n      <td>A</td>\n      <td>D</td>\n      <td>50.64 5.44 50.69 5.24 50.73 5.08 50.78 4.89 50...</td>\n    </tr>\n    <tr>\n      <td>102</td>\n      <td>102</td>\n      <td>DLH8176-1590641113-airline-0180</td>\n      <td>DLH8176</td>\n      <td>NaN</td>\n      <td>B772</td>\n      <td>NaN</td>\n      <td>EDDF</td>\n      <td>KATL</td>\n      <td>0</td>\n      <td>0</td>\n      <td>...</td>\n      <td>200.00000</td>\n      <td>-200.00000</td>\n      <td>-200.00000</td>\n      <td>0</td>\n      <td>0</td>\n      <td>0</td>\n      <td>NaN</td>\n      <td>NaN</td>\n      <td>NaN</td>\n      <td>NaN</td>\n    </tr>\n    <tr>\n      <td>103</td>\n      <td>103</td>\n      <td>CLX8626-1590641113-airline-0361</td>\n      <td>CLX8626</td>\n      <td>NaN</td>\n      <td>B744</td>\n      <td>NaN</td>\n      <td>ELLX</td>\n      <td>KATL</td>\n      <td>0</td>\n      <td>0</td>\n      <td>...</td>\n      <td>200.00000</td>\n      <td>-200.00000</td>\n      <td>-200.00000</td>\n      <td>0</td>\n      <td>0</td>\n      <td>0</td>\n      <td>NaN</td>\n      <td>NaN</td>\n      <td>NaN</td>\n      <td>NaN</td>\n    </tr>\n    <tr>\n      <td>104</td>\n      <td>104</td>\n      <td>DLH8172-1590641113-airline-0177</td>\n      <td>DLH8172</td>\n      <td>NaN</td>\n      <td>MD11</td>\n      <td>NaN</td>\n      <td>EDDF</td>\n      <td>KATL</td>\n      <td>0</td>\n      <td>0</td>\n      <td>...</td>\n      <td>200.00000</td>\n      <td>-200.00000</td>\n      <td>-200.00000</td>\n      <td>0</td>\n      <td>0</td>\n      <td>0</td>\n      <td>NaN</td>\n      <td>NaN</td>\n      <td>NaN</td>\n      <td>NaN</td>\n    </tr>\n  </tbody>\n</table>\n<p>105 rows × 26 columns</p>\n</div>",
      "text/plain": "     Unnamed: 0                       faFlightID    ident prefix  type  \\\n0             0        DAL333-1590465975-fa-0008   DAL333    NaN  A321   \n1             1   KLM601-1590468354-airline-0005   KLM601    NaN  B77W   \n2             2        VIR607-1590664542-ed-0002   VIR607    NaN  B789   \n3             3        DAL702-1590465982-fa-0006   DAL702    NaN  A321   \n4             4   ACA572-1590468353-airline-0278   ACA572    NaN  A319   \n..          ...                              ...      ...    ...   ...   \n100         100  EDV4708-1590468354-airline-0112  EDV4708    NaN  CRJ9   \n101         101        ABW341-1590583043-eb-0002   ABW341    NaN  B744   \n102         102  DLH8176-1590641113-airline-0180  DLH8176    NaN  B772   \n103         103  CLX8626-1590641113-airline-0361  CLX8626    NaN  B744   \n104         104  DLH8172-1590641113-airline-0177  DLH8172    NaN  MD11   \n\n     suffix origin destination  timeout   timestamp  ...  lowLatitude  \\\n0       NaN   KATL        KLAX        0  1590716390  ...     32.94676   \n1       NaN   EHAM        KLAX        0  1590711509  ...     33.95142   \n2       NaN   EGLL        KLAX        0  1590711368  ...     33.95091   \n3       NaN   KATL        KLAX        0  1590709847  ...     33.64682   \n4       NaN   CYVR        KLAX        0  1590706589  ...     33.95183   \n..      ...    ...         ...      ...         ...  ...          ...   \n100     NaN   KAGS        KATL        0  1590664135  ...     33.19607   \n101     NaN   EBLG        KATL        0  1590631398  ...     33.53333   \n102     NaN   EDDF        KATL        0           0  ...    200.00000   \n103     NaN   ELLX        KATL        0           0  ...    200.00000   \n104     NaN   EDDF        KATL        0           0  ...    200.00000   \n\n     highLongitude  highLatitude  groundspeed  altitude  heading  \\\n0        -84.44664      33.70005          448       300      264   \n1          4.71741      66.06976          130         1      263   \n2         -0.39345      66.09780          101         1      263   \n3        -84.44602      35.52932          117         1      263   \n4       -118.17553      49.18984          109         1      263   \n..             ...           ...          ...       ...      ...   \n100      -81.97964      33.63222          126        10       91   \n101        5.56940      54.10380          132         9       90   \n102     -200.00000    -200.00000            0         0        0   \n103     -200.00000    -200.00000            0         0        0   \n104     -200.00000    -200.00000            0         0        0   \n\n     altitudeStatus  updateType  altitudeChange  \\\n0               NaN           A               D   \n1               NaN           A               D   \n2               NaN           A               D   \n3               NaN           A               D   \n4               NaN           A               D   \n..              ...         ...             ...   \n100             NaN           A               D   \n101                           A               D   \n102             NaN         NaN             NaN   \n103             NaN         NaN             NaN   \n104             NaN         NaN             NaN   \n\n                                             waypoints  \n0    33.64 -84.43 33.68 -84.28 33.81 -84.28 33.81 -...  \n1    52.31 4.76 53.02 2.53 53.06 2.46 53.2 1.53 53....  \n2    51.48 -0.46 51.56 -0.59 51.62 -0.68 51.7 -0.79...  \n3    33.64 -84.43 33.68 -84.28 33.79 -85 33.81 -85....  \n4    49.19 -123.18 49.12 -123.26 49.12 -123.27 49.0...  \n..                                                 ...  \n100  33.37 -81.96 33.39 -82.03 33.39 -82.04 33.38 -...  \n101  50.64 5.44 50.69 5.24 50.73 5.08 50.78 4.89 50...  \n102                                                NaN  \n103                                                NaN  \n104                                                NaN  \n\n[105 rows x 26 columns]"
     },
     "execution_count": 40,
     "metadata": {},
     "output_type": "execute_result"
    }
   ],
   "source": [
    "current_flights = pd.read_csv('../data/current_flights.csv')\n",
    "current_flights"
   ]
  },
  {
   "cell_type": "code",
   "execution_count": 81,
   "metadata": {},
   "outputs": [
    {
     "data": {
      "text/html": "<div>\n<style scoped>\n    .dataframe tbody tr th:only-of-type {\n        vertical-align: middle;\n    }\n\n    .dataframe tbody tr th {\n        vertical-align: top;\n    }\n\n    .dataframe thead th {\n        text-align: right;\n    }\n</style>\n<table border=\"1\" class=\"dataframe\">\n  <thead>\n    <tr style=\"text-align: right;\">\n      <th></th>\n      <th>Unnamed: 0</th>\n      <th>ident</th>\n      <th>actual_ident</th>\n      <th>departuretime</th>\n      <th>arrival_time</th>\n      <th>origin</th>\n      <th>destination</th>\n      <th>aircrafttype</th>\n      <th>meal_service</th>\n      <th>seats_cabin_first</th>\n      <th>seats_cabin_business</th>\n      <th>seats_cabin_coach</th>\n    </tr>\n  </thead>\n  <tbody>\n    <tr>\n      <td>0</td>\n      <td>0</td>\n      <td>UAL4282</td>\n      <td>ASQ4282</td>\n      <td>1588330800</td>\n      <td>1588340820</td>\n      <td>CYUL</td>\n      <td>KORD</td>\n      <td>E75L</td>\n      <td>Business: Refreshments / Economy: Food for sale</td>\n      <td>0</td>\n      <td>12</td>\n      <td>58</td>\n    </tr>\n    <tr>\n      <td>1</td>\n      <td>1</td>\n      <td>ACA7591</td>\n      <td>AC27591</td>\n      <td>1588335000</td>\n      <td>1588343880</td>\n      <td>CYUL</td>\n      <td>KORD</td>\n      <td>E75L</td>\n      <td>Business: Breakfast / Economy: Breakfast, Food...</td>\n      <td>0</td>\n      <td>12</td>\n      <td>64</td>\n    </tr>\n    <tr>\n      <td>2</td>\n      <td>2</td>\n      <td>UAL8371</td>\n      <td>AC27591</td>\n      <td>1588335000</td>\n      <td>1588343880</td>\n      <td>CYUL</td>\n      <td>KORD</td>\n      <td>E75L</td>\n      <td>Business: Breakfast / Economy: Food for sale</td>\n      <td>0</td>\n      <td>12</td>\n      <td>64</td>\n    </tr>\n    <tr>\n      <td>3</td>\n      <td>3</td>\n      <td>UAL4245</td>\n      <td>ASQ4245</td>\n      <td>1588341060</td>\n      <td>1588351080</td>\n      <td>CYUL</td>\n      <td>KORD</td>\n      <td>E75L</td>\n      <td>Business: Refreshments / Economy: Food for sale</td>\n      <td>0</td>\n      <td>12</td>\n      <td>58</td>\n    </tr>\n    <tr>\n      <td>4</td>\n      <td>4</td>\n      <td>UAL8481</td>\n      <td>AC27595</td>\n      <td>1588353300</td>\n      <td>1588362000</td>\n      <td>CYUL</td>\n      <td>KORD</td>\n      <td>E75L</td>\n      <td>Business: Meal / Economy: Food for sale</td>\n      <td>0</td>\n      <td>12</td>\n      <td>64</td>\n    </tr>\n    <tr>\n      <td>...</td>\n      <td>...</td>\n      <td>...</td>\n      <td>...</td>\n      <td>...</td>\n      <td>...</td>\n      <td>...</td>\n      <td>...</td>\n      <td>...</td>\n      <td>...</td>\n      <td>...</td>\n      <td>...</td>\n      <td>...</td>\n    </tr>\n    <tr>\n      <td>5818</td>\n      <td>5818</td>\n      <td>UAL464</td>\n      <td>NaN</td>\n      <td>1590514200</td>\n      <td>1590523860</td>\n      <td>KDEN</td>\n      <td>KPDX</td>\n      <td>A319</td>\n      <td>Business: Snack or brunch / Economy: No meal</td>\n      <td>0</td>\n      <td>12</td>\n      <td>114</td>\n    </tr>\n    <tr>\n      <td>5819</td>\n      <td>5819</td>\n      <td>SWA378</td>\n      <td>NaN</td>\n      <td>1590520500</td>\n      <td>1590529500</td>\n      <td>KDEN</td>\n      <td>KPDX</td>\n      <td>B738</td>\n      <td>Economy: No meal</td>\n      <td>0</td>\n      <td>0</td>\n      <td>175</td>\n    </tr>\n    <tr>\n      <td>5820</td>\n      <td>5820</td>\n      <td>DLH9070</td>\n      <td>UAL393</td>\n      <td>1590539460</td>\n      <td>1590549120</td>\n      <td>KDEN</td>\n      <td>KPDX</td>\n      <td>A319</td>\n      <td>Business: Snack or brunch / Economy: No meal</td>\n      <td>0</td>\n      <td>12</td>\n      <td>114</td>\n    </tr>\n    <tr>\n      <td>5821</td>\n      <td>5821</td>\n      <td>UAL393</td>\n      <td>NaN</td>\n      <td>1590539460</td>\n      <td>1590549120</td>\n      <td>KDEN</td>\n      <td>KPDX</td>\n      <td>A319</td>\n      <td>Business: Snack or brunch / Economy: No meal</td>\n      <td>0</td>\n      <td>12</td>\n      <td>114</td>\n    </tr>\n    <tr>\n      <td>5822</td>\n      <td>5822</td>\n      <td>SWA993</td>\n      <td>NaN</td>\n      <td>1590544800</td>\n      <td>1590554400</td>\n      <td>KDEN</td>\n      <td>KPDX</td>\n      <td>B738</td>\n      <td>Economy: No meal</td>\n      <td>0</td>\n      <td>0</td>\n      <td>175</td>\n    </tr>\n  </tbody>\n</table>\n<p>5823 rows × 12 columns</p>\n</div>",
      "text/plain": "      Unnamed: 0    ident actual_ident  departuretime  arrival_time origin  \\\n0              0  UAL4282      ASQ4282     1588330800    1588340820   CYUL   \n1              1  ACA7591      AC27591     1588335000    1588343880   CYUL   \n2              2  UAL8371      AC27591     1588335000    1588343880   CYUL   \n3              3  UAL4245      ASQ4245     1588341060    1588351080   CYUL   \n4              4  UAL8481      AC27595     1588353300    1588362000   CYUL   \n...          ...      ...          ...            ...           ...    ...   \n5818        5818   UAL464          NaN     1590514200    1590523860   KDEN   \n5819        5819   SWA378          NaN     1590520500    1590529500   KDEN   \n5820        5820  DLH9070       UAL393     1590539460    1590549120   KDEN   \n5821        5821   UAL393          NaN     1590539460    1590549120   KDEN   \n5822        5822   SWA993          NaN     1590544800    1590554400   KDEN   \n\n     destination aircrafttype  \\\n0           KORD         E75L   \n1           KORD         E75L   \n2           KORD         E75L   \n3           KORD         E75L   \n4           KORD         E75L   \n...          ...          ...   \n5818        KPDX         A319   \n5819        KPDX         B738   \n5820        KPDX         A319   \n5821        KPDX         A319   \n5822        KPDX         B738   \n\n                                           meal_service  seats_cabin_first  \\\n0       Business: Refreshments / Economy: Food for sale                  0   \n1     Business: Breakfast / Economy: Breakfast, Food...                  0   \n2          Business: Breakfast / Economy: Food for sale                  0   \n3       Business: Refreshments / Economy: Food for sale                  0   \n4               Business: Meal / Economy: Food for sale                  0   \n...                                                 ...                ...   \n5818       Business: Snack or brunch / Economy: No meal                  0   \n5819                                   Economy: No meal                  0   \n5820       Business: Snack or brunch / Economy: No meal                  0   \n5821       Business: Snack or brunch / Economy: No meal                  0   \n5822                                   Economy: No meal                  0   \n\n      seats_cabin_business  seats_cabin_coach  \n0                       12                 58  \n1                       12                 64  \n2                       12                 64  \n3                       12                 58  \n4                       12                 64  \n...                    ...                ...  \n5818                    12                114  \n5819                     0                175  \n5820                    12                114  \n5821                    12                114  \n5822                     0                175  \n\n[5823 rows x 12 columns]"
     },
     "execution_count": 81,
     "metadata": {},
     "output_type": "execute_result"
    }
   ],
   "source": [
    "flight_schedules = pd.read_csv('../data/flight_schedules.csv')\n",
    "flight_schedules"
   ]
  },
  {
   "cell_type": "code",
   "execution_count": 82,
   "metadata": {},
   "outputs": [
    {
     "data": {
      "text/html": "<div>\n<style scoped>\n    .dataframe tbody tr th:only-of-type {\n        vertical-align: middle;\n    }\n\n    .dataframe tbody tr th {\n        vertical-align: top;\n    }\n\n    .dataframe thead th {\n        text-align: right;\n    }\n</style>\n<table border=\"1\" class=\"dataframe\">\n  <thead>\n    <tr style=\"text-align: right;\">\n      <th></th>\n      <th>Unnamed: 0</th>\n      <th>origin</th>\n      <th>destination</th>\n      <th>0</th>\n    </tr>\n  </thead>\n  <tbody>\n    <tr>\n      <td>0</td>\n      <td>0</td>\n      <td>CYHM</td>\n      <td>KJFK</td>\n      <td>1</td>\n    </tr>\n    <tr>\n      <td>1</td>\n      <td>1</td>\n      <td>CYUL</td>\n      <td>KORD</td>\n      <td>1</td>\n    </tr>\n    <tr>\n      <td>2</td>\n      <td>2</td>\n      <td>CYVR</td>\n      <td>KLAX</td>\n      <td>1</td>\n    </tr>\n    <tr>\n      <td>3</td>\n      <td>3</td>\n      <td>CYYZ</td>\n      <td>KIAH</td>\n      <td>2</td>\n    </tr>\n    <tr>\n      <td>4</td>\n      <td>4</td>\n      <td>CYYZ</td>\n      <td>KJFK</td>\n      <td>1</td>\n    </tr>\n    <tr>\n      <td>5</td>\n      <td>5</td>\n      <td>CYYZ</td>\n      <td>KLAX</td>\n      <td>1</td>\n    </tr>\n    <tr>\n      <td>6</td>\n      <td>6</td>\n      <td>CYYZ</td>\n      <td>KORD</td>\n      <td>4</td>\n    </tr>\n    <tr>\n      <td>7</td>\n      <td>7</td>\n      <td>EBBR</td>\n      <td>KMIA</td>\n      <td>2</td>\n    </tr>\n    <tr>\n      <td>8</td>\n      <td>8</td>\n      <td>EBBR</td>\n      <td>KORD</td>\n      <td>1</td>\n    </tr>\n    <tr>\n      <td>9</td>\n      <td>9</td>\n      <td>EBLG</td>\n      <td>KATL</td>\n      <td>1</td>\n    </tr>\n    <tr>\n      <td>10</td>\n      <td>10</td>\n      <td>EBLG</td>\n      <td>KJFK</td>\n      <td>2</td>\n    </tr>\n    <tr>\n      <td>11</td>\n      <td>11</td>\n      <td>EBLG</td>\n      <td>KORD</td>\n      <td>1</td>\n    </tr>\n    <tr>\n      <td>12</td>\n      <td>12</td>\n      <td>EDDF</td>\n      <td>KATL</td>\n      <td>4</td>\n    </tr>\n    <tr>\n      <td>13</td>\n      <td>13</td>\n      <td>EDDF</td>\n      <td>KIAH</td>\n      <td>1</td>\n    </tr>\n    <tr>\n      <td>14</td>\n      <td>14</td>\n      <td>EDDF</td>\n      <td>KJFK</td>\n      <td>2</td>\n    </tr>\n    <tr>\n      <td>15</td>\n      <td>15</td>\n      <td>EDDF</td>\n      <td>KLAX</td>\n      <td>1</td>\n    </tr>\n    <tr>\n      <td>16</td>\n      <td>16</td>\n      <td>EDDF</td>\n      <td>KORD</td>\n      <td>7</td>\n    </tr>\n    <tr>\n      <td>17</td>\n      <td>17</td>\n      <td>EDDN</td>\n      <td>KMIA</td>\n      <td>1</td>\n    </tr>\n    <tr>\n      <td>18</td>\n      <td>18</td>\n      <td>EDDP</td>\n      <td>KJFK</td>\n      <td>1</td>\n    </tr>\n    <tr>\n      <td>19</td>\n      <td>19</td>\n      <td>EGLL</td>\n      <td>KATL</td>\n      <td>1</td>\n    </tr>\n    <tr>\n      <td>20</td>\n      <td>20</td>\n      <td>EGLL</td>\n      <td>KJFK</td>\n      <td>6</td>\n    </tr>\n    <tr>\n      <td>21</td>\n      <td>21</td>\n      <td>EGLL</td>\n      <td>KLAX</td>\n      <td>4</td>\n    </tr>\n    <tr>\n      <td>22</td>\n      <td>22</td>\n      <td>EGLL</td>\n      <td>KMIA</td>\n      <td>2</td>\n    </tr>\n    <tr>\n      <td>23</td>\n      <td>23</td>\n      <td>EGLL</td>\n      <td>KORD</td>\n      <td>1</td>\n    </tr>\n    <tr>\n      <td>24</td>\n      <td>24</td>\n      <td>EHAM</td>\n      <td>KATL</td>\n      <td>2</td>\n    </tr>\n    <tr>\n      <td>25</td>\n      <td>25</td>\n      <td>EHAM</td>\n      <td>KJFK</td>\n      <td>1</td>\n    </tr>\n    <tr>\n      <td>26</td>\n      <td>26</td>\n      <td>EHAM</td>\n      <td>KLAX</td>\n      <td>1</td>\n    </tr>\n    <tr>\n      <td>27</td>\n      <td>27</td>\n      <td>EHAM</td>\n      <td>KMIA</td>\n      <td>1</td>\n    </tr>\n    <tr>\n      <td>28</td>\n      <td>28</td>\n      <td>EHBK</td>\n      <td>KATL</td>\n      <td>2</td>\n    </tr>\n    <tr>\n      <td>29</td>\n      <td>29</td>\n      <td>EIDW</td>\n      <td>KJFK</td>\n      <td>1</td>\n    </tr>\n    <tr>\n      <td>30</td>\n      <td>30</td>\n      <td>ELLX</td>\n      <td>KATL</td>\n      <td>1</td>\n    </tr>\n    <tr>\n      <td>31</td>\n      <td>31</td>\n      <td>ELLX</td>\n      <td>KIAH</td>\n      <td>1</td>\n    </tr>\n    <tr>\n      <td>32</td>\n      <td>32</td>\n      <td>ELLX</td>\n      <td>KLAX</td>\n      <td>1</td>\n    </tr>\n    <tr>\n      <td>33</td>\n      <td>33</td>\n      <td>ELLX</td>\n      <td>KMIA</td>\n      <td>1</td>\n    </tr>\n    <tr>\n      <td>34</td>\n      <td>34</td>\n      <td>KABQ</td>\n      <td>KIAH</td>\n      <td>2</td>\n    </tr>\n    <tr>\n      <td>35</td>\n      <td>35</td>\n      <td>KABQ</td>\n      <td>KLAX</td>\n      <td>2</td>\n    </tr>\n    <tr>\n      <td>36</td>\n      <td>36</td>\n      <td>KABY</td>\n      <td>KATL</td>\n      <td>1</td>\n    </tr>\n    <tr>\n      <td>37</td>\n      <td>37</td>\n      <td>KAEX</td>\n      <td>KATL</td>\n      <td>2</td>\n    </tr>\n    <tr>\n      <td>38</td>\n      <td>38</td>\n      <td>KAEX</td>\n      <td>KIAH</td>\n      <td>2</td>\n    </tr>\n    <tr>\n      <td>39</td>\n      <td>39</td>\n      <td>KAEX</td>\n      <td>KMIA</td>\n      <td>1</td>\n    </tr>\n    <tr>\n      <td>40</td>\n      <td>40</td>\n      <td>KAFW</td>\n      <td>KIAH</td>\n      <td>1</td>\n    </tr>\n    <tr>\n      <td>41</td>\n      <td>41</td>\n      <td>KAFW</td>\n      <td>KLAX</td>\n      <td>1</td>\n    </tr>\n    <tr>\n      <td>42</td>\n      <td>42</td>\n      <td>KAGS</td>\n      <td>KATL</td>\n      <td>1</td>\n    </tr>\n    <tr>\n      <td>43</td>\n      <td>43</td>\n      <td>KAPF</td>\n      <td>KMIA</td>\n      <td>1</td>\n    </tr>\n    <tr>\n      <td>44</td>\n      <td>44</td>\n      <td>KAST</td>\n      <td>KPDX</td>\n      <td>2</td>\n    </tr>\n    <tr>\n      <td>45</td>\n      <td>45</td>\n      <td>KATL</td>\n      <td>KIAH</td>\n      <td>4</td>\n    </tr>\n    <tr>\n      <td>46</td>\n      <td>46</td>\n      <td>KATL</td>\n      <td>KLAX</td>\n      <td>3</td>\n    </tr>\n    <tr>\n      <td>47</td>\n      <td>47</td>\n      <td>KATL</td>\n      <td>KMIA</td>\n      <td>4</td>\n    </tr>\n    <tr>\n      <td>48</td>\n      <td>48</td>\n      <td>KATL</td>\n      <td>KPDX</td>\n      <td>1</td>\n    </tr>\n    <tr>\n      <td>49</td>\n      <td>49</td>\n      <td>KAUS</td>\n      <td>KIAH</td>\n      <td>2</td>\n    </tr>\n    <tr>\n      <td>50</td>\n      <td>50</td>\n      <td>KBFI</td>\n      <td>KPDX</td>\n      <td>2</td>\n    </tr>\n    <tr>\n      <td>51</td>\n      <td>51</td>\n      <td>KBIH</td>\n      <td>KPDX</td>\n      <td>1</td>\n    </tr>\n    <tr>\n      <td>52</td>\n      <td>52</td>\n      <td>KBKV</td>\n      <td>KMIA</td>\n      <td>1</td>\n    </tr>\n    <tr>\n      <td>53</td>\n      <td>53</td>\n      <td>KBOI</td>\n      <td>KPDX</td>\n      <td>1</td>\n    </tr>\n    <tr>\n      <td>54</td>\n      <td>54</td>\n      <td>KBOS</td>\n      <td>KMIA</td>\n      <td>1</td>\n    </tr>\n    <tr>\n      <td>55</td>\n      <td>55</td>\n      <td>KBUR</td>\n      <td>KPDX</td>\n      <td>1</td>\n    </tr>\n    <tr>\n      <td>56</td>\n      <td>56</td>\n      <td>KBWI</td>\n      <td>KPDX</td>\n      <td>1</td>\n    </tr>\n    <tr>\n      <td>57</td>\n      <td>57</td>\n      <td>KCVG</td>\n      <td>KPDX</td>\n      <td>1</td>\n    </tr>\n    <tr>\n      <td>58</td>\n      <td>58</td>\n      <td>KCVO</td>\n      <td>KPDX</td>\n      <td>2</td>\n    </tr>\n    <tr>\n      <td>59</td>\n      <td>59</td>\n      <td>KDEN</td>\n      <td>KPDX</td>\n      <td>3</td>\n    </tr>\n  </tbody>\n</table>\n</div>",
      "text/plain": "    Unnamed: 0 origin destination  0\n0            0   CYHM        KJFK  1\n1            1   CYUL        KORD  1\n2            2   CYVR        KLAX  1\n3            3   CYYZ        KIAH  2\n4            4   CYYZ        KJFK  1\n5            5   CYYZ        KLAX  1\n6            6   CYYZ        KORD  4\n7            7   EBBR        KMIA  2\n8            8   EBBR        KORD  1\n9            9   EBLG        KATL  1\n10          10   EBLG        KJFK  2\n11          11   EBLG        KORD  1\n12          12   EDDF        KATL  4\n13          13   EDDF        KIAH  1\n14          14   EDDF        KJFK  2\n15          15   EDDF        KLAX  1\n16          16   EDDF        KORD  7\n17          17   EDDN        KMIA  1\n18          18   EDDP        KJFK  1\n19          19   EGLL        KATL  1\n20          20   EGLL        KJFK  6\n21          21   EGLL        KLAX  4\n22          22   EGLL        KMIA  2\n23          23   EGLL        KORD  1\n24          24   EHAM        KATL  2\n25          25   EHAM        KJFK  1\n26          26   EHAM        KLAX  1\n27          27   EHAM        KMIA  1\n28          28   EHBK        KATL  2\n29          29   EIDW        KJFK  1\n30          30   ELLX        KATL  1\n31          31   ELLX        KIAH  1\n32          32   ELLX        KLAX  1\n33          33   ELLX        KMIA  1\n34          34   KABQ        KIAH  2\n35          35   KABQ        KLAX  2\n36          36   KABY        KATL  1\n37          37   KAEX        KATL  2\n38          38   KAEX        KIAH  2\n39          39   KAEX        KMIA  1\n40          40   KAFW        KIAH  1\n41          41   KAFW        KLAX  1\n42          42   KAGS        KATL  1\n43          43   KAPF        KMIA  1\n44          44   KAST        KPDX  2\n45          45   KATL        KIAH  4\n46          46   KATL        KLAX  3\n47          47   KATL        KMIA  4\n48          48   KATL        KPDX  1\n49          49   KAUS        KIAH  2\n50          50   KBFI        KPDX  2\n51          51   KBIH        KPDX  1\n52          52   KBKV        KMIA  1\n53          53   KBOI        KPDX  1\n54          54   KBOS        KMIA  1\n55          55   KBUR        KPDX  1\n56          56   KBWI        KPDX  1\n57          57   KCVG        KPDX  1\n58          58   KCVO        KPDX  2\n59          59   KDEN        KPDX  3"
     },
     "execution_count": 82,
     "metadata": {},
     "output_type": "execute_result"
    }
   ],
   "source": [
    "flight_combinations = pd.read_csv('../data/flight_combinations.csv')\n",
    "flight_combinations"
   ]
  },
  {
   "cell_type": "code",
   "execution_count": null,
   "metadata": {},
   "outputs": [],
   "source": [
    "flight_combinations['origin'].unique()"
   ]
  },
  {
   "cell_type": "code",
   "execution_count": 49,
   "metadata": {},
   "outputs": [
    {
     "data": {
      "text/plain": "33"
     },
     "execution_count": 49,
     "metadata": {},
     "output_type": "execute_result"
    }
   ],
   "source": [
    "len(flight_combinations['origin'].unique())"
   ]
  },
  {
   "cell_type": "code",
   "execution_count": 48,
   "metadata": {},
   "outputs": [
    {
     "data": {
      "text/plain": "array(['KJFK', 'KORD', 'KLAX', 'KIAH', 'KMIA', 'KATL', 'KPDX'],\n      dtype=object)"
     },
     "execution_count": 48,
     "metadata": {},
     "output_type": "execute_result"
    }
   ],
   "source": [
    "flight_combinations['destination'].unique()"
   ]
  },
  {
   "cell_type": "markdown",
   "metadata": {},
   "source": [
    "Will have to programmatically find a way to create a bunch if IATA codes out of the ICAO codes shown here. There are only 33 unique origins and 7 unique destinations making a total of 40 different airports studied. In total, we have 59 combinations studied. "
   ]
  },
  {
   "cell_type": "code",
   "execution_count": 51,
   "metadata": {},
   "outputs": [],
   "source": [
    "origin_IATA_dict = {k:[] for k in flight_combinations['origin'].unique()}"
   ]
  },
  {
   "cell_type": "code",
   "execution_count": 65,
   "metadata": {},
   "outputs": [],
   "source": [
    "destination_IATA_dict = {k:[] for k in flight_combinations['destination'].unique()}"
   ]
  },
  {
   "cell_type": "code",
   "execution_count": 66,
   "metadata": {},
   "outputs": [
    {
     "data": {
      "text/plain": "{'KJFK': [],\n 'KORD': [],\n 'KLAX': [],\n 'KIAH': [],\n 'KMIA': [],\n 'KATL': [],\n 'KPDX': []}"
     },
     "execution_count": 66,
     "metadata": {},
     "output_type": "execute_result"
    }
   ],
   "source": [
    "destination_IATA_dict"
   ]
  },
  {
   "cell_type": "code",
   "execution_count": 56,
   "metadata": {},
   "outputs": [],
   "source": [
    "origin_IATA_list = ['YHM', 'YUL', 'YVR', 'YYZ', 'BRU', 'LGG', 'FRA', 'NUE', 'LEJ', 'LHR', 'AMS', 'MST', 'DUB', 'LUX', 'ABQ', 'ABY', 'AEX', 'AFW', 'AGS', 'APF', 'AST', 'ATL', 'AUS', 'BFI', 'BIH', 'BKV', 'BOI', 'BOS', 'BUR', 'BWI', 'CVG', 'CVO', 'DEN']"
   ]
  },
  {
   "cell_type": "code",
   "execution_count": 67,
   "metadata": {},
   "outputs": [],
   "source": [
    "destination_IATA_list = ['JFK', 'ORD', 'LAX', 'IAH', 'MIA', 'ATL', 'PDX']"
   ]
  },
  {
   "cell_type": "code",
   "execution_count": 63,
   "metadata": {},
   "outputs": [],
   "source": [
    "for k,v in enumerate(origin_IATA_dict):\n",
    "    origin_IATA_dict[v].append(origin_IATA_list[k])"
   ]
  },
  {
   "cell_type": "code",
   "execution_count": 69,
   "metadata": {},
   "outputs": [],
   "source": [
    "for k,v in enumerate(destination_IATA_dict):\n",
    "    destination_IATA_dict[v].append(destination_IATA_list[k])"
   ]
  },
  {
   "cell_type": "code",
   "execution_count": 44,
   "metadata": {},
   "outputs": [
    {
     "data": {
      "text/html": "<div>\n<style scoped>\n    .dataframe tbody tr th:only-of-type {\n        vertical-align: middle;\n    }\n\n    .dataframe tbody tr th {\n        vertical-align: top;\n    }\n\n    .dataframe thead th {\n        text-align: right;\n    }\n</style>\n<table border=\"1\" class=\"dataframe\">\n  <thead>\n    <tr style=\"text-align: right;\">\n      <th></th>\n      <th>Unnamed: 0</th>\n      <th>ident</th>\n      <th>actual_ident</th>\n      <th>departuretime</th>\n      <th>arrival_time</th>\n      <th>origin</th>\n      <th>destination</th>\n      <th>aircrafttype</th>\n      <th>meal_service</th>\n      <th>seats_cabin_first</th>\n      <th>seats_cabin_business</th>\n      <th>seats_cabin_coach</th>\n    </tr>\n  </thead>\n  <tbody>\n    <tr>\n      <td>0</td>\n      <td>0</td>\n      <td>UAL4282</td>\n      <td>ASQ4282</td>\n      <td>1588330800</td>\n      <td>1588340820</td>\n      <td>CYUL</td>\n      <td>KORD</td>\n      <td>E75L</td>\n      <td>Business: Refreshments / Economy: Food for sale</td>\n      <td>0</td>\n      <td>12</td>\n      <td>58</td>\n    </tr>\n    <tr>\n      <td>1</td>\n      <td>1</td>\n      <td>ACA7591</td>\n      <td>AC27591</td>\n      <td>1588335000</td>\n      <td>1588343880</td>\n      <td>CYUL</td>\n      <td>KORD</td>\n      <td>E75L</td>\n      <td>Business: Breakfast / Economy: Breakfast, Food...</td>\n      <td>0</td>\n      <td>12</td>\n      <td>64</td>\n    </tr>\n    <tr>\n      <td>2</td>\n      <td>2</td>\n      <td>UAL8371</td>\n      <td>AC27591</td>\n      <td>1588335000</td>\n      <td>1588343880</td>\n      <td>CYUL</td>\n      <td>KORD</td>\n      <td>E75L</td>\n      <td>Business: Breakfast / Economy: Food for sale</td>\n      <td>0</td>\n      <td>12</td>\n      <td>64</td>\n    </tr>\n    <tr>\n      <td>3</td>\n      <td>3</td>\n      <td>UAL4245</td>\n      <td>ASQ4245</td>\n      <td>1588341060</td>\n      <td>1588351080</td>\n      <td>CYUL</td>\n      <td>KORD</td>\n      <td>E75L</td>\n      <td>Business: Refreshments / Economy: Food for sale</td>\n      <td>0</td>\n      <td>12</td>\n      <td>58</td>\n    </tr>\n    <tr>\n      <td>4</td>\n      <td>4</td>\n      <td>UAL8481</td>\n      <td>AC27595</td>\n      <td>1588353300</td>\n      <td>1588362000</td>\n      <td>CYUL</td>\n      <td>KORD</td>\n      <td>E75L</td>\n      <td>Business: Meal / Economy: Food for sale</td>\n      <td>0</td>\n      <td>12</td>\n      <td>64</td>\n    </tr>\n    <tr>\n      <td>...</td>\n      <td>...</td>\n      <td>...</td>\n      <td>...</td>\n      <td>...</td>\n      <td>...</td>\n      <td>...</td>\n      <td>...</td>\n      <td>...</td>\n      <td>...</td>\n      <td>...</td>\n      <td>...</td>\n      <td>...</td>\n    </tr>\n    <tr>\n      <td>5818</td>\n      <td>5818</td>\n      <td>UAL464</td>\n      <td>NaN</td>\n      <td>1590514200</td>\n      <td>1590523860</td>\n      <td>KDEN</td>\n      <td>KPDX</td>\n      <td>A319</td>\n      <td>Business: Snack or brunch / Economy: No meal</td>\n      <td>0</td>\n      <td>12</td>\n      <td>114</td>\n    </tr>\n    <tr>\n      <td>5819</td>\n      <td>5819</td>\n      <td>SWA378</td>\n      <td>NaN</td>\n      <td>1590520500</td>\n      <td>1590529500</td>\n      <td>KDEN</td>\n      <td>KPDX</td>\n      <td>B738</td>\n      <td>Economy: No meal</td>\n      <td>0</td>\n      <td>0</td>\n      <td>175</td>\n    </tr>\n    <tr>\n      <td>5820</td>\n      <td>5820</td>\n      <td>DLH9070</td>\n      <td>UAL393</td>\n      <td>1590539460</td>\n      <td>1590549120</td>\n      <td>KDEN</td>\n      <td>KPDX</td>\n      <td>A319</td>\n      <td>Business: Snack or brunch / Economy: No meal</td>\n      <td>0</td>\n      <td>12</td>\n      <td>114</td>\n    </tr>\n    <tr>\n      <td>5821</td>\n      <td>5821</td>\n      <td>UAL393</td>\n      <td>NaN</td>\n      <td>1590539460</td>\n      <td>1590549120</td>\n      <td>KDEN</td>\n      <td>KPDX</td>\n      <td>A319</td>\n      <td>Business: Snack or brunch / Economy: No meal</td>\n      <td>0</td>\n      <td>12</td>\n      <td>114</td>\n    </tr>\n    <tr>\n      <td>5822</td>\n      <td>5822</td>\n      <td>SWA993</td>\n      <td>NaN</td>\n      <td>1590544800</td>\n      <td>1590554400</td>\n      <td>KDEN</td>\n      <td>KPDX</td>\n      <td>B738</td>\n      <td>Economy: No meal</td>\n      <td>0</td>\n      <td>0</td>\n      <td>175</td>\n    </tr>\n  </tbody>\n</table>\n<p>5823 rows × 12 columns</p>\n</div>",
      "text/plain": "      Unnamed: 0    ident actual_ident  departuretime  arrival_time origin  \\\n0              0  UAL4282      ASQ4282     1588330800    1588340820   CYUL   \n1              1  ACA7591      AC27591     1588335000    1588343880   CYUL   \n2              2  UAL8371      AC27591     1588335000    1588343880   CYUL   \n3              3  UAL4245      ASQ4245     1588341060    1588351080   CYUL   \n4              4  UAL8481      AC27595     1588353300    1588362000   CYUL   \n...          ...      ...          ...            ...           ...    ...   \n5818        5818   UAL464          NaN     1590514200    1590523860   KDEN   \n5819        5819   SWA378          NaN     1590520500    1590529500   KDEN   \n5820        5820  DLH9070       UAL393     1590539460    1590549120   KDEN   \n5821        5821   UAL393          NaN     1590539460    1590549120   KDEN   \n5822        5822   SWA993          NaN     1590544800    1590554400   KDEN   \n\n     destination aircrafttype  \\\n0           KORD         E75L   \n1           KORD         E75L   \n2           KORD         E75L   \n3           KORD         E75L   \n4           KORD         E75L   \n...          ...          ...   \n5818        KPDX         A319   \n5819        KPDX         B738   \n5820        KPDX         A319   \n5821        KPDX         A319   \n5822        KPDX         B738   \n\n                                           meal_service  seats_cabin_first  \\\n0       Business: Refreshments / Economy: Food for sale                  0   \n1     Business: Breakfast / Economy: Breakfast, Food...                  0   \n2          Business: Breakfast / Economy: Food for sale                  0   \n3       Business: Refreshments / Economy: Food for sale                  0   \n4               Business: Meal / Economy: Food for sale                  0   \n...                                                 ...                ...   \n5818       Business: Snack or brunch / Economy: No meal                  0   \n5819                                   Economy: No meal                  0   \n5820       Business: Snack or brunch / Economy: No meal                  0   \n5821       Business: Snack or brunch / Economy: No meal                  0   \n5822                                   Economy: No meal                  0   \n\n      seats_cabin_business  seats_cabin_coach  \n0                       12                 58  \n1                       12                 64  \n2                       12                 64  \n3                       12                 58  \n4                       12                 64  \n...                    ...                ...  \n5818                    12                114  \n5819                     0                175  \n5820                    12                114  \n5821                    12                114  \n5822                     0                175  \n\n[5823 rows x 12 columns]"
     },
     "execution_count": 44,
     "metadata": {},
     "output_type": "execute_result"
    }
   ],
   "source": [
    "flight_schedules = pd.read_csv('../data/flight_schedules.csv')\n",
    "flight_schedules"
   ]
  },
  {
   "cell_type": "markdown",
   "metadata": {},
   "source": [
    "### "
   ]
  },
  {
   "cell_type": "code",
   "execution_count": 86,
   "metadata": {},
   "outputs": [
    {
     "data": {
      "text/plain": "{'CYHM': ['YHM'],\n 'CYUL': ['YUL'],\n 'CYVR': ['YVR'],\n 'CYYZ': ['YYZ'],\n 'EBBR': ['BRU'],\n 'EBLG': ['LGG'],\n 'EDDF': ['FRA'],\n 'EDDN': ['NUE'],\n 'EDDP': ['LEJ'],\n 'EGLL': ['LHR'],\n 'EHAM': ['AMS'],\n 'EHBK': ['MST'],\n 'EIDW': ['DUB'],\n 'ELLX': ['LUX'],\n 'KABQ': ['ABQ'],\n 'KABY': ['ABY'],\n 'KAEX': ['AEX'],\n 'KAFW': ['AFW'],\n 'KAGS': ['AGS'],\n 'KAPF': ['APF'],\n 'KAST': ['AST'],\n 'KATL': ['ATL'],\n 'KAUS': ['AUS'],\n 'KBFI': ['BFI'],\n 'KBIH': ['BIH'],\n 'KBKV': ['BKV'],\n 'KBOI': ['BOI'],\n 'KBOS': ['BOS'],\n 'KBUR': ['BUR'],\n 'KBWI': ['BWI'],\n 'KCVG': ['CVG'],\n 'KCVO': ['CVO'],\n 'KDEN': ['DEN']}"
     },
     "execution_count": 86,
     "metadata": {},
     "output_type": "execute_result"
    }
   ],
   "source": [
    "origin_IATA_dict"
   ]
  },
  {
   "cell_type": "code",
   "execution_count": null,
   "metadata": {},
   "outputs": [],
   "source": []
  },
  {
   "cell_type": "markdown",
   "metadata": {},
   "source": [
    "# API playground"
   ]
  },
  {
   "cell_type": "code",
   "execution_count": 3,
   "metadata": {},
   "outputs": [
    {
     "data": {
      "text/plain": "dict_keys(['FA_API_KEY', 'FA_USERNAME', 'x-rapidapi-host', 'x-rapidapi-key'])"
     },
     "execution_count": 3,
     "metadata": {},
     "output_type": "execute_result"
    }
   ],
   "source": [
    "information.keys()"
   ]
  },
  {
   "cell_type": "markdown",
   "metadata": {},
   "source": [
    "## Gets a Place"
   ]
  },
  {
   "cell_type": "code",
   "execution_count": 5,
   "metadata": {},
   "outputs": [],
   "source": [
    "host_name = information.get('x-rapidapi-host')\n",
    "apiKey = information.get('x-rapidapi-key')"
   ]
  },
  {
   "cell_type": "code",
   "execution_count": 22,
   "metadata": {},
   "outputs": [
    {
     "name": "stdout",
     "output_type": "stream",
     "text": "{\"Places\":[{\"PlaceId\":\"STOC-sky\",\"PlaceName\":\"Stockholm\",\"CountryId\":\"SE-sky\",\"RegionId\":\"\",\"CityId\":\"STOC-sky\",\"CountryName\":\"Sweden\"},{\"PlaceId\":\"ARN-sky\",\"PlaceName\":\"Stockholm Arlanda\",\"CountryId\":\"SE-sky\",\"RegionId\":\"\",\"CityId\":\"STOC-sky\",\"CountryName\":\"Sweden\"},{\"PlaceId\":\"NYO-sky\",\"PlaceName\":\"Stockholm Skavsta\",\"CountryId\":\"SE-sky\",\"RegionId\":\"\",\"CityId\":\"STOC-sky\",\"CountryName\":\"Sweden\"},{\"PlaceId\":\"BMA-sky\",\"PlaceName\":\"Stockholm Bromma\",\"CountryId\":\"SE-sky\",\"RegionId\":\"\",\"CityId\":\"STOC-sky\",\"CountryName\":\"Sweden\"},{\"PlaceId\":\"VST-sky\",\"PlaceName\":\"Stockholm Vasteras\",\"CountryId\":\"SE-sky\",\"RegionId\":\"\",\"CityId\":\"STOC-sky\",\"CountryName\":\"Sweden\"}]}\n"
    }
   ],
   "source": [
    "url = \"https://skyscanner-skyscanner-flight-search-v1.p.rapidapi.com/apiservices/autosuggest/v1.0/UK/GBP/en-GB/\"\n",
    "\n",
    "querystring = {\"query\":\"Stockholm\"}\n",
    "\n",
    "headers = {\n",
    "    'x-rapidapi-host': host_name,\n",
    "    'x-rapidapi-key': apiKey\n",
    "}\n",
    "\n",
    "response = requests.get(url = url, headers=headers, params=querystring)\n",
    "\n",
    "print(response.text)"
   ]
  },
  {
   "cell_type": "code",
   "execution_count": 33,
   "metadata": {},
   "outputs": [],
   "source": [
    "json_response = response.json()"
   ]
  },
  {
   "cell_type": "code",
   "execution_count": 34,
   "metadata": {},
   "outputs": [
    {
     "data": {
      "text/plain": "{'Places': [{'PlaceId': 'STOC-sky',\n   'PlaceName': 'Stockholm',\n   'CountryId': 'SE-sky',\n   'RegionId': '',\n   'CityId': 'STOC-sky',\n   'CountryName': 'Sweden'},\n  {'PlaceId': 'ARN-sky',\n   'PlaceName': 'Stockholm Arlanda',\n   'CountryId': 'SE-sky',\n   'RegionId': '',\n   'CityId': 'STOC-sky',\n   'CountryName': 'Sweden'},\n  {'PlaceId': 'NYO-sky',\n   'PlaceName': 'Stockholm Skavsta',\n   'CountryId': 'SE-sky',\n   'RegionId': '',\n   'CityId': 'STOC-sky',\n   'CountryName': 'Sweden'},\n  {'PlaceId': 'BMA-sky',\n   'PlaceName': 'Stockholm Bromma',\n   'CountryId': 'SE-sky',\n   'RegionId': '',\n   'CityId': 'STOC-sky',\n   'CountryName': 'Sweden'},\n  {'PlaceId': 'VST-sky',\n   'PlaceName': 'Stockholm Vasteras',\n   'CountryId': 'SE-sky',\n   'RegionId': '',\n   'CityId': 'STOC-sky',\n   'CountryName': 'Sweden'}]}"
     },
     "execution_count": 34,
     "metadata": {},
     "output_type": "execute_result"
    }
   ],
   "source": [
    "json_response"
   ]
  },
  {
   "cell_type": "markdown",
   "metadata": {},
   "source": [
    "## Gets another place"
   ]
  },
  {
   "cell_type": "code",
   "execution_count": 71,
   "metadata": {},
   "outputs": [
    {
     "name": "stdout",
     "output_type": "stream",
     "text": "{\"Places\":[{\"PlaceId\":\"ATLA-sky\",\"PlaceName\":\"Atlanta\",\"CountryId\":\"US-sky\",\"RegionId\":\"GA\",\"CityId\":\"ATLA-sky\",\"CountryName\":\"United States\"},{\"PlaceId\":\"ATL-sky\",\"PlaceName\":\"Atlanta Hartsfield-Jackson\",\"CountryId\":\"US-sky\",\"RegionId\":\"GA\",\"CityId\":\"ATLA-sky\",\"CountryName\":\"United States\"},{\"PlaceId\":\"PDK-sky\",\"PlaceName\":\"Atlanta De Kalb / Peachtree\",\"CountryId\":\"US-sky\",\"RegionId\":\"GA\",\"CityId\":\"ATLA-sky\",\"CountryName\":\"United States\"},{\"PlaceId\":\"FTY-sky\",\"PlaceName\":\"Atlanta Fulton County\",\"CountryId\":\"US-sky\",\"RegionId\":\"GA\",\"CityId\":\"ATLA-sky\",\"CountryName\":\"United States\"},{\"PlaceId\":\"AIYA-sky\",\"PlaceName\":\"Atlantic City\",\"CountryId\":\"US-sky\",\"RegionId\":\"NJ\",\"CityId\":\"AIYA-sky\",\"CountryName\":\"United States\"},{\"PlaceId\":\"ACY-sky\",\"PlaceName\":\"Atlantic City International\",\"CountryId\":\"US-sky\",\"RegionId\":\"NJ\",\"CityId\":\"AIYA-sky\",\"CountryName\":\"United States\"},{\"PlaceId\":\"AIY-sky\",\"PlaceName\":\"Atlantic City Bader Field\",\"CountryId\":\"US-sky\",\"RegionId\":\"NJ\",\"CityId\":\"AIYA-sky\",\"CountryName\":\"United States\"},{\"PlaceId\":\"BAQ-sky\",\"PlaceName\":\"Barranquilla\",\"CountryId\":\"CO-sky\",\"RegionId\":\"\",\"CityId\":\"BAQA-sky\",\"CountryName\":\"Colombia\"},{\"PlaceId\":\"NTE-sky\",\"PlaceName\":\"Nantes\",\"CountryId\":\"FR-sky\",\"RegionId\":\"\",\"CityId\":\"NANT-sky\",\"CountryName\":\"France\"},{\"PlaceId\":\"BIQ-sky\",\"PlaceName\":\"Biarritz\",\"CountryId\":\"FR-sky\",\"RegionId\":\"\",\"CityId\":\"BIAR-sky\",\"CountryName\":\"France\"}]}\n"
    }
   ],
   "source": [
    "url = \"https://skyscanner-skyscanner-flight-search-v1.p.rapidapi.com/apiservices/autosuggest/v1.0/US/USD/en-GB/\"\n",
    "\n",
    "querystring = {\"query\":\"Atlanta\"}\n",
    "\n",
    "headers = {\n",
    "    'x-rapidapi-host': \"skyscanner-skyscanner-flight-search-v1.p.rapidapi.com\",\n",
    "    'x-rapidapi-key': \"a8245b0671mshf12c97feac9239bp156475jsn1da02f7c5cb5\"\n",
    "    }\n",
    "\n",
    "response = requests.request(\"GET\", url, headers=headers, params=querystring)\n",
    "\n"
   ]
  },
  {
   "cell_type": "code",
   "execution_count": 72,
   "metadata": {},
   "outputs": [],
   "source": [
    "response_json = response.json()"
   ]
  },
  {
   "cell_type": "code",
   "execution_count": 73,
   "metadata": {},
   "outputs": [
    {
     "data": {
      "text/plain": "{'Places': [{'PlaceId': 'ATLA-sky',\n   'PlaceName': 'Atlanta',\n   'CountryId': 'US-sky',\n   'RegionId': 'GA',\n   'CityId': 'ATLA-sky',\n   'CountryName': 'United States'},\n  {'PlaceId': 'ATL-sky',\n   'PlaceName': 'Atlanta Hartsfield-Jackson',\n   'CountryId': 'US-sky',\n   'RegionId': 'GA',\n   'CityId': 'ATLA-sky',\n   'CountryName': 'United States'},\n  {'PlaceId': 'PDK-sky',\n   'PlaceName': 'Atlanta De Kalb / Peachtree',\n   'CountryId': 'US-sky',\n   'RegionId': 'GA',\n   'CityId': 'ATLA-sky',\n   'CountryName': 'United States'},\n  {'PlaceId': 'FTY-sky',\n   'PlaceName': 'Atlanta Fulton County',\n   'CountryId': 'US-sky',\n   'RegionId': 'GA',\n   'CityId': 'ATLA-sky',\n   'CountryName': 'United States'},\n  {'PlaceId': 'AIYA-sky',\n   'PlaceName': 'Atlantic City',\n   'CountryId': 'US-sky',\n   'RegionId': 'NJ',\n   'CityId': 'AIYA-sky',\n   'CountryName': 'United States'},\n  {'PlaceId': 'ACY-sky',\n   'PlaceName': 'Atlantic City International',\n   'CountryId': 'US-sky',\n   'RegionId': 'NJ',\n   'CityId': 'AIYA-sky',\n   'CountryName': 'United States'},\n  {'PlaceId': 'AIY-sky',\n   'PlaceName': 'Atlantic City Bader Field',\n   'CountryId': 'US-sky',\n   'RegionId': 'NJ',\n   'CityId': 'AIYA-sky',\n   'CountryName': 'United States'},\n  {'PlaceId': 'BAQ-sky',\n   'PlaceName': 'Barranquilla',\n   'CountryId': 'CO-sky',\n   'RegionId': '',\n   'CityId': 'BAQA-sky',\n   'CountryName': 'Colombia'},\n  {'PlaceId': 'NTE-sky',\n   'PlaceName': 'Nantes',\n   'CountryId': 'FR-sky',\n   'RegionId': '',\n   'CityId': 'NANT-sky',\n   'CountryName': 'France'},\n  {'PlaceId': 'BIQ-sky',\n   'PlaceName': 'Biarritz',\n   'CountryId': 'FR-sky',\n   'RegionId': '',\n   'CityId': 'BIAR-sky',\n   'CountryName': 'France'}]}"
     },
     "execution_count": 73,
     "metadata": {},
     "output_type": "execute_result"
    }
   ],
   "source": [
    "response_json"
   ]
  },
  {
   "cell_type": "code",
   "execution_count": 74,
   "metadata": {},
   "outputs": [
    {
     "name": "stdout",
     "output_type": "stream",
     "text": "{\"Countries\":[{\"Code\":\"AD\",\"Name\":\"Andorra\"},{\"Code\":\"AE\",\"Name\":\"United Arab Emirates\"},{\"Code\":\"AF\",\"Name\":\"Afghanistan\"},{\"Code\":\"AG\",\"Name\":\"Antigua and Barbuda\"},{\"Code\":\"AI\",\"Name\":\"Anguilla\"},{\"Code\":\"AL\",\"Name\":\"Albania\"},{\"Code\":\"AM\",\"Name\":\"Armenia\"},{\"Code\":\"AO\",\"Name\":\"Angola\"},{\"Code\":\"AQ\",\"Name\":\"Antarctica\"},{\"Code\":\"AR\",\"Name\":\"Argentina\"},{\"Code\":\"AS\",\"Name\":\"American Samoa\"},{\"Code\":\"AT\",\"Name\":\"Austria\"},{\"Code\":\"AU\",\"Name\":\"Australia\"},{\"Code\":\"AW\",\"Name\":\"Aruba\"},{\"Code\":\"AZ\",\"Name\":\"Azerbaijan\"},{\"Code\":\"BA\",\"Name\":\"Bosnia and Herzegovina\"},{\"Code\":\"BB\",\"Name\":\"Barbados\"},{\"Code\":\"BD\",\"Name\":\"Bangladesh\"},{\"Code\":\"BE\",\"Name\":\"Belgium\"},{\"Code\":\"BF\",\"Name\":\"Burkina Faso\"},{\"Code\":\"BG\",\"Name\":\"Bulgaria\"},{\"Code\":\"BH\",\"Name\":\"Bahrain\"},{\"Code\":\"BI\",\"Name\":\"Burundi\"},{\"Code\":\"BJ\",\"Name\":\"Benin\"},{\"Code\":\"BL\",\"Name\":\"Saint Barthelemy\"},{\"Code\":\"BM\",\"Name\":\"Bermuda\"},{\"Code\":\"BN\",\"Name\":\"Brunei\"},{\"Code\":\"BO\",\"Name\":\"Bolivia\"},{\"Code\":\"BQ\",\"Name\":\"Caribbean Netherlands\"},{\"Code\":\"BR\",\"Name\":\"Brazil\"},{\"Code\":\"BS\",\"Name\":\"Bahamas\"},{\"Code\":\"BT\",\"Name\":\"Bhutan\"},{\"Code\":\"BW\",\"Name\":\"Botswana\"},{\"Code\":\"BY\",\"Name\":\"Belarus\"},{\"Code\":\"BZ\",\"Name\":\"Belize\"},{\"Code\":\"CA\",\"Name\":\"Canada\"},{\"Code\":\"CC\",\"Name\":\"Cocos (Keeling) Islands\"},{\"Code\":\"CD\",\"Name\":\"DR Congo\"},{\"Code\":\"CF\",\"Name\":\"Central African Republic\"},{\"Code\":\"CG\",\"Name\":\"Congo\"},{\"Code\":\"CH\",\"Name\":\"Switzerland\"},{\"Code\":\"CI\",\"Name\":\"Ivory Coast\"},{\"Code\":\"CK\",\"Name\":\"Cook Islands\"},{\"Code\":\"CL\",\"Name\":\"Chile\"},{\"Code\":\"CM\",\"Name\":\"Cameroon\"},{\"Code\":\"CN\",\"Name\":\"China\"},{\"Code\":\"CO\",\"Name\":\"Colombia\"},{\"Code\":\"CR\",\"Name\":\"Costa Rica\"},{\"Code\":\"CU\",\"Name\":\"Cuba\"},{\"Code\":\"CV\",\"Name\":\"Cape Verde\"},{\"Code\":\"CW\",\"Name\":\"Curacao\"},{\"Code\":\"CX\",\"Name\":\"Christmas Island\"},{\"Code\":\"CY\",\"Name\":\"Cyprus\"},{\"Code\":\"CZ\",\"Name\":\"Czech Republic\"},{\"Code\":\"DE\",\"Name\":\"Germany\"},{\"Code\":\"DJ\",\"Name\":\"Djibouti\"},{\"Code\":\"DK\",\"Name\":\"Denmark\"},{\"Code\":\"DM\",\"Name\":\"Dominica\"},{\"Code\":\"DO\",\"Name\":\"Dominican Republic\"},{\"Code\":\"DZ\",\"Name\":\"Algeria\"},{\"Code\":\"EC\",\"Name\":\"Ecuador\"},{\"Code\":\"EE\",\"Name\":\"Estonia\"},{\"Code\":\"EG\",\"Name\":\"Egypt\"},{\"Code\":\"ER\",\"Name\":\"Eritrea\"},{\"Code\":\"ES\",\"Name\":\"Spain\"},{\"Code\":\"ET\",\"Name\":\"Ethiopia\"},{\"Code\":\"FI\",\"Name\":\"Finland\"},{\"Code\":\"FJ\",\"Name\":\"Fiji\"},{\"Code\":\"FK\",\"Name\":\"Falkland Islands\"},{\"Code\":\"FM\",\"Name\":\"Micronesia\"},{\"Code\":\"FO\",\"Name\":\"Faroe Islands\"},{\"Code\":\"FR\",\"Name\":\"France\"},{\"Code\":\"GA\",\"Name\":\"Gabon\"},{\"Code\":\"GD\",\"Name\":\"Grenada\"},{\"Code\":\"GE\",\"Name\":\"Georgia\"},{\"Code\":\"GF\",\"Name\":\"French Guiana\"},{\"Code\":\"GG\",\"Name\":\"Guernsey\"},{\"Code\":\"GH\",\"Name\":\"Ghana\"},{\"Code\":\"GI\",\"Name\":\"Gibraltar\"},{\"Code\":\"GL\",\"Name\":\"Greenland\"},{\"Code\":\"GM\",\"Name\":\"Gambia\"},{\"Code\":\"GN\",\"Name\":\"Guinea\"},{\"Code\":\"GP\",\"Name\":\"Guadeloupe\"},{\"Code\":\"GQ\",\"Name\":\"Equatorial Guinea\"},{\"Code\":\"GR\",\"Name\":\"Greece\"},{\"Code\":\"GS\",\"Name\":\"South Georgia & South Sandwich Islands\"},{\"Code\":\"GT\",\"Name\":\"Guatemala\"},{\"Code\":\"GU\",\"Name\":\"Guam\"},{\"Code\":\"GW\",\"Name\":\"Guinea-Bissau\"},{\"Code\":\"GY\",\"Name\":\"Guyana\"},{\"Code\":\"HK\",\"Name\":\"Hong Kong\"},{\"Code\":\"HN\",\"Name\":\"Honduras\"},{\"Code\":\"HR\",\"Name\":\"Croatia\"},{\"Code\":\"HT\",\"Name\":\"Haiti\"},{\"Code\":\"HU\",\"Name\":\"Hungary\"},{\"Code\":\"ID\",\"Name\":\"Indonesia\"},{\"Code\":\"IE\",\"Name\":\"Ireland\"},{\"Code\":\"IL\",\"Name\":\"Israel\"},{\"Code\":\"IN\",\"Name\":\"India\"},{\"Code\":\"IQ\",\"Name\":\"Iraq\"},{\"Code\":\"IR\",\"Name\":\"Iran\"},{\"Code\":\"IS\",\"Name\":\"Iceland\"},{\"Code\":\"IT\",\"Name\":\"Italy\"},{\"Code\":\"JM\",\"Name\":\"Jamaica\"},{\"Code\":\"JO\",\"Name\":\"Jordan\"},{\"Code\":\"JP\",\"Name\":\"Japan\"},{\"Code\":\"KE\",\"Name\":\"Kenya\"},{\"Code\":\"KG\",\"Name\":\"Kyrgyzstan\"},{\"Code\":\"KH\",\"Name\":\"Cambodia\"},{\"Code\":\"KI\",\"Name\":\"Kiribati\"},{\"Code\":\"KM\",\"Name\":\"Comoros\"},{\"Code\":\"KN\",\"Name\":\"Saint Kitts and Nevis\"},{\"Code\":\"KO\",\"Name\":\"Kosovo\"},{\"Code\":\"KP\",\"Name\":\"North Korea\"},{\"Code\":\"KR\",\"Name\":\"South Korea\"},{\"Code\":\"KW\",\"Name\":\"Kuwait\"},{\"Code\":\"KY\",\"Name\":\"Cayman Islands\"},{\"Code\":\"KZ\",\"Name\":\"Kazakhstan\"},{\"Code\":\"LA\",\"Name\":\"Laos\"},{\"Code\":\"LB\",\"Name\":\"Lebanon\"},{\"Code\":\"LC\",\"Name\":\"Saint Lucia\"},{\"Code\":\"LI\",\"Name\":\"Liechtenstein\"},{\"Code\":\"LK\",\"Name\":\"Sri Lanka\"},{\"Code\":\"LR\",\"Name\":\"Liberia\"},{\"Code\":\"LS\",\"Name\":\"Lesotho\"},{\"Code\":\"LT\",\"Name\":\"Lithuania\"},{\"Code\":\"LU\",\"Name\":\"Luxembourg\"},{\"Code\":\"LV\",\"Name\":\"Latvia\"},{\"Code\":\"LY\",\"Name\":\"Libya\"},{\"Code\":\"MA\",\"Name\":\"Morocco\"},{\"Code\":\"MC\",\"Name\":\"Monaco\"},{\"Code\":\"MD\",\"Name\":\"Moldova\"},{\"Code\":\"ME\",\"Name\":\"Montenegro\"},{\"Code\":\"MG\",\"Name\":\"Madagascar\"},{\"Code\":\"MH\",\"Name\":\"Marshall Islands\"},{\"Code\":\"MK\",\"Name\":\"Republic of Macedonia\"},{\"Code\":\"ML\",\"Name\":\"Mali\"},{\"Code\":\"MM\",\"Name\":\"Myanmar\"},{\"Code\":\"MN\",\"Name\":\"Mongolia\"},{\"Code\":\"MO\",\"Name\":\"Macau\"},{\"Code\":\"MP\",\"Name\":\"Northern Mariana Islands\"},{\"Code\":\"MQ\",\"Name\":\"Martinique\"},{\"Code\":\"MR\",\"Name\":\"Mauritania\"},{\"Code\":\"MS\",\"Name\":\"Montserrat\"},{\"Code\":\"MT\",\"Name\":\"Malta\"},{\"Code\":\"MU\",\"Name\":\"Mauritius\"},{\"Code\":\"MV\",\"Name\":\"Maldives\"},{\"Code\":\"MW\",\"Name\":\"Malawi\"},{\"Code\":\"MX\",\"Name\":\"Mexico\"},{\"Code\":\"MY\",\"Name\":\"Malaysia\"},{\"Code\":\"MZ\",\"Name\":\"Mozambique\"},{\"Code\":\"NA\",\"Name\":\"Namibia\"},{\"Code\":\"NC\",\"Name\":\"New Caledonia\"},{\"Code\":\"NE\",\"Name\":\"Niger\"},{\"Code\":\"NG\",\"Name\":\"Nigeria\"},{\"Code\":\"NI\",\"Name\":\"Nicaragua\"},{\"Code\":\"NL\",\"Name\":\"Netherlands\"},{\"Code\":\"NO\",\"Name\":\"Norway\"},{\"Code\":\"NP\",\"Name\":\"Nepal\"},{\"Code\":\"NR\",\"Name\":\"Nauru\"},{\"Code\":\"NU\",\"Name\":\"Niue\"},{\"Code\":\"NZ\",\"Name\":\"New Zealand\"},{\"Code\":\"OM\",\"Name\":\"Oman\"},{\"Code\":\"PA\",\"Name\":\"Panama\"},{\"Code\":\"PE\",\"Name\":\"Peru\"},{\"Code\":\"PF\",\"Name\":\"French Polynesia\"},{\"Code\":\"PG\",\"Name\":\"Papua New Guinea\"},{\"Code\":\"PH\",\"Name\":\"Philippines\"},{\"Code\":\"PK\",\"Name\":\"Pakistan\"},{\"Code\":\"PL\",\"Name\":\"Poland\"},{\"Code\":\"PM\",\"Name\":\"St. Pierre and Miquelon\"},{\"Code\":\"PR\",\"Name\":\"Puerto Rico\"},{\"Code\":\"PT\",\"Name\":\"Portugal\"},{\"Code\":\"PW\",\"Name\":\"Palau\"},{\"Code\":\"PY\",\"Name\":\"Paraguay\"},{\"Code\":\"QA\",\"Name\":\"Qatar\"},{\"Code\":\"RE\",\"Name\":\"Reunion\"},{\"Code\":\"RO\",\"Name\":\"Romania\"},{\"Code\":\"RS\",\"Name\":\"Serbia\"},{\"Code\":\"RU\",\"Name\":\"Russia\"},{\"Code\":\"RW\",\"Name\":\"Rwanda\"},{\"Code\":\"SA\",\"Name\":\"Saudi Arabia\"},{\"Code\":\"SB\",\"Name\":\"Solomon Islands\"},{\"Code\":\"SC\",\"Name\":\"Seychelles\"},{\"Code\":\"SD\",\"Name\":\"Sudan\"},{\"Code\":\"SE\",\"Name\":\"Sweden\"},{\"Code\":\"SG\",\"Name\":\"Singapore\"},{\"Code\":\"SH\",\"Name\":\"St. Helena\"},{\"Code\":\"SI\",\"Name\":\"Slovenia\"},{\"Code\":\"SK\",\"Name\":\"Slovakia\"},{\"Code\":\"SL\",\"Name\":\"Sierra Leone\"},{\"Code\":\"SN\",\"Name\":\"Senegal\"},{\"Code\":\"SO\",\"Name\":\"Somalia\"},{\"Code\":\"SR\",\"Name\":\"Suriname\"},{\"Code\":\"SS\",\"Name\":\"South Sudan\"},{\"Code\":\"ST\",\"Name\":\"Sao Tome and Principe\"},{\"Code\":\"SV\",\"Name\":\"El Salvador\"},{\"Code\":\"SX\",\"Name\":\"St Maarten\"},{\"Code\":\"SY\",\"Name\":\"Syria\"},{\"Code\":\"SZ\",\"Name\":\"Swaziland\"},{\"Code\":\"TC\",\"Name\":\"Turks and Caicos Islands\"},{\"Code\":\"TD\",\"Name\":\"Chad\"},{\"Code\":\"TG\",\"Name\":\"Togo\"},{\"Code\":\"TH\",\"Name\":\"Thailand\"},{\"Code\":\"TJ\",\"Name\":\"Tajikistan\"},{\"Code\":\"TL\",\"Name\":\"East Timor\"},{\"Code\":\"TM\",\"Name\":\"Turkmenistan\"},{\"Code\":\"TN\",\"Name\":\"Tunisia\"},{\"Code\":\"TO\",\"Name\":\"Tonga\"},{\"Code\":\"TR\",\"Name\":\"Turkey\"},{\"Code\":\"TT\",\"Name\":\"Trinidad and Tobago\"},{\"Code\":\"TV\",\"Name\":\"Tuvalu\"},{\"Code\":\"TW\",\"Name\":\"Taiwan\"},{\"Code\":\"TZ\",\"Name\":\"Tanzania\"},{\"Code\":\"UA\",\"Name\":\"Ukraine\"},{\"Code\":\"UG\",\"Name\":\"Uganda\"},{\"Code\":\"UK\",\"Name\":\"United Kingdom\"},{\"Code\":\"US\",\"Name\":\"United States\"},{\"Code\":\"UY\",\"Name\":\"Uruguay\"},{\"Code\":\"UZ\",\"Name\":\"Uzbekistan\"},{\"Code\":\"VA\",\"Name\":\"Vatican City\"},{\"Code\":\"VC\",\"Name\":\"Saint Vincent and the Grenadines\"},{\"Code\":\"VE\",\"Name\":\"Venezuela\"},{\"Code\":\"VG\",\"Name\":\"British Virgin Islands\"},{\"Code\":\"VI\",\"Name\":\"US Virgin Islands\"},{\"Code\":\"VN\",\"Name\":\"Vietnam\"},{\"Code\":\"VU\",\"Name\":\"Vanuatu\"},{\"Code\":\"WF\",\"Name\":\"Wallis and Futuna Islands\"},{\"Code\":\"WS\",\"Name\":\"Samoa\"},{\"Code\":\"YE\",\"Name\":\"Yemen\"},{\"Code\":\"YT\",\"Name\":\"Mayotte\"},{\"Code\":\"ZA\",\"Name\":\"South Africa\"},{\"Code\":\"ZM\",\"Name\":\"Zambia\"},{\"Code\":\"ZW\",\"Name\":\"Zimbabwe\"}]}\n"
    }
   ],
   "source": [
    "url = \"https://skyscanner-skyscanner-flight-search-v1.p.rapidapi.com/apiservices/reference/v1.0/countries/en-US\"\n",
    "\n",
    "headers = {\n",
    "    'x-rapidapi-host': \"skyscanner-skyscanner-flight-search-v1.p.rapidapi.com\",\n",
    "    'x-rapidapi-key': \"a8245b0671mshf12c97feac9239bp156475jsn1da02f7c5cb5\"\n",
    "    }\n",
    "\n",
    "response = requests.request(\"GET\", url, headers=headers)\n",
    "\n",
    "print(response.text)"
   ]
  },
  {
   "cell_type": "code",
   "execution_count": 77,
   "metadata": {},
   "outputs": [],
   "source": [
    "response_json = response.json()"
   ]
  },
  {
   "cell_type": "code",
   "execution_count": 80,
   "metadata": {},
   "outputs": [
    {
     "data": {
      "text/plain": "[{'Code': 'AD', 'Name': 'Andorra'},\n {'Code': 'AE', 'Name': 'United Arab Emirates'},\n {'Code': 'AF', 'Name': 'Afghanistan'},\n {'Code': 'AG', 'Name': 'Antigua and Barbuda'},\n {'Code': 'AI', 'Name': 'Anguilla'},\n {'Code': 'AL', 'Name': 'Albania'},\n {'Code': 'AM', 'Name': 'Armenia'},\n {'Code': 'AO', 'Name': 'Angola'},\n {'Code': 'AQ', 'Name': 'Antarctica'},\n {'Code': 'AR', 'Name': 'Argentina'},\n {'Code': 'AS', 'Name': 'American Samoa'},\n {'Code': 'AT', 'Name': 'Austria'},\n {'Code': 'AU', 'Name': 'Australia'},\n {'Code': 'AW', 'Name': 'Aruba'},\n {'Code': 'AZ', 'Name': 'Azerbaijan'},\n {'Code': 'BA', 'Name': 'Bosnia and Herzegovina'},\n {'Code': 'BB', 'Name': 'Barbados'},\n {'Code': 'BD', 'Name': 'Bangladesh'},\n {'Code': 'BE', 'Name': 'Belgium'},\n {'Code': 'BF', 'Name': 'Burkina Faso'},\n {'Code': 'BG', 'Name': 'Bulgaria'},\n {'Code': 'BH', 'Name': 'Bahrain'},\n {'Code': 'BI', 'Name': 'Burundi'},\n {'Code': 'BJ', 'Name': 'Benin'},\n {'Code': 'BL', 'Name': 'Saint Barthelemy'},\n {'Code': 'BM', 'Name': 'Bermuda'},\n {'Code': 'BN', 'Name': 'Brunei'},\n {'Code': 'BO', 'Name': 'Bolivia'},\n {'Code': 'BQ', 'Name': 'Caribbean Netherlands'},\n {'Code': 'BR', 'Name': 'Brazil'},\n {'Code': 'BS', 'Name': 'Bahamas'},\n {'Code': 'BT', 'Name': 'Bhutan'},\n {'Code': 'BW', 'Name': 'Botswana'},\n {'Code': 'BY', 'Name': 'Belarus'},\n {'Code': 'BZ', 'Name': 'Belize'},\n {'Code': 'CA', 'Name': 'Canada'},\n {'Code': 'CC', 'Name': 'Cocos (Keeling) Islands'},\n {'Code': 'CD', 'Name': 'DR Congo'},\n {'Code': 'CF', 'Name': 'Central African Republic'},\n {'Code': 'CG', 'Name': 'Congo'},\n {'Code': 'CH', 'Name': 'Switzerland'},\n {'Code': 'CI', 'Name': 'Ivory Coast'},\n {'Code': 'CK', 'Name': 'Cook Islands'},\n {'Code': 'CL', 'Name': 'Chile'},\n {'Code': 'CM', 'Name': 'Cameroon'},\n {'Code': 'CN', 'Name': 'China'},\n {'Code': 'CO', 'Name': 'Colombia'},\n {'Code': 'CR', 'Name': 'Costa Rica'},\n {'Code': 'CU', 'Name': 'Cuba'},\n {'Code': 'CV', 'Name': 'Cape Verde'},\n {'Code': 'CW', 'Name': 'Curacao'},\n {'Code': 'CX', 'Name': 'Christmas Island'},\n {'Code': 'CY', 'Name': 'Cyprus'},\n {'Code': 'CZ', 'Name': 'Czech Republic'},\n {'Code': 'DE', 'Name': 'Germany'},\n {'Code': 'DJ', 'Name': 'Djibouti'},\n {'Code': 'DK', 'Name': 'Denmark'},\n {'Code': 'DM', 'Name': 'Dominica'},\n {'Code': 'DO', 'Name': 'Dominican Republic'},\n {'Code': 'DZ', 'Name': 'Algeria'},\n {'Code': 'EC', 'Name': 'Ecuador'},\n {'Code': 'EE', 'Name': 'Estonia'},\n {'Code': 'EG', 'Name': 'Egypt'},\n {'Code': 'ER', 'Name': 'Eritrea'},\n {'Code': 'ES', 'Name': 'Spain'},\n {'Code': 'ET', 'Name': 'Ethiopia'},\n {'Code': 'FI', 'Name': 'Finland'},\n {'Code': 'FJ', 'Name': 'Fiji'},\n {'Code': 'FK', 'Name': 'Falkland Islands'},\n {'Code': 'FM', 'Name': 'Micronesia'},\n {'Code': 'FO', 'Name': 'Faroe Islands'},\n {'Code': 'FR', 'Name': 'France'},\n {'Code': 'GA', 'Name': 'Gabon'},\n {'Code': 'GD', 'Name': 'Grenada'},\n {'Code': 'GE', 'Name': 'Georgia'},\n {'Code': 'GF', 'Name': 'French Guiana'},\n {'Code': 'GG', 'Name': 'Guernsey'},\n {'Code': 'GH', 'Name': 'Ghana'},\n {'Code': 'GI', 'Name': 'Gibraltar'},\n {'Code': 'GL', 'Name': 'Greenland'},\n {'Code': 'GM', 'Name': 'Gambia'},\n {'Code': 'GN', 'Name': 'Guinea'},\n {'Code': 'GP', 'Name': 'Guadeloupe'},\n {'Code': 'GQ', 'Name': 'Equatorial Guinea'},\n {'Code': 'GR', 'Name': 'Greece'},\n {'Code': 'GS', 'Name': 'South Georgia & South Sandwich Islands'},\n {'Code': 'GT', 'Name': 'Guatemala'},\n {'Code': 'GU', 'Name': 'Guam'},\n {'Code': 'GW', 'Name': 'Guinea-Bissau'},\n {'Code': 'GY', 'Name': 'Guyana'},\n {'Code': 'HK', 'Name': 'Hong Kong'},\n {'Code': 'HN', 'Name': 'Honduras'},\n {'Code': 'HR', 'Name': 'Croatia'},\n {'Code': 'HT', 'Name': 'Haiti'},\n {'Code': 'HU', 'Name': 'Hungary'},\n {'Code': 'ID', 'Name': 'Indonesia'},\n {'Code': 'IE', 'Name': 'Ireland'},\n {'Code': 'IL', 'Name': 'Israel'},\n {'Code': 'IN', 'Name': 'India'},\n {'Code': 'IQ', 'Name': 'Iraq'},\n {'Code': 'IR', 'Name': 'Iran'},\n {'Code': 'IS', 'Name': 'Iceland'},\n {'Code': 'IT', 'Name': 'Italy'},\n {'Code': 'JM', 'Name': 'Jamaica'},\n {'Code': 'JO', 'Name': 'Jordan'},\n {'Code': 'JP', 'Name': 'Japan'},\n {'Code': 'KE', 'Name': 'Kenya'},\n {'Code': 'KG', 'Name': 'Kyrgyzstan'},\n {'Code': 'KH', 'Name': 'Cambodia'},\n {'Code': 'KI', 'Name': 'Kiribati'},\n {'Code': 'KM', 'Name': 'Comoros'},\n {'Code': 'KN', 'Name': 'Saint Kitts and Nevis'},\n {'Code': 'KO', 'Name': 'Kosovo'},\n {'Code': 'KP', 'Name': 'North Korea'},\n {'Code': 'KR', 'Name': 'South Korea'},\n {'Code': 'KW', 'Name': 'Kuwait'},\n {'Code': 'KY', 'Name': 'Cayman Islands'},\n {'Code': 'KZ', 'Name': 'Kazakhstan'},\n {'Code': 'LA', 'Name': 'Laos'},\n {'Code': 'LB', 'Name': 'Lebanon'},\n {'Code': 'LC', 'Name': 'Saint Lucia'},\n {'Code': 'LI', 'Name': 'Liechtenstein'},\n {'Code': 'LK', 'Name': 'Sri Lanka'},\n {'Code': 'LR', 'Name': 'Liberia'},\n {'Code': 'LS', 'Name': 'Lesotho'},\n {'Code': 'LT', 'Name': 'Lithuania'},\n {'Code': 'LU', 'Name': 'Luxembourg'},\n {'Code': 'LV', 'Name': 'Latvia'},\n {'Code': 'LY', 'Name': 'Libya'},\n {'Code': 'MA', 'Name': 'Morocco'},\n {'Code': 'MC', 'Name': 'Monaco'},\n {'Code': 'MD', 'Name': 'Moldova'},\n {'Code': 'ME', 'Name': 'Montenegro'},\n {'Code': 'MG', 'Name': 'Madagascar'},\n {'Code': 'MH', 'Name': 'Marshall Islands'},\n {'Code': 'MK', 'Name': 'Republic of Macedonia'},\n {'Code': 'ML', 'Name': 'Mali'},\n {'Code': 'MM', 'Name': 'Myanmar'},\n {'Code': 'MN', 'Name': 'Mongolia'},\n {'Code': 'MO', 'Name': 'Macau'},\n {'Code': 'MP', 'Name': 'Northern Mariana Islands'},\n {'Code': 'MQ', 'Name': 'Martinique'},\n {'Code': 'MR', 'Name': 'Mauritania'},\n {'Code': 'MS', 'Name': 'Montserrat'},\n {'Code': 'MT', 'Name': 'Malta'},\n {'Code': 'MU', 'Name': 'Mauritius'},\n {'Code': 'MV', 'Name': 'Maldives'},\n {'Code': 'MW', 'Name': 'Malawi'},\n {'Code': 'MX', 'Name': 'Mexico'},\n {'Code': 'MY', 'Name': 'Malaysia'},\n {'Code': 'MZ', 'Name': 'Mozambique'},\n {'Code': 'NA', 'Name': 'Namibia'},\n {'Code': 'NC', 'Name': 'New Caledonia'},\n {'Code': 'NE', 'Name': 'Niger'},\n {'Code': 'NG', 'Name': 'Nigeria'},\n {'Code': 'NI', 'Name': 'Nicaragua'},\n {'Code': 'NL', 'Name': 'Netherlands'},\n {'Code': 'NO', 'Name': 'Norway'},\n {'Code': 'NP', 'Name': 'Nepal'},\n {'Code': 'NR', 'Name': 'Nauru'},\n {'Code': 'NU', 'Name': 'Niue'},\n {'Code': 'NZ', 'Name': 'New Zealand'},\n {'Code': 'OM', 'Name': 'Oman'},\n {'Code': 'PA', 'Name': 'Panama'},\n {'Code': 'PE', 'Name': 'Peru'},\n {'Code': 'PF', 'Name': 'French Polynesia'},\n {'Code': 'PG', 'Name': 'Papua New Guinea'},\n {'Code': 'PH', 'Name': 'Philippines'},\n {'Code': 'PK', 'Name': 'Pakistan'},\n {'Code': 'PL', 'Name': 'Poland'},\n {'Code': 'PM', 'Name': 'St. Pierre and Miquelon'},\n {'Code': 'PR', 'Name': 'Puerto Rico'},\n {'Code': 'PT', 'Name': 'Portugal'},\n {'Code': 'PW', 'Name': 'Palau'},\n {'Code': 'PY', 'Name': 'Paraguay'},\n {'Code': 'QA', 'Name': 'Qatar'},\n {'Code': 'RE', 'Name': 'Reunion'},\n {'Code': 'RO', 'Name': 'Romania'},\n {'Code': 'RS', 'Name': 'Serbia'},\n {'Code': 'RU', 'Name': 'Russia'},\n {'Code': 'RW', 'Name': 'Rwanda'},\n {'Code': 'SA', 'Name': 'Saudi Arabia'},\n {'Code': 'SB', 'Name': 'Solomon Islands'},\n {'Code': 'SC', 'Name': 'Seychelles'},\n {'Code': 'SD', 'Name': 'Sudan'},\n {'Code': 'SE', 'Name': 'Sweden'},\n {'Code': 'SG', 'Name': 'Singapore'},\n {'Code': 'SH', 'Name': 'St. Helena'},\n {'Code': 'SI', 'Name': 'Slovenia'},\n {'Code': 'SK', 'Name': 'Slovakia'},\n {'Code': 'SL', 'Name': 'Sierra Leone'},\n {'Code': 'SN', 'Name': 'Senegal'},\n {'Code': 'SO', 'Name': 'Somalia'},\n {'Code': 'SR', 'Name': 'Suriname'},\n {'Code': 'SS', 'Name': 'South Sudan'},\n {'Code': 'ST', 'Name': 'Sao Tome and Principe'},\n {'Code': 'SV', 'Name': 'El Salvador'},\n {'Code': 'SX', 'Name': 'St Maarten'},\n {'Code': 'SY', 'Name': 'Syria'},\n {'Code': 'SZ', 'Name': 'Swaziland'},\n {'Code': 'TC', 'Name': 'Turks and Caicos Islands'},\n {'Code': 'TD', 'Name': 'Chad'},\n {'Code': 'TG', 'Name': 'Togo'},\n {'Code': 'TH', 'Name': 'Thailand'},\n {'Code': 'TJ', 'Name': 'Tajikistan'},\n {'Code': 'TL', 'Name': 'East Timor'},\n {'Code': 'TM', 'Name': 'Turkmenistan'},\n {'Code': 'TN', 'Name': 'Tunisia'},\n {'Code': 'TO', 'Name': 'Tonga'},\n {'Code': 'TR', 'Name': 'Turkey'},\n {'Code': 'TT', 'Name': 'Trinidad and Tobago'},\n {'Code': 'TV', 'Name': 'Tuvalu'},\n {'Code': 'TW', 'Name': 'Taiwan'},\n {'Code': 'TZ', 'Name': 'Tanzania'},\n {'Code': 'UA', 'Name': 'Ukraine'},\n {'Code': 'UG', 'Name': 'Uganda'},\n {'Code': 'UK', 'Name': 'United Kingdom'},\n {'Code': 'US', 'Name': 'United States'},\n {'Code': 'UY', 'Name': 'Uruguay'},\n {'Code': 'UZ', 'Name': 'Uzbekistan'},\n {'Code': 'VA', 'Name': 'Vatican City'},\n {'Code': 'VC', 'Name': 'Saint Vincent and the Grenadines'},\n {'Code': 'VE', 'Name': 'Venezuela'},\n {'Code': 'VG', 'Name': 'British Virgin Islands'},\n {'Code': 'VI', 'Name': 'US Virgin Islands'},\n {'Code': 'VN', 'Name': 'Vietnam'},\n {'Code': 'VU', 'Name': 'Vanuatu'},\n {'Code': 'WF', 'Name': 'Wallis and Futuna Islands'},\n {'Code': 'WS', 'Name': 'Samoa'},\n {'Code': 'YE', 'Name': 'Yemen'},\n {'Code': 'YT', 'Name': 'Mayotte'},\n {'Code': 'ZA', 'Name': 'South Africa'},\n {'Code': 'ZM', 'Name': 'Zambia'},\n {'Code': 'ZW', 'Name': 'Zimbabwe'}]"
     },
     "execution_count": 80,
     "metadata": {},
     "output_type": "execute_result"
    }
   ],
   "source": [
    "response_json['Countries']"
   ]
  },
  {
   "cell_type": "markdown",
   "metadata": {},
   "source": [
    "## Testing Quotes"
   ]
  },
  {
   "cell_type": "code",
   "execution_count": 83,
   "metadata": {},
   "outputs": [
    {
     "name": "stdout",
     "output_type": "stream",
     "text": "{\"Quotes\":[{\"QuoteId\":1,\"MinPrice\":138.0,\"Direct\":true,\"OutboundLeg\":{\"CarrierIds\":[851],\"OriginId\":81727,\"DestinationId\":60987,\"DepartureDate\":\"2020-09-01T00:00:00\"},\"QuoteDateTime\":\"2020-05-29T21:49:00\"}],\"Places\":[{\"PlaceId\":60987,\"IataCode\":\"JFK\",\"Name\":\"New York John F. Kennedy\",\"Type\":\"Station\",\"SkyscannerCode\":\"JFK\",\"CityName\":\"New York\",\"CityId\":\"NYCA\",\"CountryName\":\"United States\"},{\"PlaceId\":81727,\"IataCode\":\"SFO\",\"Name\":\"San Francisco International\",\"Type\":\"Station\",\"SkyscannerCode\":\"SFO\",\"CityName\":\"San Francisco\",\"CityId\":\"SFOA\",\"CountryName\":\"United States\"}],\"Carriers\":[{\"CarrierId\":838,\"Name\":\"Air France\"},{\"CarrierId\":851,\"Name\":\"Alaska Airlines\"},{\"CarrierId\":870,\"Name\":\"jetBlue\"},{\"CarrierId\":1467,\"Name\":\"Spirit Airlines\"}],\"Currencies\":[{\"Code\":\"USD\",\"Symbol\":\"$\",\"ThousandsSeparator\":\",\",\"DecimalSeparator\":\".\",\"SymbolOnLeft\":true,\"SpaceBetweenAmountAndSymbol\":false,\"RoundingCoefficient\":0,\"DecimalDigits\":2}]}\n"
    }
   ],
   "source": [
    "url = \"https://skyscanner-skyscanner-flight-search-v1.p.rapidapi.com/apiservices/browsequotes/v1.0/US/USD/en-US/SFO-sky/JFK-sky/2020-09-01\"\n",
    "\n",
    "querystring = {\"inboundpartialdate\":\"\"}\n",
    "\n",
    "headers = {\n",
    "    'x-rapidapi-host': \"skyscanner-skyscanner-flight-search-v1.p.rapidapi.com\",\n",
    "    'x-rapidapi-key': \"a8245b0671mshf12c97feac9239bp156475jsn1da02f7c5cb5\"\n",
    "    }\n",
    "\n",
    "response = requests.request(\"GET\", url, headers=headers, params=querystring)\n",
    "\n",
    "print(response.text)"
   ]
  },
  {
   "cell_type": "code",
   "execution_count": 84,
   "metadata": {},
   "outputs": [],
   "source": [
    "response_json = response.json()"
   ]
  },
  {
   "cell_type": "code",
   "execution_count": 85,
   "metadata": {},
   "outputs": [
    {
     "data": {
      "text/plain": "{'Quotes': [{'QuoteId': 1,\n   'MinPrice': 138.0,\n   'Direct': True,\n   'OutboundLeg': {'CarrierIds': [851],\n    'OriginId': 81727,\n    'DestinationId': 60987,\n    'DepartureDate': '2020-09-01T00:00:00'},\n   'QuoteDateTime': '2020-05-29T21:49:00'}],\n 'Places': [{'PlaceId': 60987,\n   'IataCode': 'JFK',\n   'Name': 'New York John F. Kennedy',\n   'Type': 'Station',\n   'SkyscannerCode': 'JFK',\n   'CityName': 'New York',\n   'CityId': 'NYCA',\n   'CountryName': 'United States'},\n  {'PlaceId': 81727,\n   'IataCode': 'SFO',\n   'Name': 'San Francisco International',\n   'Type': 'Station',\n   'SkyscannerCode': 'SFO',\n   'CityName': 'San Francisco',\n   'CityId': 'SFOA',\n   'CountryName': 'United States'}],\n 'Carriers': [{'CarrierId': 838, 'Name': 'Air France'},\n  {'CarrierId': 851, 'Name': 'Alaska Airlines'},\n  {'CarrierId': 870, 'Name': 'jetBlue'},\n  {'CarrierId': 1467, 'Name': 'Spirit Airlines'}],\n 'Currencies': [{'Code': 'USD',\n   'Symbol': '$',\n   'ThousandsSeparator': ',',\n   'DecimalSeparator': '.',\n   'SymbolOnLeft': True,\n   'SpaceBetweenAmountAndSymbol': False,\n   'RoundingCoefficient': 0,\n   'DecimalDigits': 2}]}"
     },
     "execution_count": 85,
     "metadata": {},
     "output_type": "execute_result"
    }
   ],
   "source": [
    "response_json"
   ]
  },
  {
   "cell_type": "code",
   "execution_count": null,
   "metadata": {},
   "outputs": [],
   "source": []
  }
 ]
}