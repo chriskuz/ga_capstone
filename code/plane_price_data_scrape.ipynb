{
 "nbformat": 4,
 "nbformat_minor": 2,
 "metadata": {
  "language_info": {
   "name": "python",
   "codemirror_mode": {
    "name": "ipython",
    "version": 3
   },
   "version": "3.7.6-final"
  },
  "orig_nbformat": 2,
  "file_extension": ".py",
  "mimetype": "text/x-python",
  "name": "python",
  "npconvert_exporter": "python",
  "pygments_lexer": "ipython3",
  "version": 3,
  "kernelspec": {
   "name": "python3",
   "display_name": "Python 3"
  }
 },
 "cells": [
  {
   "cell_type": "code",
   "execution_count": 38,
   "metadata": {},
   "outputs": [],
   "source": [
    "import requests\n",
    "import json\n",
    "import pandas as pd\n",
    "import datetime\n",
    "import numpy as np\n",
    "import time\n",
    "from bs4 import BeautifulSoup"
   ]
  },
  {
   "cell_type": "code",
   "execution_count": 137,
   "metadata": {},
   "outputs": [],
   "source": [
    "with open('/Users/ChristopherKuzemka/Documents/GA/dsi_11/projects/capstone/env.json') as f:\n",
    "    information = json.load(f)"
   ]
  },
  {
   "cell_type": "code",
   "execution_count": 138,
   "metadata": {},
   "outputs": [],
   "source": [
    "host_name = information.get('x-rapidapi-host')\n",
    "apiKey = information.get('x-rapidapi-key')"
   ]
  },
  {
   "cell_type": "markdown",
   "metadata": {},
   "source": [
    "Please note I am limited to 50 requests per minute."
   ]
  },
  {
   "cell_type": "markdown",
   "metadata": {},
   "source": [
    "1) Browse Quotes - Returns the cheapest quotes that meet your query. The prices come from our cached prices resulting from our users’ searches.\n",
    "\n",
    "2) Browse Routes - Similar to Browse Quotes but with the quotes grouped by routes. This provides the cheapest destinations (countries, cities or airports) from our cached data.\n",
    "\n",
    "3) Browse Dates - Similar to Browse Quotes but with the quotes grouped by outbound and inbound date. Useful to find the lowest price for a given route, over either a month or a 12 month period.\n",
    "\n",
    "4) Browse Grid - Similar to Browse Dates but with some pre-processing on our side to output a two-dimensional array to easily display the response in calendar format."
   ]
  },
  {
   "cell_type": "markdown",
   "metadata": {},
   "source": [
    "# Data Prep"
   ]
  },
  {
   "cell_type": "code",
   "execution_count": 40,
   "metadata": {},
   "outputs": [
    {
     "data": {
      "text/html": "<div>\n<style scoped>\n    .dataframe tbody tr th:only-of-type {\n        vertical-align: middle;\n    }\n\n    .dataframe tbody tr th {\n        vertical-align: top;\n    }\n\n    .dataframe thead th {\n        text-align: right;\n    }\n</style>\n<table border=\"1\" class=\"dataframe\">\n  <thead>\n    <tr style=\"text-align: right;\">\n      <th></th>\n      <th>Unnamed: 0</th>\n      <th>faFlightID</th>\n      <th>ident</th>\n      <th>prefix</th>\n      <th>type</th>\n      <th>suffix</th>\n      <th>origin</th>\n      <th>destination</th>\n      <th>timeout</th>\n      <th>timestamp</th>\n      <th>...</th>\n      <th>lowLatitude</th>\n      <th>highLongitude</th>\n      <th>highLatitude</th>\n      <th>groundspeed</th>\n      <th>altitude</th>\n      <th>heading</th>\n      <th>altitudeStatus</th>\n      <th>updateType</th>\n      <th>altitudeChange</th>\n      <th>waypoints</th>\n    </tr>\n  </thead>\n  <tbody>\n    <tr>\n      <td>0</td>\n      <td>0</td>\n      <td>DAL333-1590465975-fa-0008</td>\n      <td>DAL333</td>\n      <td>NaN</td>\n      <td>A321</td>\n      <td>NaN</td>\n      <td>KATL</td>\n      <td>KLAX</td>\n      <td>0</td>\n      <td>1590716390</td>\n      <td>...</td>\n      <td>32.94676</td>\n      <td>-84.44664</td>\n      <td>33.70005</td>\n      <td>448</td>\n      <td>300</td>\n      <td>264</td>\n      <td>NaN</td>\n      <td>A</td>\n      <td>D</td>\n      <td>33.64 -84.43 33.68 -84.28 33.81 -84.28 33.81 -...</td>\n    </tr>\n    <tr>\n      <td>1</td>\n      <td>1</td>\n      <td>KLM601-1590468354-airline-0005</td>\n      <td>KLM601</td>\n      <td>NaN</td>\n      <td>B77W</td>\n      <td>NaN</td>\n      <td>EHAM</td>\n      <td>KLAX</td>\n      <td>0</td>\n      <td>1590711509</td>\n      <td>...</td>\n      <td>33.95142</td>\n      <td>4.71741</td>\n      <td>66.06976</td>\n      <td>130</td>\n      <td>1</td>\n      <td>263</td>\n      <td>NaN</td>\n      <td>A</td>\n      <td>D</td>\n      <td>52.31 4.76 53.02 2.53 53.06 2.46 53.2 1.53 53....</td>\n    </tr>\n    <tr>\n      <td>2</td>\n      <td>2</td>\n      <td>VIR607-1590664542-ed-0002</td>\n      <td>VIR607</td>\n      <td>NaN</td>\n      <td>B789</td>\n      <td>NaN</td>\n      <td>EGLL</td>\n      <td>KLAX</td>\n      <td>0</td>\n      <td>1590711368</td>\n      <td>...</td>\n      <td>33.95091</td>\n      <td>-0.39345</td>\n      <td>66.09780</td>\n      <td>101</td>\n      <td>1</td>\n      <td>263</td>\n      <td>NaN</td>\n      <td>A</td>\n      <td>D</td>\n      <td>51.48 -0.46 51.56 -0.59 51.62 -0.68 51.7 -0.79...</td>\n    </tr>\n    <tr>\n      <td>3</td>\n      <td>3</td>\n      <td>DAL702-1590465982-fa-0006</td>\n      <td>DAL702</td>\n      <td>NaN</td>\n      <td>A321</td>\n      <td>NaN</td>\n      <td>KATL</td>\n      <td>KLAX</td>\n      <td>0</td>\n      <td>1590709847</td>\n      <td>...</td>\n      <td>33.64682</td>\n      <td>-84.44602</td>\n      <td>35.52932</td>\n      <td>117</td>\n      <td>1</td>\n      <td>263</td>\n      <td>NaN</td>\n      <td>A</td>\n      <td>D</td>\n      <td>33.64 -84.43 33.68 -84.28 33.79 -85 33.81 -85....</td>\n    </tr>\n    <tr>\n      <td>4</td>\n      <td>4</td>\n      <td>ACA572-1590468353-airline-0278</td>\n      <td>ACA572</td>\n      <td>NaN</td>\n      <td>A319</td>\n      <td>NaN</td>\n      <td>CYVR</td>\n      <td>KLAX</td>\n      <td>0</td>\n      <td>1590706589</td>\n      <td>...</td>\n      <td>33.95183</td>\n      <td>-118.17553</td>\n      <td>49.18984</td>\n      <td>109</td>\n      <td>1</td>\n      <td>263</td>\n      <td>NaN</td>\n      <td>A</td>\n      <td>D</td>\n      <td>49.19 -123.18 49.12 -123.26 49.12 -123.27 49.0...</td>\n    </tr>\n    <tr>\n      <td>...</td>\n      <td>...</td>\n      <td>...</td>\n      <td>...</td>\n      <td>...</td>\n      <td>...</td>\n      <td>...</td>\n      <td>...</td>\n      <td>...</td>\n      <td>...</td>\n      <td>...</td>\n      <td>...</td>\n      <td>...</td>\n      <td>...</td>\n      <td>...</td>\n      <td>...</td>\n      <td>...</td>\n      <td>...</td>\n      <td>...</td>\n      <td>...</td>\n      <td>...</td>\n      <td>...</td>\n    </tr>\n    <tr>\n      <td>100</td>\n      <td>100</td>\n      <td>EDV4708-1590468354-airline-0112</td>\n      <td>EDV4708</td>\n      <td>NaN</td>\n      <td>CRJ9</td>\n      <td>NaN</td>\n      <td>KAGS</td>\n      <td>KATL</td>\n      <td>0</td>\n      <td>1590664135</td>\n      <td>...</td>\n      <td>33.19607</td>\n      <td>-81.97964</td>\n      <td>33.63222</td>\n      <td>126</td>\n      <td>10</td>\n      <td>91</td>\n      <td>NaN</td>\n      <td>A</td>\n      <td>D</td>\n      <td>33.37 -81.96 33.39 -82.03 33.39 -82.04 33.38 -...</td>\n    </tr>\n    <tr>\n      <td>101</td>\n      <td>101</td>\n      <td>ABW341-1590583043-eb-0002</td>\n      <td>ABW341</td>\n      <td>NaN</td>\n      <td>B744</td>\n      <td>NaN</td>\n      <td>EBLG</td>\n      <td>KATL</td>\n      <td>0</td>\n      <td>1590631398</td>\n      <td>...</td>\n      <td>33.53333</td>\n      <td>5.56940</td>\n      <td>54.10380</td>\n      <td>132</td>\n      <td>9</td>\n      <td>90</td>\n      <td></td>\n      <td>A</td>\n      <td>D</td>\n      <td>50.64 5.44 50.69 5.24 50.73 5.08 50.78 4.89 50...</td>\n    </tr>\n    <tr>\n      <td>102</td>\n      <td>102</td>\n      <td>DLH8176-1590641113-airline-0180</td>\n      <td>DLH8176</td>\n      <td>NaN</td>\n      <td>B772</td>\n      <td>NaN</td>\n      <td>EDDF</td>\n      <td>KATL</td>\n      <td>0</td>\n      <td>0</td>\n      <td>...</td>\n      <td>200.00000</td>\n      <td>-200.00000</td>\n      <td>-200.00000</td>\n      <td>0</td>\n      <td>0</td>\n      <td>0</td>\n      <td>NaN</td>\n      <td>NaN</td>\n      <td>NaN</td>\n      <td>NaN</td>\n    </tr>\n    <tr>\n      <td>103</td>\n      <td>103</td>\n      <td>CLX8626-1590641113-airline-0361</td>\n      <td>CLX8626</td>\n      <td>NaN</td>\n      <td>B744</td>\n      <td>NaN</td>\n      <td>ELLX</td>\n      <td>KATL</td>\n      <td>0</td>\n      <td>0</td>\n      <td>...</td>\n      <td>200.00000</td>\n      <td>-200.00000</td>\n      <td>-200.00000</td>\n      <td>0</td>\n      <td>0</td>\n      <td>0</td>\n      <td>NaN</td>\n      <td>NaN</td>\n      <td>NaN</td>\n      <td>NaN</td>\n    </tr>\n    <tr>\n      <td>104</td>\n      <td>104</td>\n      <td>DLH8172-1590641113-airline-0177</td>\n      <td>DLH8172</td>\n      <td>NaN</td>\n      <td>MD11</td>\n      <td>NaN</td>\n      <td>EDDF</td>\n      <td>KATL</td>\n      <td>0</td>\n      <td>0</td>\n      <td>...</td>\n      <td>200.00000</td>\n      <td>-200.00000</td>\n      <td>-200.00000</td>\n      <td>0</td>\n      <td>0</td>\n      <td>0</td>\n      <td>NaN</td>\n      <td>NaN</td>\n      <td>NaN</td>\n      <td>NaN</td>\n    </tr>\n  </tbody>\n</table>\n<p>105 rows × 26 columns</p>\n</div>",
      "text/plain": "     Unnamed: 0                       faFlightID    ident prefix  type  \\\n0             0        DAL333-1590465975-fa-0008   DAL333    NaN  A321   \n1             1   KLM601-1590468354-airline-0005   KLM601    NaN  B77W   \n2             2        VIR607-1590664542-ed-0002   VIR607    NaN  B789   \n3             3        DAL702-1590465982-fa-0006   DAL702    NaN  A321   \n4             4   ACA572-1590468353-airline-0278   ACA572    NaN  A319   \n..          ...                              ...      ...    ...   ...   \n100         100  EDV4708-1590468354-airline-0112  EDV4708    NaN  CRJ9   \n101         101        ABW341-1590583043-eb-0002   ABW341    NaN  B744   \n102         102  DLH8176-1590641113-airline-0180  DLH8176    NaN  B772   \n103         103  CLX8626-1590641113-airline-0361  CLX8626    NaN  B744   \n104         104  DLH8172-1590641113-airline-0177  DLH8172    NaN  MD11   \n\n     suffix origin destination  timeout   timestamp  ...  lowLatitude  \\\n0       NaN   KATL        KLAX        0  1590716390  ...     32.94676   \n1       NaN   EHAM        KLAX        0  1590711509  ...     33.95142   \n2       NaN   EGLL        KLAX        0  1590711368  ...     33.95091   \n3       NaN   KATL        KLAX        0  1590709847  ...     33.64682   \n4       NaN   CYVR        KLAX        0  1590706589  ...     33.95183   \n..      ...    ...         ...      ...         ...  ...          ...   \n100     NaN   KAGS        KATL        0  1590664135  ...     33.19607   \n101     NaN   EBLG        KATL        0  1590631398  ...     33.53333   \n102     NaN   EDDF        KATL        0           0  ...    200.00000   \n103     NaN   ELLX        KATL        0           0  ...    200.00000   \n104     NaN   EDDF        KATL        0           0  ...    200.00000   \n\n     highLongitude  highLatitude  groundspeed  altitude  heading  \\\n0        -84.44664      33.70005          448       300      264   \n1          4.71741      66.06976          130         1      263   \n2         -0.39345      66.09780          101         1      263   \n3        -84.44602      35.52932          117         1      263   \n4       -118.17553      49.18984          109         1      263   \n..             ...           ...          ...       ...      ...   \n100      -81.97964      33.63222          126        10       91   \n101        5.56940      54.10380          132         9       90   \n102     -200.00000    -200.00000            0         0        0   \n103     -200.00000    -200.00000            0         0        0   \n104     -200.00000    -200.00000            0         0        0   \n\n     altitudeStatus  updateType  altitudeChange  \\\n0               NaN           A               D   \n1               NaN           A               D   \n2               NaN           A               D   \n3               NaN           A               D   \n4               NaN           A               D   \n..              ...         ...             ...   \n100             NaN           A               D   \n101                           A               D   \n102             NaN         NaN             NaN   \n103             NaN         NaN             NaN   \n104             NaN         NaN             NaN   \n\n                                             waypoints  \n0    33.64 -84.43 33.68 -84.28 33.81 -84.28 33.81 -...  \n1    52.31 4.76 53.02 2.53 53.06 2.46 53.2 1.53 53....  \n2    51.48 -0.46 51.56 -0.59 51.62 -0.68 51.7 -0.79...  \n3    33.64 -84.43 33.68 -84.28 33.79 -85 33.81 -85....  \n4    49.19 -123.18 49.12 -123.26 49.12 -123.27 49.0...  \n..                                                 ...  \n100  33.37 -81.96 33.39 -82.03 33.39 -82.04 33.38 -...  \n101  50.64 5.44 50.69 5.24 50.73 5.08 50.78 4.89 50...  \n102                                                NaN  \n103                                                NaN  \n104                                                NaN  \n\n[105 rows x 26 columns]"
     },
     "execution_count": 40,
     "metadata": {},
     "output_type": "execute_result"
    }
   ],
   "source": [
    "current_flights = pd.read_csv('../data/current_flights.csv')\n",
    "current_flights"
   ]
  },
  {
   "cell_type": "code",
   "execution_count": 81,
   "metadata": {},
   "outputs": [
    {
     "data": {
      "text/html": "<div>\n<style scoped>\n    .dataframe tbody tr th:only-of-type {\n        vertical-align: middle;\n    }\n\n    .dataframe tbody tr th {\n        vertical-align: top;\n    }\n\n    .dataframe thead th {\n        text-align: right;\n    }\n</style>\n<table border=\"1\" class=\"dataframe\">\n  <thead>\n    <tr style=\"text-align: right;\">\n      <th></th>\n      <th>Unnamed: 0</th>\n      <th>ident</th>\n      <th>actual_ident</th>\n      <th>departuretime</th>\n      <th>arrival_time</th>\n      <th>origin</th>\n      <th>destination</th>\n      <th>aircrafttype</th>\n      <th>meal_service</th>\n      <th>seats_cabin_first</th>\n      <th>seats_cabin_business</th>\n      <th>seats_cabin_coach</th>\n    </tr>\n  </thead>\n  <tbody>\n    <tr>\n      <td>0</td>\n      <td>0</td>\n      <td>UAL4282</td>\n      <td>ASQ4282</td>\n      <td>1588330800</td>\n      <td>1588340820</td>\n      <td>CYUL</td>\n      <td>KORD</td>\n      <td>E75L</td>\n      <td>Business: Refreshments / Economy: Food for sale</td>\n      <td>0</td>\n      <td>12</td>\n      <td>58</td>\n    </tr>\n    <tr>\n      <td>1</td>\n      <td>1</td>\n      <td>ACA7591</td>\n      <td>AC27591</td>\n      <td>1588335000</td>\n      <td>1588343880</td>\n      <td>CYUL</td>\n      <td>KORD</td>\n      <td>E75L</td>\n      <td>Business: Breakfast / Economy: Breakfast, Food...</td>\n      <td>0</td>\n      <td>12</td>\n      <td>64</td>\n    </tr>\n    <tr>\n      <td>2</td>\n      <td>2</td>\n      <td>UAL8371</td>\n      <td>AC27591</td>\n      <td>1588335000</td>\n      <td>1588343880</td>\n      <td>CYUL</td>\n      <td>KORD</td>\n      <td>E75L</td>\n      <td>Business: Breakfast / Economy: Food for sale</td>\n      <td>0</td>\n      <td>12</td>\n      <td>64</td>\n    </tr>\n    <tr>\n      <td>3</td>\n      <td>3</td>\n      <td>UAL4245</td>\n      <td>ASQ4245</td>\n      <td>1588341060</td>\n      <td>1588351080</td>\n      <td>CYUL</td>\n      <td>KORD</td>\n      <td>E75L</td>\n      <td>Business: Refreshments / Economy: Food for sale</td>\n      <td>0</td>\n      <td>12</td>\n      <td>58</td>\n    </tr>\n    <tr>\n      <td>4</td>\n      <td>4</td>\n      <td>UAL8481</td>\n      <td>AC27595</td>\n      <td>1588353300</td>\n      <td>1588362000</td>\n      <td>CYUL</td>\n      <td>KORD</td>\n      <td>E75L</td>\n      <td>Business: Meal / Economy: Food for sale</td>\n      <td>0</td>\n      <td>12</td>\n      <td>64</td>\n    </tr>\n    <tr>\n      <td>...</td>\n      <td>...</td>\n      <td>...</td>\n      <td>...</td>\n      <td>...</td>\n      <td>...</td>\n      <td>...</td>\n      <td>...</td>\n      <td>...</td>\n      <td>...</td>\n      <td>...</td>\n      <td>...</td>\n      <td>...</td>\n    </tr>\n    <tr>\n      <td>5818</td>\n      <td>5818</td>\n      <td>UAL464</td>\n      <td>NaN</td>\n      <td>1590514200</td>\n      <td>1590523860</td>\n      <td>KDEN</td>\n      <td>KPDX</td>\n      <td>A319</td>\n      <td>Business: Snack or brunch / Economy: No meal</td>\n      <td>0</td>\n      <td>12</td>\n      <td>114</td>\n    </tr>\n    <tr>\n      <td>5819</td>\n      <td>5819</td>\n      <td>SWA378</td>\n      <td>NaN</td>\n      <td>1590520500</td>\n      <td>1590529500</td>\n      <td>KDEN</td>\n      <td>KPDX</td>\n      <td>B738</td>\n      <td>Economy: No meal</td>\n      <td>0</td>\n      <td>0</td>\n      <td>175</td>\n    </tr>\n    <tr>\n      <td>5820</td>\n      <td>5820</td>\n      <td>DLH9070</td>\n      <td>UAL393</td>\n      <td>1590539460</td>\n      <td>1590549120</td>\n      <td>KDEN</td>\n      <td>KPDX</td>\n      <td>A319</td>\n      <td>Business: Snack or brunch / Economy: No meal</td>\n      <td>0</td>\n      <td>12</td>\n      <td>114</td>\n    </tr>\n    <tr>\n      <td>5821</td>\n      <td>5821</td>\n      <td>UAL393</td>\n      <td>NaN</td>\n      <td>1590539460</td>\n      <td>1590549120</td>\n      <td>KDEN</td>\n      <td>KPDX</td>\n      <td>A319</td>\n      <td>Business: Snack or brunch / Economy: No meal</td>\n      <td>0</td>\n      <td>12</td>\n      <td>114</td>\n    </tr>\n    <tr>\n      <td>5822</td>\n      <td>5822</td>\n      <td>SWA993</td>\n      <td>NaN</td>\n      <td>1590544800</td>\n      <td>1590554400</td>\n      <td>KDEN</td>\n      <td>KPDX</td>\n      <td>B738</td>\n      <td>Economy: No meal</td>\n      <td>0</td>\n      <td>0</td>\n      <td>175</td>\n    </tr>\n  </tbody>\n</table>\n<p>5823 rows × 12 columns</p>\n</div>",
      "text/plain": "      Unnamed: 0    ident actual_ident  departuretime  arrival_time origin  \\\n0              0  UAL4282      ASQ4282     1588330800    1588340820   CYUL   \n1              1  ACA7591      AC27591     1588335000    1588343880   CYUL   \n2              2  UAL8371      AC27591     1588335000    1588343880   CYUL   \n3              3  UAL4245      ASQ4245     1588341060    1588351080   CYUL   \n4              4  UAL8481      AC27595     1588353300    1588362000   CYUL   \n...          ...      ...          ...            ...           ...    ...   \n5818        5818   UAL464          NaN     1590514200    1590523860   KDEN   \n5819        5819   SWA378          NaN     1590520500    1590529500   KDEN   \n5820        5820  DLH9070       UAL393     1590539460    1590549120   KDEN   \n5821        5821   UAL393          NaN     1590539460    1590549120   KDEN   \n5822        5822   SWA993          NaN     1590544800    1590554400   KDEN   \n\n     destination aircrafttype  \\\n0           KORD         E75L   \n1           KORD         E75L   \n2           KORD         E75L   \n3           KORD         E75L   \n4           KORD         E75L   \n...          ...          ...   \n5818        KPDX         A319   \n5819        KPDX         B738   \n5820        KPDX         A319   \n5821        KPDX         A319   \n5822        KPDX         B738   \n\n                                           meal_service  seats_cabin_first  \\\n0       Business: Refreshments / Economy: Food for sale                  0   \n1     Business: Breakfast / Economy: Breakfast, Food...                  0   \n2          Business: Breakfast / Economy: Food for sale                  0   \n3       Business: Refreshments / Economy: Food for sale                  0   \n4               Business: Meal / Economy: Food for sale                  0   \n...                                                 ...                ...   \n5818       Business: Snack or brunch / Economy: No meal                  0   \n5819                                   Economy: No meal                  0   \n5820       Business: Snack or brunch / Economy: No meal                  0   \n5821       Business: Snack or brunch / Economy: No meal                  0   \n5822                                   Economy: No meal                  0   \n\n      seats_cabin_business  seats_cabin_coach  \n0                       12                 58  \n1                       12                 64  \n2                       12                 64  \n3                       12                 58  \n4                       12                 64  \n...                    ...                ...  \n5818                    12                114  \n5819                     0                175  \n5820                    12                114  \n5821                    12                114  \n5822                     0                175  \n\n[5823 rows x 12 columns]"
     },
     "execution_count": 81,
     "metadata": {},
     "output_type": "execute_result"
    }
   ],
   "source": [
    "flight_schedules = pd.read_csv('../data/flight_schedules.csv')\n",
    "flight_schedules"
   ]
  },
  {
   "cell_type": "code",
   "execution_count": 82,
   "metadata": {},
   "outputs": [
    {
     "data": {
      "text/html": "<div>\n<style scoped>\n    .dataframe tbody tr th:only-of-type {\n        vertical-align: middle;\n    }\n\n    .dataframe tbody tr th {\n        vertical-align: top;\n    }\n\n    .dataframe thead th {\n        text-align: right;\n    }\n</style>\n<table border=\"1\" class=\"dataframe\">\n  <thead>\n    <tr style=\"text-align: right;\">\n      <th></th>\n      <th>Unnamed: 0</th>\n      <th>origin</th>\n      <th>destination</th>\n      <th>0</th>\n    </tr>\n  </thead>\n  <tbody>\n    <tr>\n      <td>0</td>\n      <td>0</td>\n      <td>CYHM</td>\n      <td>KJFK</td>\n      <td>1</td>\n    </tr>\n    <tr>\n      <td>1</td>\n      <td>1</td>\n      <td>CYUL</td>\n      <td>KORD</td>\n      <td>1</td>\n    </tr>\n    <tr>\n      <td>2</td>\n      <td>2</td>\n      <td>CYVR</td>\n      <td>KLAX</td>\n      <td>1</td>\n    </tr>\n    <tr>\n      <td>3</td>\n      <td>3</td>\n      <td>CYYZ</td>\n      <td>KIAH</td>\n      <td>2</td>\n    </tr>\n    <tr>\n      <td>4</td>\n      <td>4</td>\n      <td>CYYZ</td>\n      <td>KJFK</td>\n      <td>1</td>\n    </tr>\n    <tr>\n      <td>5</td>\n      <td>5</td>\n      <td>CYYZ</td>\n      <td>KLAX</td>\n      <td>1</td>\n    </tr>\n    <tr>\n      <td>6</td>\n      <td>6</td>\n      <td>CYYZ</td>\n      <td>KORD</td>\n      <td>4</td>\n    </tr>\n    <tr>\n      <td>7</td>\n      <td>7</td>\n      <td>EBBR</td>\n      <td>KMIA</td>\n      <td>2</td>\n    </tr>\n    <tr>\n      <td>8</td>\n      <td>8</td>\n      <td>EBBR</td>\n      <td>KORD</td>\n      <td>1</td>\n    </tr>\n    <tr>\n      <td>9</td>\n      <td>9</td>\n      <td>EBLG</td>\n      <td>KATL</td>\n      <td>1</td>\n    </tr>\n    <tr>\n      <td>10</td>\n      <td>10</td>\n      <td>EBLG</td>\n      <td>KJFK</td>\n      <td>2</td>\n    </tr>\n    <tr>\n      <td>11</td>\n      <td>11</td>\n      <td>EBLG</td>\n      <td>KORD</td>\n      <td>1</td>\n    </tr>\n    <tr>\n      <td>12</td>\n      <td>12</td>\n      <td>EDDF</td>\n      <td>KATL</td>\n      <td>4</td>\n    </tr>\n    <tr>\n      <td>13</td>\n      <td>13</td>\n      <td>EDDF</td>\n      <td>KIAH</td>\n      <td>1</td>\n    </tr>\n    <tr>\n      <td>14</td>\n      <td>14</td>\n      <td>EDDF</td>\n      <td>KJFK</td>\n      <td>2</td>\n    </tr>\n    <tr>\n      <td>15</td>\n      <td>15</td>\n      <td>EDDF</td>\n      <td>KLAX</td>\n      <td>1</td>\n    </tr>\n    <tr>\n      <td>16</td>\n      <td>16</td>\n      <td>EDDF</td>\n      <td>KORD</td>\n      <td>7</td>\n    </tr>\n    <tr>\n      <td>17</td>\n      <td>17</td>\n      <td>EDDN</td>\n      <td>KMIA</td>\n      <td>1</td>\n    </tr>\n    <tr>\n      <td>18</td>\n      <td>18</td>\n      <td>EDDP</td>\n      <td>KJFK</td>\n      <td>1</td>\n    </tr>\n    <tr>\n      <td>19</td>\n      <td>19</td>\n      <td>EGLL</td>\n      <td>KATL</td>\n      <td>1</td>\n    </tr>\n    <tr>\n      <td>20</td>\n      <td>20</td>\n      <td>EGLL</td>\n      <td>KJFK</td>\n      <td>6</td>\n    </tr>\n    <tr>\n      <td>21</td>\n      <td>21</td>\n      <td>EGLL</td>\n      <td>KLAX</td>\n      <td>4</td>\n    </tr>\n    <tr>\n      <td>22</td>\n      <td>22</td>\n      <td>EGLL</td>\n      <td>KMIA</td>\n      <td>2</td>\n    </tr>\n    <tr>\n      <td>23</td>\n      <td>23</td>\n      <td>EGLL</td>\n      <td>KORD</td>\n      <td>1</td>\n    </tr>\n    <tr>\n      <td>24</td>\n      <td>24</td>\n      <td>EHAM</td>\n      <td>KATL</td>\n      <td>2</td>\n    </tr>\n    <tr>\n      <td>25</td>\n      <td>25</td>\n      <td>EHAM</td>\n      <td>KJFK</td>\n      <td>1</td>\n    </tr>\n    <tr>\n      <td>26</td>\n      <td>26</td>\n      <td>EHAM</td>\n      <td>KLAX</td>\n      <td>1</td>\n    </tr>\n    <tr>\n      <td>27</td>\n      <td>27</td>\n      <td>EHAM</td>\n      <td>KMIA</td>\n      <td>1</td>\n    </tr>\n    <tr>\n      <td>28</td>\n      <td>28</td>\n      <td>EHBK</td>\n      <td>KATL</td>\n      <td>2</td>\n    </tr>\n    <tr>\n      <td>29</td>\n      <td>29</td>\n      <td>EIDW</td>\n      <td>KJFK</td>\n      <td>1</td>\n    </tr>\n    <tr>\n      <td>30</td>\n      <td>30</td>\n      <td>ELLX</td>\n      <td>KATL</td>\n      <td>1</td>\n    </tr>\n    <tr>\n      <td>31</td>\n      <td>31</td>\n      <td>ELLX</td>\n      <td>KIAH</td>\n      <td>1</td>\n    </tr>\n    <tr>\n      <td>32</td>\n      <td>32</td>\n      <td>ELLX</td>\n      <td>KLAX</td>\n      <td>1</td>\n    </tr>\n    <tr>\n      <td>33</td>\n      <td>33</td>\n      <td>ELLX</td>\n      <td>KMIA</td>\n      <td>1</td>\n    </tr>\n    <tr>\n      <td>34</td>\n      <td>34</td>\n      <td>KABQ</td>\n      <td>KIAH</td>\n      <td>2</td>\n    </tr>\n    <tr>\n      <td>35</td>\n      <td>35</td>\n      <td>KABQ</td>\n      <td>KLAX</td>\n      <td>2</td>\n    </tr>\n    <tr>\n      <td>36</td>\n      <td>36</td>\n      <td>KABY</td>\n      <td>KATL</td>\n      <td>1</td>\n    </tr>\n    <tr>\n      <td>37</td>\n      <td>37</td>\n      <td>KAEX</td>\n      <td>KATL</td>\n      <td>2</td>\n    </tr>\n    <tr>\n      <td>38</td>\n      <td>38</td>\n      <td>KAEX</td>\n      <td>KIAH</td>\n      <td>2</td>\n    </tr>\n    <tr>\n      <td>39</td>\n      <td>39</td>\n      <td>KAEX</td>\n      <td>KMIA</td>\n      <td>1</td>\n    </tr>\n    <tr>\n      <td>40</td>\n      <td>40</td>\n      <td>KAFW</td>\n      <td>KIAH</td>\n      <td>1</td>\n    </tr>\n    <tr>\n      <td>41</td>\n      <td>41</td>\n      <td>KAFW</td>\n      <td>KLAX</td>\n      <td>1</td>\n    </tr>\n    <tr>\n      <td>42</td>\n      <td>42</td>\n      <td>KAGS</td>\n      <td>KATL</td>\n      <td>1</td>\n    </tr>\n    <tr>\n      <td>43</td>\n      <td>43</td>\n      <td>KAPF</td>\n      <td>KMIA</td>\n      <td>1</td>\n    </tr>\n    <tr>\n      <td>44</td>\n      <td>44</td>\n      <td>KAST</td>\n      <td>KPDX</td>\n      <td>2</td>\n    </tr>\n    <tr>\n      <td>45</td>\n      <td>45</td>\n      <td>KATL</td>\n      <td>KIAH</td>\n      <td>4</td>\n    </tr>\n    <tr>\n      <td>46</td>\n      <td>46</td>\n      <td>KATL</td>\n      <td>KLAX</td>\n      <td>3</td>\n    </tr>\n    <tr>\n      <td>47</td>\n      <td>47</td>\n      <td>KATL</td>\n      <td>KMIA</td>\n      <td>4</td>\n    </tr>\n    <tr>\n      <td>48</td>\n      <td>48</td>\n      <td>KATL</td>\n      <td>KPDX</td>\n      <td>1</td>\n    </tr>\n    <tr>\n      <td>49</td>\n      <td>49</td>\n      <td>KAUS</td>\n      <td>KIAH</td>\n      <td>2</td>\n    </tr>\n    <tr>\n      <td>50</td>\n      <td>50</td>\n      <td>KBFI</td>\n      <td>KPDX</td>\n      <td>2</td>\n    </tr>\n    <tr>\n      <td>51</td>\n      <td>51</td>\n      <td>KBIH</td>\n      <td>KPDX</td>\n      <td>1</td>\n    </tr>\n    <tr>\n      <td>52</td>\n      <td>52</td>\n      <td>KBKV</td>\n      <td>KMIA</td>\n      <td>1</td>\n    </tr>\n    <tr>\n      <td>53</td>\n      <td>53</td>\n      <td>KBOI</td>\n      <td>KPDX</td>\n      <td>1</td>\n    </tr>\n    <tr>\n      <td>54</td>\n      <td>54</td>\n      <td>KBOS</td>\n      <td>KMIA</td>\n      <td>1</td>\n    </tr>\n    <tr>\n      <td>55</td>\n      <td>55</td>\n      <td>KBUR</td>\n      <td>KPDX</td>\n      <td>1</td>\n    </tr>\n    <tr>\n      <td>56</td>\n      <td>56</td>\n      <td>KBWI</td>\n      <td>KPDX</td>\n      <td>1</td>\n    </tr>\n    <tr>\n      <td>57</td>\n      <td>57</td>\n      <td>KCVG</td>\n      <td>KPDX</td>\n      <td>1</td>\n    </tr>\n    <tr>\n      <td>58</td>\n      <td>58</td>\n      <td>KCVO</td>\n      <td>KPDX</td>\n      <td>2</td>\n    </tr>\n    <tr>\n      <td>59</td>\n      <td>59</td>\n      <td>KDEN</td>\n      <td>KPDX</td>\n      <td>3</td>\n    </tr>\n  </tbody>\n</table>\n</div>",
      "text/plain": "    Unnamed: 0 origin destination  0\n0            0   CYHM        KJFK  1\n1            1   CYUL        KORD  1\n2            2   CYVR        KLAX  1\n3            3   CYYZ        KIAH  2\n4            4   CYYZ        KJFK  1\n5            5   CYYZ        KLAX  1\n6            6   CYYZ        KORD  4\n7            7   EBBR        KMIA  2\n8            8   EBBR        KORD  1\n9            9   EBLG        KATL  1\n10          10   EBLG        KJFK  2\n11          11   EBLG        KORD  1\n12          12   EDDF        KATL  4\n13          13   EDDF        KIAH  1\n14          14   EDDF        KJFK  2\n15          15   EDDF        KLAX  1\n16          16   EDDF        KORD  7\n17          17   EDDN        KMIA  1\n18          18   EDDP        KJFK  1\n19          19   EGLL        KATL  1\n20          20   EGLL        KJFK  6\n21          21   EGLL        KLAX  4\n22          22   EGLL        KMIA  2\n23          23   EGLL        KORD  1\n24          24   EHAM        KATL  2\n25          25   EHAM        KJFK  1\n26          26   EHAM        KLAX  1\n27          27   EHAM        KMIA  1\n28          28   EHBK        KATL  2\n29          29   EIDW        KJFK  1\n30          30   ELLX        KATL  1\n31          31   ELLX        KIAH  1\n32          32   ELLX        KLAX  1\n33          33   ELLX        KMIA  1\n34          34   KABQ        KIAH  2\n35          35   KABQ        KLAX  2\n36          36   KABY        KATL  1\n37          37   KAEX        KATL  2\n38          38   KAEX        KIAH  2\n39          39   KAEX        KMIA  1\n40          40   KAFW        KIAH  1\n41          41   KAFW        KLAX  1\n42          42   KAGS        KATL  1\n43          43   KAPF        KMIA  1\n44          44   KAST        KPDX  2\n45          45   KATL        KIAH  4\n46          46   KATL        KLAX  3\n47          47   KATL        KMIA  4\n48          48   KATL        KPDX  1\n49          49   KAUS        KIAH  2\n50          50   KBFI        KPDX  2\n51          51   KBIH        KPDX  1\n52          52   KBKV        KMIA  1\n53          53   KBOI        KPDX  1\n54          54   KBOS        KMIA  1\n55          55   KBUR        KPDX  1\n56          56   KBWI        KPDX  1\n57          57   KCVG        KPDX  1\n58          58   KCVO        KPDX  2\n59          59   KDEN        KPDX  3"
     },
     "execution_count": 82,
     "metadata": {},
     "output_type": "execute_result"
    }
   ],
   "source": [
    "flight_combinations = pd.read_csv('../data/flight_combinations.csv')\n",
    "flight_combinations"
   ]
  },
  {
   "cell_type": "code",
   "execution_count": null,
   "metadata": {},
   "outputs": [],
   "source": [
    "flight_combinations['origin'].unique()"
   ]
  },
  {
   "cell_type": "code",
   "execution_count": 49,
   "metadata": {},
   "outputs": [
    {
     "data": {
      "text/plain": "33"
     },
     "execution_count": 49,
     "metadata": {},
     "output_type": "execute_result"
    }
   ],
   "source": [
    "len(flight_combinations['origin'].unique())"
   ]
  },
  {
   "cell_type": "code",
   "execution_count": 48,
   "metadata": {},
   "outputs": [
    {
     "data": {
      "text/plain": "array(['KJFK', 'KORD', 'KLAX', 'KIAH', 'KMIA', 'KATL', 'KPDX'],\n      dtype=object)"
     },
     "execution_count": 48,
     "metadata": {},
     "output_type": "execute_result"
    }
   ],
   "source": [
    "flight_combinations['destination'].unique()"
   ]
  },
  {
   "cell_type": "markdown",
   "metadata": {},
   "source": [
    "Will have to programmatically find a way to create a bunch if IATA codes out of the ICAO codes shown here. There are only 33 unique origins and 7 unique destinations making a total of 40 different airports studied. In total, we have 59 combinations studied. "
   ]
  },
  {
   "cell_type": "markdown",
   "metadata": {},
   "source": [
    "## Making the IATA Dictionaries"
   ]
  },
  {
   "cell_type": "code",
   "execution_count": 51,
   "metadata": {},
   "outputs": [],
   "source": [
    "origin_IATA_dict = {k:[] for k in flight_combinations['origin'].unique()}"
   ]
  },
  {
   "cell_type": "code",
   "execution_count": 65,
   "metadata": {},
   "outputs": [],
   "source": [
    "destination_IATA_dict = {k:[] for k in flight_combinations['destination'].unique()}"
   ]
  },
  {
   "cell_type": "code",
   "execution_count": 56,
   "metadata": {},
   "outputs": [],
   "source": [
    "origin_IATA_list = ['YHM', 'YUL', 'YVR', 'YYZ', 'BRU', 'LGG', 'FRA', 'NUE', 'LEJ', 'LHR', 'AMS', 'MST', 'DUB', 'LUX', 'ABQ', 'ABY', 'AEX', 'AFW', 'AGS', 'APF', 'AST', 'ATL', 'AUS', 'BFI', 'BIH', 'BKV', 'BOI', 'BOS', 'BUR', 'BWI', 'CVG', 'CVO', 'DEN']"
   ]
  },
  {
   "cell_type": "code",
   "execution_count": 67,
   "metadata": {},
   "outputs": [],
   "source": [
    "destination_IATA_list = ['JFK', 'ORD', 'LAX', 'IAH', 'MIA', 'ATL', 'PDX']"
   ]
  },
  {
   "cell_type": "code",
   "execution_count": 63,
   "metadata": {},
   "outputs": [],
   "source": [
    "for k,v in enumerate(origin_IATA_dict):\n",
    "    origin_IATA_dict[v].append(origin_IATA_list[k])"
   ]
  },
  {
   "cell_type": "code",
   "execution_count": 69,
   "metadata": {},
   "outputs": [],
   "source": [
    "for k,v in enumerate(destination_IATA_dict):\n",
    "    destination_IATA_dict[v].append(destination_IATA_list[k])"
   ]
  },
  {
   "cell_type": "markdown",
   "metadata": {},
   "source": [
    "### "
   ]
  },
  {
   "cell_type": "markdown",
   "metadata": {},
   "source": [
    "## Converts Time to Datetime"
   ]
  },
  {
   "cell_type": "code",
   "execution_count": 257,
   "metadata": {},
   "outputs": [],
   "source": [
    "flight_schedules['departure_date'] = [datetime.datetime.fromtimestamp(flight_schedules.loc[k, 'departuretime']).strftime('%Y-%m') for k in range(len(flight_schedules))]"
   ]
  },
  {
   "cell_type": "code",
   "execution_count": 258,
   "metadata": {},
   "outputs": [],
   "source": [
    "flight_schedules['future_departures'] = flight_schedules['departure_date'].str.replace('2020', '2021')"
   ]
  },
  {
   "cell_type": "code",
   "execution_count": 260,
   "metadata": {},
   "outputs": [
    {
     "data": {
      "text/html": "<div>\n<style scoped>\n    .dataframe tbody tr th:only-of-type {\n        vertical-align: middle;\n    }\n\n    .dataframe tbody tr th {\n        vertical-align: top;\n    }\n\n    .dataframe thead th {\n        text-align: right;\n    }\n</style>\n<table border=\"1\" class=\"dataframe\">\n  <thead>\n    <tr style=\"text-align: right;\">\n      <th></th>\n      <th>Unnamed: 0</th>\n      <th>ident</th>\n      <th>actual_ident</th>\n      <th>departuretime</th>\n      <th>arrival_time</th>\n      <th>origin</th>\n      <th>destination</th>\n      <th>aircrafttype</th>\n      <th>meal_service</th>\n      <th>seats_cabin_first</th>\n      <th>seats_cabin_business</th>\n      <th>seats_cabin_coach</th>\n      <th>departure_date</th>\n      <th>future_departures</th>\n      <th>destination_IATA</th>\n      <th>origin_IATA</th>\n    </tr>\n  </thead>\n  <tbody>\n    <tr>\n      <td>0</td>\n      <td>0</td>\n      <td>UAL4282</td>\n      <td>ASQ4282</td>\n      <td>1588330800</td>\n      <td>1588340820</td>\n      <td>CYUL</td>\n      <td>KORD</td>\n      <td>E75L</td>\n      <td>Business: Refreshments / Economy: Food for sale</td>\n      <td>0</td>\n      <td>12</td>\n      <td>58</td>\n      <td>2020-05</td>\n      <td>2021-05</td>\n      <td>ORD</td>\n      <td>YUL</td>\n    </tr>\n    <tr>\n      <td>1</td>\n      <td>1</td>\n      <td>ACA7591</td>\n      <td>AC27591</td>\n      <td>1588335000</td>\n      <td>1588343880</td>\n      <td>CYUL</td>\n      <td>KORD</td>\n      <td>E75L</td>\n      <td>Business: Breakfast / Economy: Breakfast, Food...</td>\n      <td>0</td>\n      <td>12</td>\n      <td>64</td>\n      <td>2020-05</td>\n      <td>2021-05</td>\n      <td>ORD</td>\n      <td>YUL</td>\n    </tr>\n    <tr>\n      <td>2</td>\n      <td>2</td>\n      <td>UAL8371</td>\n      <td>AC27591</td>\n      <td>1588335000</td>\n      <td>1588343880</td>\n      <td>CYUL</td>\n      <td>KORD</td>\n      <td>E75L</td>\n      <td>Business: Breakfast / Economy: Food for sale</td>\n      <td>0</td>\n      <td>12</td>\n      <td>64</td>\n      <td>2020-05</td>\n      <td>2021-05</td>\n      <td>ORD</td>\n      <td>YUL</td>\n    </tr>\n    <tr>\n      <td>3</td>\n      <td>3</td>\n      <td>UAL4245</td>\n      <td>ASQ4245</td>\n      <td>1588341060</td>\n      <td>1588351080</td>\n      <td>CYUL</td>\n      <td>KORD</td>\n      <td>E75L</td>\n      <td>Business: Refreshments / Economy: Food for sale</td>\n      <td>0</td>\n      <td>12</td>\n      <td>58</td>\n      <td>2020-05</td>\n      <td>2021-05</td>\n      <td>ORD</td>\n      <td>YUL</td>\n    </tr>\n    <tr>\n      <td>4</td>\n      <td>4</td>\n      <td>UAL8481</td>\n      <td>AC27595</td>\n      <td>1588353300</td>\n      <td>1588362000</td>\n      <td>CYUL</td>\n      <td>KORD</td>\n      <td>E75L</td>\n      <td>Business: Meal / Economy: Food for sale</td>\n      <td>0</td>\n      <td>12</td>\n      <td>64</td>\n      <td>2020-05</td>\n      <td>2021-05</td>\n      <td>ORD</td>\n      <td>YUL</td>\n    </tr>\n    <tr>\n      <td>...</td>\n      <td>...</td>\n      <td>...</td>\n      <td>...</td>\n      <td>...</td>\n      <td>...</td>\n      <td>...</td>\n      <td>...</td>\n      <td>...</td>\n      <td>...</td>\n      <td>...</td>\n      <td>...</td>\n      <td>...</td>\n      <td>...</td>\n      <td>...</td>\n      <td>...</td>\n      <td>...</td>\n    </tr>\n    <tr>\n      <td>5818</td>\n      <td>5818</td>\n      <td>UAL464</td>\n      <td>NaN</td>\n      <td>1590514200</td>\n      <td>1590523860</td>\n      <td>KDEN</td>\n      <td>KPDX</td>\n      <td>A319</td>\n      <td>Business: Snack or brunch / Economy: No meal</td>\n      <td>0</td>\n      <td>12</td>\n      <td>114</td>\n      <td>2020-05</td>\n      <td>2021-05</td>\n      <td>PDX</td>\n      <td>DEN</td>\n    </tr>\n    <tr>\n      <td>5819</td>\n      <td>5819</td>\n      <td>SWA378</td>\n      <td>NaN</td>\n      <td>1590520500</td>\n      <td>1590529500</td>\n      <td>KDEN</td>\n      <td>KPDX</td>\n      <td>B738</td>\n      <td>Economy: No meal</td>\n      <td>0</td>\n      <td>0</td>\n      <td>175</td>\n      <td>2020-05</td>\n      <td>2021-05</td>\n      <td>PDX</td>\n      <td>DEN</td>\n    </tr>\n    <tr>\n      <td>5820</td>\n      <td>5820</td>\n      <td>DLH9070</td>\n      <td>UAL393</td>\n      <td>1590539460</td>\n      <td>1590549120</td>\n      <td>KDEN</td>\n      <td>KPDX</td>\n      <td>A319</td>\n      <td>Business: Snack or brunch / Economy: No meal</td>\n      <td>0</td>\n      <td>12</td>\n      <td>114</td>\n      <td>2020-05</td>\n      <td>2021-05</td>\n      <td>PDX</td>\n      <td>DEN</td>\n    </tr>\n    <tr>\n      <td>5821</td>\n      <td>5821</td>\n      <td>UAL393</td>\n      <td>NaN</td>\n      <td>1590539460</td>\n      <td>1590549120</td>\n      <td>KDEN</td>\n      <td>KPDX</td>\n      <td>A319</td>\n      <td>Business: Snack or brunch / Economy: No meal</td>\n      <td>0</td>\n      <td>12</td>\n      <td>114</td>\n      <td>2020-05</td>\n      <td>2021-05</td>\n      <td>PDX</td>\n      <td>DEN</td>\n    </tr>\n    <tr>\n      <td>5822</td>\n      <td>5822</td>\n      <td>SWA993</td>\n      <td>NaN</td>\n      <td>1590544800</td>\n      <td>1590554400</td>\n      <td>KDEN</td>\n      <td>KPDX</td>\n      <td>B738</td>\n      <td>Economy: No meal</td>\n      <td>0</td>\n      <td>0</td>\n      <td>175</td>\n      <td>2020-05</td>\n      <td>2021-05</td>\n      <td>PDX</td>\n      <td>DEN</td>\n    </tr>\n  </tbody>\n</table>\n<p>5823 rows × 16 columns</p>\n</div>",
      "text/plain": "      Unnamed: 0    ident actual_ident  departuretime  arrival_time origin  \\\n0              0  UAL4282      ASQ4282     1588330800    1588340820   CYUL   \n1              1  ACA7591      AC27591     1588335000    1588343880   CYUL   \n2              2  UAL8371      AC27591     1588335000    1588343880   CYUL   \n3              3  UAL4245      ASQ4245     1588341060    1588351080   CYUL   \n4              4  UAL8481      AC27595     1588353300    1588362000   CYUL   \n...          ...      ...          ...            ...           ...    ...   \n5818        5818   UAL464          NaN     1590514200    1590523860   KDEN   \n5819        5819   SWA378          NaN     1590520500    1590529500   KDEN   \n5820        5820  DLH9070       UAL393     1590539460    1590549120   KDEN   \n5821        5821   UAL393          NaN     1590539460    1590549120   KDEN   \n5822        5822   SWA993          NaN     1590544800    1590554400   KDEN   \n\n     destination aircrafttype  \\\n0           KORD         E75L   \n1           KORD         E75L   \n2           KORD         E75L   \n3           KORD         E75L   \n4           KORD         E75L   \n...          ...          ...   \n5818        KPDX         A319   \n5819        KPDX         B738   \n5820        KPDX         A319   \n5821        KPDX         A319   \n5822        KPDX         B738   \n\n                                           meal_service  seats_cabin_first  \\\n0       Business: Refreshments / Economy: Food for sale                  0   \n1     Business: Breakfast / Economy: Breakfast, Food...                  0   \n2          Business: Breakfast / Economy: Food for sale                  0   \n3       Business: Refreshments / Economy: Food for sale                  0   \n4               Business: Meal / Economy: Food for sale                  0   \n...                                                 ...                ...   \n5818       Business: Snack or brunch / Economy: No meal                  0   \n5819                                   Economy: No meal                  0   \n5820       Business: Snack or brunch / Economy: No meal                  0   \n5821       Business: Snack or brunch / Economy: No meal                  0   \n5822                                   Economy: No meal                  0   \n\n      seats_cabin_business  seats_cabin_coach departure_date  \\\n0                       12                 58        2020-05   \n1                       12                 64        2020-05   \n2                       12                 64        2020-05   \n3                       12                 58        2020-05   \n4                       12                 64        2020-05   \n...                    ...                ...            ...   \n5818                    12                114        2020-05   \n5819                     0                175        2020-05   \n5820                    12                114        2020-05   \n5821                    12                114        2020-05   \n5822                     0                175        2020-05   \n\n     future_departures destination_IATA origin_IATA  \n0              2021-05              ORD         YUL  \n1              2021-05              ORD         YUL  \n2              2021-05              ORD         YUL  \n3              2021-05              ORD         YUL  \n4              2021-05              ORD         YUL  \n...                ...              ...         ...  \n5818           2021-05              PDX         DEN  \n5819           2021-05              PDX         DEN  \n5820           2021-05              PDX         DEN  \n5821           2021-05              PDX         DEN  \n5822           2021-05              PDX         DEN  \n\n[5823 rows x 16 columns]"
     },
     "execution_count": 260,
     "metadata": {},
     "output_type": "execute_result"
    }
   ],
   "source": [
    "flight_schedules"
   ]
  },
  {
   "cell_type": "markdown",
   "metadata": {},
   "source": [
    "## Adds IATA codes"
   ]
  },
  {
   "cell_type": "code",
   "execution_count": 261,
   "metadata": {},
   "outputs": [],
   "source": [
    "flight_schedules['destination_IATA'] = flight_schedules['destination'].map(destination_IATA_dict)"
   ]
  },
  {
   "cell_type": "code",
   "execution_count": 262,
   "metadata": {},
   "outputs": [],
   "source": [
    "flight_schedules['origin_IATA'] = flight_schedules['origin'].map(origin_IATA_dict)"
   ]
  },
  {
   "cell_type": "code",
   "execution_count": 264,
   "metadata": {},
   "outputs": [
    {
     "data": {
      "text/html": "<div>\n<style scoped>\n    .dataframe tbody tr th:only-of-type {\n        vertical-align: middle;\n    }\n\n    .dataframe tbody tr th {\n        vertical-align: top;\n    }\n\n    .dataframe thead th {\n        text-align: right;\n    }\n</style>\n<table border=\"1\" class=\"dataframe\">\n  <thead>\n    <tr style=\"text-align: right;\">\n      <th></th>\n      <th>Unnamed: 0</th>\n      <th>ident</th>\n      <th>actual_ident</th>\n      <th>departuretime</th>\n      <th>arrival_time</th>\n      <th>origin</th>\n      <th>destination</th>\n      <th>aircrafttype</th>\n      <th>meal_service</th>\n      <th>seats_cabin_first</th>\n      <th>seats_cabin_business</th>\n      <th>seats_cabin_coach</th>\n      <th>departure_date</th>\n      <th>future_departures</th>\n      <th>destination_IATA</th>\n      <th>origin_IATA</th>\n    </tr>\n  </thead>\n  <tbody>\n    <tr>\n      <td>0</td>\n      <td>0</td>\n      <td>UAL4282</td>\n      <td>ASQ4282</td>\n      <td>1588330800</td>\n      <td>1588340820</td>\n      <td>CYUL</td>\n      <td>KORD</td>\n      <td>E75L</td>\n      <td>Business: Refreshments / Economy: Food for sale</td>\n      <td>0</td>\n      <td>12</td>\n      <td>58</td>\n      <td>2020-05</td>\n      <td>2021-05</td>\n      <td>[ORD]</td>\n      <td>[YUL]</td>\n    </tr>\n    <tr>\n      <td>1</td>\n      <td>1</td>\n      <td>ACA7591</td>\n      <td>AC27591</td>\n      <td>1588335000</td>\n      <td>1588343880</td>\n      <td>CYUL</td>\n      <td>KORD</td>\n      <td>E75L</td>\n      <td>Business: Breakfast / Economy: Breakfast, Food...</td>\n      <td>0</td>\n      <td>12</td>\n      <td>64</td>\n      <td>2020-05</td>\n      <td>2021-05</td>\n      <td>[ORD]</td>\n      <td>[YUL]</td>\n    </tr>\n    <tr>\n      <td>2</td>\n      <td>2</td>\n      <td>UAL8371</td>\n      <td>AC27591</td>\n      <td>1588335000</td>\n      <td>1588343880</td>\n      <td>CYUL</td>\n      <td>KORD</td>\n      <td>E75L</td>\n      <td>Business: Breakfast / Economy: Food for sale</td>\n      <td>0</td>\n      <td>12</td>\n      <td>64</td>\n      <td>2020-05</td>\n      <td>2021-05</td>\n      <td>[ORD]</td>\n      <td>[YUL]</td>\n    </tr>\n    <tr>\n      <td>3</td>\n      <td>3</td>\n      <td>UAL4245</td>\n      <td>ASQ4245</td>\n      <td>1588341060</td>\n      <td>1588351080</td>\n      <td>CYUL</td>\n      <td>KORD</td>\n      <td>E75L</td>\n      <td>Business: Refreshments / Economy: Food for sale</td>\n      <td>0</td>\n      <td>12</td>\n      <td>58</td>\n      <td>2020-05</td>\n      <td>2021-05</td>\n      <td>[ORD]</td>\n      <td>[YUL]</td>\n    </tr>\n    <tr>\n      <td>4</td>\n      <td>4</td>\n      <td>UAL8481</td>\n      <td>AC27595</td>\n      <td>1588353300</td>\n      <td>1588362000</td>\n      <td>CYUL</td>\n      <td>KORD</td>\n      <td>E75L</td>\n      <td>Business: Meal / Economy: Food for sale</td>\n      <td>0</td>\n      <td>12</td>\n      <td>64</td>\n      <td>2020-05</td>\n      <td>2021-05</td>\n      <td>[ORD]</td>\n      <td>[YUL]</td>\n    </tr>\n    <tr>\n      <td>...</td>\n      <td>...</td>\n      <td>...</td>\n      <td>...</td>\n      <td>...</td>\n      <td>...</td>\n      <td>...</td>\n      <td>...</td>\n      <td>...</td>\n      <td>...</td>\n      <td>...</td>\n      <td>...</td>\n      <td>...</td>\n      <td>...</td>\n      <td>...</td>\n      <td>...</td>\n      <td>...</td>\n    </tr>\n    <tr>\n      <td>5818</td>\n      <td>5818</td>\n      <td>UAL464</td>\n      <td>NaN</td>\n      <td>1590514200</td>\n      <td>1590523860</td>\n      <td>KDEN</td>\n      <td>KPDX</td>\n      <td>A319</td>\n      <td>Business: Snack or brunch / Economy: No meal</td>\n      <td>0</td>\n      <td>12</td>\n      <td>114</td>\n      <td>2020-05</td>\n      <td>2021-05</td>\n      <td>[PDX]</td>\n      <td>[DEN]</td>\n    </tr>\n    <tr>\n      <td>5819</td>\n      <td>5819</td>\n      <td>SWA378</td>\n      <td>NaN</td>\n      <td>1590520500</td>\n      <td>1590529500</td>\n      <td>KDEN</td>\n      <td>KPDX</td>\n      <td>B738</td>\n      <td>Economy: No meal</td>\n      <td>0</td>\n      <td>0</td>\n      <td>175</td>\n      <td>2020-05</td>\n      <td>2021-05</td>\n      <td>[PDX]</td>\n      <td>[DEN]</td>\n    </tr>\n    <tr>\n      <td>5820</td>\n      <td>5820</td>\n      <td>DLH9070</td>\n      <td>UAL393</td>\n      <td>1590539460</td>\n      <td>1590549120</td>\n      <td>KDEN</td>\n      <td>KPDX</td>\n      <td>A319</td>\n      <td>Business: Snack or brunch / Economy: No meal</td>\n      <td>0</td>\n      <td>12</td>\n      <td>114</td>\n      <td>2020-05</td>\n      <td>2021-05</td>\n      <td>[PDX]</td>\n      <td>[DEN]</td>\n    </tr>\n    <tr>\n      <td>5821</td>\n      <td>5821</td>\n      <td>UAL393</td>\n      <td>NaN</td>\n      <td>1590539460</td>\n      <td>1590549120</td>\n      <td>KDEN</td>\n      <td>KPDX</td>\n      <td>A319</td>\n      <td>Business: Snack or brunch / Economy: No meal</td>\n      <td>0</td>\n      <td>12</td>\n      <td>114</td>\n      <td>2020-05</td>\n      <td>2021-05</td>\n      <td>[PDX]</td>\n      <td>[DEN]</td>\n    </tr>\n    <tr>\n      <td>5822</td>\n      <td>5822</td>\n      <td>SWA993</td>\n      <td>NaN</td>\n      <td>1590544800</td>\n      <td>1590554400</td>\n      <td>KDEN</td>\n      <td>KPDX</td>\n      <td>B738</td>\n      <td>Economy: No meal</td>\n      <td>0</td>\n      <td>0</td>\n      <td>175</td>\n      <td>2020-05</td>\n      <td>2021-05</td>\n      <td>[PDX]</td>\n      <td>[DEN]</td>\n    </tr>\n  </tbody>\n</table>\n<p>5823 rows × 16 columns</p>\n</div>",
      "text/plain": "      Unnamed: 0    ident actual_ident  departuretime  arrival_time origin  \\\n0              0  UAL4282      ASQ4282     1588330800    1588340820   CYUL   \n1              1  ACA7591      AC27591     1588335000    1588343880   CYUL   \n2              2  UAL8371      AC27591     1588335000    1588343880   CYUL   \n3              3  UAL4245      ASQ4245     1588341060    1588351080   CYUL   \n4              4  UAL8481      AC27595     1588353300    1588362000   CYUL   \n...          ...      ...          ...            ...           ...    ...   \n5818        5818   UAL464          NaN     1590514200    1590523860   KDEN   \n5819        5819   SWA378          NaN     1590520500    1590529500   KDEN   \n5820        5820  DLH9070       UAL393     1590539460    1590549120   KDEN   \n5821        5821   UAL393          NaN     1590539460    1590549120   KDEN   \n5822        5822   SWA993          NaN     1590544800    1590554400   KDEN   \n\n     destination aircrafttype  \\\n0           KORD         E75L   \n1           KORD         E75L   \n2           KORD         E75L   \n3           KORD         E75L   \n4           KORD         E75L   \n...          ...          ...   \n5818        KPDX         A319   \n5819        KPDX         B738   \n5820        KPDX         A319   \n5821        KPDX         A319   \n5822        KPDX         B738   \n\n                                           meal_service  seats_cabin_first  \\\n0       Business: Refreshments / Economy: Food for sale                  0   \n1     Business: Breakfast / Economy: Breakfast, Food...                  0   \n2          Business: Breakfast / Economy: Food for sale                  0   \n3       Business: Refreshments / Economy: Food for sale                  0   \n4               Business: Meal / Economy: Food for sale                  0   \n...                                                 ...                ...   \n5818       Business: Snack or brunch / Economy: No meal                  0   \n5819                                   Economy: No meal                  0   \n5820       Business: Snack or brunch / Economy: No meal                  0   \n5821       Business: Snack or brunch / Economy: No meal                  0   \n5822                                   Economy: No meal                  0   \n\n      seats_cabin_business  seats_cabin_coach departure_date  \\\n0                       12                 58        2020-05   \n1                       12                 64        2020-05   \n2                       12                 64        2020-05   \n3                       12                 58        2020-05   \n4                       12                 64        2020-05   \n...                    ...                ...            ...   \n5818                    12                114        2020-05   \n5819                     0                175        2020-05   \n5820                    12                114        2020-05   \n5821                    12                114        2020-05   \n5822                     0                175        2020-05   \n\n     future_departures destination_IATA origin_IATA  \n0              2021-05            [ORD]       [YUL]  \n1              2021-05            [ORD]       [YUL]  \n2              2021-05            [ORD]       [YUL]  \n3              2021-05            [ORD]       [YUL]  \n4              2021-05            [ORD]       [YUL]  \n...                ...              ...         ...  \n5818           2021-05            [PDX]       [DEN]  \n5819           2021-05            [PDX]       [DEN]  \n5820           2021-05            [PDX]       [DEN]  \n5821           2021-05            [PDX]       [DEN]  \n5822           2021-05            [PDX]       [DEN]  \n\n[5823 rows x 16 columns]"
     },
     "execution_count": 264,
     "metadata": {},
     "output_type": "execute_result"
    }
   ],
   "source": [
    "flight_schedules"
   ]
  },
  {
   "cell_type": "code",
   "execution_count": 265,
   "metadata": {},
   "outputs": [],
   "source": [
    "flight_schedules['destination_IATA'] = [ls[0] for ls in flight_schedules['destination_IATA']]"
   ]
  },
  {
   "cell_type": "code",
   "execution_count": 266,
   "metadata": {},
   "outputs": [],
   "source": [
    "flight_schedules['origin_IATA'] = [ls[0] for ls in flight_schedules['origin_IATA']]"
   ]
  },
  {
   "cell_type": "code",
   "execution_count": 267,
   "metadata": {},
   "outputs": [
    {
     "data": {
      "text/plain": "str"
     },
     "execution_count": 267,
     "metadata": {},
     "output_type": "execute_result"
    }
   ],
   "source": [
    "type(flight_schedules.loc[0, 'future_departures'])"
   ]
  },
  {
   "cell_type": "markdown",
   "metadata": {},
   "source": [
    "# API playground"
   ]
  },
  {
   "cell_type": "markdown",
   "metadata": {},
   "source": [
    "## Testing Quotes"
   ]
  },
  {
   "cell_type": "markdown",
   "metadata": {},
   "source": [
    "__Quotes Inputs:__\n",
    "\n",
    "- Country (Required)\n",
    "\n",
    "- Currency (Required)\n",
    "\n",
    "- Locale (Required)\n",
    "\n",
    "- originplace (Required)\n",
    "\n",
    "- destinationplace (Required)\n",
    "\n",
    "- outboundpartialdate (Required)\n",
    "\n",
    "- inboundpartialdate (Optional)"
   ]
  },
  {
   "cell_type": "code",
   "execution_count": 268,
   "metadata": {},
   "outputs": [],
   "source": [
    "def get_prices(country, currency, locale, flight_data):\n",
    "    start_time = time.time() #epoch start time\n",
    "    output_list = []\n",
    "    count = 0\n",
    "\n",
    "\n",
    "    for k in range(len(flight_data['origin'])):\n",
    "        url = f\"https://skyscanner-skyscanner-flight-search-v1.p.rapidapi.com/apiservices/browsequotes/v1.0/{country}/{currency}/{locale}/{flight_data.loc[k,'origin_IATA']}-sky/{flight_data.loc[k, 'destination_IATA']}-sky/{flight_data.loc[k, 'future_departures']}\"\n",
    "\n",
    "        querystring = {\"inboundpartialdate\":\"anytime\"}\n",
    "\n",
    "        headers = {\n",
    "            'x-rapidapi-host': host_name,\n",
    "            'x-rapidapi-key': apiKey\n",
    "        }\n",
    "\n",
    "        response = requests.get(url = url, headers=headers, params=querystring)\n",
    "        print(f\"Getting the data for: (Origin: {flight_data.loc[k,'origin_IATA']}), (Destination: {flight_data.loc[k, 'destination_IATA']}), (For Date: {flight_data.loc[k, 'future_departures']}) \")\n",
    "        json_response = response.json()\n",
    "        output_list.append(json_response)\n",
    "        count = count + 1\n",
    "        if count <= 48:\n",
    "            continue\n",
    "        else:\n",
    "            print(\"Approaching request limit. Sleeping for 60 seconds....\")\n",
    "            print(f\"The request count index you are at is: {k}\")\n",
    "            print(f\"The size of the data file you are requesting off of is: {len(flight_data)} \")\n",
    "            print(f\"This search is {(k/len(flight_data)) * 100} percent complete.\")\n",
    "            print(f\"Elapsed time is: {time.time() - start_time} seconds.\")\n",
    "            time.sleep(60)\n",
    "            print(\"Conducting another request batch.\")\n",
    "            \n",
    "            count = 0\n",
    "    print(f\"Elapsed time of process is: {time.time() - start_time}\")\n",
    "    print(f\"The start time was: {start_time}\")\n",
    "    print(f\"The end time is: {time.time()}\")\n",
    "    return pd.DataFrame(output_list)\n",
    "        \n"
   ]
  },
  {
   "cell_type": "code",
   "execution_count": 253,
   "metadata": {},
   "outputs": [],
   "source": [
    "short_schedules = flight_schedules[0:50]"
   ]
  },
  {
   "cell_type": "code",
   "execution_count": 269,
   "metadata": {},
   "outputs": [
    {
     "data": {
      "text/html": "<div>\n<style scoped>\n    .dataframe tbody tr th:only-of-type {\n        vertical-align: middle;\n    }\n\n    .dataframe tbody tr th {\n        vertical-align: top;\n    }\n\n    .dataframe thead th {\n        text-align: right;\n    }\n</style>\n<table border=\"1\" class=\"dataframe\">\n  <thead>\n    <tr style=\"text-align: right;\">\n      <th></th>\n      <th>Unnamed: 0</th>\n      <th>ident</th>\n      <th>actual_ident</th>\n      <th>departuretime</th>\n      <th>arrival_time</th>\n      <th>origin</th>\n      <th>destination</th>\n      <th>aircrafttype</th>\n      <th>meal_service</th>\n      <th>seats_cabin_first</th>\n      <th>seats_cabin_business</th>\n      <th>seats_cabin_coach</th>\n      <th>departure_date</th>\n      <th>future_departures</th>\n      <th>destination_IATA</th>\n      <th>origin_IATA</th>\n    </tr>\n  </thead>\n  <tbody>\n    <tr>\n      <td>0</td>\n      <td>0</td>\n      <td>UAL4282</td>\n      <td>ASQ4282</td>\n      <td>1588330800</td>\n      <td>1588340820</td>\n      <td>CYUL</td>\n      <td>KORD</td>\n      <td>E75L</td>\n      <td>Business: Refreshments / Economy: Food for sale</td>\n      <td>0</td>\n      <td>12</td>\n      <td>58</td>\n      <td>2020-05</td>\n      <td>2021-05</td>\n      <td>ORD</td>\n      <td>YUL</td>\n    </tr>\n    <tr>\n      <td>1</td>\n      <td>1</td>\n      <td>ACA7591</td>\n      <td>AC27591</td>\n      <td>1588335000</td>\n      <td>1588343880</td>\n      <td>CYUL</td>\n      <td>KORD</td>\n      <td>E75L</td>\n      <td>Business: Breakfast / Economy: Breakfast, Food...</td>\n      <td>0</td>\n      <td>12</td>\n      <td>64</td>\n      <td>2020-05</td>\n      <td>2021-05</td>\n      <td>ORD</td>\n      <td>YUL</td>\n    </tr>\n    <tr>\n      <td>2</td>\n      <td>2</td>\n      <td>UAL8371</td>\n      <td>AC27591</td>\n      <td>1588335000</td>\n      <td>1588343880</td>\n      <td>CYUL</td>\n      <td>KORD</td>\n      <td>E75L</td>\n      <td>Business: Breakfast / Economy: Food for sale</td>\n      <td>0</td>\n      <td>12</td>\n      <td>64</td>\n      <td>2020-05</td>\n      <td>2021-05</td>\n      <td>ORD</td>\n      <td>YUL</td>\n    </tr>\n    <tr>\n      <td>3</td>\n      <td>3</td>\n      <td>UAL4245</td>\n      <td>ASQ4245</td>\n      <td>1588341060</td>\n      <td>1588351080</td>\n      <td>CYUL</td>\n      <td>KORD</td>\n      <td>E75L</td>\n      <td>Business: Refreshments / Economy: Food for sale</td>\n      <td>0</td>\n      <td>12</td>\n      <td>58</td>\n      <td>2020-05</td>\n      <td>2021-05</td>\n      <td>ORD</td>\n      <td>YUL</td>\n    </tr>\n    <tr>\n      <td>4</td>\n      <td>4</td>\n      <td>UAL8481</td>\n      <td>AC27595</td>\n      <td>1588353300</td>\n      <td>1588362000</td>\n      <td>CYUL</td>\n      <td>KORD</td>\n      <td>E75L</td>\n      <td>Business: Meal / Economy: Food for sale</td>\n      <td>0</td>\n      <td>12</td>\n      <td>64</td>\n      <td>2020-05</td>\n      <td>2021-05</td>\n      <td>ORD</td>\n      <td>YUL</td>\n    </tr>\n    <tr>\n      <td>...</td>\n      <td>...</td>\n      <td>...</td>\n      <td>...</td>\n      <td>...</td>\n      <td>...</td>\n      <td>...</td>\n      <td>...</td>\n      <td>...</td>\n      <td>...</td>\n      <td>...</td>\n      <td>...</td>\n      <td>...</td>\n      <td>...</td>\n      <td>...</td>\n      <td>...</td>\n      <td>...</td>\n    </tr>\n    <tr>\n      <td>5818</td>\n      <td>5818</td>\n      <td>UAL464</td>\n      <td>NaN</td>\n      <td>1590514200</td>\n      <td>1590523860</td>\n      <td>KDEN</td>\n      <td>KPDX</td>\n      <td>A319</td>\n      <td>Business: Snack or brunch / Economy: No meal</td>\n      <td>0</td>\n      <td>12</td>\n      <td>114</td>\n      <td>2020-05</td>\n      <td>2021-05</td>\n      <td>PDX</td>\n      <td>DEN</td>\n    </tr>\n    <tr>\n      <td>5819</td>\n      <td>5819</td>\n      <td>SWA378</td>\n      <td>NaN</td>\n      <td>1590520500</td>\n      <td>1590529500</td>\n      <td>KDEN</td>\n      <td>KPDX</td>\n      <td>B738</td>\n      <td>Economy: No meal</td>\n      <td>0</td>\n      <td>0</td>\n      <td>175</td>\n      <td>2020-05</td>\n      <td>2021-05</td>\n      <td>PDX</td>\n      <td>DEN</td>\n    </tr>\n    <tr>\n      <td>5820</td>\n      <td>5820</td>\n      <td>DLH9070</td>\n      <td>UAL393</td>\n      <td>1590539460</td>\n      <td>1590549120</td>\n      <td>KDEN</td>\n      <td>KPDX</td>\n      <td>A319</td>\n      <td>Business: Snack or brunch / Economy: No meal</td>\n      <td>0</td>\n      <td>12</td>\n      <td>114</td>\n      <td>2020-05</td>\n      <td>2021-05</td>\n      <td>PDX</td>\n      <td>DEN</td>\n    </tr>\n    <tr>\n      <td>5821</td>\n      <td>5821</td>\n      <td>UAL393</td>\n      <td>NaN</td>\n      <td>1590539460</td>\n      <td>1590549120</td>\n      <td>KDEN</td>\n      <td>KPDX</td>\n      <td>A319</td>\n      <td>Business: Snack or brunch / Economy: No meal</td>\n      <td>0</td>\n      <td>12</td>\n      <td>114</td>\n      <td>2020-05</td>\n      <td>2021-05</td>\n      <td>PDX</td>\n      <td>DEN</td>\n    </tr>\n    <tr>\n      <td>5822</td>\n      <td>5822</td>\n      <td>SWA993</td>\n      <td>NaN</td>\n      <td>1590544800</td>\n      <td>1590554400</td>\n      <td>KDEN</td>\n      <td>KPDX</td>\n      <td>B738</td>\n      <td>Economy: No meal</td>\n      <td>0</td>\n      <td>0</td>\n      <td>175</td>\n      <td>2020-05</td>\n      <td>2021-05</td>\n      <td>PDX</td>\n      <td>DEN</td>\n    </tr>\n  </tbody>\n</table>\n<p>5823 rows × 16 columns</p>\n</div>",
      "text/plain": "      Unnamed: 0    ident actual_ident  departuretime  arrival_time origin  \\\n0              0  UAL4282      ASQ4282     1588330800    1588340820   CYUL   \n1              1  ACA7591      AC27591     1588335000    1588343880   CYUL   \n2              2  UAL8371      AC27591     1588335000    1588343880   CYUL   \n3              3  UAL4245      ASQ4245     1588341060    1588351080   CYUL   \n4              4  UAL8481      AC27595     1588353300    1588362000   CYUL   \n...          ...      ...          ...            ...           ...    ...   \n5818        5818   UAL464          NaN     1590514200    1590523860   KDEN   \n5819        5819   SWA378          NaN     1590520500    1590529500   KDEN   \n5820        5820  DLH9070       UAL393     1590539460    1590549120   KDEN   \n5821        5821   UAL393          NaN     1590539460    1590549120   KDEN   \n5822        5822   SWA993          NaN     1590544800    1590554400   KDEN   \n\n     destination aircrafttype  \\\n0           KORD         E75L   \n1           KORD         E75L   \n2           KORD         E75L   \n3           KORD         E75L   \n4           KORD         E75L   \n...          ...          ...   \n5818        KPDX         A319   \n5819        KPDX         B738   \n5820        KPDX         A319   \n5821        KPDX         A319   \n5822        KPDX         B738   \n\n                                           meal_service  seats_cabin_first  \\\n0       Business: Refreshments / Economy: Food for sale                  0   \n1     Business: Breakfast / Economy: Breakfast, Food...                  0   \n2          Business: Breakfast / Economy: Food for sale                  0   \n3       Business: Refreshments / Economy: Food for sale                  0   \n4               Business: Meal / Economy: Food for sale                  0   \n...                                                 ...                ...   \n5818       Business: Snack or brunch / Economy: No meal                  0   \n5819                                   Economy: No meal                  0   \n5820       Business: Snack or brunch / Economy: No meal                  0   \n5821       Business: Snack or brunch / Economy: No meal                  0   \n5822                                   Economy: No meal                  0   \n\n      seats_cabin_business  seats_cabin_coach departure_date  \\\n0                       12                 58        2020-05   \n1                       12                 64        2020-05   \n2                       12                 64        2020-05   \n3                       12                 58        2020-05   \n4                       12                 64        2020-05   \n...                    ...                ...            ...   \n5818                    12                114        2020-05   \n5819                     0                175        2020-05   \n5820                    12                114        2020-05   \n5821                    12                114        2020-05   \n5822                     0                175        2020-05   \n\n     future_departures destination_IATA origin_IATA  \n0              2021-05              ORD         YUL  \n1              2021-05              ORD         YUL  \n2              2021-05              ORD         YUL  \n3              2021-05              ORD         YUL  \n4              2021-05              ORD         YUL  \n...                ...              ...         ...  \n5818           2021-05              PDX         DEN  \n5819           2021-05              PDX         DEN  \n5820           2021-05              PDX         DEN  \n5821           2021-05              PDX         DEN  \n5822           2021-05              PDX         DEN  \n\n[5823 rows x 16 columns]"
     },
     "execution_count": 269,
     "metadata": {},
     "output_type": "execute_result"
    }
   ],
   "source": [
    "flight_schedules"
   ]
  },
  {
   "cell_type": "code",
   "execution_count": 270,
   "metadata": {},
   "outputs": [
    {
     "data": {
      "text/plain": "5823"
     },
     "execution_count": 270,
     "metadata": {},
     "output_type": "execute_result"
    }
   ],
   "source": [
    "len(flight_schedules)"
   ]
  },
  {
   "cell_type": "code",
   "execution_count": 271,
   "metadata": {},
   "outputs": [
    {
     "name": "stdout",
     "output_type": "stream",
     "text": "equest count index you are at is: 5585\nThe size of the data file you are requesting off of is: 5823 \nThis search is 95.91275974583549 percent complete.\nElapsed time is: 10226.420287132263 seconds.\nConducting another request batch.\nGetting the data for: (Origin: BOS), (Destination: MIA), (For Date: 2021-05) \nGetting the data for: (Origin: BOS), (Destination: MIA), (For Date: 2021-05) \nGetting the data for: (Origin: BOS), (Destination: MIA), (For Date: 2021-05) \nGetting the data for: (Origin: BOS), (Destination: MIA), (For Date: 2021-05) \nGetting the data for: (Origin: BOS), (Destination: MIA), (For Date: 2021-05) \nGetting the data for: (Origin: BOS), (Destination: MIA), (For Date: 2021-05) \nGetting the data for: (Origin: BOS), (Destination: MIA), (For Date: 2021-05) \nGetting the data for: (Origin: BOS), (Destination: MIA), (For Date: 2021-05) \nGetting the data for: (Origin: BOS), (Destination: MIA), (For Date: 2021-05) \nGetting the data for: (Origin: BOS), (Destination: MIA), (For Date: 2021-05) \nGetting the data for: (Origin: BOS), (Destination: MIA), (For Date: 2021-05) \nGetting the data for: (Origin: BOS), (Destination: MIA), (For Date: 2021-05) \nGetting the data for: (Origin: BOS), (Destination: MIA), (For Date: 2021-05) \nGetting the data for: (Origin: BOS), (Destination: MIA), (For Date: 2021-05) \nGetting the data for: (Origin: BOS), (Destination: MIA), (For Date: 2021-05) \nGetting the data for: (Origin: BOS), (Destination: MIA), (For Date: 2021-05) \nGetting the data for: (Origin: BOS), (Destination: MIA), (For Date: 2021-05) \nGetting the data for: (Origin: BOS), (Destination: MIA), (For Date: 2021-05) \nGetting the data for: (Origin: BOS), (Destination: MIA), (For Date: 2021-05) \nGetting the data for: (Origin: BOS), (Destination: MIA), (For Date: 2021-05) \nGetting the data for: (Origin: BOS), (Destination: MIA), (For Date: 2021-05) \nGetting the data for: (Origin: BOS), (Destination: MIA), (For Date: 2021-05) \nGetting the data for: (Origin: BOS), (Destination: MIA), (For Date: 2021-05) \nGetting the data for: (Origin: BOS), (Destination: MIA), (For Date: 2021-05) \nGetting the data for: (Origin: BOS), (Destination: MIA), (For Date: 2021-05) \nGetting the data for: (Origin: BOS), (Destination: MIA), (For Date: 2021-05) \nGetting the data for: (Origin: BOS), (Destination: MIA), (For Date: 2021-05) \nGetting the data for: (Origin: BOS), (Destination: MIA), (For Date: 2021-05) \nGetting the data for: (Origin: BUR), (Destination: PDX), (For Date: 2021-05) \nGetting the data for: (Origin: BUR), (Destination: PDX), (For Date: 2021-05) \nGetting the data for: (Origin: BUR), (Destination: PDX), (For Date: 2021-05) \nGetting the data for: (Origin: BUR), (Destination: PDX), (For Date: 2021-05) \nGetting the data for: (Origin: BUR), (Destination: PDX), (For Date: 2021-05) \nGetting the data for: (Origin: BUR), (Destination: PDX), (For Date: 2021-05) \nGetting the data for: (Origin: BUR), (Destination: PDX), (For Date: 2021-05) \nGetting the data for: (Origin: BUR), (Destination: PDX), (For Date: 2021-05) \nGetting the data for: (Origin: BUR), (Destination: PDX), (For Date: 2021-05) \nGetting the data for: (Origin: BUR), (Destination: PDX), (For Date: 2021-05) \nGetting the data for: (Origin: BUR), (Destination: PDX), (For Date: 2021-05) \nGetting the data for: (Origin: BUR), (Destination: PDX), (For Date: 2021-05) \nGetting the data for: (Origin: BUR), (Destination: PDX), (For Date: 2021-05) \nGetting the data for: (Origin: BUR), (Destination: PDX), (For Date: 2021-05) \nGetting the data for: (Origin: BUR), (Destination: PDX), (For Date: 2021-05) \nGetting the data for: (Origin: BUR), (Destination: PDX), (For Date: 2021-05) \nGetting the data for: (Origin: BUR), (Destination: PDX), (For Date: 2021-05) \nGetting the data for: (Origin: BUR), (Destination: PDX), (For Date: 2021-05) \nGetting the data for: (Origin: BUR), (Destination: PDX), (For Date: 2021-05) \nGetting the data for: (Origin: BUR), (Destination: PDX), (For Date: 2021-05) \nGetting the data for: (Origin: BUR), (Destination: PDX), (For Date: 2021-05) \nApproaching request limit. Sleeping for 60 seconds....\nThe request count index you are at is: 5634\nThe size of the data file you are requesting off of is: 5823 \nThis search is 96.75425038639877 percent complete.\nElapsed time is: 10312.784207105637 seconds.\nConducting another request batch.\nGetting the data for: (Origin: BUR), (Destination: PDX), (For Date: 2021-05) \nGetting the data for: (Origin: BUR), (Destination: PDX), (For Date: 2021-05) \nGetting the data for: (Origin: BUR), (Destination: PDX), (For Date: 2021-05) \nGetting the data for: (Origin: BUR), (Destination: PDX), (For Date: 2021-05) \nGetting the data for: (Origin: BUR), (Destination: PDX), (For Date: 2021-05) \nGetting the data for: (Origin: BUR), (Destination: PDX), (For Date: 2021-05) \nGetting the data for: (Origin: BUR), (Destination: PDX), (For Date: 2021-05) \nGetting the data for: (Origin: BUR), (Destination: PDX), (For Date: 2021-05) \nGetting the data for: (Origin: BUR), (Destination: PDX), (For Date: 2021-05) \nGetting the data for: (Origin: BUR), (Destination: PDX), (For Date: 2021-05) \nGetting the data for: (Origin: BUR), (Destination: PDX), (For Date: 2021-05) \nGetting the data for: (Origin: BUR), (Destination: PDX), (For Date: 2021-05) \nGetting the data for: (Origin: BUR), (Destination: PDX), (For Date: 2021-05) \nGetting the data for: (Origin: BUR), (Destination: PDX), (For Date: 2021-05) \nGetting the data for: (Origin: BUR), (Destination: PDX), (For Date: 2021-05) \nGetting the data for: (Origin: BUR), (Destination: PDX), (For Date: 2021-05) \nGetting the data for: (Origin: BUR), (Destination: PDX), (For Date: 2021-05) \nGetting the data for: (Origin: BUR), (Destination: PDX), (For Date: 2021-05) \nGetting the data for: (Origin: BUR), (Destination: PDX), (For Date: 2021-05) \nGetting the data for: (Origin: BUR), (Destination: PDX), (For Date: 2021-05) \nGetting the data for: (Origin: BUR), (Destination: PDX), (For Date: 2021-05) \nGetting the data for: (Origin: BUR), (Destination: PDX), (For Date: 2021-05) \nGetting the data for: (Origin: BUR), (Destination: PDX), (For Date: 2021-05) \nGetting the data for: (Origin: BUR), (Destination: PDX), (For Date: 2021-05) \nGetting the data for: (Origin: BUR), (Destination: PDX), (For Date: 2021-05) \nGetting the data for: (Origin: BUR), (Destination: PDX), (For Date: 2021-05) \nGetting the data for: (Origin: BUR), (Destination: PDX), (For Date: 2021-05) \nGetting the data for: (Origin: BUR), (Destination: PDX), (For Date: 2021-05) \nGetting the data for: (Origin: BUR), (Destination: PDX), (For Date: 2021-05) \nGetting the data for: (Origin: BUR), (Destination: PDX), (For Date: 2021-05) \nGetting the data for: (Origin: BUR), (Destination: PDX), (For Date: 2021-05) \nGetting the data for: (Origin: DEN), (Destination: PDX), (For Date: 2021-05) \nGetting the data for: (Origin: DEN), (Destination: PDX), (For Date: 2021-05) \nGetting the data for: (Origin: DEN), (Destination: PDX), (For Date: 2021-05) \nGetting the data for: (Origin: DEN), (Destination: PDX), (For Date: 2021-05) \nGetting the data for: (Origin: DEN), (Destination: PDX), (For Date: 2021-05) \nGetting the data for: (Origin: DEN), (Destination: PDX), (For Date: 2021-05) \nGetting the data for: (Origin: DEN), (Destination: PDX), (For Date: 2021-05) \nGetting the data for: (Origin: DEN), (Destination: PDX), (For Date: 2021-05) \nGetting the data for: (Origin: DEN), (Destination: PDX), (For Date: 2021-05) \nGetting the data for: (Origin: DEN), (Destination: PDX), (For Date: 2021-05) \nGetting the data for: (Origin: DEN), (Destination: PDX), (For Date: 2021-05) \nGetting the data for: (Origin: DEN), (Destination: PDX), (For Date: 2021-05) \nGetting the data for: (Origin: DEN), (Destination: PDX), (For Date: 2021-05) \nGetting the data for: (Origin: DEN), (Destination: PDX), (For Date: 2021-05) \nGetting the data for: (Origin: DEN), (Destination: PDX), (For Date: 2021-05) \nGetting the data for: (Origin: DEN), (Destination: PDX), (For Date: 2021-05) \nGetting the data for: (Origin: DEN), (Destination: PDX), (For Date: 2021-05) \nGetting the data for: (Origin: DEN), (Destination: PDX), (For Date: 2021-05) \nApproaching request limit. Sleeping for 60 seconds....\nThe request count index you are at is: 5683\nThe size of the data file you are requesting off of is: 5823 \nThis search is 97.59574102696205 percent complete.\nElapsed time is: 10403.473278045654 seconds.\nConducting another request batch.\nGetting the data for: (Origin: DEN), (Destination: PDX), (For Date: 2021-05) \nGetting the data for: (Origin: DEN), (Destination: PDX), (For Date: 2021-05) \nGetting the data for: (Origin: DEN), (Destination: PDX), (For Date: 2021-05) \nGetting the data for: (Origin: DEN), (Destination: PDX), (For Date: 2021-05) \nGetting the data for: (Origin: DEN), (Destination: PDX), (For Date: 2021-05) \nGetting the data for: (Origin: DEN), (Destination: PDX), (For Date: 2021-05) \nGetting the data for: (Origin: DEN), (Destination: PDX), (For Date: 2021-05) \nGetting the data for: (Origin: DEN), (Destination: PDX), (For Date: 2021-05) \nGetting the data for: (Origin: DEN), (Destination: PDX), (For Date: 2021-05) \nGetting the data for: (Origin: DEN), (Destination: PDX), (For Date: 2021-05) \nGetting the data for: (Origin: DEN), (Destination: PDX), (For Date: 2021-05) \nGetting the data for: (Origin: DEN), (Destination: PDX), (For Date: 2021-05) \nGetting the data for: (Origin: DEN), (Destination: PDX), (For Date: 2021-05) \nGetting the data for: (Origin: DEN), (Destination: PDX), (For Date: 2021-05) \nGetting the data for: (Origin: DEN), (Destination: PDX), (For Date: 2021-05) \nGetting the data for: (Origin: DEN), (Destination: PDX), (For Date: 2021-05) \nGetting the data for: (Origin: DEN), (Destination: PDX), (For Date: 2021-05) \nGetting the data for: (Origin: DEN), (Destination: PDX), (For Date: 2021-05) \nGetting the data for: (Origin: DEN), (Destination: PDX), (For Date: 2021-05) \nGetting the data for: (Origin: DEN), (Destination: PDX), (For Date: 2021-05) \nGetting the data for: (Origin: DEN), (Destination: PDX), (For Date: 2021-05) \nGetting the data for: (Origin: DEN), (Destination: PDX), (For Date: 2021-05) \nGetting the data for: (Origin: DEN), (Destination: PDX), (For Date: 2021-05) \nGetting the data for: (Origin: DEN), (Destination: PDX), (For Date: 2021-05) \nGetting the data for: (Origin: DEN), (Destination: PDX), (For Date: 2021-05) \nGetting the data for: (Origin: DEN), (Destination: PDX), (For Date: 2021-05) \nGetting the data for: (Origin: DEN), (Destination: PDX), (For Date: 2021-05) \nGetting the data for: (Origin: DEN), (Destination: PDX), (For Date: 2021-05) \nGetting the data for: (Origin: DEN), (Destination: PDX), (For Date: 2021-05) \nGetting the data for: (Origin: DEN), (Destination: PDX), (For Date: 2021-05) \nGetting the data for: (Origin: DEN), (Destination: PDX), (For Date: 2021-05) \nGetting the data for: (Origin: DEN), (Destination: PDX), (For Date: 2021-05) \nGetting the data for: (Origin: DEN), (Destination: PDX), (For Date: 2021-05) \nGetting the data for: (Origin: DEN), (Destination: PDX), (For Date: 2021-05) \nGetting the data for: (Origin: DEN), (Destination: PDX), (For Date: 2021-05) \nGetting the data for: (Origin: DEN), (Destination: PDX), (For Date: 2021-05) \nGetting the data for: (Origin: DEN), (Destination: PDX), (For Date: 2021-05) \nGetting the data for: (Origin: DEN), (Destination: PDX), (For Date: 2021-05) \nGetting the data for: (Origin: DEN), (Destination: PDX), (For Date: 2021-05) \nGetting the data for: (Origin: DEN), (Destination: PDX), (For Date: 2021-05) \nGetting the data for: (Origin: DEN), (Destination: PDX), (For Date: 2021-05) \nGetting the data for: (Origin: DEN), (Destination: PDX), (For Date: 2021-05) \nGetting the data for: (Origin: DEN), (Destination: PDX), (For Date: 2021-05) \nGetting the data for: (Origin: DEN), (Destination: PDX), (For Date: 2021-05) \nGetting the data for: (Origin: DEN), (Destination: PDX), (For Date: 2021-05) \nGetting the data for: (Origin: DEN), (Destination: PDX), (For Date: 2021-05) \nGetting the data for: (Origin: DEN), (Destination: PDX), (For Date: 2021-05) \nGetting the data for: (Origin: DEN), (Destination: PDX), (For Date: 2021-05) \nGetting the data for: (Origin: DEN), (Destination: PDX), (For Date: 2021-05) \nApproaching request limit. Sleeping for 60 seconds....\nThe request count index you are at is: 5732\nThe size of the data file you are requesting off of is: 5823 \nThis search is 98.43723166752532 percent complete.\nElapsed time is: 10490.636706113815 seconds.\nConducting another request batch.\nGetting the data for: (Origin: DEN), (Destination: PDX), (For Date: 2021-05) \nGetting the data for: (Origin: DEN), (Destination: PDX), (For Date: 2021-05) \nGetting the data for: (Origin: DEN), (Destination: PDX), (For Date: 2021-05) \nGetting the data for: (Origin: DEN), (Destination: PDX), (For Date: 2021-05) \nGetting the data for: (Origin: DEN), (Destination: PDX), (For Date: 2021-05) \nGetting the data for: (Origin: DEN), (Destination: PDX), (For Date: 2021-05) \nGetting the data for: (Origin: DEN), (Destination: PDX), (For Date: 2021-05) \nGetting the data for: (Origin: DEN), (Destination: PDX), (For Date: 2021-05) \nGetting the data for: (Origin: DEN), (Destination: PDX), (For Date: 2021-05) \nGetting the data for: (Origin: DEN), (Destination: PDX), (For Date: 2021-05) \nGetting the data for: (Origin: DEN), (Destination: PDX), (For Date: 2021-05) \nGetting the data for: (Origin: DEN), (Destination: PDX), (For Date: 2021-05) \nGetting the data for: (Origin: DEN), (Destination: PDX), (For Date: 2021-05) \nGetting the data for: (Origin: DEN), (Destination: PDX), (For Date: 2021-05) \nGetting the data for: (Origin: DEN), (Destination: PDX), (For Date: 2021-05) \nGetting the data for: (Origin: DEN), (Destination: PDX), (For Date: 2021-05) \nGetting the data for: (Origin: DEN), (Destination: PDX), (For Date: 2021-05) \nGetting the data for: (Origin: DEN), (Destination: PDX), (For Date: 2021-05) \nGetting the data for: (Origin: DEN), (Destination: PDX), (For Date: 2021-05) \nGetting the data for: (Origin: DEN), (Destination: PDX), (For Date: 2021-05) \nGetting the data for: (Origin: DEN), (Destination: PDX), (For Date: 2021-05) \nGetting the data for: (Origin: DEN), (Destination: PDX), (For Date: 2021-05) \nGetting the data for: (Origin: DEN), (Destination: PDX), (For Date: 2021-05) \nGetting the data for: (Origin: DEN), (Destination: PDX), (For Date: 2021-05) \nGetting the data for: (Origin: DEN), (Destination: PDX), (For Date: 2021-05) \nGetting the data for: (Origin: DEN), (Destination: PDX), (For Date: 2021-05) \nGetting the data for: (Origin: DEN), (Destination: PDX), (For Date: 2021-05) \nGetting the data for: (Origin: DEN), (Destination: PDX), (For Date: 2021-05) \nGetting the data for: (Origin: DEN), (Destination: PDX), (For Date: 2021-05) \nGetting the data for: (Origin: DEN), (Destination: PDX), (For Date: 2021-05) \nGetting the data for: (Origin: DEN), (Destination: PDX), (For Date: 2021-05) \nGetting the data for: (Origin: DEN), (Destination: PDX), (For Date: 2021-05) \nGetting the data for: (Origin: DEN), (Destination: PDX), (For Date: 2021-05) \nGetting the data for: (Origin: DEN), (Destination: PDX), (For Date: 2021-05) \nGetting the data for: (Origin: DEN), (Destination: PDX), (For Date: 2021-05) \nGetting the data for: (Origin: DEN), (Destination: PDX), (For Date: 2021-05) \nGetting the data for: (Origin: DEN), (Destination: PDX), (For Date: 2021-05) \nGetting the data for: (Origin: DEN), (Destination: PDX), (For Date: 2021-05) \nGetting the data for: (Origin: DEN), (Destination: PDX), (For Date: 2021-05) \nGetting the data for: (Origin: DEN), (Destination: PDX), (For Date: 2021-05) \nGetting the data for: (Origin: DEN), (Destination: PDX), (For Date: 2021-05) \nGetting the data for: (Origin: DEN), (Destination: PDX), (For Date: 2021-05) \nGetting the data for: (Origin: DEN), (Destination: PDX), (For Date: 2021-05) \nGetting the data for: (Origin: DEN), (Destination: PDX), (For Date: 2021-05) \nGetting the data for: (Origin: DEN), (Destination: PDX), (For Date: 2021-05) \nGetting the data for: (Origin: DEN), (Destination: PDX), (For Date: 2021-05) \nGetting the data for: (Origin: DEN), (Destination: PDX), (For Date: 2021-05) \nGetting the data for: (Origin: DEN), (Destination: PDX), (For Date: 2021-05) \nGetting the data for: (Origin: DEN), (Destination: PDX), (For Date: 2021-05) \nApproaching request limit. Sleeping for 60 seconds....\nThe request count index you are at is: 5781\nThe size of the data file you are requesting off of is: 5823 \nThis search is 99.27872230808862 percent complete.\nElapsed time is: 10580.629451990128 seconds.\nConducting another request batch.\nGetting the data for: (Origin: DEN), (Destination: PDX), (For Date: 2021-05) \nGetting the data for: (Origin: DEN), (Destination: PDX), (For Date: 2021-05) \nGetting the data for: (Origin: DEN), (Destination: PDX), (For Date: 2021-05) \nGetting the data for: (Origin: DEN), (Destination: PDX), (For Date: 2021-05) \nGetting the data for: (Origin: DEN), (Destination: PDX), (For Date: 2021-05) \nGetting the data for: (Origin: DEN), (Destination: PDX), (For Date: 2021-05) \nGetting the data for: (Origin: DEN), (Destination: PDX), (For Date: 2021-05) \nGetting the data for: (Origin: DEN), (Destination: PDX), (For Date: 2021-05) \nGetting the data for: (Origin: DEN), (Destination: PDX), (For Date: 2021-05) \nGetting the data for: (Origin: DEN), (Destination: PDX), (For Date: 2021-05) \nGetting the data for: (Origin: DEN), (Destination: PDX), (For Date: 2021-05) \nGetting the data for: (Origin: DEN), (Destination: PDX), (For Date: 2021-05) \nGetting the data for: (Origin: DEN), (Destination: PDX), (For Date: 2021-05) \nGetting the data for: (Origin: DEN), (Destination: PDX), (For Date: 2021-05) \nGetting the data for: (Origin: DEN), (Destination: PDX), (For Date: 2021-05) \nGetting the data for: (Origin: DEN), (Destination: PDX), (For Date: 2021-05) \nGetting the data for: (Origin: DEN), (Destination: PDX), (For Date: 2021-05) \nGetting the data for: (Origin: DEN), (Destination: PDX), (For Date: 2021-05) \nGetting the data for: (Origin: DEN), (Destination: PDX), (For Date: 2021-05) \nGetting the data for: (Origin: DEN), (Destination: PDX), (For Date: 2021-05) \nGetting the data for: (Origin: DEN), (Destination: PDX), (For Date: 2021-05) \nGetting the data for: (Origin: DEN), (Destination: PDX), (For Date: 2021-05) \nGetting the data for: (Origin: DEN), (Destination: PDX), (For Date: 2021-05) \nGetting the data for: (Origin: DEN), (Destination: PDX), (For Date: 2021-05) \nGetting the data for: (Origin: DEN), (Destination: PDX), (For Date: 2021-05) \nGetting the data for: (Origin: DEN), (Destination: PDX), (For Date: 2021-05) \nGetting the data for: (Origin: DEN), (Destination: PDX), (For Date: 2021-05) \nGetting the data for: (Origin: DEN), (Destination: PDX), (For Date: 2021-05) \nGetting the data for: (Origin: DEN), (Destination: PDX), (For Date: 2021-05) \nGetting the data for: (Origin: DEN), (Destination: PDX), (For Date: 2021-05) \nGetting the data for: (Origin: DEN), (Destination: PDX), (For Date: 2021-05) \nGetting the data for: (Origin: DEN), (Destination: PDX), (For Date: 2021-05) \nGetting the data for: (Origin: DEN), (Destination: PDX), (For Date: 2021-05) \nGetting the data for: (Origin: DEN), (Destination: PDX), (For Date: 2021-05) \nGetting the data for: (Origin: DEN), (Destination: PDX), (For Date: 2021-05) \nGetting the data for: (Origin: DEN), (Destination: PDX), (For Date: 2021-05) \nGetting the data for: (Origin: DEN), (Destination: PDX), (For Date: 2021-05) \nGetting the data for: (Origin: DEN), (Destination: PDX), (For Date: 2021-05) \nGetting the data for: (Origin: DEN), (Destination: PDX), (For Date: 2021-05) \nGetting the data for: (Origin: DEN), (Destination: PDX), (For Date: 2021-05) \nGetting the data for: (Origin: DEN), (Destination: PDX), (For Date: 2021-05) \nElapsed time of process is: 10665.725900173187\nThe start time was: 1590954588.282045\nThe end time is: 1590965254.00798\n"
    }
   ],
   "source": [
    "test_list = get_prices('US', 'USD', 'en-US', flight_schedules)"
   ]
  },
  {
   "cell_type": "code",
   "execution_count": 276,
   "metadata": {},
   "outputs": [],
   "source": [
    "test_list.to_csv('../data/may_pricing_per_flight.csv')"
   ]
  },
  {
   "cell_type": "code",
   "execution_count": 251,
   "metadata": {},
   "outputs": [
    {
     "data": {
      "text/html": "<div>\n<style scoped>\n    .dataframe tbody tr th:only-of-type {\n        vertical-align: middle;\n    }\n\n    .dataframe tbody tr th {\n        vertical-align: top;\n    }\n\n    .dataframe thead th {\n        text-align: right;\n    }\n</style>\n<table border=\"1\" class=\"dataframe\">\n  <thead>\n    <tr style=\"text-align: right;\">\n      <th></th>\n      <th>Quotes</th>\n      <th>Places</th>\n      <th>Carriers</th>\n      <th>Currencies</th>\n    </tr>\n  </thead>\n  <tbody>\n    <tr>\n      <td>0</td>\n      <td>[{'QuoteId': 1, 'MinPrice': 175.0, 'Direct': T...</td>\n      <td>[{'PlaceId': 73076, 'IataCode': 'ORD', 'Name':...</td>\n      <td>[{'CarrierId': 835, 'Name': 'Air Canada'}]</td>\n      <td>[{'Code': 'USD', 'Symbol': '$', 'ThousandsSepa...</td>\n    </tr>\n    <tr>\n      <td>1</td>\n      <td>[{'QuoteId': 1, 'MinPrice': 175.0, 'Direct': T...</td>\n      <td>[{'PlaceId': 73076, 'IataCode': 'ORD', 'Name':...</td>\n      <td>[{'CarrierId': 835, 'Name': 'Air Canada'}]</td>\n      <td>[{'Code': 'USD', 'Symbol': '$', 'ThousandsSepa...</td>\n    </tr>\n    <tr>\n      <td>2</td>\n      <td>[{'QuoteId': 1, 'MinPrice': 175.0, 'Direct': T...</td>\n      <td>[{'PlaceId': 73076, 'IataCode': 'ORD', 'Name':...</td>\n      <td>[{'CarrierId': 835, 'Name': 'Air Canada'}]</td>\n      <td>[{'Code': 'USD', 'Symbol': '$', 'ThousandsSepa...</td>\n    </tr>\n    <tr>\n      <td>3</td>\n      <td>[{'QuoteId': 1, 'MinPrice': 175.0, 'Direct': T...</td>\n      <td>[{'PlaceId': 73076, 'IataCode': 'ORD', 'Name':...</td>\n      <td>[{'CarrierId': 835, 'Name': 'Air Canada'}]</td>\n      <td>[{'Code': 'USD', 'Symbol': '$', 'ThousandsSepa...</td>\n    </tr>\n    <tr>\n      <td>4</td>\n      <td>[{'QuoteId': 1, 'MinPrice': 175.0, 'Direct': T...</td>\n      <td>[{'PlaceId': 73076, 'IataCode': 'ORD', 'Name':...</td>\n      <td>[{'CarrierId': 835, 'Name': 'Air Canada'}]</td>\n      <td>[{'Code': 'USD', 'Symbol': '$', 'ThousandsSepa...</td>\n    </tr>\n    <tr>\n      <td>5</td>\n      <td>[{'QuoteId': 1, 'MinPrice': 175.0, 'Direct': T...</td>\n      <td>[{'PlaceId': 73076, 'IataCode': 'ORD', 'Name':...</td>\n      <td>[{'CarrierId': 835, 'Name': 'Air Canada'}]</td>\n      <td>[{'Code': 'USD', 'Symbol': '$', 'ThousandsSepa...</td>\n    </tr>\n    <tr>\n      <td>6</td>\n      <td>[{'QuoteId': 1, 'MinPrice': 175.0, 'Direct': T...</td>\n      <td>[{'PlaceId': 73076, 'IataCode': 'ORD', 'Name':...</td>\n      <td>[{'CarrierId': 835, 'Name': 'Air Canada'}]</td>\n      <td>[{'Code': 'USD', 'Symbol': '$', 'ThousandsSepa...</td>\n    </tr>\n    <tr>\n      <td>7</td>\n      <td>[{'QuoteId': 1, 'MinPrice': 175.0, 'Direct': T...</td>\n      <td>[{'PlaceId': 73076, 'IataCode': 'ORD', 'Name':...</td>\n      <td>[{'CarrierId': 835, 'Name': 'Air Canada'}]</td>\n      <td>[{'Code': 'USD', 'Symbol': '$', 'ThousandsSepa...</td>\n    </tr>\n    <tr>\n      <td>8</td>\n      <td>[{'QuoteId': 1, 'MinPrice': 175.0, 'Direct': T...</td>\n      <td>[{'PlaceId': 73076, 'IataCode': 'ORD', 'Name':...</td>\n      <td>[{'CarrierId': 835, 'Name': 'Air Canada'}]</td>\n      <td>[{'Code': 'USD', 'Symbol': '$', 'ThousandsSepa...</td>\n    </tr>\n    <tr>\n      <td>9</td>\n      <td>[{'QuoteId': 1, 'MinPrice': 175.0, 'Direct': T...</td>\n      <td>[{'PlaceId': 73076, 'IataCode': 'ORD', 'Name':...</td>\n      <td>[{'CarrierId': 835, 'Name': 'Air Canada'}]</td>\n      <td>[{'Code': 'USD', 'Symbol': '$', 'ThousandsSepa...</td>\n    </tr>\n    <tr>\n      <td>10</td>\n      <td>[{'QuoteId': 1, 'MinPrice': 175.0, 'Direct': T...</td>\n      <td>[{'PlaceId': 73076, 'IataCode': 'ORD', 'Name':...</td>\n      <td>[{'CarrierId': 835, 'Name': 'Air Canada'}]</td>\n      <td>[{'Code': 'USD', 'Symbol': '$', 'ThousandsSepa...</td>\n    </tr>\n    <tr>\n      <td>11</td>\n      <td>[{'QuoteId': 1, 'MinPrice': 175.0, 'Direct': T...</td>\n      <td>[{'PlaceId': 73076, 'IataCode': 'ORD', 'Name':...</td>\n      <td>[{'CarrierId': 835, 'Name': 'Air Canada'}]</td>\n      <td>[{'Code': 'USD', 'Symbol': '$', 'ThousandsSepa...</td>\n    </tr>\n    <tr>\n      <td>12</td>\n      <td>[{'QuoteId': 1, 'MinPrice': 175.0, 'Direct': T...</td>\n      <td>[{'PlaceId': 73076, 'IataCode': 'ORD', 'Name':...</td>\n      <td>[{'CarrierId': 835, 'Name': 'Air Canada'}]</td>\n      <td>[{'Code': 'USD', 'Symbol': '$', 'ThousandsSepa...</td>\n    </tr>\n    <tr>\n      <td>13</td>\n      <td>[{'QuoteId': 1, 'MinPrice': 175.0, 'Direct': T...</td>\n      <td>[{'PlaceId': 73076, 'IataCode': 'ORD', 'Name':...</td>\n      <td>[{'CarrierId': 835, 'Name': 'Air Canada'}]</td>\n      <td>[{'Code': 'USD', 'Symbol': '$', 'ThousandsSepa...</td>\n    </tr>\n    <tr>\n      <td>14</td>\n      <td>[{'QuoteId': 1, 'MinPrice': 175.0, 'Direct': T...</td>\n      <td>[{'PlaceId': 73076, 'IataCode': 'ORD', 'Name':...</td>\n      <td>[{'CarrierId': 835, 'Name': 'Air Canada'}]</td>\n      <td>[{'Code': 'USD', 'Symbol': '$', 'ThousandsSepa...</td>\n    </tr>\n    <tr>\n      <td>15</td>\n      <td>[{'QuoteId': 1, 'MinPrice': 175.0, 'Direct': T...</td>\n      <td>[{'PlaceId': 73076, 'IataCode': 'ORD', 'Name':...</td>\n      <td>[{'CarrierId': 835, 'Name': 'Air Canada'}]</td>\n      <td>[{'Code': 'USD', 'Symbol': '$', 'ThousandsSepa...</td>\n    </tr>\n    <tr>\n      <td>16</td>\n      <td>[{'QuoteId': 1, 'MinPrice': 175.0, 'Direct': T...</td>\n      <td>[{'PlaceId': 73076, 'IataCode': 'ORD', 'Name':...</td>\n      <td>[{'CarrierId': 835, 'Name': 'Air Canada'}]</td>\n      <td>[{'Code': 'USD', 'Symbol': '$', 'ThousandsSepa...</td>\n    </tr>\n    <tr>\n      <td>17</td>\n      <td>[{'QuoteId': 1, 'MinPrice': 175.0, 'Direct': T...</td>\n      <td>[{'PlaceId': 73076, 'IataCode': 'ORD', 'Name':...</td>\n      <td>[{'CarrierId': 835, 'Name': 'Air Canada'}]</td>\n      <td>[{'Code': 'USD', 'Symbol': '$', 'ThousandsSepa...</td>\n    </tr>\n    <tr>\n      <td>18</td>\n      <td>[{'QuoteId': 1, 'MinPrice': 175.0, 'Direct': T...</td>\n      <td>[{'PlaceId': 73076, 'IataCode': 'ORD', 'Name':...</td>\n      <td>[{'CarrierId': 835, 'Name': 'Air Canada'}]</td>\n      <td>[{'Code': 'USD', 'Symbol': '$', 'ThousandsSepa...</td>\n    </tr>\n    <tr>\n      <td>19</td>\n      <td>[{'QuoteId': 1, 'MinPrice': 175.0, 'Direct': T...</td>\n      <td>[{'PlaceId': 73076, 'IataCode': 'ORD', 'Name':...</td>\n      <td>[{'CarrierId': 835, 'Name': 'Air Canada'}]</td>\n      <td>[{'Code': 'USD', 'Symbol': '$', 'ThousandsSepa...</td>\n    </tr>\n    <tr>\n      <td>20</td>\n      <td>[{'QuoteId': 1, 'MinPrice': 175.0, 'Direct': T...</td>\n      <td>[{'PlaceId': 73076, 'IataCode': 'ORD', 'Name':...</td>\n      <td>[{'CarrierId': 835, 'Name': 'Air Canada'}]</td>\n      <td>[{'Code': 'USD', 'Symbol': '$', 'ThousandsSepa...</td>\n    </tr>\n    <tr>\n      <td>21</td>\n      <td>[{'QuoteId': 1, 'MinPrice': 175.0, 'Direct': T...</td>\n      <td>[{'PlaceId': 73076, 'IataCode': 'ORD', 'Name':...</td>\n      <td>[{'CarrierId': 835, 'Name': 'Air Canada'}]</td>\n      <td>[{'Code': 'USD', 'Symbol': '$', 'ThousandsSepa...</td>\n    </tr>\n    <tr>\n      <td>22</td>\n      <td>[{'QuoteId': 1, 'MinPrice': 175.0, 'Direct': T...</td>\n      <td>[{'PlaceId': 73076, 'IataCode': 'ORD', 'Name':...</td>\n      <td>[{'CarrierId': 835, 'Name': 'Air Canada'}]</td>\n      <td>[{'Code': 'USD', 'Symbol': '$', 'ThousandsSepa...</td>\n    </tr>\n    <tr>\n      <td>23</td>\n      <td>[{'QuoteId': 1, 'MinPrice': 175.0, 'Direct': T...</td>\n      <td>[{'PlaceId': 73076, 'IataCode': 'ORD', 'Name':...</td>\n      <td>[{'CarrierId': 835, 'Name': 'Air Canada'}]</td>\n      <td>[{'Code': 'USD', 'Symbol': '$', 'ThousandsSepa...</td>\n    </tr>\n    <tr>\n      <td>24</td>\n      <td>[{'QuoteId': 1, 'MinPrice': 175.0, 'Direct': T...</td>\n      <td>[{'PlaceId': 73076, 'IataCode': 'ORD', 'Name':...</td>\n      <td>[{'CarrierId': 835, 'Name': 'Air Canada'}]</td>\n      <td>[{'Code': 'USD', 'Symbol': '$', 'ThousandsSepa...</td>\n    </tr>\n    <tr>\n      <td>25</td>\n      <td>[{'QuoteId': 1, 'MinPrice': 175.0, 'Direct': T...</td>\n      <td>[{'PlaceId': 73076, 'IataCode': 'ORD', 'Name':...</td>\n      <td>[{'CarrierId': 835, 'Name': 'Air Canada'}]</td>\n      <td>[{'Code': 'USD', 'Symbol': '$', 'ThousandsSepa...</td>\n    </tr>\n    <tr>\n      <td>26</td>\n      <td>[{'QuoteId': 1, 'MinPrice': 175.0, 'Direct': T...</td>\n      <td>[{'PlaceId': 73076, 'IataCode': 'ORD', 'Name':...</td>\n      <td>[{'CarrierId': 835, 'Name': 'Air Canada'}]</td>\n      <td>[{'Code': 'USD', 'Symbol': '$', 'ThousandsSepa...</td>\n    </tr>\n    <tr>\n      <td>27</td>\n      <td>[{'QuoteId': 1, 'MinPrice': 175.0, 'Direct': T...</td>\n      <td>[{'PlaceId': 73076, 'IataCode': 'ORD', 'Name':...</td>\n      <td>[{'CarrierId': 835, 'Name': 'Air Canada'}]</td>\n      <td>[{'Code': 'USD', 'Symbol': '$', 'ThousandsSepa...</td>\n    </tr>\n    <tr>\n      <td>28</td>\n      <td>[{'QuoteId': 1, 'MinPrice': 175.0, 'Direct': T...</td>\n      <td>[{'PlaceId': 73076, 'IataCode': 'ORD', 'Name':...</td>\n      <td>[{'CarrierId': 835, 'Name': 'Air Canada'}]</td>\n      <td>[{'Code': 'USD', 'Symbol': '$', 'ThousandsSepa...</td>\n    </tr>\n    <tr>\n      <td>29</td>\n      <td>[{'QuoteId': 1, 'MinPrice': 175.0, 'Direct': T...</td>\n      <td>[{'PlaceId': 73076, 'IataCode': 'ORD', 'Name':...</td>\n      <td>[{'CarrierId': 835, 'Name': 'Air Canada'}]</td>\n      <td>[{'Code': 'USD', 'Symbol': '$', 'ThousandsSepa...</td>\n    </tr>\n    <tr>\n      <td>30</td>\n      <td>[{'QuoteId': 1, 'MinPrice': 175.0, 'Direct': T...</td>\n      <td>[{'PlaceId': 73076, 'IataCode': 'ORD', 'Name':...</td>\n      <td>[{'CarrierId': 835, 'Name': 'Air Canada'}]</td>\n      <td>[{'Code': 'USD', 'Symbol': '$', 'ThousandsSepa...</td>\n    </tr>\n    <tr>\n      <td>31</td>\n      <td>[{'QuoteId': 1, 'MinPrice': 175.0, 'Direct': T...</td>\n      <td>[{'PlaceId': 73076, 'IataCode': 'ORD', 'Name':...</td>\n      <td>[{'CarrierId': 835, 'Name': 'Air Canada'}]</td>\n      <td>[{'Code': 'USD', 'Symbol': '$', 'ThousandsSepa...</td>\n    </tr>\n    <tr>\n      <td>32</td>\n      <td>[{'QuoteId': 1, 'MinPrice': 175.0, 'Direct': T...</td>\n      <td>[{'PlaceId': 73076, 'IataCode': 'ORD', 'Name':...</td>\n      <td>[{'CarrierId': 835, 'Name': 'Air Canada'}]</td>\n      <td>[{'Code': 'USD', 'Symbol': '$', 'ThousandsSepa...</td>\n    </tr>\n    <tr>\n      <td>33</td>\n      <td>[{'QuoteId': 1, 'MinPrice': 175.0, 'Direct': T...</td>\n      <td>[{'PlaceId': 73076, 'IataCode': 'ORD', 'Name':...</td>\n      <td>[{'CarrierId': 835, 'Name': 'Air Canada'}]</td>\n      <td>[{'Code': 'USD', 'Symbol': '$', 'ThousandsSepa...</td>\n    </tr>\n    <tr>\n      <td>34</td>\n      <td>[{'QuoteId': 1, 'MinPrice': 175.0, 'Direct': T...</td>\n      <td>[{'PlaceId': 73076, 'IataCode': 'ORD', 'Name':...</td>\n      <td>[{'CarrierId': 835, 'Name': 'Air Canada'}]</td>\n      <td>[{'Code': 'USD', 'Symbol': '$', 'ThousandsSepa...</td>\n    </tr>\n    <tr>\n      <td>35</td>\n      <td>[{'QuoteId': 1, 'MinPrice': 175.0, 'Direct': T...</td>\n      <td>[{'PlaceId': 73076, 'IataCode': 'ORD', 'Name':...</td>\n      <td>[{'CarrierId': 835, 'Name': 'Air Canada'}]</td>\n      <td>[{'Code': 'USD', 'Symbol': '$', 'ThousandsSepa...</td>\n    </tr>\n    <tr>\n      <td>36</td>\n      <td>[{'QuoteId': 1, 'MinPrice': 175.0, 'Direct': T...</td>\n      <td>[{'PlaceId': 73076, 'IataCode': 'ORD', 'Name':...</td>\n      <td>[{'CarrierId': 835, 'Name': 'Air Canada'}]</td>\n      <td>[{'Code': 'USD', 'Symbol': '$', 'ThousandsSepa...</td>\n    </tr>\n    <tr>\n      <td>37</td>\n      <td>[{'QuoteId': 1, 'MinPrice': 175.0, 'Direct': T...</td>\n      <td>[{'PlaceId': 73076, 'IataCode': 'ORD', 'Name':...</td>\n      <td>[{'CarrierId': 835, 'Name': 'Air Canada'}]</td>\n      <td>[{'Code': 'USD', 'Symbol': '$', 'ThousandsSepa...</td>\n    </tr>\n    <tr>\n      <td>38</td>\n      <td>[{'QuoteId': 1, 'MinPrice': 175.0, 'Direct': T...</td>\n      <td>[{'PlaceId': 73076, 'IataCode': 'ORD', 'Name':...</td>\n      <td>[{'CarrierId': 835, 'Name': 'Air Canada'}]</td>\n      <td>[{'Code': 'USD', 'Symbol': '$', 'ThousandsSepa...</td>\n    </tr>\n    <tr>\n      <td>39</td>\n      <td>[{'QuoteId': 1, 'MinPrice': 175.0, 'Direct': T...</td>\n      <td>[{'PlaceId': 73076, 'IataCode': 'ORD', 'Name':...</td>\n      <td>[{'CarrierId': 835, 'Name': 'Air Canada'}]</td>\n      <td>[{'Code': 'USD', 'Symbol': '$', 'ThousandsSepa...</td>\n    </tr>\n    <tr>\n      <td>40</td>\n      <td>[{'QuoteId': 1, 'MinPrice': 175.0, 'Direct': T...</td>\n      <td>[{'PlaceId': 73076, 'IataCode': 'ORD', 'Name':...</td>\n      <td>[{'CarrierId': 835, 'Name': 'Air Canada'}]</td>\n      <td>[{'Code': 'USD', 'Symbol': '$', 'ThousandsSepa...</td>\n    </tr>\n    <tr>\n      <td>41</td>\n      <td>[{'QuoteId': 1, 'MinPrice': 175.0, 'Direct': T...</td>\n      <td>[{'PlaceId': 73076, 'IataCode': 'ORD', 'Name':...</td>\n      <td>[{'CarrierId': 835, 'Name': 'Air Canada'}]</td>\n      <td>[{'Code': 'USD', 'Symbol': '$', 'ThousandsSepa...</td>\n    </tr>\n    <tr>\n      <td>42</td>\n      <td>[{'QuoteId': 1, 'MinPrice': 175.0, 'Direct': T...</td>\n      <td>[{'PlaceId': 73076, 'IataCode': 'ORD', 'Name':...</td>\n      <td>[{'CarrierId': 835, 'Name': 'Air Canada'}]</td>\n      <td>[{'Code': 'USD', 'Symbol': '$', 'ThousandsSepa...</td>\n    </tr>\n    <tr>\n      <td>43</td>\n      <td>[{'QuoteId': 1, 'MinPrice': 175.0, 'Direct': T...</td>\n      <td>[{'PlaceId': 73076, 'IataCode': 'ORD', 'Name':...</td>\n      <td>[{'CarrierId': 835, 'Name': 'Air Canada'}]</td>\n      <td>[{'Code': 'USD', 'Symbol': '$', 'ThousandsSepa...</td>\n    </tr>\n    <tr>\n      <td>44</td>\n      <td>[{'QuoteId': 1, 'MinPrice': 175.0, 'Direct': T...</td>\n      <td>[{'PlaceId': 73076, 'IataCode': 'ORD', 'Name':...</td>\n      <td>[{'CarrierId': 835, 'Name': 'Air Canada'}]</td>\n      <td>[{'Code': 'USD', 'Symbol': '$', 'ThousandsSepa...</td>\n    </tr>\n    <tr>\n      <td>45</td>\n      <td>[{'QuoteId': 1, 'MinPrice': 175.0, 'Direct': T...</td>\n      <td>[{'PlaceId': 73076, 'IataCode': 'ORD', 'Name':...</td>\n      <td>[{'CarrierId': 835, 'Name': 'Air Canada'}]</td>\n      <td>[{'Code': 'USD', 'Symbol': '$', 'ThousandsSepa...</td>\n    </tr>\n    <tr>\n      <td>46</td>\n      <td>[{'QuoteId': 1, 'MinPrice': 175.0, 'Direct': T...</td>\n      <td>[{'PlaceId': 73076, 'IataCode': 'ORD', 'Name':...</td>\n      <td>[{'CarrierId': 835, 'Name': 'Air Canada'}]</td>\n      <td>[{'Code': 'USD', 'Symbol': '$', 'ThousandsSepa...</td>\n    </tr>\n    <tr>\n      <td>47</td>\n      <td>[{'QuoteId': 1, 'MinPrice': 175.0, 'Direct': T...</td>\n      <td>[{'PlaceId': 73076, 'IataCode': 'ORD', 'Name':...</td>\n      <td>[{'CarrierId': 835, 'Name': 'Air Canada'}]</td>\n      <td>[{'Code': 'USD', 'Symbol': '$', 'ThousandsSepa...</td>\n    </tr>\n    <tr>\n      <td>48</td>\n      <td>[{'QuoteId': 1, 'MinPrice': 175.0, 'Direct': T...</td>\n      <td>[{'PlaceId': 73076, 'IataCode': 'ORD', 'Name':...</td>\n      <td>[{'CarrierId': 835, 'Name': 'Air Canada'}]</td>\n      <td>[{'Code': 'USD', 'Symbol': '$', 'ThousandsSepa...</td>\n    </tr>\n    <tr>\n      <td>49</td>\n      <td>[{'QuoteId': 1, 'MinPrice': 175.0, 'Direct': T...</td>\n      <td>[{'PlaceId': 73076, 'IataCode': 'ORD', 'Name':...</td>\n      <td>[{'CarrierId': 835, 'Name': 'Air Canada'}]</td>\n      <td>[{'Code': 'USD', 'Symbol': '$', 'ThousandsSepa...</td>\n    </tr>\n  </tbody>\n</table>\n</div>",
      "text/plain": "                                               Quotes  \\\n0   [{'QuoteId': 1, 'MinPrice': 175.0, 'Direct': T...   \n1   [{'QuoteId': 1, 'MinPrice': 175.0, 'Direct': T...   \n2   [{'QuoteId': 1, 'MinPrice': 175.0, 'Direct': T...   \n3   [{'QuoteId': 1, 'MinPrice': 175.0, 'Direct': T...   \n4   [{'QuoteId': 1, 'MinPrice': 175.0, 'Direct': T...   \n5   [{'QuoteId': 1, 'MinPrice': 175.0, 'Direct': T...   \n6   [{'QuoteId': 1, 'MinPrice': 175.0, 'Direct': T...   \n7   [{'QuoteId': 1, 'MinPrice': 175.0, 'Direct': T...   \n8   [{'QuoteId': 1, 'MinPrice': 175.0, 'Direct': T...   \n9   [{'QuoteId': 1, 'MinPrice': 175.0, 'Direct': T...   \n10  [{'QuoteId': 1, 'MinPrice': 175.0, 'Direct': T...   \n11  [{'QuoteId': 1, 'MinPrice': 175.0, 'Direct': T...   \n12  [{'QuoteId': 1, 'MinPrice': 175.0, 'Direct': T...   \n13  [{'QuoteId': 1, 'MinPrice': 175.0, 'Direct': T...   \n14  [{'QuoteId': 1, 'MinPrice': 175.0, 'Direct': T...   \n15  [{'QuoteId': 1, 'MinPrice': 175.0, 'Direct': T...   \n16  [{'QuoteId': 1, 'MinPrice': 175.0, 'Direct': T...   \n17  [{'QuoteId': 1, 'MinPrice': 175.0, 'Direct': T...   \n18  [{'QuoteId': 1, 'MinPrice': 175.0, 'Direct': T...   \n19  [{'QuoteId': 1, 'MinPrice': 175.0, 'Direct': T...   \n20  [{'QuoteId': 1, 'MinPrice': 175.0, 'Direct': T...   \n21  [{'QuoteId': 1, 'MinPrice': 175.0, 'Direct': T...   \n22  [{'QuoteId': 1, 'MinPrice': 175.0, 'Direct': T...   \n23  [{'QuoteId': 1, 'MinPrice': 175.0, 'Direct': T...   \n24  [{'QuoteId': 1, 'MinPrice': 175.0, 'Direct': T...   \n25  [{'QuoteId': 1, 'MinPrice': 175.0, 'Direct': T...   \n26  [{'QuoteId': 1, 'MinPrice': 175.0, 'Direct': T...   \n27  [{'QuoteId': 1, 'MinPrice': 175.0, 'Direct': T...   \n28  [{'QuoteId': 1, 'MinPrice': 175.0, 'Direct': T...   \n29  [{'QuoteId': 1, 'MinPrice': 175.0, 'Direct': T...   \n30  [{'QuoteId': 1, 'MinPrice': 175.0, 'Direct': T...   \n31  [{'QuoteId': 1, 'MinPrice': 175.0, 'Direct': T...   \n32  [{'QuoteId': 1, 'MinPrice': 175.0, 'Direct': T...   \n33  [{'QuoteId': 1, 'MinPrice': 175.0, 'Direct': T...   \n34  [{'QuoteId': 1, 'MinPrice': 175.0, 'Direct': T...   \n35  [{'QuoteId': 1, 'MinPrice': 175.0, 'Direct': T...   \n36  [{'QuoteId': 1, 'MinPrice': 175.0, 'Direct': T...   \n37  [{'QuoteId': 1, 'MinPrice': 175.0, 'Direct': T...   \n38  [{'QuoteId': 1, 'MinPrice': 175.0, 'Direct': T...   \n39  [{'QuoteId': 1, 'MinPrice': 175.0, 'Direct': T...   \n40  [{'QuoteId': 1, 'MinPrice': 175.0, 'Direct': T...   \n41  [{'QuoteId': 1, 'MinPrice': 175.0, 'Direct': T...   \n42  [{'QuoteId': 1, 'MinPrice': 175.0, 'Direct': T...   \n43  [{'QuoteId': 1, 'MinPrice': 175.0, 'Direct': T...   \n44  [{'QuoteId': 1, 'MinPrice': 175.0, 'Direct': T...   \n45  [{'QuoteId': 1, 'MinPrice': 175.0, 'Direct': T...   \n46  [{'QuoteId': 1, 'MinPrice': 175.0, 'Direct': T...   \n47  [{'QuoteId': 1, 'MinPrice': 175.0, 'Direct': T...   \n48  [{'QuoteId': 1, 'MinPrice': 175.0, 'Direct': T...   \n49  [{'QuoteId': 1, 'MinPrice': 175.0, 'Direct': T...   \n\n                                               Places  \\\n0   [{'PlaceId': 73076, 'IataCode': 'ORD', 'Name':...   \n1   [{'PlaceId': 73076, 'IataCode': 'ORD', 'Name':...   \n2   [{'PlaceId': 73076, 'IataCode': 'ORD', 'Name':...   \n3   [{'PlaceId': 73076, 'IataCode': 'ORD', 'Name':...   \n4   [{'PlaceId': 73076, 'IataCode': 'ORD', 'Name':...   \n5   [{'PlaceId': 73076, 'IataCode': 'ORD', 'Name':...   \n6   [{'PlaceId': 73076, 'IataCode': 'ORD', 'Name':...   \n7   [{'PlaceId': 73076, 'IataCode': 'ORD', 'Name':...   \n8   [{'PlaceId': 73076, 'IataCode': 'ORD', 'Name':...   \n9   [{'PlaceId': 73076, 'IataCode': 'ORD', 'Name':...   \n10  [{'PlaceId': 73076, 'IataCode': 'ORD', 'Name':...   \n11  [{'PlaceId': 73076, 'IataCode': 'ORD', 'Name':...   \n12  [{'PlaceId': 73076, 'IataCode': 'ORD', 'Name':...   \n13  [{'PlaceId': 73076, 'IataCode': 'ORD', 'Name':...   \n14  [{'PlaceId': 73076, 'IataCode': 'ORD', 'Name':...   \n15  [{'PlaceId': 73076, 'IataCode': 'ORD', 'Name':...   \n16  [{'PlaceId': 73076, 'IataCode': 'ORD', 'Name':...   \n17  [{'PlaceId': 73076, 'IataCode': 'ORD', 'Name':...   \n18  [{'PlaceId': 73076, 'IataCode': 'ORD', 'Name':...   \n19  [{'PlaceId': 73076, 'IataCode': 'ORD', 'Name':...   \n20  [{'PlaceId': 73076, 'IataCode': 'ORD', 'Name':...   \n21  [{'PlaceId': 73076, 'IataCode': 'ORD', 'Name':...   \n22  [{'PlaceId': 73076, 'IataCode': 'ORD', 'Name':...   \n23  [{'PlaceId': 73076, 'IataCode': 'ORD', 'Name':...   \n24  [{'PlaceId': 73076, 'IataCode': 'ORD', 'Name':...   \n25  [{'PlaceId': 73076, 'IataCode': 'ORD', 'Name':...   \n26  [{'PlaceId': 73076, 'IataCode': 'ORD', 'Name':...   \n27  [{'PlaceId': 73076, 'IataCode': 'ORD', 'Name':...   \n28  [{'PlaceId': 73076, 'IataCode': 'ORD', 'Name':...   \n29  [{'PlaceId': 73076, 'IataCode': 'ORD', 'Name':...   \n30  [{'PlaceId': 73076, 'IataCode': 'ORD', 'Name':...   \n31  [{'PlaceId': 73076, 'IataCode': 'ORD', 'Name':...   \n32  [{'PlaceId': 73076, 'IataCode': 'ORD', 'Name':...   \n33  [{'PlaceId': 73076, 'IataCode': 'ORD', 'Name':...   \n34  [{'PlaceId': 73076, 'IataCode': 'ORD', 'Name':...   \n35  [{'PlaceId': 73076, 'IataCode': 'ORD', 'Name':...   \n36  [{'PlaceId': 73076, 'IataCode': 'ORD', 'Name':...   \n37  [{'PlaceId': 73076, 'IataCode': 'ORD', 'Name':...   \n38  [{'PlaceId': 73076, 'IataCode': 'ORD', 'Name':...   \n39  [{'PlaceId': 73076, 'IataCode': 'ORD', 'Name':...   \n40  [{'PlaceId': 73076, 'IataCode': 'ORD', 'Name':...   \n41  [{'PlaceId': 73076, 'IataCode': 'ORD', 'Name':...   \n42  [{'PlaceId': 73076, 'IataCode': 'ORD', 'Name':...   \n43  [{'PlaceId': 73076, 'IataCode': 'ORD', 'Name':...   \n44  [{'PlaceId': 73076, 'IataCode': 'ORD', 'Name':...   \n45  [{'PlaceId': 73076, 'IataCode': 'ORD', 'Name':...   \n46  [{'PlaceId': 73076, 'IataCode': 'ORD', 'Name':...   \n47  [{'PlaceId': 73076, 'IataCode': 'ORD', 'Name':...   \n48  [{'PlaceId': 73076, 'IataCode': 'ORD', 'Name':...   \n49  [{'PlaceId': 73076, 'IataCode': 'ORD', 'Name':...   \n\n                                      Carriers  \\\n0   [{'CarrierId': 835, 'Name': 'Air Canada'}]   \n1   [{'CarrierId': 835, 'Name': 'Air Canada'}]   \n2   [{'CarrierId': 835, 'Name': 'Air Canada'}]   \n3   [{'CarrierId': 835, 'Name': 'Air Canada'}]   \n4   [{'CarrierId': 835, 'Name': 'Air Canada'}]   \n5   [{'CarrierId': 835, 'Name': 'Air Canada'}]   \n6   [{'CarrierId': 835, 'Name': 'Air Canada'}]   \n7   [{'CarrierId': 835, 'Name': 'Air Canada'}]   \n8   [{'CarrierId': 835, 'Name': 'Air Canada'}]   \n9   [{'CarrierId': 835, 'Name': 'Air Canada'}]   \n10  [{'CarrierId': 835, 'Name': 'Air Canada'}]   \n11  [{'CarrierId': 835, 'Name': 'Air Canada'}]   \n12  [{'CarrierId': 835, 'Name': 'Air Canada'}]   \n13  [{'CarrierId': 835, 'Name': 'Air Canada'}]   \n14  [{'CarrierId': 835, 'Name': 'Air Canada'}]   \n15  [{'CarrierId': 835, 'Name': 'Air Canada'}]   \n16  [{'CarrierId': 835, 'Name': 'Air Canada'}]   \n17  [{'CarrierId': 835, 'Name': 'Air Canada'}]   \n18  [{'CarrierId': 835, 'Name': 'Air Canada'}]   \n19  [{'CarrierId': 835, 'Name': 'Air Canada'}]   \n20  [{'CarrierId': 835, 'Name': 'Air Canada'}]   \n21  [{'CarrierId': 835, 'Name': 'Air Canada'}]   \n22  [{'CarrierId': 835, 'Name': 'Air Canada'}]   \n23  [{'CarrierId': 835, 'Name': 'Air Canada'}]   \n24  [{'CarrierId': 835, 'Name': 'Air Canada'}]   \n25  [{'CarrierId': 835, 'Name': 'Air Canada'}]   \n26  [{'CarrierId': 835, 'Name': 'Air Canada'}]   \n27  [{'CarrierId': 835, 'Name': 'Air Canada'}]   \n28  [{'CarrierId': 835, 'Name': 'Air Canada'}]   \n29  [{'CarrierId': 835, 'Name': 'Air Canada'}]   \n30  [{'CarrierId': 835, 'Name': 'Air Canada'}]   \n31  [{'CarrierId': 835, 'Name': 'Air Canada'}]   \n32  [{'CarrierId': 835, 'Name': 'Air Canada'}]   \n33  [{'CarrierId': 835, 'Name': 'Air Canada'}]   \n34  [{'CarrierId': 835, 'Name': 'Air Canada'}]   \n35  [{'CarrierId': 835, 'Name': 'Air Canada'}]   \n36  [{'CarrierId': 835, 'Name': 'Air Canada'}]   \n37  [{'CarrierId': 835, 'Name': 'Air Canada'}]   \n38  [{'CarrierId': 835, 'Name': 'Air Canada'}]   \n39  [{'CarrierId': 835, 'Name': 'Air Canada'}]   \n40  [{'CarrierId': 835, 'Name': 'Air Canada'}]   \n41  [{'CarrierId': 835, 'Name': 'Air Canada'}]   \n42  [{'CarrierId': 835, 'Name': 'Air Canada'}]   \n43  [{'CarrierId': 835, 'Name': 'Air Canada'}]   \n44  [{'CarrierId': 835, 'Name': 'Air Canada'}]   \n45  [{'CarrierId': 835, 'Name': 'Air Canada'}]   \n46  [{'CarrierId': 835, 'Name': 'Air Canada'}]   \n47  [{'CarrierId': 835, 'Name': 'Air Canada'}]   \n48  [{'CarrierId': 835, 'Name': 'Air Canada'}]   \n49  [{'CarrierId': 835, 'Name': 'Air Canada'}]   \n\n                                           Currencies  \n0   [{'Code': 'USD', 'Symbol': '$', 'ThousandsSepa...  \n1   [{'Code': 'USD', 'Symbol': '$', 'ThousandsSepa...  \n2   [{'Code': 'USD', 'Symbol': '$', 'ThousandsSepa...  \n3   [{'Code': 'USD', 'Symbol': '$', 'ThousandsSepa...  \n4   [{'Code': 'USD', 'Symbol': '$', 'ThousandsSepa...  \n5   [{'Code': 'USD', 'Symbol': '$', 'ThousandsSepa...  \n6   [{'Code': 'USD', 'Symbol': '$', 'ThousandsSepa...  \n7   [{'Code': 'USD', 'Symbol': '$', 'ThousandsSepa...  \n8   [{'Code': 'USD', 'Symbol': '$', 'ThousandsSepa...  \n9   [{'Code': 'USD', 'Symbol': '$', 'ThousandsSepa...  \n10  [{'Code': 'USD', 'Symbol': '$', 'ThousandsSepa...  \n11  [{'Code': 'USD', 'Symbol': '$', 'ThousandsSepa...  \n12  [{'Code': 'USD', 'Symbol': '$', 'ThousandsSepa...  \n13  [{'Code': 'USD', 'Symbol': '$', 'ThousandsSepa...  \n14  [{'Code': 'USD', 'Symbol': '$', 'ThousandsSepa...  \n15  [{'Code': 'USD', 'Symbol': '$', 'ThousandsSepa...  \n16  [{'Code': 'USD', 'Symbol': '$', 'ThousandsSepa...  \n17  [{'Code': 'USD', 'Symbol': '$', 'ThousandsSepa...  \n18  [{'Code': 'USD', 'Symbol': '$', 'ThousandsSepa...  \n19  [{'Code': 'USD', 'Symbol': '$', 'ThousandsSepa...  \n20  [{'Code': 'USD', 'Symbol': '$', 'ThousandsSepa...  \n21  [{'Code': 'USD', 'Symbol': '$', 'ThousandsSepa...  \n22  [{'Code': 'USD', 'Symbol': '$', 'ThousandsSepa...  \n23  [{'Code': 'USD', 'Symbol': '$', 'ThousandsSepa...  \n24  [{'Code': 'USD', 'Symbol': '$', 'ThousandsSepa...  \n25  [{'Code': 'USD', 'Symbol': '$', 'ThousandsSepa...  \n26  [{'Code': 'USD', 'Symbol': '$', 'ThousandsSepa...  \n27  [{'Code': 'USD', 'Symbol': '$', 'ThousandsSepa...  \n28  [{'Code': 'USD', 'Symbol': '$', 'ThousandsSepa...  \n29  [{'Code': 'USD', 'Symbol': '$', 'ThousandsSepa...  \n30  [{'Code': 'USD', 'Symbol': '$', 'ThousandsSepa...  \n31  [{'Code': 'USD', 'Symbol': '$', 'ThousandsSepa...  \n32  [{'Code': 'USD', 'Symbol': '$', 'ThousandsSepa...  \n33  [{'Code': 'USD', 'Symbol': '$', 'ThousandsSepa...  \n34  [{'Code': 'USD', 'Symbol': '$', 'ThousandsSepa...  \n35  [{'Code': 'USD', 'Symbol': '$', 'ThousandsSepa...  \n36  [{'Code': 'USD', 'Symbol': '$', 'ThousandsSepa...  \n37  [{'Code': 'USD', 'Symbol': '$', 'ThousandsSepa...  \n38  [{'Code': 'USD', 'Symbol': '$', 'ThousandsSepa...  \n39  [{'Code': 'USD', 'Symbol': '$', 'ThousandsSepa...  \n40  [{'Code': 'USD', 'Symbol': '$', 'ThousandsSepa...  \n41  [{'Code': 'USD', 'Symbol': '$', 'ThousandsSepa...  \n42  [{'Code': 'USD', 'Symbol': '$', 'ThousandsSepa...  \n43  [{'Code': 'USD', 'Symbol': '$', 'ThousandsSepa...  \n44  [{'Code': 'USD', 'Symbol': '$', 'ThousandsSepa...  \n45  [{'Code': 'USD', 'Symbol': '$', 'ThousandsSepa...  \n46  [{'Code': 'USD', 'Symbol': '$', 'ThousandsSepa...  \n47  [{'Code': 'USD', 'Symbol': '$', 'ThousandsSepa...  \n48  [{'Code': 'USD', 'Symbol': '$', 'ThousandsSepa...  \n49  [{'Code': 'USD', 'Symbol': '$', 'ThousandsSepa...  "
     },
     "execution_count": 251,
     "metadata": {},
     "output_type": "execute_result"
    }
   ],
   "source": [
    "test_df"
   ]
  },
  {
   "cell_type": "code",
   "execution_count": 84,
   "metadata": {},
   "outputs": [],
   "source": [
    "response_json = response.json()"
   ]
  },
  {
   "cell_type": "code",
   "execution_count": 152,
   "metadata": {},
   "outputs": [
    {
     "data": {
      "text/plain": "dict"
     },
     "execution_count": 152,
     "metadata": {},
     "output_type": "execute_result"
    }
   ],
   "source": [
    "response_json"
   ]
  },
  {
   "cell_type": "code",
   "execution_count": null,
   "metadata": {},
   "outputs": [],
   "source": []
  }
 ]
}